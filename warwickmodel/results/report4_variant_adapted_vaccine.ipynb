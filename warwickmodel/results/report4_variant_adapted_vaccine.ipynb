{
 "cells": [
  {
   "attachments": {},
   "cell_type": "markdown",
   "metadata": {},
   "source": [
    "# REPORT 4 - Variant adapted vaccine versus current vaccines\n",
    "\n",
    "In this notebook we analyse the public health impact achieved through variant adapted vaccines versus current vaccines in populations with different levels of infection- versus vaccine-induced seroprevalance. We use the `warwickmodel`, built by Universities of Warwick and Lancaster, with population data from 8 countries with very different socio-economic profiles. We assume an initial boosting campaign in the population, with no subsequent boosters being deployed during the simulation. \n",
    "\n",
    "The infection dynamics are run for:\n",
    " - Dates: **15 Feb 2020** - **25 June 2021**;\n",
    " - Countries of interest: **United Kingdom**, **France**;\n",
    " - Number of boosters deployed: **10%** of the population.\n",
    "\n",
    "*The Warwick model is built by Universities of Warwick and Lancaster.*"
   ]
  },
  {
   "cell_type": "code",
   "execution_count": 1,
   "metadata": {},
   "outputs": [],
   "source": [
    "# Load necessary libraries\n",
    "import os\n",
    "import copy\n",
    "import numpy as np\n",
    "import pandas as pd\n",
    "import scipy\n",
    "import epimodels as em\n",
    "import warwickmodel as wm\n",
    "import matplotlib\n",
    "import plotly.graph_objects as go\n",
    "from matplotlib import pyplot as plt\n",
    "from iteration_utilities import deepflatten"
   ]
  },
  {
   "cell_type": "markdown",
   "metadata": {},
   "source": [
    "## Model Setup\n",
    "### Define setup matrices for the WarwickLanc Model"
   ]
  },
  {
   "cell_type": "code",
   "execution_count": 2,
   "metadata": {},
   "outputs": [],
   "source": [
    "# Populate the model\n",
    "total_days =  150\n",
    "regions = ['United Kingdom', 'Canada', 'Brazil', 'South Africa', 'Kenya', 'Philippines', 'Sierra Leone', 'Syria']\n",
    "age_groups = ['0-4', '5-9', '10-14', '15-19', '20-24', '25-29', '30-34', '35-39',\n",
    "              '40-44', '45-49', '50-54', '55-59', '60-64', '65-69', '70-74', '75+']\n",
    "\n",
    "regimes = np.arange(1, 101, 1).tolist()\n",
    "\n",
    "# Add folder path to data file\n",
    "path = os.path.join('../data/')"
   ]
  },
  {
   "cell_type": "markdown",
   "metadata": {},
   "source": [
    "### Read in corresponding data files for the countries considered for all 100 regimes"
   ]
  },
  {
   "cell_type": "code",
   "execution_count": 3,
   "metadata": {},
   "outputs": [],
   "source": [
    "# Matrices contact\n",
    "matrices_contact = []\n",
    "matrices_region = []\n",
    "time_changes_contact = []\n",
    "time_changes_region = []\n",
    "\n",
    "# Vaccine effects\n",
    "nu_tra = []\n",
    "nu_symp = []\n",
    "nu_inf = []\n",
    "nu_sev_h = []\n",
    "nu_sev_d = []\n",
    "\n",
    "# Parameters\n",
    "omega = []\n",
    "alpha = []\n",
    "gamma = []\n",
    "tau = []\n",
    "we = []\n",
    "\n",
    "# Initial conditions\n",
    "susceptibles_IC = []\n",
    "exposed1_IC = []\n",
    "exposed2_IC = []\n",
    "exposed3_IC = []\n",
    "exposed4_IC = []\n",
    "exposed5_IC = []\n",
    "infectives_sym_IC = []\n",
    "infectives_asym_IC = []\n",
    "recovered_IC = []\n",
    "\n",
    "# Risk factors\n",
    "d = []\n",
    "beta = []\n",
    "\n",
    "# Probabilities of proceeding to severe outcomes\n",
    "pItoH = []\n",
    "pHtoD = []\n",
    "\n",
    "# Distribution of delays before proceeding to severe outcomes\n",
    "dItoH = []\n",
    "dHtoD = []\n",
    "\n",
    "for R in regimes:\n",
    "        regimes_matrices_region = []\n",
    "\n",
    "        # Initial state of the system\n",
    "        weeks_matrices_region = []\n",
    "        for r in regions:\n",
    "                region_data_matrix = pd.read_csv(\n",
    "                        os.path.join(path, '{}/Contacts_{}.csv'.format(r, R)),\n",
    "                        header=None, dtype=np.float64)\n",
    "                regional = em.RegionMatrix(r, age_groups, region_data_matrix)\n",
    "                weeks_matrices_region.append(regional)\n",
    "\n",
    "        regimes_matrices_region.append(weeks_matrices_region)\n",
    "\n",
    "        contacts = em.ContactMatrix(age_groups, np.ones((len(age_groups), len(age_groups))))\n",
    "        regimes_matrices_contact = [contacts]\n",
    "\n",
    "        matrices_region.append(regimes_matrices_region)\n",
    "        matrices_contact.append(regimes_matrices_contact)\n",
    "\n",
    "        # Matrices contact\n",
    "        time_changes_contact.append([1])\n",
    "        time_changes_region.append([1])\n",
    "\n",
    "        # Over 75 population fractions\n",
    "        frac_pop_over75 = []\n",
    "\n",
    "        for r in regions:\n",
    "                IC_df = pd.read_csv(\n",
    "                        os.path.join(path, '{}/Start_pop_{}.csv'.format(r, R)),\n",
    "                        skiprows=15,\n",
    "                        header=None, dtype=np.float64)\n",
    "\n",
    "                frac_pop_over75.append((1/np.sum(np.asarray(IC_df))) * np.sum(np.asarray(IC_df),axis=1))\n",
    "\n",
    "        # Risk Factors\n",
    "        extended_regimes_d = []\n",
    "        regimes_d = []\n",
    "        regimes_beta = []\n",
    "\n",
    "        for r, reg in enumerate(regions):\n",
    "                RF_df = pd.read_csv(\n",
    "                        os.path.join(path, '{}/Risks_{}.csv'.format(reg, R)),\n",
    "                        dtype=np.float64)\n",
    "                extended_d = RF_df['symptom_risk'].tolist()\n",
    "                extended_beta = RF_df['susceptibility'].tolist()\n",
    "\n",
    "                extended_regimes_d.append(extended_d)\n",
    "\n",
    "                regimes_d.append(extended_d[:15] + [np.sum(np.multiply(extended_d[15:], frac_pop_over75[r]))])\n",
    "                regimes_beta.append(extended_beta[:15] + [np.sum(np.multiply(extended_beta[15:], frac_pop_over75[r]))])\n",
    "\n",
    "        d.append(regimes_d)\n",
    "        beta.append(regimes_beta)\n",
    "\n",
    "        # Vaccine effects\n",
    "        eff_df = pd.read_csv(\n",
    "                os.path.join(path, 'global_parameters/efficacies_{}.csv'.format(R)),\n",
    "                usecols=range(1,5), dtype=np.float64)\n",
    "        \n",
    "        VE_i = eff_df['Infection_eff']\n",
    "        VE_s = eff_df['Symptom_eff']\n",
    "        VE_h = eff_df['Hosp_eff']\n",
    "        VE_d = eff_df['Death_eff']\n",
    "\n",
    "        VE_d = np.divide(VE_d-VE_h, 1-VE_h)\n",
    "        VE_h = np.divide(VE_h-VE_i, 1-VE_i)\n",
    "        VE_s = np.divide(VE_s-VE_i, 1-VE_i)\n",
    "\n",
    "        regimes_nu_tra = [1] * 6\n",
    "        regimes_nu_symp = np.nan_to_num(1 - VE_s).tolist()\n",
    "        regimes_nu_inf = np.nan_to_num(1 - VE_i).tolist()\n",
    "        regimes_nu_sev_h = np.nan_to_num(1 - VE_h).tolist()\n",
    "        regimes_nu_sev_d = np.nan_to_num(1 - VE_d).tolist()\n",
    "\n",
    "        nu_tra.append(regimes_nu_tra)\n",
    "        nu_symp.append(regimes_nu_symp)\n",
    "        nu_inf.append(regimes_nu_inf)\n",
    "        nu_sev_h.append(regimes_nu_sev_h)\n",
    "        nu_sev_d.append(regimes_nu_sev_d)\n",
    "\n",
    "        # Parameters\n",
    "        param_df = pd.read_csv(\n",
    "                os.path.join(path, 'global_parameters/parameters_{}.csv'.format(R)),\n",
    "                dtype=np.float64)\n",
    "\n",
    "        regimes_omega = (16.76/9 * param_df['transmission']).tolist()[0]\n",
    "        regimes_alpha = 1\n",
    "        regimes_gamma = (16.76/9 * param_df['recovery']).tolist()[0]\n",
    "        regimes_tau = param_df['asymptomatic_transmission'].tolist()[0]\n",
    "        regimes_we = [param_df['waning_rate'].tolist()[0]] * 2 + [0]\n",
    "\n",
    "        omega.append(regimes_omega)\n",
    "        alpha.append(regimes_alpha)\n",
    "        gamma.append(regimes_gamma)\n",
    "        tau.append(regimes_tau)\n",
    "        we.append(regimes_we)\n",
    "\n",
    "        # Initial conditions\n",
    "        regimes_susceptibles_IC = []\n",
    "        regimes_exposed1_IC = []\n",
    "        regimes_exposed2_IC = []\n",
    "        regimes_exposed3_IC = []\n",
    "        regimes_exposed4_IC = []\n",
    "        regimes_exposed5_IC = []\n",
    "        regimes_infectives_sym_IC = []\n",
    "        regimes_infectives_asym_IC = []\n",
    "        regimes_recovered_IC = []\n",
    "\n",
    "        # Susceptible\n",
    "        for r in regions:\n",
    "                IC_df = pd.read_csv(\n",
    "                        os.path.join(path, '{}/Start_pop_{}.csv'.format(r, R)),\n",
    "                        usecols=range(0, 5),\n",
    "                        header=None, dtype=np.float64)\n",
    "\n",
    "                extended_S = np.asarray(IC_df)\n",
    "                under_75_S = extended_S[:15, :]\n",
    "                over_75_S = extended_S[15:, :]\n",
    "                reduced_S = np.vstack((under_75_S, np.sum(over_75_S, axis=0)))\n",
    "                regimes_susceptibles_IC.append(\n",
    "                        reduced_S.flatten('F').tolist() + [0] * len(age_groups))\n",
    "\n",
    "        # Exposed 1\n",
    "        for r in regions:\n",
    "                IC_df = pd.read_csv(\n",
    "                        os.path.join(path, '{}/Start_pop_{}.csv'.format(r, R)),\n",
    "                        usecols=range(5, 10),\n",
    "                        header=None, dtype=np.float64)\n",
    "\n",
    "                extended_E1 = np.asarray(IC_df)\n",
    "                under_75_E1 = extended_E1[:15, :]\n",
    "                over_75_E1 = extended_E1[15:, :]\n",
    "                reduced_E1 = np.vstack((under_75_E1, np.sum(over_75_E1, axis=0)))\n",
    "                regimes_exposed1_IC.append(\n",
    "                        reduced_E1.flatten('F').tolist() + [0] * len(age_groups))\n",
    "\n",
    "        # Exposed 2\n",
    "        for r in regions:\n",
    "                IC_df = pd.read_csv(\n",
    "                        os.path.join(path, '{}/Start_pop_{}.csv'.format(r, R)),\n",
    "                        usecols=range(10, 15),\n",
    "                        header=None, dtype=np.float64)\n",
    "\n",
    "                extended_E2 = np.asarray(IC_df)\n",
    "                under_75_E2 = extended_E2[:15, :]\n",
    "                over_75_E2 = extended_E2[15:, :]\n",
    "                reduced_E2 = np.vstack((under_75_E2, np.sum(over_75_E2, axis=0)))\n",
    "                regimes_exposed2_IC.append(\n",
    "                        reduced_E2.flatten('F').tolist() + [0] * len(age_groups))\n",
    "\n",
    "        # Exposed 3\n",
    "        for r in regions:\n",
    "                IC_df = pd.read_csv(\n",
    "                        os.path.join(path, '{}/Start_pop_{}.csv'.format(r, R)),\n",
    "                        usecols=range(15, 20),\n",
    "                        header=None, dtype=np.float64)\n",
    "\n",
    "                extended_E3 = np.asarray(IC_df)\n",
    "                under_75_E3 = extended_E3[:15, :]\n",
    "                over_75_E3 = extended_E3[15:, :]\n",
    "                reduced_E3 = np.vstack((under_75_E3, np.sum(over_75_E3, axis=0)))\n",
    "                regimes_exposed3_IC.append(\n",
    "                        reduced_E3.flatten('F').tolist() + [0] * len(age_groups))\n",
    "\n",
    "        # Exposed 4\n",
    "        for r in regions:\n",
    "                IC_df = pd.read_csv(\n",
    "                        os.path.join(path, '{}/Start_pop_{}.csv'.format(r, R)),\n",
    "                        usecols=range(20, 25),\n",
    "                        header=None, dtype=np.float64)\n",
    "\n",
    "                extended_E4 = np.asarray(IC_df)\n",
    "                under_75_E4 = extended_E4[:15, :]\n",
    "                over_75_E4 = extended_E4[15:, :]\n",
    "                reduced_E4 = np.vstack((under_75_E4, np.sum(over_75_E4, axis=0)))\n",
    "                regimes_exposed4_IC.append(\n",
    "                        reduced_E4.flatten('F').tolist() + [0] * len(age_groups))\n",
    "\n",
    "        # Exposed 5\n",
    "        for r in regions:\n",
    "                IC_df = pd.read_csv(\n",
    "                        os.path.join(path, '{}/Start_pop_{}.csv'.format(r, R)),\n",
    "                        usecols=range(25, 30),\n",
    "                        header=None, dtype=np.float64)\n",
    "\n",
    "                extended_E5 = np.asarray(IC_df)\n",
    "                under_75_E5 = extended_E5[:15, :]\n",
    "                over_75_E5 = extended_E5[15:, :]\n",
    "                reduced_E5 = np.vstack((under_75_E5, np.sum(over_75_E5, axis=0)))\n",
    "                regimes_exposed5_IC.append(\n",
    "                        reduced_E5.flatten('F').tolist() + [0] * len(age_groups))\n",
    "\n",
    "        # Symptomatic & Asymptomatic Infectious\n",
    "        for _, r in enumerate(regions):\n",
    "                IC_df = pd.read_csv(\n",
    "                        os.path.join(path, '{}/Start_pop_{}.csv'.format(r, R)),\n",
    "                        usecols=range(30, 35),\n",
    "                        header=None, dtype=np.float64)\n",
    "\n",
    "                extended_I = np.zeros_like(np.asarray(IC_df))\n",
    "                extended_I[:, 0] = np.matmul(np.diag(regimes_nu_symp[0] * np.array(extended_regimes_d[_])), np.asarray(IC_df)[:, 0])\n",
    "                extended_I[:, 1] = np.matmul(np.diag(regimes_nu_symp[1] * np.array(extended_regimes_d[_])), np.asarray(IC_df)[:, 1])\n",
    "                extended_I[:, 2] = np.matmul(np.diag(regimes_nu_symp[2] * np.array(extended_regimes_d[_])), np.asarray(IC_df)[:, 2])\n",
    "                extended_I[:, 3] = np.matmul(np.diag(regimes_nu_symp[3] * np.array(extended_regimes_d[_])), np.asarray(IC_df)[:, 3])\n",
    "                extended_I[:, 4] = np.matmul(np.diag(regimes_nu_symp[4] * np.array(extended_regimes_d[_])), np.asarray(IC_df)[:, 4])\n",
    "                under_75_I = extended_I[:15, :]\n",
    "                over_75_I = extended_I[15:, :]\n",
    "                reduced_I = np.vstack((under_75_I, np.sum(over_75_I, axis=0)))\n",
    "                regimes_infectives_sym_IC.append(\n",
    "                        reduced_I.flatten('F').tolist() + [0] * len(age_groups))\n",
    "\n",
    "                extended_A = np.zeros_like(np.asarray(IC_df))\n",
    "                extended_A[:, 0] = np.matmul(np.diag((1 - regimes_nu_symp[0] * np.array(extended_regimes_d[_]))), np.asarray(IC_df)[:, 0])\n",
    "                extended_A[:, 1] = np.matmul(np.diag((1 - regimes_nu_symp[1] * np.array(extended_regimes_d[_]))), np.asarray(IC_df)[:, 1])\n",
    "                extended_A[:, 2] = np.matmul(np.diag((1 - regimes_nu_symp[2] * np.array(extended_regimes_d[_]))), np.asarray(IC_df)[:, 2])\n",
    "                extended_A[:, 3] = np.matmul(np.diag((1 - regimes_nu_symp[3] * np.array(extended_regimes_d[_]))), np.asarray(IC_df)[:, 3])\n",
    "                extended_A[:, 4] = np.matmul(np.diag((1 - regimes_nu_symp[4] * np.array(extended_regimes_d[_]))), np.asarray(IC_df)[:, 4])\n",
    "                under_75_A = extended_A[:15, :]\n",
    "                over_75_A = extended_A[15:, :]\n",
    "                reduced_A = np.vstack((under_75_A, np.sum(over_75_A, axis=0)))\n",
    "                regimes_infectives_asym_IC.append(\n",
    "                        reduced_A.flatten('F').tolist() + [0] * len(age_groups))\n",
    "\n",
    "        # Recovered\n",
    "        for r in regions:\n",
    "                IC_df = pd.read_csv(\n",
    "                        os.path.join(path, '{}/Start_pop_{}.csv'.format(r, R)),\n",
    "                        usecols=[35],\n",
    "                        header=None, dtype=np.float64)\n",
    "\n",
    "                extended_R = np.asarray(IC_df)\n",
    "                under_75_R = extended_R[:15, :]\n",
    "                over_75_R = extended_R[15:, :]\n",
    "                reduced_R = np.vstack((under_75_R, np.sum(over_75_R, axis=0)))\n",
    "                regimes_recovered_IC.append(\n",
    "                        reduced_R.flatten('F').tolist())\n",
    "\n",
    "        susceptibles_IC.append(regimes_susceptibles_IC)\n",
    "        exposed1_IC.append(regimes_exposed1_IC)\n",
    "        exposed2_IC.append(regimes_exposed2_IC)\n",
    "        exposed3_IC.append(regimes_exposed3_IC)\n",
    "        exposed4_IC.append(regimes_exposed4_IC)\n",
    "        exposed5_IC.append(regimes_exposed5_IC)\n",
    "        infectives_sym_IC.append(regimes_infectives_sym_IC)\n",
    "        infectives_asym_IC.append(regimes_infectives_asym_IC)\n",
    "        recovered_IC.append(regimes_recovered_IC)\n",
    "\n",
    "        # Set time-to-hospitalisation using a Gamma distribution using the mean and standard deviation \n",
    "        th_mean = param_df['hosp_lag'].tolist()[0]+0.00001\n",
    "        th_var = 12.1**2\n",
    "        theta = th_var / th_mean\n",
    "        k = th_mean / theta\n",
    "        time_to_hosp = scipy.stats.gamma(k, scale=theta).pdf(np.arange(1, 31)).tolist()\n",
    "\n",
    "        # Set time-to-death using a Gamma distribution using the mean and standard deviation\n",
    "        td_mean = param_df['death_lag'].tolist()[0]\n",
    "        td_var = 12.1**2\n",
    "        theta = td_var / td_mean\n",
    "        k = td_mean / theta\n",
    "        time_to_death = scipy.stats.gamma(k, scale=theta).pdf(np.arange(1, 31)).tolist()\n",
    "\n",
    "        # Probabilities of proceeding to severe outcomes\n",
    "\n",
    "        # Here, we set the values of pIH and pHD according to their estimates for Syria. However, in principle this could\n",
    "        # be amended to consider country-dependent values of these parameters. While this would change the precise quantitative\n",
    "        # results, we do not expect this to affect our overall qualitative findings about the optimal age-based vaccination\n",
    "        # strategy.\n",
    "        \n",
    "        # Infected -> Hospital\n",
    "        extended_pItoH = RF_df['hospitalisation_risk'].tolist()\n",
    "\n",
    "        regimes_pItoH = []\n",
    "        for r, reg in enumerate(regions):\n",
    "                regimes_pItoH.append(extended_pItoH[:15] + [np.sum(np.multiply(extended_pItoH[15:], frac_pop_over75[r]))])\n",
    "\n",
    "        pItoH.append(regimes_pItoH)\n",
    "\n",
    "        # Hospital -> Death\n",
    "        extended_pHtoD = RF_df['death_risk'].tolist()\n",
    "\n",
    "        regimes_pHtoD = []\n",
    "        for r, reg in enumerate(regions):\n",
    "                regimes_pHtoD.append(extended_pHtoD[:15] + [np.sum(np.multiply(extended_pHtoD[15:], frac_pop_over75[r]))])\n",
    "\n",
    "        pHtoD.append(regimes_pHtoD)\n",
    "\n",
    "        # Distribution of delays before proceeding to severe outcomes\n",
    "        # Infected -> Hospital\n",
    "        dItoH.append(time_to_hosp)\n",
    "        # Hospital -> Death\n",
    "        dHtoD.append(time_to_death)\n",
    "\n",
    "# Other parameters\n",
    "vac=0\n",
    "vacb=0\n",
    "\n",
    "adult = np.ones(len(age_groups))\n",
    "adult[0] = 0\n",
    "adult[1] = 0\n",
    "adult[2] = 0"
   ]
  },
  {
   "cell_type": "markdown",
   "metadata": {},
   "source": [
    "### Calculate total population for each regime"
   ]
  },
  {
   "cell_type": "code",
   "execution_count": 4,
   "metadata": {},
   "outputs": [],
   "source": [
    "# Compute the number of boosters for each region\n",
    "total_pop = []\n",
    "\n",
    "for R in regimes:\n",
    "        regimes_total_pop = []\n",
    "        for r in regions:\n",
    "                IC_df = pd.read_csv(\n",
    "                        os.path.join(path, '{}/Start_pop_{}.csv'.format(r, R)),\n",
    "                        header=None, dtype=np.float64)\n",
    "\n",
    "                regimes_total_pop.append(np.sum(np.asarray(IC_df)))\n",
    "        total_pop.append(regimes_total_pop)"
   ]
  },
  {
   "attachments": {},
   "cell_type": "markdown",
   "metadata": {},
   "source": [
    "## Seroprevalance scenarios\n",
    "\n",
    "Due to inconsistencies in case data collection, it is not unreasonable to assume more people might have been infected or have some sort of advanced protection due to vaccines.\n",
    "\n",
    "In the case of increased infection-induced seroprevalance, we move people into the R compartment from those in which we assume no or little protection (S and Sw2).\n",
    "In the case of increased vaccine-induced seroprevalance, we move people into the Sf compartment from those in which we assume no or little protection (S and Sw2)."
   ]
  },
  {
   "cell_type": "code",
   "execution_count": 5,
   "metadata": {},
   "outputs": [],
   "source": [
    "# Names of seroprevalance scenarios\n",
    "seroprevalance_scenarios = []\n",
    "\n",
    "ss_susceptibles_IC = []\n",
    "ss_recovered_IC = []"
   ]
  },
  {
   "attachments": {},
   "cell_type": "markdown",
   "metadata": {},
   "source": [
    "**Scenario 1**: Current Initial Conditions"
   ]
  },
  {
   "cell_type": "code",
   "execution_count": 6,
   "metadata": {},
   "outputs": [],
   "source": [
    "seroprevalance_scenarios.append('Original estimates')\n",
    "\n",
    "ss_susceptibles_IC.append(susceptibles_IC)\n",
    "ss_recovered_IC.append(recovered_IC)"
   ]
  },
  {
   "attachments": {},
   "cell_type": "markdown",
   "metadata": {},
   "source": [
    "**Scenario 2**: 20% Decrease in Existing Immunity"
   ]
  },
  {
   "cell_type": "code",
   "execution_count": 7,
   "metadata": {},
   "outputs": [],
   "source": [
    "seroprevalance_scenarios.append('Decreased immunity')\n",
    "\n",
    "increase = 0.3\n",
    "regimes_new_susceptibles_IC = []\n",
    "regimes_new_recovered_IC = []\n",
    "\n",
    "for R, _ in enumerate(regimes):\n",
    "    new_susceptibles_IC = np.array([\n",
    "        np.array(susceptibles_IC[R][r].copy()).reshape((6, 16)).transpose() for r in range(len(regions))])\n",
    "    new_recovered_IC = np.array(recovered_IC[R].copy())\n",
    "\n",
    "    reg_new_susceptibles_IC = []\n",
    "    reg_new_recovered_IC = []\n",
    "\n",
    "    for r, reg in enumerate(regions):\n",
    "        susceptible_matrix = new_susceptibles_IC[r].copy()\n",
    "        recovered_matrix = new_recovered_IC[r].copy()\n",
    "\n",
    "        # Remove extra infection-immune from Sf\n",
    "        susceptible_matrix[:, 1] *= 1 - increase\n",
    "        # Remove extra infection-immune from Sb\n",
    "        susceptible_matrix[:, 2] *= 1 - increase\n",
    "        # Remove extra infection-immune from Sw1\n",
    "        susceptible_matrix[:, 3] *= 1 - increase\n",
    "        # Remove extra infection-immune from Sw2\n",
    "        susceptible_matrix[:, 4] *= 1 - increase\n",
    "        # Remove extra infection-immune from R\n",
    "        recovered_matrix *= 1 - increase\n",
    "\n",
    "        # Add extra infection-immune from Sw2 to S\n",
    "        susceptible_matrix[:, 0] += increase * new_susceptibles_IC[r, :, 4]\n",
    "        # Add extra infection-immune from Sb and R to Sw1\n",
    "        susceptible_matrix[:, 3] += increase * (new_susceptibles_IC[r, :, 2] + new_recovered_IC[r, :])\n",
    "        # Add extra infection-immune from Sf and Sw1 to Sw2\n",
    "        susceptible_matrix[:, 4] += increase * (new_susceptibles_IC[r, :, 1] + new_susceptibles_IC[r, :, 3])\n",
    "\n",
    "        reg_new_susceptibles_IC.append(list(deepflatten(susceptible_matrix.transpose())))\n",
    "        reg_new_recovered_IC.append(list(deepflatten(recovered_matrix)))\n",
    "\n",
    "    regimes_new_susceptibles_IC.append(reg_new_susceptibles_IC)\n",
    "    regimes_new_recovered_IC.append(reg_new_recovered_IC)\n",
    "\n",
    "ss_susceptibles_IC.append(regimes_new_susceptibles_IC)\n",
    "ss_recovered_IC.append(regimes_new_recovered_IC)"
   ]
  },
  {
   "attachments": {},
   "cell_type": "markdown",
   "metadata": {},
   "source": [
    "**Scenario 3**: 20% Increase in Existing Immunity"
   ]
  },
  {
   "cell_type": "code",
   "execution_count": 8,
   "metadata": {},
   "outputs": [],
   "source": [
    "seroprevalance_scenarios.append('Increased immunity')\n",
    "\n",
    "increase = 0.3\n",
    "regimes_new_susceptibles_IC = []\n",
    "regimes_new_recovered_IC = []\n",
    "\n",
    "for R, _ in enumerate(regimes):\n",
    "    new_susceptibles_IC = np.array([\n",
    "        np.array(susceptibles_IC[R][r].copy()).reshape((6, 16)).transpose() for r in range(len(regions))])\n",
    "    new_recovered_IC = np.array(recovered_IC[R].copy())\n",
    "\n",
    "    reg_new_susceptibles_IC = []\n",
    "    reg_new_recovered_IC = []\n",
    "\n",
    "    for r, reg in enumerate(regions):\n",
    "        susceptible_matrix = new_susceptibles_IC[r].copy()\n",
    "        recovered_matrix = new_recovered_IC[r].copy()\n",
    "\n",
    "        prop_w1 = np.divide(recovered_matrix, recovered_matrix + susceptible_matrix[:, 2])\n",
    "        prop_w2 = np.divide(susceptible_matrix[:, 1], susceptible_matrix[:, 1] + susceptible_matrix[:, 3])\n",
    "\n",
    "        # Remove extra infection-immune from S\n",
    "        susceptible_matrix[:, 0] *= 1 - increase\n",
    "        # Remove extra infection-immune from Sf\n",
    "        susceptible_matrix[:, 1] *= 1 - increase\n",
    "        # Remove extra infection-immune from Sw1\n",
    "        susceptible_matrix[:, 3] *= 1 - increase\n",
    "        # Remove extra infection-immune from Sw2\n",
    "        susceptible_matrix[:, 4] *= 1 - increase\n",
    "\n",
    "        # Add extra infection-immune from Sw2 to Sf\n",
    "        susceptible_matrix[:, 1] += increase * np.multiply(prop_w2, new_susceptibles_IC[r, :, 4])\n",
    "        # Add extra infection-immune from Sf and Sw1 to Sb\n",
    "        susceptible_matrix[:, 2] += increase * (new_susceptibles_IC[r, :, 1] + np.multiply(1 - prop_w1, new_susceptibles_IC[r, :, 3]))\n",
    "        # Add extra infection-immune from Sw2 to Sw1\n",
    "        susceptible_matrix[:, 3] += increase * np.multiply(1-prop_w2, new_susceptibles_IC[r, :, 4])\n",
    "        # Add extra infection-immune from S to Sw2\n",
    "        susceptible_matrix[:, 4] += increase * new_susceptibles_IC[r, :, 0]\n",
    "        # Add extra infection-immune from Sw1 to R\n",
    "        recovered_matrix += increase * np.multiply(prop_w1, new_susceptibles_IC[r, :, 3])\n",
    "\n",
    "        reg_new_susceptibles_IC.append(list(deepflatten(susceptible_matrix.transpose())))\n",
    "        reg_new_recovered_IC.append(list(deepflatten(recovered_matrix)))\n",
    "\n",
    "    regimes_new_susceptibles_IC.append(reg_new_susceptibles_IC)\n",
    "    regimes_new_recovered_IC.append(reg_new_recovered_IC)\n",
    "\n",
    "ss_susceptibles_IC.append(regimes_new_susceptibles_IC)\n",
    "ss_recovered_IC.append(regimes_new_recovered_IC)"
   ]
  },
  {
   "cell_type": "markdown",
   "metadata": {},
   "source": [
    "## Boosting campaign scenarios\n",
    "\n",
    "We only boost all the susceptibles types, but the recently boosted, and recovered. However those in the R compartment who receive the booster do not move out of the compartment (they have higher immunity than the boosted)"
   ]
  },
  {
   "cell_type": "code",
   "execution_count": 9,
   "metadata": {},
   "outputs": [],
   "source": [
    "# Maximum percentage booster uptake of each age group\n",
    "boost_age_percent = 0.9\n",
    "\n",
    "# Compute the maximum number of boosters we can deploy for each age group in each region\n",
    "max_boosters = []\n",
    "max_boosters_for_R = []\n",
    "max_boosters_for_S = []\n",
    "max_boosters_for_Sf = []\n",
    "max_boosters_for_Sw1 = []\n",
    "max_boosters_for_Sw2 = []\n",
    "max_boosters_for_Sw3 = []\n",
    "\n",
    "old_boosted = []\n",
    "\n",
    "for ss, sero_scen in enumerate(seroprevalance_scenarios):\n",
    "        ss_max_boosters = []\n",
    "        ss_max_boosters_for_R = []\n",
    "        ss_max_boosters_for_S = []\n",
    "        ss_max_boosters_for_Sf = []\n",
    "        ss_max_boosters_for_Sw1 = []\n",
    "        ss_max_boosters_for_Sw2 = []\n",
    "        ss_max_boosters_for_Sw3 = []\n",
    "\n",
    "        ss_old_boosted = []\n",
    "\n",
    "        for R, _ in enumerate(regimes):\n",
    "                regimes_max_boosters = []\n",
    "                regimes_max_boosters_for_R = []\n",
    "                regimes_max_boosters_for_S = []\n",
    "                regimes_max_boosters_for_Sf = []\n",
    "                regimes_max_boosters_for_Sw1 = []\n",
    "                regimes_max_boosters_for_Sw2 = []\n",
    "                regimes_max_boosters_for_Sw3 = []\n",
    "\n",
    "                regimes_old_boosted = []\n",
    "\n",
    "                for r, reg in enumerate(regions):\n",
    "                        boosters_for_R = boost_age_percent * np.asarray(ss_recovered_IC[ss][R][r])\n",
    "                        boosters_for_S = boost_age_percent * np.asarray(ss_susceptibles_IC[ss][R][r])[:len(age_groups)]\n",
    "                        boosters_for_Sf = boost_age_percent * np.asarray(ss_susceptibles_IC[ss][R][r])[len(age_groups):(2*len(age_groups))]\n",
    "                        boosters_for_Sw1 = boost_age_percent * np.asarray(ss_susceptibles_IC[ss][R][r])[(3*len(age_groups)):(4*len(age_groups))]\n",
    "                        boosters_for_Sw2 = boost_age_percent * np.asarray(ss_susceptibles_IC[ss][R][r])[(4*len(age_groups)):(5*len(age_groups))]\n",
    "                        boosters_for_Sw3 = boost_age_percent * np.asarray(ss_susceptibles_IC[ss][R][r])[(5*len(age_groups)):(6*len(age_groups))]\n",
    "\n",
    "                        boosted = np.asarray(ss_susceptibles_IC[ss][R][r])[(2*len(age_groups)):(3*len(age_groups))]\n",
    "\n",
    "                        regimes_max_boosters_for_R.append(boosters_for_R)\n",
    "                        regimes_max_boosters_for_S.append(boosters_for_S)\n",
    "                        regimes_max_boosters_for_Sf.append(boosters_for_Sf)\n",
    "                        regimes_max_boosters_for_Sw1.append(boosters_for_Sw1)\n",
    "                        regimes_max_boosters_for_Sw2.append(boosters_for_Sw2)\n",
    "                        regimes_max_boosters_for_Sw3.append(boosters_for_Sw3)\n",
    "\n",
    "                        regimes_max_boosters.append(\n",
    "                                boosters_for_R + boosters_for_S + boosters_for_Sf +\n",
    "                                boosters_for_Sw1 + boosters_for_Sw2 + boosters_for_Sw3)\n",
    "\n",
    "                        regimes_old_boosted.append(boosted)\n",
    "\n",
    "                ss_max_boosters_for_R.append(regimes_max_boosters_for_R)\n",
    "                ss_max_boosters_for_S.append(regimes_max_boosters_for_S)\n",
    "                ss_max_boosters_for_Sf.append(regimes_max_boosters_for_Sf)\n",
    "                ss_max_boosters_for_Sw1.append(regimes_max_boosters_for_Sw1)\n",
    "                ss_max_boosters_for_Sw2.append(regimes_max_boosters_for_Sw2)\n",
    "                ss_max_boosters_for_Sw3.append(regimes_max_boosters_for_Sw3)\n",
    "                ss_max_boosters.append(regimes_max_boosters)\n",
    "\n",
    "                ss_old_boosted.append(regimes_old_boosted)\n",
    "\n",
    "        max_boosters_for_R.append(ss_max_boosters_for_R)\n",
    "        max_boosters_for_S.append(ss_max_boosters_for_S)\n",
    "        max_boosters_for_Sf.append(ss_max_boosters_for_Sf)\n",
    "        max_boosters_for_Sw1.append(ss_max_boosters_for_Sw1)\n",
    "        max_boosters_for_Sw2.append(ss_max_boosters_for_Sw2)\n",
    "        max_boosters_for_Sw3.append(ss_max_boosters_for_Sw3)\n",
    "        max_boosters.append(ss_max_boosters)\n",
    "\n",
    "        old_boosted.append(ss_old_boosted)\n",
    "\n",
    "# Create list of new susceptible_ICs for each vaccination scenario\n",
    "scenario_susceptibles_IC = []\n",
    "scenario_new_boosted = []\n",
    "scenario_boost_pop_percent = []\n",
    "scenario_names = []\n",
    "age_boosting_scenario_order = []"
   ]
  },
  {
   "cell_type": "markdown",
   "metadata": {},
   "source": [
    "**Scenario 1**: Prioritising those 75+"
   ]
  },
  {
   "cell_type": "code",
   "execution_count": 10,
   "metadata": {},
   "outputs": [],
   "source": [
    "scenario_names.append('Prioritise 75+')\n",
    "age_boosting_scenario_order.append((np.arange(16, 0, -1) - 1).tolist())\n",
    "scenario_boost_pop_percent.append(0.1)"
   ]
  },
  {
   "cell_type": "markdown",
   "metadata": {},
   "source": [
    "**Scenario 2**: Prioritising those 60-74 then 75+"
   ]
  },
  {
   "cell_type": "code",
   "execution_count": 11,
   "metadata": {},
   "outputs": [],
   "source": [
    "scenario_names.append('Prioritise 60-74 then 75+')\n",
    "age_boosting_scenario_order.append([range(12, 15), 15] + (np.arange(12, 0, -1) - 1).tolist())\n",
    "scenario_boost_pop_percent.append(0.1)"
   ]
  },
  {
   "cell_type": "markdown",
   "metadata": {},
   "source": [
    "**Scenario 3**: Prioritising those 60-74 then 50-59, then 75+"
   ]
  },
  {
   "cell_type": "code",
   "execution_count": 12,
   "metadata": {},
   "outputs": [],
   "source": [
    "scenario_names.append('Prioritise those 60-74 then 50-59, then 75+')\n",
    "age_boosting_scenario_order.append([range(12, 15), range(10, 12), 15] + (np.arange(10, 0, -1) - 1).tolist())\n",
    "scenario_boost_pop_percent.append(0.1)"
   ]
  },
  {
   "cell_type": "markdown",
   "metadata": {},
   "source": [
    "**Scenario 4**: Prioritising those 50-59, then 60-74 then 75+"
   ]
  },
  {
   "cell_type": "code",
   "execution_count": 13,
   "metadata": {},
   "outputs": [],
   "source": [
    "scenario_names.append('Prioritise those 50-59 then 60-74, then 75+')\n",
    "age_boosting_scenario_order.append([range(10, 12), range(12, 15), 15] + (np.arange(10, 0, -1) - 1).tolist())\n",
    "scenario_boost_pop_percent.append(0.1)"
   ]
  },
  {
   "cell_type": "markdown",
   "metadata": {},
   "source": [
    "**Scenario 5**: Prioritising those 20-49, then 50-74 then 75+"
   ]
  },
  {
   "cell_type": "code",
   "execution_count": 14,
   "metadata": {},
   "outputs": [],
   "source": [
    "scenario_names.append('Prioritise those 20-49, then 50-74 then 75+')\n",
    "age_boosting_scenario_order.append([range(4, 10), range(10, 15), 15] + (np.arange(4, 0, -1) - 1).tolist())\n",
    "scenario_boost_pop_percent.append(0.1)"
   ]
  },
  {
   "cell_type": "markdown",
   "metadata": {},
   "source": [
    "**Scenario 6**: Prioritising those 20-49, then 75+, then 50-74"
   ]
  },
  {
   "cell_type": "code",
   "execution_count": 15,
   "metadata": {},
   "outputs": [],
   "source": [
    "scenario_names.append('Prioritise those 20-49, then 75+, then 50-74')\n",
    "age_boosting_scenario_order.append([range(4, 10), 15, range(10, 15)] + (np.arange(4, 0, -1) - 1).tolist())\n",
    "scenario_boost_pop_percent.append(0.1)"
   ]
  },
  {
   "cell_type": "markdown",
   "metadata": {},
   "source": [
    "**Scenario 7**: No boosters"
   ]
  },
  {
   "cell_type": "code",
   "execution_count": 16,
   "metadata": {},
   "outputs": [],
   "source": [
    "scenario_names.append('No boosters')\n",
    "age_boosting_scenario_order.append((np.arange(16, 0, -1) - 1).tolist())\n",
    "scenario_boost_pop_percent.append(0)"
   ]
  },
  {
   "cell_type": "markdown",
   "metadata": {},
   "source": [
    "### Compute new susceptible conditions based on each boosting scenario"
   ]
  },
  {
   "cell_type": "code",
   "execution_count": 17,
   "metadata": {},
   "outputs": [],
   "source": [
    "for ss, sero_scen in enumerate(seroprevalance_scenarios):\n",
    "    scenario_regimes_new_susceptibles_IC = []\n",
    "    scenario_regimes_new_boosted = []\n",
    "    for s, _ in enumerate(scenario_names):\n",
    "        regimes_new_susceptibles_IC = []\n",
    "        regimes_new_boosted = []\n",
    "        scenario_new_boosters = (scenario_boost_pop_percent[s] * np.array(total_pop)).tolist()\n",
    "\n",
    "        for R, _ in enumerate(regimes):\n",
    "            new_susceptibles_IC = [\n",
    "                np.array(ss_susceptibles_IC[ss][R][r]).reshape((6, 16)).transpose() for r in range(len(regions))]\n",
    "            \n",
    "            new_susceptibles_IC = np.array(new_susceptibles_IC)\n",
    "            regimes_scenario_new_boosters = scenario_new_boosters[R]\n",
    "            reg_new_susceptibles_IC = []\n",
    "\n",
    "            boosted = np.zeros_like(new_susceptibles_IC[:, :, 2])\n",
    "\n",
    "            for r, reg in enumerate(regions):\n",
    "                for ages in age_boosting_scenario_order[s]:\n",
    "                    if np.sum(max_boosters[ss][R][r][ages]) <= scenario_new_boosters[R][r]:\n",
    "                        # Add boosted from the S, Sf, Sw1, Sw2, Sw3 to Sb\n",
    "                        new_susceptibles_IC[r, ages, 2] += max_boosters[ss][R][r][ages] - max_boosters_for_R[ss][R][r][ages]\n",
    "                        # Remove boosted from the S\n",
    "                        new_susceptibles_IC[r, ages, 0] -= max_boosters_for_S[ss][R][r][ages]\n",
    "                        # Remove boosted from the Sf\n",
    "                        new_susceptibles_IC[r, ages, 1] -= max_boosters_for_Sf[ss][R][r][ages]\n",
    "                        # Remove boosted from the Sw1\n",
    "                        new_susceptibles_IC[r, ages, 3] -= max_boosters_for_Sw1[ss][R][r][ages]\n",
    "                        # Remove boosted from the Sw2\n",
    "                        new_susceptibles_IC[r, ages, 4] -= max_boosters_for_Sw2[ss][R][r][ages]\n",
    "                        # Remove boosted from the Sw3\n",
    "                        new_susceptibles_IC[r, ages, 5] -= max_boosters_for_Sw3[ss][R][r][ages]\n",
    "                        # Remove boosted from the S, Sf, Sw1, Sw2, Sw3 and R from total boosters for the scenario\n",
    "                        scenario_new_boosters[R][r] -= np.sum(max_boosters[ss][R][r][ages])\n",
    "                        # Complete boosting vaccination vector\n",
    "                        boosted[r, ages] = max_boosters[ss][R][r][ages]\n",
    "                    else:\n",
    "                        # Compute proportion of boosters we have left to give for the age group\n",
    "                        prop = scenario_new_boosters[R][r] / np.sum(max_boosters[ss][R][r][ages])\n",
    "                        # Add boosted from the S, Sf, Sw1, Sw2, Sw3 to Sb\n",
    "                        new_susceptibles_IC[r, ages, 2] += prop * (max_boosters[ss][R][r][ages] - max_boosters_for_R[ss][R][r][ages])\n",
    "                        # Remove boosted from the S\n",
    "                        new_susceptibles_IC[r, ages, 0] -= prop * max_boosters_for_S[ss][R][r][ages]\n",
    "                        # Remove boosted from the Sf\n",
    "                        new_susceptibles_IC[r, ages, 1] -= prop * max_boosters_for_Sf[ss][R][r][ages]\n",
    "                        # Remove boosted from the Sw1\n",
    "                        new_susceptibles_IC[r, ages, 3] -= prop * max_boosters_for_Sw1[ss][R][r][ages]\n",
    "                        # Remove boosted from the Sw2\n",
    "                        new_susceptibles_IC[r, ages, 4] -= prop * max_boosters_for_Sw2[ss][R][r][ages]\n",
    "                        # Remove boosted from the Sw3\n",
    "                        new_susceptibles_IC[r, ages, 5] -= prop * max_boosters_for_Sw3[ss][R][r][ages]\n",
    "                        # Remove boosted from the S, Sf, Sw1, Sw2, Sw3 and R from total boosters for the scenario\n",
    "                        scenario_new_boosters[R][r] -= prop * np.sum(max_boosters[ss][R][r][ages])\n",
    "                        # Complete boosting vaccination vector\n",
    "                        boosted[r, ages] = prop * max_boosters[ss][R][r][ages]\n",
    "\n",
    "                reg_new_susceptibles_IC.append(list(deepflatten(new_susceptibles_IC[r].transpose())))\n",
    "\n",
    "            regimes_new_susceptibles_IC.append(reg_new_susceptibles_IC)\n",
    "            regimes_new_boosted.append(boosted)\n",
    "\n",
    "        scenario_regimes_new_susceptibles_IC.append(regimes_new_susceptibles_IC)\n",
    "        scenario_regimes_new_boosted.append(regimes_new_boosted)\n",
    "\n",
    "    scenario_susceptibles_IC.append(scenario_regimes_new_susceptibles_IC)\n",
    "    scenario_new_boosted.append(scenario_regimes_new_boosted)"
   ]
  },
  {
   "cell_type": "markdown",
   "metadata": {},
   "source": [
    "### Set the parameters and initial conditions of the model and bundle everything together"
   ]
  },
  {
   "cell_type": "code",
   "execution_count": 18,
   "metadata": {},
   "outputs": [],
   "source": [
    "# Instantiate model\n",
    "model = wm.WarwickLancSEIRModel()\n",
    "\n",
    "# Set the region names, contact and regional data of the model\n",
    "model.set_regions(regions)\n",
    "model.set_age_groups(age_groups)\n",
    "\n",
    "# List of times at which we wish to evaluate the states of the compartments of the model\n",
    "times = np.arange(1, total_days+1, 1).tolist()"
   ]
  },
  {
   "cell_type": "code",
   "execution_count": 19,
   "metadata": {},
   "outputs": [
    {
     "data": {
      "text/plain": [
       "array([[    0.        ,     0.        ,     0.        , ...,\n",
       "            0.        ,     0.        ,     0.        ],\n",
       "       [  164.09871636,   172.22205197,   165.13747687, ...,\n",
       "        11298.27334248, 11320.62335778, 19680.80873138],\n",
       "       [  648.78548272,   680.69133616,   651.05131252, ...,\n",
       "        11210.49740732, 11228.37362052, 19295.74097946],\n",
       "       ...,\n",
       "       [41045.25805897, 41087.77139315, 16962.05543594, ...,\n",
       "          598.56810589,   491.00688728,  1894.7014715 ],\n",
       "       [40996.70095781, 41017.12529358, 16865.92850812, ...,\n",
       "          528.46651683,   425.29524914,  1749.57117047],\n",
       "       [40945.79299225, 40942.81493603, 16771.57432484, ...,\n",
       "          460.77546844,   362.11903416,  1606.84671237]])"
      ]
     },
     "execution_count": 19,
     "metadata": {},
     "output_type": "execute_result"
    }
   ],
   "source": [
    "model.read_contact_data(matrices_contact[0], time_changes_contact[0])\n",
    "model.read_regional_data(matrices_region[0], time_changes_region[0])\n",
    "\n",
    "# Set regional and time dependent parameters\n",
    "regional_parameters = wm.RegParameters(\n",
    "    model=model,\n",
    "    region_index=1\n",
    ")\n",
    "\n",
    "# Set ICs parameters\n",
    "ICs_parameters = wm.ICs(\n",
    "    model=model,\n",
    "    susceptibles_IC=scenario_susceptibles_IC[0][0][0],\n",
    "    exposed1_IC=exposed1_IC[0],\n",
    "    exposed2_IC=exposed2_IC[0],\n",
    "    exposed3_IC=exposed3_IC[0],\n",
    "    exposed4_IC=exposed4_IC[0],\n",
    "    exposed5_IC=exposed5_IC[0],\n",
    "    infectives_sym_IC=infectives_sym_IC[0],\n",
    "    infectives_asym_IC=infectives_asym_IC[0],\n",
    "    recovered_IC=ss_recovered_IC[0][0]\n",
    ")\n",
    "\n",
    "# Set disease-specific parameters\n",
    "disease_parameters = wm.DiseaseParameters(\n",
    "    model=model,\n",
    "    d=d[0][0],\n",
    "    tau=tau[0],\n",
    "    we=we[0],\n",
    "    omega=omega[0]\n",
    ")\n",
    "\n",
    "# Set transmission parameters\n",
    "transmission_parameters = wm.Transmission(\n",
    "    model=model,\n",
    "    beta=beta[0][0],\n",
    "    alpha=alpha[0],\n",
    "    gamma=gamma[0]\n",
    ")\n",
    "\n",
    "# Set other simulation parameters\n",
    "simulation_parameters = wm.SimParameters(\n",
    "    model=model,\n",
    "    method='Radau',\n",
    "    times=times,\n",
    "    eps=False\n",
    ")\n",
    "\n",
    "# Set vaccination parameters\n",
    "vaccine_parameters = wm.VaccineParameters(\n",
    "    model=model,\n",
    "    vac=vac,\n",
    "    vacb=vacb,\n",
    "    adult=adult,\n",
    "    nu_tra=nu_tra[0],\n",
    "    nu_symp=nu_symp[0],\n",
    "    nu_inf=nu_inf[0],\n",
    "    nu_sev_h=nu_sev_h[0],\n",
    "    nu_sev_d=nu_sev_d[0],\n",
    ")\n",
    "\n",
    "# Set social distancing parameters\n",
    "soc_dist_parameters = wm.SocDistParameters(\n",
    "    model=model,\n",
    "    phi=1\n",
    ")\n",
    "\n",
    "# Set all parameters in the controller\n",
    "parameters = wm.ParametersController(\n",
    "    model=model,\n",
    "    regional_parameters=regional_parameters,\n",
    "    ICs_parameters=ICs_parameters,\n",
    "    disease_parameters=disease_parameters,\n",
    "    transmission_parameters=transmission_parameters,\n",
    "    simulation_parameters=simulation_parameters,\n",
    "    vaccine_parameters=vaccine_parameters,\n",
    "    soc_dist_parameters=soc_dist_parameters\n",
    ")\n",
    "\n",
    "model.simulate(parameters)"
   ]
  },
  {
   "cell_type": "markdown",
   "metadata": {},
   "source": [
    "### Simulate for the regions"
   ]
  },
  {
   "cell_type": "code",
   "execution_count": 20,
   "metadata": {},
   "outputs": [],
   "source": [
    "# Incorporate overall reductions in vaccine efficacies\n",
    "changes_vaccine = [0, 0.2]\n",
    "\n",
    "cv_nu_tra = []\n",
    "cv_nu_symp = []\n",
    "cv_nu_inf = []\n",
    "cv_nu_sev_h = []\n",
    "cv_nu_sev_d = []\n",
    "\n",
    "for cv in changes_vaccine:\n",
    "    regimes_nu_tra = []\n",
    "    regimes_nu_symp = []\n",
    "    regimes_nu_inf = []\n",
    "    regimes_nu_sev_h = []\n",
    "    regimes_nu_sev_d = []\n",
    "    for R in regimes:\n",
    "        eff_df = pd.read_csv(\n",
    "                os.path.join(path, 'global_parameters/efficacies_{}.csv'.format(R)),\n",
    "                usecols=range(1,5), dtype=np.float64)\n",
    "        \n",
    "        VE_i = np.multiply([1] + [1-cv] * 4 + [1], eff_df['Infection_eff'])\n",
    "        VE_s = np.multiply([1] + [1-cv] * 4 + [1], eff_df['Symptom_eff'])\n",
    "        VE_h = np.multiply([1] + [1-cv] * 4 + [1], eff_df['Hosp_eff'])\n",
    "        VE_d = np.multiply([1] + [1-cv] * 4 + [1], eff_df['Death_eff'])\n",
    "\n",
    "        VE_d = np.divide(VE_d-VE_h, 1-VE_h)\n",
    "        VE_h = np.divide(VE_h-VE_i, 1-VE_i)\n",
    "        VE_s = np.divide(VE_s-VE_i, 1-VE_i)\n",
    "\n",
    "        regimes_nu_tra.append([1] * 6)\n",
    "        regimes_nu_symp.append(np.nan_to_num(1 - VE_s).tolist())\n",
    "        regimes_nu_inf.append(np.nan_to_num(1 - VE_i).tolist())\n",
    "        regimes_nu_sev_h.append(np.nan_to_num(1 - VE_h).tolist())\n",
    "        regimes_nu_sev_d.append(np.nan_to_num(1 - VE_d).tolist())\n",
    "\n",
    "    cv_nu_tra.append(regimes_nu_tra)\n",
    "    cv_nu_symp.append(regimes_nu_symp)\n",
    "    cv_nu_inf.append(regimes_nu_inf)\n",
    "    cv_nu_sev_h.append(regimes_nu_sev_h)\n",
    "    cv_nu_sev_d.append(regimes_nu_sev_d)"
   ]
  },
  {
   "cell_type": "markdown",
   "metadata": {},
   "source": [
    "### Varriant adapted vaccine"
   ]
  },
  {
   "cell_type": "code",
   "execution_count": 21,
   "metadata": {},
   "outputs": [],
   "source": [
    "# Simulate for all the regions and regimes\n",
    "var_adapted_outputs = []\n",
    "var_adapted_total_pop = []\n",
    "\n",
    "cv = 0\n",
    "\n",
    "for ss, sero_scen in enumerate(seroprevalance_scenarios):\n",
    "    ss_scenario_outputs = []\n",
    "    ss_scenario_total_pop = []\n",
    "    for s, scenario in enumerate(scenario_names):\n",
    "        scenario_outputs = []\n",
    "        scenario_total_pop = []\n",
    "        for R, regime in enumerate(regimes):\n",
    "            model.read_contact_data(matrices_contact[R], time_changes_contact[R])\n",
    "            model.read_regional_data(matrices_region[R], time_changes_region[R])\n",
    "\n",
    "            # Set regional and time dependent parameters\n",
    "            regional_parameters = wm.RegParameters(\n",
    "                model=model,\n",
    "                region_index=1\n",
    "            )\n",
    "\n",
    "            # Set ICs parameters\n",
    "            ICs_parameters = wm.ICs(\n",
    "                model=model,\n",
    "                susceptibles_IC=scenario_susceptibles_IC[ss][s][R],\n",
    "                exposed1_IC=exposed1_IC[R],\n",
    "                exposed2_IC=exposed2_IC[R],\n",
    "                exposed3_IC=exposed3_IC[R],\n",
    "                exposed4_IC=exposed4_IC[R],\n",
    "                exposed5_IC=exposed5_IC[R],\n",
    "                infectives_sym_IC=infectives_sym_IC[R],\n",
    "                infectives_asym_IC=infectives_asym_IC[R],\n",
    "                recovered_IC=ss_recovered_IC[ss][R]\n",
    "            )\n",
    "\n",
    "            # Compute age-dependent population\n",
    "            scenario_total_pop.append(ICs_parameters.total_population())\n",
    "\n",
    "            # Set disease-specific parameters\n",
    "            disease_parameters = wm.DiseaseParameters(\n",
    "                model=model,\n",
    "                d=d[R][0],\n",
    "                tau=tau[R],\n",
    "                we=we[R],\n",
    "                omega=omega[R]\n",
    "            )\n",
    "\n",
    "            # Set transmission parameters\n",
    "            transmission_parameters = wm.Transmission(\n",
    "                model=model,\n",
    "                beta=beta[R][0],\n",
    "                alpha=alpha[R],\n",
    "                gamma=gamma[R]\n",
    "            )\n",
    "\n",
    "            # Set other simulation parameters\n",
    "            simulation_parameters = wm.SimParameters(\n",
    "                model=model,\n",
    "                method='Radau',\n",
    "                times=times,\n",
    "                eps=False\n",
    "            )\n",
    "\n",
    "            # Set vaccination parameters\n",
    "            vaccine_parameters = wm.VaccineParameters(\n",
    "                model=model,\n",
    "                vac=vac,\n",
    "                vacb=vacb,\n",
    "                adult=adult,\n",
    "                nu_tra=cv_nu_tra[cv][R],\n",
    "                nu_symp=cv_nu_symp[cv][R],\n",
    "                nu_inf=cv_nu_inf[cv][R],\n",
    "                nu_sev_h=cv_nu_sev_h[cv][R],\n",
    "                nu_sev_d=cv_nu_sev_d[cv][R],\n",
    "            )\n",
    "\n",
    "            # Set social distancing parameters\n",
    "            soc_dist_parameters = wm.SocDistParameters(\n",
    "                model=model,\n",
    "                phi=1\n",
    "            )\n",
    "\n",
    "            # Set all parameters in the controller\n",
    "            parameters = wm.ParametersController(\n",
    "                model=model,\n",
    "                regional_parameters=regional_parameters,\n",
    "                ICs_parameters=ICs_parameters,\n",
    "                disease_parameters=disease_parameters,\n",
    "                transmission_parameters=transmission_parameters,\n",
    "                simulation_parameters=simulation_parameters,\n",
    "                vaccine_parameters=vaccine_parameters,\n",
    "                soc_dist_parameters=soc_dist_parameters\n",
    "            )\n",
    "\n",
    "            # Simulate for all the regions\n",
    "            regimes_outputs = []\n",
    "            for r, reg in enumerate(regions):\n",
    "                # List of initial conditions and parameters that characterise the model\n",
    "                parameters.regional_parameters.region_index = r + 1\n",
    "\n",
    "                parameters.disease_parameters.d = d[R][r]\n",
    "                parameters.transmission_parameters.beta = beta[R][r]\n",
    "\n",
    "                # Simulate using the ODE solver\n",
    "                regimes_outputs.append(model.simulate(parameters))\n",
    "\n",
    "            scenario_outputs.append(regimes_outputs)\n",
    "\n",
    "        ss_scenario_outputs.append(scenario_outputs)\n",
    "        ss_scenario_total_pop.append(scenario_total_pop)\n",
    "\n",
    "    var_adapted_outputs.append(ss_scenario_outputs)\n",
    "    var_adapted_total_pop.append(ss_scenario_total_pop)\n",
    "\n",
    "var_adapted_outputs = np.array(var_adapted_outputs)"
   ]
  },
  {
   "cell_type": "markdown",
   "metadata": {},
   "source": [
    "### Current vaccine"
   ]
  },
  {
   "cell_type": "code",
   "execution_count": 22,
   "metadata": {},
   "outputs": [],
   "source": [
    "# Simulate for all the regions and regimes\n",
    "current_vacc_outputs = []\n",
    "current_vacc_total_pop = []\n",
    "\n",
    "cv = 1\n",
    "\n",
    "for ss, sero_scen in enumerate(seroprevalance_scenarios):\n",
    "    ss_scenario_outputs = []\n",
    "    ss_scenario_total_pop = []\n",
    "    for s, scenario in enumerate(scenario_names):\n",
    "        scenario_outputs = []\n",
    "        scenario_total_pop = []\n",
    "        for R, regime in enumerate(regimes):\n",
    "            model.read_contact_data(matrices_contact[R], time_changes_contact[R])\n",
    "            model.read_regional_data(matrices_region[R], time_changes_region[R])\n",
    "\n",
    "            # Set regional and time dependent parameters\n",
    "            regional_parameters = wm.RegParameters(\n",
    "                model=model,\n",
    "                region_index=1\n",
    "            )\n",
    "\n",
    "            # Set ICs parameters\n",
    "            ICs_parameters = wm.ICs(\n",
    "                model=model,\n",
    "                susceptibles_IC=scenario_susceptibles_IC[ss][s][R],\n",
    "                exposed1_IC=exposed1_IC[R],\n",
    "                exposed2_IC=exposed2_IC[R],\n",
    "                exposed3_IC=exposed3_IC[R],\n",
    "                exposed4_IC=exposed4_IC[R],\n",
    "                exposed5_IC=exposed5_IC[R],\n",
    "                infectives_sym_IC=infectives_sym_IC[R],\n",
    "                infectives_asym_IC=infectives_asym_IC[R],\n",
    "                recovered_IC=ss_recovered_IC[ss][R]\n",
    "            )\n",
    "\n",
    "            # Compute age-dependent population\n",
    "            scenario_total_pop.append(ICs_parameters.total_population())\n",
    "\n",
    "            # Set disease-specific parameters\n",
    "            disease_parameters = wm.DiseaseParameters(\n",
    "                model=model,\n",
    "                d=d[R][0],\n",
    "                tau=tau[R],\n",
    "                we=we[R],\n",
    "                omega=omega[R]\n",
    "            )\n",
    "\n",
    "            # Set transmission parameters\n",
    "            transmission_parameters = wm.Transmission(\n",
    "                model=model,\n",
    "                beta=beta[R][0],\n",
    "                alpha=alpha[R],\n",
    "                gamma=gamma[R]\n",
    "            )\n",
    "\n",
    "            # Set other simulation parameters\n",
    "            simulation_parameters = wm.SimParameters(\n",
    "                model=model,\n",
    "                method='Radau',\n",
    "                times=times,\n",
    "                eps=False\n",
    "            )\n",
    "\n",
    "            # Set vaccination parameters\n",
    "            vaccine_parameters = wm.VaccineParameters(\n",
    "                model=model,\n",
    "                vac=vac,\n",
    "                vacb=vacb,\n",
    "                adult=adult,\n",
    "                nu_tra=cv_nu_tra[cv][R],\n",
    "                nu_symp=cv_nu_symp[cv][R],\n",
    "                nu_inf=cv_nu_inf[cv][R],\n",
    "                nu_sev_h=cv_nu_sev_h[cv][R],\n",
    "                nu_sev_d=cv_nu_sev_d[cv][R],\n",
    "            )\n",
    "\n",
    "            # Set social distancing parameters\n",
    "            soc_dist_parameters = wm.SocDistParameters(\n",
    "                model=model,\n",
    "                phi=1\n",
    "            )\n",
    "\n",
    "            # Set all parameters in the controller\n",
    "            parameters = wm.ParametersController(\n",
    "                model=model,\n",
    "                regional_parameters=regional_parameters,\n",
    "                ICs_parameters=ICs_parameters,\n",
    "                disease_parameters=disease_parameters,\n",
    "                transmission_parameters=transmission_parameters,\n",
    "                simulation_parameters=simulation_parameters,\n",
    "                vaccine_parameters=vaccine_parameters,\n",
    "                soc_dist_parameters=soc_dist_parameters\n",
    "            )\n",
    "\n",
    "            # Simulate for all the regions\n",
    "            regimes_outputs = []\n",
    "            for r, reg in enumerate(regions):\n",
    "                # List of initial conditions and parameters that characterise the model\n",
    "                parameters.regional_parameters.region_index = r + 1\n",
    "\n",
    "                parameters.disease_parameters.d = d[R][r]\n",
    "                parameters.transmission_parameters.beta = beta[R][r]\n",
    "\n",
    "                # Simulate using the ODE solver\n",
    "                regimes_outputs.append(model.simulate(parameters))\n",
    "\n",
    "            scenario_outputs.append(regimes_outputs)\n",
    "\n",
    "        ss_scenario_outputs.append(scenario_outputs)\n",
    "        ss_scenario_total_pop.append(scenario_total_pop)\n",
    "\n",
    "    current_vacc_outputs.append(ss_scenario_outputs)\n",
    "    current_vacc_total_pop.append(ss_scenario_total_pop)\n",
    "\n",
    "current_vacc_outputs = np.array(current_vacc_outputs)"
   ]
  },
  {
   "cell_type": "markdown",
   "metadata": {},
   "source": [
    "## Save the model output data"
   ]
  },
  {
   "cell_type": "code",
   "execution_count": 23,
   "metadata": {},
   "outputs": [],
   "source": [
    "# Save output as a numpy matrix file\n",
    "np.save('outputs/variant_adapted_vaccine_output1', var_adapted_outputs)\n",
    "np.save('outputs/variant_adapted_vaccine_pop1', var_adapted_total_pop)\n",
    "\n",
    "np.save('outputs/current_vaccine_output1', current_vacc_outputs)\n",
    "np.save('outputs/current_vaccine_pop1', current_vacc_total_pop)"
   ]
  },
  {
   "cell_type": "markdown",
   "metadata": {},
   "source": [
    "## Reload model output data"
   ]
  },
  {
   "cell_type": "code",
   "execution_count": 24,
   "metadata": {},
   "outputs": [],
   "source": [
    "outputs = [np.load('outputs/variant_adapted_vaccine_output1.npy'), np.load('outputs/current_vaccine_output1.npy')]\n",
    "total_pop = [np.load('outputs/variant_adapted_vaccine_pop1.npy').tolist(), np.load('outputs/current_vaccine_pop1.npy').tolist()]"
   ]
  },
  {
   "cell_type": "markdown",
   "metadata": {},
   "source": [
    "## Plot the comparments of the two methods against each other\n",
    "### Setup ``plotly`` and default settings for plotting"
   ]
  },
  {
   "cell_type": "code",
   "execution_count": 25,
   "metadata": {},
   "outputs": [],
   "source": [
    "from plotly.subplots import make_subplots\n",
    "\n",
    "colours = ['blue', 'orange', 'green', 'red', 'purple', 'deepskyblue', 'black', 'pink']"
   ]
  },
  {
   "attachments": {},
   "cell_type": "markdown",
   "metadata": {},
   "source": [
    "## Number of New Infections and Deaths"
   ]
  },
  {
   "cell_type": "code",
   "execution_count": 26,
   "metadata": {},
   "outputs": [],
   "source": [
    "# Simulate for all the regions\n",
    "total_new_infections = []\n",
    "total_new_deaths = []\n",
    "\n",
    "for cv, change_vacc in enumerate(changes_vaccine):\n",
    "    cv_total_new_infections = []\n",
    "    cv_total_new_deaths = []\n",
    "    for ss, sero_scen in enumerate(seroprevalance_scenarios):\n",
    "        ss_total_new_infections = []\n",
    "        ss_total_new_deaths = []\n",
    "        for s, scenario in enumerate(scenario_names):\n",
    "            scenario_total_new_infections = []\n",
    "            scenario_total_new_deaths = []\n",
    "            for R, regime in enumerate(regimes):\n",
    "                regimes_total_new_infections = []\n",
    "                regimes_total_new_deaths = []\n",
    "\n",
    "                model.vaccine_param[6] = cv_nu_sev_h[cv][R]\n",
    "                model.vaccine_param[7] = cv_nu_sev_d[cv][R]\n",
    "                for r, reg in enumerate(regions):\n",
    "                    # Compute regional matrix of new symptomatic infections for all timepoints simulated\n",
    "                    reg_new_infections = model.new_infections(outputs[cv][ss, s, R, r, :, :])\n",
    "\n",
    "                    # Compute regional matrix of new hospitalisation for all timepoints simulated\n",
    "                    reg_new_hospitalisation = model.new_hospitalisations(reg_new_infections, pItoH[R][r], dItoH[R])\n",
    "\n",
    "                    # Compute regional matrix of new deaths for all timepoints simulated\n",
    "                    reg_new_deaths = model.new_deaths(reg_new_hospitalisation, pHtoD[R][r], dHtoD[R])\n",
    "\n",
    "                    regimes_total_new_infections.append(((10**5) / np.sum(total_pop[cv][ss][s][R][r])) * np.sum( \n",
    "                        reg_new_infections[0] + reg_new_infections[1] + reg_new_infections[2] +\n",
    "                        reg_new_infections[3] + reg_new_infections[4] + reg_new_infections[5],\n",
    "                        axis=1))\n",
    "                    \n",
    "                    regimes_total_new_deaths.append(((10**5) / np.sum(total_pop[cv][ss][s][R][r])) * np.sum( \n",
    "                        reg_new_deaths[0] + reg_new_deaths[1] + reg_new_deaths[2] +\n",
    "                        reg_new_deaths[3] + reg_new_deaths[4] + reg_new_deaths[5],\n",
    "                        axis=1))\n",
    "\n",
    "                scenario_total_new_infections.append(regimes_total_new_infections)\n",
    "                scenario_total_new_deaths.append(regimes_total_new_deaths)\n",
    "            \n",
    "            ss_total_new_infections.append(scenario_total_new_infections)\n",
    "            ss_total_new_deaths.append(scenario_total_new_deaths)\n",
    "\n",
    "        cv_total_new_infections.append(ss_total_new_infections)\n",
    "        cv_total_new_deaths.append(ss_total_new_deaths)\n",
    "\n",
    "    total_new_infections.append(cv_total_new_infections)\n",
    "    total_new_deaths.append(cv_total_new_deaths)\n",
    "\n",
    "total_new_infections = np.array(total_new_infections)\n",
    "total_new_deaths = np.array(total_new_deaths)"
   ]
  },
  {
   "cell_type": "code",
   "execution_count": 27,
   "metadata": {},
   "outputs": [],
   "source": [
    "# Set up traces to plot\n",
    "total_new_infections_mean = []\n",
    "total_new_infections_upper = []\n",
    "total_new_infections_lower = []\n",
    "\n",
    "total_new_deaths_mean = []\n",
    "total_new_deaths_upper = []\n",
    "total_new_deaths_lower = []\n",
    "\n",
    "for r, _ in enumerate(regions):\n",
    "    # Compute the mean\n",
    "    total_new_infections_mean.append(np.mean(total_new_infections[:,:,:,:,r,:], axis=3))\n",
    "    total_new_deaths_mean.append(np.mean(total_new_deaths[:,:,:,:,r,:], axis=3))\n",
    "    \n",
    "    # Compute the upper quantiles\n",
    "    total_new_infections_upper.append(np.quantile(total_new_infections[:,:,:,:,r,:], 0.975, axis=3))\n",
    "    total_new_deaths_upper.append(np.quantile(total_new_deaths[:,:,:,:,r,:], 0.975, axis=3))\n",
    "    \n",
    "    # Compute the lower quantiles\n",
    "    total_new_infections_lower.append(np.quantile(total_new_infections[:,:,:,:,r,:], 0.025, axis=3))    \n",
    "    total_new_deaths_lower.append(np.quantile(total_new_deaths[:,:,:,:,r,:], 0.025, axis=3))"
   ]
  },
  {
   "cell_type": "markdown",
   "metadata": {},
   "source": [
    "## Summary Figures\n",
    "### Total Deaths"
   ]
  },
  {
   "cell_type": "code",
   "execution_count": 28,
   "metadata": {},
   "outputs": [],
   "source": [
    "new_seroprevalance_scenarios = ['Increased immunity', 'Original estimates', 'Decreased immunity',]\n",
    "new_seroprevalance_scenarios_indeces = [3, 1, 2]"
   ]
  },
  {
   "cell_type": "code",
   "execution_count": 29,
   "metadata": {},
   "outputs": [
    {
     "data": {
      "application/vnd.plotly.v1+json": {
       "config": {
        "plotlyServerURL": "https://plot.ly"
       },
       "data": [
        {
         "marker": {
          "color": "blue"
         },
         "name": "Strategy 1",
         "type": "bar",
         "x": [
          "Increased immunity<br>",
          "Original estimates<br>",
          "Decreased immunity<br>"
         ],
         "xaxis": "x",
         "y": [
          4.589437000169944,
          4.828400670745836,
          5.31155090542004
         ],
         "yaxis": "y"
        },
        {
         "marker": {
          "color": "orange"
         },
         "name": "Strategy 2",
         "type": "bar",
         "x": [
          "Increased immunity<br>",
          "Original estimates<br>",
          "Decreased immunity<br>"
         ],
         "xaxis": "x",
         "y": [
          5.250190488604849,
          5.718516032240823,
          6.838218923828411
         ],
         "yaxis": "y"
        },
        {
         "marker": {
          "color": "green"
         },
         "name": "Strategy 3",
         "type": "bar",
         "x": [
          "Increased immunity<br>",
          "Original estimates<br>",
          "Decreased immunity<br>"
         ],
         "xaxis": "x",
         "y": [
          5.250190488604849,
          5.7185160322356285,
          6.838218923822758
         ],
         "yaxis": "y"
        },
        {
         "marker": {
          "color": "red"
         },
         "name": "Strategy 4",
         "type": "bar",
         "x": [
          "Increased immunity<br>",
          "Original estimates<br>",
          "Decreased immunity<br>"
         ],
         "xaxis": "x",
         "y": [
          5.503338556353846,
          6.054967853639633,
          7.423545127282138
         ],
         "yaxis": "y"
        },
        {
         "marker": {
          "color": "purple"
         },
         "name": "Strategy 5",
         "type": "bar",
         "x": [
          "Increased immunity<br>",
          "Original estimates<br>",
          "Decreased immunity<br>"
         ],
         "xaxis": "x",
         "y": [
          5.533440393263758,
          6.095111959278098,
          7.492695644194869
         ],
         "yaxis": "y"
        },
        {
         "marker": {
          "color": "deepskyblue"
         },
         "name": "Strategy 6",
         "type": "bar",
         "x": [
          "Increased immunity<br>",
          "Original estimates<br>",
          "Decreased immunity<br>"
         ],
         "xaxis": "x",
         "y": [
          5.53344039329575,
          6.0951119592427645,
          7.492695644189027
         ],
         "yaxis": "y"
        },
        {
         "marker": {
          "color": "black"
         },
         "name": "No boosters",
         "type": "bar",
         "x": [
          "Increased immunity<br>",
          "Original estimates<br>",
          "Decreased immunity<br>"
         ],
         "xaxis": "x",
         "y": [
          5.527625872419817,
          6.091714225800819,
          7.490825459059598
         ],
         "yaxis": "y"
        },
        {
         "marker": {
          "color": "blue"
         },
         "name": "Strategy 1",
         "showlegend": false,
         "type": "bar",
         "x": [
          "Increased immunity<br>",
          "Original estimates<br>",
          "Decreased immunity<br>"
         ],
         "xaxis": "x2",
         "y": [
          8.874242224629889,
          9.679630540758442,
          10.357629031943029
         ],
         "yaxis": "y2"
        },
        {
         "marker": {
          "color": "orange"
         },
         "name": "Strategy 2",
         "showlegend": false,
         "type": "bar",
         "x": [
          "Increased immunity<br>",
          "Original estimates<br>",
          "Decreased immunity<br>"
         ],
         "xaxis": "x2",
         "y": [
          9.321681487250064,
          10.264012560923664,
          11.425842648182723
         ],
         "yaxis": "y2"
        },
        {
         "marker": {
          "color": "green"
         },
         "name": "Strategy 3",
         "showlegend": false,
         "type": "bar",
         "x": [
          "Increased immunity<br>",
          "Original estimates<br>",
          "Decreased immunity<br>"
         ],
         "xaxis": "x2",
         "y": [
          9.321681487250064,
          10.264012560879213,
          11.42584264820373
         ],
         "yaxis": "y2"
        },
        {
         "marker": {
          "color": "red"
         },
         "name": "Strategy 4",
         "showlegend": false,
         "type": "bar",
         "x": [
          "Increased immunity<br>",
          "Original estimates<br>",
          "Decreased immunity<br>"
         ],
         "xaxis": "x2",
         "y": [
          9.483650934102371,
          10.472558573223388,
          11.82164107477614
         ],
         "yaxis": "y2"
        },
        {
         "marker": {
          "color": "purple"
         },
         "name": "Strategy 5",
         "showlegend": false,
         "type": "bar",
         "x": [
          "Increased immunity<br>",
          "Original estimates<br>",
          "Decreased immunity<br>"
         ],
         "xaxis": "x2",
         "y": [
          9.504260377349386,
          10.499085953301595,
          11.870443047922322
         ],
         "yaxis": "y2"
        },
        {
         "marker": {
          "color": "deepskyblue"
         },
         "name": "Strategy 6",
         "showlegend": false,
         "type": "bar",
         "x": [
          "Increased immunity<br>",
          "Original estimates<br>",
          "Decreased immunity<br>"
         ],
         "xaxis": "x2",
         "y": [
          9.504260377361884,
          10.499085953289782,
          11.870443047869946
         ],
         "yaxis": "y2"
        },
        {
         "marker": {
          "color": "black"
         },
         "name": "No boosters",
         "showlegend": false,
         "type": "bar",
         "x": [
          "Increased immunity<br>",
          "Original estimates<br>",
          "Decreased immunity<br>"
         ],
         "xaxis": "x2",
         "y": [
          9.503578052763629,
          10.49993518057482,
          11.872742871910496
         ],
         "yaxis": "y2"
        }
       ],
       "layout": {
        "annotations": [
         {
          "font": {
           "size": 16
          },
          "showarrow": false,
          "text": "No reduction",
          "x": 0.225,
          "xanchor": "center",
          "xref": "paper",
          "y": -0.05,
          "yanchor": "top",
          "yref": "paper"
         },
         {
          "font": {
           "size": 16
          },
          "showarrow": false,
          "text": "20% reduced",
          "x": 0.775,
          "xanchor": "center",
          "xref": "paper",
          "y": -0.05,
          "yanchor": "top",
          "yref": "paper"
         }
        ],
        "boxmode": "group",
        "height": 600,
        "hovermode": "x unified",
        "legend": {
         "orientation": "h",
         "x": 1.2,
         "xanchor": "right",
         "y": 0.98,
         "yanchor": "bottom"
        },
        "plot_bgcolor": "white",
        "template": {
         "data": {
          "bar": [
           {
            "error_x": {
             "color": "#2a3f5f"
            },
            "error_y": {
             "color": "#2a3f5f"
            },
            "marker": {
             "line": {
              "color": "#E5ECF6",
              "width": 0.5
             },
             "pattern": {
              "fillmode": "overlay",
              "size": 10,
              "solidity": 0.2
             }
            },
            "type": "bar"
           }
          ],
          "barpolar": [
           {
            "marker": {
             "line": {
              "color": "#E5ECF6",
              "width": 0.5
             },
             "pattern": {
              "fillmode": "overlay",
              "size": 10,
              "solidity": 0.2
             }
            },
            "type": "barpolar"
           }
          ],
          "carpet": [
           {
            "aaxis": {
             "endlinecolor": "#2a3f5f",
             "gridcolor": "white",
             "linecolor": "white",
             "minorgridcolor": "white",
             "startlinecolor": "#2a3f5f"
            },
            "baxis": {
             "endlinecolor": "#2a3f5f",
             "gridcolor": "white",
             "linecolor": "white",
             "minorgridcolor": "white",
             "startlinecolor": "#2a3f5f"
            },
            "type": "carpet"
           }
          ],
          "choropleth": [
           {
            "colorbar": {
             "outlinewidth": 0,
             "ticks": ""
            },
            "type": "choropleth"
           }
          ],
          "contour": [
           {
            "colorbar": {
             "outlinewidth": 0,
             "ticks": ""
            },
            "colorscale": [
             [
              0,
              "#0d0887"
             ],
             [
              0.1111111111111111,
              "#46039f"
             ],
             [
              0.2222222222222222,
              "#7201a8"
             ],
             [
              0.3333333333333333,
              "#9c179e"
             ],
             [
              0.4444444444444444,
              "#bd3786"
             ],
             [
              0.5555555555555556,
              "#d8576b"
             ],
             [
              0.6666666666666666,
              "#ed7953"
             ],
             [
              0.7777777777777778,
              "#fb9f3a"
             ],
             [
              0.8888888888888888,
              "#fdca26"
             ],
             [
              1,
              "#f0f921"
             ]
            ],
            "type": "contour"
           }
          ],
          "contourcarpet": [
           {
            "colorbar": {
             "outlinewidth": 0,
             "ticks": ""
            },
            "type": "contourcarpet"
           }
          ],
          "heatmap": [
           {
            "colorbar": {
             "outlinewidth": 0,
             "ticks": ""
            },
            "colorscale": [
             [
              0,
              "#0d0887"
             ],
             [
              0.1111111111111111,
              "#46039f"
             ],
             [
              0.2222222222222222,
              "#7201a8"
             ],
             [
              0.3333333333333333,
              "#9c179e"
             ],
             [
              0.4444444444444444,
              "#bd3786"
             ],
             [
              0.5555555555555556,
              "#d8576b"
             ],
             [
              0.6666666666666666,
              "#ed7953"
             ],
             [
              0.7777777777777778,
              "#fb9f3a"
             ],
             [
              0.8888888888888888,
              "#fdca26"
             ],
             [
              1,
              "#f0f921"
             ]
            ],
            "type": "heatmap"
           }
          ],
          "heatmapgl": [
           {
            "colorbar": {
             "outlinewidth": 0,
             "ticks": ""
            },
            "colorscale": [
             [
              0,
              "#0d0887"
             ],
             [
              0.1111111111111111,
              "#46039f"
             ],
             [
              0.2222222222222222,
              "#7201a8"
             ],
             [
              0.3333333333333333,
              "#9c179e"
             ],
             [
              0.4444444444444444,
              "#bd3786"
             ],
             [
              0.5555555555555556,
              "#d8576b"
             ],
             [
              0.6666666666666666,
              "#ed7953"
             ],
             [
              0.7777777777777778,
              "#fb9f3a"
             ],
             [
              0.8888888888888888,
              "#fdca26"
             ],
             [
              1,
              "#f0f921"
             ]
            ],
            "type": "heatmapgl"
           }
          ],
          "histogram": [
           {
            "marker": {
             "pattern": {
              "fillmode": "overlay",
              "size": 10,
              "solidity": 0.2
             }
            },
            "type": "histogram"
           }
          ],
          "histogram2d": [
           {
            "colorbar": {
             "outlinewidth": 0,
             "ticks": ""
            },
            "colorscale": [
             [
              0,
              "#0d0887"
             ],
             [
              0.1111111111111111,
              "#46039f"
             ],
             [
              0.2222222222222222,
              "#7201a8"
             ],
             [
              0.3333333333333333,
              "#9c179e"
             ],
             [
              0.4444444444444444,
              "#bd3786"
             ],
             [
              0.5555555555555556,
              "#d8576b"
             ],
             [
              0.6666666666666666,
              "#ed7953"
             ],
             [
              0.7777777777777778,
              "#fb9f3a"
             ],
             [
              0.8888888888888888,
              "#fdca26"
             ],
             [
              1,
              "#f0f921"
             ]
            ],
            "type": "histogram2d"
           }
          ],
          "histogram2dcontour": [
           {
            "colorbar": {
             "outlinewidth": 0,
             "ticks": ""
            },
            "colorscale": [
             [
              0,
              "#0d0887"
             ],
             [
              0.1111111111111111,
              "#46039f"
             ],
             [
              0.2222222222222222,
              "#7201a8"
             ],
             [
              0.3333333333333333,
              "#9c179e"
             ],
             [
              0.4444444444444444,
              "#bd3786"
             ],
             [
              0.5555555555555556,
              "#d8576b"
             ],
             [
              0.6666666666666666,
              "#ed7953"
             ],
             [
              0.7777777777777778,
              "#fb9f3a"
             ],
             [
              0.8888888888888888,
              "#fdca26"
             ],
             [
              1,
              "#f0f921"
             ]
            ],
            "type": "histogram2dcontour"
           }
          ],
          "mesh3d": [
           {
            "colorbar": {
             "outlinewidth": 0,
             "ticks": ""
            },
            "type": "mesh3d"
           }
          ],
          "parcoords": [
           {
            "line": {
             "colorbar": {
              "outlinewidth": 0,
              "ticks": ""
             }
            },
            "type": "parcoords"
           }
          ],
          "pie": [
           {
            "automargin": true,
            "type": "pie"
           }
          ],
          "scatter": [
           {
            "fillpattern": {
             "fillmode": "overlay",
             "size": 10,
             "solidity": 0.2
            },
            "type": "scatter"
           }
          ],
          "scatter3d": [
           {
            "line": {
             "colorbar": {
              "outlinewidth": 0,
              "ticks": ""
             }
            },
            "marker": {
             "colorbar": {
              "outlinewidth": 0,
              "ticks": ""
             }
            },
            "type": "scatter3d"
           }
          ],
          "scattercarpet": [
           {
            "marker": {
             "colorbar": {
              "outlinewidth": 0,
              "ticks": ""
             }
            },
            "type": "scattercarpet"
           }
          ],
          "scattergeo": [
           {
            "marker": {
             "colorbar": {
              "outlinewidth": 0,
              "ticks": ""
             }
            },
            "type": "scattergeo"
           }
          ],
          "scattergl": [
           {
            "marker": {
             "colorbar": {
              "outlinewidth": 0,
              "ticks": ""
             }
            },
            "type": "scattergl"
           }
          ],
          "scattermapbox": [
           {
            "marker": {
             "colorbar": {
              "outlinewidth": 0,
              "ticks": ""
             }
            },
            "type": "scattermapbox"
           }
          ],
          "scatterpolar": [
           {
            "marker": {
             "colorbar": {
              "outlinewidth": 0,
              "ticks": ""
             }
            },
            "type": "scatterpolar"
           }
          ],
          "scatterpolargl": [
           {
            "marker": {
             "colorbar": {
              "outlinewidth": 0,
              "ticks": ""
             }
            },
            "type": "scatterpolargl"
           }
          ],
          "scatterternary": [
           {
            "marker": {
             "colorbar": {
              "outlinewidth": 0,
              "ticks": ""
             }
            },
            "type": "scatterternary"
           }
          ],
          "surface": [
           {
            "colorbar": {
             "outlinewidth": 0,
             "ticks": ""
            },
            "colorscale": [
             [
              0,
              "#0d0887"
             ],
             [
              0.1111111111111111,
              "#46039f"
             ],
             [
              0.2222222222222222,
              "#7201a8"
             ],
             [
              0.3333333333333333,
              "#9c179e"
             ],
             [
              0.4444444444444444,
              "#bd3786"
             ],
             [
              0.5555555555555556,
              "#d8576b"
             ],
             [
              0.6666666666666666,
              "#ed7953"
             ],
             [
              0.7777777777777778,
              "#fb9f3a"
             ],
             [
              0.8888888888888888,
              "#fdca26"
             ],
             [
              1,
              "#f0f921"
             ]
            ],
            "type": "surface"
           }
          ],
          "table": [
           {
            "cells": {
             "fill": {
              "color": "#EBF0F8"
             },
             "line": {
              "color": "white"
             }
            },
            "header": {
             "fill": {
              "color": "#C8D4E3"
             },
             "line": {
              "color": "white"
             }
            },
            "type": "table"
           }
          ]
         },
         "layout": {
          "annotationdefaults": {
           "arrowcolor": "#2a3f5f",
           "arrowhead": 0,
           "arrowwidth": 1
          },
          "autotypenumbers": "strict",
          "coloraxis": {
           "colorbar": {
            "outlinewidth": 0,
            "ticks": ""
           }
          },
          "colorscale": {
           "diverging": [
            [
             0,
             "#8e0152"
            ],
            [
             0.1,
             "#c51b7d"
            ],
            [
             0.2,
             "#de77ae"
            ],
            [
             0.3,
             "#f1b6da"
            ],
            [
             0.4,
             "#fde0ef"
            ],
            [
             0.5,
             "#f7f7f7"
            ],
            [
             0.6,
             "#e6f5d0"
            ],
            [
             0.7,
             "#b8e186"
            ],
            [
             0.8,
             "#7fbc41"
            ],
            [
             0.9,
             "#4d9221"
            ],
            [
             1,
             "#276419"
            ]
           ],
           "sequential": [
            [
             0,
             "#0d0887"
            ],
            [
             0.1111111111111111,
             "#46039f"
            ],
            [
             0.2222222222222222,
             "#7201a8"
            ],
            [
             0.3333333333333333,
             "#9c179e"
            ],
            [
             0.4444444444444444,
             "#bd3786"
            ],
            [
             0.5555555555555556,
             "#d8576b"
            ],
            [
             0.6666666666666666,
             "#ed7953"
            ],
            [
             0.7777777777777778,
             "#fb9f3a"
            ],
            [
             0.8888888888888888,
             "#fdca26"
            ],
            [
             1,
             "#f0f921"
            ]
           ],
           "sequentialminus": [
            [
             0,
             "#0d0887"
            ],
            [
             0.1111111111111111,
             "#46039f"
            ],
            [
             0.2222222222222222,
             "#7201a8"
            ],
            [
             0.3333333333333333,
             "#9c179e"
            ],
            [
             0.4444444444444444,
             "#bd3786"
            ],
            [
             0.5555555555555556,
             "#d8576b"
            ],
            [
             0.6666666666666666,
             "#ed7953"
            ],
            [
             0.7777777777777778,
             "#fb9f3a"
            ],
            [
             0.8888888888888888,
             "#fdca26"
            ],
            [
             1,
             "#f0f921"
            ]
           ]
          },
          "colorway": [
           "#636efa",
           "#EF553B",
           "#00cc96",
           "#ab63fa",
           "#FFA15A",
           "#19d3f3",
           "#FF6692",
           "#B6E880",
           "#FF97FF",
           "#FECB52"
          ],
          "font": {
           "color": "#2a3f5f"
          },
          "geo": {
           "bgcolor": "white",
           "lakecolor": "white",
           "landcolor": "#E5ECF6",
           "showlakes": true,
           "showland": true,
           "subunitcolor": "white"
          },
          "hoverlabel": {
           "align": "left"
          },
          "hovermode": "closest",
          "mapbox": {
           "style": "light"
          },
          "paper_bgcolor": "white",
          "plot_bgcolor": "#E5ECF6",
          "polar": {
           "angularaxis": {
            "gridcolor": "white",
            "linecolor": "white",
            "ticks": ""
           },
           "bgcolor": "#E5ECF6",
           "radialaxis": {
            "gridcolor": "white",
            "linecolor": "white",
            "ticks": ""
           }
          },
          "scene": {
           "xaxis": {
            "backgroundcolor": "#E5ECF6",
            "gridcolor": "white",
            "gridwidth": 2,
            "linecolor": "white",
            "showbackground": true,
            "ticks": "",
            "zerolinecolor": "white"
           },
           "yaxis": {
            "backgroundcolor": "#E5ECF6",
            "gridcolor": "white",
            "gridwidth": 2,
            "linecolor": "white",
            "showbackground": true,
            "ticks": "",
            "zerolinecolor": "white"
           },
           "zaxis": {
            "backgroundcolor": "#E5ECF6",
            "gridcolor": "white",
            "gridwidth": 2,
            "linecolor": "white",
            "showbackground": true,
            "ticks": "",
            "zerolinecolor": "white"
           }
          },
          "shapedefaults": {
           "line": {
            "color": "#2a3f5f"
           }
          },
          "ternary": {
           "aaxis": {
            "gridcolor": "white",
            "linecolor": "white",
            "ticks": ""
           },
           "baxis": {
            "gridcolor": "white",
            "linecolor": "white",
            "ticks": ""
           },
           "bgcolor": "#E5ECF6",
           "caxis": {
            "gridcolor": "white",
            "linecolor": "white",
            "ticks": ""
           }
          },
          "title": {
           "x": 0.05
          },
          "xaxis": {
           "automargin": true,
           "gridcolor": "white",
           "linecolor": "white",
           "ticks": "",
           "title": {
            "standoff": 15
           },
           "zerolinecolor": "white",
           "zerolinewidth": 2
          },
          "yaxis": {
           "automargin": true,
           "gridcolor": "white",
           "linecolor": "white",
           "ticks": "",
           "title": {
            "standoff": 15
           },
           "zerolinecolor": "white",
           "zerolinewidth": 2
          }
         }
        },
        "title": {
         "text": "Mean deaths per 100,000 for different vaccine efficacies, immunity effects and scenarios<br>United Kingdom"
        },
        "width": 1100,
        "xaxis": {
         "anchor": "y",
         "domain": [
          0,
          0.45
         ],
         "linecolor": "black"
        },
        "xaxis2": {
         "anchor": "y2",
         "domain": [
          0.55,
          1
         ],
         "linecolor": "black"
        },
        "yaxis": {
         "anchor": "x",
         "domain": [
          0,
          1
         ],
         "linecolor": "black"
        },
        "yaxis2": {
         "anchor": "x2",
         "domain": [
          0,
          1
         ],
         "matches": "y",
         "showticklabels": false,
         "visible": false
        }
       }
      }
     },
     "metadata": {},
     "output_type": "display_data"
    },
    {
     "data": {
      "application/vnd.plotly.v1+json": {
       "config": {
        "plotlyServerURL": "https://plot.ly"
       },
       "data": [
        {
         "marker": {
          "color": "blue"
         },
         "name": "Strategy 1",
         "type": "bar",
         "x": [
          "Increased immunity<br>",
          "Original estimates<br>",
          "Decreased immunity<br>"
         ],
         "xaxis": "x",
         "y": [
          4.487966963518041,
          4.7217419021285405,
          5.13957060227729
         ],
         "yaxis": "y"
        },
        {
         "marker": {
          "color": "orange"
         },
         "name": "Strategy 2",
         "type": "bar",
         "x": [
          "Increased immunity<br>",
          "Original estimates<br>",
          "Decreased immunity<br>"
         ],
         "xaxis": "x",
         "y": [
          5.030355965973502,
          5.475449131021953,
          6.483642487149206
         ],
         "yaxis": "y"
        },
        {
         "marker": {
          "color": "green"
         },
         "name": "Strategy 3",
         "type": "bar",
         "x": [
          "Increased immunity<br>",
          "Original estimates<br>",
          "Decreased immunity<br>"
         ],
         "xaxis": "x",
         "y": [
          5.030355965963288,
          5.475449131027332,
          6.483642487159366
         ],
         "yaxis": "y"
        },
        {
         "marker": {
          "color": "red"
         },
         "name": "Strategy 4",
         "type": "bar",
         "x": [
          "Increased immunity<br>",
          "Original estimates<br>",
          "Decreased immunity<br>"
         ],
         "xaxis": "x",
         "y": [
          5.255741875073767,
          5.771364174891854,
          7.004128287053895
         ],
         "yaxis": "y"
        },
        {
         "marker": {
          "color": "purple"
         },
         "name": "Strategy 5",
         "type": "bar",
         "x": [
          "Increased immunity<br>",
          "Original estimates<br>",
          "Decreased immunity<br>"
         ],
         "xaxis": "x",
         "y": [
          5.285629364353916,
          5.8087828783625195,
          7.070022638619157
         ],
         "yaxis": "y"
        },
        {
         "marker": {
          "color": "deepskyblue"
         },
         "name": "Strategy 6",
         "type": "bar",
         "x": [
          "Increased immunity<br>",
          "Original estimates<br>",
          "Decreased immunity<br>"
         ],
         "xaxis": "x",
         "y": [
          5.285629364357028,
          5.808782878362857,
          7.0700226386235885
         ],
         "yaxis": "y"
        },
        {
         "marker": {
          "color": "black"
         },
         "name": "No boosters",
         "type": "bar",
         "x": [
          "Increased immunity<br>",
          "Original estimates<br>",
          "Decreased immunity<br>"
         ],
         "xaxis": "x",
         "y": [
          5.289610723344125,
          5.813859722631914,
          7.077027090304645
         ],
         "yaxis": "y"
        },
        {
         "marker": {
          "color": "blue"
         },
         "name": "Strategy 1",
         "showlegend": false,
         "type": "bar",
         "x": [
          "Increased immunity<br>",
          "Original estimates<br>",
          "Decreased immunity<br>"
         ],
         "xaxis": "x2",
         "y": [
          9.27108685618293,
          9.893176561048747,
          10.467239320976393
         ],
         "yaxis": "y2"
        },
        {
         "marker": {
          "color": "orange"
         },
         "name": "Strategy 2",
         "showlegend": false,
         "type": "bar",
         "x": [
          "Increased immunity<br>",
          "Original estimates<br>",
          "Decreased immunity<br>"
         ],
         "xaxis": "x2",
         "y": [
          9.610258307982843,
          10.354761311853911,
          11.367646840109872
         ],
         "yaxis": "y2"
        },
        {
         "marker": {
          "color": "green"
         },
         "name": "Strategy 3",
         "showlegend": false,
         "type": "bar",
         "x": [
          "Increased immunity<br>",
          "Original estimates<br>",
          "Decreased immunity<br>"
         ],
         "xaxis": "x2",
         "y": [
          9.61025830799391,
          10.354761311842168,
          11.367646840105403
         ],
         "yaxis": "y2"
        },
        {
         "marker": {
          "color": "red"
         },
         "name": "Strategy 4",
         "showlegend": false,
         "type": "bar",
         "x": [
          "Increased immunity<br>",
          "Original estimates<br>",
          "Decreased immunity<br>"
         ],
         "xaxis": "x2",
         "y": [
          9.743080860396049,
          10.526495870299904,
          11.706491198447639
         ],
         "yaxis": "y2"
        },
        {
         "marker": {
          "color": "purple"
         },
         "name": "Strategy 5",
         "showlegend": false,
         "type": "bar",
         "x": [
          "Increased immunity<br>",
          "Original estimates<br>",
          "Decreased immunity<br>"
         ],
         "xaxis": "x2",
         "y": [
          9.761306556018605,
          10.548944282012236,
          11.750480280813093
         ],
         "yaxis": "y2"
        },
        {
         "marker": {
          "color": "deepskyblue"
         },
         "name": "Strategy 6",
         "showlegend": false,
         "type": "bar",
         "x": [
          "Increased immunity<br>",
          "Original estimates<br>",
          "Decreased immunity<br>"
         ],
         "xaxis": "x2",
         "y": [
          9.761306556016834,
          10.548944282014102,
          11.750480280801902
         ],
         "yaxis": "y2"
        },
        {
         "marker": {
          "color": "black"
         },
         "name": "No boosters",
         "showlegend": false,
         "type": "bar",
         "x": [
          "Increased immunity<br>",
          "Original estimates<br>",
          "Decreased immunity<br>"
         ],
         "xaxis": "x2",
         "y": [
          9.765825495650365,
          10.554060140795995,
          11.757311143138605
         ],
         "yaxis": "y2"
        }
       ],
       "layout": {
        "annotations": [
         {
          "font": {
           "size": 16
          },
          "showarrow": false,
          "text": "No reduction",
          "x": 0.225,
          "xanchor": "center",
          "xref": "paper",
          "y": -0.05,
          "yanchor": "top",
          "yref": "paper"
         },
         {
          "font": {
           "size": 16
          },
          "showarrow": false,
          "text": "20% reduced",
          "x": 0.775,
          "xanchor": "center",
          "xref": "paper",
          "y": -0.05,
          "yanchor": "top",
          "yref": "paper"
         }
        ],
        "boxmode": "group",
        "height": 600,
        "hovermode": "x unified",
        "legend": {
         "orientation": "h",
         "x": 1.2,
         "xanchor": "right",
         "y": 0.98,
         "yanchor": "bottom"
        },
        "plot_bgcolor": "white",
        "template": {
         "data": {
          "bar": [
           {
            "error_x": {
             "color": "#2a3f5f"
            },
            "error_y": {
             "color": "#2a3f5f"
            },
            "marker": {
             "line": {
              "color": "#E5ECF6",
              "width": 0.5
             },
             "pattern": {
              "fillmode": "overlay",
              "size": 10,
              "solidity": 0.2
             }
            },
            "type": "bar"
           }
          ],
          "barpolar": [
           {
            "marker": {
             "line": {
              "color": "#E5ECF6",
              "width": 0.5
             },
             "pattern": {
              "fillmode": "overlay",
              "size": 10,
              "solidity": 0.2
             }
            },
            "type": "barpolar"
           }
          ],
          "carpet": [
           {
            "aaxis": {
             "endlinecolor": "#2a3f5f",
             "gridcolor": "white",
             "linecolor": "white",
             "minorgridcolor": "white",
             "startlinecolor": "#2a3f5f"
            },
            "baxis": {
             "endlinecolor": "#2a3f5f",
             "gridcolor": "white",
             "linecolor": "white",
             "minorgridcolor": "white",
             "startlinecolor": "#2a3f5f"
            },
            "type": "carpet"
           }
          ],
          "choropleth": [
           {
            "colorbar": {
             "outlinewidth": 0,
             "ticks": ""
            },
            "type": "choropleth"
           }
          ],
          "contour": [
           {
            "colorbar": {
             "outlinewidth": 0,
             "ticks": ""
            },
            "colorscale": [
             [
              0,
              "#0d0887"
             ],
             [
              0.1111111111111111,
              "#46039f"
             ],
             [
              0.2222222222222222,
              "#7201a8"
             ],
             [
              0.3333333333333333,
              "#9c179e"
             ],
             [
              0.4444444444444444,
              "#bd3786"
             ],
             [
              0.5555555555555556,
              "#d8576b"
             ],
             [
              0.6666666666666666,
              "#ed7953"
             ],
             [
              0.7777777777777778,
              "#fb9f3a"
             ],
             [
              0.8888888888888888,
              "#fdca26"
             ],
             [
              1,
              "#f0f921"
             ]
            ],
            "type": "contour"
           }
          ],
          "contourcarpet": [
           {
            "colorbar": {
             "outlinewidth": 0,
             "ticks": ""
            },
            "type": "contourcarpet"
           }
          ],
          "heatmap": [
           {
            "colorbar": {
             "outlinewidth": 0,
             "ticks": ""
            },
            "colorscale": [
             [
              0,
              "#0d0887"
             ],
             [
              0.1111111111111111,
              "#46039f"
             ],
             [
              0.2222222222222222,
              "#7201a8"
             ],
             [
              0.3333333333333333,
              "#9c179e"
             ],
             [
              0.4444444444444444,
              "#bd3786"
             ],
             [
              0.5555555555555556,
              "#d8576b"
             ],
             [
              0.6666666666666666,
              "#ed7953"
             ],
             [
              0.7777777777777778,
              "#fb9f3a"
             ],
             [
              0.8888888888888888,
              "#fdca26"
             ],
             [
              1,
              "#f0f921"
             ]
            ],
            "type": "heatmap"
           }
          ],
          "heatmapgl": [
           {
            "colorbar": {
             "outlinewidth": 0,
             "ticks": ""
            },
            "colorscale": [
             [
              0,
              "#0d0887"
             ],
             [
              0.1111111111111111,
              "#46039f"
             ],
             [
              0.2222222222222222,
              "#7201a8"
             ],
             [
              0.3333333333333333,
              "#9c179e"
             ],
             [
              0.4444444444444444,
              "#bd3786"
             ],
             [
              0.5555555555555556,
              "#d8576b"
             ],
             [
              0.6666666666666666,
              "#ed7953"
             ],
             [
              0.7777777777777778,
              "#fb9f3a"
             ],
             [
              0.8888888888888888,
              "#fdca26"
             ],
             [
              1,
              "#f0f921"
             ]
            ],
            "type": "heatmapgl"
           }
          ],
          "histogram": [
           {
            "marker": {
             "pattern": {
              "fillmode": "overlay",
              "size": 10,
              "solidity": 0.2
             }
            },
            "type": "histogram"
           }
          ],
          "histogram2d": [
           {
            "colorbar": {
             "outlinewidth": 0,
             "ticks": ""
            },
            "colorscale": [
             [
              0,
              "#0d0887"
             ],
             [
              0.1111111111111111,
              "#46039f"
             ],
             [
              0.2222222222222222,
              "#7201a8"
             ],
             [
              0.3333333333333333,
              "#9c179e"
             ],
             [
              0.4444444444444444,
              "#bd3786"
             ],
             [
              0.5555555555555556,
              "#d8576b"
             ],
             [
              0.6666666666666666,
              "#ed7953"
             ],
             [
              0.7777777777777778,
              "#fb9f3a"
             ],
             [
              0.8888888888888888,
              "#fdca26"
             ],
             [
              1,
              "#f0f921"
             ]
            ],
            "type": "histogram2d"
           }
          ],
          "histogram2dcontour": [
           {
            "colorbar": {
             "outlinewidth": 0,
             "ticks": ""
            },
            "colorscale": [
             [
              0,
              "#0d0887"
             ],
             [
              0.1111111111111111,
              "#46039f"
             ],
             [
              0.2222222222222222,
              "#7201a8"
             ],
             [
              0.3333333333333333,
              "#9c179e"
             ],
             [
              0.4444444444444444,
              "#bd3786"
             ],
             [
              0.5555555555555556,
              "#d8576b"
             ],
             [
              0.6666666666666666,
              "#ed7953"
             ],
             [
              0.7777777777777778,
              "#fb9f3a"
             ],
             [
              0.8888888888888888,
              "#fdca26"
             ],
             [
              1,
              "#f0f921"
             ]
            ],
            "type": "histogram2dcontour"
           }
          ],
          "mesh3d": [
           {
            "colorbar": {
             "outlinewidth": 0,
             "ticks": ""
            },
            "type": "mesh3d"
           }
          ],
          "parcoords": [
           {
            "line": {
             "colorbar": {
              "outlinewidth": 0,
              "ticks": ""
             }
            },
            "type": "parcoords"
           }
          ],
          "pie": [
           {
            "automargin": true,
            "type": "pie"
           }
          ],
          "scatter": [
           {
            "fillpattern": {
             "fillmode": "overlay",
             "size": 10,
             "solidity": 0.2
            },
            "type": "scatter"
           }
          ],
          "scatter3d": [
           {
            "line": {
             "colorbar": {
              "outlinewidth": 0,
              "ticks": ""
             }
            },
            "marker": {
             "colorbar": {
              "outlinewidth": 0,
              "ticks": ""
             }
            },
            "type": "scatter3d"
           }
          ],
          "scattercarpet": [
           {
            "marker": {
             "colorbar": {
              "outlinewidth": 0,
              "ticks": ""
             }
            },
            "type": "scattercarpet"
           }
          ],
          "scattergeo": [
           {
            "marker": {
             "colorbar": {
              "outlinewidth": 0,
              "ticks": ""
             }
            },
            "type": "scattergeo"
           }
          ],
          "scattergl": [
           {
            "marker": {
             "colorbar": {
              "outlinewidth": 0,
              "ticks": ""
             }
            },
            "type": "scattergl"
           }
          ],
          "scattermapbox": [
           {
            "marker": {
             "colorbar": {
              "outlinewidth": 0,
              "ticks": ""
             }
            },
            "type": "scattermapbox"
           }
          ],
          "scatterpolar": [
           {
            "marker": {
             "colorbar": {
              "outlinewidth": 0,
              "ticks": ""
             }
            },
            "type": "scatterpolar"
           }
          ],
          "scatterpolargl": [
           {
            "marker": {
             "colorbar": {
              "outlinewidth": 0,
              "ticks": ""
             }
            },
            "type": "scatterpolargl"
           }
          ],
          "scatterternary": [
           {
            "marker": {
             "colorbar": {
              "outlinewidth": 0,
              "ticks": ""
             }
            },
            "type": "scatterternary"
           }
          ],
          "surface": [
           {
            "colorbar": {
             "outlinewidth": 0,
             "ticks": ""
            },
            "colorscale": [
             [
              0,
              "#0d0887"
             ],
             [
              0.1111111111111111,
              "#46039f"
             ],
             [
              0.2222222222222222,
              "#7201a8"
             ],
             [
              0.3333333333333333,
              "#9c179e"
             ],
             [
              0.4444444444444444,
              "#bd3786"
             ],
             [
              0.5555555555555556,
              "#d8576b"
             ],
             [
              0.6666666666666666,
              "#ed7953"
             ],
             [
              0.7777777777777778,
              "#fb9f3a"
             ],
             [
              0.8888888888888888,
              "#fdca26"
             ],
             [
              1,
              "#f0f921"
             ]
            ],
            "type": "surface"
           }
          ],
          "table": [
           {
            "cells": {
             "fill": {
              "color": "#EBF0F8"
             },
             "line": {
              "color": "white"
             }
            },
            "header": {
             "fill": {
              "color": "#C8D4E3"
             },
             "line": {
              "color": "white"
             }
            },
            "type": "table"
           }
          ]
         },
         "layout": {
          "annotationdefaults": {
           "arrowcolor": "#2a3f5f",
           "arrowhead": 0,
           "arrowwidth": 1
          },
          "autotypenumbers": "strict",
          "coloraxis": {
           "colorbar": {
            "outlinewidth": 0,
            "ticks": ""
           }
          },
          "colorscale": {
           "diverging": [
            [
             0,
             "#8e0152"
            ],
            [
             0.1,
             "#c51b7d"
            ],
            [
             0.2,
             "#de77ae"
            ],
            [
             0.3,
             "#f1b6da"
            ],
            [
             0.4,
             "#fde0ef"
            ],
            [
             0.5,
             "#f7f7f7"
            ],
            [
             0.6,
             "#e6f5d0"
            ],
            [
             0.7,
             "#b8e186"
            ],
            [
             0.8,
             "#7fbc41"
            ],
            [
             0.9,
             "#4d9221"
            ],
            [
             1,
             "#276419"
            ]
           ],
           "sequential": [
            [
             0,
             "#0d0887"
            ],
            [
             0.1111111111111111,
             "#46039f"
            ],
            [
             0.2222222222222222,
             "#7201a8"
            ],
            [
             0.3333333333333333,
             "#9c179e"
            ],
            [
             0.4444444444444444,
             "#bd3786"
            ],
            [
             0.5555555555555556,
             "#d8576b"
            ],
            [
             0.6666666666666666,
             "#ed7953"
            ],
            [
             0.7777777777777778,
             "#fb9f3a"
            ],
            [
             0.8888888888888888,
             "#fdca26"
            ],
            [
             1,
             "#f0f921"
            ]
           ],
           "sequentialminus": [
            [
             0,
             "#0d0887"
            ],
            [
             0.1111111111111111,
             "#46039f"
            ],
            [
             0.2222222222222222,
             "#7201a8"
            ],
            [
             0.3333333333333333,
             "#9c179e"
            ],
            [
             0.4444444444444444,
             "#bd3786"
            ],
            [
             0.5555555555555556,
             "#d8576b"
            ],
            [
             0.6666666666666666,
             "#ed7953"
            ],
            [
             0.7777777777777778,
             "#fb9f3a"
            ],
            [
             0.8888888888888888,
             "#fdca26"
            ],
            [
             1,
             "#f0f921"
            ]
           ]
          },
          "colorway": [
           "#636efa",
           "#EF553B",
           "#00cc96",
           "#ab63fa",
           "#FFA15A",
           "#19d3f3",
           "#FF6692",
           "#B6E880",
           "#FF97FF",
           "#FECB52"
          ],
          "font": {
           "color": "#2a3f5f"
          },
          "geo": {
           "bgcolor": "white",
           "lakecolor": "white",
           "landcolor": "#E5ECF6",
           "showlakes": true,
           "showland": true,
           "subunitcolor": "white"
          },
          "hoverlabel": {
           "align": "left"
          },
          "hovermode": "closest",
          "mapbox": {
           "style": "light"
          },
          "paper_bgcolor": "white",
          "plot_bgcolor": "#E5ECF6",
          "polar": {
           "angularaxis": {
            "gridcolor": "white",
            "linecolor": "white",
            "ticks": ""
           },
           "bgcolor": "#E5ECF6",
           "radialaxis": {
            "gridcolor": "white",
            "linecolor": "white",
            "ticks": ""
           }
          },
          "scene": {
           "xaxis": {
            "backgroundcolor": "#E5ECF6",
            "gridcolor": "white",
            "gridwidth": 2,
            "linecolor": "white",
            "showbackground": true,
            "ticks": "",
            "zerolinecolor": "white"
           },
           "yaxis": {
            "backgroundcolor": "#E5ECF6",
            "gridcolor": "white",
            "gridwidth": 2,
            "linecolor": "white",
            "showbackground": true,
            "ticks": "",
            "zerolinecolor": "white"
           },
           "zaxis": {
            "backgroundcolor": "#E5ECF6",
            "gridcolor": "white",
            "gridwidth": 2,
            "linecolor": "white",
            "showbackground": true,
            "ticks": "",
            "zerolinecolor": "white"
           }
          },
          "shapedefaults": {
           "line": {
            "color": "#2a3f5f"
           }
          },
          "ternary": {
           "aaxis": {
            "gridcolor": "white",
            "linecolor": "white",
            "ticks": ""
           },
           "baxis": {
            "gridcolor": "white",
            "linecolor": "white",
            "ticks": ""
           },
           "bgcolor": "#E5ECF6",
           "caxis": {
            "gridcolor": "white",
            "linecolor": "white",
            "ticks": ""
           }
          },
          "title": {
           "x": 0.05
          },
          "xaxis": {
           "automargin": true,
           "gridcolor": "white",
           "linecolor": "white",
           "ticks": "",
           "title": {
            "standoff": 15
           },
           "zerolinecolor": "white",
           "zerolinewidth": 2
          },
          "yaxis": {
           "automargin": true,
           "gridcolor": "white",
           "linecolor": "white",
           "ticks": "",
           "title": {
            "standoff": 15
           },
           "zerolinecolor": "white",
           "zerolinewidth": 2
          }
         }
        },
        "title": {
         "text": "Mean deaths per 100,000 for different vaccine efficacies, immunity effects and scenarios<br>Canada"
        },
        "width": 1100,
        "xaxis": {
         "anchor": "y",
         "domain": [
          0,
          0.45
         ],
         "linecolor": "black"
        },
        "xaxis2": {
         "anchor": "y2",
         "domain": [
          0.55,
          1
         ],
         "linecolor": "black"
        },
        "yaxis": {
         "anchor": "x",
         "domain": [
          0,
          1
         ],
         "linecolor": "black"
        },
        "yaxis2": {
         "anchor": "x2",
         "domain": [
          0,
          1
         ],
         "matches": "y",
         "showticklabels": false,
         "visible": false
        }
       }
      }
     },
     "metadata": {},
     "output_type": "display_data"
    },
    {
     "data": {
      "application/vnd.plotly.v1+json": {
       "config": {
        "plotlyServerURL": "https://plot.ly"
       },
       "data": [
        {
         "marker": {
          "color": "blue"
         },
         "name": "Strategy 1",
         "type": "bar",
         "x": [
          "Increased immunity<br>",
          "Original estimates<br>",
          "Decreased immunity<br>"
         ],
         "xaxis": "x",
         "y": [
          2.215793685102163,
          2.300374786637202,
          2.4459912859684945
         ],
         "yaxis": "y"
        },
        {
         "marker": {
          "color": "orange"
         },
         "name": "Strategy 2",
         "type": "bar",
         "x": [
          "Increased immunity<br>",
          "Original estimates<br>",
          "Decreased immunity<br>"
         ],
         "xaxis": "x",
         "y": [
          2.2157936851000772,
          2.3365781738867613,
          2.630266572956014
         ],
         "yaxis": "y"
        },
        {
         "marker": {
          "color": "green"
         },
         "name": "Strategy 3",
         "type": "bar",
         "x": [
          "Increased immunity<br>",
          "Original estimates<br>",
          "Decreased immunity<br>"
         ],
         "xaxis": "x",
         "y": [
          2.507455907973707,
          2.7033230684199028,
          3.1233249739652877
         ],
         "yaxis": "y"
        },
        {
         "marker": {
          "color": "red"
         },
         "name": "Strategy 4",
         "type": "bar",
         "x": [
          "Increased immunity<br>",
          "Original estimates<br>",
          "Decreased immunity<br>"
         ],
         "xaxis": "x",
         "y": [
          2.6180090291016853,
          2.9022955462289195,
          3.4965377191021085
         ],
         "yaxis": "y"
        },
        {
         "marker": {
          "color": "purple"
         },
         "name": "Strategy 5",
         "type": "bar",
         "x": [
          "Increased immunity<br>",
          "Original estimates<br>",
          "Decreased immunity<br>"
         ],
         "xaxis": "x",
         "y": [
          2.720980673286607,
          2.9979331548709798,
          3.629337314574273
         ],
         "yaxis": "y"
        },
        {
         "marker": {
          "color": "deepskyblue"
         },
         "name": "Strategy 6",
         "type": "bar",
         "x": [
          "Increased immunity<br>",
          "Original estimates<br>",
          "Decreased immunity<br>"
         ],
         "xaxis": "x",
         "y": [
          2.720980673286607,
          2.997933154871464,
          3.6293373145750265
         ],
         "yaxis": "y"
        },
        {
         "marker": {
          "color": "black"
         },
         "name": "No boosters",
         "type": "bar",
         "x": [
          "Increased immunity<br>",
          "Original estimates<br>",
          "Decreased immunity<br>"
         ],
         "xaxis": "x",
         "y": [
          2.7247042096715988,
          3.0024131864855255,
          3.6358746668576574
         ],
         "yaxis": "y"
        },
        {
         "marker": {
          "color": "blue"
         },
         "name": "Strategy 1",
         "showlegend": false,
         "type": "bar",
         "x": [
          "Increased immunity<br>",
          "Original estimates<br>",
          "Decreased immunity<br>"
         ],
         "xaxis": "x2",
         "y": [
          4.704314352447707,
          4.9325614399957445,
          5.149836139005332
         ],
         "yaxis": "y2"
        },
        {
         "marker": {
          "color": "orange"
         },
         "name": "Strategy 2",
         "showlegend": false,
         "type": "bar",
         "x": [
          "Increased immunity<br>",
          "Original estimates<br>",
          "Decreased immunity<br>"
         ],
         "xaxis": "x2",
         "y": [
          4.704314352449903,
          4.956634857937124,
          5.2787646552163965
         ],
         "yaxis": "y2"
        },
        {
         "marker": {
          "color": "green"
         },
         "name": "Strategy 3",
         "showlegend": false,
         "type": "bar",
         "x": [
          "Increased immunity<br>",
          "Original estimates<br>",
          "Decreased immunity<br>"
         ],
         "xaxis": "x2",
         "y": [
          4.900407917680975,
          5.200713074060787,
          5.622907170684859
         ],
         "yaxis": "y2"
        },
        {
         "marker": {
          "color": "red"
         },
         "name": "Strategy 4",
         "showlegend": false,
         "type": "bar",
         "x": [
          "Increased immunity<br>",
          "Original estimates<br>",
          "Decreased immunity<br>"
         ],
         "xaxis": "x2",
         "y": [
          4.970705146439035,
          5.326046200388141,
          5.87378515398739
         ],
         "yaxis": "y2"
        },
        {
         "marker": {
          "color": "purple"
         },
         "name": "Strategy 5",
         "showlegend": false,
         "type": "bar",
         "x": [
          "Increased immunity<br>",
          "Original estimates<br>",
          "Decreased immunity<br>"
         ],
         "xaxis": "x2",
         "y": [
          5.036525375020846,
          5.386662863587115,
          5.963551629173212
         ],
         "yaxis": "y2"
        },
        {
         "marker": {
          "color": "deepskyblue"
         },
         "name": "Strategy 6",
         "showlegend": false,
         "type": "bar",
         "x": [
          "Increased immunity<br>",
          "Original estimates<br>",
          "Decreased immunity<br>"
         ],
         "xaxis": "x2",
         "y": [
          5.036525375020846,
          5.386662863586775,
          5.963551629174119
         ],
         "yaxis": "y2"
        },
        {
         "marker": {
          "color": "black"
         },
         "name": "No boosters",
         "showlegend": false,
         "type": "bar",
         "x": [
          "Increased immunity<br>",
          "Original estimates<br>",
          "Decreased immunity<br>"
         ],
         "xaxis": "x2",
         "y": [
          5.040246704245478,
          5.390902311323215,
          5.969547474668117
         ],
         "yaxis": "y2"
        }
       ],
       "layout": {
        "annotations": [
         {
          "font": {
           "size": 16
          },
          "showarrow": false,
          "text": "No reduction",
          "x": 0.225,
          "xanchor": "center",
          "xref": "paper",
          "y": -0.05,
          "yanchor": "top",
          "yref": "paper"
         },
         {
          "font": {
           "size": 16
          },
          "showarrow": false,
          "text": "20% reduced",
          "x": 0.775,
          "xanchor": "center",
          "xref": "paper",
          "y": -0.05,
          "yanchor": "top",
          "yref": "paper"
         }
        ],
        "boxmode": "group",
        "height": 600,
        "hovermode": "x unified",
        "legend": {
         "orientation": "h",
         "x": 1.2,
         "xanchor": "right",
         "y": 0.98,
         "yanchor": "bottom"
        },
        "plot_bgcolor": "white",
        "template": {
         "data": {
          "bar": [
           {
            "error_x": {
             "color": "#2a3f5f"
            },
            "error_y": {
             "color": "#2a3f5f"
            },
            "marker": {
             "line": {
              "color": "#E5ECF6",
              "width": 0.5
             },
             "pattern": {
              "fillmode": "overlay",
              "size": 10,
              "solidity": 0.2
             }
            },
            "type": "bar"
           }
          ],
          "barpolar": [
           {
            "marker": {
             "line": {
              "color": "#E5ECF6",
              "width": 0.5
             },
             "pattern": {
              "fillmode": "overlay",
              "size": 10,
              "solidity": 0.2
             }
            },
            "type": "barpolar"
           }
          ],
          "carpet": [
           {
            "aaxis": {
             "endlinecolor": "#2a3f5f",
             "gridcolor": "white",
             "linecolor": "white",
             "minorgridcolor": "white",
             "startlinecolor": "#2a3f5f"
            },
            "baxis": {
             "endlinecolor": "#2a3f5f",
             "gridcolor": "white",
             "linecolor": "white",
             "minorgridcolor": "white",
             "startlinecolor": "#2a3f5f"
            },
            "type": "carpet"
           }
          ],
          "choropleth": [
           {
            "colorbar": {
             "outlinewidth": 0,
             "ticks": ""
            },
            "type": "choropleth"
           }
          ],
          "contour": [
           {
            "colorbar": {
             "outlinewidth": 0,
             "ticks": ""
            },
            "colorscale": [
             [
              0,
              "#0d0887"
             ],
             [
              0.1111111111111111,
              "#46039f"
             ],
             [
              0.2222222222222222,
              "#7201a8"
             ],
             [
              0.3333333333333333,
              "#9c179e"
             ],
             [
              0.4444444444444444,
              "#bd3786"
             ],
             [
              0.5555555555555556,
              "#d8576b"
             ],
             [
              0.6666666666666666,
              "#ed7953"
             ],
             [
              0.7777777777777778,
              "#fb9f3a"
             ],
             [
              0.8888888888888888,
              "#fdca26"
             ],
             [
              1,
              "#f0f921"
             ]
            ],
            "type": "contour"
           }
          ],
          "contourcarpet": [
           {
            "colorbar": {
             "outlinewidth": 0,
             "ticks": ""
            },
            "type": "contourcarpet"
           }
          ],
          "heatmap": [
           {
            "colorbar": {
             "outlinewidth": 0,
             "ticks": ""
            },
            "colorscale": [
             [
              0,
              "#0d0887"
             ],
             [
              0.1111111111111111,
              "#46039f"
             ],
             [
              0.2222222222222222,
              "#7201a8"
             ],
             [
              0.3333333333333333,
              "#9c179e"
             ],
             [
              0.4444444444444444,
              "#bd3786"
             ],
             [
              0.5555555555555556,
              "#d8576b"
             ],
             [
              0.6666666666666666,
              "#ed7953"
             ],
             [
              0.7777777777777778,
              "#fb9f3a"
             ],
             [
              0.8888888888888888,
              "#fdca26"
             ],
             [
              1,
              "#f0f921"
             ]
            ],
            "type": "heatmap"
           }
          ],
          "heatmapgl": [
           {
            "colorbar": {
             "outlinewidth": 0,
             "ticks": ""
            },
            "colorscale": [
             [
              0,
              "#0d0887"
             ],
             [
              0.1111111111111111,
              "#46039f"
             ],
             [
              0.2222222222222222,
              "#7201a8"
             ],
             [
              0.3333333333333333,
              "#9c179e"
             ],
             [
              0.4444444444444444,
              "#bd3786"
             ],
             [
              0.5555555555555556,
              "#d8576b"
             ],
             [
              0.6666666666666666,
              "#ed7953"
             ],
             [
              0.7777777777777778,
              "#fb9f3a"
             ],
             [
              0.8888888888888888,
              "#fdca26"
             ],
             [
              1,
              "#f0f921"
             ]
            ],
            "type": "heatmapgl"
           }
          ],
          "histogram": [
           {
            "marker": {
             "pattern": {
              "fillmode": "overlay",
              "size": 10,
              "solidity": 0.2
             }
            },
            "type": "histogram"
           }
          ],
          "histogram2d": [
           {
            "colorbar": {
             "outlinewidth": 0,
             "ticks": ""
            },
            "colorscale": [
             [
              0,
              "#0d0887"
             ],
             [
              0.1111111111111111,
              "#46039f"
             ],
             [
              0.2222222222222222,
              "#7201a8"
             ],
             [
              0.3333333333333333,
              "#9c179e"
             ],
             [
              0.4444444444444444,
              "#bd3786"
             ],
             [
              0.5555555555555556,
              "#d8576b"
             ],
             [
              0.6666666666666666,
              "#ed7953"
             ],
             [
              0.7777777777777778,
              "#fb9f3a"
             ],
             [
              0.8888888888888888,
              "#fdca26"
             ],
             [
              1,
              "#f0f921"
             ]
            ],
            "type": "histogram2d"
           }
          ],
          "histogram2dcontour": [
           {
            "colorbar": {
             "outlinewidth": 0,
             "ticks": ""
            },
            "colorscale": [
             [
              0,
              "#0d0887"
             ],
             [
              0.1111111111111111,
              "#46039f"
             ],
             [
              0.2222222222222222,
              "#7201a8"
             ],
             [
              0.3333333333333333,
              "#9c179e"
             ],
             [
              0.4444444444444444,
              "#bd3786"
             ],
             [
              0.5555555555555556,
              "#d8576b"
             ],
             [
              0.6666666666666666,
              "#ed7953"
             ],
             [
              0.7777777777777778,
              "#fb9f3a"
             ],
             [
              0.8888888888888888,
              "#fdca26"
             ],
             [
              1,
              "#f0f921"
             ]
            ],
            "type": "histogram2dcontour"
           }
          ],
          "mesh3d": [
           {
            "colorbar": {
             "outlinewidth": 0,
             "ticks": ""
            },
            "type": "mesh3d"
           }
          ],
          "parcoords": [
           {
            "line": {
             "colorbar": {
              "outlinewidth": 0,
              "ticks": ""
             }
            },
            "type": "parcoords"
           }
          ],
          "pie": [
           {
            "automargin": true,
            "type": "pie"
           }
          ],
          "scatter": [
           {
            "fillpattern": {
             "fillmode": "overlay",
             "size": 10,
             "solidity": 0.2
            },
            "type": "scatter"
           }
          ],
          "scatter3d": [
           {
            "line": {
             "colorbar": {
              "outlinewidth": 0,
              "ticks": ""
             }
            },
            "marker": {
             "colorbar": {
              "outlinewidth": 0,
              "ticks": ""
             }
            },
            "type": "scatter3d"
           }
          ],
          "scattercarpet": [
           {
            "marker": {
             "colorbar": {
              "outlinewidth": 0,
              "ticks": ""
             }
            },
            "type": "scattercarpet"
           }
          ],
          "scattergeo": [
           {
            "marker": {
             "colorbar": {
              "outlinewidth": 0,
              "ticks": ""
             }
            },
            "type": "scattergeo"
           }
          ],
          "scattergl": [
           {
            "marker": {
             "colorbar": {
              "outlinewidth": 0,
              "ticks": ""
             }
            },
            "type": "scattergl"
           }
          ],
          "scattermapbox": [
           {
            "marker": {
             "colorbar": {
              "outlinewidth": 0,
              "ticks": ""
             }
            },
            "type": "scattermapbox"
           }
          ],
          "scatterpolar": [
           {
            "marker": {
             "colorbar": {
              "outlinewidth": 0,
              "ticks": ""
             }
            },
            "type": "scatterpolar"
           }
          ],
          "scatterpolargl": [
           {
            "marker": {
             "colorbar": {
              "outlinewidth": 0,
              "ticks": ""
             }
            },
            "type": "scatterpolargl"
           }
          ],
          "scatterternary": [
           {
            "marker": {
             "colorbar": {
              "outlinewidth": 0,
              "ticks": ""
             }
            },
            "type": "scatterternary"
           }
          ],
          "surface": [
           {
            "colorbar": {
             "outlinewidth": 0,
             "ticks": ""
            },
            "colorscale": [
             [
              0,
              "#0d0887"
             ],
             [
              0.1111111111111111,
              "#46039f"
             ],
             [
              0.2222222222222222,
              "#7201a8"
             ],
             [
              0.3333333333333333,
              "#9c179e"
             ],
             [
              0.4444444444444444,
              "#bd3786"
             ],
             [
              0.5555555555555556,
              "#d8576b"
             ],
             [
              0.6666666666666666,
              "#ed7953"
             ],
             [
              0.7777777777777778,
              "#fb9f3a"
             ],
             [
              0.8888888888888888,
              "#fdca26"
             ],
             [
              1,
              "#f0f921"
             ]
            ],
            "type": "surface"
           }
          ],
          "table": [
           {
            "cells": {
             "fill": {
              "color": "#EBF0F8"
             },
             "line": {
              "color": "white"
             }
            },
            "header": {
             "fill": {
              "color": "#C8D4E3"
             },
             "line": {
              "color": "white"
             }
            },
            "type": "table"
           }
          ]
         },
         "layout": {
          "annotationdefaults": {
           "arrowcolor": "#2a3f5f",
           "arrowhead": 0,
           "arrowwidth": 1
          },
          "autotypenumbers": "strict",
          "coloraxis": {
           "colorbar": {
            "outlinewidth": 0,
            "ticks": ""
           }
          },
          "colorscale": {
           "diverging": [
            [
             0,
             "#8e0152"
            ],
            [
             0.1,
             "#c51b7d"
            ],
            [
             0.2,
             "#de77ae"
            ],
            [
             0.3,
             "#f1b6da"
            ],
            [
             0.4,
             "#fde0ef"
            ],
            [
             0.5,
             "#f7f7f7"
            ],
            [
             0.6,
             "#e6f5d0"
            ],
            [
             0.7,
             "#b8e186"
            ],
            [
             0.8,
             "#7fbc41"
            ],
            [
             0.9,
             "#4d9221"
            ],
            [
             1,
             "#276419"
            ]
           ],
           "sequential": [
            [
             0,
             "#0d0887"
            ],
            [
             0.1111111111111111,
             "#46039f"
            ],
            [
             0.2222222222222222,
             "#7201a8"
            ],
            [
             0.3333333333333333,
             "#9c179e"
            ],
            [
             0.4444444444444444,
             "#bd3786"
            ],
            [
             0.5555555555555556,
             "#d8576b"
            ],
            [
             0.6666666666666666,
             "#ed7953"
            ],
            [
             0.7777777777777778,
             "#fb9f3a"
            ],
            [
             0.8888888888888888,
             "#fdca26"
            ],
            [
             1,
             "#f0f921"
            ]
           ],
           "sequentialminus": [
            [
             0,
             "#0d0887"
            ],
            [
             0.1111111111111111,
             "#46039f"
            ],
            [
             0.2222222222222222,
             "#7201a8"
            ],
            [
             0.3333333333333333,
             "#9c179e"
            ],
            [
             0.4444444444444444,
             "#bd3786"
            ],
            [
             0.5555555555555556,
             "#d8576b"
            ],
            [
             0.6666666666666666,
             "#ed7953"
            ],
            [
             0.7777777777777778,
             "#fb9f3a"
            ],
            [
             0.8888888888888888,
             "#fdca26"
            ],
            [
             1,
             "#f0f921"
            ]
           ]
          },
          "colorway": [
           "#636efa",
           "#EF553B",
           "#00cc96",
           "#ab63fa",
           "#FFA15A",
           "#19d3f3",
           "#FF6692",
           "#B6E880",
           "#FF97FF",
           "#FECB52"
          ],
          "font": {
           "color": "#2a3f5f"
          },
          "geo": {
           "bgcolor": "white",
           "lakecolor": "white",
           "landcolor": "#E5ECF6",
           "showlakes": true,
           "showland": true,
           "subunitcolor": "white"
          },
          "hoverlabel": {
           "align": "left"
          },
          "hovermode": "closest",
          "mapbox": {
           "style": "light"
          },
          "paper_bgcolor": "white",
          "plot_bgcolor": "#E5ECF6",
          "polar": {
           "angularaxis": {
            "gridcolor": "white",
            "linecolor": "white",
            "ticks": ""
           },
           "bgcolor": "#E5ECF6",
           "radialaxis": {
            "gridcolor": "white",
            "linecolor": "white",
            "ticks": ""
           }
          },
          "scene": {
           "xaxis": {
            "backgroundcolor": "#E5ECF6",
            "gridcolor": "white",
            "gridwidth": 2,
            "linecolor": "white",
            "showbackground": true,
            "ticks": "",
            "zerolinecolor": "white"
           },
           "yaxis": {
            "backgroundcolor": "#E5ECF6",
            "gridcolor": "white",
            "gridwidth": 2,
            "linecolor": "white",
            "showbackground": true,
            "ticks": "",
            "zerolinecolor": "white"
           },
           "zaxis": {
            "backgroundcolor": "#E5ECF6",
            "gridcolor": "white",
            "gridwidth": 2,
            "linecolor": "white",
            "showbackground": true,
            "ticks": "",
            "zerolinecolor": "white"
           }
          },
          "shapedefaults": {
           "line": {
            "color": "#2a3f5f"
           }
          },
          "ternary": {
           "aaxis": {
            "gridcolor": "white",
            "linecolor": "white",
            "ticks": ""
           },
           "baxis": {
            "gridcolor": "white",
            "linecolor": "white",
            "ticks": ""
           },
           "bgcolor": "#E5ECF6",
           "caxis": {
            "gridcolor": "white",
            "linecolor": "white",
            "ticks": ""
           }
          },
          "title": {
           "x": 0.05
          },
          "xaxis": {
           "automargin": true,
           "gridcolor": "white",
           "linecolor": "white",
           "ticks": "",
           "title": {
            "standoff": 15
           },
           "zerolinecolor": "white",
           "zerolinewidth": 2
          },
          "yaxis": {
           "automargin": true,
           "gridcolor": "white",
           "linecolor": "white",
           "ticks": "",
           "title": {
            "standoff": 15
           },
           "zerolinecolor": "white",
           "zerolinewidth": 2
          }
         }
        },
        "title": {
         "text": "Mean deaths per 100,000 for different vaccine efficacies, immunity effects and scenarios<br>Brazil"
        },
        "width": 1100,
        "xaxis": {
         "anchor": "y",
         "domain": [
          0,
          0.45
         ],
         "linecolor": "black"
        },
        "xaxis2": {
         "anchor": "y2",
         "domain": [
          0.55,
          1
         ],
         "linecolor": "black"
        },
        "yaxis": {
         "anchor": "x",
         "domain": [
          0,
          1
         ],
         "linecolor": "black"
        },
        "yaxis2": {
         "anchor": "x2",
         "domain": [
          0,
          1
         ],
         "matches": "y",
         "showticklabels": false,
         "visible": false
        }
       }
      }
     },
     "metadata": {},
     "output_type": "display_data"
    },
    {
     "data": {
      "application/vnd.plotly.v1+json": {
       "config": {
        "plotlyServerURL": "https://plot.ly"
       },
       "data": [
        {
         "marker": {
          "color": "blue"
         },
         "name": "Strategy 1",
         "type": "bar",
         "x": [
          "Increased immunity<br>",
          "Original estimates<br>",
          "Decreased immunity<br>"
         ],
         "xaxis": "x",
         "y": [
          1.0520357635159532,
          1.0690740843166031,
          1.1296193612300516
         ],
         "yaxis": "y"
        },
        {
         "marker": {
          "color": "orange"
         },
         "name": "Strategy 2",
         "type": "bar",
         "x": [
          "Increased immunity<br>",
          "Original estimates<br>",
          "Decreased immunity<br>"
         ],
         "xaxis": "x",
         "y": [
          1.0520357635175503,
          1.0690740843047069,
          1.1296193612260566
         ],
         "yaxis": "y"
        },
        {
         "marker": {
          "color": "green"
         },
         "name": "Strategy 3",
         "type": "bar",
         "x": [
          "Increased immunity<br>",
          "Original estimates<br>",
          "Decreased immunity<br>"
         ],
         "xaxis": "x",
         "y": [
          1.1535807521275219,
          1.2086586572987978,
          1.3843134112510385
         ],
         "yaxis": "y"
        },
        {
         "marker": {
          "color": "red"
         },
         "name": "Strategy 4",
         "type": "bar",
         "x": [
          "Increased immunity<br>",
          "Original estimates<br>",
          "Decreased immunity<br>"
         ],
         "xaxis": "x",
         "y": [
          1.1974989497733102,
          1.27424693662152,
          1.5087918313265716
         ],
         "yaxis": "y"
        },
        {
         "marker": {
          "color": "purple"
         },
         "name": "Strategy 5",
         "type": "bar",
         "x": [
          "Increased immunity<br>",
          "Original estimates<br>",
          "Decreased immunity<br>"
         ],
         "xaxis": "x",
         "y": [
          1.273881762913472,
          1.3729341261325063,
          1.685814229512826
         ],
         "yaxis": "y"
        },
        {
         "marker": {
          "color": "deepskyblue"
         },
         "name": "Strategy 6",
         "type": "bar",
         "x": [
          "Increased immunity<br>",
          "Original estimates<br>",
          "Decreased immunity<br>"
         ],
         "xaxis": "x",
         "y": [
          1.273881762914698,
          1.3729341261286125,
          1.6858142295118541
         ],
         "yaxis": "y"
        },
        {
         "marker": {
          "color": "black"
         },
         "name": "No boosters",
         "type": "bar",
         "x": [
          "Increased immunity<br>",
          "Original estimates<br>",
          "Decreased immunity<br>"
         ],
         "xaxis": "x",
         "y": [
          1.2734501530225075,
          1.3732302988289162,
          1.6881244863682756
         ],
         "yaxis": "y"
        },
        {
         "marker": {
          "color": "blue"
         },
         "name": "Strategy 1",
         "showlegend": false,
         "type": "bar",
         "x": [
          "Increased immunity<br>",
          "Original estimates<br>",
          "Decreased immunity<br>"
         ],
         "xaxis": "x2",
         "y": [
          1.9278800966497398,
          2.0383737713967447,
          2.2229586967184853
         ],
         "yaxis": "y2"
        },
        {
         "marker": {
          "color": "orange"
         },
         "name": "Strategy 2",
         "showlegend": false,
         "type": "bar",
         "x": [
          "Increased immunity<br>",
          "Original estimates<br>",
          "Decreased immunity<br>"
         ],
         "xaxis": "x2",
         "y": [
          1.9278800966496954,
          2.038373771397483,
          2.222958696703192
         ],
         "yaxis": "y2"
        },
        {
         "marker": {
          "color": "green"
         },
         "name": "Strategy 3",
         "showlegend": false,
         "type": "bar",
         "x": [
          "Increased immunity<br>",
          "Original estimates<br>",
          "Decreased immunity<br>"
         ],
         "xaxis": "x2",
         "y": [
          2.002894258520242,
          2.1399357528832708,
          2.410434897077745
         ],
         "yaxis": "y2"
        },
        {
         "marker": {
          "color": "red"
         },
         "name": "Strategy 4",
         "showlegend": false,
         "type": "bar",
         "x": [
          "Increased immunity<br>",
          "Original estimates<br>",
          "Decreased immunity<br>"
         ],
         "xaxis": "x2",
         "y": [
          2.0343084059753287,
          2.185982264548155,
          2.49935121055819
         ],
         "yaxis": "y2"
        },
        {
         "marker": {
          "color": "purple"
         },
         "name": "Strategy 5",
         "showlegend": false,
         "type": "bar",
         "x": [
          "Increased immunity<br>",
          "Original estimates<br>",
          "Decreased immunity<br>"
         ],
         "xaxis": "x2",
         "y": [
          2.0889663533951595,
          2.2551523944161334,
          2.62553282424233
         ],
         "yaxis": "y2"
        },
        {
         "marker": {
          "color": "deepskyblue"
         },
         "name": "Strategy 6",
         "showlegend": false,
         "type": "bar",
         "x": [
          "Increased immunity<br>",
          "Original estimates<br>",
          "Decreased immunity<br>"
         ],
         "xaxis": "x2",
         "y": [
          2.0889663533959926,
          2.255152394417,
          2.625532824218866
         ],
         "yaxis": "y2"
        },
        {
         "marker": {
          "color": "black"
         },
         "name": "No boosters",
         "showlegend": false,
         "type": "bar",
         "x": [
          "Increased immunity<br>",
          "Original estimates<br>",
          "Decreased immunity<br>"
         ],
         "xaxis": "x2",
         "y": [
          2.0896735963539195,
          2.2564975309446043,
          2.6285733336374055
         ],
         "yaxis": "y2"
        }
       ],
       "layout": {
        "annotations": [
         {
          "font": {
           "size": 16
          },
          "showarrow": false,
          "text": "No reduction",
          "x": 0.225,
          "xanchor": "center",
          "xref": "paper",
          "y": -0.05,
          "yanchor": "top",
          "yref": "paper"
         },
         {
          "font": {
           "size": 16
          },
          "showarrow": false,
          "text": "20% reduced",
          "x": 0.775,
          "xanchor": "center",
          "xref": "paper",
          "y": -0.05,
          "yanchor": "top",
          "yref": "paper"
         }
        ],
        "boxmode": "group",
        "height": 600,
        "hovermode": "x unified",
        "legend": {
         "orientation": "h",
         "x": 1.2,
         "xanchor": "right",
         "y": 0.98,
         "yanchor": "bottom"
        },
        "plot_bgcolor": "white",
        "template": {
         "data": {
          "bar": [
           {
            "error_x": {
             "color": "#2a3f5f"
            },
            "error_y": {
             "color": "#2a3f5f"
            },
            "marker": {
             "line": {
              "color": "#E5ECF6",
              "width": 0.5
             },
             "pattern": {
              "fillmode": "overlay",
              "size": 10,
              "solidity": 0.2
             }
            },
            "type": "bar"
           }
          ],
          "barpolar": [
           {
            "marker": {
             "line": {
              "color": "#E5ECF6",
              "width": 0.5
             },
             "pattern": {
              "fillmode": "overlay",
              "size": 10,
              "solidity": 0.2
             }
            },
            "type": "barpolar"
           }
          ],
          "carpet": [
           {
            "aaxis": {
             "endlinecolor": "#2a3f5f",
             "gridcolor": "white",
             "linecolor": "white",
             "minorgridcolor": "white",
             "startlinecolor": "#2a3f5f"
            },
            "baxis": {
             "endlinecolor": "#2a3f5f",
             "gridcolor": "white",
             "linecolor": "white",
             "minorgridcolor": "white",
             "startlinecolor": "#2a3f5f"
            },
            "type": "carpet"
           }
          ],
          "choropleth": [
           {
            "colorbar": {
             "outlinewidth": 0,
             "ticks": ""
            },
            "type": "choropleth"
           }
          ],
          "contour": [
           {
            "colorbar": {
             "outlinewidth": 0,
             "ticks": ""
            },
            "colorscale": [
             [
              0,
              "#0d0887"
             ],
             [
              0.1111111111111111,
              "#46039f"
             ],
             [
              0.2222222222222222,
              "#7201a8"
             ],
             [
              0.3333333333333333,
              "#9c179e"
             ],
             [
              0.4444444444444444,
              "#bd3786"
             ],
             [
              0.5555555555555556,
              "#d8576b"
             ],
             [
              0.6666666666666666,
              "#ed7953"
             ],
             [
              0.7777777777777778,
              "#fb9f3a"
             ],
             [
              0.8888888888888888,
              "#fdca26"
             ],
             [
              1,
              "#f0f921"
             ]
            ],
            "type": "contour"
           }
          ],
          "contourcarpet": [
           {
            "colorbar": {
             "outlinewidth": 0,
             "ticks": ""
            },
            "type": "contourcarpet"
           }
          ],
          "heatmap": [
           {
            "colorbar": {
             "outlinewidth": 0,
             "ticks": ""
            },
            "colorscale": [
             [
              0,
              "#0d0887"
             ],
             [
              0.1111111111111111,
              "#46039f"
             ],
             [
              0.2222222222222222,
              "#7201a8"
             ],
             [
              0.3333333333333333,
              "#9c179e"
             ],
             [
              0.4444444444444444,
              "#bd3786"
             ],
             [
              0.5555555555555556,
              "#d8576b"
             ],
             [
              0.6666666666666666,
              "#ed7953"
             ],
             [
              0.7777777777777778,
              "#fb9f3a"
             ],
             [
              0.8888888888888888,
              "#fdca26"
             ],
             [
              1,
              "#f0f921"
             ]
            ],
            "type": "heatmap"
           }
          ],
          "heatmapgl": [
           {
            "colorbar": {
             "outlinewidth": 0,
             "ticks": ""
            },
            "colorscale": [
             [
              0,
              "#0d0887"
             ],
             [
              0.1111111111111111,
              "#46039f"
             ],
             [
              0.2222222222222222,
              "#7201a8"
             ],
             [
              0.3333333333333333,
              "#9c179e"
             ],
             [
              0.4444444444444444,
              "#bd3786"
             ],
             [
              0.5555555555555556,
              "#d8576b"
             ],
             [
              0.6666666666666666,
              "#ed7953"
             ],
             [
              0.7777777777777778,
              "#fb9f3a"
             ],
             [
              0.8888888888888888,
              "#fdca26"
             ],
             [
              1,
              "#f0f921"
             ]
            ],
            "type": "heatmapgl"
           }
          ],
          "histogram": [
           {
            "marker": {
             "pattern": {
              "fillmode": "overlay",
              "size": 10,
              "solidity": 0.2
             }
            },
            "type": "histogram"
           }
          ],
          "histogram2d": [
           {
            "colorbar": {
             "outlinewidth": 0,
             "ticks": ""
            },
            "colorscale": [
             [
              0,
              "#0d0887"
             ],
             [
              0.1111111111111111,
              "#46039f"
             ],
             [
              0.2222222222222222,
              "#7201a8"
             ],
             [
              0.3333333333333333,
              "#9c179e"
             ],
             [
              0.4444444444444444,
              "#bd3786"
             ],
             [
              0.5555555555555556,
              "#d8576b"
             ],
             [
              0.6666666666666666,
              "#ed7953"
             ],
             [
              0.7777777777777778,
              "#fb9f3a"
             ],
             [
              0.8888888888888888,
              "#fdca26"
             ],
             [
              1,
              "#f0f921"
             ]
            ],
            "type": "histogram2d"
           }
          ],
          "histogram2dcontour": [
           {
            "colorbar": {
             "outlinewidth": 0,
             "ticks": ""
            },
            "colorscale": [
             [
              0,
              "#0d0887"
             ],
             [
              0.1111111111111111,
              "#46039f"
             ],
             [
              0.2222222222222222,
              "#7201a8"
             ],
             [
              0.3333333333333333,
              "#9c179e"
             ],
             [
              0.4444444444444444,
              "#bd3786"
             ],
             [
              0.5555555555555556,
              "#d8576b"
             ],
             [
              0.6666666666666666,
              "#ed7953"
             ],
             [
              0.7777777777777778,
              "#fb9f3a"
             ],
             [
              0.8888888888888888,
              "#fdca26"
             ],
             [
              1,
              "#f0f921"
             ]
            ],
            "type": "histogram2dcontour"
           }
          ],
          "mesh3d": [
           {
            "colorbar": {
             "outlinewidth": 0,
             "ticks": ""
            },
            "type": "mesh3d"
           }
          ],
          "parcoords": [
           {
            "line": {
             "colorbar": {
              "outlinewidth": 0,
              "ticks": ""
             }
            },
            "type": "parcoords"
           }
          ],
          "pie": [
           {
            "automargin": true,
            "type": "pie"
           }
          ],
          "scatter": [
           {
            "fillpattern": {
             "fillmode": "overlay",
             "size": 10,
             "solidity": 0.2
            },
            "type": "scatter"
           }
          ],
          "scatter3d": [
           {
            "line": {
             "colorbar": {
              "outlinewidth": 0,
              "ticks": ""
             }
            },
            "marker": {
             "colorbar": {
              "outlinewidth": 0,
              "ticks": ""
             }
            },
            "type": "scatter3d"
           }
          ],
          "scattercarpet": [
           {
            "marker": {
             "colorbar": {
              "outlinewidth": 0,
              "ticks": ""
             }
            },
            "type": "scattercarpet"
           }
          ],
          "scattergeo": [
           {
            "marker": {
             "colorbar": {
              "outlinewidth": 0,
              "ticks": ""
             }
            },
            "type": "scattergeo"
           }
          ],
          "scattergl": [
           {
            "marker": {
             "colorbar": {
              "outlinewidth": 0,
              "ticks": ""
             }
            },
            "type": "scattergl"
           }
          ],
          "scattermapbox": [
           {
            "marker": {
             "colorbar": {
              "outlinewidth": 0,
              "ticks": ""
             }
            },
            "type": "scattermapbox"
           }
          ],
          "scatterpolar": [
           {
            "marker": {
             "colorbar": {
              "outlinewidth": 0,
              "ticks": ""
             }
            },
            "type": "scatterpolar"
           }
          ],
          "scatterpolargl": [
           {
            "marker": {
             "colorbar": {
              "outlinewidth": 0,
              "ticks": ""
             }
            },
            "type": "scatterpolargl"
           }
          ],
          "scatterternary": [
           {
            "marker": {
             "colorbar": {
              "outlinewidth": 0,
              "ticks": ""
             }
            },
            "type": "scatterternary"
           }
          ],
          "surface": [
           {
            "colorbar": {
             "outlinewidth": 0,
             "ticks": ""
            },
            "colorscale": [
             [
              0,
              "#0d0887"
             ],
             [
              0.1111111111111111,
              "#46039f"
             ],
             [
              0.2222222222222222,
              "#7201a8"
             ],
             [
              0.3333333333333333,
              "#9c179e"
             ],
             [
              0.4444444444444444,
              "#bd3786"
             ],
             [
              0.5555555555555556,
              "#d8576b"
             ],
             [
              0.6666666666666666,
              "#ed7953"
             ],
             [
              0.7777777777777778,
              "#fb9f3a"
             ],
             [
              0.8888888888888888,
              "#fdca26"
             ],
             [
              1,
              "#f0f921"
             ]
            ],
            "type": "surface"
           }
          ],
          "table": [
           {
            "cells": {
             "fill": {
              "color": "#EBF0F8"
             },
             "line": {
              "color": "white"
             }
            },
            "header": {
             "fill": {
              "color": "#C8D4E3"
             },
             "line": {
              "color": "white"
             }
            },
            "type": "table"
           }
          ]
         },
         "layout": {
          "annotationdefaults": {
           "arrowcolor": "#2a3f5f",
           "arrowhead": 0,
           "arrowwidth": 1
          },
          "autotypenumbers": "strict",
          "coloraxis": {
           "colorbar": {
            "outlinewidth": 0,
            "ticks": ""
           }
          },
          "colorscale": {
           "diverging": [
            [
             0,
             "#8e0152"
            ],
            [
             0.1,
             "#c51b7d"
            ],
            [
             0.2,
             "#de77ae"
            ],
            [
             0.3,
             "#f1b6da"
            ],
            [
             0.4,
             "#fde0ef"
            ],
            [
             0.5,
             "#f7f7f7"
            ],
            [
             0.6,
             "#e6f5d0"
            ],
            [
             0.7,
             "#b8e186"
            ],
            [
             0.8,
             "#7fbc41"
            ],
            [
             0.9,
             "#4d9221"
            ],
            [
             1,
             "#276419"
            ]
           ],
           "sequential": [
            [
             0,
             "#0d0887"
            ],
            [
             0.1111111111111111,
             "#46039f"
            ],
            [
             0.2222222222222222,
             "#7201a8"
            ],
            [
             0.3333333333333333,
             "#9c179e"
            ],
            [
             0.4444444444444444,
             "#bd3786"
            ],
            [
             0.5555555555555556,
             "#d8576b"
            ],
            [
             0.6666666666666666,
             "#ed7953"
            ],
            [
             0.7777777777777778,
             "#fb9f3a"
            ],
            [
             0.8888888888888888,
             "#fdca26"
            ],
            [
             1,
             "#f0f921"
            ]
           ],
           "sequentialminus": [
            [
             0,
             "#0d0887"
            ],
            [
             0.1111111111111111,
             "#46039f"
            ],
            [
             0.2222222222222222,
             "#7201a8"
            ],
            [
             0.3333333333333333,
             "#9c179e"
            ],
            [
             0.4444444444444444,
             "#bd3786"
            ],
            [
             0.5555555555555556,
             "#d8576b"
            ],
            [
             0.6666666666666666,
             "#ed7953"
            ],
            [
             0.7777777777777778,
             "#fb9f3a"
            ],
            [
             0.8888888888888888,
             "#fdca26"
            ],
            [
             1,
             "#f0f921"
            ]
           ]
          },
          "colorway": [
           "#636efa",
           "#EF553B",
           "#00cc96",
           "#ab63fa",
           "#FFA15A",
           "#19d3f3",
           "#FF6692",
           "#B6E880",
           "#FF97FF",
           "#FECB52"
          ],
          "font": {
           "color": "#2a3f5f"
          },
          "geo": {
           "bgcolor": "white",
           "lakecolor": "white",
           "landcolor": "#E5ECF6",
           "showlakes": true,
           "showland": true,
           "subunitcolor": "white"
          },
          "hoverlabel": {
           "align": "left"
          },
          "hovermode": "closest",
          "mapbox": {
           "style": "light"
          },
          "paper_bgcolor": "white",
          "plot_bgcolor": "#E5ECF6",
          "polar": {
           "angularaxis": {
            "gridcolor": "white",
            "linecolor": "white",
            "ticks": ""
           },
           "bgcolor": "#E5ECF6",
           "radialaxis": {
            "gridcolor": "white",
            "linecolor": "white",
            "ticks": ""
           }
          },
          "scene": {
           "xaxis": {
            "backgroundcolor": "#E5ECF6",
            "gridcolor": "white",
            "gridwidth": 2,
            "linecolor": "white",
            "showbackground": true,
            "ticks": "",
            "zerolinecolor": "white"
           },
           "yaxis": {
            "backgroundcolor": "#E5ECF6",
            "gridcolor": "white",
            "gridwidth": 2,
            "linecolor": "white",
            "showbackground": true,
            "ticks": "",
            "zerolinecolor": "white"
           },
           "zaxis": {
            "backgroundcolor": "#E5ECF6",
            "gridcolor": "white",
            "gridwidth": 2,
            "linecolor": "white",
            "showbackground": true,
            "ticks": "",
            "zerolinecolor": "white"
           }
          },
          "shapedefaults": {
           "line": {
            "color": "#2a3f5f"
           }
          },
          "ternary": {
           "aaxis": {
            "gridcolor": "white",
            "linecolor": "white",
            "ticks": ""
           },
           "baxis": {
            "gridcolor": "white",
            "linecolor": "white",
            "ticks": ""
           },
           "bgcolor": "#E5ECF6",
           "caxis": {
            "gridcolor": "white",
            "linecolor": "white",
            "ticks": ""
           }
          },
          "title": {
           "x": 0.05
          },
          "xaxis": {
           "automargin": true,
           "gridcolor": "white",
           "linecolor": "white",
           "ticks": "",
           "title": {
            "standoff": 15
           },
           "zerolinecolor": "white",
           "zerolinewidth": 2
          },
          "yaxis": {
           "automargin": true,
           "gridcolor": "white",
           "linecolor": "white",
           "ticks": "",
           "title": {
            "standoff": 15
           },
           "zerolinecolor": "white",
           "zerolinewidth": 2
          }
         }
        },
        "title": {
         "text": "Mean deaths per 100,000 for different vaccine efficacies, immunity effects and scenarios<br>South Africa"
        },
        "width": 1100,
        "xaxis": {
         "anchor": "y",
         "domain": [
          0,
          0.45
         ],
         "linecolor": "black"
        },
        "xaxis2": {
         "anchor": "y2",
         "domain": [
          0.55,
          1
         ],
         "linecolor": "black"
        },
        "yaxis": {
         "anchor": "x",
         "domain": [
          0,
          1
         ],
         "linecolor": "black"
        },
        "yaxis2": {
         "anchor": "x2",
         "domain": [
          0,
          1
         ],
         "matches": "y",
         "showticklabels": false,
         "visible": false
        }
       }
      }
     },
     "metadata": {},
     "output_type": "display_data"
    },
    {
     "data": {
      "application/vnd.plotly.v1+json": {
       "config": {
        "plotlyServerURL": "https://plot.ly"
       },
       "data": [
        {
         "marker": {
          "color": "blue"
         },
         "name": "Strategy 1",
         "type": "bar",
         "x": [
          "Increased immunity<br>",
          "Original estimates<br>",
          "Decreased immunity<br>"
         ],
         "xaxis": "x",
         "y": [
          0.5365982010898411,
          0.5699943855407461,
          0.5982039671094899
         ],
         "yaxis": "y"
        },
        {
         "marker": {
          "color": "orange"
         },
         "name": "Strategy 2",
         "type": "bar",
         "x": [
          "Increased immunity<br>",
          "Original estimates<br>",
          "Decreased immunity<br>"
         ],
         "xaxis": "x",
         "y": [
          0.5365982010886572,
          0.5699943855409267,
          0.5982039670836203
         ],
         "yaxis": "y"
        },
        {
         "marker": {
          "color": "green"
         },
         "name": "Strategy 3",
         "type": "bar",
         "x": [
          "Increased immunity<br>",
          "Original estimates<br>",
          "Decreased immunity<br>"
         ],
         "xaxis": "x",
         "y": [
          0.5365982010890372,
          0.5699943855396957,
          0.5982039670669665
         ],
         "yaxis": "y"
        },
        {
         "marker": {
          "color": "red"
         },
         "name": "Strategy 4",
         "type": "bar",
         "x": [
          "Increased immunity<br>",
          "Original estimates<br>",
          "Decreased immunity<br>"
         ],
         "xaxis": "x",
         "y": [
          0.5365982010885183,
          0.5699943855402745,
          0.5982039670611368
         ],
         "yaxis": "y"
        },
        {
         "marker": {
          "color": "purple"
         },
         "name": "Strategy 5",
         "type": "bar",
         "x": [
          "Increased immunity<br>",
          "Original estimates<br>",
          "Decreased immunity<br>"
         ],
         "xaxis": "x",
         "y": [
          0.7198357260627155,
          0.8228721496465778,
          1.0066958347389245
         ],
         "yaxis": "y"
        },
        {
         "marker": {
          "color": "deepskyblue"
         },
         "name": "Strategy 6",
         "type": "bar",
         "x": [
          "Increased immunity<br>",
          "Original estimates<br>",
          "Decreased immunity<br>"
         ],
         "xaxis": "x",
         "y": [
          0.7198357260621939,
          0.8228721496470484,
          1.0066958347409374
         ],
         "yaxis": "y"
        },
        {
         "marker": {
          "color": "black"
         },
         "name": "No boosters",
         "type": "bar",
         "x": [
          "Increased immunity<br>",
          "Original estimates<br>",
          "Decreased immunity<br>"
         ],
         "xaxis": "x",
         "y": [
          0.7229310903523449,
          0.8269825745314994,
          1.0132126599858147
         ],
         "yaxis": "y"
        },
        {
         "marker": {
          "color": "blue"
         },
         "name": "Strategy 1",
         "showlegend": false,
         "type": "bar",
         "x": [
          "Increased immunity<br>",
          "Original estimates<br>",
          "Decreased immunity<br>"
         ],
         "xaxis": "x2",
         "y": [
          1.1160888392388917,
          1.247153503574502,
          1.2725639039738506
         ],
         "yaxis": "y2"
        },
        {
         "marker": {
          "color": "orange"
         },
         "name": "Strategy 2",
         "showlegend": false,
         "type": "bar",
         "x": [
          "Increased immunity<br>",
          "Original estimates<br>",
          "Decreased immunity<br>"
         ],
         "xaxis": "x2",
         "y": [
          1.1160888392379684,
          1.24715350357383,
          1.272563903943093
         ],
         "yaxis": "y2"
        },
        {
         "marker": {
          "color": "green"
         },
         "name": "Strategy 3",
         "showlegend": false,
         "type": "bar",
         "x": [
          "Increased immunity<br>",
          "Original estimates<br>",
          "Decreased immunity<br>"
         ],
         "xaxis": "x2",
         "y": [
          1.1160888392407093,
          1.247153503570678,
          1.2725639039074792
         ],
         "yaxis": "y2"
        },
        {
         "marker": {
          "color": "red"
         },
         "name": "Strategy 4",
         "showlegend": false,
         "type": "bar",
         "x": [
          "Increased immunity<br>",
          "Original estimates<br>",
          "Decreased immunity<br>"
         ],
         "xaxis": "x2",
         "y": [
          1.1160888392405834,
          1.247153503570404,
          1.2725639039123602
         ],
         "yaxis": "y2"
        },
        {
         "marker": {
          "color": "purple"
         },
         "name": "Strategy 5",
         "showlegend": false,
         "type": "bar",
         "x": [
          "Increased immunity<br>",
          "Original estimates<br>",
          "Decreased immunity<br>"
         ],
         "xaxis": "x2",
         "y": [
          1.2385738966612005,
          1.4114749177287746,
          1.5592541974988028
         ],
         "yaxis": "y2"
        },
        {
         "marker": {
          "color": "deepskyblue"
         },
         "name": "Strategy 6",
         "showlegend": false,
         "type": "bar",
         "x": [
          "Increased immunity<br>",
          "Original estimates<br>",
          "Decreased immunity<br>"
         ],
         "xaxis": "x2",
         "y": [
          1.2385738966615918,
          1.411474917728859,
          1.5592541974791705
         ],
         "yaxis": "y2"
        },
        {
         "marker": {
          "color": "black"
         },
         "name": "No boosters",
         "showlegend": false,
         "type": "bar",
         "x": [
          "Increased immunity<br>",
          "Original estimates<br>",
          "Decreased immunity<br>"
         ],
         "xaxis": "x2",
         "y": [
          1.2407979791596087,
          1.414305044946505,
          1.5640237209370407
         ],
         "yaxis": "y2"
        }
       ],
       "layout": {
        "annotations": [
         {
          "font": {
           "size": 16
          },
          "showarrow": false,
          "text": "No reduction",
          "x": 0.225,
          "xanchor": "center",
          "xref": "paper",
          "y": -0.05,
          "yanchor": "top",
          "yref": "paper"
         },
         {
          "font": {
           "size": 16
          },
          "showarrow": false,
          "text": "20% reduced",
          "x": 0.775,
          "xanchor": "center",
          "xref": "paper",
          "y": -0.05,
          "yanchor": "top",
          "yref": "paper"
         }
        ],
        "boxmode": "group",
        "height": 600,
        "hovermode": "x unified",
        "legend": {
         "orientation": "h",
         "x": 1.2,
         "xanchor": "right",
         "y": 0.98,
         "yanchor": "bottom"
        },
        "plot_bgcolor": "white",
        "template": {
         "data": {
          "bar": [
           {
            "error_x": {
             "color": "#2a3f5f"
            },
            "error_y": {
             "color": "#2a3f5f"
            },
            "marker": {
             "line": {
              "color": "#E5ECF6",
              "width": 0.5
             },
             "pattern": {
              "fillmode": "overlay",
              "size": 10,
              "solidity": 0.2
             }
            },
            "type": "bar"
           }
          ],
          "barpolar": [
           {
            "marker": {
             "line": {
              "color": "#E5ECF6",
              "width": 0.5
             },
             "pattern": {
              "fillmode": "overlay",
              "size": 10,
              "solidity": 0.2
             }
            },
            "type": "barpolar"
           }
          ],
          "carpet": [
           {
            "aaxis": {
             "endlinecolor": "#2a3f5f",
             "gridcolor": "white",
             "linecolor": "white",
             "minorgridcolor": "white",
             "startlinecolor": "#2a3f5f"
            },
            "baxis": {
             "endlinecolor": "#2a3f5f",
             "gridcolor": "white",
             "linecolor": "white",
             "minorgridcolor": "white",
             "startlinecolor": "#2a3f5f"
            },
            "type": "carpet"
           }
          ],
          "choropleth": [
           {
            "colorbar": {
             "outlinewidth": 0,
             "ticks": ""
            },
            "type": "choropleth"
           }
          ],
          "contour": [
           {
            "colorbar": {
             "outlinewidth": 0,
             "ticks": ""
            },
            "colorscale": [
             [
              0,
              "#0d0887"
             ],
             [
              0.1111111111111111,
              "#46039f"
             ],
             [
              0.2222222222222222,
              "#7201a8"
             ],
             [
              0.3333333333333333,
              "#9c179e"
             ],
             [
              0.4444444444444444,
              "#bd3786"
             ],
             [
              0.5555555555555556,
              "#d8576b"
             ],
             [
              0.6666666666666666,
              "#ed7953"
             ],
             [
              0.7777777777777778,
              "#fb9f3a"
             ],
             [
              0.8888888888888888,
              "#fdca26"
             ],
             [
              1,
              "#f0f921"
             ]
            ],
            "type": "contour"
           }
          ],
          "contourcarpet": [
           {
            "colorbar": {
             "outlinewidth": 0,
             "ticks": ""
            },
            "type": "contourcarpet"
           }
          ],
          "heatmap": [
           {
            "colorbar": {
             "outlinewidth": 0,
             "ticks": ""
            },
            "colorscale": [
             [
              0,
              "#0d0887"
             ],
             [
              0.1111111111111111,
              "#46039f"
             ],
             [
              0.2222222222222222,
              "#7201a8"
             ],
             [
              0.3333333333333333,
              "#9c179e"
             ],
             [
              0.4444444444444444,
              "#bd3786"
             ],
             [
              0.5555555555555556,
              "#d8576b"
             ],
             [
              0.6666666666666666,
              "#ed7953"
             ],
             [
              0.7777777777777778,
              "#fb9f3a"
             ],
             [
              0.8888888888888888,
              "#fdca26"
             ],
             [
              1,
              "#f0f921"
             ]
            ],
            "type": "heatmap"
           }
          ],
          "heatmapgl": [
           {
            "colorbar": {
             "outlinewidth": 0,
             "ticks": ""
            },
            "colorscale": [
             [
              0,
              "#0d0887"
             ],
             [
              0.1111111111111111,
              "#46039f"
             ],
             [
              0.2222222222222222,
              "#7201a8"
             ],
             [
              0.3333333333333333,
              "#9c179e"
             ],
             [
              0.4444444444444444,
              "#bd3786"
             ],
             [
              0.5555555555555556,
              "#d8576b"
             ],
             [
              0.6666666666666666,
              "#ed7953"
             ],
             [
              0.7777777777777778,
              "#fb9f3a"
             ],
             [
              0.8888888888888888,
              "#fdca26"
             ],
             [
              1,
              "#f0f921"
             ]
            ],
            "type": "heatmapgl"
           }
          ],
          "histogram": [
           {
            "marker": {
             "pattern": {
              "fillmode": "overlay",
              "size": 10,
              "solidity": 0.2
             }
            },
            "type": "histogram"
           }
          ],
          "histogram2d": [
           {
            "colorbar": {
             "outlinewidth": 0,
             "ticks": ""
            },
            "colorscale": [
             [
              0,
              "#0d0887"
             ],
             [
              0.1111111111111111,
              "#46039f"
             ],
             [
              0.2222222222222222,
              "#7201a8"
             ],
             [
              0.3333333333333333,
              "#9c179e"
             ],
             [
              0.4444444444444444,
              "#bd3786"
             ],
             [
              0.5555555555555556,
              "#d8576b"
             ],
             [
              0.6666666666666666,
              "#ed7953"
             ],
             [
              0.7777777777777778,
              "#fb9f3a"
             ],
             [
              0.8888888888888888,
              "#fdca26"
             ],
             [
              1,
              "#f0f921"
             ]
            ],
            "type": "histogram2d"
           }
          ],
          "histogram2dcontour": [
           {
            "colorbar": {
             "outlinewidth": 0,
             "ticks": ""
            },
            "colorscale": [
             [
              0,
              "#0d0887"
             ],
             [
              0.1111111111111111,
              "#46039f"
             ],
             [
              0.2222222222222222,
              "#7201a8"
             ],
             [
              0.3333333333333333,
              "#9c179e"
             ],
             [
              0.4444444444444444,
              "#bd3786"
             ],
             [
              0.5555555555555556,
              "#d8576b"
             ],
             [
              0.6666666666666666,
              "#ed7953"
             ],
             [
              0.7777777777777778,
              "#fb9f3a"
             ],
             [
              0.8888888888888888,
              "#fdca26"
             ],
             [
              1,
              "#f0f921"
             ]
            ],
            "type": "histogram2dcontour"
           }
          ],
          "mesh3d": [
           {
            "colorbar": {
             "outlinewidth": 0,
             "ticks": ""
            },
            "type": "mesh3d"
           }
          ],
          "parcoords": [
           {
            "line": {
             "colorbar": {
              "outlinewidth": 0,
              "ticks": ""
             }
            },
            "type": "parcoords"
           }
          ],
          "pie": [
           {
            "automargin": true,
            "type": "pie"
           }
          ],
          "scatter": [
           {
            "fillpattern": {
             "fillmode": "overlay",
             "size": 10,
             "solidity": 0.2
            },
            "type": "scatter"
           }
          ],
          "scatter3d": [
           {
            "line": {
             "colorbar": {
              "outlinewidth": 0,
              "ticks": ""
             }
            },
            "marker": {
             "colorbar": {
              "outlinewidth": 0,
              "ticks": ""
             }
            },
            "type": "scatter3d"
           }
          ],
          "scattercarpet": [
           {
            "marker": {
             "colorbar": {
              "outlinewidth": 0,
              "ticks": ""
             }
            },
            "type": "scattercarpet"
           }
          ],
          "scattergeo": [
           {
            "marker": {
             "colorbar": {
              "outlinewidth": 0,
              "ticks": ""
             }
            },
            "type": "scattergeo"
           }
          ],
          "scattergl": [
           {
            "marker": {
             "colorbar": {
              "outlinewidth": 0,
              "ticks": ""
             }
            },
            "type": "scattergl"
           }
          ],
          "scattermapbox": [
           {
            "marker": {
             "colorbar": {
              "outlinewidth": 0,
              "ticks": ""
             }
            },
            "type": "scattermapbox"
           }
          ],
          "scatterpolar": [
           {
            "marker": {
             "colorbar": {
              "outlinewidth": 0,
              "ticks": ""
             }
            },
            "type": "scatterpolar"
           }
          ],
          "scatterpolargl": [
           {
            "marker": {
             "colorbar": {
              "outlinewidth": 0,
              "ticks": ""
             }
            },
            "type": "scatterpolargl"
           }
          ],
          "scatterternary": [
           {
            "marker": {
             "colorbar": {
              "outlinewidth": 0,
              "ticks": ""
             }
            },
            "type": "scatterternary"
           }
          ],
          "surface": [
           {
            "colorbar": {
             "outlinewidth": 0,
             "ticks": ""
            },
            "colorscale": [
             [
              0,
              "#0d0887"
             ],
             [
              0.1111111111111111,
              "#46039f"
             ],
             [
              0.2222222222222222,
              "#7201a8"
             ],
             [
              0.3333333333333333,
              "#9c179e"
             ],
             [
              0.4444444444444444,
              "#bd3786"
             ],
             [
              0.5555555555555556,
              "#d8576b"
             ],
             [
              0.6666666666666666,
              "#ed7953"
             ],
             [
              0.7777777777777778,
              "#fb9f3a"
             ],
             [
              0.8888888888888888,
              "#fdca26"
             ],
             [
              1,
              "#f0f921"
             ]
            ],
            "type": "surface"
           }
          ],
          "table": [
           {
            "cells": {
             "fill": {
              "color": "#EBF0F8"
             },
             "line": {
              "color": "white"
             }
            },
            "header": {
             "fill": {
              "color": "#C8D4E3"
             },
             "line": {
              "color": "white"
             }
            },
            "type": "table"
           }
          ]
         },
         "layout": {
          "annotationdefaults": {
           "arrowcolor": "#2a3f5f",
           "arrowhead": 0,
           "arrowwidth": 1
          },
          "autotypenumbers": "strict",
          "coloraxis": {
           "colorbar": {
            "outlinewidth": 0,
            "ticks": ""
           }
          },
          "colorscale": {
           "diverging": [
            [
             0,
             "#8e0152"
            ],
            [
             0.1,
             "#c51b7d"
            ],
            [
             0.2,
             "#de77ae"
            ],
            [
             0.3,
             "#f1b6da"
            ],
            [
             0.4,
             "#fde0ef"
            ],
            [
             0.5,
             "#f7f7f7"
            ],
            [
             0.6,
             "#e6f5d0"
            ],
            [
             0.7,
             "#b8e186"
            ],
            [
             0.8,
             "#7fbc41"
            ],
            [
             0.9,
             "#4d9221"
            ],
            [
             1,
             "#276419"
            ]
           ],
           "sequential": [
            [
             0,
             "#0d0887"
            ],
            [
             0.1111111111111111,
             "#46039f"
            ],
            [
             0.2222222222222222,
             "#7201a8"
            ],
            [
             0.3333333333333333,
             "#9c179e"
            ],
            [
             0.4444444444444444,
             "#bd3786"
            ],
            [
             0.5555555555555556,
             "#d8576b"
            ],
            [
             0.6666666666666666,
             "#ed7953"
            ],
            [
             0.7777777777777778,
             "#fb9f3a"
            ],
            [
             0.8888888888888888,
             "#fdca26"
            ],
            [
             1,
             "#f0f921"
            ]
           ],
           "sequentialminus": [
            [
             0,
             "#0d0887"
            ],
            [
             0.1111111111111111,
             "#46039f"
            ],
            [
             0.2222222222222222,
             "#7201a8"
            ],
            [
             0.3333333333333333,
             "#9c179e"
            ],
            [
             0.4444444444444444,
             "#bd3786"
            ],
            [
             0.5555555555555556,
             "#d8576b"
            ],
            [
             0.6666666666666666,
             "#ed7953"
            ],
            [
             0.7777777777777778,
             "#fb9f3a"
            ],
            [
             0.8888888888888888,
             "#fdca26"
            ],
            [
             1,
             "#f0f921"
            ]
           ]
          },
          "colorway": [
           "#636efa",
           "#EF553B",
           "#00cc96",
           "#ab63fa",
           "#FFA15A",
           "#19d3f3",
           "#FF6692",
           "#B6E880",
           "#FF97FF",
           "#FECB52"
          ],
          "font": {
           "color": "#2a3f5f"
          },
          "geo": {
           "bgcolor": "white",
           "lakecolor": "white",
           "landcolor": "#E5ECF6",
           "showlakes": true,
           "showland": true,
           "subunitcolor": "white"
          },
          "hoverlabel": {
           "align": "left"
          },
          "hovermode": "closest",
          "mapbox": {
           "style": "light"
          },
          "paper_bgcolor": "white",
          "plot_bgcolor": "#E5ECF6",
          "polar": {
           "angularaxis": {
            "gridcolor": "white",
            "linecolor": "white",
            "ticks": ""
           },
           "bgcolor": "#E5ECF6",
           "radialaxis": {
            "gridcolor": "white",
            "linecolor": "white",
            "ticks": ""
           }
          },
          "scene": {
           "xaxis": {
            "backgroundcolor": "#E5ECF6",
            "gridcolor": "white",
            "gridwidth": 2,
            "linecolor": "white",
            "showbackground": true,
            "ticks": "",
            "zerolinecolor": "white"
           },
           "yaxis": {
            "backgroundcolor": "#E5ECF6",
            "gridcolor": "white",
            "gridwidth": 2,
            "linecolor": "white",
            "showbackground": true,
            "ticks": "",
            "zerolinecolor": "white"
           },
           "zaxis": {
            "backgroundcolor": "#E5ECF6",
            "gridcolor": "white",
            "gridwidth": 2,
            "linecolor": "white",
            "showbackground": true,
            "ticks": "",
            "zerolinecolor": "white"
           }
          },
          "shapedefaults": {
           "line": {
            "color": "#2a3f5f"
           }
          },
          "ternary": {
           "aaxis": {
            "gridcolor": "white",
            "linecolor": "white",
            "ticks": ""
           },
           "baxis": {
            "gridcolor": "white",
            "linecolor": "white",
            "ticks": ""
           },
           "bgcolor": "#E5ECF6",
           "caxis": {
            "gridcolor": "white",
            "linecolor": "white",
            "ticks": ""
           }
          },
          "title": {
           "x": 0.05
          },
          "xaxis": {
           "automargin": true,
           "gridcolor": "white",
           "linecolor": "white",
           "ticks": "",
           "title": {
            "standoff": 15
           },
           "zerolinecolor": "white",
           "zerolinewidth": 2
          },
          "yaxis": {
           "automargin": true,
           "gridcolor": "white",
           "linecolor": "white",
           "ticks": "",
           "title": {
            "standoff": 15
           },
           "zerolinecolor": "white",
           "zerolinewidth": 2
          }
         }
        },
        "title": {
         "text": "Mean deaths per 100,000 for different vaccine efficacies, immunity effects and scenarios<br>Kenya"
        },
        "width": 1100,
        "xaxis": {
         "anchor": "y",
         "domain": [
          0,
          0.45
         ],
         "linecolor": "black"
        },
        "xaxis2": {
         "anchor": "y2",
         "domain": [
          0.55,
          1
         ],
         "linecolor": "black"
        },
        "yaxis": {
         "anchor": "x",
         "domain": [
          0,
          1
         ],
         "linecolor": "black"
        },
        "yaxis2": {
         "anchor": "x2",
         "domain": [
          0,
          1
         ],
         "matches": "y",
         "showticklabels": false,
         "visible": false
        }
       }
      }
     },
     "metadata": {},
     "output_type": "display_data"
    },
    {
     "data": {
      "application/vnd.plotly.v1+json": {
       "config": {
        "plotlyServerURL": "https://plot.ly"
       },
       "data": [
        {
         "marker": {
          "color": "blue"
         },
         "name": "Strategy 1",
         "type": "bar",
         "x": [
          "Increased immunity<br>",
          "Original estimates<br>",
          "Decreased immunity<br>"
         ],
         "xaxis": "x",
         "y": [
          1.1973708140517108,
          1.2556504606103467,
          1.3220586420683584
         ],
         "yaxis": "y"
        },
        {
         "marker": {
          "color": "orange"
         },
         "name": "Strategy 2",
         "type": "bar",
         "x": [
          "Increased immunity<br>",
          "Original estimates<br>",
          "Decreased immunity<br>"
         ],
         "xaxis": "x",
         "y": [
          1.1973708140532766,
          1.2556504606098682,
          1.3220586420719842
         ],
         "yaxis": "y"
        },
        {
         "marker": {
          "color": "green"
         },
         "name": "Strategy 3",
         "type": "bar",
         "x": [
          "Increased immunity<br>",
          "Original estimates<br>",
          "Decreased immunity<br>"
         ],
         "xaxis": "x",
         "y": [
          1.3860782393446103,
          1.5217779414252703,
          1.741244019802103
         ],
         "yaxis": "y"
        },
        {
         "marker": {
          "color": "red"
         },
         "name": "Strategy 4",
         "type": "bar",
         "x": [
          "Increased immunity<br>",
          "Original estimates<br>",
          "Decreased immunity<br>"
         ],
         "xaxis": "x",
         "y": [
          1.4174668808709745,
          1.6314683199109892,
          1.923664024674201
         ],
         "yaxis": "y"
        },
        {
         "marker": {
          "color": "purple"
         },
         "name": "Strategy 5",
         "type": "bar",
         "x": [
          "Increased immunity<br>",
          "Original estimates<br>",
          "Decreased immunity<br>"
         ],
         "xaxis": "x",
         "y": [
          1.5972750474605062,
          1.8089485546582385,
          2.196716939180548
         ],
         "yaxis": "y"
        },
        {
         "marker": {
          "color": "deepskyblue"
         },
         "name": "Strategy 6",
         "type": "bar",
         "x": [
          "Increased immunity<br>",
          "Original estimates<br>",
          "Decreased immunity<br>"
         ],
         "xaxis": "x",
         "y": [
          1.5972750474594952,
          1.8089485546572996,
          2.196716939178474
         ],
         "yaxis": "y"
        },
        {
         "marker": {
          "color": "black"
         },
         "name": "No boosters",
         "type": "bar",
         "x": [
          "Increased immunity<br>",
          "Original estimates<br>",
          "Decreased immunity<br>"
         ],
         "xaxis": "x",
         "y": [
          1.6007695293548205,
          1.813191026071005,
          2.203058665555973
         ],
         "yaxis": "y"
        },
        {
         "marker": {
          "color": "blue"
         },
         "name": "Strategy 1",
         "showlegend": false,
         "type": "bar",
         "x": [
          "Increased immunity<br>",
          "Original estimates<br>",
          "Decreased immunity<br>"
         ],
         "xaxis": "x2",
         "y": [
          2.5451642830714953,
          2.717890639091126,
          2.7898929445011085
         ],
         "yaxis": "y2"
        },
        {
         "marker": {
          "color": "orange"
         },
         "name": "Strategy 2",
         "showlegend": false,
         "type": "bar",
         "x": [
          "Increased immunity<br>",
          "Original estimates<br>",
          "Decreased immunity<br>"
         ],
         "xaxis": "x2",
         "y": [
          2.545164283070146,
          2.7178906390856783,
          2.789892944500908
         ],
         "yaxis": "y2"
        },
        {
         "marker": {
          "color": "green"
         },
         "name": "Strategy 3",
         "showlegend": false,
         "type": "bar",
         "x": [
          "Increased immunity<br>",
          "Original estimates<br>",
          "Decreased immunity<br>"
         ],
         "xaxis": "x2",
         "y": [
          2.6778957595827886,
          2.902369461896382,
          3.0928902919079526
         ],
         "yaxis": "y2"
        },
        {
         "marker": {
          "color": "red"
         },
         "name": "Strategy 4",
         "showlegend": false,
         "type": "bar",
         "x": [
          "Increased immunity<br>",
          "Original estimates<br>",
          "Decreased immunity<br>"
         ],
         "xaxis": "x2",
         "y": [
          2.6988990372006425,
          2.9748673890295665,
          3.220301698500264
         ],
         "yaxis": "y2"
        },
        {
         "marker": {
          "color": "purple"
         },
         "name": "Strategy 5",
         "showlegend": false,
         "type": "bar",
         "x": [
          "Increased immunity<br>",
          "Original estimates<br>",
          "Decreased immunity<br>"
         ],
         "xaxis": "x2",
         "y": [
          2.8191502803934365,
          3.0919210907262524,
          3.4107438642101515
         ],
         "yaxis": "y2"
        },
        {
         "marker": {
          "color": "deepskyblue"
         },
         "name": "Strategy 6",
         "showlegend": false,
         "type": "bar",
         "x": [
          "Increased immunity<br>",
          "Original estimates<br>",
          "Decreased immunity<br>"
         ],
         "xaxis": "x2",
         "y": [
          2.8191502803936395,
          3.09192109072522,
          3.4107438641982215
         ],
         "yaxis": "y2"
        },
        {
         "marker": {
          "color": "black"
         },
         "name": "No boosters",
         "showlegend": false,
         "type": "bar",
         "x": [
          "Increased immunity<br>",
          "Original estimates<br>",
          "Decreased immunity<br>"
         ],
         "xaxis": "x2",
         "y": [
          2.8225092425070573,
          3.0957689561479738,
          3.416394224239614
         ],
         "yaxis": "y2"
        }
       ],
       "layout": {
        "annotations": [
         {
          "font": {
           "size": 16
          },
          "showarrow": false,
          "text": "No reduction",
          "x": 0.225,
          "xanchor": "center",
          "xref": "paper",
          "y": -0.05,
          "yanchor": "top",
          "yref": "paper"
         },
         {
          "font": {
           "size": 16
          },
          "showarrow": false,
          "text": "20% reduced",
          "x": 0.775,
          "xanchor": "center",
          "xref": "paper",
          "y": -0.05,
          "yanchor": "top",
          "yref": "paper"
         }
        ],
        "boxmode": "group",
        "height": 600,
        "hovermode": "x unified",
        "legend": {
         "orientation": "h",
         "x": 1.2,
         "xanchor": "right",
         "y": 0.98,
         "yanchor": "bottom"
        },
        "plot_bgcolor": "white",
        "template": {
         "data": {
          "bar": [
           {
            "error_x": {
             "color": "#2a3f5f"
            },
            "error_y": {
             "color": "#2a3f5f"
            },
            "marker": {
             "line": {
              "color": "#E5ECF6",
              "width": 0.5
             },
             "pattern": {
              "fillmode": "overlay",
              "size": 10,
              "solidity": 0.2
             }
            },
            "type": "bar"
           }
          ],
          "barpolar": [
           {
            "marker": {
             "line": {
              "color": "#E5ECF6",
              "width": 0.5
             },
             "pattern": {
              "fillmode": "overlay",
              "size": 10,
              "solidity": 0.2
             }
            },
            "type": "barpolar"
           }
          ],
          "carpet": [
           {
            "aaxis": {
             "endlinecolor": "#2a3f5f",
             "gridcolor": "white",
             "linecolor": "white",
             "minorgridcolor": "white",
             "startlinecolor": "#2a3f5f"
            },
            "baxis": {
             "endlinecolor": "#2a3f5f",
             "gridcolor": "white",
             "linecolor": "white",
             "minorgridcolor": "white",
             "startlinecolor": "#2a3f5f"
            },
            "type": "carpet"
           }
          ],
          "choropleth": [
           {
            "colorbar": {
             "outlinewidth": 0,
             "ticks": ""
            },
            "type": "choropleth"
           }
          ],
          "contour": [
           {
            "colorbar": {
             "outlinewidth": 0,
             "ticks": ""
            },
            "colorscale": [
             [
              0,
              "#0d0887"
             ],
             [
              0.1111111111111111,
              "#46039f"
             ],
             [
              0.2222222222222222,
              "#7201a8"
             ],
             [
              0.3333333333333333,
              "#9c179e"
             ],
             [
              0.4444444444444444,
              "#bd3786"
             ],
             [
              0.5555555555555556,
              "#d8576b"
             ],
             [
              0.6666666666666666,
              "#ed7953"
             ],
             [
              0.7777777777777778,
              "#fb9f3a"
             ],
             [
              0.8888888888888888,
              "#fdca26"
             ],
             [
              1,
              "#f0f921"
             ]
            ],
            "type": "contour"
           }
          ],
          "contourcarpet": [
           {
            "colorbar": {
             "outlinewidth": 0,
             "ticks": ""
            },
            "type": "contourcarpet"
           }
          ],
          "heatmap": [
           {
            "colorbar": {
             "outlinewidth": 0,
             "ticks": ""
            },
            "colorscale": [
             [
              0,
              "#0d0887"
             ],
             [
              0.1111111111111111,
              "#46039f"
             ],
             [
              0.2222222222222222,
              "#7201a8"
             ],
             [
              0.3333333333333333,
              "#9c179e"
             ],
             [
              0.4444444444444444,
              "#bd3786"
             ],
             [
              0.5555555555555556,
              "#d8576b"
             ],
             [
              0.6666666666666666,
              "#ed7953"
             ],
             [
              0.7777777777777778,
              "#fb9f3a"
             ],
             [
              0.8888888888888888,
              "#fdca26"
             ],
             [
              1,
              "#f0f921"
             ]
            ],
            "type": "heatmap"
           }
          ],
          "heatmapgl": [
           {
            "colorbar": {
             "outlinewidth": 0,
             "ticks": ""
            },
            "colorscale": [
             [
              0,
              "#0d0887"
             ],
             [
              0.1111111111111111,
              "#46039f"
             ],
             [
              0.2222222222222222,
              "#7201a8"
             ],
             [
              0.3333333333333333,
              "#9c179e"
             ],
             [
              0.4444444444444444,
              "#bd3786"
             ],
             [
              0.5555555555555556,
              "#d8576b"
             ],
             [
              0.6666666666666666,
              "#ed7953"
             ],
             [
              0.7777777777777778,
              "#fb9f3a"
             ],
             [
              0.8888888888888888,
              "#fdca26"
             ],
             [
              1,
              "#f0f921"
             ]
            ],
            "type": "heatmapgl"
           }
          ],
          "histogram": [
           {
            "marker": {
             "pattern": {
              "fillmode": "overlay",
              "size": 10,
              "solidity": 0.2
             }
            },
            "type": "histogram"
           }
          ],
          "histogram2d": [
           {
            "colorbar": {
             "outlinewidth": 0,
             "ticks": ""
            },
            "colorscale": [
             [
              0,
              "#0d0887"
             ],
             [
              0.1111111111111111,
              "#46039f"
             ],
             [
              0.2222222222222222,
              "#7201a8"
             ],
             [
              0.3333333333333333,
              "#9c179e"
             ],
             [
              0.4444444444444444,
              "#bd3786"
             ],
             [
              0.5555555555555556,
              "#d8576b"
             ],
             [
              0.6666666666666666,
              "#ed7953"
             ],
             [
              0.7777777777777778,
              "#fb9f3a"
             ],
             [
              0.8888888888888888,
              "#fdca26"
             ],
             [
              1,
              "#f0f921"
             ]
            ],
            "type": "histogram2d"
           }
          ],
          "histogram2dcontour": [
           {
            "colorbar": {
             "outlinewidth": 0,
             "ticks": ""
            },
            "colorscale": [
             [
              0,
              "#0d0887"
             ],
             [
              0.1111111111111111,
              "#46039f"
             ],
             [
              0.2222222222222222,
              "#7201a8"
             ],
             [
              0.3333333333333333,
              "#9c179e"
             ],
             [
              0.4444444444444444,
              "#bd3786"
             ],
             [
              0.5555555555555556,
              "#d8576b"
             ],
             [
              0.6666666666666666,
              "#ed7953"
             ],
             [
              0.7777777777777778,
              "#fb9f3a"
             ],
             [
              0.8888888888888888,
              "#fdca26"
             ],
             [
              1,
              "#f0f921"
             ]
            ],
            "type": "histogram2dcontour"
           }
          ],
          "mesh3d": [
           {
            "colorbar": {
             "outlinewidth": 0,
             "ticks": ""
            },
            "type": "mesh3d"
           }
          ],
          "parcoords": [
           {
            "line": {
             "colorbar": {
              "outlinewidth": 0,
              "ticks": ""
             }
            },
            "type": "parcoords"
           }
          ],
          "pie": [
           {
            "automargin": true,
            "type": "pie"
           }
          ],
          "scatter": [
           {
            "fillpattern": {
             "fillmode": "overlay",
             "size": 10,
             "solidity": 0.2
            },
            "type": "scatter"
           }
          ],
          "scatter3d": [
           {
            "line": {
             "colorbar": {
              "outlinewidth": 0,
              "ticks": ""
             }
            },
            "marker": {
             "colorbar": {
              "outlinewidth": 0,
              "ticks": ""
             }
            },
            "type": "scatter3d"
           }
          ],
          "scattercarpet": [
           {
            "marker": {
             "colorbar": {
              "outlinewidth": 0,
              "ticks": ""
             }
            },
            "type": "scattercarpet"
           }
          ],
          "scattergeo": [
           {
            "marker": {
             "colorbar": {
              "outlinewidth": 0,
              "ticks": ""
             }
            },
            "type": "scattergeo"
           }
          ],
          "scattergl": [
           {
            "marker": {
             "colorbar": {
              "outlinewidth": 0,
              "ticks": ""
             }
            },
            "type": "scattergl"
           }
          ],
          "scattermapbox": [
           {
            "marker": {
             "colorbar": {
              "outlinewidth": 0,
              "ticks": ""
             }
            },
            "type": "scattermapbox"
           }
          ],
          "scatterpolar": [
           {
            "marker": {
             "colorbar": {
              "outlinewidth": 0,
              "ticks": ""
             }
            },
            "type": "scatterpolar"
           }
          ],
          "scatterpolargl": [
           {
            "marker": {
             "colorbar": {
              "outlinewidth": 0,
              "ticks": ""
             }
            },
            "type": "scatterpolargl"
           }
          ],
          "scatterternary": [
           {
            "marker": {
             "colorbar": {
              "outlinewidth": 0,
              "ticks": ""
             }
            },
            "type": "scatterternary"
           }
          ],
          "surface": [
           {
            "colorbar": {
             "outlinewidth": 0,
             "ticks": ""
            },
            "colorscale": [
             [
              0,
              "#0d0887"
             ],
             [
              0.1111111111111111,
              "#46039f"
             ],
             [
              0.2222222222222222,
              "#7201a8"
             ],
             [
              0.3333333333333333,
              "#9c179e"
             ],
             [
              0.4444444444444444,
              "#bd3786"
             ],
             [
              0.5555555555555556,
              "#d8576b"
             ],
             [
              0.6666666666666666,
              "#ed7953"
             ],
             [
              0.7777777777777778,
              "#fb9f3a"
             ],
             [
              0.8888888888888888,
              "#fdca26"
             ],
             [
              1,
              "#f0f921"
             ]
            ],
            "type": "surface"
           }
          ],
          "table": [
           {
            "cells": {
             "fill": {
              "color": "#EBF0F8"
             },
             "line": {
              "color": "white"
             }
            },
            "header": {
             "fill": {
              "color": "#C8D4E3"
             },
             "line": {
              "color": "white"
             }
            },
            "type": "table"
           }
          ]
         },
         "layout": {
          "annotationdefaults": {
           "arrowcolor": "#2a3f5f",
           "arrowhead": 0,
           "arrowwidth": 1
          },
          "autotypenumbers": "strict",
          "coloraxis": {
           "colorbar": {
            "outlinewidth": 0,
            "ticks": ""
           }
          },
          "colorscale": {
           "diverging": [
            [
             0,
             "#8e0152"
            ],
            [
             0.1,
             "#c51b7d"
            ],
            [
             0.2,
             "#de77ae"
            ],
            [
             0.3,
             "#f1b6da"
            ],
            [
             0.4,
             "#fde0ef"
            ],
            [
             0.5,
             "#f7f7f7"
            ],
            [
             0.6,
             "#e6f5d0"
            ],
            [
             0.7,
             "#b8e186"
            ],
            [
             0.8,
             "#7fbc41"
            ],
            [
             0.9,
             "#4d9221"
            ],
            [
             1,
             "#276419"
            ]
           ],
           "sequential": [
            [
             0,
             "#0d0887"
            ],
            [
             0.1111111111111111,
             "#46039f"
            ],
            [
             0.2222222222222222,
             "#7201a8"
            ],
            [
             0.3333333333333333,
             "#9c179e"
            ],
            [
             0.4444444444444444,
             "#bd3786"
            ],
            [
             0.5555555555555556,
             "#d8576b"
            ],
            [
             0.6666666666666666,
             "#ed7953"
            ],
            [
             0.7777777777777778,
             "#fb9f3a"
            ],
            [
             0.8888888888888888,
             "#fdca26"
            ],
            [
             1,
             "#f0f921"
            ]
           ],
           "sequentialminus": [
            [
             0,
             "#0d0887"
            ],
            [
             0.1111111111111111,
             "#46039f"
            ],
            [
             0.2222222222222222,
             "#7201a8"
            ],
            [
             0.3333333333333333,
             "#9c179e"
            ],
            [
             0.4444444444444444,
             "#bd3786"
            ],
            [
             0.5555555555555556,
             "#d8576b"
            ],
            [
             0.6666666666666666,
             "#ed7953"
            ],
            [
             0.7777777777777778,
             "#fb9f3a"
            ],
            [
             0.8888888888888888,
             "#fdca26"
            ],
            [
             1,
             "#f0f921"
            ]
           ]
          },
          "colorway": [
           "#636efa",
           "#EF553B",
           "#00cc96",
           "#ab63fa",
           "#FFA15A",
           "#19d3f3",
           "#FF6692",
           "#B6E880",
           "#FF97FF",
           "#FECB52"
          ],
          "font": {
           "color": "#2a3f5f"
          },
          "geo": {
           "bgcolor": "white",
           "lakecolor": "white",
           "landcolor": "#E5ECF6",
           "showlakes": true,
           "showland": true,
           "subunitcolor": "white"
          },
          "hoverlabel": {
           "align": "left"
          },
          "hovermode": "closest",
          "mapbox": {
           "style": "light"
          },
          "paper_bgcolor": "white",
          "plot_bgcolor": "#E5ECF6",
          "polar": {
           "angularaxis": {
            "gridcolor": "white",
            "linecolor": "white",
            "ticks": ""
           },
           "bgcolor": "#E5ECF6",
           "radialaxis": {
            "gridcolor": "white",
            "linecolor": "white",
            "ticks": ""
           }
          },
          "scene": {
           "xaxis": {
            "backgroundcolor": "#E5ECF6",
            "gridcolor": "white",
            "gridwidth": 2,
            "linecolor": "white",
            "showbackground": true,
            "ticks": "",
            "zerolinecolor": "white"
           },
           "yaxis": {
            "backgroundcolor": "#E5ECF6",
            "gridcolor": "white",
            "gridwidth": 2,
            "linecolor": "white",
            "showbackground": true,
            "ticks": "",
            "zerolinecolor": "white"
           },
           "zaxis": {
            "backgroundcolor": "#E5ECF6",
            "gridcolor": "white",
            "gridwidth": 2,
            "linecolor": "white",
            "showbackground": true,
            "ticks": "",
            "zerolinecolor": "white"
           }
          },
          "shapedefaults": {
           "line": {
            "color": "#2a3f5f"
           }
          },
          "ternary": {
           "aaxis": {
            "gridcolor": "white",
            "linecolor": "white",
            "ticks": ""
           },
           "baxis": {
            "gridcolor": "white",
            "linecolor": "white",
            "ticks": ""
           },
           "bgcolor": "#E5ECF6",
           "caxis": {
            "gridcolor": "white",
            "linecolor": "white",
            "ticks": ""
           }
          },
          "title": {
           "x": 0.05
          },
          "xaxis": {
           "automargin": true,
           "gridcolor": "white",
           "linecolor": "white",
           "ticks": "",
           "title": {
            "standoff": 15
           },
           "zerolinecolor": "white",
           "zerolinewidth": 2
          },
          "yaxis": {
           "automargin": true,
           "gridcolor": "white",
           "linecolor": "white",
           "ticks": "",
           "title": {
            "standoff": 15
           },
           "zerolinecolor": "white",
           "zerolinewidth": 2
          }
         }
        },
        "title": {
         "text": "Mean deaths per 100,000 for different vaccine efficacies, immunity effects and scenarios<br>Philippines"
        },
        "width": 1100,
        "xaxis": {
         "anchor": "y",
         "domain": [
          0,
          0.45
         ],
         "linecolor": "black"
        },
        "xaxis2": {
         "anchor": "y2",
         "domain": [
          0.55,
          1
         ],
         "linecolor": "black"
        },
        "yaxis": {
         "anchor": "x",
         "domain": [
          0,
          1
         ],
         "linecolor": "black"
        },
        "yaxis2": {
         "anchor": "x2",
         "domain": [
          0,
          1
         ],
         "matches": "y",
         "showticklabels": false,
         "visible": false
        }
       }
      }
     },
     "metadata": {},
     "output_type": "display_data"
    },
    {
     "data": {
      "application/vnd.plotly.v1+json": {
       "config": {
        "plotlyServerURL": "https://plot.ly"
       },
       "data": [
        {
         "marker": {
          "color": "blue"
         },
         "name": "Strategy 1",
         "type": "bar",
         "x": [
          "Increased immunity<br>",
          "Original estimates<br>",
          "Decreased immunity<br>"
         ],
         "xaxis": "x",
         "y": [
          0.6147682032309739,
          0.6381051487312271,
          0.6731337648705003
         ],
         "yaxis": "y"
        },
        {
         "marker": {
          "color": "orange"
         },
         "name": "Strategy 2",
         "type": "bar",
         "x": [
          "Increased immunity<br>",
          "Original estimates<br>",
          "Decreased immunity<br>"
         ],
         "xaxis": "x",
         "y": [
          0.6147682032308572,
          0.6381051487312457,
          0.6731337648699971
         ],
         "yaxis": "y"
        },
        {
         "marker": {
          "color": "green"
         },
         "name": "Strategy 3",
         "type": "bar",
         "x": [
          "Increased immunity<br>",
          "Original estimates<br>",
          "Decreased immunity<br>"
         ],
         "xaxis": "x",
         "y": [
          0.6147682032316413,
          0.6381051487307396,
          0.6731337648695239
         ],
         "yaxis": "y"
        },
        {
         "marker": {
          "color": "red"
         },
         "name": "Strategy 4",
         "type": "bar",
         "x": [
          "Increased immunity<br>",
          "Original estimates<br>",
          "Decreased immunity<br>"
         ],
         "xaxis": "x",
         "y": [
          0.6147682032324759,
          0.6381051487309006,
          0.6731337648699174
         ],
         "yaxis": "y"
        },
        {
         "marker": {
          "color": "purple"
         },
         "name": "Strategy 5",
         "type": "bar",
         "x": [
          "Increased immunity<br>",
          "Original estimates<br>",
          "Decreased immunity<br>"
         ],
         "xaxis": "x",
         "y": [
          0.782578467396057,
          0.8699008824390437,
          1.0555151703478443
         ],
         "yaxis": "y"
        },
        {
         "marker": {
          "color": "deepskyblue"
         },
         "name": "Strategy 6",
         "type": "bar",
         "x": [
          "Increased immunity<br>",
          "Original estimates<br>",
          "Decreased immunity<br>"
         ],
         "xaxis": "x",
         "y": [
          0.7825784673962137,
          0.8699008824386788,
          1.0555151703558272
         ],
         "yaxis": "y"
        },
        {
         "marker": {
          "color": "black"
         },
         "name": "No boosters",
         "type": "bar",
         "x": [
          "Increased immunity<br>",
          "Original estimates<br>",
          "Decreased immunity<br>"
         ],
         "xaxis": "x",
         "y": [
          0.7846385332284157,
          0.8728847877138075,
          1.0604566914278455
         ],
         "yaxis": "y"
        },
        {
         "marker": {
          "color": "blue"
         },
         "name": "Strategy 1",
         "showlegend": false,
         "type": "bar",
         "x": [
          "Increased immunity<br>",
          "Original estimates<br>",
          "Decreased immunity<br>"
         ],
         "xaxis": "x2",
         "y": [
          1.2174794985529074,
          1.3128240865500405,
          1.3917236844901244
         ],
         "yaxis": "y2"
        },
        {
         "marker": {
          "color": "orange"
         },
         "name": "Strategy 2",
         "showlegend": false,
         "type": "bar",
         "x": [
          "Increased immunity<br>",
          "Original estimates<br>",
          "Decreased immunity<br>"
         ],
         "xaxis": "x2",
         "y": [
          1.2174794985532718,
          1.3128240865484995,
          1.3917236844905694
         ],
         "yaxis": "y2"
        },
        {
         "marker": {
          "color": "green"
         },
         "name": "Strategy 3",
         "showlegend": false,
         "type": "bar",
         "x": [
          "Increased immunity<br>",
          "Original estimates<br>",
          "Decreased immunity<br>"
         ],
         "xaxis": "x2",
         "y": [
          1.2174794985538222,
          1.3128240865501017,
          1.391723684491808
         ],
         "yaxis": "y2"
        },
        {
         "marker": {
          "color": "red"
         },
         "name": "Strategy 4",
         "showlegend": false,
         "type": "bar",
         "x": [
          "Increased immunity<br>",
          "Original estimates<br>",
          "Decreased immunity<br>"
         ],
         "xaxis": "x2",
         "y": [
          1.2174794985536508,
          1.312824086548453,
          1.3917236844933896
         ],
         "yaxis": "y2"
        },
        {
         "marker": {
          "color": "purple"
         },
         "name": "Strategy 5",
         "showlegend": false,
         "type": "bar",
         "x": [
          "Increased immunity<br>",
          "Original estimates<br>",
          "Decreased immunity<br>"
         ],
         "xaxis": "x2",
         "y": [
          1.3352306144341302,
          1.4724596282651103,
          1.662142721618216
         ],
         "yaxis": "y2"
        },
        {
         "marker": {
          "color": "deepskyblue"
         },
         "name": "Strategy 6",
         "showlegend": false,
         "type": "bar",
         "x": [
          "Increased immunity<br>",
          "Original estimates<br>",
          "Decreased immunity<br>"
         ],
         "xaxis": "x2",
         "y": [
          1.3352306144345234,
          1.47245962828304,
          1.662142721621013
         ],
         "yaxis": "y2"
        },
        {
         "marker": {
          "color": "black"
         },
         "name": "No boosters",
         "showlegend": false,
         "type": "bar",
         "x": [
          "Increased immunity<br>",
          "Original estimates<br>",
          "Decreased immunity<br>"
         ],
         "xaxis": "x2",
         "y": [
          1.3371411934104427,
          1.4749784947188105,
          1.6661589857895454
         ],
         "yaxis": "y2"
        }
       ],
       "layout": {
        "annotations": [
         {
          "font": {
           "size": 16
          },
          "showarrow": false,
          "text": "No reduction",
          "x": 0.225,
          "xanchor": "center",
          "xref": "paper",
          "y": -0.05,
          "yanchor": "top",
          "yref": "paper"
         },
         {
          "font": {
           "size": 16
          },
          "showarrow": false,
          "text": "20% reduced",
          "x": 0.775,
          "xanchor": "center",
          "xref": "paper",
          "y": -0.05,
          "yanchor": "top",
          "yref": "paper"
         }
        ],
        "boxmode": "group",
        "height": 600,
        "hovermode": "x unified",
        "legend": {
         "orientation": "h",
         "x": 1.2,
         "xanchor": "right",
         "y": 0.98,
         "yanchor": "bottom"
        },
        "plot_bgcolor": "white",
        "template": {
         "data": {
          "bar": [
           {
            "error_x": {
             "color": "#2a3f5f"
            },
            "error_y": {
             "color": "#2a3f5f"
            },
            "marker": {
             "line": {
              "color": "#E5ECF6",
              "width": 0.5
             },
             "pattern": {
              "fillmode": "overlay",
              "size": 10,
              "solidity": 0.2
             }
            },
            "type": "bar"
           }
          ],
          "barpolar": [
           {
            "marker": {
             "line": {
              "color": "#E5ECF6",
              "width": 0.5
             },
             "pattern": {
              "fillmode": "overlay",
              "size": 10,
              "solidity": 0.2
             }
            },
            "type": "barpolar"
           }
          ],
          "carpet": [
           {
            "aaxis": {
             "endlinecolor": "#2a3f5f",
             "gridcolor": "white",
             "linecolor": "white",
             "minorgridcolor": "white",
             "startlinecolor": "#2a3f5f"
            },
            "baxis": {
             "endlinecolor": "#2a3f5f",
             "gridcolor": "white",
             "linecolor": "white",
             "minorgridcolor": "white",
             "startlinecolor": "#2a3f5f"
            },
            "type": "carpet"
           }
          ],
          "choropleth": [
           {
            "colorbar": {
             "outlinewidth": 0,
             "ticks": ""
            },
            "type": "choropleth"
           }
          ],
          "contour": [
           {
            "colorbar": {
             "outlinewidth": 0,
             "ticks": ""
            },
            "colorscale": [
             [
              0,
              "#0d0887"
             ],
             [
              0.1111111111111111,
              "#46039f"
             ],
             [
              0.2222222222222222,
              "#7201a8"
             ],
             [
              0.3333333333333333,
              "#9c179e"
             ],
             [
              0.4444444444444444,
              "#bd3786"
             ],
             [
              0.5555555555555556,
              "#d8576b"
             ],
             [
              0.6666666666666666,
              "#ed7953"
             ],
             [
              0.7777777777777778,
              "#fb9f3a"
             ],
             [
              0.8888888888888888,
              "#fdca26"
             ],
             [
              1,
              "#f0f921"
             ]
            ],
            "type": "contour"
           }
          ],
          "contourcarpet": [
           {
            "colorbar": {
             "outlinewidth": 0,
             "ticks": ""
            },
            "type": "contourcarpet"
           }
          ],
          "heatmap": [
           {
            "colorbar": {
             "outlinewidth": 0,
             "ticks": ""
            },
            "colorscale": [
             [
              0,
              "#0d0887"
             ],
             [
              0.1111111111111111,
              "#46039f"
             ],
             [
              0.2222222222222222,
              "#7201a8"
             ],
             [
              0.3333333333333333,
              "#9c179e"
             ],
             [
              0.4444444444444444,
              "#bd3786"
             ],
             [
              0.5555555555555556,
              "#d8576b"
             ],
             [
              0.6666666666666666,
              "#ed7953"
             ],
             [
              0.7777777777777778,
              "#fb9f3a"
             ],
             [
              0.8888888888888888,
              "#fdca26"
             ],
             [
              1,
              "#f0f921"
             ]
            ],
            "type": "heatmap"
           }
          ],
          "heatmapgl": [
           {
            "colorbar": {
             "outlinewidth": 0,
             "ticks": ""
            },
            "colorscale": [
             [
              0,
              "#0d0887"
             ],
             [
              0.1111111111111111,
              "#46039f"
             ],
             [
              0.2222222222222222,
              "#7201a8"
             ],
             [
              0.3333333333333333,
              "#9c179e"
             ],
             [
              0.4444444444444444,
              "#bd3786"
             ],
             [
              0.5555555555555556,
              "#d8576b"
             ],
             [
              0.6666666666666666,
              "#ed7953"
             ],
             [
              0.7777777777777778,
              "#fb9f3a"
             ],
             [
              0.8888888888888888,
              "#fdca26"
             ],
             [
              1,
              "#f0f921"
             ]
            ],
            "type": "heatmapgl"
           }
          ],
          "histogram": [
           {
            "marker": {
             "pattern": {
              "fillmode": "overlay",
              "size": 10,
              "solidity": 0.2
             }
            },
            "type": "histogram"
           }
          ],
          "histogram2d": [
           {
            "colorbar": {
             "outlinewidth": 0,
             "ticks": ""
            },
            "colorscale": [
             [
              0,
              "#0d0887"
             ],
             [
              0.1111111111111111,
              "#46039f"
             ],
             [
              0.2222222222222222,
              "#7201a8"
             ],
             [
              0.3333333333333333,
              "#9c179e"
             ],
             [
              0.4444444444444444,
              "#bd3786"
             ],
             [
              0.5555555555555556,
              "#d8576b"
             ],
             [
              0.6666666666666666,
              "#ed7953"
             ],
             [
              0.7777777777777778,
              "#fb9f3a"
             ],
             [
              0.8888888888888888,
              "#fdca26"
             ],
             [
              1,
              "#f0f921"
             ]
            ],
            "type": "histogram2d"
           }
          ],
          "histogram2dcontour": [
           {
            "colorbar": {
             "outlinewidth": 0,
             "ticks": ""
            },
            "colorscale": [
             [
              0,
              "#0d0887"
             ],
             [
              0.1111111111111111,
              "#46039f"
             ],
             [
              0.2222222222222222,
              "#7201a8"
             ],
             [
              0.3333333333333333,
              "#9c179e"
             ],
             [
              0.4444444444444444,
              "#bd3786"
             ],
             [
              0.5555555555555556,
              "#d8576b"
             ],
             [
              0.6666666666666666,
              "#ed7953"
             ],
             [
              0.7777777777777778,
              "#fb9f3a"
             ],
             [
              0.8888888888888888,
              "#fdca26"
             ],
             [
              1,
              "#f0f921"
             ]
            ],
            "type": "histogram2dcontour"
           }
          ],
          "mesh3d": [
           {
            "colorbar": {
             "outlinewidth": 0,
             "ticks": ""
            },
            "type": "mesh3d"
           }
          ],
          "parcoords": [
           {
            "line": {
             "colorbar": {
              "outlinewidth": 0,
              "ticks": ""
             }
            },
            "type": "parcoords"
           }
          ],
          "pie": [
           {
            "automargin": true,
            "type": "pie"
           }
          ],
          "scatter": [
           {
            "fillpattern": {
             "fillmode": "overlay",
             "size": 10,
             "solidity": 0.2
            },
            "type": "scatter"
           }
          ],
          "scatter3d": [
           {
            "line": {
             "colorbar": {
              "outlinewidth": 0,
              "ticks": ""
             }
            },
            "marker": {
             "colorbar": {
              "outlinewidth": 0,
              "ticks": ""
             }
            },
            "type": "scatter3d"
           }
          ],
          "scattercarpet": [
           {
            "marker": {
             "colorbar": {
              "outlinewidth": 0,
              "ticks": ""
             }
            },
            "type": "scattercarpet"
           }
          ],
          "scattergeo": [
           {
            "marker": {
             "colorbar": {
              "outlinewidth": 0,
              "ticks": ""
             }
            },
            "type": "scattergeo"
           }
          ],
          "scattergl": [
           {
            "marker": {
             "colorbar": {
              "outlinewidth": 0,
              "ticks": ""
             }
            },
            "type": "scattergl"
           }
          ],
          "scattermapbox": [
           {
            "marker": {
             "colorbar": {
              "outlinewidth": 0,
              "ticks": ""
             }
            },
            "type": "scattermapbox"
           }
          ],
          "scatterpolar": [
           {
            "marker": {
             "colorbar": {
              "outlinewidth": 0,
              "ticks": ""
             }
            },
            "type": "scatterpolar"
           }
          ],
          "scatterpolargl": [
           {
            "marker": {
             "colorbar": {
              "outlinewidth": 0,
              "ticks": ""
             }
            },
            "type": "scatterpolargl"
           }
          ],
          "scatterternary": [
           {
            "marker": {
             "colorbar": {
              "outlinewidth": 0,
              "ticks": ""
             }
            },
            "type": "scatterternary"
           }
          ],
          "surface": [
           {
            "colorbar": {
             "outlinewidth": 0,
             "ticks": ""
            },
            "colorscale": [
             [
              0,
              "#0d0887"
             ],
             [
              0.1111111111111111,
              "#46039f"
             ],
             [
              0.2222222222222222,
              "#7201a8"
             ],
             [
              0.3333333333333333,
              "#9c179e"
             ],
             [
              0.4444444444444444,
              "#bd3786"
             ],
             [
              0.5555555555555556,
              "#d8576b"
             ],
             [
              0.6666666666666666,
              "#ed7953"
             ],
             [
              0.7777777777777778,
              "#fb9f3a"
             ],
             [
              0.8888888888888888,
              "#fdca26"
             ],
             [
              1,
              "#f0f921"
             ]
            ],
            "type": "surface"
           }
          ],
          "table": [
           {
            "cells": {
             "fill": {
              "color": "#EBF0F8"
             },
             "line": {
              "color": "white"
             }
            },
            "header": {
             "fill": {
              "color": "#C8D4E3"
             },
             "line": {
              "color": "white"
             }
            },
            "type": "table"
           }
          ]
         },
         "layout": {
          "annotationdefaults": {
           "arrowcolor": "#2a3f5f",
           "arrowhead": 0,
           "arrowwidth": 1
          },
          "autotypenumbers": "strict",
          "coloraxis": {
           "colorbar": {
            "outlinewidth": 0,
            "ticks": ""
           }
          },
          "colorscale": {
           "diverging": [
            [
             0,
             "#8e0152"
            ],
            [
             0.1,
             "#c51b7d"
            ],
            [
             0.2,
             "#de77ae"
            ],
            [
             0.3,
             "#f1b6da"
            ],
            [
             0.4,
             "#fde0ef"
            ],
            [
             0.5,
             "#f7f7f7"
            ],
            [
             0.6,
             "#e6f5d0"
            ],
            [
             0.7,
             "#b8e186"
            ],
            [
             0.8,
             "#7fbc41"
            ],
            [
             0.9,
             "#4d9221"
            ],
            [
             1,
             "#276419"
            ]
           ],
           "sequential": [
            [
             0,
             "#0d0887"
            ],
            [
             0.1111111111111111,
             "#46039f"
            ],
            [
             0.2222222222222222,
             "#7201a8"
            ],
            [
             0.3333333333333333,
             "#9c179e"
            ],
            [
             0.4444444444444444,
             "#bd3786"
            ],
            [
             0.5555555555555556,
             "#d8576b"
            ],
            [
             0.6666666666666666,
             "#ed7953"
            ],
            [
             0.7777777777777778,
             "#fb9f3a"
            ],
            [
             0.8888888888888888,
             "#fdca26"
            ],
            [
             1,
             "#f0f921"
            ]
           ],
           "sequentialminus": [
            [
             0,
             "#0d0887"
            ],
            [
             0.1111111111111111,
             "#46039f"
            ],
            [
             0.2222222222222222,
             "#7201a8"
            ],
            [
             0.3333333333333333,
             "#9c179e"
            ],
            [
             0.4444444444444444,
             "#bd3786"
            ],
            [
             0.5555555555555556,
             "#d8576b"
            ],
            [
             0.6666666666666666,
             "#ed7953"
            ],
            [
             0.7777777777777778,
             "#fb9f3a"
            ],
            [
             0.8888888888888888,
             "#fdca26"
            ],
            [
             1,
             "#f0f921"
            ]
           ]
          },
          "colorway": [
           "#636efa",
           "#EF553B",
           "#00cc96",
           "#ab63fa",
           "#FFA15A",
           "#19d3f3",
           "#FF6692",
           "#B6E880",
           "#FF97FF",
           "#FECB52"
          ],
          "font": {
           "color": "#2a3f5f"
          },
          "geo": {
           "bgcolor": "white",
           "lakecolor": "white",
           "landcolor": "#E5ECF6",
           "showlakes": true,
           "showland": true,
           "subunitcolor": "white"
          },
          "hoverlabel": {
           "align": "left"
          },
          "hovermode": "closest",
          "mapbox": {
           "style": "light"
          },
          "paper_bgcolor": "white",
          "plot_bgcolor": "#E5ECF6",
          "polar": {
           "angularaxis": {
            "gridcolor": "white",
            "linecolor": "white",
            "ticks": ""
           },
           "bgcolor": "#E5ECF6",
           "radialaxis": {
            "gridcolor": "white",
            "linecolor": "white",
            "ticks": ""
           }
          },
          "scene": {
           "xaxis": {
            "backgroundcolor": "#E5ECF6",
            "gridcolor": "white",
            "gridwidth": 2,
            "linecolor": "white",
            "showbackground": true,
            "ticks": "",
            "zerolinecolor": "white"
           },
           "yaxis": {
            "backgroundcolor": "#E5ECF6",
            "gridcolor": "white",
            "gridwidth": 2,
            "linecolor": "white",
            "showbackground": true,
            "ticks": "",
            "zerolinecolor": "white"
           },
           "zaxis": {
            "backgroundcolor": "#E5ECF6",
            "gridcolor": "white",
            "gridwidth": 2,
            "linecolor": "white",
            "showbackground": true,
            "ticks": "",
            "zerolinecolor": "white"
           }
          },
          "shapedefaults": {
           "line": {
            "color": "#2a3f5f"
           }
          },
          "ternary": {
           "aaxis": {
            "gridcolor": "white",
            "linecolor": "white",
            "ticks": ""
           },
           "baxis": {
            "gridcolor": "white",
            "linecolor": "white",
            "ticks": ""
           },
           "bgcolor": "#E5ECF6",
           "caxis": {
            "gridcolor": "white",
            "linecolor": "white",
            "ticks": ""
           }
          },
          "title": {
           "x": 0.05
          },
          "xaxis": {
           "automargin": true,
           "gridcolor": "white",
           "linecolor": "white",
           "ticks": "",
           "title": {
            "standoff": 15
           },
           "zerolinecolor": "white",
           "zerolinewidth": 2
          },
          "yaxis": {
           "automargin": true,
           "gridcolor": "white",
           "linecolor": "white",
           "ticks": "",
           "title": {
            "standoff": 15
           },
           "zerolinecolor": "white",
           "zerolinewidth": 2
          }
         }
        },
        "title": {
         "text": "Mean deaths per 100,000 for different vaccine efficacies, immunity effects and scenarios<br>Sierra Leone"
        },
        "width": 1100,
        "xaxis": {
         "anchor": "y",
         "domain": [
          0,
          0.45
         ],
         "linecolor": "black"
        },
        "xaxis2": {
         "anchor": "y2",
         "domain": [
          0.55,
          1
         ],
         "linecolor": "black"
        },
        "yaxis": {
         "anchor": "x",
         "domain": [
          0,
          1
         ],
         "linecolor": "black"
        },
        "yaxis2": {
         "anchor": "x2",
         "domain": [
          0,
          1
         ],
         "matches": "y",
         "showticklabels": false,
         "visible": false
        }
       }
      }
     },
     "metadata": {},
     "output_type": "display_data"
    },
    {
     "data": {
      "application/vnd.plotly.v1+json": {
       "config": {
        "plotlyServerURL": "https://plot.ly"
       },
       "data": [
        {
         "marker": {
          "color": "blue"
         },
         "name": "Strategy 1",
         "type": "bar",
         "x": [
          "Increased immunity<br>",
          "Original estimates<br>",
          "Decreased immunity<br>"
         ],
         "xaxis": "x",
         "y": [
          1.2557781068279996,
          1.327728823591594,
          1.3717258891044681
         ],
         "yaxis": "y"
        },
        {
         "marker": {
          "color": "orange"
         },
         "name": "Strategy 2",
         "type": "bar",
         "x": [
          "Increased immunity<br>",
          "Original estimates<br>",
          "Decreased immunity<br>"
         ],
         "xaxis": "x",
         "y": [
          1.2557781068269485,
          1.3277288235921363,
          1.3717258891022575
         ],
         "yaxis": "y"
        },
        {
         "marker": {
          "color": "green"
         },
         "name": "Strategy 3",
         "type": "bar",
         "x": [
          "Increased immunity<br>",
          "Original estimates<br>",
          "Decreased immunity<br>"
         ],
         "xaxis": "x",
         "y": [
          1.8593594637282416,
          2.0755933851716177,
          2.227846129403816
         ],
         "yaxis": "y"
        },
        {
         "marker": {
          "color": "red"
         },
         "name": "Strategy 4",
         "type": "bar",
         "x": [
          "Increased immunity<br>",
          "Original estimates<br>",
          "Decreased immunity<br>"
         ],
         "xaxis": "x",
         "y": [
          1.9773310157870585,
          2.2384054110999503,
          2.4139149279897834
         ],
         "yaxis": "y"
        },
        {
         "marker": {
          "color": "purple"
         },
         "name": "Strategy 5",
         "type": "bar",
         "x": [
          "Increased immunity<br>",
          "Original estimates<br>",
          "Decreased immunity<br>"
         ],
         "xaxis": "x",
         "y": [
          2.502114479943503,
          2.8702772221061688,
          3.134067944125353
         ],
         "yaxis": "y"
        },
        {
         "marker": {
          "color": "deepskyblue"
         },
         "name": "Strategy 6",
         "type": "bar",
         "x": [
          "Increased immunity<br>",
          "Original estimates<br>",
          "Decreased immunity<br>"
         ],
         "xaxis": "x",
         "y": [
          2.5021144799476502,
          2.8702772221093182,
          3.1340679441258716
         ],
         "yaxis": "y"
        },
        {
         "marker": {
          "color": "black"
         },
         "name": "No boosters",
         "type": "bar",
         "x": [
          "Increased immunity<br>",
          "Original estimates<br>",
          "Decreased immunity<br>"
         ],
         "xaxis": "x",
         "y": [
          2.5131721196650227,
          2.884572909991868,
          3.150174822851318
         ],
         "yaxis": "y"
        },
        {
         "marker": {
          "color": "blue"
         },
         "name": "Strategy 1",
         "showlegend": false,
         "type": "bar",
         "x": [
          "Increased immunity<br>",
          "Original estimates<br>",
          "Decreased immunity<br>"
         ],
         "xaxis": "x2",
         "y": [
          2.323286045409579,
          2.494356168500196,
          2.5579534817313103
         ],
         "yaxis": "y2"
        },
        {
         "marker": {
          "color": "orange"
         },
         "name": "Strategy 2",
         "showlegend": false,
         "type": "bar",
         "x": [
          "Increased immunity<br>",
          "Original estimates<br>",
          "Decreased immunity<br>"
         ],
         "xaxis": "x2",
         "y": [
          2.3232860454085538,
          2.494356168497718,
          2.5579534817316647
         ],
         "yaxis": "y2"
        },
        {
         "marker": {
          "color": "green"
         },
         "name": "Strategy 3",
         "showlegend": false,
         "type": "bar",
         "x": [
          "Increased immunity<br>",
          "Original estimates<br>",
          "Decreased immunity<br>"
         ],
         "xaxis": "x2",
         "y": [
          2.7964034422517727,
          3.0796247566058774,
          3.228597211925622
         ],
         "yaxis": "y2"
        },
        {
         "marker": {
          "color": "red"
         },
         "name": "Strategy 4",
         "showlegend": false,
         "type": "bar",
         "x": [
          "Increased immunity<br>",
          "Original estimates<br>",
          "Decreased immunity<br>"
         ],
         "xaxis": "x2",
         "y": [
          2.886754905544182,
          3.2044083229162843,
          3.3714570884839543
         ],
         "yaxis": "y2"
        },
        {
         "marker": {
          "color": "purple"
         },
         "name": "Strategy 5",
         "showlegend": false,
         "type": "bar",
         "x": [
          "Increased immunity<br>",
          "Original estimates<br>",
          "Decreased immunity<br>"
         ],
         "xaxis": "x2",
         "y": [
          3.288784935588396,
          3.688731081159467,
          3.924343745842766
         ],
         "yaxis": "y2"
        },
        {
         "marker": {
          "color": "deepskyblue"
         },
         "name": "Strategy 6",
         "showlegend": false,
         "type": "bar",
         "x": [
          "Increased immunity<br>",
          "Original estimates<br>",
          "Decreased immunity<br>"
         ],
         "xaxis": "x2",
         "y": [
          3.288784935593722,
          3.6887310811597844,
          3.924343745843087
         ],
         "yaxis": "y2"
        },
        {
         "marker": {
          "color": "black"
         },
         "name": "No boosters",
         "showlegend": false,
         "type": "bar",
         "x": [
          "Increased immunity<br>",
          "Original estimates<br>",
          "Decreased immunity<br>"
         ],
         "xaxis": "x2",
         "y": [
          3.298110388913146,
          3.700555401902693,
          3.937634560972935
         ],
         "yaxis": "y2"
        }
       ],
       "layout": {
        "annotations": [
         {
          "font": {
           "size": 16
          },
          "showarrow": false,
          "text": "No reduction",
          "x": 0.225,
          "xanchor": "center",
          "xref": "paper",
          "y": -0.05,
          "yanchor": "top",
          "yref": "paper"
         },
         {
          "font": {
           "size": 16
          },
          "showarrow": false,
          "text": "20% reduced",
          "x": 0.775,
          "xanchor": "center",
          "xref": "paper",
          "y": -0.05,
          "yanchor": "top",
          "yref": "paper"
         }
        ],
        "boxmode": "group",
        "height": 600,
        "hovermode": "x unified",
        "legend": {
         "orientation": "h",
         "x": 1.2,
         "xanchor": "right",
         "y": 0.98,
         "yanchor": "bottom"
        },
        "plot_bgcolor": "white",
        "template": {
         "data": {
          "bar": [
           {
            "error_x": {
             "color": "#2a3f5f"
            },
            "error_y": {
             "color": "#2a3f5f"
            },
            "marker": {
             "line": {
              "color": "#E5ECF6",
              "width": 0.5
             },
             "pattern": {
              "fillmode": "overlay",
              "size": 10,
              "solidity": 0.2
             }
            },
            "type": "bar"
           }
          ],
          "barpolar": [
           {
            "marker": {
             "line": {
              "color": "#E5ECF6",
              "width": 0.5
             },
             "pattern": {
              "fillmode": "overlay",
              "size": 10,
              "solidity": 0.2
             }
            },
            "type": "barpolar"
           }
          ],
          "carpet": [
           {
            "aaxis": {
             "endlinecolor": "#2a3f5f",
             "gridcolor": "white",
             "linecolor": "white",
             "minorgridcolor": "white",
             "startlinecolor": "#2a3f5f"
            },
            "baxis": {
             "endlinecolor": "#2a3f5f",
             "gridcolor": "white",
             "linecolor": "white",
             "minorgridcolor": "white",
             "startlinecolor": "#2a3f5f"
            },
            "type": "carpet"
           }
          ],
          "choropleth": [
           {
            "colorbar": {
             "outlinewidth": 0,
             "ticks": ""
            },
            "type": "choropleth"
           }
          ],
          "contour": [
           {
            "colorbar": {
             "outlinewidth": 0,
             "ticks": ""
            },
            "colorscale": [
             [
              0,
              "#0d0887"
             ],
             [
              0.1111111111111111,
              "#46039f"
             ],
             [
              0.2222222222222222,
              "#7201a8"
             ],
             [
              0.3333333333333333,
              "#9c179e"
             ],
             [
              0.4444444444444444,
              "#bd3786"
             ],
             [
              0.5555555555555556,
              "#d8576b"
             ],
             [
              0.6666666666666666,
              "#ed7953"
             ],
             [
              0.7777777777777778,
              "#fb9f3a"
             ],
             [
              0.8888888888888888,
              "#fdca26"
             ],
             [
              1,
              "#f0f921"
             ]
            ],
            "type": "contour"
           }
          ],
          "contourcarpet": [
           {
            "colorbar": {
             "outlinewidth": 0,
             "ticks": ""
            },
            "type": "contourcarpet"
           }
          ],
          "heatmap": [
           {
            "colorbar": {
             "outlinewidth": 0,
             "ticks": ""
            },
            "colorscale": [
             [
              0,
              "#0d0887"
             ],
             [
              0.1111111111111111,
              "#46039f"
             ],
             [
              0.2222222222222222,
              "#7201a8"
             ],
             [
              0.3333333333333333,
              "#9c179e"
             ],
             [
              0.4444444444444444,
              "#bd3786"
             ],
             [
              0.5555555555555556,
              "#d8576b"
             ],
             [
              0.6666666666666666,
              "#ed7953"
             ],
             [
              0.7777777777777778,
              "#fb9f3a"
             ],
             [
              0.8888888888888888,
              "#fdca26"
             ],
             [
              1,
              "#f0f921"
             ]
            ],
            "type": "heatmap"
           }
          ],
          "heatmapgl": [
           {
            "colorbar": {
             "outlinewidth": 0,
             "ticks": ""
            },
            "colorscale": [
             [
              0,
              "#0d0887"
             ],
             [
              0.1111111111111111,
              "#46039f"
             ],
             [
              0.2222222222222222,
              "#7201a8"
             ],
             [
              0.3333333333333333,
              "#9c179e"
             ],
             [
              0.4444444444444444,
              "#bd3786"
             ],
             [
              0.5555555555555556,
              "#d8576b"
             ],
             [
              0.6666666666666666,
              "#ed7953"
             ],
             [
              0.7777777777777778,
              "#fb9f3a"
             ],
             [
              0.8888888888888888,
              "#fdca26"
             ],
             [
              1,
              "#f0f921"
             ]
            ],
            "type": "heatmapgl"
           }
          ],
          "histogram": [
           {
            "marker": {
             "pattern": {
              "fillmode": "overlay",
              "size": 10,
              "solidity": 0.2
             }
            },
            "type": "histogram"
           }
          ],
          "histogram2d": [
           {
            "colorbar": {
             "outlinewidth": 0,
             "ticks": ""
            },
            "colorscale": [
             [
              0,
              "#0d0887"
             ],
             [
              0.1111111111111111,
              "#46039f"
             ],
             [
              0.2222222222222222,
              "#7201a8"
             ],
             [
              0.3333333333333333,
              "#9c179e"
             ],
             [
              0.4444444444444444,
              "#bd3786"
             ],
             [
              0.5555555555555556,
              "#d8576b"
             ],
             [
              0.6666666666666666,
              "#ed7953"
             ],
             [
              0.7777777777777778,
              "#fb9f3a"
             ],
             [
              0.8888888888888888,
              "#fdca26"
             ],
             [
              1,
              "#f0f921"
             ]
            ],
            "type": "histogram2d"
           }
          ],
          "histogram2dcontour": [
           {
            "colorbar": {
             "outlinewidth": 0,
             "ticks": ""
            },
            "colorscale": [
             [
              0,
              "#0d0887"
             ],
             [
              0.1111111111111111,
              "#46039f"
             ],
             [
              0.2222222222222222,
              "#7201a8"
             ],
             [
              0.3333333333333333,
              "#9c179e"
             ],
             [
              0.4444444444444444,
              "#bd3786"
             ],
             [
              0.5555555555555556,
              "#d8576b"
             ],
             [
              0.6666666666666666,
              "#ed7953"
             ],
             [
              0.7777777777777778,
              "#fb9f3a"
             ],
             [
              0.8888888888888888,
              "#fdca26"
             ],
             [
              1,
              "#f0f921"
             ]
            ],
            "type": "histogram2dcontour"
           }
          ],
          "mesh3d": [
           {
            "colorbar": {
             "outlinewidth": 0,
             "ticks": ""
            },
            "type": "mesh3d"
           }
          ],
          "parcoords": [
           {
            "line": {
             "colorbar": {
              "outlinewidth": 0,
              "ticks": ""
             }
            },
            "type": "parcoords"
           }
          ],
          "pie": [
           {
            "automargin": true,
            "type": "pie"
           }
          ],
          "scatter": [
           {
            "fillpattern": {
             "fillmode": "overlay",
             "size": 10,
             "solidity": 0.2
            },
            "type": "scatter"
           }
          ],
          "scatter3d": [
           {
            "line": {
             "colorbar": {
              "outlinewidth": 0,
              "ticks": ""
             }
            },
            "marker": {
             "colorbar": {
              "outlinewidth": 0,
              "ticks": ""
             }
            },
            "type": "scatter3d"
           }
          ],
          "scattercarpet": [
           {
            "marker": {
             "colorbar": {
              "outlinewidth": 0,
              "ticks": ""
             }
            },
            "type": "scattercarpet"
           }
          ],
          "scattergeo": [
           {
            "marker": {
             "colorbar": {
              "outlinewidth": 0,
              "ticks": ""
             }
            },
            "type": "scattergeo"
           }
          ],
          "scattergl": [
           {
            "marker": {
             "colorbar": {
              "outlinewidth": 0,
              "ticks": ""
             }
            },
            "type": "scattergl"
           }
          ],
          "scattermapbox": [
           {
            "marker": {
             "colorbar": {
              "outlinewidth": 0,
              "ticks": ""
             }
            },
            "type": "scattermapbox"
           }
          ],
          "scatterpolar": [
           {
            "marker": {
             "colorbar": {
              "outlinewidth": 0,
              "ticks": ""
             }
            },
            "type": "scatterpolar"
           }
          ],
          "scatterpolargl": [
           {
            "marker": {
             "colorbar": {
              "outlinewidth": 0,
              "ticks": ""
             }
            },
            "type": "scatterpolargl"
           }
          ],
          "scatterternary": [
           {
            "marker": {
             "colorbar": {
              "outlinewidth": 0,
              "ticks": ""
             }
            },
            "type": "scatterternary"
           }
          ],
          "surface": [
           {
            "colorbar": {
             "outlinewidth": 0,
             "ticks": ""
            },
            "colorscale": [
             [
              0,
              "#0d0887"
             ],
             [
              0.1111111111111111,
              "#46039f"
             ],
             [
              0.2222222222222222,
              "#7201a8"
             ],
             [
              0.3333333333333333,
              "#9c179e"
             ],
             [
              0.4444444444444444,
              "#bd3786"
             ],
             [
              0.5555555555555556,
              "#d8576b"
             ],
             [
              0.6666666666666666,
              "#ed7953"
             ],
             [
              0.7777777777777778,
              "#fb9f3a"
             ],
             [
              0.8888888888888888,
              "#fdca26"
             ],
             [
              1,
              "#f0f921"
             ]
            ],
            "type": "surface"
           }
          ],
          "table": [
           {
            "cells": {
             "fill": {
              "color": "#EBF0F8"
             },
             "line": {
              "color": "white"
             }
            },
            "header": {
             "fill": {
              "color": "#C8D4E3"
             },
             "line": {
              "color": "white"
             }
            },
            "type": "table"
           }
          ]
         },
         "layout": {
          "annotationdefaults": {
           "arrowcolor": "#2a3f5f",
           "arrowhead": 0,
           "arrowwidth": 1
          },
          "autotypenumbers": "strict",
          "coloraxis": {
           "colorbar": {
            "outlinewidth": 0,
            "ticks": ""
           }
          },
          "colorscale": {
           "diverging": [
            [
             0,
             "#8e0152"
            ],
            [
             0.1,
             "#c51b7d"
            ],
            [
             0.2,
             "#de77ae"
            ],
            [
             0.3,
             "#f1b6da"
            ],
            [
             0.4,
             "#fde0ef"
            ],
            [
             0.5,
             "#f7f7f7"
            ],
            [
             0.6,
             "#e6f5d0"
            ],
            [
             0.7,
             "#b8e186"
            ],
            [
             0.8,
             "#7fbc41"
            ],
            [
             0.9,
             "#4d9221"
            ],
            [
             1,
             "#276419"
            ]
           ],
           "sequential": [
            [
             0,
             "#0d0887"
            ],
            [
             0.1111111111111111,
             "#46039f"
            ],
            [
             0.2222222222222222,
             "#7201a8"
            ],
            [
             0.3333333333333333,
             "#9c179e"
            ],
            [
             0.4444444444444444,
             "#bd3786"
            ],
            [
             0.5555555555555556,
             "#d8576b"
            ],
            [
             0.6666666666666666,
             "#ed7953"
            ],
            [
             0.7777777777777778,
             "#fb9f3a"
            ],
            [
             0.8888888888888888,
             "#fdca26"
            ],
            [
             1,
             "#f0f921"
            ]
           ],
           "sequentialminus": [
            [
             0,
             "#0d0887"
            ],
            [
             0.1111111111111111,
             "#46039f"
            ],
            [
             0.2222222222222222,
             "#7201a8"
            ],
            [
             0.3333333333333333,
             "#9c179e"
            ],
            [
             0.4444444444444444,
             "#bd3786"
            ],
            [
             0.5555555555555556,
             "#d8576b"
            ],
            [
             0.6666666666666666,
             "#ed7953"
            ],
            [
             0.7777777777777778,
             "#fb9f3a"
            ],
            [
             0.8888888888888888,
             "#fdca26"
            ],
            [
             1,
             "#f0f921"
            ]
           ]
          },
          "colorway": [
           "#636efa",
           "#EF553B",
           "#00cc96",
           "#ab63fa",
           "#FFA15A",
           "#19d3f3",
           "#FF6692",
           "#B6E880",
           "#FF97FF",
           "#FECB52"
          ],
          "font": {
           "color": "#2a3f5f"
          },
          "geo": {
           "bgcolor": "white",
           "lakecolor": "white",
           "landcolor": "#E5ECF6",
           "showlakes": true,
           "showland": true,
           "subunitcolor": "white"
          },
          "hoverlabel": {
           "align": "left"
          },
          "hovermode": "closest",
          "mapbox": {
           "style": "light"
          },
          "paper_bgcolor": "white",
          "plot_bgcolor": "#E5ECF6",
          "polar": {
           "angularaxis": {
            "gridcolor": "white",
            "linecolor": "white",
            "ticks": ""
           },
           "bgcolor": "#E5ECF6",
           "radialaxis": {
            "gridcolor": "white",
            "linecolor": "white",
            "ticks": ""
           }
          },
          "scene": {
           "xaxis": {
            "backgroundcolor": "#E5ECF6",
            "gridcolor": "white",
            "gridwidth": 2,
            "linecolor": "white",
            "showbackground": true,
            "ticks": "",
            "zerolinecolor": "white"
           },
           "yaxis": {
            "backgroundcolor": "#E5ECF6",
            "gridcolor": "white",
            "gridwidth": 2,
            "linecolor": "white",
            "showbackground": true,
            "ticks": "",
            "zerolinecolor": "white"
           },
           "zaxis": {
            "backgroundcolor": "#E5ECF6",
            "gridcolor": "white",
            "gridwidth": 2,
            "linecolor": "white",
            "showbackground": true,
            "ticks": "",
            "zerolinecolor": "white"
           }
          },
          "shapedefaults": {
           "line": {
            "color": "#2a3f5f"
           }
          },
          "ternary": {
           "aaxis": {
            "gridcolor": "white",
            "linecolor": "white",
            "ticks": ""
           },
           "baxis": {
            "gridcolor": "white",
            "linecolor": "white",
            "ticks": ""
           },
           "bgcolor": "#E5ECF6",
           "caxis": {
            "gridcolor": "white",
            "linecolor": "white",
            "ticks": ""
           }
          },
          "title": {
           "x": 0.05
          },
          "xaxis": {
           "automargin": true,
           "gridcolor": "white",
           "linecolor": "white",
           "ticks": "",
           "title": {
            "standoff": 15
           },
           "zerolinecolor": "white",
           "zerolinewidth": 2
          },
          "yaxis": {
           "automargin": true,
           "gridcolor": "white",
           "linecolor": "white",
           "ticks": "",
           "title": {
            "standoff": 15
           },
           "zerolinecolor": "white",
           "zerolinewidth": 2
          }
         }
        },
        "title": {
         "text": "Mean deaths per 100,000 for different vaccine efficacies, immunity effects and scenarios<br>Syria"
        },
        "width": 1100,
        "xaxis": {
         "anchor": "y",
         "domain": [
          0,
          0.45
         ],
         "linecolor": "black"
        },
        "xaxis2": {
         "anchor": "y2",
         "domain": [
          0.55,
          1
         ],
         "linecolor": "black"
        },
        "yaxis": {
         "anchor": "x",
         "domain": [
          0,
          1
         ],
         "linecolor": "black"
        },
        "yaxis2": {
         "anchor": "x2",
         "domain": [
          0,
          1
         ],
         "matches": "y",
         "showticklabels": false,
         "visible": false
        }
       }
      }
     },
     "metadata": {},
     "output_type": "display_data"
    }
   ],
   "source": [
    "new_colours = ['blue', 'orange', 'green', 'red', 'purple', 'deepskyblue', 'black']\n",
    "\n",
    "trace_name = ['Strategy {}'.format(s+1) for s, scenario in enumerate(scenario_names[:-1])] + [scenario_names[-1]]\n",
    "\n",
    "for r, reg in enumerate(regions):\n",
    "    fig = go.Figure()\n",
    "    fig = make_subplots(\n",
    "        rows=1, cols=len(changes_vaccine), shared_yaxes=True,\n",
    "        subplot_titles=tuple('{:.0f}% reduced'.format(100 * change_vacc) if change_vacc!=0 else 'No reduction' for change_vacc in changes_vaccine))\n",
    "    # Plot for each region\n",
    "    for cv, change_vacc in enumerate(changes_vaccine):\n",
    "        if cv == 0:\n",
    "            for s, scenario in enumerate(scenario_names):\n",
    "                fig.add_trace(\n",
    "                    go.Bar(\n",
    "                        y=[np.sum(total_new_deaths_mean[r][cv, ss-1, s, :]) for ss in new_seroprevalance_scenarios_indeces],\n",
    "                        x=['{}<br>'.format(sero_scen) for sero_scen in new_seroprevalance_scenarios],\n",
    "                        name=trace_name[s],\n",
    "                        marker_color=new_colours[s]\n",
    "                    ),\n",
    "                    row=1,\n",
    "                    col=cv+1\n",
    "                )\n",
    "\n",
    "        else:\n",
    "            for s, scenario in enumerate(scenario_names):\n",
    "                fig.add_trace(\n",
    "                    go.Bar(\n",
    "                        y=[np.sum(total_new_deaths_mean[r][cv, ss-1, s, :]) for ss in new_seroprevalance_scenarios_indeces],\n",
    "                        x=['{}<br>'.format(sero_scen) for sero_scen in new_seroprevalance_scenarios],\n",
    "                        name=trace_name[s],\n",
    "                        marker_color=new_colours[s],\n",
    "                        showlegend=False,\n",
    "                    ),\n",
    "                    row=1,\n",
    "                    col=cv+1\n",
    "                )\n",
    "\n",
    "    # Add axis labels\n",
    "    fig.update_layout(\n",
    "        boxmode='group',\n",
    "        title='Mean deaths per 100,000 for different vaccine efficacies, immunity effects and scenarios<br>{}'.format(reg),\n",
    "        width=1100,\n",
    "        height=600,\n",
    "        plot_bgcolor='white',\n",
    "        xaxis=dict(linecolor='black'),\n",
    "        yaxis=dict(linecolor='black'),\n",
    "        xaxis2=dict(linecolor='black'),\n",
    "        yaxis2=dict(visible=False),\n",
    "        hovermode='x unified',\n",
    "        legend=dict(\n",
    "                orientation=\"h\",\n",
    "                yanchor=\"bottom\",\n",
    "                y=0.98,\n",
    "                xanchor=\"right\",\n",
    "                x=1.2\n",
    "            )\n",
    "        )\n",
    "    \n",
    "    for annotation in fig['layout']['annotations']: \n",
    "        annotation['yanchor']='top'\n",
    "        annotation['y']=-0.05\n",
    "        annotation['yref']='paper'\n",
    "\n",
    "    fig.write_image('images/report4_variant_adapted_vaccine/Deaths per Scenario and Vaccine Type {}.pdf'.format(reg))\n",
    "    fig.show()"
   ]
  },
  {
   "attachments": {},
   "cell_type": "markdown",
   "metadata": {},
   "source": [
    "### Total New Infections"
   ]
  },
  {
   "cell_type": "code",
   "execution_count": 30,
   "metadata": {},
   "outputs": [
    {
     "data": {
      "application/vnd.plotly.v1+json": {
       "config": {
        "plotlyServerURL": "https://plot.ly"
       },
       "data": [
        {
         "marker": {
          "color": "blue"
         },
         "name": "Strategy 1",
         "type": "bar",
         "x": [
          "Increased immunity<br>",
          "Original estimates<br>",
          "Decreased immunity<br>"
         ],
         "xaxis": "x",
         "y": [
          23056.576448941756,
          25357.77892410237,
          26689.12025026552
         ],
         "yaxis": "y"
        },
        {
         "marker": {
          "color": "orange"
         },
         "name": "Strategy 2",
         "type": "bar",
         "x": [
          "Increased immunity<br>",
          "Original estimates<br>",
          "Decreased immunity<br>"
         ],
         "xaxis": "x",
         "y": [
          23148.745150496477,
          25481.363946292935,
          26857.069827895328
         ],
         "yaxis": "y"
        },
        {
         "marker": {
          "color": "green"
         },
         "name": "Strategy 3",
         "type": "bar",
         "x": [
          "Increased immunity<br>",
          "Original estimates<br>",
          "Decreased immunity<br>"
         ],
         "xaxis": "x",
         "y": [
          23148.745150496477,
          25481.363946271736,
          26857.06982790739
         ],
         "yaxis": "y"
        },
        {
         "marker": {
          "color": "red"
         },
         "name": "Strategy 4",
         "type": "bar",
         "x": [
          "Increased immunity<br>",
          "Original estimates<br>",
          "Decreased immunity<br>"
         ],
         "xaxis": "x",
         "y": [
          23257.528372858604,
          25620.855429733783,
          27050.48426062073
         ],
         "yaxis": "y"
        },
        {
         "marker": {
          "color": "purple"
         },
         "name": "Strategy 5",
         "type": "bar",
         "x": [
          "Increased immunity<br>",
          "Original estimates<br>",
          "Decreased immunity<br>"
         ],
         "xaxis": "x",
         "y": [
          23314.90807693136,
          25694.718297211053,
          27153.071627056514
         ],
         "yaxis": "y"
        },
        {
         "marker": {
          "color": "deepskyblue"
         },
         "name": "Strategy 6",
         "type": "bar",
         "x": [
          "Increased immunity<br>",
          "Original estimates<br>",
          "Decreased immunity<br>"
         ],
         "xaxis": "x",
         "y": [
          23314.908076911306,
          25694.71829693229,
          27153.071627049452
         ],
         "yaxis": "y"
        },
        {
         "marker": {
          "color": "black"
         },
         "name": "No boosters",
         "type": "bar",
         "x": [
          "Increased immunity<br>",
          "Original estimates<br>",
          "Decreased immunity<br>"
         ],
         "xaxis": "x",
         "y": [
          23374.03143212391,
          25767.77519079447,
          27248.950069464365
         ],
         "yaxis": "y"
        },
        {
         "marker": {
          "color": "blue"
         },
         "name": "Strategy 1",
         "showlegend": false,
         "type": "bar",
         "x": [
          "Increased immunity<br>",
          "Original estimates<br>",
          "Decreased immunity<br>"
         ],
         "xaxis": "x2",
         "y": [
          23579.23491773574,
          25915.041008897122,
          27243.257686342266
         ],
         "yaxis": "y2"
        },
        {
         "marker": {
          "color": "orange"
         },
         "name": "Strategy 2",
         "showlegend": false,
         "type": "bar",
         "x": [
          "Increased immunity<br>",
          "Original estimates<br>",
          "Decreased immunity<br>"
         ],
         "xaxis": "x2",
         "y": [
          23655.232959944937,
          26016.193306205518,
          27383.89693473294
         ],
         "yaxis": "y2"
        },
        {
         "marker": {
          "color": "green"
         },
         "name": "Strategy 3",
         "showlegend": false,
         "type": "bar",
         "x": [
          "Increased immunity<br>",
          "Original estimates<br>",
          "Decreased immunity<br>"
         ],
         "xaxis": "x2",
         "y": [
          23655.232959944937,
          26016.193306231828,
          27383.89693479661
         ],
         "yaxis": "y2"
        },
        {
         "marker": {
          "color": "red"
         },
         "name": "Strategy 4",
         "showlegend": false,
         "type": "bar",
         "x": [
          "Increased immunity<br>",
          "Original estimates<br>",
          "Decreased immunity<br>"
         ],
         "xaxis": "x2",
         "y": [
          23748.175655154926,
          26137.518480276347,
          27557.311550673323
         ],
         "yaxis": "y2"
        },
        {
         "marker": {
          "color": "purple"
         },
         "name": "Strategy 5",
         "showlegend": false,
         "type": "bar",
         "x": [
          "Increased immunity<br>",
          "Original estimates<br>",
          "Decreased immunity<br>"
         ],
         "xaxis": "x2",
         "y": [
          23797.051240587673,
          26201.135545616366,
          27648.081958717466
         ],
         "yaxis": "y2"
        },
        {
         "marker": {
          "color": "deepskyblue"
         },
         "name": "Strategy 6",
         "showlegend": false,
         "type": "bar",
         "x": [
          "Increased immunity<br>",
          "Original estimates<br>",
          "Decreased immunity<br>"
         ],
         "xaxis": "x2",
         "y": [
          23797.051240621415,
          26201.135545526544,
          27648.081958584786
         ],
         "yaxis": "y2"
        },
        {
         "marker": {
          "color": "black"
         },
         "name": "No boosters",
         "showlegend": false,
         "type": "bar",
         "x": [
          "Increased immunity<br>",
          "Original estimates<br>",
          "Decreased immunity<br>"
         ],
         "xaxis": "x2",
         "y": [
          23847.777665779162,
          26264.720039203094,
          27734.253049750456
         ],
         "yaxis": "y2"
        }
       ],
       "layout": {
        "annotations": [
         {
          "font": {
           "size": 16
          },
          "showarrow": false,
          "text": "No reduction",
          "x": 0.225,
          "xanchor": "center",
          "xref": "paper",
          "y": -0.05,
          "yanchor": "top",
          "yref": "paper"
         },
         {
          "font": {
           "size": 16
          },
          "showarrow": false,
          "text": "20% reduced",
          "x": 0.775,
          "xanchor": "center",
          "xref": "paper",
          "y": -0.05,
          "yanchor": "top",
          "yref": "paper"
         }
        ],
        "boxmode": "group",
        "height": 600,
        "hovermode": "x unified",
        "legend": {
         "orientation": "h",
         "x": 1.2,
         "xanchor": "right",
         "y": 0.98,
         "yanchor": "bottom"
        },
        "plot_bgcolor": "white",
        "template": {
         "data": {
          "bar": [
           {
            "error_x": {
             "color": "#2a3f5f"
            },
            "error_y": {
             "color": "#2a3f5f"
            },
            "marker": {
             "line": {
              "color": "#E5ECF6",
              "width": 0.5
             },
             "pattern": {
              "fillmode": "overlay",
              "size": 10,
              "solidity": 0.2
             }
            },
            "type": "bar"
           }
          ],
          "barpolar": [
           {
            "marker": {
             "line": {
              "color": "#E5ECF6",
              "width": 0.5
             },
             "pattern": {
              "fillmode": "overlay",
              "size": 10,
              "solidity": 0.2
             }
            },
            "type": "barpolar"
           }
          ],
          "carpet": [
           {
            "aaxis": {
             "endlinecolor": "#2a3f5f",
             "gridcolor": "white",
             "linecolor": "white",
             "minorgridcolor": "white",
             "startlinecolor": "#2a3f5f"
            },
            "baxis": {
             "endlinecolor": "#2a3f5f",
             "gridcolor": "white",
             "linecolor": "white",
             "minorgridcolor": "white",
             "startlinecolor": "#2a3f5f"
            },
            "type": "carpet"
           }
          ],
          "choropleth": [
           {
            "colorbar": {
             "outlinewidth": 0,
             "ticks": ""
            },
            "type": "choropleth"
           }
          ],
          "contour": [
           {
            "colorbar": {
             "outlinewidth": 0,
             "ticks": ""
            },
            "colorscale": [
             [
              0,
              "#0d0887"
             ],
             [
              0.1111111111111111,
              "#46039f"
             ],
             [
              0.2222222222222222,
              "#7201a8"
             ],
             [
              0.3333333333333333,
              "#9c179e"
             ],
             [
              0.4444444444444444,
              "#bd3786"
             ],
             [
              0.5555555555555556,
              "#d8576b"
             ],
             [
              0.6666666666666666,
              "#ed7953"
             ],
             [
              0.7777777777777778,
              "#fb9f3a"
             ],
             [
              0.8888888888888888,
              "#fdca26"
             ],
             [
              1,
              "#f0f921"
             ]
            ],
            "type": "contour"
           }
          ],
          "contourcarpet": [
           {
            "colorbar": {
             "outlinewidth": 0,
             "ticks": ""
            },
            "type": "contourcarpet"
           }
          ],
          "heatmap": [
           {
            "colorbar": {
             "outlinewidth": 0,
             "ticks": ""
            },
            "colorscale": [
             [
              0,
              "#0d0887"
             ],
             [
              0.1111111111111111,
              "#46039f"
             ],
             [
              0.2222222222222222,
              "#7201a8"
             ],
             [
              0.3333333333333333,
              "#9c179e"
             ],
             [
              0.4444444444444444,
              "#bd3786"
             ],
             [
              0.5555555555555556,
              "#d8576b"
             ],
             [
              0.6666666666666666,
              "#ed7953"
             ],
             [
              0.7777777777777778,
              "#fb9f3a"
             ],
             [
              0.8888888888888888,
              "#fdca26"
             ],
             [
              1,
              "#f0f921"
             ]
            ],
            "type": "heatmap"
           }
          ],
          "heatmapgl": [
           {
            "colorbar": {
             "outlinewidth": 0,
             "ticks": ""
            },
            "colorscale": [
             [
              0,
              "#0d0887"
             ],
             [
              0.1111111111111111,
              "#46039f"
             ],
             [
              0.2222222222222222,
              "#7201a8"
             ],
             [
              0.3333333333333333,
              "#9c179e"
             ],
             [
              0.4444444444444444,
              "#bd3786"
             ],
             [
              0.5555555555555556,
              "#d8576b"
             ],
             [
              0.6666666666666666,
              "#ed7953"
             ],
             [
              0.7777777777777778,
              "#fb9f3a"
             ],
             [
              0.8888888888888888,
              "#fdca26"
             ],
             [
              1,
              "#f0f921"
             ]
            ],
            "type": "heatmapgl"
           }
          ],
          "histogram": [
           {
            "marker": {
             "pattern": {
              "fillmode": "overlay",
              "size": 10,
              "solidity": 0.2
             }
            },
            "type": "histogram"
           }
          ],
          "histogram2d": [
           {
            "colorbar": {
             "outlinewidth": 0,
             "ticks": ""
            },
            "colorscale": [
             [
              0,
              "#0d0887"
             ],
             [
              0.1111111111111111,
              "#46039f"
             ],
             [
              0.2222222222222222,
              "#7201a8"
             ],
             [
              0.3333333333333333,
              "#9c179e"
             ],
             [
              0.4444444444444444,
              "#bd3786"
             ],
             [
              0.5555555555555556,
              "#d8576b"
             ],
             [
              0.6666666666666666,
              "#ed7953"
             ],
             [
              0.7777777777777778,
              "#fb9f3a"
             ],
             [
              0.8888888888888888,
              "#fdca26"
             ],
             [
              1,
              "#f0f921"
             ]
            ],
            "type": "histogram2d"
           }
          ],
          "histogram2dcontour": [
           {
            "colorbar": {
             "outlinewidth": 0,
             "ticks": ""
            },
            "colorscale": [
             [
              0,
              "#0d0887"
             ],
             [
              0.1111111111111111,
              "#46039f"
             ],
             [
              0.2222222222222222,
              "#7201a8"
             ],
             [
              0.3333333333333333,
              "#9c179e"
             ],
             [
              0.4444444444444444,
              "#bd3786"
             ],
             [
              0.5555555555555556,
              "#d8576b"
             ],
             [
              0.6666666666666666,
              "#ed7953"
             ],
             [
              0.7777777777777778,
              "#fb9f3a"
             ],
             [
              0.8888888888888888,
              "#fdca26"
             ],
             [
              1,
              "#f0f921"
             ]
            ],
            "type": "histogram2dcontour"
           }
          ],
          "mesh3d": [
           {
            "colorbar": {
             "outlinewidth": 0,
             "ticks": ""
            },
            "type": "mesh3d"
           }
          ],
          "parcoords": [
           {
            "line": {
             "colorbar": {
              "outlinewidth": 0,
              "ticks": ""
             }
            },
            "type": "parcoords"
           }
          ],
          "pie": [
           {
            "automargin": true,
            "type": "pie"
           }
          ],
          "scatter": [
           {
            "fillpattern": {
             "fillmode": "overlay",
             "size": 10,
             "solidity": 0.2
            },
            "type": "scatter"
           }
          ],
          "scatter3d": [
           {
            "line": {
             "colorbar": {
              "outlinewidth": 0,
              "ticks": ""
             }
            },
            "marker": {
             "colorbar": {
              "outlinewidth": 0,
              "ticks": ""
             }
            },
            "type": "scatter3d"
           }
          ],
          "scattercarpet": [
           {
            "marker": {
             "colorbar": {
              "outlinewidth": 0,
              "ticks": ""
             }
            },
            "type": "scattercarpet"
           }
          ],
          "scattergeo": [
           {
            "marker": {
             "colorbar": {
              "outlinewidth": 0,
              "ticks": ""
             }
            },
            "type": "scattergeo"
           }
          ],
          "scattergl": [
           {
            "marker": {
             "colorbar": {
              "outlinewidth": 0,
              "ticks": ""
             }
            },
            "type": "scattergl"
           }
          ],
          "scattermapbox": [
           {
            "marker": {
             "colorbar": {
              "outlinewidth": 0,
              "ticks": ""
             }
            },
            "type": "scattermapbox"
           }
          ],
          "scatterpolar": [
           {
            "marker": {
             "colorbar": {
              "outlinewidth": 0,
              "ticks": ""
             }
            },
            "type": "scatterpolar"
           }
          ],
          "scatterpolargl": [
           {
            "marker": {
             "colorbar": {
              "outlinewidth": 0,
              "ticks": ""
             }
            },
            "type": "scatterpolargl"
           }
          ],
          "scatterternary": [
           {
            "marker": {
             "colorbar": {
              "outlinewidth": 0,
              "ticks": ""
             }
            },
            "type": "scatterternary"
           }
          ],
          "surface": [
           {
            "colorbar": {
             "outlinewidth": 0,
             "ticks": ""
            },
            "colorscale": [
             [
              0,
              "#0d0887"
             ],
             [
              0.1111111111111111,
              "#46039f"
             ],
             [
              0.2222222222222222,
              "#7201a8"
             ],
             [
              0.3333333333333333,
              "#9c179e"
             ],
             [
              0.4444444444444444,
              "#bd3786"
             ],
             [
              0.5555555555555556,
              "#d8576b"
             ],
             [
              0.6666666666666666,
              "#ed7953"
             ],
             [
              0.7777777777777778,
              "#fb9f3a"
             ],
             [
              0.8888888888888888,
              "#fdca26"
             ],
             [
              1,
              "#f0f921"
             ]
            ],
            "type": "surface"
           }
          ],
          "table": [
           {
            "cells": {
             "fill": {
              "color": "#EBF0F8"
             },
             "line": {
              "color": "white"
             }
            },
            "header": {
             "fill": {
              "color": "#C8D4E3"
             },
             "line": {
              "color": "white"
             }
            },
            "type": "table"
           }
          ]
         },
         "layout": {
          "annotationdefaults": {
           "arrowcolor": "#2a3f5f",
           "arrowhead": 0,
           "arrowwidth": 1
          },
          "autotypenumbers": "strict",
          "coloraxis": {
           "colorbar": {
            "outlinewidth": 0,
            "ticks": ""
           }
          },
          "colorscale": {
           "diverging": [
            [
             0,
             "#8e0152"
            ],
            [
             0.1,
             "#c51b7d"
            ],
            [
             0.2,
             "#de77ae"
            ],
            [
             0.3,
             "#f1b6da"
            ],
            [
             0.4,
             "#fde0ef"
            ],
            [
             0.5,
             "#f7f7f7"
            ],
            [
             0.6,
             "#e6f5d0"
            ],
            [
             0.7,
             "#b8e186"
            ],
            [
             0.8,
             "#7fbc41"
            ],
            [
             0.9,
             "#4d9221"
            ],
            [
             1,
             "#276419"
            ]
           ],
           "sequential": [
            [
             0,
             "#0d0887"
            ],
            [
             0.1111111111111111,
             "#46039f"
            ],
            [
             0.2222222222222222,
             "#7201a8"
            ],
            [
             0.3333333333333333,
             "#9c179e"
            ],
            [
             0.4444444444444444,
             "#bd3786"
            ],
            [
             0.5555555555555556,
             "#d8576b"
            ],
            [
             0.6666666666666666,
             "#ed7953"
            ],
            [
             0.7777777777777778,
             "#fb9f3a"
            ],
            [
             0.8888888888888888,
             "#fdca26"
            ],
            [
             1,
             "#f0f921"
            ]
           ],
           "sequentialminus": [
            [
             0,
             "#0d0887"
            ],
            [
             0.1111111111111111,
             "#46039f"
            ],
            [
             0.2222222222222222,
             "#7201a8"
            ],
            [
             0.3333333333333333,
             "#9c179e"
            ],
            [
             0.4444444444444444,
             "#bd3786"
            ],
            [
             0.5555555555555556,
             "#d8576b"
            ],
            [
             0.6666666666666666,
             "#ed7953"
            ],
            [
             0.7777777777777778,
             "#fb9f3a"
            ],
            [
             0.8888888888888888,
             "#fdca26"
            ],
            [
             1,
             "#f0f921"
            ]
           ]
          },
          "colorway": [
           "#636efa",
           "#EF553B",
           "#00cc96",
           "#ab63fa",
           "#FFA15A",
           "#19d3f3",
           "#FF6692",
           "#B6E880",
           "#FF97FF",
           "#FECB52"
          ],
          "font": {
           "color": "#2a3f5f"
          },
          "geo": {
           "bgcolor": "white",
           "lakecolor": "white",
           "landcolor": "#E5ECF6",
           "showlakes": true,
           "showland": true,
           "subunitcolor": "white"
          },
          "hoverlabel": {
           "align": "left"
          },
          "hovermode": "closest",
          "mapbox": {
           "style": "light"
          },
          "paper_bgcolor": "white",
          "plot_bgcolor": "#E5ECF6",
          "polar": {
           "angularaxis": {
            "gridcolor": "white",
            "linecolor": "white",
            "ticks": ""
           },
           "bgcolor": "#E5ECF6",
           "radialaxis": {
            "gridcolor": "white",
            "linecolor": "white",
            "ticks": ""
           }
          },
          "scene": {
           "xaxis": {
            "backgroundcolor": "#E5ECF6",
            "gridcolor": "white",
            "gridwidth": 2,
            "linecolor": "white",
            "showbackground": true,
            "ticks": "",
            "zerolinecolor": "white"
           },
           "yaxis": {
            "backgroundcolor": "#E5ECF6",
            "gridcolor": "white",
            "gridwidth": 2,
            "linecolor": "white",
            "showbackground": true,
            "ticks": "",
            "zerolinecolor": "white"
           },
           "zaxis": {
            "backgroundcolor": "#E5ECF6",
            "gridcolor": "white",
            "gridwidth": 2,
            "linecolor": "white",
            "showbackground": true,
            "ticks": "",
            "zerolinecolor": "white"
           }
          },
          "shapedefaults": {
           "line": {
            "color": "#2a3f5f"
           }
          },
          "ternary": {
           "aaxis": {
            "gridcolor": "white",
            "linecolor": "white",
            "ticks": ""
           },
           "baxis": {
            "gridcolor": "white",
            "linecolor": "white",
            "ticks": ""
           },
           "bgcolor": "#E5ECF6",
           "caxis": {
            "gridcolor": "white",
            "linecolor": "white",
            "ticks": ""
           }
          },
          "title": {
           "x": 0.05
          },
          "xaxis": {
           "automargin": true,
           "gridcolor": "white",
           "linecolor": "white",
           "ticks": "",
           "title": {
            "standoff": 15
           },
           "zerolinecolor": "white",
           "zerolinewidth": 2
          },
          "yaxis": {
           "automargin": true,
           "gridcolor": "white",
           "linecolor": "white",
           "ticks": "",
           "title": {
            "standoff": 15
           },
           "zerolinecolor": "white",
           "zerolinewidth": 2
          }
         }
        },
        "title": {
         "text": "Mean new symptomatic infections per 100,000 for different vaccine efficacies, immunity effects and scenarios<br>United Kingdom"
        },
        "width": 1100,
        "xaxis": {
         "anchor": "y",
         "domain": [
          0,
          0.45
         ],
         "linecolor": "black"
        },
        "xaxis2": {
         "anchor": "y2",
         "domain": [
          0.55,
          1
         ],
         "linecolor": "black"
        },
        "yaxis": {
         "anchor": "x",
         "domain": [
          0,
          1
         ],
         "linecolor": "black"
        },
        "yaxis2": {
         "anchor": "x2",
         "domain": [
          0,
          1
         ],
         "matches": "y",
         "showticklabels": false,
         "visible": false
        }
       }
      }
     },
     "metadata": {},
     "output_type": "display_data"
    },
    {
     "data": {
      "application/vnd.plotly.v1+json": {
       "config": {
        "plotlyServerURL": "https://plot.ly"
       },
       "data": [
        {
         "marker": {
          "color": "blue"
         },
         "name": "Strategy 1",
         "type": "bar",
         "x": [
          "Increased immunity<br>",
          "Original estimates<br>",
          "Decreased immunity<br>"
         ],
         "xaxis": "x",
         "y": [
          26403.722553672196,
          28217.996135909452,
          29434.19979966154
         ],
         "yaxis": "y"
        },
        {
         "marker": {
          "color": "orange"
         },
         "name": "Strategy 2",
         "type": "bar",
         "x": [
          "Increased immunity<br>",
          "Original estimates<br>",
          "Decreased immunity<br>"
         ],
         "xaxis": "x",
         "y": [
          26481.612498061528,
          28321.24366330074,
          29578.7446397424
         ],
         "yaxis": "y"
        },
        {
         "marker": {
          "color": "green"
         },
         "name": "Strategy 3",
         "type": "bar",
         "x": [
          "Increased immunity<br>",
          "Original estimates<br>",
          "Decreased immunity<br>"
         ],
         "xaxis": "x",
         "y": [
          26481.612498067567,
          28321.24366331307,
          29578.744639804725
         ],
         "yaxis": "y"
        },
        {
         "marker": {
          "color": "red"
         },
         "name": "Strategy 4",
         "type": "bar",
         "x": [
          "Increased immunity<br>",
          "Original estimates<br>",
          "Decreased immunity<br>"
         ],
         "xaxis": "x",
         "y": [
          26570.733664281317,
          28436.2817671703,
          29742.975558382877
         ],
         "yaxis": "y"
        },
        {
         "marker": {
          "color": "purple"
         },
         "name": "Strategy 5",
         "type": "bar",
         "x": [
          "Increased immunity<br>",
          "Original estimates<br>",
          "Decreased immunity<br>"
         ],
         "xaxis": "x",
         "y": [
          26619.730967509633,
          28498.65757668524,
          29832.26744036306
         ],
         "yaxis": "y"
        },
        {
         "marker": {
          "color": "deepskyblue"
         },
         "name": "Strategy 6",
         "type": "bar",
         "x": [
          "Increased immunity<br>",
          "Original estimates<br>",
          "Decreased immunity<br>"
         ],
         "xaxis": "x",
         "y": [
          26619.73096751011,
          28498.657576689406,
          29832.267440356634
         ],
         "yaxis": "y"
        },
        {
         "marker": {
          "color": "black"
         },
         "name": "No boosters",
         "type": "bar",
         "x": [
          "Increased immunity<br>",
          "Original estimates<br>",
          "Decreased immunity<br>"
         ],
         "xaxis": "x",
         "y": [
          26673.916137741668,
          28562.542130869253,
          29916.392280228916
         ],
         "yaxis": "y"
        },
        {
         "marker": {
          "color": "blue"
         },
         "name": "Strategy 1",
         "showlegend": false,
         "type": "bar",
         "x": [
          "Increased immunity<br>",
          "Original estimates<br>",
          "Decreased immunity<br>"
         ],
         "xaxis": "x2",
         "y": [
          26794.602662784117,
          28593.045837879516,
          29788.25603954053
         ],
         "yaxis": "y2"
        },
        {
         "marker": {
          "color": "orange"
         },
         "name": "Strategy 2",
         "showlegend": false,
         "type": "bar",
         "x": [
          "Increased immunity<br>",
          "Original estimates<br>",
          "Decreased immunity<br>"
         ],
         "xaxis": "x2",
         "y": [
          26862.011505937546,
          28682.482335158245,
          29916.385304481075
         ],
         "yaxis": "y2"
        },
        {
         "marker": {
          "color": "green"
         },
         "name": "Strategy 3",
         "showlegend": false,
         "type": "bar",
         "x": [
          "Increased immunity<br>",
          "Original estimates<br>",
          "Decreased immunity<br>"
         ],
         "xaxis": "x2",
         "y": [
          26862.011505999588,
          28682.482335146626,
          29916.385304450363
         ],
         "yaxis": "y2"
        },
        {
         "marker": {
          "color": "red"
         },
         "name": "Strategy 4",
         "showlegend": false,
         "type": "bar",
         "x": [
          "Increased immunity<br>",
          "Original estimates<br>",
          "Decreased immunity<br>"
         ],
         "xaxis": "x2",
         "y": [
          26943.303347395362,
          28788.43735389577,
          30070.201443471953
         ],
         "yaxis": "y2"
        },
        {
         "marker": {
          "color": "purple"
         },
         "name": "Strategy 5",
         "showlegend": false,
         "type": "bar",
         "x": [
          "Increased immunity<br>",
          "Original estimates<br>",
          "Decreased immunity<br>"
         ],
         "xaxis": "x2",
         "y": [
          26987.803361584156,
          28845.957109614123,
          30154.056613763187
         ],
         "yaxis": "y2"
        },
        {
         "marker": {
          "color": "deepskyblue"
         },
         "name": "Strategy 6",
         "showlegend": false,
         "type": "bar",
         "x": [
          "Increased immunity<br>",
          "Original estimates<br>",
          "Decreased immunity<br>"
         ],
         "xaxis": "x2",
         "y": [
          26987.803361581988,
          28845.957109623705,
          30154.056613744287
         ],
         "yaxis": "y2"
        },
        {
         "marker": {
          "color": "black"
         },
         "name": "No boosters",
         "showlegend": false,
         "type": "bar",
         "x": [
          "Increased immunity<br>",
          "Original estimates<br>",
          "Decreased immunity<br>"
         ],
         "xaxis": "x2",
         "y": [
          27031.34728282736,
          28899.01095761315,
          30227.180402226055
         ],
         "yaxis": "y2"
        }
       ],
       "layout": {
        "annotations": [
         {
          "font": {
           "size": 16
          },
          "showarrow": false,
          "text": "No reduction",
          "x": 0.225,
          "xanchor": "center",
          "xref": "paper",
          "y": -0.05,
          "yanchor": "top",
          "yref": "paper"
         },
         {
          "font": {
           "size": 16
          },
          "showarrow": false,
          "text": "20% reduced",
          "x": 0.775,
          "xanchor": "center",
          "xref": "paper",
          "y": -0.05,
          "yanchor": "top",
          "yref": "paper"
         }
        ],
        "boxmode": "group",
        "height": 600,
        "hovermode": "x unified",
        "legend": {
         "orientation": "h",
         "x": 1.2,
         "xanchor": "right",
         "y": 0.98,
         "yanchor": "bottom"
        },
        "plot_bgcolor": "white",
        "template": {
         "data": {
          "bar": [
           {
            "error_x": {
             "color": "#2a3f5f"
            },
            "error_y": {
             "color": "#2a3f5f"
            },
            "marker": {
             "line": {
              "color": "#E5ECF6",
              "width": 0.5
             },
             "pattern": {
              "fillmode": "overlay",
              "size": 10,
              "solidity": 0.2
             }
            },
            "type": "bar"
           }
          ],
          "barpolar": [
           {
            "marker": {
             "line": {
              "color": "#E5ECF6",
              "width": 0.5
             },
             "pattern": {
              "fillmode": "overlay",
              "size": 10,
              "solidity": 0.2
             }
            },
            "type": "barpolar"
           }
          ],
          "carpet": [
           {
            "aaxis": {
             "endlinecolor": "#2a3f5f",
             "gridcolor": "white",
             "linecolor": "white",
             "minorgridcolor": "white",
             "startlinecolor": "#2a3f5f"
            },
            "baxis": {
             "endlinecolor": "#2a3f5f",
             "gridcolor": "white",
             "linecolor": "white",
             "minorgridcolor": "white",
             "startlinecolor": "#2a3f5f"
            },
            "type": "carpet"
           }
          ],
          "choropleth": [
           {
            "colorbar": {
             "outlinewidth": 0,
             "ticks": ""
            },
            "type": "choropleth"
           }
          ],
          "contour": [
           {
            "colorbar": {
             "outlinewidth": 0,
             "ticks": ""
            },
            "colorscale": [
             [
              0,
              "#0d0887"
             ],
             [
              0.1111111111111111,
              "#46039f"
             ],
             [
              0.2222222222222222,
              "#7201a8"
             ],
             [
              0.3333333333333333,
              "#9c179e"
             ],
             [
              0.4444444444444444,
              "#bd3786"
             ],
             [
              0.5555555555555556,
              "#d8576b"
             ],
             [
              0.6666666666666666,
              "#ed7953"
             ],
             [
              0.7777777777777778,
              "#fb9f3a"
             ],
             [
              0.8888888888888888,
              "#fdca26"
             ],
             [
              1,
              "#f0f921"
             ]
            ],
            "type": "contour"
           }
          ],
          "contourcarpet": [
           {
            "colorbar": {
             "outlinewidth": 0,
             "ticks": ""
            },
            "type": "contourcarpet"
           }
          ],
          "heatmap": [
           {
            "colorbar": {
             "outlinewidth": 0,
             "ticks": ""
            },
            "colorscale": [
             [
              0,
              "#0d0887"
             ],
             [
              0.1111111111111111,
              "#46039f"
             ],
             [
              0.2222222222222222,
              "#7201a8"
             ],
             [
              0.3333333333333333,
              "#9c179e"
             ],
             [
              0.4444444444444444,
              "#bd3786"
             ],
             [
              0.5555555555555556,
              "#d8576b"
             ],
             [
              0.6666666666666666,
              "#ed7953"
             ],
             [
              0.7777777777777778,
              "#fb9f3a"
             ],
             [
              0.8888888888888888,
              "#fdca26"
             ],
             [
              1,
              "#f0f921"
             ]
            ],
            "type": "heatmap"
           }
          ],
          "heatmapgl": [
           {
            "colorbar": {
             "outlinewidth": 0,
             "ticks": ""
            },
            "colorscale": [
             [
              0,
              "#0d0887"
             ],
             [
              0.1111111111111111,
              "#46039f"
             ],
             [
              0.2222222222222222,
              "#7201a8"
             ],
             [
              0.3333333333333333,
              "#9c179e"
             ],
             [
              0.4444444444444444,
              "#bd3786"
             ],
             [
              0.5555555555555556,
              "#d8576b"
             ],
             [
              0.6666666666666666,
              "#ed7953"
             ],
             [
              0.7777777777777778,
              "#fb9f3a"
             ],
             [
              0.8888888888888888,
              "#fdca26"
             ],
             [
              1,
              "#f0f921"
             ]
            ],
            "type": "heatmapgl"
           }
          ],
          "histogram": [
           {
            "marker": {
             "pattern": {
              "fillmode": "overlay",
              "size": 10,
              "solidity": 0.2
             }
            },
            "type": "histogram"
           }
          ],
          "histogram2d": [
           {
            "colorbar": {
             "outlinewidth": 0,
             "ticks": ""
            },
            "colorscale": [
             [
              0,
              "#0d0887"
             ],
             [
              0.1111111111111111,
              "#46039f"
             ],
             [
              0.2222222222222222,
              "#7201a8"
             ],
             [
              0.3333333333333333,
              "#9c179e"
             ],
             [
              0.4444444444444444,
              "#bd3786"
             ],
             [
              0.5555555555555556,
              "#d8576b"
             ],
             [
              0.6666666666666666,
              "#ed7953"
             ],
             [
              0.7777777777777778,
              "#fb9f3a"
             ],
             [
              0.8888888888888888,
              "#fdca26"
             ],
             [
              1,
              "#f0f921"
             ]
            ],
            "type": "histogram2d"
           }
          ],
          "histogram2dcontour": [
           {
            "colorbar": {
             "outlinewidth": 0,
             "ticks": ""
            },
            "colorscale": [
             [
              0,
              "#0d0887"
             ],
             [
              0.1111111111111111,
              "#46039f"
             ],
             [
              0.2222222222222222,
              "#7201a8"
             ],
             [
              0.3333333333333333,
              "#9c179e"
             ],
             [
              0.4444444444444444,
              "#bd3786"
             ],
             [
              0.5555555555555556,
              "#d8576b"
             ],
             [
              0.6666666666666666,
              "#ed7953"
             ],
             [
              0.7777777777777778,
              "#fb9f3a"
             ],
             [
              0.8888888888888888,
              "#fdca26"
             ],
             [
              1,
              "#f0f921"
             ]
            ],
            "type": "histogram2dcontour"
           }
          ],
          "mesh3d": [
           {
            "colorbar": {
             "outlinewidth": 0,
             "ticks": ""
            },
            "type": "mesh3d"
           }
          ],
          "parcoords": [
           {
            "line": {
             "colorbar": {
              "outlinewidth": 0,
              "ticks": ""
             }
            },
            "type": "parcoords"
           }
          ],
          "pie": [
           {
            "automargin": true,
            "type": "pie"
           }
          ],
          "scatter": [
           {
            "fillpattern": {
             "fillmode": "overlay",
             "size": 10,
             "solidity": 0.2
            },
            "type": "scatter"
           }
          ],
          "scatter3d": [
           {
            "line": {
             "colorbar": {
              "outlinewidth": 0,
              "ticks": ""
             }
            },
            "marker": {
             "colorbar": {
              "outlinewidth": 0,
              "ticks": ""
             }
            },
            "type": "scatter3d"
           }
          ],
          "scattercarpet": [
           {
            "marker": {
             "colorbar": {
              "outlinewidth": 0,
              "ticks": ""
             }
            },
            "type": "scattercarpet"
           }
          ],
          "scattergeo": [
           {
            "marker": {
             "colorbar": {
              "outlinewidth": 0,
              "ticks": ""
             }
            },
            "type": "scattergeo"
           }
          ],
          "scattergl": [
           {
            "marker": {
             "colorbar": {
              "outlinewidth": 0,
              "ticks": ""
             }
            },
            "type": "scattergl"
           }
          ],
          "scattermapbox": [
           {
            "marker": {
             "colorbar": {
              "outlinewidth": 0,
              "ticks": ""
             }
            },
            "type": "scattermapbox"
           }
          ],
          "scatterpolar": [
           {
            "marker": {
             "colorbar": {
              "outlinewidth": 0,
              "ticks": ""
             }
            },
            "type": "scatterpolar"
           }
          ],
          "scatterpolargl": [
           {
            "marker": {
             "colorbar": {
              "outlinewidth": 0,
              "ticks": ""
             }
            },
            "type": "scatterpolargl"
           }
          ],
          "scatterternary": [
           {
            "marker": {
             "colorbar": {
              "outlinewidth": 0,
              "ticks": ""
             }
            },
            "type": "scatterternary"
           }
          ],
          "surface": [
           {
            "colorbar": {
             "outlinewidth": 0,
             "ticks": ""
            },
            "colorscale": [
             [
              0,
              "#0d0887"
             ],
             [
              0.1111111111111111,
              "#46039f"
             ],
             [
              0.2222222222222222,
              "#7201a8"
             ],
             [
              0.3333333333333333,
              "#9c179e"
             ],
             [
              0.4444444444444444,
              "#bd3786"
             ],
             [
              0.5555555555555556,
              "#d8576b"
             ],
             [
              0.6666666666666666,
              "#ed7953"
             ],
             [
              0.7777777777777778,
              "#fb9f3a"
             ],
             [
              0.8888888888888888,
              "#fdca26"
             ],
             [
              1,
              "#f0f921"
             ]
            ],
            "type": "surface"
           }
          ],
          "table": [
           {
            "cells": {
             "fill": {
              "color": "#EBF0F8"
             },
             "line": {
              "color": "white"
             }
            },
            "header": {
             "fill": {
              "color": "#C8D4E3"
             },
             "line": {
              "color": "white"
             }
            },
            "type": "table"
           }
          ]
         },
         "layout": {
          "annotationdefaults": {
           "arrowcolor": "#2a3f5f",
           "arrowhead": 0,
           "arrowwidth": 1
          },
          "autotypenumbers": "strict",
          "coloraxis": {
           "colorbar": {
            "outlinewidth": 0,
            "ticks": ""
           }
          },
          "colorscale": {
           "diverging": [
            [
             0,
             "#8e0152"
            ],
            [
             0.1,
             "#c51b7d"
            ],
            [
             0.2,
             "#de77ae"
            ],
            [
             0.3,
             "#f1b6da"
            ],
            [
             0.4,
             "#fde0ef"
            ],
            [
             0.5,
             "#f7f7f7"
            ],
            [
             0.6,
             "#e6f5d0"
            ],
            [
             0.7,
             "#b8e186"
            ],
            [
             0.8,
             "#7fbc41"
            ],
            [
             0.9,
             "#4d9221"
            ],
            [
             1,
             "#276419"
            ]
           ],
           "sequential": [
            [
             0,
             "#0d0887"
            ],
            [
             0.1111111111111111,
             "#46039f"
            ],
            [
             0.2222222222222222,
             "#7201a8"
            ],
            [
             0.3333333333333333,
             "#9c179e"
            ],
            [
             0.4444444444444444,
             "#bd3786"
            ],
            [
             0.5555555555555556,
             "#d8576b"
            ],
            [
             0.6666666666666666,
             "#ed7953"
            ],
            [
             0.7777777777777778,
             "#fb9f3a"
            ],
            [
             0.8888888888888888,
             "#fdca26"
            ],
            [
             1,
             "#f0f921"
            ]
           ],
           "sequentialminus": [
            [
             0,
             "#0d0887"
            ],
            [
             0.1111111111111111,
             "#46039f"
            ],
            [
             0.2222222222222222,
             "#7201a8"
            ],
            [
             0.3333333333333333,
             "#9c179e"
            ],
            [
             0.4444444444444444,
             "#bd3786"
            ],
            [
             0.5555555555555556,
             "#d8576b"
            ],
            [
             0.6666666666666666,
             "#ed7953"
            ],
            [
             0.7777777777777778,
             "#fb9f3a"
            ],
            [
             0.8888888888888888,
             "#fdca26"
            ],
            [
             1,
             "#f0f921"
            ]
           ]
          },
          "colorway": [
           "#636efa",
           "#EF553B",
           "#00cc96",
           "#ab63fa",
           "#FFA15A",
           "#19d3f3",
           "#FF6692",
           "#B6E880",
           "#FF97FF",
           "#FECB52"
          ],
          "font": {
           "color": "#2a3f5f"
          },
          "geo": {
           "bgcolor": "white",
           "lakecolor": "white",
           "landcolor": "#E5ECF6",
           "showlakes": true,
           "showland": true,
           "subunitcolor": "white"
          },
          "hoverlabel": {
           "align": "left"
          },
          "hovermode": "closest",
          "mapbox": {
           "style": "light"
          },
          "paper_bgcolor": "white",
          "plot_bgcolor": "#E5ECF6",
          "polar": {
           "angularaxis": {
            "gridcolor": "white",
            "linecolor": "white",
            "ticks": ""
           },
           "bgcolor": "#E5ECF6",
           "radialaxis": {
            "gridcolor": "white",
            "linecolor": "white",
            "ticks": ""
           }
          },
          "scene": {
           "xaxis": {
            "backgroundcolor": "#E5ECF6",
            "gridcolor": "white",
            "gridwidth": 2,
            "linecolor": "white",
            "showbackground": true,
            "ticks": "",
            "zerolinecolor": "white"
           },
           "yaxis": {
            "backgroundcolor": "#E5ECF6",
            "gridcolor": "white",
            "gridwidth": 2,
            "linecolor": "white",
            "showbackground": true,
            "ticks": "",
            "zerolinecolor": "white"
           },
           "zaxis": {
            "backgroundcolor": "#E5ECF6",
            "gridcolor": "white",
            "gridwidth": 2,
            "linecolor": "white",
            "showbackground": true,
            "ticks": "",
            "zerolinecolor": "white"
           }
          },
          "shapedefaults": {
           "line": {
            "color": "#2a3f5f"
           }
          },
          "ternary": {
           "aaxis": {
            "gridcolor": "white",
            "linecolor": "white",
            "ticks": ""
           },
           "baxis": {
            "gridcolor": "white",
            "linecolor": "white",
            "ticks": ""
           },
           "bgcolor": "#E5ECF6",
           "caxis": {
            "gridcolor": "white",
            "linecolor": "white",
            "ticks": ""
           }
          },
          "title": {
           "x": 0.05
          },
          "xaxis": {
           "automargin": true,
           "gridcolor": "white",
           "linecolor": "white",
           "ticks": "",
           "title": {
            "standoff": 15
           },
           "zerolinecolor": "white",
           "zerolinewidth": 2
          },
          "yaxis": {
           "automargin": true,
           "gridcolor": "white",
           "linecolor": "white",
           "ticks": "",
           "title": {
            "standoff": 15
           },
           "zerolinecolor": "white",
           "zerolinewidth": 2
          }
         }
        },
        "title": {
         "text": "Mean new symptomatic infections per 100,000 for different vaccine efficacies, immunity effects and scenarios<br>Canada"
        },
        "width": 1100,
        "xaxis": {
         "anchor": "y",
         "domain": [
          0,
          0.45
         ],
         "linecolor": "black"
        },
        "xaxis2": {
         "anchor": "y2",
         "domain": [
          0.55,
          1
         ],
         "linecolor": "black"
        },
        "yaxis": {
         "anchor": "x",
         "domain": [
          0,
          1
         ],
         "linecolor": "black"
        },
        "yaxis2": {
         "anchor": "x2",
         "domain": [
          0,
          1
         ],
         "matches": "y",
         "showticklabels": false,
         "visible": false
        }
       }
      }
     },
     "metadata": {},
     "output_type": "display_data"
    },
    {
     "data": {
      "application/vnd.plotly.v1+json": {
       "config": {
        "plotlyServerURL": "https://plot.ly"
       },
       "data": [
        {
         "marker": {
          "color": "blue"
         },
         "name": "Strategy 1",
         "type": "bar",
         "x": [
          "Increased immunity<br>",
          "Original estimates<br>",
          "Decreased immunity<br>"
         ],
         "xaxis": "x",
         "y": [
          19313.71329510924,
          20296.213594510857,
          21033.78908834587
         ],
         "yaxis": "y"
        },
        {
         "marker": {
          "color": "orange"
         },
         "name": "Strategy 2",
         "type": "bar",
         "x": [
          "Increased immunity<br>",
          "Original estimates<br>",
          "Decreased immunity<br>"
         ],
         "xaxis": "x",
         "y": [
          19313.71329504148,
          20302.8464618832,
          21061.94417918475
         ],
         "yaxis": "y"
        },
        {
         "marker": {
          "color": "green"
         },
         "name": "Strategy 3",
         "type": "bar",
         "x": [
          "Increased immunity<br>",
          "Original estimates<br>",
          "Decreased immunity<br>"
         ],
         "xaxis": "x",
         "y": [
          19373.26832406214,
          20376.340822288024,
          21142.159272016488
         ],
         "yaxis": "y"
        },
        {
         "marker": {
          "color": "red"
         },
         "name": "Strategy 4",
         "type": "bar",
         "x": [
          "Increased immunity<br>",
          "Original estimates<br>",
          "Decreased immunity<br>"
         ],
         "xaxis": "x",
         "y": [
          19420.190467988075,
          20459.492769858545,
          21267.986193182252
         ],
         "yaxis": "y"
        },
        {
         "marker": {
          "color": "purple"
         },
         "name": "Strategy 5",
         "type": "bar",
         "x": [
          "Increased immunity<br>",
          "Original estimates<br>",
          "Decreased immunity<br>"
         ],
         "xaxis": "x",
         "y": [
          19510.389971165332,
          20556.187265375353,
          21387.858470164454
         ],
         "yaxis": "y"
        },
        {
         "marker": {
          "color": "deepskyblue"
         },
         "name": "Strategy 6",
         "type": "bar",
         "x": [
          "Increased immunity<br>",
          "Original estimates<br>",
          "Decreased immunity<br>"
         ],
         "xaxis": "x",
         "y": [
          19510.389971165332,
          20556.187265376586,
          21387.858470165884
         ],
         "yaxis": "y"
        },
        {
         "marker": {
          "color": "black"
         },
         "name": "No boosters",
         "type": "bar",
         "x": [
          "Increased immunity<br>",
          "Original estimates<br>",
          "Decreased immunity<br>"
         ],
         "xaxis": "x",
         "y": [
          19569.243571084815,
          20625.33266663518,
          21476.10755144002
         ],
         "yaxis": "y"
        },
        {
         "marker": {
          "color": "blue"
         },
         "name": "Strategy 1",
         "showlegend": false,
         "type": "bar",
         "x": [
          "Increased immunity<br>",
          "Original estimates<br>",
          "Decreased immunity<br>"
         ],
         "xaxis": "x2",
         "y": [
          19643.21748006013,
          20611.230070413338,
          21330.397714727937
         ],
         "yaxis": "y2"
        },
        {
         "marker": {
          "color": "orange"
         },
         "name": "Strategy 2",
         "showlegend": false,
         "type": "bar",
         "x": [
          "Increased immunity<br>",
          "Original estimates<br>",
          "Decreased immunity<br>"
         ],
         "xaxis": "x2",
         "y": [
          19643.217480090436,
          20616.971296982458,
          21355.04931772099
         ],
         "yaxis": "y2"
        },
        {
         "marker": {
          "color": "green"
         },
         "name": "Strategy 3",
         "showlegend": false,
         "type": "bar",
         "x": [
          "Increased immunity<br>",
          "Original estimates<br>",
          "Decreased immunity<br>"
         ],
         "xaxis": "x2",
         "y": [
          19695.202535957735,
          20680.985225991397,
          21425.780630279816
         ],
         "yaxis": "y2"
        },
        {
         "marker": {
          "color": "red"
         },
         "name": "Strategy 4",
         "showlegend": false,
         "type": "bar",
         "x": [
          "Increased immunity<br>",
          "Original estimates<br>",
          "Decreased immunity<br>"
         ],
         "xaxis": "x2",
         "y": [
          19737.580175162326,
          20756.71804509042,
          21541.942040397964
         ],
         "yaxis": "y2"
        },
        {
         "marker": {
          "color": "purple"
         },
         "name": "Strategy 5",
         "showlegend": false,
         "type": "bar",
         "x": [
          "Increased immunity<br>",
          "Original estimates<br>",
          "Decreased immunity<br>"
         ],
         "xaxis": "x2",
         "y": [
          19819.198662917814,
          20845.21585721629,
          21653.270240181886
         ],
         "yaxis": "y2"
        },
        {
         "marker": {
          "color": "deepskyblue"
         },
         "name": "Strategy 6",
         "showlegend": false,
         "type": "bar",
         "x": [
          "Increased immunity<br>",
          "Original estimates<br>",
          "Decreased immunity<br>"
         ],
         "xaxis": "x2",
         "y": [
          19819.198662917814,
          20845.2158572148,
          21653.270240202564
         ],
         "yaxis": "y2"
        },
        {
         "marker": {
          "color": "black"
         },
         "name": "No boosters",
         "showlegend": false,
         "type": "bar",
         "x": [
          "Increased immunity<br>",
          "Original estimates<br>",
          "Decreased immunity<br>"
         ],
         "xaxis": "x2",
         "y": [
          19868.71562892461,
          20904.69275354208,
          21731.29511190469
         ],
         "yaxis": "y2"
        }
       ],
       "layout": {
        "annotations": [
         {
          "font": {
           "size": 16
          },
          "showarrow": false,
          "text": "No reduction",
          "x": 0.225,
          "xanchor": "center",
          "xref": "paper",
          "y": -0.05,
          "yanchor": "top",
          "yref": "paper"
         },
         {
          "font": {
           "size": 16
          },
          "showarrow": false,
          "text": "20% reduced",
          "x": 0.775,
          "xanchor": "center",
          "xref": "paper",
          "y": -0.05,
          "yanchor": "top",
          "yref": "paper"
         }
        ],
        "boxmode": "group",
        "height": 600,
        "hovermode": "x unified",
        "legend": {
         "orientation": "h",
         "x": 1.2,
         "xanchor": "right",
         "y": 0.98,
         "yanchor": "bottom"
        },
        "plot_bgcolor": "white",
        "template": {
         "data": {
          "bar": [
           {
            "error_x": {
             "color": "#2a3f5f"
            },
            "error_y": {
             "color": "#2a3f5f"
            },
            "marker": {
             "line": {
              "color": "#E5ECF6",
              "width": 0.5
             },
             "pattern": {
              "fillmode": "overlay",
              "size": 10,
              "solidity": 0.2
             }
            },
            "type": "bar"
           }
          ],
          "barpolar": [
           {
            "marker": {
             "line": {
              "color": "#E5ECF6",
              "width": 0.5
             },
             "pattern": {
              "fillmode": "overlay",
              "size": 10,
              "solidity": 0.2
             }
            },
            "type": "barpolar"
           }
          ],
          "carpet": [
           {
            "aaxis": {
             "endlinecolor": "#2a3f5f",
             "gridcolor": "white",
             "linecolor": "white",
             "minorgridcolor": "white",
             "startlinecolor": "#2a3f5f"
            },
            "baxis": {
             "endlinecolor": "#2a3f5f",
             "gridcolor": "white",
             "linecolor": "white",
             "minorgridcolor": "white",
             "startlinecolor": "#2a3f5f"
            },
            "type": "carpet"
           }
          ],
          "choropleth": [
           {
            "colorbar": {
             "outlinewidth": 0,
             "ticks": ""
            },
            "type": "choropleth"
           }
          ],
          "contour": [
           {
            "colorbar": {
             "outlinewidth": 0,
             "ticks": ""
            },
            "colorscale": [
             [
              0,
              "#0d0887"
             ],
             [
              0.1111111111111111,
              "#46039f"
             ],
             [
              0.2222222222222222,
              "#7201a8"
             ],
             [
              0.3333333333333333,
              "#9c179e"
             ],
             [
              0.4444444444444444,
              "#bd3786"
             ],
             [
              0.5555555555555556,
              "#d8576b"
             ],
             [
              0.6666666666666666,
              "#ed7953"
             ],
             [
              0.7777777777777778,
              "#fb9f3a"
             ],
             [
              0.8888888888888888,
              "#fdca26"
             ],
             [
              1,
              "#f0f921"
             ]
            ],
            "type": "contour"
           }
          ],
          "contourcarpet": [
           {
            "colorbar": {
             "outlinewidth": 0,
             "ticks": ""
            },
            "type": "contourcarpet"
           }
          ],
          "heatmap": [
           {
            "colorbar": {
             "outlinewidth": 0,
             "ticks": ""
            },
            "colorscale": [
             [
              0,
              "#0d0887"
             ],
             [
              0.1111111111111111,
              "#46039f"
             ],
             [
              0.2222222222222222,
              "#7201a8"
             ],
             [
              0.3333333333333333,
              "#9c179e"
             ],
             [
              0.4444444444444444,
              "#bd3786"
             ],
             [
              0.5555555555555556,
              "#d8576b"
             ],
             [
              0.6666666666666666,
              "#ed7953"
             ],
             [
              0.7777777777777778,
              "#fb9f3a"
             ],
             [
              0.8888888888888888,
              "#fdca26"
             ],
             [
              1,
              "#f0f921"
             ]
            ],
            "type": "heatmap"
           }
          ],
          "heatmapgl": [
           {
            "colorbar": {
             "outlinewidth": 0,
             "ticks": ""
            },
            "colorscale": [
             [
              0,
              "#0d0887"
             ],
             [
              0.1111111111111111,
              "#46039f"
             ],
             [
              0.2222222222222222,
              "#7201a8"
             ],
             [
              0.3333333333333333,
              "#9c179e"
             ],
             [
              0.4444444444444444,
              "#bd3786"
             ],
             [
              0.5555555555555556,
              "#d8576b"
             ],
             [
              0.6666666666666666,
              "#ed7953"
             ],
             [
              0.7777777777777778,
              "#fb9f3a"
             ],
             [
              0.8888888888888888,
              "#fdca26"
             ],
             [
              1,
              "#f0f921"
             ]
            ],
            "type": "heatmapgl"
           }
          ],
          "histogram": [
           {
            "marker": {
             "pattern": {
              "fillmode": "overlay",
              "size": 10,
              "solidity": 0.2
             }
            },
            "type": "histogram"
           }
          ],
          "histogram2d": [
           {
            "colorbar": {
             "outlinewidth": 0,
             "ticks": ""
            },
            "colorscale": [
             [
              0,
              "#0d0887"
             ],
             [
              0.1111111111111111,
              "#46039f"
             ],
             [
              0.2222222222222222,
              "#7201a8"
             ],
             [
              0.3333333333333333,
              "#9c179e"
             ],
             [
              0.4444444444444444,
              "#bd3786"
             ],
             [
              0.5555555555555556,
              "#d8576b"
             ],
             [
              0.6666666666666666,
              "#ed7953"
             ],
             [
              0.7777777777777778,
              "#fb9f3a"
             ],
             [
              0.8888888888888888,
              "#fdca26"
             ],
             [
              1,
              "#f0f921"
             ]
            ],
            "type": "histogram2d"
           }
          ],
          "histogram2dcontour": [
           {
            "colorbar": {
             "outlinewidth": 0,
             "ticks": ""
            },
            "colorscale": [
             [
              0,
              "#0d0887"
             ],
             [
              0.1111111111111111,
              "#46039f"
             ],
             [
              0.2222222222222222,
              "#7201a8"
             ],
             [
              0.3333333333333333,
              "#9c179e"
             ],
             [
              0.4444444444444444,
              "#bd3786"
             ],
             [
              0.5555555555555556,
              "#d8576b"
             ],
             [
              0.6666666666666666,
              "#ed7953"
             ],
             [
              0.7777777777777778,
              "#fb9f3a"
             ],
             [
              0.8888888888888888,
              "#fdca26"
             ],
             [
              1,
              "#f0f921"
             ]
            ],
            "type": "histogram2dcontour"
           }
          ],
          "mesh3d": [
           {
            "colorbar": {
             "outlinewidth": 0,
             "ticks": ""
            },
            "type": "mesh3d"
           }
          ],
          "parcoords": [
           {
            "line": {
             "colorbar": {
              "outlinewidth": 0,
              "ticks": ""
             }
            },
            "type": "parcoords"
           }
          ],
          "pie": [
           {
            "automargin": true,
            "type": "pie"
           }
          ],
          "scatter": [
           {
            "fillpattern": {
             "fillmode": "overlay",
             "size": 10,
             "solidity": 0.2
            },
            "type": "scatter"
           }
          ],
          "scatter3d": [
           {
            "line": {
             "colorbar": {
              "outlinewidth": 0,
              "ticks": ""
             }
            },
            "marker": {
             "colorbar": {
              "outlinewidth": 0,
              "ticks": ""
             }
            },
            "type": "scatter3d"
           }
          ],
          "scattercarpet": [
           {
            "marker": {
             "colorbar": {
              "outlinewidth": 0,
              "ticks": ""
             }
            },
            "type": "scattercarpet"
           }
          ],
          "scattergeo": [
           {
            "marker": {
             "colorbar": {
              "outlinewidth": 0,
              "ticks": ""
             }
            },
            "type": "scattergeo"
           }
          ],
          "scattergl": [
           {
            "marker": {
             "colorbar": {
              "outlinewidth": 0,
              "ticks": ""
             }
            },
            "type": "scattergl"
           }
          ],
          "scattermapbox": [
           {
            "marker": {
             "colorbar": {
              "outlinewidth": 0,
              "ticks": ""
             }
            },
            "type": "scattermapbox"
           }
          ],
          "scatterpolar": [
           {
            "marker": {
             "colorbar": {
              "outlinewidth": 0,
              "ticks": ""
             }
            },
            "type": "scatterpolar"
           }
          ],
          "scatterpolargl": [
           {
            "marker": {
             "colorbar": {
              "outlinewidth": 0,
              "ticks": ""
             }
            },
            "type": "scatterpolargl"
           }
          ],
          "scatterternary": [
           {
            "marker": {
             "colorbar": {
              "outlinewidth": 0,
              "ticks": ""
             }
            },
            "type": "scatterternary"
           }
          ],
          "surface": [
           {
            "colorbar": {
             "outlinewidth": 0,
             "ticks": ""
            },
            "colorscale": [
             [
              0,
              "#0d0887"
             ],
             [
              0.1111111111111111,
              "#46039f"
             ],
             [
              0.2222222222222222,
              "#7201a8"
             ],
             [
              0.3333333333333333,
              "#9c179e"
             ],
             [
              0.4444444444444444,
              "#bd3786"
             ],
             [
              0.5555555555555556,
              "#d8576b"
             ],
             [
              0.6666666666666666,
              "#ed7953"
             ],
             [
              0.7777777777777778,
              "#fb9f3a"
             ],
             [
              0.8888888888888888,
              "#fdca26"
             ],
             [
              1,
              "#f0f921"
             ]
            ],
            "type": "surface"
           }
          ],
          "table": [
           {
            "cells": {
             "fill": {
              "color": "#EBF0F8"
             },
             "line": {
              "color": "white"
             }
            },
            "header": {
             "fill": {
              "color": "#C8D4E3"
             },
             "line": {
              "color": "white"
             }
            },
            "type": "table"
           }
          ]
         },
         "layout": {
          "annotationdefaults": {
           "arrowcolor": "#2a3f5f",
           "arrowhead": 0,
           "arrowwidth": 1
          },
          "autotypenumbers": "strict",
          "coloraxis": {
           "colorbar": {
            "outlinewidth": 0,
            "ticks": ""
           }
          },
          "colorscale": {
           "diverging": [
            [
             0,
             "#8e0152"
            ],
            [
             0.1,
             "#c51b7d"
            ],
            [
             0.2,
             "#de77ae"
            ],
            [
             0.3,
             "#f1b6da"
            ],
            [
             0.4,
             "#fde0ef"
            ],
            [
             0.5,
             "#f7f7f7"
            ],
            [
             0.6,
             "#e6f5d0"
            ],
            [
             0.7,
             "#b8e186"
            ],
            [
             0.8,
             "#7fbc41"
            ],
            [
             0.9,
             "#4d9221"
            ],
            [
             1,
             "#276419"
            ]
           ],
           "sequential": [
            [
             0,
             "#0d0887"
            ],
            [
             0.1111111111111111,
             "#46039f"
            ],
            [
             0.2222222222222222,
             "#7201a8"
            ],
            [
             0.3333333333333333,
             "#9c179e"
            ],
            [
             0.4444444444444444,
             "#bd3786"
            ],
            [
             0.5555555555555556,
             "#d8576b"
            ],
            [
             0.6666666666666666,
             "#ed7953"
            ],
            [
             0.7777777777777778,
             "#fb9f3a"
            ],
            [
             0.8888888888888888,
             "#fdca26"
            ],
            [
             1,
             "#f0f921"
            ]
           ],
           "sequentialminus": [
            [
             0,
             "#0d0887"
            ],
            [
             0.1111111111111111,
             "#46039f"
            ],
            [
             0.2222222222222222,
             "#7201a8"
            ],
            [
             0.3333333333333333,
             "#9c179e"
            ],
            [
             0.4444444444444444,
             "#bd3786"
            ],
            [
             0.5555555555555556,
             "#d8576b"
            ],
            [
             0.6666666666666666,
             "#ed7953"
            ],
            [
             0.7777777777777778,
             "#fb9f3a"
            ],
            [
             0.8888888888888888,
             "#fdca26"
            ],
            [
             1,
             "#f0f921"
            ]
           ]
          },
          "colorway": [
           "#636efa",
           "#EF553B",
           "#00cc96",
           "#ab63fa",
           "#FFA15A",
           "#19d3f3",
           "#FF6692",
           "#B6E880",
           "#FF97FF",
           "#FECB52"
          ],
          "font": {
           "color": "#2a3f5f"
          },
          "geo": {
           "bgcolor": "white",
           "lakecolor": "white",
           "landcolor": "#E5ECF6",
           "showlakes": true,
           "showland": true,
           "subunitcolor": "white"
          },
          "hoverlabel": {
           "align": "left"
          },
          "hovermode": "closest",
          "mapbox": {
           "style": "light"
          },
          "paper_bgcolor": "white",
          "plot_bgcolor": "#E5ECF6",
          "polar": {
           "angularaxis": {
            "gridcolor": "white",
            "linecolor": "white",
            "ticks": ""
           },
           "bgcolor": "#E5ECF6",
           "radialaxis": {
            "gridcolor": "white",
            "linecolor": "white",
            "ticks": ""
           }
          },
          "scene": {
           "xaxis": {
            "backgroundcolor": "#E5ECF6",
            "gridcolor": "white",
            "gridwidth": 2,
            "linecolor": "white",
            "showbackground": true,
            "ticks": "",
            "zerolinecolor": "white"
           },
           "yaxis": {
            "backgroundcolor": "#E5ECF6",
            "gridcolor": "white",
            "gridwidth": 2,
            "linecolor": "white",
            "showbackground": true,
            "ticks": "",
            "zerolinecolor": "white"
           },
           "zaxis": {
            "backgroundcolor": "#E5ECF6",
            "gridcolor": "white",
            "gridwidth": 2,
            "linecolor": "white",
            "showbackground": true,
            "ticks": "",
            "zerolinecolor": "white"
           }
          },
          "shapedefaults": {
           "line": {
            "color": "#2a3f5f"
           }
          },
          "ternary": {
           "aaxis": {
            "gridcolor": "white",
            "linecolor": "white",
            "ticks": ""
           },
           "baxis": {
            "gridcolor": "white",
            "linecolor": "white",
            "ticks": ""
           },
           "bgcolor": "#E5ECF6",
           "caxis": {
            "gridcolor": "white",
            "linecolor": "white",
            "ticks": ""
           }
          },
          "title": {
           "x": 0.05
          },
          "xaxis": {
           "automargin": true,
           "gridcolor": "white",
           "linecolor": "white",
           "ticks": "",
           "title": {
            "standoff": 15
           },
           "zerolinecolor": "white",
           "zerolinewidth": 2
          },
          "yaxis": {
           "automargin": true,
           "gridcolor": "white",
           "linecolor": "white",
           "ticks": "",
           "title": {
            "standoff": 15
           },
           "zerolinecolor": "white",
           "zerolinewidth": 2
          }
         }
        },
        "title": {
         "text": "Mean new symptomatic infections per 100,000 for different vaccine efficacies, immunity effects and scenarios<br>Brazil"
        },
        "width": 1100,
        "xaxis": {
         "anchor": "y",
         "domain": [
          0,
          0.45
         ],
         "linecolor": "black"
        },
        "xaxis2": {
         "anchor": "y2",
         "domain": [
          0.55,
          1
         ],
         "linecolor": "black"
        },
        "yaxis": {
         "anchor": "x",
         "domain": [
          0,
          1
         ],
         "linecolor": "black"
        },
        "yaxis2": {
         "anchor": "x2",
         "domain": [
          0,
          1
         ],
         "matches": "y",
         "showticklabels": false,
         "visible": false
        }
       }
      }
     },
     "metadata": {},
     "output_type": "display_data"
    },
    {
     "data": {
      "application/vnd.plotly.v1+json": {
       "config": {
        "plotlyServerURL": "https://plot.ly"
       },
       "data": [
        {
         "marker": {
          "color": "blue"
         },
         "name": "Strategy 1",
         "type": "bar",
         "x": [
          "Increased immunity<br>",
          "Original estimates<br>",
          "Decreased immunity<br>"
         ],
         "xaxis": "x",
         "y": [
          11525.317994002713,
          12339.30042102356,
          13529.059994601233
         ],
         "yaxis": "y"
        },
        {
         "marker": {
          "color": "orange"
         },
         "name": "Strategy 2",
         "type": "bar",
         "x": [
          "Increased immunity<br>",
          "Original estimates<br>",
          "Decreased immunity<br>"
         ],
         "xaxis": "x",
         "y": [
          11525.317994029672,
          12339.300421009266,
          13529.059994588388
         ],
         "yaxis": "y"
        },
        {
         "marker": {
          "color": "green"
         },
         "name": "Strategy 3",
         "type": "bar",
         "x": [
          "Increased immunity<br>",
          "Original estimates<br>",
          "Decreased immunity<br>"
         ],
         "xaxis": "x",
         "y": [
          11550.483752196047,
          12374.825973699026,
          13585.249059537211
         ],
         "yaxis": "y"
        },
        {
         "marker": {
          "color": "red"
         },
         "name": "Strategy 4",
         "type": "bar",
         "x": [
          "Increased immunity<br>",
          "Original estimates<br>",
          "Decreased immunity<br>"
         ],
         "xaxis": "x",
         "y": [
          11570.727424070297,
          12405.662359280483,
          13634.743899339765
         ],
         "yaxis": "y"
        },
        {
         "marker": {
          "color": "purple"
         },
         "name": "Strategy 5",
         "type": "bar",
         "x": [
          "Increased immunity<br>",
          "Original estimates<br>",
          "Decreased immunity<br>"
         ],
         "xaxis": "x",
         "y": [
          11641.477565339988,
          12498.426475486815,
          13772.79527871178
         ],
         "yaxis": "y"
        },
        {
         "marker": {
          "color": "deepskyblue"
         },
         "name": "Strategy 6",
         "type": "bar",
         "x": [
          "Increased immunity<br>",
          "Original estimates<br>",
          "Decreased immunity<br>"
         ],
         "xaxis": "x",
         "y": [
          11641.477565352423,
          12498.426475444217,
          13772.795278735462
         ],
         "yaxis": "y"
        },
        {
         "marker": {
          "color": "black"
         },
         "name": "No boosters",
         "type": "bar",
         "x": [
          "Increased immunity<br>",
          "Original estimates<br>",
          "Decreased immunity<br>"
         ],
         "xaxis": "x",
         "y": [
          11681.722080529453,
          12551.031652999614,
          13849.039935513916
         ],
         "yaxis": "y"
        },
        {
         "marker": {
          "color": "blue"
         },
         "name": "Strategy 1",
         "showlegend": false,
         "type": "bar",
         "x": [
          "Increased immunity<br>",
          "Original estimates<br>",
          "Decreased immunity<br>"
         ],
         "xaxis": "x2",
         "y": [
          11790.490227495386,
          12621.85333870658,
          13821.485795748315
         ],
         "yaxis": "y2"
        },
        {
         "marker": {
          "color": "orange"
         },
         "name": "Strategy 2",
         "showlegend": false,
         "type": "bar",
         "x": [
          "Increased immunity<br>",
          "Original estimates<br>",
          "Decreased immunity<br>"
         ],
         "xaxis": "x2",
         "y": [
          11790.490227505037,
          12621.853338705165,
          13821.485795673962
         ],
         "yaxis": "y2"
        },
        {
         "marker": {
          "color": "green"
         },
         "name": "Strategy 3",
         "showlegend": false,
         "type": "bar",
         "x": [
          "Increased immunity<br>",
          "Original estimates<br>",
          "Decreased immunity<br>"
         ],
         "xaxis": "x2",
         "y": [
          11812.25560269225,
          12652.465205522232,
          13870.21781555868
         ],
         "yaxis": "y2"
        },
        {
         "marker": {
          "color": "red"
         },
         "name": "Strategy 4",
         "showlegend": false,
         "type": "bar",
         "x": [
          "Increased immunity<br>",
          "Original estimates<br>",
          "Decreased immunity<br>"
         ],
         "xaxis": "x2",
         "y": [
          11829.587229959634,
          12678.85210407156,
          13913.108291257722
         ],
         "yaxis": "y2"
        },
        {
         "marker": {
          "color": "purple"
         },
         "name": "Strategy 5",
         "showlegend": false,
         "type": "bar",
         "x": [
          "Increased immunity<br>",
          "Original estimates<br>",
          "Decreased immunity<br>"
         ],
         "xaxis": "x2",
         "y": [
          11890.502862941059,
          12758.91422846527,
          14034.334149971657
         ],
         "yaxis": "y2"
        },
        {
         "marker": {
          "color": "deepskyblue"
         },
         "name": "Strategy 6",
         "showlegend": false,
         "type": "bar",
         "x": [
          "Increased immunity<br>",
          "Original estimates<br>",
          "Decreased immunity<br>"
         ],
         "xaxis": "x2",
         "y": [
          11890.502862935951,
          12758.91422848663,
          14034.334149834353
         ],
         "yaxis": "y2"
        },
        {
         "marker": {
          "color": "black"
         },
         "name": "No boosters",
         "showlegend": false,
         "type": "bar",
         "x": [
          "Increased immunity<br>",
          "Original estimates<br>",
          "Decreased immunity<br>"
         ],
         "xaxis": "x2",
         "y": [
          11925.043592859514,
          12804.071388324179,
          14100.98908177979
         ],
         "yaxis": "y2"
        }
       ],
       "layout": {
        "annotations": [
         {
          "font": {
           "size": 16
          },
          "showarrow": false,
          "text": "No reduction",
          "x": 0.225,
          "xanchor": "center",
          "xref": "paper",
          "y": -0.05,
          "yanchor": "top",
          "yref": "paper"
         },
         {
          "font": {
           "size": 16
          },
          "showarrow": false,
          "text": "20% reduced",
          "x": 0.775,
          "xanchor": "center",
          "xref": "paper",
          "y": -0.05,
          "yanchor": "top",
          "yref": "paper"
         }
        ],
        "boxmode": "group",
        "height": 600,
        "hovermode": "x unified",
        "legend": {
         "orientation": "h",
         "x": 1.2,
         "xanchor": "right",
         "y": 0.98,
         "yanchor": "bottom"
        },
        "plot_bgcolor": "white",
        "template": {
         "data": {
          "bar": [
           {
            "error_x": {
             "color": "#2a3f5f"
            },
            "error_y": {
             "color": "#2a3f5f"
            },
            "marker": {
             "line": {
              "color": "#E5ECF6",
              "width": 0.5
             },
             "pattern": {
              "fillmode": "overlay",
              "size": 10,
              "solidity": 0.2
             }
            },
            "type": "bar"
           }
          ],
          "barpolar": [
           {
            "marker": {
             "line": {
              "color": "#E5ECF6",
              "width": 0.5
             },
             "pattern": {
              "fillmode": "overlay",
              "size": 10,
              "solidity": 0.2
             }
            },
            "type": "barpolar"
           }
          ],
          "carpet": [
           {
            "aaxis": {
             "endlinecolor": "#2a3f5f",
             "gridcolor": "white",
             "linecolor": "white",
             "minorgridcolor": "white",
             "startlinecolor": "#2a3f5f"
            },
            "baxis": {
             "endlinecolor": "#2a3f5f",
             "gridcolor": "white",
             "linecolor": "white",
             "minorgridcolor": "white",
             "startlinecolor": "#2a3f5f"
            },
            "type": "carpet"
           }
          ],
          "choropleth": [
           {
            "colorbar": {
             "outlinewidth": 0,
             "ticks": ""
            },
            "type": "choropleth"
           }
          ],
          "contour": [
           {
            "colorbar": {
             "outlinewidth": 0,
             "ticks": ""
            },
            "colorscale": [
             [
              0,
              "#0d0887"
             ],
             [
              0.1111111111111111,
              "#46039f"
             ],
             [
              0.2222222222222222,
              "#7201a8"
             ],
             [
              0.3333333333333333,
              "#9c179e"
             ],
             [
              0.4444444444444444,
              "#bd3786"
             ],
             [
              0.5555555555555556,
              "#d8576b"
             ],
             [
              0.6666666666666666,
              "#ed7953"
             ],
             [
              0.7777777777777778,
              "#fb9f3a"
             ],
             [
              0.8888888888888888,
              "#fdca26"
             ],
             [
              1,
              "#f0f921"
             ]
            ],
            "type": "contour"
           }
          ],
          "contourcarpet": [
           {
            "colorbar": {
             "outlinewidth": 0,
             "ticks": ""
            },
            "type": "contourcarpet"
           }
          ],
          "heatmap": [
           {
            "colorbar": {
             "outlinewidth": 0,
             "ticks": ""
            },
            "colorscale": [
             [
              0,
              "#0d0887"
             ],
             [
              0.1111111111111111,
              "#46039f"
             ],
             [
              0.2222222222222222,
              "#7201a8"
             ],
             [
              0.3333333333333333,
              "#9c179e"
             ],
             [
              0.4444444444444444,
              "#bd3786"
             ],
             [
              0.5555555555555556,
              "#d8576b"
             ],
             [
              0.6666666666666666,
              "#ed7953"
             ],
             [
              0.7777777777777778,
              "#fb9f3a"
             ],
             [
              0.8888888888888888,
              "#fdca26"
             ],
             [
              1,
              "#f0f921"
             ]
            ],
            "type": "heatmap"
           }
          ],
          "heatmapgl": [
           {
            "colorbar": {
             "outlinewidth": 0,
             "ticks": ""
            },
            "colorscale": [
             [
              0,
              "#0d0887"
             ],
             [
              0.1111111111111111,
              "#46039f"
             ],
             [
              0.2222222222222222,
              "#7201a8"
             ],
             [
              0.3333333333333333,
              "#9c179e"
             ],
             [
              0.4444444444444444,
              "#bd3786"
             ],
             [
              0.5555555555555556,
              "#d8576b"
             ],
             [
              0.6666666666666666,
              "#ed7953"
             ],
             [
              0.7777777777777778,
              "#fb9f3a"
             ],
             [
              0.8888888888888888,
              "#fdca26"
             ],
             [
              1,
              "#f0f921"
             ]
            ],
            "type": "heatmapgl"
           }
          ],
          "histogram": [
           {
            "marker": {
             "pattern": {
              "fillmode": "overlay",
              "size": 10,
              "solidity": 0.2
             }
            },
            "type": "histogram"
           }
          ],
          "histogram2d": [
           {
            "colorbar": {
             "outlinewidth": 0,
             "ticks": ""
            },
            "colorscale": [
             [
              0,
              "#0d0887"
             ],
             [
              0.1111111111111111,
              "#46039f"
             ],
             [
              0.2222222222222222,
              "#7201a8"
             ],
             [
              0.3333333333333333,
              "#9c179e"
             ],
             [
              0.4444444444444444,
              "#bd3786"
             ],
             [
              0.5555555555555556,
              "#d8576b"
             ],
             [
              0.6666666666666666,
              "#ed7953"
             ],
             [
              0.7777777777777778,
              "#fb9f3a"
             ],
             [
              0.8888888888888888,
              "#fdca26"
             ],
             [
              1,
              "#f0f921"
             ]
            ],
            "type": "histogram2d"
           }
          ],
          "histogram2dcontour": [
           {
            "colorbar": {
             "outlinewidth": 0,
             "ticks": ""
            },
            "colorscale": [
             [
              0,
              "#0d0887"
             ],
             [
              0.1111111111111111,
              "#46039f"
             ],
             [
              0.2222222222222222,
              "#7201a8"
             ],
             [
              0.3333333333333333,
              "#9c179e"
             ],
             [
              0.4444444444444444,
              "#bd3786"
             ],
             [
              0.5555555555555556,
              "#d8576b"
             ],
             [
              0.6666666666666666,
              "#ed7953"
             ],
             [
              0.7777777777777778,
              "#fb9f3a"
             ],
             [
              0.8888888888888888,
              "#fdca26"
             ],
             [
              1,
              "#f0f921"
             ]
            ],
            "type": "histogram2dcontour"
           }
          ],
          "mesh3d": [
           {
            "colorbar": {
             "outlinewidth": 0,
             "ticks": ""
            },
            "type": "mesh3d"
           }
          ],
          "parcoords": [
           {
            "line": {
             "colorbar": {
              "outlinewidth": 0,
              "ticks": ""
             }
            },
            "type": "parcoords"
           }
          ],
          "pie": [
           {
            "automargin": true,
            "type": "pie"
           }
          ],
          "scatter": [
           {
            "fillpattern": {
             "fillmode": "overlay",
             "size": 10,
             "solidity": 0.2
            },
            "type": "scatter"
           }
          ],
          "scatter3d": [
           {
            "line": {
             "colorbar": {
              "outlinewidth": 0,
              "ticks": ""
             }
            },
            "marker": {
             "colorbar": {
              "outlinewidth": 0,
              "ticks": ""
             }
            },
            "type": "scatter3d"
           }
          ],
          "scattercarpet": [
           {
            "marker": {
             "colorbar": {
              "outlinewidth": 0,
              "ticks": ""
             }
            },
            "type": "scattercarpet"
           }
          ],
          "scattergeo": [
           {
            "marker": {
             "colorbar": {
              "outlinewidth": 0,
              "ticks": ""
             }
            },
            "type": "scattergeo"
           }
          ],
          "scattergl": [
           {
            "marker": {
             "colorbar": {
              "outlinewidth": 0,
              "ticks": ""
             }
            },
            "type": "scattergl"
           }
          ],
          "scattermapbox": [
           {
            "marker": {
             "colorbar": {
              "outlinewidth": 0,
              "ticks": ""
             }
            },
            "type": "scattermapbox"
           }
          ],
          "scatterpolar": [
           {
            "marker": {
             "colorbar": {
              "outlinewidth": 0,
              "ticks": ""
             }
            },
            "type": "scatterpolar"
           }
          ],
          "scatterpolargl": [
           {
            "marker": {
             "colorbar": {
              "outlinewidth": 0,
              "ticks": ""
             }
            },
            "type": "scatterpolargl"
           }
          ],
          "scatterternary": [
           {
            "marker": {
             "colorbar": {
              "outlinewidth": 0,
              "ticks": ""
             }
            },
            "type": "scatterternary"
           }
          ],
          "surface": [
           {
            "colorbar": {
             "outlinewidth": 0,
             "ticks": ""
            },
            "colorscale": [
             [
              0,
              "#0d0887"
             ],
             [
              0.1111111111111111,
              "#46039f"
             ],
             [
              0.2222222222222222,
              "#7201a8"
             ],
             [
              0.3333333333333333,
              "#9c179e"
             ],
             [
              0.4444444444444444,
              "#bd3786"
             ],
             [
              0.5555555555555556,
              "#d8576b"
             ],
             [
              0.6666666666666666,
              "#ed7953"
             ],
             [
              0.7777777777777778,
              "#fb9f3a"
             ],
             [
              0.8888888888888888,
              "#fdca26"
             ],
             [
              1,
              "#f0f921"
             ]
            ],
            "type": "surface"
           }
          ],
          "table": [
           {
            "cells": {
             "fill": {
              "color": "#EBF0F8"
             },
             "line": {
              "color": "white"
             }
            },
            "header": {
             "fill": {
              "color": "#C8D4E3"
             },
             "line": {
              "color": "white"
             }
            },
            "type": "table"
           }
          ]
         },
         "layout": {
          "annotationdefaults": {
           "arrowcolor": "#2a3f5f",
           "arrowhead": 0,
           "arrowwidth": 1
          },
          "autotypenumbers": "strict",
          "coloraxis": {
           "colorbar": {
            "outlinewidth": 0,
            "ticks": ""
           }
          },
          "colorscale": {
           "diverging": [
            [
             0,
             "#8e0152"
            ],
            [
             0.1,
             "#c51b7d"
            ],
            [
             0.2,
             "#de77ae"
            ],
            [
             0.3,
             "#f1b6da"
            ],
            [
             0.4,
             "#fde0ef"
            ],
            [
             0.5,
             "#f7f7f7"
            ],
            [
             0.6,
             "#e6f5d0"
            ],
            [
             0.7,
             "#b8e186"
            ],
            [
             0.8,
             "#7fbc41"
            ],
            [
             0.9,
             "#4d9221"
            ],
            [
             1,
             "#276419"
            ]
           ],
           "sequential": [
            [
             0,
             "#0d0887"
            ],
            [
             0.1111111111111111,
             "#46039f"
            ],
            [
             0.2222222222222222,
             "#7201a8"
            ],
            [
             0.3333333333333333,
             "#9c179e"
            ],
            [
             0.4444444444444444,
             "#bd3786"
            ],
            [
             0.5555555555555556,
             "#d8576b"
            ],
            [
             0.6666666666666666,
             "#ed7953"
            ],
            [
             0.7777777777777778,
             "#fb9f3a"
            ],
            [
             0.8888888888888888,
             "#fdca26"
            ],
            [
             1,
             "#f0f921"
            ]
           ],
           "sequentialminus": [
            [
             0,
             "#0d0887"
            ],
            [
             0.1111111111111111,
             "#46039f"
            ],
            [
             0.2222222222222222,
             "#7201a8"
            ],
            [
             0.3333333333333333,
             "#9c179e"
            ],
            [
             0.4444444444444444,
             "#bd3786"
            ],
            [
             0.5555555555555556,
             "#d8576b"
            ],
            [
             0.6666666666666666,
             "#ed7953"
            ],
            [
             0.7777777777777778,
             "#fb9f3a"
            ],
            [
             0.8888888888888888,
             "#fdca26"
            ],
            [
             1,
             "#f0f921"
            ]
           ]
          },
          "colorway": [
           "#636efa",
           "#EF553B",
           "#00cc96",
           "#ab63fa",
           "#FFA15A",
           "#19d3f3",
           "#FF6692",
           "#B6E880",
           "#FF97FF",
           "#FECB52"
          ],
          "font": {
           "color": "#2a3f5f"
          },
          "geo": {
           "bgcolor": "white",
           "lakecolor": "white",
           "landcolor": "#E5ECF6",
           "showlakes": true,
           "showland": true,
           "subunitcolor": "white"
          },
          "hoverlabel": {
           "align": "left"
          },
          "hovermode": "closest",
          "mapbox": {
           "style": "light"
          },
          "paper_bgcolor": "white",
          "plot_bgcolor": "#E5ECF6",
          "polar": {
           "angularaxis": {
            "gridcolor": "white",
            "linecolor": "white",
            "ticks": ""
           },
           "bgcolor": "#E5ECF6",
           "radialaxis": {
            "gridcolor": "white",
            "linecolor": "white",
            "ticks": ""
           }
          },
          "scene": {
           "xaxis": {
            "backgroundcolor": "#E5ECF6",
            "gridcolor": "white",
            "gridwidth": 2,
            "linecolor": "white",
            "showbackground": true,
            "ticks": "",
            "zerolinecolor": "white"
           },
           "yaxis": {
            "backgroundcolor": "#E5ECF6",
            "gridcolor": "white",
            "gridwidth": 2,
            "linecolor": "white",
            "showbackground": true,
            "ticks": "",
            "zerolinecolor": "white"
           },
           "zaxis": {
            "backgroundcolor": "#E5ECF6",
            "gridcolor": "white",
            "gridwidth": 2,
            "linecolor": "white",
            "showbackground": true,
            "ticks": "",
            "zerolinecolor": "white"
           }
          },
          "shapedefaults": {
           "line": {
            "color": "#2a3f5f"
           }
          },
          "ternary": {
           "aaxis": {
            "gridcolor": "white",
            "linecolor": "white",
            "ticks": ""
           },
           "baxis": {
            "gridcolor": "white",
            "linecolor": "white",
            "ticks": ""
           },
           "bgcolor": "#E5ECF6",
           "caxis": {
            "gridcolor": "white",
            "linecolor": "white",
            "ticks": ""
           }
          },
          "title": {
           "x": 0.05
          },
          "xaxis": {
           "automargin": true,
           "gridcolor": "white",
           "linecolor": "white",
           "ticks": "",
           "title": {
            "standoff": 15
           },
           "zerolinecolor": "white",
           "zerolinewidth": 2
          },
          "yaxis": {
           "automargin": true,
           "gridcolor": "white",
           "linecolor": "white",
           "ticks": "",
           "title": {
            "standoff": 15
           },
           "zerolinecolor": "white",
           "zerolinewidth": 2
          }
         }
        },
        "title": {
         "text": "Mean new symptomatic infections per 100,000 for different vaccine efficacies, immunity effects and scenarios<br>South Africa"
        },
        "width": 1100,
        "xaxis": {
         "anchor": "y",
         "domain": [
          0,
          0.45
         ],
         "linecolor": "black"
        },
        "xaxis2": {
         "anchor": "y2",
         "domain": [
          0.55,
          1
         ],
         "linecolor": "black"
        },
        "yaxis": {
         "anchor": "x",
         "domain": [
          0,
          1
         ],
         "linecolor": "black"
        },
        "yaxis2": {
         "anchor": "x2",
         "domain": [
          0,
          1
         ],
         "matches": "y",
         "showticklabels": false,
         "visible": false
        }
       }
      }
     },
     "metadata": {},
     "output_type": "display_data"
    },
    {
     "data": {
      "application/vnd.plotly.v1+json": {
       "config": {
        "plotlyServerURL": "https://plot.ly"
       },
       "data": [
        {
         "marker": {
          "color": "blue"
         },
         "name": "Strategy 1",
         "type": "bar",
         "x": [
          "Increased immunity<br>",
          "Original estimates<br>",
          "Decreased immunity<br>"
         ],
         "xaxis": "x",
         "y": [
          11228.397089221247,
          12558.493122296864,
          12713.646935859864
         ],
         "yaxis": "y"
        },
        {
         "marker": {
          "color": "orange"
         },
         "name": "Strategy 2",
         "type": "bar",
         "x": [
          "Increased immunity<br>",
          "Original estimates<br>",
          "Decreased immunity<br>"
         ],
         "xaxis": "x",
         "y": [
          11228.397089215236,
          12558.493122296282,
          12713.646934863198
         ],
         "yaxis": "y"
        },
        {
         "marker": {
          "color": "green"
         },
         "name": "Strategy 3",
         "type": "bar",
         "x": [
          "Increased immunity<br>",
          "Original estimates<br>",
          "Decreased immunity<br>"
         ],
         "xaxis": "x",
         "y": [
          11228.3970892108,
          12558.49312227689,
          12713.646934441438
         ],
         "yaxis": "y"
        },
        {
         "marker": {
          "color": "red"
         },
         "name": "Strategy 4",
         "type": "bar",
         "x": [
          "Increased immunity<br>",
          "Original estimates<br>",
          "Decreased immunity<br>"
         ],
         "xaxis": "x",
         "y": [
          11228.397089203761,
          12558.493122285756,
          12713.646934327466
         ],
         "yaxis": "y"
        },
        {
         "marker": {
          "color": "purple"
         },
         "name": "Strategy 5",
         "type": "bar",
         "x": [
          "Increased immunity<br>",
          "Original estimates<br>",
          "Decreased immunity<br>"
         ],
         "xaxis": "x",
         "y": [
          11352.217193964694,
          12721.296403417851,
          12922.896161325923
         ],
         "yaxis": "y"
        },
        {
         "marker": {
          "color": "deepskyblue"
         },
         "name": "Strategy 6",
         "type": "bar",
         "x": [
          "Increased immunity<br>",
          "Original estimates<br>",
          "Decreased immunity<br>"
         ],
         "xaxis": "x",
         "y": [
          11352.217193970295,
          12721.296403427867,
          12922.896161306044
         ],
         "yaxis": "y"
        },
        {
         "marker": {
          "color": "black"
         },
         "name": "No boosters",
         "type": "bar",
         "x": [
          "Increased immunity<br>",
          "Original estimates<br>",
          "Decreased immunity<br>"
         ],
         "xaxis": "x",
         "y": [
          11408.0653536374,
          12791.121280069412,
          13012.897447382962
         ],
         "yaxis": "y"
        },
        {
         "marker": {
          "color": "blue"
         },
         "name": "Strategy 1",
         "showlegend": false,
         "type": "bar",
         "x": [
          "Increased immunity<br>",
          "Original estimates<br>",
          "Decreased immunity<br>"
         ],
         "xaxis": "x2",
         "y": [
          11394.026754702223,
          12723.151125222877,
          12871.013697020122
         ],
         "yaxis": "y2"
        },
        {
         "marker": {
          "color": "orange"
         },
         "name": "Strategy 2",
         "showlegend": false,
         "type": "bar",
         "x": [
          "Increased immunity<br>",
          "Original estimates<br>",
          "Decreased immunity<br>"
         ],
         "xaxis": "x2",
         "y": [
          11394.026754703547,
          12723.151125211145,
          12871.013696004411
         ],
         "yaxis": "y2"
        },
        {
         "marker": {
          "color": "green"
         },
         "name": "Strategy 3",
         "showlegend": false,
         "type": "bar",
         "x": [
          "Increased immunity<br>",
          "Original estimates<br>",
          "Decreased immunity<br>"
         ],
         "xaxis": "x2",
         "y": [
          11394.026754719016,
          12723.15112520353,
          12871.013695492687
         ],
         "yaxis": "y2"
        },
        {
         "marker": {
          "color": "red"
         },
         "name": "Strategy 4",
         "showlegend": false,
         "type": "bar",
         "x": [
          "Increased immunity<br>",
          "Original estimates<br>",
          "Decreased immunity<br>"
         ],
         "xaxis": "x2",
         "y": [
          11394.026754712146,
          12723.151125206285,
          12871.013695621214
         ],
         "yaxis": "y2"
        },
        {
         "marker": {
          "color": "purple"
         },
         "name": "Strategy 5",
         "showlegend": false,
         "type": "bar",
         "x": [
          "Increased immunity<br>",
          "Original estimates<br>",
          "Decreased immunity<br>"
         ],
         "xaxis": "x2",
         "y": [
          11500.923681848066,
          12866.04565776683,
          13058.224713303
         ],
         "yaxis": "y2"
        },
        {
         "marker": {
          "color": "deepskyblue"
         },
         "name": "Strategy 6",
         "showlegend": false,
         "type": "bar",
         "x": [
          "Increased immunity<br>",
          "Original estimates<br>",
          "Decreased immunity<br>"
         ],
         "xaxis": "x2",
         "y": [
          11500.923681862028,
          12866.045657765288,
          13058.22471324469
         ],
         "yaxis": "y2"
        },
        {
         "marker": {
          "color": "black"
         },
         "name": "No boosters",
         "showlegend": false,
         "type": "bar",
         "x": [
          "Increased immunity<br>",
          "Original estimates<br>",
          "Decreased immunity<br>"
         ],
         "xaxis": "x2",
         "y": [
          11549.78162152996,
          12928.780478719636,
          13140.725787704487
         ],
         "yaxis": "y2"
        }
       ],
       "layout": {
        "annotations": [
         {
          "font": {
           "size": 16
          },
          "showarrow": false,
          "text": "No reduction",
          "x": 0.225,
          "xanchor": "center",
          "xref": "paper",
          "y": -0.05,
          "yanchor": "top",
          "yref": "paper"
         },
         {
          "font": {
           "size": 16
          },
          "showarrow": false,
          "text": "20% reduced",
          "x": 0.775,
          "xanchor": "center",
          "xref": "paper",
          "y": -0.05,
          "yanchor": "top",
          "yref": "paper"
         }
        ],
        "boxmode": "group",
        "height": 600,
        "hovermode": "x unified",
        "legend": {
         "orientation": "h",
         "x": 1.2,
         "xanchor": "right",
         "y": 0.98,
         "yanchor": "bottom"
        },
        "plot_bgcolor": "white",
        "template": {
         "data": {
          "bar": [
           {
            "error_x": {
             "color": "#2a3f5f"
            },
            "error_y": {
             "color": "#2a3f5f"
            },
            "marker": {
             "line": {
              "color": "#E5ECF6",
              "width": 0.5
             },
             "pattern": {
              "fillmode": "overlay",
              "size": 10,
              "solidity": 0.2
             }
            },
            "type": "bar"
           }
          ],
          "barpolar": [
           {
            "marker": {
             "line": {
              "color": "#E5ECF6",
              "width": 0.5
             },
             "pattern": {
              "fillmode": "overlay",
              "size": 10,
              "solidity": 0.2
             }
            },
            "type": "barpolar"
           }
          ],
          "carpet": [
           {
            "aaxis": {
             "endlinecolor": "#2a3f5f",
             "gridcolor": "white",
             "linecolor": "white",
             "minorgridcolor": "white",
             "startlinecolor": "#2a3f5f"
            },
            "baxis": {
             "endlinecolor": "#2a3f5f",
             "gridcolor": "white",
             "linecolor": "white",
             "minorgridcolor": "white",
             "startlinecolor": "#2a3f5f"
            },
            "type": "carpet"
           }
          ],
          "choropleth": [
           {
            "colorbar": {
             "outlinewidth": 0,
             "ticks": ""
            },
            "type": "choropleth"
           }
          ],
          "contour": [
           {
            "colorbar": {
             "outlinewidth": 0,
             "ticks": ""
            },
            "colorscale": [
             [
              0,
              "#0d0887"
             ],
             [
              0.1111111111111111,
              "#46039f"
             ],
             [
              0.2222222222222222,
              "#7201a8"
             ],
             [
              0.3333333333333333,
              "#9c179e"
             ],
             [
              0.4444444444444444,
              "#bd3786"
             ],
             [
              0.5555555555555556,
              "#d8576b"
             ],
             [
              0.6666666666666666,
              "#ed7953"
             ],
             [
              0.7777777777777778,
              "#fb9f3a"
             ],
             [
              0.8888888888888888,
              "#fdca26"
             ],
             [
              1,
              "#f0f921"
             ]
            ],
            "type": "contour"
           }
          ],
          "contourcarpet": [
           {
            "colorbar": {
             "outlinewidth": 0,
             "ticks": ""
            },
            "type": "contourcarpet"
           }
          ],
          "heatmap": [
           {
            "colorbar": {
             "outlinewidth": 0,
             "ticks": ""
            },
            "colorscale": [
             [
              0,
              "#0d0887"
             ],
             [
              0.1111111111111111,
              "#46039f"
             ],
             [
              0.2222222222222222,
              "#7201a8"
             ],
             [
              0.3333333333333333,
              "#9c179e"
             ],
             [
              0.4444444444444444,
              "#bd3786"
             ],
             [
              0.5555555555555556,
              "#d8576b"
             ],
             [
              0.6666666666666666,
              "#ed7953"
             ],
             [
              0.7777777777777778,
              "#fb9f3a"
             ],
             [
              0.8888888888888888,
              "#fdca26"
             ],
             [
              1,
              "#f0f921"
             ]
            ],
            "type": "heatmap"
           }
          ],
          "heatmapgl": [
           {
            "colorbar": {
             "outlinewidth": 0,
             "ticks": ""
            },
            "colorscale": [
             [
              0,
              "#0d0887"
             ],
             [
              0.1111111111111111,
              "#46039f"
             ],
             [
              0.2222222222222222,
              "#7201a8"
             ],
             [
              0.3333333333333333,
              "#9c179e"
             ],
             [
              0.4444444444444444,
              "#bd3786"
             ],
             [
              0.5555555555555556,
              "#d8576b"
             ],
             [
              0.6666666666666666,
              "#ed7953"
             ],
             [
              0.7777777777777778,
              "#fb9f3a"
             ],
             [
              0.8888888888888888,
              "#fdca26"
             ],
             [
              1,
              "#f0f921"
             ]
            ],
            "type": "heatmapgl"
           }
          ],
          "histogram": [
           {
            "marker": {
             "pattern": {
              "fillmode": "overlay",
              "size": 10,
              "solidity": 0.2
             }
            },
            "type": "histogram"
           }
          ],
          "histogram2d": [
           {
            "colorbar": {
             "outlinewidth": 0,
             "ticks": ""
            },
            "colorscale": [
             [
              0,
              "#0d0887"
             ],
             [
              0.1111111111111111,
              "#46039f"
             ],
             [
              0.2222222222222222,
              "#7201a8"
             ],
             [
              0.3333333333333333,
              "#9c179e"
             ],
             [
              0.4444444444444444,
              "#bd3786"
             ],
             [
              0.5555555555555556,
              "#d8576b"
             ],
             [
              0.6666666666666666,
              "#ed7953"
             ],
             [
              0.7777777777777778,
              "#fb9f3a"
             ],
             [
              0.8888888888888888,
              "#fdca26"
             ],
             [
              1,
              "#f0f921"
             ]
            ],
            "type": "histogram2d"
           }
          ],
          "histogram2dcontour": [
           {
            "colorbar": {
             "outlinewidth": 0,
             "ticks": ""
            },
            "colorscale": [
             [
              0,
              "#0d0887"
             ],
             [
              0.1111111111111111,
              "#46039f"
             ],
             [
              0.2222222222222222,
              "#7201a8"
             ],
             [
              0.3333333333333333,
              "#9c179e"
             ],
             [
              0.4444444444444444,
              "#bd3786"
             ],
             [
              0.5555555555555556,
              "#d8576b"
             ],
             [
              0.6666666666666666,
              "#ed7953"
             ],
             [
              0.7777777777777778,
              "#fb9f3a"
             ],
             [
              0.8888888888888888,
              "#fdca26"
             ],
             [
              1,
              "#f0f921"
             ]
            ],
            "type": "histogram2dcontour"
           }
          ],
          "mesh3d": [
           {
            "colorbar": {
             "outlinewidth": 0,
             "ticks": ""
            },
            "type": "mesh3d"
           }
          ],
          "parcoords": [
           {
            "line": {
             "colorbar": {
              "outlinewidth": 0,
              "ticks": ""
             }
            },
            "type": "parcoords"
           }
          ],
          "pie": [
           {
            "automargin": true,
            "type": "pie"
           }
          ],
          "scatter": [
           {
            "fillpattern": {
             "fillmode": "overlay",
             "size": 10,
             "solidity": 0.2
            },
            "type": "scatter"
           }
          ],
          "scatter3d": [
           {
            "line": {
             "colorbar": {
              "outlinewidth": 0,
              "ticks": ""
             }
            },
            "marker": {
             "colorbar": {
              "outlinewidth": 0,
              "ticks": ""
             }
            },
            "type": "scatter3d"
           }
          ],
          "scattercarpet": [
           {
            "marker": {
             "colorbar": {
              "outlinewidth": 0,
              "ticks": ""
             }
            },
            "type": "scattercarpet"
           }
          ],
          "scattergeo": [
           {
            "marker": {
             "colorbar": {
              "outlinewidth": 0,
              "ticks": ""
             }
            },
            "type": "scattergeo"
           }
          ],
          "scattergl": [
           {
            "marker": {
             "colorbar": {
              "outlinewidth": 0,
              "ticks": ""
             }
            },
            "type": "scattergl"
           }
          ],
          "scattermapbox": [
           {
            "marker": {
             "colorbar": {
              "outlinewidth": 0,
              "ticks": ""
             }
            },
            "type": "scattermapbox"
           }
          ],
          "scatterpolar": [
           {
            "marker": {
             "colorbar": {
              "outlinewidth": 0,
              "ticks": ""
             }
            },
            "type": "scatterpolar"
           }
          ],
          "scatterpolargl": [
           {
            "marker": {
             "colorbar": {
              "outlinewidth": 0,
              "ticks": ""
             }
            },
            "type": "scatterpolargl"
           }
          ],
          "scatterternary": [
           {
            "marker": {
             "colorbar": {
              "outlinewidth": 0,
              "ticks": ""
             }
            },
            "type": "scatterternary"
           }
          ],
          "surface": [
           {
            "colorbar": {
             "outlinewidth": 0,
             "ticks": ""
            },
            "colorscale": [
             [
              0,
              "#0d0887"
             ],
             [
              0.1111111111111111,
              "#46039f"
             ],
             [
              0.2222222222222222,
              "#7201a8"
             ],
             [
              0.3333333333333333,
              "#9c179e"
             ],
             [
              0.4444444444444444,
              "#bd3786"
             ],
             [
              0.5555555555555556,
              "#d8576b"
             ],
             [
              0.6666666666666666,
              "#ed7953"
             ],
             [
              0.7777777777777778,
              "#fb9f3a"
             ],
             [
              0.8888888888888888,
              "#fdca26"
             ],
             [
              1,
              "#f0f921"
             ]
            ],
            "type": "surface"
           }
          ],
          "table": [
           {
            "cells": {
             "fill": {
              "color": "#EBF0F8"
             },
             "line": {
              "color": "white"
             }
            },
            "header": {
             "fill": {
              "color": "#C8D4E3"
             },
             "line": {
              "color": "white"
             }
            },
            "type": "table"
           }
          ]
         },
         "layout": {
          "annotationdefaults": {
           "arrowcolor": "#2a3f5f",
           "arrowhead": 0,
           "arrowwidth": 1
          },
          "autotypenumbers": "strict",
          "coloraxis": {
           "colorbar": {
            "outlinewidth": 0,
            "ticks": ""
           }
          },
          "colorscale": {
           "diverging": [
            [
             0,
             "#8e0152"
            ],
            [
             0.1,
             "#c51b7d"
            ],
            [
             0.2,
             "#de77ae"
            ],
            [
             0.3,
             "#f1b6da"
            ],
            [
             0.4,
             "#fde0ef"
            ],
            [
             0.5,
             "#f7f7f7"
            ],
            [
             0.6,
             "#e6f5d0"
            ],
            [
             0.7,
             "#b8e186"
            ],
            [
             0.8,
             "#7fbc41"
            ],
            [
             0.9,
             "#4d9221"
            ],
            [
             1,
             "#276419"
            ]
           ],
           "sequential": [
            [
             0,
             "#0d0887"
            ],
            [
             0.1111111111111111,
             "#46039f"
            ],
            [
             0.2222222222222222,
             "#7201a8"
            ],
            [
             0.3333333333333333,
             "#9c179e"
            ],
            [
             0.4444444444444444,
             "#bd3786"
            ],
            [
             0.5555555555555556,
             "#d8576b"
            ],
            [
             0.6666666666666666,
             "#ed7953"
            ],
            [
             0.7777777777777778,
             "#fb9f3a"
            ],
            [
             0.8888888888888888,
             "#fdca26"
            ],
            [
             1,
             "#f0f921"
            ]
           ],
           "sequentialminus": [
            [
             0,
             "#0d0887"
            ],
            [
             0.1111111111111111,
             "#46039f"
            ],
            [
             0.2222222222222222,
             "#7201a8"
            ],
            [
             0.3333333333333333,
             "#9c179e"
            ],
            [
             0.4444444444444444,
             "#bd3786"
            ],
            [
             0.5555555555555556,
             "#d8576b"
            ],
            [
             0.6666666666666666,
             "#ed7953"
            ],
            [
             0.7777777777777778,
             "#fb9f3a"
            ],
            [
             0.8888888888888888,
             "#fdca26"
            ],
            [
             1,
             "#f0f921"
            ]
           ]
          },
          "colorway": [
           "#636efa",
           "#EF553B",
           "#00cc96",
           "#ab63fa",
           "#FFA15A",
           "#19d3f3",
           "#FF6692",
           "#B6E880",
           "#FF97FF",
           "#FECB52"
          ],
          "font": {
           "color": "#2a3f5f"
          },
          "geo": {
           "bgcolor": "white",
           "lakecolor": "white",
           "landcolor": "#E5ECF6",
           "showlakes": true,
           "showland": true,
           "subunitcolor": "white"
          },
          "hoverlabel": {
           "align": "left"
          },
          "hovermode": "closest",
          "mapbox": {
           "style": "light"
          },
          "paper_bgcolor": "white",
          "plot_bgcolor": "#E5ECF6",
          "polar": {
           "angularaxis": {
            "gridcolor": "white",
            "linecolor": "white",
            "ticks": ""
           },
           "bgcolor": "#E5ECF6",
           "radialaxis": {
            "gridcolor": "white",
            "linecolor": "white",
            "ticks": ""
           }
          },
          "scene": {
           "xaxis": {
            "backgroundcolor": "#E5ECF6",
            "gridcolor": "white",
            "gridwidth": 2,
            "linecolor": "white",
            "showbackground": true,
            "ticks": "",
            "zerolinecolor": "white"
           },
           "yaxis": {
            "backgroundcolor": "#E5ECF6",
            "gridcolor": "white",
            "gridwidth": 2,
            "linecolor": "white",
            "showbackground": true,
            "ticks": "",
            "zerolinecolor": "white"
           },
           "zaxis": {
            "backgroundcolor": "#E5ECF6",
            "gridcolor": "white",
            "gridwidth": 2,
            "linecolor": "white",
            "showbackground": true,
            "ticks": "",
            "zerolinecolor": "white"
           }
          },
          "shapedefaults": {
           "line": {
            "color": "#2a3f5f"
           }
          },
          "ternary": {
           "aaxis": {
            "gridcolor": "white",
            "linecolor": "white",
            "ticks": ""
           },
           "baxis": {
            "gridcolor": "white",
            "linecolor": "white",
            "ticks": ""
           },
           "bgcolor": "#E5ECF6",
           "caxis": {
            "gridcolor": "white",
            "linecolor": "white",
            "ticks": ""
           }
          },
          "title": {
           "x": 0.05
          },
          "xaxis": {
           "automargin": true,
           "gridcolor": "white",
           "linecolor": "white",
           "ticks": "",
           "title": {
            "standoff": 15
           },
           "zerolinecolor": "white",
           "zerolinewidth": 2
          },
          "yaxis": {
           "automargin": true,
           "gridcolor": "white",
           "linecolor": "white",
           "ticks": "",
           "title": {
            "standoff": 15
           },
           "zerolinecolor": "white",
           "zerolinewidth": 2
          }
         }
        },
        "title": {
         "text": "Mean new symptomatic infections per 100,000 for different vaccine efficacies, immunity effects and scenarios<br>Kenya"
        },
        "width": 1100,
        "xaxis": {
         "anchor": "y",
         "domain": [
          0,
          0.45
         ],
         "linecolor": "black"
        },
        "xaxis2": {
         "anchor": "y2",
         "domain": [
          0.55,
          1
         ],
         "linecolor": "black"
        },
        "yaxis": {
         "anchor": "x",
         "domain": [
          0,
          1
         ],
         "linecolor": "black"
        },
        "yaxis2": {
         "anchor": "x2",
         "domain": [
          0,
          1
         ],
         "matches": "y",
         "showticklabels": false,
         "visible": false
        }
       }
      }
     },
     "metadata": {},
     "output_type": "display_data"
    },
    {
     "data": {
      "application/vnd.plotly.v1+json": {
       "config": {
        "plotlyServerURL": "https://plot.ly"
       },
       "data": [
        {
         "marker": {
          "color": "blue"
         },
         "name": "Strategy 1",
         "type": "bar",
         "x": [
          "Increased immunity<br>",
          "Original estimates<br>",
          "Decreased immunity<br>"
         ],
         "xaxis": "x",
         "y": [
          14892.38399128053,
          15954.328956074383,
          16244.95455356175
         ],
         "yaxis": "y"
        },
        {
         "marker": {
          "color": "orange"
         },
         "name": "Strategy 2",
         "type": "bar",
         "x": [
          "Increased immunity<br>",
          "Original estimates<br>",
          "Decreased immunity<br>"
         ],
         "xaxis": "x",
         "y": [
          14892.383991285438,
          15954.328956065296,
          16244.954553609188
         ],
         "yaxis": "y"
        },
        {
         "marker": {
          "color": "green"
         },
         "name": "Strategy 3",
         "type": "bar",
         "x": [
          "Increased immunity<br>",
          "Original estimates<br>",
          "Decreased immunity<br>"
         ],
         "xaxis": "x",
         "y": [
          14939.814830729727,
          16022.702848257328,
          16331.312010204358
         ],
         "yaxis": "y"
        },
        {
         "marker": {
          "color": "red"
         },
         "name": "Strategy 4",
         "type": "bar",
         "x": [
          "Increased immunity<br>",
          "Original estimates<br>",
          "Decreased immunity<br>"
         ],
         "xaxis": "x",
         "y": [
          14954.37362787437,
          16072.806651531551,
          16397.889093034162
         ],
         "yaxis": "y"
        },
        {
         "marker": {
          "color": "purple"
         },
         "name": "Strategy 5",
         "type": "bar",
         "x": [
          "Increased immunity<br>",
          "Original estimates<br>",
          "Decreased immunity<br>"
         ],
         "xaxis": "x",
         "y": [
          15103.64633412298,
          16230.04587318595,
          16592.587982743993
         ],
         "yaxis": "y"
        },
        {
         "marker": {
          "color": "deepskyblue"
         },
         "name": "Strategy 6",
         "type": "bar",
         "x": [
          "Increased immunity<br>",
          "Original estimates<br>",
          "Decreased immunity<br>"
         ],
         "xaxis": "x",
         "y": [
          15103.646334122954,
          16230.045873177243,
          16592.587982697725
         ],
         "yaxis": "y"
        },
        {
         "marker": {
          "color": "black"
         },
         "name": "No boosters",
         "type": "bar",
         "x": [
          "Increased immunity<br>",
          "Original estimates<br>",
          "Decreased immunity<br>"
         ],
         "xaxis": "x",
         "y": [
          15175.004848031142,
          16312.20238637107,
          16694.013477986915
         ],
         "yaxis": "y"
        },
        {
         "marker": {
          "color": "blue"
         },
         "name": "Strategy 1",
         "showlegend": false,
         "type": "bar",
         "x": [
          "Increased immunity<br>",
          "Original estimates<br>",
          "Decreased immunity<br>"
         ],
         "xaxis": "x2",
         "y": [
          15184.042277522025,
          16237.325406150987,
          16514.870815353595
         ],
         "yaxis": "y2"
        },
        {
         "marker": {
          "color": "orange"
         },
         "name": "Strategy 2",
         "showlegend": false,
         "type": "bar",
         "x": [
          "Increased immunity<br>",
          "Original estimates<br>",
          "Decreased immunity<br>"
         ],
         "xaxis": "x2",
         "y": [
          15184.042277504494,
          16237.325406133376,
          16514.870815326187
         ],
         "yaxis": "y2"
        },
        {
         "marker": {
          "color": "green"
         },
         "name": "Strategy 3",
         "showlegend": false,
         "type": "bar",
         "x": [
          "Increased immunity<br>",
          "Original estimates<br>",
          "Decreased immunity<br>"
         ],
         "xaxis": "x2",
         "y": [
          15225.026824340068,
          16296.588386188114,
          16590.553309335075
         ],
         "yaxis": "y2"
        },
        {
         "marker": {
          "color": "red"
         },
         "name": "Strategy 4",
         "showlegend": false,
         "type": "bar",
         "x": [
          "Increased immunity<br>",
          "Original estimates<br>",
          "Decreased immunity<br>"
         ],
         "xaxis": "x2",
         "y": [
          15237.823567653093,
          16340.982825058132,
          16650.31120303913
         ],
         "yaxis": "y2"
        },
        {
         "marker": {
          "color": "purple"
         },
         "name": "Strategy 5",
         "showlegend": false,
         "type": "bar",
         "x": [
          "Increased immunity<br>",
          "Original estimates<br>",
          "Decreased immunity<br>"
         ],
         "xaxis": "x2",
         "y": [
          15370.00445987126,
          16482.25423311979,
          16827.621726097677
         ],
         "yaxis": "y2"
        },
        {
         "marker": {
          "color": "deepskyblue"
         },
         "name": "Strategy 6",
         "showlegend": false,
         "type": "bar",
         "x": [
          "Increased immunity<br>",
          "Original estimates<br>",
          "Decreased immunity<br>"
         ],
         "xaxis": "x2",
         "y": [
          15370.004459872744,
          16482.254233115917,
          16827.62172604321
         ],
         "yaxis": "y2"
        },
        {
         "marker": {
          "color": "black"
         },
         "name": "No boosters",
         "showlegend": false,
         "type": "bar",
         "x": [
          "Increased immunity<br>",
          "Original estimates<br>",
          "Decreased immunity<br>"
         ],
         "xaxis": "x2",
         "y": [
          15431.983940496128,
          16555.050225201456,
          16919.09662594325
         ],
         "yaxis": "y2"
        }
       ],
       "layout": {
        "annotations": [
         {
          "font": {
           "size": 16
          },
          "showarrow": false,
          "text": "No reduction",
          "x": 0.225,
          "xanchor": "center",
          "xref": "paper",
          "y": -0.05,
          "yanchor": "top",
          "yref": "paper"
         },
         {
          "font": {
           "size": 16
          },
          "showarrow": false,
          "text": "20% reduced",
          "x": 0.775,
          "xanchor": "center",
          "xref": "paper",
          "y": -0.05,
          "yanchor": "top",
          "yref": "paper"
         }
        ],
        "boxmode": "group",
        "height": 600,
        "hovermode": "x unified",
        "legend": {
         "orientation": "h",
         "x": 1.2,
         "xanchor": "right",
         "y": 0.98,
         "yanchor": "bottom"
        },
        "plot_bgcolor": "white",
        "template": {
         "data": {
          "bar": [
           {
            "error_x": {
             "color": "#2a3f5f"
            },
            "error_y": {
             "color": "#2a3f5f"
            },
            "marker": {
             "line": {
              "color": "#E5ECF6",
              "width": 0.5
             },
             "pattern": {
              "fillmode": "overlay",
              "size": 10,
              "solidity": 0.2
             }
            },
            "type": "bar"
           }
          ],
          "barpolar": [
           {
            "marker": {
             "line": {
              "color": "#E5ECF6",
              "width": 0.5
             },
             "pattern": {
              "fillmode": "overlay",
              "size": 10,
              "solidity": 0.2
             }
            },
            "type": "barpolar"
           }
          ],
          "carpet": [
           {
            "aaxis": {
             "endlinecolor": "#2a3f5f",
             "gridcolor": "white",
             "linecolor": "white",
             "minorgridcolor": "white",
             "startlinecolor": "#2a3f5f"
            },
            "baxis": {
             "endlinecolor": "#2a3f5f",
             "gridcolor": "white",
             "linecolor": "white",
             "minorgridcolor": "white",
             "startlinecolor": "#2a3f5f"
            },
            "type": "carpet"
           }
          ],
          "choropleth": [
           {
            "colorbar": {
             "outlinewidth": 0,
             "ticks": ""
            },
            "type": "choropleth"
           }
          ],
          "contour": [
           {
            "colorbar": {
             "outlinewidth": 0,
             "ticks": ""
            },
            "colorscale": [
             [
              0,
              "#0d0887"
             ],
             [
              0.1111111111111111,
              "#46039f"
             ],
             [
              0.2222222222222222,
              "#7201a8"
             ],
             [
              0.3333333333333333,
              "#9c179e"
             ],
             [
              0.4444444444444444,
              "#bd3786"
             ],
             [
              0.5555555555555556,
              "#d8576b"
             ],
             [
              0.6666666666666666,
              "#ed7953"
             ],
             [
              0.7777777777777778,
              "#fb9f3a"
             ],
             [
              0.8888888888888888,
              "#fdca26"
             ],
             [
              1,
              "#f0f921"
             ]
            ],
            "type": "contour"
           }
          ],
          "contourcarpet": [
           {
            "colorbar": {
             "outlinewidth": 0,
             "ticks": ""
            },
            "type": "contourcarpet"
           }
          ],
          "heatmap": [
           {
            "colorbar": {
             "outlinewidth": 0,
             "ticks": ""
            },
            "colorscale": [
             [
              0,
              "#0d0887"
             ],
             [
              0.1111111111111111,
              "#46039f"
             ],
             [
              0.2222222222222222,
              "#7201a8"
             ],
             [
              0.3333333333333333,
              "#9c179e"
             ],
             [
              0.4444444444444444,
              "#bd3786"
             ],
             [
              0.5555555555555556,
              "#d8576b"
             ],
             [
              0.6666666666666666,
              "#ed7953"
             ],
             [
              0.7777777777777778,
              "#fb9f3a"
             ],
             [
              0.8888888888888888,
              "#fdca26"
             ],
             [
              1,
              "#f0f921"
             ]
            ],
            "type": "heatmap"
           }
          ],
          "heatmapgl": [
           {
            "colorbar": {
             "outlinewidth": 0,
             "ticks": ""
            },
            "colorscale": [
             [
              0,
              "#0d0887"
             ],
             [
              0.1111111111111111,
              "#46039f"
             ],
             [
              0.2222222222222222,
              "#7201a8"
             ],
             [
              0.3333333333333333,
              "#9c179e"
             ],
             [
              0.4444444444444444,
              "#bd3786"
             ],
             [
              0.5555555555555556,
              "#d8576b"
             ],
             [
              0.6666666666666666,
              "#ed7953"
             ],
             [
              0.7777777777777778,
              "#fb9f3a"
             ],
             [
              0.8888888888888888,
              "#fdca26"
             ],
             [
              1,
              "#f0f921"
             ]
            ],
            "type": "heatmapgl"
           }
          ],
          "histogram": [
           {
            "marker": {
             "pattern": {
              "fillmode": "overlay",
              "size": 10,
              "solidity": 0.2
             }
            },
            "type": "histogram"
           }
          ],
          "histogram2d": [
           {
            "colorbar": {
             "outlinewidth": 0,
             "ticks": ""
            },
            "colorscale": [
             [
              0,
              "#0d0887"
             ],
             [
              0.1111111111111111,
              "#46039f"
             ],
             [
              0.2222222222222222,
              "#7201a8"
             ],
             [
              0.3333333333333333,
              "#9c179e"
             ],
             [
              0.4444444444444444,
              "#bd3786"
             ],
             [
              0.5555555555555556,
              "#d8576b"
             ],
             [
              0.6666666666666666,
              "#ed7953"
             ],
             [
              0.7777777777777778,
              "#fb9f3a"
             ],
             [
              0.8888888888888888,
              "#fdca26"
             ],
             [
              1,
              "#f0f921"
             ]
            ],
            "type": "histogram2d"
           }
          ],
          "histogram2dcontour": [
           {
            "colorbar": {
             "outlinewidth": 0,
             "ticks": ""
            },
            "colorscale": [
             [
              0,
              "#0d0887"
             ],
             [
              0.1111111111111111,
              "#46039f"
             ],
             [
              0.2222222222222222,
              "#7201a8"
             ],
             [
              0.3333333333333333,
              "#9c179e"
             ],
             [
              0.4444444444444444,
              "#bd3786"
             ],
             [
              0.5555555555555556,
              "#d8576b"
             ],
             [
              0.6666666666666666,
              "#ed7953"
             ],
             [
              0.7777777777777778,
              "#fb9f3a"
             ],
             [
              0.8888888888888888,
              "#fdca26"
             ],
             [
              1,
              "#f0f921"
             ]
            ],
            "type": "histogram2dcontour"
           }
          ],
          "mesh3d": [
           {
            "colorbar": {
             "outlinewidth": 0,
             "ticks": ""
            },
            "type": "mesh3d"
           }
          ],
          "parcoords": [
           {
            "line": {
             "colorbar": {
              "outlinewidth": 0,
              "ticks": ""
             }
            },
            "type": "parcoords"
           }
          ],
          "pie": [
           {
            "automargin": true,
            "type": "pie"
           }
          ],
          "scatter": [
           {
            "fillpattern": {
             "fillmode": "overlay",
             "size": 10,
             "solidity": 0.2
            },
            "type": "scatter"
           }
          ],
          "scatter3d": [
           {
            "line": {
             "colorbar": {
              "outlinewidth": 0,
              "ticks": ""
             }
            },
            "marker": {
             "colorbar": {
              "outlinewidth": 0,
              "ticks": ""
             }
            },
            "type": "scatter3d"
           }
          ],
          "scattercarpet": [
           {
            "marker": {
             "colorbar": {
              "outlinewidth": 0,
              "ticks": ""
             }
            },
            "type": "scattercarpet"
           }
          ],
          "scattergeo": [
           {
            "marker": {
             "colorbar": {
              "outlinewidth": 0,
              "ticks": ""
             }
            },
            "type": "scattergeo"
           }
          ],
          "scattergl": [
           {
            "marker": {
             "colorbar": {
              "outlinewidth": 0,
              "ticks": ""
             }
            },
            "type": "scattergl"
           }
          ],
          "scattermapbox": [
           {
            "marker": {
             "colorbar": {
              "outlinewidth": 0,
              "ticks": ""
             }
            },
            "type": "scattermapbox"
           }
          ],
          "scatterpolar": [
           {
            "marker": {
             "colorbar": {
              "outlinewidth": 0,
              "ticks": ""
             }
            },
            "type": "scatterpolar"
           }
          ],
          "scatterpolargl": [
           {
            "marker": {
             "colorbar": {
              "outlinewidth": 0,
              "ticks": ""
             }
            },
            "type": "scatterpolargl"
           }
          ],
          "scatterternary": [
           {
            "marker": {
             "colorbar": {
              "outlinewidth": 0,
              "ticks": ""
             }
            },
            "type": "scatterternary"
           }
          ],
          "surface": [
           {
            "colorbar": {
             "outlinewidth": 0,
             "ticks": ""
            },
            "colorscale": [
             [
              0,
              "#0d0887"
             ],
             [
              0.1111111111111111,
              "#46039f"
             ],
             [
              0.2222222222222222,
              "#7201a8"
             ],
             [
              0.3333333333333333,
              "#9c179e"
             ],
             [
              0.4444444444444444,
              "#bd3786"
             ],
             [
              0.5555555555555556,
              "#d8576b"
             ],
             [
              0.6666666666666666,
              "#ed7953"
             ],
             [
              0.7777777777777778,
              "#fb9f3a"
             ],
             [
              0.8888888888888888,
              "#fdca26"
             ],
             [
              1,
              "#f0f921"
             ]
            ],
            "type": "surface"
           }
          ],
          "table": [
           {
            "cells": {
             "fill": {
              "color": "#EBF0F8"
             },
             "line": {
              "color": "white"
             }
            },
            "header": {
             "fill": {
              "color": "#C8D4E3"
             },
             "line": {
              "color": "white"
             }
            },
            "type": "table"
           }
          ]
         },
         "layout": {
          "annotationdefaults": {
           "arrowcolor": "#2a3f5f",
           "arrowhead": 0,
           "arrowwidth": 1
          },
          "autotypenumbers": "strict",
          "coloraxis": {
           "colorbar": {
            "outlinewidth": 0,
            "ticks": ""
           }
          },
          "colorscale": {
           "diverging": [
            [
             0,
             "#8e0152"
            ],
            [
             0.1,
             "#c51b7d"
            ],
            [
             0.2,
             "#de77ae"
            ],
            [
             0.3,
             "#f1b6da"
            ],
            [
             0.4,
             "#fde0ef"
            ],
            [
             0.5,
             "#f7f7f7"
            ],
            [
             0.6,
             "#e6f5d0"
            ],
            [
             0.7,
             "#b8e186"
            ],
            [
             0.8,
             "#7fbc41"
            ],
            [
             0.9,
             "#4d9221"
            ],
            [
             1,
             "#276419"
            ]
           ],
           "sequential": [
            [
             0,
             "#0d0887"
            ],
            [
             0.1111111111111111,
             "#46039f"
            ],
            [
             0.2222222222222222,
             "#7201a8"
            ],
            [
             0.3333333333333333,
             "#9c179e"
            ],
            [
             0.4444444444444444,
             "#bd3786"
            ],
            [
             0.5555555555555556,
             "#d8576b"
            ],
            [
             0.6666666666666666,
             "#ed7953"
            ],
            [
             0.7777777777777778,
             "#fb9f3a"
            ],
            [
             0.8888888888888888,
             "#fdca26"
            ],
            [
             1,
             "#f0f921"
            ]
           ],
           "sequentialminus": [
            [
             0,
             "#0d0887"
            ],
            [
             0.1111111111111111,
             "#46039f"
            ],
            [
             0.2222222222222222,
             "#7201a8"
            ],
            [
             0.3333333333333333,
             "#9c179e"
            ],
            [
             0.4444444444444444,
             "#bd3786"
            ],
            [
             0.5555555555555556,
             "#d8576b"
            ],
            [
             0.6666666666666666,
             "#ed7953"
            ],
            [
             0.7777777777777778,
             "#fb9f3a"
            ],
            [
             0.8888888888888888,
             "#fdca26"
            ],
            [
             1,
             "#f0f921"
            ]
           ]
          },
          "colorway": [
           "#636efa",
           "#EF553B",
           "#00cc96",
           "#ab63fa",
           "#FFA15A",
           "#19d3f3",
           "#FF6692",
           "#B6E880",
           "#FF97FF",
           "#FECB52"
          ],
          "font": {
           "color": "#2a3f5f"
          },
          "geo": {
           "bgcolor": "white",
           "lakecolor": "white",
           "landcolor": "#E5ECF6",
           "showlakes": true,
           "showland": true,
           "subunitcolor": "white"
          },
          "hoverlabel": {
           "align": "left"
          },
          "hovermode": "closest",
          "mapbox": {
           "style": "light"
          },
          "paper_bgcolor": "white",
          "plot_bgcolor": "#E5ECF6",
          "polar": {
           "angularaxis": {
            "gridcolor": "white",
            "linecolor": "white",
            "ticks": ""
           },
           "bgcolor": "#E5ECF6",
           "radialaxis": {
            "gridcolor": "white",
            "linecolor": "white",
            "ticks": ""
           }
          },
          "scene": {
           "xaxis": {
            "backgroundcolor": "#E5ECF6",
            "gridcolor": "white",
            "gridwidth": 2,
            "linecolor": "white",
            "showbackground": true,
            "ticks": "",
            "zerolinecolor": "white"
           },
           "yaxis": {
            "backgroundcolor": "#E5ECF6",
            "gridcolor": "white",
            "gridwidth": 2,
            "linecolor": "white",
            "showbackground": true,
            "ticks": "",
            "zerolinecolor": "white"
           },
           "zaxis": {
            "backgroundcolor": "#E5ECF6",
            "gridcolor": "white",
            "gridwidth": 2,
            "linecolor": "white",
            "showbackground": true,
            "ticks": "",
            "zerolinecolor": "white"
           }
          },
          "shapedefaults": {
           "line": {
            "color": "#2a3f5f"
           }
          },
          "ternary": {
           "aaxis": {
            "gridcolor": "white",
            "linecolor": "white",
            "ticks": ""
           },
           "baxis": {
            "gridcolor": "white",
            "linecolor": "white",
            "ticks": ""
           },
           "bgcolor": "#E5ECF6",
           "caxis": {
            "gridcolor": "white",
            "linecolor": "white",
            "ticks": ""
           }
          },
          "title": {
           "x": 0.05
          },
          "xaxis": {
           "automargin": true,
           "gridcolor": "white",
           "linecolor": "white",
           "ticks": "",
           "title": {
            "standoff": 15
           },
           "zerolinecolor": "white",
           "zerolinewidth": 2
          },
          "yaxis": {
           "automargin": true,
           "gridcolor": "white",
           "linecolor": "white",
           "ticks": "",
           "title": {
            "standoff": 15
           },
           "zerolinecolor": "white",
           "zerolinewidth": 2
          }
         }
        },
        "title": {
         "text": "Mean new symptomatic infections per 100,000 for different vaccine efficacies, immunity effects and scenarios<br>Philippines"
        },
        "width": 1100,
        "xaxis": {
         "anchor": "y",
         "domain": [
          0,
          0.45
         ],
         "linecolor": "black"
        },
        "xaxis2": {
         "anchor": "y2",
         "domain": [
          0.55,
          1
         ],
         "linecolor": "black"
        },
        "yaxis": {
         "anchor": "x",
         "domain": [
          0,
          1
         ],
         "linecolor": "black"
        },
        "yaxis2": {
         "anchor": "x2",
         "domain": [
          0,
          1
         ],
         "matches": "y",
         "showticklabels": false,
         "visible": false
        }
       }
      }
     },
     "metadata": {},
     "output_type": "display_data"
    },
    {
     "data": {
      "application/vnd.plotly.v1+json": {
       "config": {
        "plotlyServerURL": "https://plot.ly"
       },
       "data": [
        {
         "marker": {
          "color": "blue"
         },
         "name": "Strategy 1",
         "type": "bar",
         "x": [
          "Increased immunity<br>",
          "Original estimates<br>",
          "Decreased immunity<br>"
         ],
         "xaxis": "x",
         "y": [
          10109.015284514526,
          10988.646099731683,
          11629.153780137505
         ],
         "yaxis": "y"
        },
        {
         "marker": {
          "color": "orange"
         },
         "name": "Strategy 2",
         "type": "bar",
         "x": [
          "Increased immunity<br>",
          "Original estimates<br>",
          "Decreased immunity<br>"
         ],
         "xaxis": "x",
         "y": [
          10109.015284505422,
          10988.646099730106,
          11629.1537801153
         ],
         "yaxis": "y"
        },
        {
         "marker": {
          "color": "green"
         },
         "name": "Strategy 3",
         "type": "bar",
         "x": [
          "Increased immunity<br>",
          "Original estimates<br>",
          "Decreased immunity<br>"
         ],
         "xaxis": "x",
         "y": [
          10109.015284494933,
          10988.646099757167,
          11629.153780153083
         ],
         "yaxis": "y"
        },
        {
         "marker": {
          "color": "red"
         },
         "name": "Strategy 4",
         "type": "bar",
         "x": [
          "Increased immunity<br>",
          "Original estimates<br>",
          "Decreased immunity<br>"
         ],
         "xaxis": "x",
         "y": [
          10109.015284518307,
          10988.646099764544,
          11629.15378015647
         ],
         "yaxis": "y"
        },
        {
         "marker": {
          "color": "purple"
         },
         "name": "Strategy 5",
         "type": "bar",
         "x": [
          "Increased immunity<br>",
          "Original estimates<br>",
          "Decreased immunity<br>"
         ],
         "xaxis": "x",
         "y": [
          10214.975281504325,
          11129.644089460395,
          11815.502902452974
         ],
         "yaxis": "y"
        },
        {
         "marker": {
          "color": "deepskyblue"
         },
         "name": "Strategy 6",
         "type": "bar",
         "x": [
          "Increased immunity<br>",
          "Original estimates<br>",
          "Decreased immunity<br>"
         ],
         "xaxis": "x",
         "y": [
          10214.975281498942,
          11129.6440894509,
          11815.502902520486
         ],
         "yaxis": "y"
        },
        {
         "marker": {
          "color": "black"
         },
         "name": "No boosters",
         "type": "bar",
         "x": [
          "Increased immunity<br>",
          "Original estimates<br>",
          "Decreased immunity<br>"
         ],
         "xaxis": "x",
         "y": [
          10265.010236010578,
          11192.188641888275,
          11896.534557805317
         ],
         "yaxis": "y"
        },
        {
         "marker": {
          "color": "blue"
         },
         "name": "Strategy 1",
         "showlegend": false,
         "type": "bar",
         "x": [
          "Increased immunity<br>",
          "Original estimates<br>",
          "Decreased immunity<br>"
         ],
         "xaxis": "x2",
         "y": [
          10294.67589697871,
          11174.593369272023,
          11807.41937145079
         ],
         "yaxis": "y2"
        },
        {
         "marker": {
          "color": "orange"
         },
         "name": "Strategy 2",
         "showlegend": false,
         "type": "bar",
         "x": [
          "Increased immunity<br>",
          "Original estimates<br>",
          "Decreased immunity<br>"
         ],
         "xaxis": "x2",
         "y": [
          10294.675896968567,
          11174.593369277693,
          11807.419371467931
         ],
         "yaxis": "y2"
        },
        {
         "marker": {
          "color": "green"
         },
         "name": "Strategy 3",
         "showlegend": false,
         "type": "bar",
         "x": [
          "Increased immunity<br>",
          "Original estimates<br>",
          "Decreased immunity<br>"
         ],
         "xaxis": "x2",
         "y": [
          10294.675896967194,
          11174.593369282542,
          11807.41937147324
         ],
         "yaxis": "y2"
        },
        {
         "marker": {
          "color": "red"
         },
         "name": "Strategy 4",
         "showlegend": false,
         "type": "bar",
         "x": [
          "Increased immunity<br>",
          "Original estimates<br>",
          "Decreased immunity<br>"
         ],
         "xaxis": "x2",
         "y": [
          10294.675896980683,
          11174.593369273993,
          11807.419371478438
         ],
         "yaxis": "y2"
        },
        {
         "marker": {
          "color": "purple"
         },
         "name": "Strategy 5",
         "showlegend": false,
         "type": "bar",
         "x": [
          "Increased immunity<br>",
          "Original estimates<br>",
          "Decreased immunity<br>"
         ],
         "xaxis": "x2",
         "y": [
          10387.288926222423,
          11299.226463122848,
          11974.509614152046
         ],
         "yaxis": "y2"
        },
        {
         "marker": {
          "color": "deepskyblue"
         },
         "name": "Strategy 6",
         "showlegend": false,
         "type": "bar",
         "x": [
          "Increased immunity<br>",
          "Original estimates<br>",
          "Decreased immunity<br>"
         ],
         "xaxis": "x2",
         "y": [
          10387.288926226363,
          11299.226463211724,
          11974.509614187264
         ],
         "yaxis": "y2"
        },
        {
         "marker": {
          "color": "black"
         },
         "name": "No boosters",
         "showlegend": false,
         "type": "bar",
         "x": [
          "Increased immunity<br>",
          "Original estimates<br>",
          "Decreased immunity<br>"
         ],
         "xaxis": "x2",
         "y": [
          10430.438845672943,
          11354.002765229106,
          12046.875160332744
         ],
         "yaxis": "y2"
        }
       ],
       "layout": {
        "annotations": [
         {
          "font": {
           "size": 16
          },
          "showarrow": false,
          "text": "No reduction",
          "x": 0.225,
          "xanchor": "center",
          "xref": "paper",
          "y": -0.05,
          "yanchor": "top",
          "yref": "paper"
         },
         {
          "font": {
           "size": 16
          },
          "showarrow": false,
          "text": "20% reduced",
          "x": 0.775,
          "xanchor": "center",
          "xref": "paper",
          "y": -0.05,
          "yanchor": "top",
          "yref": "paper"
         }
        ],
        "boxmode": "group",
        "height": 600,
        "hovermode": "x unified",
        "legend": {
         "orientation": "h",
         "x": 1.2,
         "xanchor": "right",
         "y": 0.98,
         "yanchor": "bottom"
        },
        "plot_bgcolor": "white",
        "template": {
         "data": {
          "bar": [
           {
            "error_x": {
             "color": "#2a3f5f"
            },
            "error_y": {
             "color": "#2a3f5f"
            },
            "marker": {
             "line": {
              "color": "#E5ECF6",
              "width": 0.5
             },
             "pattern": {
              "fillmode": "overlay",
              "size": 10,
              "solidity": 0.2
             }
            },
            "type": "bar"
           }
          ],
          "barpolar": [
           {
            "marker": {
             "line": {
              "color": "#E5ECF6",
              "width": 0.5
             },
             "pattern": {
              "fillmode": "overlay",
              "size": 10,
              "solidity": 0.2
             }
            },
            "type": "barpolar"
           }
          ],
          "carpet": [
           {
            "aaxis": {
             "endlinecolor": "#2a3f5f",
             "gridcolor": "white",
             "linecolor": "white",
             "minorgridcolor": "white",
             "startlinecolor": "#2a3f5f"
            },
            "baxis": {
             "endlinecolor": "#2a3f5f",
             "gridcolor": "white",
             "linecolor": "white",
             "minorgridcolor": "white",
             "startlinecolor": "#2a3f5f"
            },
            "type": "carpet"
           }
          ],
          "choropleth": [
           {
            "colorbar": {
             "outlinewidth": 0,
             "ticks": ""
            },
            "type": "choropleth"
           }
          ],
          "contour": [
           {
            "colorbar": {
             "outlinewidth": 0,
             "ticks": ""
            },
            "colorscale": [
             [
              0,
              "#0d0887"
             ],
             [
              0.1111111111111111,
              "#46039f"
             ],
             [
              0.2222222222222222,
              "#7201a8"
             ],
             [
              0.3333333333333333,
              "#9c179e"
             ],
             [
              0.4444444444444444,
              "#bd3786"
             ],
             [
              0.5555555555555556,
              "#d8576b"
             ],
             [
              0.6666666666666666,
              "#ed7953"
             ],
             [
              0.7777777777777778,
              "#fb9f3a"
             ],
             [
              0.8888888888888888,
              "#fdca26"
             ],
             [
              1,
              "#f0f921"
             ]
            ],
            "type": "contour"
           }
          ],
          "contourcarpet": [
           {
            "colorbar": {
             "outlinewidth": 0,
             "ticks": ""
            },
            "type": "contourcarpet"
           }
          ],
          "heatmap": [
           {
            "colorbar": {
             "outlinewidth": 0,
             "ticks": ""
            },
            "colorscale": [
             [
              0,
              "#0d0887"
             ],
             [
              0.1111111111111111,
              "#46039f"
             ],
             [
              0.2222222222222222,
              "#7201a8"
             ],
             [
              0.3333333333333333,
              "#9c179e"
             ],
             [
              0.4444444444444444,
              "#bd3786"
             ],
             [
              0.5555555555555556,
              "#d8576b"
             ],
             [
              0.6666666666666666,
              "#ed7953"
             ],
             [
              0.7777777777777778,
              "#fb9f3a"
             ],
             [
              0.8888888888888888,
              "#fdca26"
             ],
             [
              1,
              "#f0f921"
             ]
            ],
            "type": "heatmap"
           }
          ],
          "heatmapgl": [
           {
            "colorbar": {
             "outlinewidth": 0,
             "ticks": ""
            },
            "colorscale": [
             [
              0,
              "#0d0887"
             ],
             [
              0.1111111111111111,
              "#46039f"
             ],
             [
              0.2222222222222222,
              "#7201a8"
             ],
             [
              0.3333333333333333,
              "#9c179e"
             ],
             [
              0.4444444444444444,
              "#bd3786"
             ],
             [
              0.5555555555555556,
              "#d8576b"
             ],
             [
              0.6666666666666666,
              "#ed7953"
             ],
             [
              0.7777777777777778,
              "#fb9f3a"
             ],
             [
              0.8888888888888888,
              "#fdca26"
             ],
             [
              1,
              "#f0f921"
             ]
            ],
            "type": "heatmapgl"
           }
          ],
          "histogram": [
           {
            "marker": {
             "pattern": {
              "fillmode": "overlay",
              "size": 10,
              "solidity": 0.2
             }
            },
            "type": "histogram"
           }
          ],
          "histogram2d": [
           {
            "colorbar": {
             "outlinewidth": 0,
             "ticks": ""
            },
            "colorscale": [
             [
              0,
              "#0d0887"
             ],
             [
              0.1111111111111111,
              "#46039f"
             ],
             [
              0.2222222222222222,
              "#7201a8"
             ],
             [
              0.3333333333333333,
              "#9c179e"
             ],
             [
              0.4444444444444444,
              "#bd3786"
             ],
             [
              0.5555555555555556,
              "#d8576b"
             ],
             [
              0.6666666666666666,
              "#ed7953"
             ],
             [
              0.7777777777777778,
              "#fb9f3a"
             ],
             [
              0.8888888888888888,
              "#fdca26"
             ],
             [
              1,
              "#f0f921"
             ]
            ],
            "type": "histogram2d"
           }
          ],
          "histogram2dcontour": [
           {
            "colorbar": {
             "outlinewidth": 0,
             "ticks": ""
            },
            "colorscale": [
             [
              0,
              "#0d0887"
             ],
             [
              0.1111111111111111,
              "#46039f"
             ],
             [
              0.2222222222222222,
              "#7201a8"
             ],
             [
              0.3333333333333333,
              "#9c179e"
             ],
             [
              0.4444444444444444,
              "#bd3786"
             ],
             [
              0.5555555555555556,
              "#d8576b"
             ],
             [
              0.6666666666666666,
              "#ed7953"
             ],
             [
              0.7777777777777778,
              "#fb9f3a"
             ],
             [
              0.8888888888888888,
              "#fdca26"
             ],
             [
              1,
              "#f0f921"
             ]
            ],
            "type": "histogram2dcontour"
           }
          ],
          "mesh3d": [
           {
            "colorbar": {
             "outlinewidth": 0,
             "ticks": ""
            },
            "type": "mesh3d"
           }
          ],
          "parcoords": [
           {
            "line": {
             "colorbar": {
              "outlinewidth": 0,
              "ticks": ""
             }
            },
            "type": "parcoords"
           }
          ],
          "pie": [
           {
            "automargin": true,
            "type": "pie"
           }
          ],
          "scatter": [
           {
            "fillpattern": {
             "fillmode": "overlay",
             "size": 10,
             "solidity": 0.2
            },
            "type": "scatter"
           }
          ],
          "scatter3d": [
           {
            "line": {
             "colorbar": {
              "outlinewidth": 0,
              "ticks": ""
             }
            },
            "marker": {
             "colorbar": {
              "outlinewidth": 0,
              "ticks": ""
             }
            },
            "type": "scatter3d"
           }
          ],
          "scattercarpet": [
           {
            "marker": {
             "colorbar": {
              "outlinewidth": 0,
              "ticks": ""
             }
            },
            "type": "scattercarpet"
           }
          ],
          "scattergeo": [
           {
            "marker": {
             "colorbar": {
              "outlinewidth": 0,
              "ticks": ""
             }
            },
            "type": "scattergeo"
           }
          ],
          "scattergl": [
           {
            "marker": {
             "colorbar": {
              "outlinewidth": 0,
              "ticks": ""
             }
            },
            "type": "scattergl"
           }
          ],
          "scattermapbox": [
           {
            "marker": {
             "colorbar": {
              "outlinewidth": 0,
              "ticks": ""
             }
            },
            "type": "scattermapbox"
           }
          ],
          "scatterpolar": [
           {
            "marker": {
             "colorbar": {
              "outlinewidth": 0,
              "ticks": ""
             }
            },
            "type": "scatterpolar"
           }
          ],
          "scatterpolargl": [
           {
            "marker": {
             "colorbar": {
              "outlinewidth": 0,
              "ticks": ""
             }
            },
            "type": "scatterpolargl"
           }
          ],
          "scatterternary": [
           {
            "marker": {
             "colorbar": {
              "outlinewidth": 0,
              "ticks": ""
             }
            },
            "type": "scatterternary"
           }
          ],
          "surface": [
           {
            "colorbar": {
             "outlinewidth": 0,
             "ticks": ""
            },
            "colorscale": [
             [
              0,
              "#0d0887"
             ],
             [
              0.1111111111111111,
              "#46039f"
             ],
             [
              0.2222222222222222,
              "#7201a8"
             ],
             [
              0.3333333333333333,
              "#9c179e"
             ],
             [
              0.4444444444444444,
              "#bd3786"
             ],
             [
              0.5555555555555556,
              "#d8576b"
             ],
             [
              0.6666666666666666,
              "#ed7953"
             ],
             [
              0.7777777777777778,
              "#fb9f3a"
             ],
             [
              0.8888888888888888,
              "#fdca26"
             ],
             [
              1,
              "#f0f921"
             ]
            ],
            "type": "surface"
           }
          ],
          "table": [
           {
            "cells": {
             "fill": {
              "color": "#EBF0F8"
             },
             "line": {
              "color": "white"
             }
            },
            "header": {
             "fill": {
              "color": "#C8D4E3"
             },
             "line": {
              "color": "white"
             }
            },
            "type": "table"
           }
          ]
         },
         "layout": {
          "annotationdefaults": {
           "arrowcolor": "#2a3f5f",
           "arrowhead": 0,
           "arrowwidth": 1
          },
          "autotypenumbers": "strict",
          "coloraxis": {
           "colorbar": {
            "outlinewidth": 0,
            "ticks": ""
           }
          },
          "colorscale": {
           "diverging": [
            [
             0,
             "#8e0152"
            ],
            [
             0.1,
             "#c51b7d"
            ],
            [
             0.2,
             "#de77ae"
            ],
            [
             0.3,
             "#f1b6da"
            ],
            [
             0.4,
             "#fde0ef"
            ],
            [
             0.5,
             "#f7f7f7"
            ],
            [
             0.6,
             "#e6f5d0"
            ],
            [
             0.7,
             "#b8e186"
            ],
            [
             0.8,
             "#7fbc41"
            ],
            [
             0.9,
             "#4d9221"
            ],
            [
             1,
             "#276419"
            ]
           ],
           "sequential": [
            [
             0,
             "#0d0887"
            ],
            [
             0.1111111111111111,
             "#46039f"
            ],
            [
             0.2222222222222222,
             "#7201a8"
            ],
            [
             0.3333333333333333,
             "#9c179e"
            ],
            [
             0.4444444444444444,
             "#bd3786"
            ],
            [
             0.5555555555555556,
             "#d8576b"
            ],
            [
             0.6666666666666666,
             "#ed7953"
            ],
            [
             0.7777777777777778,
             "#fb9f3a"
            ],
            [
             0.8888888888888888,
             "#fdca26"
            ],
            [
             1,
             "#f0f921"
            ]
           ],
           "sequentialminus": [
            [
             0,
             "#0d0887"
            ],
            [
             0.1111111111111111,
             "#46039f"
            ],
            [
             0.2222222222222222,
             "#7201a8"
            ],
            [
             0.3333333333333333,
             "#9c179e"
            ],
            [
             0.4444444444444444,
             "#bd3786"
            ],
            [
             0.5555555555555556,
             "#d8576b"
            ],
            [
             0.6666666666666666,
             "#ed7953"
            ],
            [
             0.7777777777777778,
             "#fb9f3a"
            ],
            [
             0.8888888888888888,
             "#fdca26"
            ],
            [
             1,
             "#f0f921"
            ]
           ]
          },
          "colorway": [
           "#636efa",
           "#EF553B",
           "#00cc96",
           "#ab63fa",
           "#FFA15A",
           "#19d3f3",
           "#FF6692",
           "#B6E880",
           "#FF97FF",
           "#FECB52"
          ],
          "font": {
           "color": "#2a3f5f"
          },
          "geo": {
           "bgcolor": "white",
           "lakecolor": "white",
           "landcolor": "#E5ECF6",
           "showlakes": true,
           "showland": true,
           "subunitcolor": "white"
          },
          "hoverlabel": {
           "align": "left"
          },
          "hovermode": "closest",
          "mapbox": {
           "style": "light"
          },
          "paper_bgcolor": "white",
          "plot_bgcolor": "#E5ECF6",
          "polar": {
           "angularaxis": {
            "gridcolor": "white",
            "linecolor": "white",
            "ticks": ""
           },
           "bgcolor": "#E5ECF6",
           "radialaxis": {
            "gridcolor": "white",
            "linecolor": "white",
            "ticks": ""
           }
          },
          "scene": {
           "xaxis": {
            "backgroundcolor": "#E5ECF6",
            "gridcolor": "white",
            "gridwidth": 2,
            "linecolor": "white",
            "showbackground": true,
            "ticks": "",
            "zerolinecolor": "white"
           },
           "yaxis": {
            "backgroundcolor": "#E5ECF6",
            "gridcolor": "white",
            "gridwidth": 2,
            "linecolor": "white",
            "showbackground": true,
            "ticks": "",
            "zerolinecolor": "white"
           },
           "zaxis": {
            "backgroundcolor": "#E5ECF6",
            "gridcolor": "white",
            "gridwidth": 2,
            "linecolor": "white",
            "showbackground": true,
            "ticks": "",
            "zerolinecolor": "white"
           }
          },
          "shapedefaults": {
           "line": {
            "color": "#2a3f5f"
           }
          },
          "ternary": {
           "aaxis": {
            "gridcolor": "white",
            "linecolor": "white",
            "ticks": ""
           },
           "baxis": {
            "gridcolor": "white",
            "linecolor": "white",
            "ticks": ""
           },
           "bgcolor": "#E5ECF6",
           "caxis": {
            "gridcolor": "white",
            "linecolor": "white",
            "ticks": ""
           }
          },
          "title": {
           "x": 0.05
          },
          "xaxis": {
           "automargin": true,
           "gridcolor": "white",
           "linecolor": "white",
           "ticks": "",
           "title": {
            "standoff": 15
           },
           "zerolinecolor": "white",
           "zerolinewidth": 2
          },
          "yaxis": {
           "automargin": true,
           "gridcolor": "white",
           "linecolor": "white",
           "ticks": "",
           "title": {
            "standoff": 15
           },
           "zerolinecolor": "white",
           "zerolinewidth": 2
          }
         }
        },
        "title": {
         "text": "Mean new symptomatic infections per 100,000 for different vaccine efficacies, immunity effects and scenarios<br>Sierra Leone"
        },
        "width": 1100,
        "xaxis": {
         "anchor": "y",
         "domain": [
          0,
          0.45
         ],
         "linecolor": "black"
        },
        "xaxis2": {
         "anchor": "y2",
         "domain": [
          0.55,
          1
         ],
         "linecolor": "black"
        },
        "yaxis": {
         "anchor": "x",
         "domain": [
          0,
          1
         ],
         "linecolor": "black"
        },
        "yaxis2": {
         "anchor": "x2",
         "domain": [
          0,
          1
         ],
         "matches": "y",
         "showticklabels": false,
         "visible": false
        }
       }
      }
     },
     "metadata": {},
     "output_type": "display_data"
    },
    {
     "data": {
      "application/vnd.plotly.v1+json": {
       "config": {
        "plotlyServerURL": "https://plot.ly"
       },
       "data": [
        {
         "marker": {
          "color": "blue"
         },
         "name": "Strategy 1",
         "type": "bar",
         "x": [
          "Increased immunity<br>",
          "Original estimates<br>",
          "Decreased immunity<br>"
         ],
         "xaxis": "x",
         "y": [
          13888.618393256238,
          14870.46019928564,
          15185.150850782029
         ],
         "yaxis": "y"
        },
        {
         "marker": {
          "color": "orange"
         },
         "name": "Strategy 2",
         "type": "bar",
         "x": [
          "Increased immunity<br>",
          "Original estimates<br>",
          "Decreased immunity<br>"
         ],
         "xaxis": "x",
         "y": [
          13888.618393251494,
          14870.460199279356,
          15185.150850747748
         ],
         "yaxis": "y"
        },
        {
         "marker": {
          "color": "green"
         },
         "name": "Strategy 3",
         "type": "bar",
         "x": [
          "Increased immunity<br>",
          "Original estimates<br>",
          "Decreased immunity<br>"
         ],
         "xaxis": "x",
         "y": [
          13979.93271813128,
          14979.165514921002,
          15306.462360760961
         ],
         "yaxis": "y"
        },
        {
         "marker": {
          "color": "red"
         },
         "name": "Strategy 4",
         "type": "bar",
         "x": [
          "Increased immunity<br>",
          "Original estimates<br>",
          "Decreased immunity<br>"
         ],
         "xaxis": "x",
         "y": [
          14011.99420913669,
          15021.133849614549,
          15353.173971550164
         ],
         "yaxis": "y"
        },
        {
         "marker": {
          "color": "purple"
         },
         "name": "Strategy 5",
         "type": "bar",
         "x": [
          "Increased immunity<br>",
          "Original estimates<br>",
          "Decreased immunity<br>"
         ],
         "xaxis": "x",
         "y": [
          14273.436415693048,
          15320.849473192768,
          15685.528329177025
         ],
         "yaxis": "y"
        },
        {
         "marker": {
          "color": "deepskyblue"
         },
         "name": "Strategy 6",
         "type": "bar",
         "x": [
          "Increased immunity<br>",
          "Original estimates<br>",
          "Decreased immunity<br>"
         ],
         "xaxis": "x",
         "y": [
          14273.436415691503,
          15320.84947318387,
          15685.528329177145
         ],
         "yaxis": "y"
        },
        {
         "marker": {
          "color": "black"
         },
         "name": "No boosters",
         "type": "bar",
         "x": [
          "Increased immunity<br>",
          "Original estimates<br>",
          "Decreased immunity<br>"
         ],
         "xaxis": "x",
         "y": [
          14391.404758634388,
          15457.405229398617,
          15836.44292999219
         ],
         "yaxis": "y"
        },
        {
         "marker": {
          "color": "blue"
         },
         "name": "Strategy 1",
         "showlegend": false,
         "type": "bar",
         "x": [
          "Increased immunity<br>",
          "Original estimates<br>",
          "Decreased immunity<br>"
         ],
         "xaxis": "x2",
         "y": [
          14155.079095620666,
          15147.32600532423,
          15459.956815331287
         ],
         "yaxis": "y2"
        },
        {
         "marker": {
          "color": "orange"
         },
         "name": "Strategy 2",
         "showlegend": false,
         "type": "bar",
         "x": [
          "Increased immunity<br>",
          "Original estimates<br>",
          "Decreased immunity<br>"
         ],
         "xaxis": "x2",
         "y": [
          14155.079095599409,
          15147.326005316627,
          15459.956815342104
         ],
         "yaxis": "y2"
        },
        {
         "marker": {
          "color": "green"
         },
         "name": "Strategy 3",
         "showlegend": false,
         "type": "bar",
         "x": [
          "Increased immunity<br>",
          "Original estimates<br>",
          "Decreased immunity<br>"
         ],
         "xaxis": "x2",
         "y": [
          14236.299961246987,
          15244.365864732783,
          15568.607275444725
         ],
         "yaxis": "y2"
        },
        {
         "marker": {
          "color": "red"
         },
         "name": "Strategy 4",
         "showlegend": false,
         "type": "bar",
         "x": [
          "Increased immunity<br>",
          "Original estimates<br>",
          "Decreased immunity<br>"
         ],
         "xaxis": "x2",
         "y": [
          14265.443263504496,
          15282.832717310223,
          15611.660194273172
         ],
         "yaxis": "y2"
        },
        {
         "marker": {
          "color": "purple"
         },
         "name": "Strategy 5",
         "showlegend": false,
         "type": "bar",
         "x": [
          "Increased immunity<br>",
          "Original estimates<br>",
          "Decreased immunity<br>"
         ],
         "xaxis": "x2",
         "y": [
          14504.688999317685,
          15559.86185808502,
          15920.495988098752
         ],
         "yaxis": "y2"
        },
        {
         "marker": {
          "color": "deepskyblue"
         },
         "name": "Strategy 6",
         "showlegend": false,
         "type": "bar",
         "x": [
          "Increased immunity<br>",
          "Original estimates<br>",
          "Decreased immunity<br>"
         ],
         "xaxis": "x2",
         "y": [
          14504.688999328584,
          15559.861858075206,
          15920.495988099876
         ],
         "yaxis": "y2"
        },
        {
         "marker": {
          "color": "black"
         },
         "name": "No boosters",
         "showlegend": false,
         "type": "bar",
         "x": [
          "Increased immunity<br>",
          "Original estimates<br>",
          "Decreased immunity<br>"
         ],
         "xaxis": "x2",
         "y": [
          14613.98848096987,
          15687.479204715326,
          16062.417448503173
         ],
         "yaxis": "y2"
        }
       ],
       "layout": {
        "annotations": [
         {
          "font": {
           "size": 16
          },
          "showarrow": false,
          "text": "No reduction",
          "x": 0.225,
          "xanchor": "center",
          "xref": "paper",
          "y": -0.05,
          "yanchor": "top",
          "yref": "paper"
         },
         {
          "font": {
           "size": 16
          },
          "showarrow": false,
          "text": "20% reduced",
          "x": 0.775,
          "xanchor": "center",
          "xref": "paper",
          "y": -0.05,
          "yanchor": "top",
          "yref": "paper"
         }
        ],
        "boxmode": "group",
        "height": 600,
        "hovermode": "x unified",
        "legend": {
         "orientation": "h",
         "x": 1.2,
         "xanchor": "right",
         "y": 0.98,
         "yanchor": "bottom"
        },
        "plot_bgcolor": "white",
        "template": {
         "data": {
          "bar": [
           {
            "error_x": {
             "color": "#2a3f5f"
            },
            "error_y": {
             "color": "#2a3f5f"
            },
            "marker": {
             "line": {
              "color": "#E5ECF6",
              "width": 0.5
             },
             "pattern": {
              "fillmode": "overlay",
              "size": 10,
              "solidity": 0.2
             }
            },
            "type": "bar"
           }
          ],
          "barpolar": [
           {
            "marker": {
             "line": {
              "color": "#E5ECF6",
              "width": 0.5
             },
             "pattern": {
              "fillmode": "overlay",
              "size": 10,
              "solidity": 0.2
             }
            },
            "type": "barpolar"
           }
          ],
          "carpet": [
           {
            "aaxis": {
             "endlinecolor": "#2a3f5f",
             "gridcolor": "white",
             "linecolor": "white",
             "minorgridcolor": "white",
             "startlinecolor": "#2a3f5f"
            },
            "baxis": {
             "endlinecolor": "#2a3f5f",
             "gridcolor": "white",
             "linecolor": "white",
             "minorgridcolor": "white",
             "startlinecolor": "#2a3f5f"
            },
            "type": "carpet"
           }
          ],
          "choropleth": [
           {
            "colorbar": {
             "outlinewidth": 0,
             "ticks": ""
            },
            "type": "choropleth"
           }
          ],
          "contour": [
           {
            "colorbar": {
             "outlinewidth": 0,
             "ticks": ""
            },
            "colorscale": [
             [
              0,
              "#0d0887"
             ],
             [
              0.1111111111111111,
              "#46039f"
             ],
             [
              0.2222222222222222,
              "#7201a8"
             ],
             [
              0.3333333333333333,
              "#9c179e"
             ],
             [
              0.4444444444444444,
              "#bd3786"
             ],
             [
              0.5555555555555556,
              "#d8576b"
             ],
             [
              0.6666666666666666,
              "#ed7953"
             ],
             [
              0.7777777777777778,
              "#fb9f3a"
             ],
             [
              0.8888888888888888,
              "#fdca26"
             ],
             [
              1,
              "#f0f921"
             ]
            ],
            "type": "contour"
           }
          ],
          "contourcarpet": [
           {
            "colorbar": {
             "outlinewidth": 0,
             "ticks": ""
            },
            "type": "contourcarpet"
           }
          ],
          "heatmap": [
           {
            "colorbar": {
             "outlinewidth": 0,
             "ticks": ""
            },
            "colorscale": [
             [
              0,
              "#0d0887"
             ],
             [
              0.1111111111111111,
              "#46039f"
             ],
             [
              0.2222222222222222,
              "#7201a8"
             ],
             [
              0.3333333333333333,
              "#9c179e"
             ],
             [
              0.4444444444444444,
              "#bd3786"
             ],
             [
              0.5555555555555556,
              "#d8576b"
             ],
             [
              0.6666666666666666,
              "#ed7953"
             ],
             [
              0.7777777777777778,
              "#fb9f3a"
             ],
             [
              0.8888888888888888,
              "#fdca26"
             ],
             [
              1,
              "#f0f921"
             ]
            ],
            "type": "heatmap"
           }
          ],
          "heatmapgl": [
           {
            "colorbar": {
             "outlinewidth": 0,
             "ticks": ""
            },
            "colorscale": [
             [
              0,
              "#0d0887"
             ],
             [
              0.1111111111111111,
              "#46039f"
             ],
             [
              0.2222222222222222,
              "#7201a8"
             ],
             [
              0.3333333333333333,
              "#9c179e"
             ],
             [
              0.4444444444444444,
              "#bd3786"
             ],
             [
              0.5555555555555556,
              "#d8576b"
             ],
             [
              0.6666666666666666,
              "#ed7953"
             ],
             [
              0.7777777777777778,
              "#fb9f3a"
             ],
             [
              0.8888888888888888,
              "#fdca26"
             ],
             [
              1,
              "#f0f921"
             ]
            ],
            "type": "heatmapgl"
           }
          ],
          "histogram": [
           {
            "marker": {
             "pattern": {
              "fillmode": "overlay",
              "size": 10,
              "solidity": 0.2
             }
            },
            "type": "histogram"
           }
          ],
          "histogram2d": [
           {
            "colorbar": {
             "outlinewidth": 0,
             "ticks": ""
            },
            "colorscale": [
             [
              0,
              "#0d0887"
             ],
             [
              0.1111111111111111,
              "#46039f"
             ],
             [
              0.2222222222222222,
              "#7201a8"
             ],
             [
              0.3333333333333333,
              "#9c179e"
             ],
             [
              0.4444444444444444,
              "#bd3786"
             ],
             [
              0.5555555555555556,
              "#d8576b"
             ],
             [
              0.6666666666666666,
              "#ed7953"
             ],
             [
              0.7777777777777778,
              "#fb9f3a"
             ],
             [
              0.8888888888888888,
              "#fdca26"
             ],
             [
              1,
              "#f0f921"
             ]
            ],
            "type": "histogram2d"
           }
          ],
          "histogram2dcontour": [
           {
            "colorbar": {
             "outlinewidth": 0,
             "ticks": ""
            },
            "colorscale": [
             [
              0,
              "#0d0887"
             ],
             [
              0.1111111111111111,
              "#46039f"
             ],
             [
              0.2222222222222222,
              "#7201a8"
             ],
             [
              0.3333333333333333,
              "#9c179e"
             ],
             [
              0.4444444444444444,
              "#bd3786"
             ],
             [
              0.5555555555555556,
              "#d8576b"
             ],
             [
              0.6666666666666666,
              "#ed7953"
             ],
             [
              0.7777777777777778,
              "#fb9f3a"
             ],
             [
              0.8888888888888888,
              "#fdca26"
             ],
             [
              1,
              "#f0f921"
             ]
            ],
            "type": "histogram2dcontour"
           }
          ],
          "mesh3d": [
           {
            "colorbar": {
             "outlinewidth": 0,
             "ticks": ""
            },
            "type": "mesh3d"
           }
          ],
          "parcoords": [
           {
            "line": {
             "colorbar": {
              "outlinewidth": 0,
              "ticks": ""
             }
            },
            "type": "parcoords"
           }
          ],
          "pie": [
           {
            "automargin": true,
            "type": "pie"
           }
          ],
          "scatter": [
           {
            "fillpattern": {
             "fillmode": "overlay",
             "size": 10,
             "solidity": 0.2
            },
            "type": "scatter"
           }
          ],
          "scatter3d": [
           {
            "line": {
             "colorbar": {
              "outlinewidth": 0,
              "ticks": ""
             }
            },
            "marker": {
             "colorbar": {
              "outlinewidth": 0,
              "ticks": ""
             }
            },
            "type": "scatter3d"
           }
          ],
          "scattercarpet": [
           {
            "marker": {
             "colorbar": {
              "outlinewidth": 0,
              "ticks": ""
             }
            },
            "type": "scattercarpet"
           }
          ],
          "scattergeo": [
           {
            "marker": {
             "colorbar": {
              "outlinewidth": 0,
              "ticks": ""
             }
            },
            "type": "scattergeo"
           }
          ],
          "scattergl": [
           {
            "marker": {
             "colorbar": {
              "outlinewidth": 0,
              "ticks": ""
             }
            },
            "type": "scattergl"
           }
          ],
          "scattermapbox": [
           {
            "marker": {
             "colorbar": {
              "outlinewidth": 0,
              "ticks": ""
             }
            },
            "type": "scattermapbox"
           }
          ],
          "scatterpolar": [
           {
            "marker": {
             "colorbar": {
              "outlinewidth": 0,
              "ticks": ""
             }
            },
            "type": "scatterpolar"
           }
          ],
          "scatterpolargl": [
           {
            "marker": {
             "colorbar": {
              "outlinewidth": 0,
              "ticks": ""
             }
            },
            "type": "scatterpolargl"
           }
          ],
          "scatterternary": [
           {
            "marker": {
             "colorbar": {
              "outlinewidth": 0,
              "ticks": ""
             }
            },
            "type": "scatterternary"
           }
          ],
          "surface": [
           {
            "colorbar": {
             "outlinewidth": 0,
             "ticks": ""
            },
            "colorscale": [
             [
              0,
              "#0d0887"
             ],
             [
              0.1111111111111111,
              "#46039f"
             ],
             [
              0.2222222222222222,
              "#7201a8"
             ],
             [
              0.3333333333333333,
              "#9c179e"
             ],
             [
              0.4444444444444444,
              "#bd3786"
             ],
             [
              0.5555555555555556,
              "#d8576b"
             ],
             [
              0.6666666666666666,
              "#ed7953"
             ],
             [
              0.7777777777777778,
              "#fb9f3a"
             ],
             [
              0.8888888888888888,
              "#fdca26"
             ],
             [
              1,
              "#f0f921"
             ]
            ],
            "type": "surface"
           }
          ],
          "table": [
           {
            "cells": {
             "fill": {
              "color": "#EBF0F8"
             },
             "line": {
              "color": "white"
             }
            },
            "header": {
             "fill": {
              "color": "#C8D4E3"
             },
             "line": {
              "color": "white"
             }
            },
            "type": "table"
           }
          ]
         },
         "layout": {
          "annotationdefaults": {
           "arrowcolor": "#2a3f5f",
           "arrowhead": 0,
           "arrowwidth": 1
          },
          "autotypenumbers": "strict",
          "coloraxis": {
           "colorbar": {
            "outlinewidth": 0,
            "ticks": ""
           }
          },
          "colorscale": {
           "diverging": [
            [
             0,
             "#8e0152"
            ],
            [
             0.1,
             "#c51b7d"
            ],
            [
             0.2,
             "#de77ae"
            ],
            [
             0.3,
             "#f1b6da"
            ],
            [
             0.4,
             "#fde0ef"
            ],
            [
             0.5,
             "#f7f7f7"
            ],
            [
             0.6,
             "#e6f5d0"
            ],
            [
             0.7,
             "#b8e186"
            ],
            [
             0.8,
             "#7fbc41"
            ],
            [
             0.9,
             "#4d9221"
            ],
            [
             1,
             "#276419"
            ]
           ],
           "sequential": [
            [
             0,
             "#0d0887"
            ],
            [
             0.1111111111111111,
             "#46039f"
            ],
            [
             0.2222222222222222,
             "#7201a8"
            ],
            [
             0.3333333333333333,
             "#9c179e"
            ],
            [
             0.4444444444444444,
             "#bd3786"
            ],
            [
             0.5555555555555556,
             "#d8576b"
            ],
            [
             0.6666666666666666,
             "#ed7953"
            ],
            [
             0.7777777777777778,
             "#fb9f3a"
            ],
            [
             0.8888888888888888,
             "#fdca26"
            ],
            [
             1,
             "#f0f921"
            ]
           ],
           "sequentialminus": [
            [
             0,
             "#0d0887"
            ],
            [
             0.1111111111111111,
             "#46039f"
            ],
            [
             0.2222222222222222,
             "#7201a8"
            ],
            [
             0.3333333333333333,
             "#9c179e"
            ],
            [
             0.4444444444444444,
             "#bd3786"
            ],
            [
             0.5555555555555556,
             "#d8576b"
            ],
            [
             0.6666666666666666,
             "#ed7953"
            ],
            [
             0.7777777777777778,
             "#fb9f3a"
            ],
            [
             0.8888888888888888,
             "#fdca26"
            ],
            [
             1,
             "#f0f921"
            ]
           ]
          },
          "colorway": [
           "#636efa",
           "#EF553B",
           "#00cc96",
           "#ab63fa",
           "#FFA15A",
           "#19d3f3",
           "#FF6692",
           "#B6E880",
           "#FF97FF",
           "#FECB52"
          ],
          "font": {
           "color": "#2a3f5f"
          },
          "geo": {
           "bgcolor": "white",
           "lakecolor": "white",
           "landcolor": "#E5ECF6",
           "showlakes": true,
           "showland": true,
           "subunitcolor": "white"
          },
          "hoverlabel": {
           "align": "left"
          },
          "hovermode": "closest",
          "mapbox": {
           "style": "light"
          },
          "paper_bgcolor": "white",
          "plot_bgcolor": "#E5ECF6",
          "polar": {
           "angularaxis": {
            "gridcolor": "white",
            "linecolor": "white",
            "ticks": ""
           },
           "bgcolor": "#E5ECF6",
           "radialaxis": {
            "gridcolor": "white",
            "linecolor": "white",
            "ticks": ""
           }
          },
          "scene": {
           "xaxis": {
            "backgroundcolor": "#E5ECF6",
            "gridcolor": "white",
            "gridwidth": 2,
            "linecolor": "white",
            "showbackground": true,
            "ticks": "",
            "zerolinecolor": "white"
           },
           "yaxis": {
            "backgroundcolor": "#E5ECF6",
            "gridcolor": "white",
            "gridwidth": 2,
            "linecolor": "white",
            "showbackground": true,
            "ticks": "",
            "zerolinecolor": "white"
           },
           "zaxis": {
            "backgroundcolor": "#E5ECF6",
            "gridcolor": "white",
            "gridwidth": 2,
            "linecolor": "white",
            "showbackground": true,
            "ticks": "",
            "zerolinecolor": "white"
           }
          },
          "shapedefaults": {
           "line": {
            "color": "#2a3f5f"
           }
          },
          "ternary": {
           "aaxis": {
            "gridcolor": "white",
            "linecolor": "white",
            "ticks": ""
           },
           "baxis": {
            "gridcolor": "white",
            "linecolor": "white",
            "ticks": ""
           },
           "bgcolor": "#E5ECF6",
           "caxis": {
            "gridcolor": "white",
            "linecolor": "white",
            "ticks": ""
           }
          },
          "title": {
           "x": 0.05
          },
          "xaxis": {
           "automargin": true,
           "gridcolor": "white",
           "linecolor": "white",
           "ticks": "",
           "title": {
            "standoff": 15
           },
           "zerolinecolor": "white",
           "zerolinewidth": 2
          },
          "yaxis": {
           "automargin": true,
           "gridcolor": "white",
           "linecolor": "white",
           "ticks": "",
           "title": {
            "standoff": 15
           },
           "zerolinecolor": "white",
           "zerolinewidth": 2
          }
         }
        },
        "title": {
         "text": "Mean new symptomatic infections per 100,000 for different vaccine efficacies, immunity effects and scenarios<br>Syria"
        },
        "width": 1100,
        "xaxis": {
         "anchor": "y",
         "domain": [
          0,
          0.45
         ],
         "linecolor": "black"
        },
        "xaxis2": {
         "anchor": "y2",
         "domain": [
          0.55,
          1
         ],
         "linecolor": "black"
        },
        "yaxis": {
         "anchor": "x",
         "domain": [
          0,
          1
         ],
         "linecolor": "black"
        },
        "yaxis2": {
         "anchor": "x2",
         "domain": [
          0,
          1
         ],
         "matches": "y",
         "showticklabels": false,
         "visible": false
        }
       }
      }
     },
     "metadata": {},
     "output_type": "display_data"
    }
   ],
   "source": [
    "new_colours = ['blue', 'orange', 'green', 'red', 'purple', 'deepskyblue', 'black']\n",
    "\n",
    "trace_name = ['Strategy {}'.format(s+1) for s, scenario in enumerate(scenario_names[:-1])] + [scenario_names[-1]]\n",
    "\n",
    "for r, reg in enumerate(regions):\n",
    "    fig = go.Figure()\n",
    "    fig = make_subplots(\n",
    "        rows=1, cols=len(changes_vaccine), shared_yaxes=True,\n",
    "        subplot_titles=tuple('{:.0f}% reduced'.format(100 * change_vacc) if change_vacc!=0 else 'No reduction' for change_vacc in changes_vaccine))\n",
    "    # Plot for each region\n",
    "    for cv, change_vacc in enumerate(changes_vaccine):\n",
    "        if cv == 0:\n",
    "            for s, scenario in enumerate(scenario_names):\n",
    "                fig.add_trace(\n",
    "                    go.Bar(\n",
    "                        y=[np.sum(total_new_infections_mean[r][cv, ss-1, s, :]) for ss in new_seroprevalance_scenarios_indeces],\n",
    "                        x=['{}<br>'.format(sero_scen) for sero_scen in new_seroprevalance_scenarios],\n",
    "                        name=trace_name[s],\n",
    "                        marker_color=new_colours[s]\n",
    "                    ),\n",
    "                    row=1,\n",
    "                    col=cv+1\n",
    "                )\n",
    "\n",
    "        else:\n",
    "            for s, scenario in enumerate(scenario_names):\n",
    "                fig.add_trace(\n",
    "                    go.Bar(\n",
    "                        y=[np.sum(total_new_infections_mean[r][cv, ss-1, s, :]) for ss in new_seroprevalance_scenarios_indeces],\n",
    "                        x=['{}<br>'.format(sero_scen) for sero_scen in new_seroprevalance_scenarios],\n",
    "                        name=trace_name[s],\n",
    "                        marker_color=new_colours[s],\n",
    "                        showlegend=False,\n",
    "                    ),\n",
    "                    row=1,\n",
    "                    col=cv+1\n",
    "                )\n",
    "\n",
    "    # Add axis labels\n",
    "    fig.update_layout(\n",
    "        boxmode='group',\n",
    "        title='Mean new symptomatic infections per 100,000 for different vaccine efficacies, immunity effects and scenarios<br>{}'.format(reg),\n",
    "        width=1100,\n",
    "        height=600,\n",
    "        plot_bgcolor='white',\n",
    "        xaxis=dict(linecolor='black'),\n",
    "        yaxis=dict(linecolor='black'),\n",
    "        xaxis2=dict(linecolor='black'),\n",
    "        yaxis2=dict(visible=False),\n",
    "        hovermode='x unified',\n",
    "        legend=dict(\n",
    "                orientation=\"h\",\n",
    "                yanchor=\"bottom\",\n",
    "                y=0.98,\n",
    "                xanchor=\"right\",\n",
    "                x=1.2\n",
    "            )\n",
    "        )\n",
    "    \n",
    "    for annotation in fig['layout']['annotations']: \n",
    "        annotation['yanchor']='top'\n",
    "        annotation['y']=-0.05\n",
    "        annotation['yref']='paper'\n",
    "\n",
    "    fig.write_image('images/report4_variant_adapted_vaccine/New symptomatic infections per Scenario and Vaccine Type {}.pdf'.format(reg))\n",
    "    fig.show()\n"
   ]
  }
 ],
 "metadata": {
  "interpreter": {
   "hash": "68071bb08c320916033ffa6702342928cea5ba8baa6ee7305e5c9ae08c2309c8"
  },
  "kernelspec": {
   "display_name": "Python 3.10.8 64-bit ('warwick': conda)",
   "name": "python3"
  },
  "language_info": {
   "codemirror_mode": {
    "name": "ipython",
    "version": 3
   },
   "file_extension": ".py",
   "mimetype": "text/x-python",
   "name": "python",
   "nbconvert_exporter": "python",
   "pygments_lexer": "ipython3",
   "version": "3.11.3"
  },
  "orig_nbformat": 4
 },
 "nbformat": 4,
 "nbformat_minor": 2
}
