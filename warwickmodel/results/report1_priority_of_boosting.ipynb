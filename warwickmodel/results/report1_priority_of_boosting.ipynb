{
 "cells": [
  {
   "cell_type": "markdown",
   "metadata": {},
   "source": [
    "# REPORT 1 - Testing different boosting priority strategies\n",
    "\n",
    "In this notebook we test different age-priority boosting strategies, using the `warwickmodel`, built by Universities of Warwick and Lancaster, with population data from 5 countries with very different socio-economic profiles. We assume an initial boosting campaign in the population, with no subsequent boosters being deployed during the simulation. \n",
    "\n",
    "The infection dynamics are run for:\n",
    " - Dates: **15 Feb 2020** - **25 June 2021**;\n",
    " - Countries of interest: **United Kingdom**, **France**;\n",
    " - Number of boosters deployed: **10%** of the population.\n",
    "\n",
    "*The Warwick model is built by Universities of Warwick and Lancaster.*"
   ]
  },
  {
   "cell_type": "code",
   "execution_count": 1,
   "metadata": {},
   "outputs": [],
   "source": [
    "# Load necessary libraries\n",
    "import os\n",
    "import copy\n",
    "import numpy as np\n",
    "import pandas as pd\n",
    "import scipy\n",
    "import epimodels as em\n",
    "import warwickmodel as wm\n",
    "import matplotlib\n",
    "import plotly.graph_objects as go\n",
    "from matplotlib import pyplot as plt\n",
    "from iteration_utilities import deepflatten"
   ]
  },
  {
   "cell_type": "markdown",
   "metadata": {},
   "source": [
    "## Model Setup\n",
    "### Define setup matrices for the WarwickLanc Model"
   ]
  },
  {
   "cell_type": "code",
   "execution_count": 2,
   "metadata": {},
   "outputs": [],
   "source": [
    "# Populate the model\n",
    "total_days =  100\n",
    "regions = ['United Kingdom', 'France']\n",
    "age_groups = ['0-4', '5-9', '10-14', '15-19', '20-24', '25-29', '30-34', '35-39',\n",
    "              '40-44', '45-49', '50-54', '55-59', '60-64', '65-69', '70-74', '75+']\n",
    "\n",
    "regimes = np.arange(1, 101, 1).tolist()\n",
    "\n",
    "# Add folder path to data file\n",
    "path = os.path.join('../data/')"
   ]
  },
  {
   "cell_type": "markdown",
   "metadata": {},
   "source": [
    "### Read in corresponding data files for the countries considered for all 100 regimes"
   ]
  },
  {
   "cell_type": "code",
   "execution_count": 3,
   "metadata": {},
   "outputs": [],
   "source": [
    "# Matrices contact\n",
    "matrices_contact = []\n",
    "matrices_region = []\n",
    "time_changes_contact = []\n",
    "time_changes_region = []\n",
    "\n",
    "# Vaccine effects\n",
    "nu_tra = []\n",
    "nu_symp = []\n",
    "nu_inf = []\n",
    "nu_sev_h = []\n",
    "nu_sev_d = []\n",
    "\n",
    "# Parameters\n",
    "omega = []\n",
    "alpha = []\n",
    "gamma = []\n",
    "tau = []\n",
    "we = []\n",
    "\n",
    "# Initial conditions\n",
    "susceptibles_IC = []\n",
    "exposed1_IC = []\n",
    "exposed2_IC = []\n",
    "exposed3_IC = []\n",
    "exposed4_IC = []\n",
    "exposed5_IC = []\n",
    "infectives_sym_IC = []\n",
    "infectives_asym_IC = []\n",
    "recovered_IC = []\n",
    "\n",
    "# Risk factors\n",
    "d = []\n",
    "beta = []\n",
    "\n",
    "# Probabilities of proceeding to severe outcomes\n",
    "pItoH = []\n",
    "pHtoD = []\n",
    "\n",
    "# Distribution of delays before proceeding to severe outcomes\n",
    "dItoH = []\n",
    "dHtoD = []\n",
    "\n",
    "for R in regimes:\n",
    "        regimes_matrices_region = []\n",
    "\n",
    "        # Initial state of the system\n",
    "        weeks_matrices_region = []\n",
    "        for r in regions:\n",
    "                region_data_matrix = pd.read_csv(\n",
    "                        os.path.join(path, '{}/Contacts_{}.csv'.format(r, R)),\n",
    "                        header=None, dtype=np.float64)\n",
    "                regional = em.RegionMatrix(r, age_groups, region_data_matrix)\n",
    "                weeks_matrices_region.append(regional)\n",
    "\n",
    "        regimes_matrices_region.append(weeks_matrices_region)\n",
    "\n",
    "        contacts = em.ContactMatrix(age_groups, np.ones((len(age_groups), len(age_groups))))\n",
    "        regimes_matrices_contact = [contacts]\n",
    "\n",
    "        matrices_region.append(regimes_matrices_region)\n",
    "        matrices_contact.append(regimes_matrices_contact)\n",
    "\n",
    "        # Matrices contact\n",
    "        time_changes_contact.append([1])\n",
    "        time_changes_region.append([1])\n",
    "\n",
    "        # Over 75 population fractions\n",
    "        frac_pop_over75 = []\n",
    "\n",
    "        for r in regions:\n",
    "                IC_df = pd.read_csv(\n",
    "                        os.path.join(path, '{}/Start_pop_{}.csv'.format(r, R)),\n",
    "                        skiprows=15,\n",
    "                        header=None, dtype=np.float64)\n",
    "\n",
    "                frac_pop_over75.append((1/np.sum(np.asarray(IC_df))) * np.sum(np.asarray(IC_df),axis=1))\n",
    "\n",
    "        # Risk Factors\n",
    "        extended_regimes_d = []\n",
    "        regimes_d = []\n",
    "        regimes_beta = []\n",
    "\n",
    "        for r, reg in enumerate(regions):\n",
    "                RF_df = pd.read_csv(\n",
    "                        os.path.join(path, '{}/Risks_{}.csv'.format(reg, R)),\n",
    "                        dtype=np.float64)\n",
    "                extended_d = RF_df['symptom_risk'].tolist()\n",
    "                extended_beta = RF_df['susceptibility'].tolist()\n",
    "\n",
    "                extended_regimes_d.append(extended_d)\n",
    "\n",
    "                regimes_d.append(extended_d[:15] + [np.sum(np.multiply(extended_d[15:], frac_pop_over75[r]))])\n",
    "                regimes_beta.append(extended_beta[:15] + [np.sum(np.multiply(extended_beta[15:], frac_pop_over75[r]))])\n",
    "\n",
    "        d.append(regimes_d)\n",
    "        beta.append(regimes_beta)\n",
    "\n",
    "        # Vaccine effects\n",
    "        eff_df = pd.read_csv(\n",
    "                os.path.join(path, 'global_parameters/efficacies_{}.csv'.format(R)),\n",
    "                usecols=range(1,5), dtype=np.float64)\n",
    "\n",
    "        VE_i = eff_df['Infection_eff']\n",
    "        VE_s = eff_df['Symptom_eff']\n",
    "        VE_h = eff_df['Hosp_eff']\n",
    "        VE_d = eff_df['Death_eff']\n",
    "\n",
    "        VE_d = np.divide(VE_d-VE_h, 1-VE_h)\n",
    "        VE_h = np.divide(VE_h-VE_i, 1-VE_i)\n",
    "        VE_s = np.divide(VE_s-VE_i, 1-VE_i)\n",
    "\n",
    "        regimes_nu_tra = [1] * 6\n",
    "        regimes_nu_symp = np.nan_to_num(1 - VE_s).tolist()\n",
    "        regimes_nu_inf = np.nan_to_num(1 - VE_i).tolist()\n",
    "        regimes_nu_sev_h = np.nan_to_num(1 - VE_h).tolist()\n",
    "        regimes_nu_sev_d = np.nan_to_num(1 - VE_d).tolist()\n",
    "\n",
    "        nu_tra.append(regimes_nu_tra)\n",
    "        nu_symp.append(regimes_nu_symp)\n",
    "        nu_inf.append(regimes_nu_inf)\n",
    "        nu_sev_h.append(regimes_nu_sev_h)\n",
    "        nu_sev_d.append(regimes_nu_sev_d)\n",
    "\n",
    "        # Parameters\n",
    "        param_df = pd.read_csv(\n",
    "                os.path.join(path, 'global_parameters/parameters_{}.csv'.format(R)),\n",
    "                dtype=np.float64)\n",
    "\n",
    "        regimes_omega = param_df['transmission'].tolist()[0]\n",
    "        regimes_alpha = 1\n",
    "        regimes_gamma = param_df['recovery'].tolist()[0]\n",
    "        regimes_tau = param_df['asymptomatic_transmission'].tolist()[0]\n",
    "        regimes_we = [param_df['waning_rate'].tolist()[0]] * 2 + [0]\n",
    "\n",
    "        omega.append(regimes_omega)\n",
    "        alpha.append(regimes_alpha)\n",
    "        gamma.append(regimes_gamma)\n",
    "        tau.append(regimes_tau)\n",
    "        we.append(regimes_we)\n",
    "\n",
    "        # Initial conditions\n",
    "        regimes_susceptibles_IC = []\n",
    "        regimes_exposed1_IC = []\n",
    "        regimes_exposed2_IC = []\n",
    "        regimes_exposed3_IC = []\n",
    "        regimes_exposed4_IC = []\n",
    "        regimes_exposed5_IC = []\n",
    "        regimes_infectives_sym_IC = []\n",
    "        regimes_infectives_asym_IC = []\n",
    "        regimes_recovered_IC = []\n",
    "\n",
    "        # Susceptible\n",
    "        for r in regions:\n",
    "                IC_df = pd.read_csv(\n",
    "                        os.path.join(path, '{}/Start_pop_{}.csv'.format(r, R)),\n",
    "                        usecols=range(0, 5),\n",
    "                        header=None, dtype=np.float64)\n",
    "\n",
    "                extended_S = np.asarray(IC_df)\n",
    "                under_75_S = extended_S[:15, :]\n",
    "                over_75_S = extended_S[15:, :]\n",
    "                reduced_S = np.vstack((under_75_S, np.sum(over_75_S, axis=0)))\n",
    "                regimes_susceptibles_IC.append(\n",
    "                        reduced_S.flatten('F').tolist() + [0] * len(age_groups))\n",
    "\n",
    "        # Exposed 1\n",
    "        for r in regions:\n",
    "                IC_df = pd.read_csv(\n",
    "                        os.path.join(path, '{}/Start_pop_{}.csv'.format(r, R)),\n",
    "                        usecols=range(5, 10),\n",
    "                        header=None, dtype=np.float64)\n",
    "\n",
    "                extended_E1 = np.asarray(IC_df)\n",
    "                under_75_E1 = extended_E1[:15, :]\n",
    "                over_75_E1 = extended_E1[15:, :]\n",
    "                reduced_E1 = np.vstack((under_75_E1, np.sum(over_75_E1, axis=0)))\n",
    "                regimes_exposed1_IC.append(\n",
    "                        reduced_E1.flatten('F').tolist() + [0] * len(age_groups))\n",
    "\n",
    "        # Exposed 2\n",
    "        for r in regions:\n",
    "                IC_df = pd.read_csv(\n",
    "                        os.path.join(path, '{}/Start_pop_{}.csv'.format(r, R)),\n",
    "                        usecols=range(10, 15),\n",
    "                        header=None, dtype=np.float64)\n",
    "\n",
    "                extended_E2 = np.asarray(IC_df)\n",
    "                under_75_E2 = extended_E2[:15, :]\n",
    "                over_75_E2 = extended_E2[15:, :]\n",
    "                reduced_E2 = np.vstack((under_75_E2, np.sum(over_75_E2, axis=0)))\n",
    "                regimes_exposed2_IC.append(\n",
    "                        reduced_E2.flatten('F').tolist() + [0] * len(age_groups))\n",
    "\n",
    "        # Exposed 3\n",
    "        for r in regions:\n",
    "                IC_df = pd.read_csv(\n",
    "                        os.path.join(path, '{}/Start_pop_{}.csv'.format(r, R)),\n",
    "                        usecols=range(15, 20),\n",
    "                        header=None, dtype=np.float64)\n",
    "\n",
    "                extended_E3 = np.asarray(IC_df)\n",
    "                under_75_E3 = extended_E3[:15, :]\n",
    "                over_75_E3 = extended_E3[15:, :]\n",
    "                reduced_E3 = np.vstack((under_75_E3, np.sum(over_75_E3, axis=0)))\n",
    "                regimes_exposed3_IC.append(\n",
    "                        reduced_E3.flatten('F').tolist() + [0] * len(age_groups))\n",
    "\n",
    "        # Exposed 4\n",
    "        for r in regions:\n",
    "                IC_df = pd.read_csv(\n",
    "                        os.path.join(path, '{}/Start_pop_{}.csv'.format(r, R)),\n",
    "                        usecols=range(20, 25),\n",
    "                        header=None, dtype=np.float64)\n",
    "\n",
    "                extended_E4 = np.asarray(IC_df)\n",
    "                under_75_E4 = extended_E4[:15, :]\n",
    "                over_75_E4 = extended_E4[15:, :]\n",
    "                reduced_E4 = np.vstack((under_75_E4, np.sum(over_75_E4, axis=0)))\n",
    "                regimes_exposed4_IC.append(\n",
    "                        reduced_E4.flatten('F').tolist() + [0] * len(age_groups))\n",
    "\n",
    "        # Exposed 5\n",
    "        for r in regions:\n",
    "                IC_df = pd.read_csv(\n",
    "                        os.path.join(path, '{}/Start_pop_{}.csv'.format(r, R)),\n",
    "                        usecols=range(25, 30),\n",
    "                        header=None, dtype=np.float64)\n",
    "\n",
    "                extended_E5 = np.asarray(IC_df)\n",
    "                under_75_E5 = extended_E5[:15, :]\n",
    "                over_75_E5 = extended_E5[15:, :]\n",
    "                reduced_E5 = np.vstack((under_75_E5, np.sum(over_75_E5, axis=0)))\n",
    "                regimes_exposed5_IC.append(\n",
    "                        reduced_E5.flatten('F').tolist() + [0] * len(age_groups))\n",
    "\n",
    "        # Symptomatic & Asymptomatic Infectious\n",
    "        for _, r in enumerate(regions):\n",
    "                IC_df = pd.read_csv(\n",
    "                        os.path.join(path, '{}/Start_pop_{}.csv'.format(r, R)),\n",
    "                        usecols=range(30, 35),\n",
    "                        header=None, dtype=np.float64)\n",
    "\n",
    "                extended_I = np.zeros_like(np.asarray(IC_df))\n",
    "                extended_I[:, 0] = np.matmul(np.diag(regimes_nu_symp[0] * np.array(extended_regimes_d[_])), np.asarray(IC_df)[:, 0])\n",
    "                extended_I[:, 1] = np.matmul(np.diag(regimes_nu_symp[1] * np.array(extended_regimes_d[_])), np.asarray(IC_df)[:, 1])\n",
    "                extended_I[:, 2] = np.matmul(np.diag(regimes_nu_symp[2] * np.array(extended_regimes_d[_])), np.asarray(IC_df)[:, 2])\n",
    "                extended_I[:, 3] = np.matmul(np.diag(regimes_nu_symp[3] * np.array(extended_regimes_d[_])), np.asarray(IC_df)[:, 3])\n",
    "                extended_I[:, 4] = np.matmul(np.diag(regimes_nu_symp[4] * np.array(extended_regimes_d[_])), np.asarray(IC_df)[:, 4])\n",
    "                under_75_I = extended_I[:15, :]\n",
    "                over_75_I = extended_I[15:, :]\n",
    "                reduced_I = np.vstack((under_75_I, np.sum(over_75_I, axis=0)))\n",
    "                regimes_infectives_sym_IC.append(\n",
    "                        reduced_I.flatten('F').tolist() + [0] * len(age_groups))\n",
    "\n",
    "                extended_A = np.zeros_like(np.asarray(IC_df))\n",
    "                extended_A[:, 0] = np.matmul(np.diag((1 - regimes_nu_symp[0] * np.array(extended_regimes_d[_]))), np.asarray(IC_df)[:, 0])\n",
    "                extended_A[:, 1] = np.matmul(np.diag((1 - regimes_nu_symp[1] * np.array(extended_regimes_d[_]))), np.asarray(IC_df)[:, 1])\n",
    "                extended_A[:, 2] = np.matmul(np.diag((1 - regimes_nu_symp[2] * np.array(extended_regimes_d[_]))), np.asarray(IC_df)[:, 2])\n",
    "                extended_A[:, 3] = np.matmul(np.diag((1 - regimes_nu_symp[3] * np.array(extended_regimes_d[_]))), np.asarray(IC_df)[:, 3])\n",
    "                extended_A[:, 4] = np.matmul(np.diag((1 - regimes_nu_symp[4] * np.array(extended_regimes_d[_]))), np.asarray(IC_df)[:, 4])\n",
    "                under_75_A = extended_A[:15, :]\n",
    "                over_75_A = extended_A[15:, :]\n",
    "                reduced_A = np.vstack((under_75_A, np.sum(over_75_A, axis=0)))\n",
    "                regimes_infectives_asym_IC.append(\n",
    "                        reduced_A.flatten('F').tolist() + [0] * len(age_groups))\n",
    "\n",
    "        # Recovered\n",
    "        for r in regions:\n",
    "                IC_df = pd.read_csv(\n",
    "                        os.path.join(path, '{}/Start_pop_{}.csv'.format(r, R)),\n",
    "                        usecols=[35],\n",
    "                        header=None, dtype=np.float64)\n",
    "\n",
    "                extended_R = np.asarray(IC_df)\n",
    "                under_75_R = extended_R[:15, :]\n",
    "                over_75_R = extended_R[15:, :]\n",
    "                reduced_R = np.vstack((under_75_R, np.sum(over_75_R, axis=0)))\n",
    "                regimes_recovered_IC.append(\n",
    "                        reduced_R.flatten('F').tolist())\n",
    "\n",
    "        susceptibles_IC.append(regimes_susceptibles_IC)\n",
    "        exposed1_IC.append(regimes_exposed1_IC)\n",
    "        exposed2_IC.append(regimes_exposed2_IC)\n",
    "        exposed3_IC.append(regimes_exposed3_IC)\n",
    "        exposed4_IC.append(regimes_exposed4_IC)\n",
    "        exposed5_IC.append(regimes_exposed5_IC)\n",
    "        infectives_sym_IC.append(regimes_infectives_sym_IC)\n",
    "        infectives_asym_IC.append(regimes_infectives_asym_IC)\n",
    "        recovered_IC.append(regimes_recovered_IC)\n",
    "\n",
    "        # Set time-to-hospitalisation using a Gamma distribution using the mean and standard deviation \n",
    "        th_mean = param_df['hosp_lag'].tolist()[0]+0.00001\n",
    "        th_var = 12.1**2\n",
    "        theta = th_var / th_mean\n",
    "        k = th_mean / theta\n",
    "        time_to_hosp = scipy.stats.gamma(k, scale=theta).pdf(np.arange(1, 31)).tolist()\n",
    "\n",
    "        # Set time-to-death using a Gamma distribution using the mean and standard deviation\n",
    "        td_mean = param_df['death_lag'].tolist()[0]\n",
    "        td_var = 12.1**2\n",
    "        theta = td_var / td_mean\n",
    "        k = td_mean / theta\n",
    "        time_to_death = scipy.stats.gamma(k, scale=theta).pdf(np.arange(1, 31)).tolist()\n",
    "\n",
    "        # Probabilities of proceeding to severe outcomes\n",
    "        # Infected -> Hospital\n",
    "        extended_pItoH = RF_df['hospitalisation_risk'].tolist()\n",
    "\n",
    "        regimes_pItoH = []\n",
    "        for r, reg in enumerate(regions):\n",
    "                regimes_pItoH.append(extended_pItoH[:15] + [np.sum(np.multiply(extended_pItoH[15:], frac_pop_over75[r]))])\n",
    "\n",
    "        pItoH.append(regimes_pItoH)\n",
    "\n",
    "        # Hospital -> Death\n",
    "        extended_pHtoD = RF_df['death_risk'].tolist()\n",
    "\n",
    "        regimes_pHtoD = []\n",
    "        for r, reg in enumerate(regions):\n",
    "                regimes_pHtoD.append(extended_pHtoD[:15] + [np.sum(np.multiply(extended_pHtoD[15:], frac_pop_over75[r]))])\n",
    "\n",
    "        pHtoD.append(regimes_pHtoD)\n",
    "\n",
    "        # Distribution of delays before proceeding to severe outcomes\n",
    "        # Infected -> Hospital\n",
    "        dItoH.append(time_to_hosp)\n",
    "        # Hospital -> Death\n",
    "        dHtoD.append(time_to_death)\n",
    "\n",
    "# Other parameters\n",
    "vac=0\n",
    "vacb=0\n",
    "\n",
    "adult = np.ones(len(age_groups))\n",
    "adult[0] = 0\n",
    "adult[1] = 0\n",
    "adult[2] = 0"
   ]
  },
  {
   "cell_type": "markdown",
   "metadata": {},
   "source": [
    "### Calculate maximum number of booster vaccines available"
   ]
  },
  {
   "cell_type": "code",
   "execution_count": 4,
   "metadata": {},
   "outputs": [],
   "source": [
    "# Proportion of the total population for which boosters are available\n",
    "boost_pop_percent = 0.1\n",
    "\n",
    "# Compute the number of boosters for each region\n",
    "boosters = []\n",
    "\n",
    "for R in regimes:\n",
    "        regimes_boosters = []\n",
    "        for r in regions:\n",
    "                IC_df = pd.read_csv(\n",
    "                        os.path.join(path, '{}/Start_pop_{}.csv'.format(r, R)),\n",
    "                        header=None, dtype=np.float64)\n",
    "\n",
    "                regimes_boosters.append(boost_pop_percent * np.sum(np.asarray(IC_df)))\n",
    "        boosters.append(regimes_boosters)"
   ]
  },
  {
   "cell_type": "markdown",
   "metadata": {},
   "source": [
    "## Boosting campaign scenarios\n",
    "\n",
    "We only boost the partially-waned and recovered. However those in the R compartment who receive the booster do not move out of the compartment (they have higher immunity than the boosted)"
   ]
  },
  {
   "cell_type": "code",
   "execution_count": 5,
   "metadata": {},
   "outputs": [],
   "source": [
    "# Maximum percentage booster uptake of each age group\n",
    "boost_age_percent = 0.9\n",
    "\n",
    "# Compute the maximum number of boosters we can deploy for each age group in each region\n",
    "max_boosters = []\n",
    "max_boosters_for_R = []\n",
    "max_boosters_for_Sw1 = []\n",
    "\n",
    "for R, _ in enumerate(regimes):\n",
    "        regimes_max_boosters = []\n",
    "        regimes_max_boosters_for_R = []\n",
    "        regimes_max_boosters_for_Sw1 = []\n",
    "        for r, reg in enumerate(regions):\n",
    "                boosters_for_R = boost_age_percent * np.asarray(recovered_IC[R][r])\n",
    "                boosters_for_Sw1 = boost_age_percent * np.asarray(susceptibles_IC[R][r])[(3*len(age_groups)):(4*len(age_groups))]\n",
    "\n",
    "                regimes_max_boosters_for_R.append(boosters_for_R)\n",
    "                regimes_max_boosters_for_Sw1.append(boosters_for_Sw1)\n",
    "                regimes_max_boosters.append(boosters_for_R + boosters_for_Sw1)\n",
    "\n",
    "        max_boosters_for_R.append(regimes_max_boosters_for_R)\n",
    "        max_boosters_for_Sw1.append(regimes_max_boosters_for_Sw1)\n",
    "        max_boosters.append(regimes_max_boosters)\n",
    "\n",
    "# Create list of new susceptible_ICs for each vaccination scenario\n",
    "scenario_susceptibles_IC = []\n",
    "scenario_names = []\n",
    "age_boosting_scenario_order = []"
   ]
  },
  {
   "cell_type": "markdown",
   "metadata": {},
   "source": [
    "**Scenario 1**: Prioritising those 75+"
   ]
  },
  {
   "cell_type": "code",
   "execution_count": 6,
   "metadata": {},
   "outputs": [],
   "source": [
    "scenario_names.append('Prioritise 75+')\n",
    "age_boosting_scenario_order.append((np.arange(16, 0, -1) - 1).tolist())"
   ]
  },
  {
   "cell_type": "markdown",
   "metadata": {},
   "source": [
    "**Scenario 2**: Prioritising those 60-70 then 75+"
   ]
  },
  {
   "cell_type": "code",
   "execution_count": 7,
   "metadata": {},
   "outputs": [],
   "source": [
    "scenario_names.append('Prioritise 60-70 then 75+')\n",
    "age_boosting_scenario_order.append([range(13, 15), 15] + (np.arange(13, 0, -1) - 1).tolist())"
   ]
  },
  {
   "cell_type": "markdown",
   "metadata": {},
   "source": [
    "**Scenario 3**: Prioritising those 60-70 then 50-60, then 75+"
   ]
  },
  {
   "cell_type": "code",
   "execution_count": 8,
   "metadata": {},
   "outputs": [],
   "source": [
    "scenario_names.append('Prioritise those 60-70 then 50-60, then 75+')\n",
    "age_boosting_scenario_order.append([range(13, 15), range(11, 13), 15] + (np.arange(11, 0, -1) - 1).tolist())"
   ]
  },
  {
   "cell_type": "markdown",
   "metadata": {},
   "source": [
    "**Scenario 4**: Prioritising those 50-60, then 60-70 then 75+"
   ]
  },
  {
   "cell_type": "code",
   "execution_count": 9,
   "metadata": {},
   "outputs": [],
   "source": [
    "scenario_names.append('Prioritise those 50-60 then 60-70, then 75+')\n",
    "age_boosting_scenario_order.append([range(11, 13), range(13, 15), 15] + (np.arange(11, 0, -1) - 1).tolist())"
   ]
  },
  {
   "cell_type": "markdown",
   "metadata": {},
   "source": [
    "**Scenario 5**: Prioritising those 50-69, then 60-70 then 75+"
   ]
  },
  {
   "cell_type": "code",
   "execution_count": null,
   "metadata": {},
   "outputs": [],
   "source": []
  },
  {
   "cell_type": "markdown",
   "metadata": {},
   "source": [
    "### Compute new susceptible conditions based on each boosting scenario"
   ]
  },
  {
   "cell_type": "code",
   "execution_count": 10,
   "metadata": {},
   "outputs": [],
   "source": [
    "for s, _ in enumerate(scenario_names):\n",
    "    regimes_new_susceptibles_IC = []\n",
    "    scenario_boosters = copy.deepcopy(boosters)\n",
    "\n",
    "    for R, _ in enumerate(regimes):\n",
    "        new_susceptibles_IC = [\n",
    "            np.array(susceptibles_IC[R][r].copy()).reshape((6, 16)).transpose() for r in range(len(regions))]\n",
    "        \n",
    "        new_susceptibles_IC = np.array(new_susceptibles_IC)\n",
    "        regimes_scenario_boosters = scenario_boosters[R]\n",
    "        reg_new_susceptibles_IC = []\n",
    "\n",
    "        for r, reg in enumerate(regions):\n",
    "            for ages in age_boosting_scenario_order[s]:\n",
    "                if np.sum(max_boosters[R][r][ages]) <= scenario_boosters[R][r]:\n",
    "                    # Add boosted from the Sw1 to Sb\n",
    "                    new_susceptibles_IC[r, ages, 2] += max_boosters_for_Sw1[R][r][ages]\n",
    "                    # Remove boosted from the Sw1\n",
    "                    new_susceptibles_IC[r, ages, 3] -= max_boosters_for_Sw1[R][r][ages]\n",
    "                    # Remove boosted from the Sw1 and R from total boocters for the scenario\n",
    "                    scenario_boosters[R][r] -= np.sum(max_boosters[R][r][ages])\n",
    "                else:\n",
    "                    # Compute proportion of boosters we have left to give for the age group\n",
    "                    prop = scenario_boosters[R][r] / np.sum(max_boosters[R][r][ages])\n",
    "                    # Add boosted from the Sw1 to Sb\n",
    "                    new_susceptibles_IC[r, ages, 2] += prop * max_boosters_for_Sw1[R][r][ages]\n",
    "                    # Remove boosted from the Sw1\n",
    "                    new_susceptibles_IC[r, ages, 3] -= prop * max_boosters_for_Sw1[R][r][ages]\n",
    "                    # Remove boosted from the Sw1 and R from total boocters for the scenario\n",
    "                    scenario_boosters[R][r] -= prop * np.sum(max_boosters[R][r][ages])\n",
    "\n",
    "            reg_new_susceptibles_IC.append(list(deepflatten(new_susceptibles_IC[r].transpose())))\n",
    "\n",
    "        regimes_new_susceptibles_IC.append(reg_new_susceptibles_IC)\n",
    "    scenario_susceptibles_IC.append(regimes_new_susceptibles_IC)"
   ]
  },
  {
   "cell_type": "markdown",
   "metadata": {},
   "source": [
    "### Set the parameters and initial conditions of the model and bundle everything together"
   ]
  },
  {
   "cell_type": "code",
   "execution_count": 11,
   "metadata": {},
   "outputs": [],
   "source": [
    "# Instantiate model\n",
    "model = wm.WarwickLancSEIRModel()\n",
    "\n",
    "# Set the region names, contact and regional data of the model\n",
    "model.set_regions(regions)\n",
    "model.set_age_groups(age_groups)\n",
    "\n",
    "# List of times at which we wish to evaluate the states of the compartments of the model\n",
    "times = np.arange(1, total_days+1, 1).tolist()"
   ]
  },
  {
   "cell_type": "markdown",
   "metadata": {},
   "source": [
    "### Simulate for the regions"
   ]
  },
  {
   "cell_type": "code",
   "execution_count": 12,
   "metadata": {},
   "outputs": [],
   "source": [
    "# Simulate for all the regions and regimes\n",
    "outputs = []\n",
    "\n",
    "for s, scenario in enumerate(scenario_names):\n",
    "    scenario_outputs = []\n",
    "    for R, regime in enumerate(regimes):\n",
    "        model.read_contact_data(matrices_contact[R], time_changes_contact[R])\n",
    "        model.read_regional_data(matrices_region[R], time_changes_region[R])\n",
    "\n",
    "        # Set regional and time dependent parameters\n",
    "        regional_parameters = wm.RegParameters(\n",
    "            model=model,\n",
    "            region_index=1\n",
    "        )\n",
    "\n",
    "        # Set ICs parameters\n",
    "        ICs_parameters = wm.ICs(\n",
    "            model=model,\n",
    "            susceptibles_IC=scenario_susceptibles_IC[s][R],\n",
    "            exposed1_IC=exposed1_IC[R],\n",
    "            exposed2_IC=exposed2_IC[R],\n",
    "            exposed3_IC=exposed3_IC[R],\n",
    "            exposed4_IC=exposed4_IC[R],\n",
    "            exposed5_IC=exposed5_IC[R],\n",
    "            infectives_sym_IC=infectives_sym_IC[R],\n",
    "            infectives_asym_IC=infectives_asym_IC[R],\n",
    "            recovered_IC=recovered_IC[R]\n",
    "        )\n",
    "\n",
    "        # Set disease-specific parameters\n",
    "        disease_parameters = wm.DiseaseParameters(\n",
    "            model=model,\n",
    "            d=d[R][0],\n",
    "            tau=tau[R],\n",
    "            we=we[R],\n",
    "            omega=omega[R]\n",
    "        )\n",
    "\n",
    "        # Set transmission parameters\n",
    "        transmission_parameters = wm.Transmission(\n",
    "            model=model,\n",
    "            beta=beta[R][0],\n",
    "            alpha=alpha[R],\n",
    "            gamma=gamma[R]\n",
    "        )\n",
    "\n",
    "        # Set other simulation parameters\n",
    "        simulation_parameters = wm.SimParameters(\n",
    "            model=model,\n",
    "            method='Radau',\n",
    "            times=times,\n",
    "            eps=False\n",
    "        )\n",
    "\n",
    "        # Set vaccination parameters\n",
    "        vaccine_parameters = wm.VaccineParameters(\n",
    "            model=model,\n",
    "            vac=vac,\n",
    "            vacb=vacb,\n",
    "            adult=adult,\n",
    "            nu_tra=nu_tra[R],\n",
    "            nu_symp=nu_symp[R],\n",
    "            nu_inf=nu_inf[R],\n",
    "            nu_sev_h=nu_sev_h[R],\n",
    "            nu_sev_d=nu_sev_d[R],\n",
    "        )\n",
    "\n",
    "        # Set social distancing parameters\n",
    "        soc_dist_parameters = wm.SocDistParameters(\n",
    "            model=model,\n",
    "            phi=1\n",
    "        )\n",
    "\n",
    "        # Set all parameters in the controller\n",
    "        parameters = wm.ParametersController(\n",
    "            model=model,\n",
    "            regional_parameters=regional_parameters,\n",
    "            ICs_parameters=ICs_parameters,\n",
    "            disease_parameters=disease_parameters,\n",
    "            transmission_parameters=transmission_parameters,\n",
    "            simulation_parameters=simulation_parameters,\n",
    "            vaccine_parameters=vaccine_parameters,\n",
    "            soc_dist_parameters=soc_dist_parameters\n",
    "        )\n",
    "\n",
    "        # Simulate for all the regions\n",
    "        regimes_outputs = []\n",
    "        for r, reg in enumerate(regions):\n",
    "            # List of initial conditions and parameters that characterise the model\n",
    "            parameters.regional_parameters.region_index = r + 1\n",
    "\n",
    "            parameters.disease_parameters.d = d[R][r]\n",
    "            parameters.transmission_parameters.beta = beta[R][r]\n",
    "\n",
    "            # Simulate using the ODE solver\n",
    "            regimes_outputs.append(model.simulate(parameters))\n",
    "\n",
    "        scenario_outputs.append(regimes_outputs)\n",
    "\n",
    "    outputs.append(scenario_outputs)\n",
    "\n",
    "outputs = np.array(outputs)"
   ]
  },
  {
   "cell_type": "markdown",
   "metadata": {},
   "source": [
    "## Plot the comparments of the two methods against each other\n",
    "### Setup ``plotly`` and default settings for plotting"
   ]
  },
  {
   "cell_type": "code",
   "execution_count": 13,
   "metadata": {},
   "outputs": [],
   "source": [
    "from plotly.subplots import make_subplots\n",
    "\n",
    "colours = ['blue', 'red', 'green', 'purple', 'orange', 'black', 'gray', 'pink']"
   ]
  },
  {
   "cell_type": "markdown",
   "metadata": {},
   "source": [
    "## Number of New Infections, Hospitalisations & Deaths"
   ]
  },
  {
   "cell_type": "code",
   "execution_count": 14,
   "metadata": {},
   "outputs": [],
   "source": [
    "# Simulate for all the regions\n",
    "total_new_deaths = []\n",
    "\n",
    "for s, scenario in enumerate(scenario_names):\n",
    "    scenario_total_new_deaths = []\n",
    "    for R, regime in enumerate(regimes):\n",
    "        regimes_total_new_deaths = []\n",
    "        for r, reg in enumerate(regions):\n",
    "            # Compute regional matrix of new infections for all timepoints simulated\n",
    "            reg_new_infections = model.new_infections(outputs[s, R, r, :, :])\n",
    "\n",
    "            # Compute regional matrix of new hospitalisation for all timepoints simulated\n",
    "            reg_new_hospitalisation = model.new_hospitalisations(reg_new_infections, pItoH[R][r], dItoH[R])\n",
    "\n",
    "            # Compute regional matrix of new deaths for all timepoints simulated\n",
    "            reg_new_deaths = model.new_deaths(reg_new_hospitalisation, pHtoD[R][r], dHtoD[R])\n",
    "\n",
    "            regimes_total_new_deaths.append(np.sum(\n",
    "                reg_new_deaths[0] + reg_new_deaths[1] + reg_new_deaths[2] +\n",
    "                reg_new_deaths[3] + reg_new_deaths[4] + reg_new_deaths[5],\n",
    "                axis=1))\n",
    "\n",
    "        scenario_total_new_deaths.append(regimes_total_new_deaths)\n",
    "\n",
    "    total_new_deaths.append(scenario_total_new_deaths)\n",
    "\n",
    "total_new_deaths = np.array(total_new_deaths)\n"
   ]
  },
  {
   "cell_type": "code",
   "execution_count": 15,
   "metadata": {},
   "outputs": [],
   "source": [
    "# Set up traces to plot\n",
    "total_new_deaths_mean = []\n",
    "total_new_deaths_upper = []\n",
    "total_new_deaths_lower = []\n",
    "\n",
    "for r, _ in enumerate(regions):\n",
    "    # Compute the mean \n",
    "    total_new_deaths_mean.append(np.mean(total_new_deaths[:,:,r,:], axis=1))\n",
    "\n",
    "    # Compute the upper quantiles\n",
    "    total_new_deaths_upper.append(np.quantile(total_new_deaths[:,:,r,:], 0.975, axis=1))\n",
    "\n",
    "    # Compute the lower qunatiles\n",
    "    total_new_deaths_lower.append(np.quantile(total_new_deaths[:,:,r,:], 0.025, axis=1))"
   ]
  },
  {
   "cell_type": "markdown",
   "metadata": {},
   "source": [
    "### Plot the time series of numbers of deaths of the two regions"
   ]
  },
  {
   "cell_type": "code",
   "execution_count": 16,
   "metadata": {},
   "outputs": [
    {
     "data": {
      "application/vnd.plotly.v1+json": {
       "config": {
        "plotlyServerURL": "https://plot.ly"
       },
       "data": [
        {
         "line": {
          "color": "blue"
         },
         "mode": "lines",
         "name": "region United Kingdom",
         "type": "scatter",
         "x": [
          1,
          2,
          3,
          4,
          5,
          6,
          7,
          8,
          9,
          10,
          11,
          12,
          13,
          14,
          15,
          16,
          17,
          18,
          19,
          20,
          21,
          22,
          23,
          24,
          25,
          26,
          27,
          28,
          29,
          30,
          31,
          32,
          33,
          34,
          35,
          36,
          37,
          38,
          39,
          40,
          41,
          42,
          43,
          44,
          45,
          46,
          47,
          48,
          49,
          50,
          51,
          52,
          53,
          54,
          55,
          56,
          57,
          58,
          59,
          60,
          61,
          62,
          63,
          64,
          65,
          66,
          67,
          68,
          69,
          70,
          71,
          72,
          73,
          74,
          75,
          76,
          77,
          78,
          79,
          80,
          81,
          82,
          83,
          84,
          85,
          86,
          87,
          88,
          89,
          90,
          91,
          92,
          93,
          94,
          95,
          96,
          97,
          98,
          99,
          100
         ],
         "y": [
          1.5206630271392183,
          3.416669067116449,
          5.367744214574959,
          7.175547329214884,
          8.73321925421087,
          10.032392991955026,
          11.130013899406055,
          12.10420987093744,
          13.024475694666842,
          13.940816406869988,
          14.884899412783655,
          15.87611256339774,
          16.92729941415898,
          18.048443206020668,
          19.248442750995657,
          20.53559805567786,
          21.917781292937512,
          23.402261941623046,
          24.995731575840367,
          26.7043417514902,
          28.533719987517287,
          30.488893412624442,
          32.57473706720755,
          34.79576166205102,
          37.155721425252906,
          39.65748836749059,
          42.30302100013136,
          45.09335552434157,
          48.02858455134954,
          51.10771629757076,
          54.21355322276983,
          57.39464424865654,
          60.670761882311965,
          64.05588958196522,
          67.55760114294293,
          71.17465648094719,
          74.8978145928373,
          78.71228522939029,
          82.60009475505572,
          86.54193515430975,
          90.51814137201113,
          94.50883837674266,
          98.4938255816392,
          102.45262838297432,
          106.36448523348534,
          110.20861927102443,
          113.96429816350394,
          117.61139179331957,
          121.13077766504004,
          124.50448042212312,
          127.71577241514375,
          130.7492906212953,
          133.59115015522275,
          136.22911652666173,
          138.65276396824115,
          140.85353555062488,
          142.82481122908158,
          144.5618516525426,
          146.06167310736268,
          147.32304495828103,
          148.34868232732597,
          149.14055000388225,
          149.70205033894382,
          150.03802517159815,
          150.1544291558185,
          150.0583757365458,
          149.75803352997585,
          149.2624831378451,
          148.58163835786684,
          147.72608998337577,
          146.70697716214153,
          145.5358813891598,
          144.2246508449818,
          142.78527789956283,
          141.22987854988722,
          139.57053157066625,
          137.81919138993,
          135.98764909692943,
          134.0874348630051,
          132.1297584750366,
          130.12545841778262,
          128.08496014104966,
          126.0182460687773,
          123.93480685985861,
          121.84360625429701,
          119.75306525878378,
          117.6710448441922,
          115.6048360444115,
          113.56116110337142,
          111.54617471950137,
          109.56546627405395,
          107.62407035005128,
          105.72649021787203,
          103.8767123170593,
          102.07824948130532,
          100.33415676513773,
          98.64705831523374,
          97.0191780512695,
          95.45236326325983,
          93.94811006034409
         ]
        },
        {
         "fill": "toself",
         "fillcolor": "blue",
         "line": {
          "color": "blue"
         },
         "mode": "lines",
         "name": "region United Kingdom",
         "opacity": 0.15,
         "type": "scatter",
         "x": [
          1,
          2,
          3,
          4,
          5,
          6,
          7,
          8,
          9,
          10,
          11,
          12,
          13,
          14,
          15,
          16,
          17,
          18,
          19,
          20,
          21,
          22,
          23,
          24,
          25,
          26,
          27,
          28,
          29,
          30,
          31,
          32,
          33,
          34,
          35,
          36,
          37,
          38,
          39,
          40,
          41,
          42,
          43,
          44,
          45,
          46,
          47,
          48,
          49,
          50,
          51,
          52,
          53,
          54,
          55,
          56,
          57,
          58,
          59,
          60,
          61,
          62,
          63,
          64,
          65,
          66,
          67,
          68,
          69,
          70,
          71,
          72,
          73,
          74,
          75,
          76,
          77,
          78,
          79,
          80,
          81,
          82,
          83,
          84,
          85,
          86,
          87,
          88,
          89,
          90,
          91,
          92,
          93,
          94,
          95,
          96,
          97,
          98,
          99,
          100,
          100,
          99,
          98,
          97,
          96,
          95,
          94,
          93,
          92,
          91,
          90,
          89,
          88,
          87,
          86,
          85,
          84,
          83,
          82,
          81,
          80,
          79,
          78,
          77,
          76,
          75,
          74,
          73,
          72,
          71,
          70,
          69,
          68,
          67,
          66,
          65,
          64,
          63,
          62,
          61,
          60,
          59,
          58,
          57,
          56,
          55,
          54,
          53,
          52,
          51,
          50,
          49,
          48,
          47,
          46,
          45,
          44,
          43,
          42,
          41,
          40,
          39,
          38,
          37,
          36,
          35,
          34,
          33,
          32,
          31,
          30,
          29,
          28,
          27,
          26,
          25,
          24,
          23,
          22,
          21,
          20,
          19,
          18,
          17,
          16,
          15,
          14,
          13,
          12,
          11,
          10,
          9,
          8,
          7,
          6,
          5,
          4,
          3,
          2,
          1
         ],
         "y": [
          1.80411727491581,
          4.053708893630807,
          6.37111435676232,
          8.526379384464589,
          10.397914695760011,
          11.97774563977794,
          13.331482901684156,
          14.547222213979582,
          15.70206063616654,
          16.850615798086586,
          18.027377755327834,
          19.253557665334682,
          20.543850406524975,
          21.91001446143956,
          23.3626311221415,
          24.911371732955335,
          26.565193752267266,
          28.332114711380612,
          30.219364684247132,
          32.23350790009909,
          34.38051060075602,
          36.66560314232456,
          39.09365261654763,
          41.669424619175246,
          44.39687332902807,
          47.27898537242302,
          50.317743950072995,
          53.51413497722303,
          56.86817102962078,
          60.378804219673064,
          63.90739779223366,
          67.57242771411764,
          71.55881126309373,
          75.67785809525672,
          79.93509329782454,
          84.32638848880163,
          88.83931575163834,
          93.45485121413206,
          98.15034886831926,
          102.90187295662997,
          107.6850143679714,
          112.47501624532295,
          117.24662913707759,
          121.97418096957274,
          126.63186344062223,
          131.19301103222844,
          135.63179425359476,
          140.12341192115363,
          144.6889729139009,
          149.10904441188447,
          153.3615096732733,
          157.42565168512172,
          161.28217826263594,
          164.91317232987328,
          168.30247571130786,
          171.43602373197447,
          174.30201650327677,
          176.89093287953662,
          179.19549329407016,
          181.21060017577503,
          182.93558401055458,
          184.36927809516865,
          185.51174906941947,
          186.36594388160276,
          186.93698209232508,
          187.23152352655947,
          187.25756168265542,
          187.0242838283337,
          186.54192187159308,
          185.8217638436994,
          184.87606076555863,
          183.71793904775933,
          182.36128144895113,
          180.82018318871647,
          179.10955221842772,
          177.24443901228983,
          175.2397948060605,
          173.11049768722464,
          170.87121339653416,
          168.53631812569614,
          166.1198550600692,
          163.63550867584087,
          161.0965895073099,
          158.51595891268528,
          155.9058868337278,
          153.27803599555025,
          150.64339854811828,
          148.0122752957462,
          145.39426960682619,
          142.79828907285267,
          140.23255168673325,
          137.70459515096167,
          135.22134267883408,
          132.78900085795956,
          130.41310332664685,
          128.0985351912492,
          125.84958094538193,
          123.66998232302218,
          121.56297315199855,
          119.53130443732556,
          62.30336216036557,
          63.312410764427824,
          64.38394055075928,
          65.51848279358784,
          66.71636043584843,
          67.97766520970903,
          69.30222919144185,
          70.68958717628865,
          72.13891795819872,
          73.64902799910291,
          75.21830828186884,
          76.844683675724,
          78.39458988571963,
          79.8095867447988,
          81.25014800095438,
          82.71216902281617,
          84.191130126576,
          85.68207911666386,
          87.17962735451931,
          88.6779478518647,
          90.17077654950835,
          91.65141834811817,
          93.11276077416727,
          94.54730451107258,
          95.94721608464361,
          97.30432166718401,
          98.6101986115989,
          99.85620730034945,
          101.03350939766379,
          102.13309799831488,
          103.14585062874886,
          104.06264298239637,
          104.8742974397409,
          105.57170952606944,
          106.14620237914303,
          106.58946112124362,
          106.89372989038124,
          107.05194736664717,
          107.05775495989603,
          106.90541726224866,
          106.5897646641941,
          106.1063034324869,
          105.44927728172492,
          104.61587342537746,
          103.60518504031127,
          102.41754118523522,
          101.05447918796916,
          99.51895451865454,
          97.81537992598398,
          95.94967020727941,
          93.9292759869292,
          91.76319458149291,
          89.46192921804989,
          87.03726362677695,
          84.50187403392798,
          81.86930521467552,
          79.15398326062828,
          76.37120347119927,
          73.53711420110203,
          70.66865255813589,
          67.7832699543144,
          64.89750013180875,
          62.02833578450907,
          59.19284092895858,
          56.407213431265326,
          53.685264007331845,
          51.0360166061282,
          48.46131009665849,
          45.72262191972624,
          42.83340614693238,
          40.03951411818392,
          37.309732066689016,
          34.72531267900734,
          32.28697154580156,
          29.993878248104323,
          27.844380910211125,
          25.835674025128625,
          23.964128237407834,
          22.22528455042442,
          20.613879977657838,
          19.123957212734265,
          17.74931809483407,
          16.483845088773247,
          15.320892985043372,
          14.25353495919526,
          13.274571493489455,
          12.376640116821642,
          11.552353665243544,
          10.794129688677213,
          10.093681956821534,
          9.440528138039891,
          8.819051738086536,
          8.204364543601967,
          7.558100120236228,
          6.82809021186554,
          5.956707537277713,
          4.902433084003847,
          3.6709384200170847,
          2.3374733302169792,
          1.040383330035845
         ]
        },
        {
         "line": {
          "color": "red"
         },
         "mode": "lines",
         "name": "region France",
         "type": "scatter",
         "x": [
          1,
          2,
          3,
          4,
          5,
          6,
          7,
          8,
          9,
          10,
          11,
          12,
          13,
          14,
          15,
          16,
          17,
          18,
          19,
          20,
          21,
          22,
          23,
          24,
          25,
          26,
          27,
          28,
          29,
          30,
          31,
          32,
          33,
          34,
          35,
          36,
          37,
          38,
          39,
          40,
          41,
          42,
          43,
          44,
          45,
          46,
          47,
          48,
          49,
          50,
          51,
          52,
          53,
          54,
          55,
          56,
          57,
          58,
          59,
          60,
          61,
          62,
          63,
          64,
          65,
          66,
          67,
          68,
          69,
          70,
          71,
          72,
          73,
          74,
          75,
          76,
          77,
          78,
          79,
          80,
          81,
          82,
          83,
          84,
          85,
          86,
          87,
          88,
          89,
          90,
          91,
          92,
          93,
          94,
          95,
          96,
          97,
          98,
          99,
          100
         ],
         "y": [
          1.4983078041050215,
          3.366945060822535,
          5.297922677225426,
          7.1160531196919745,
          8.741970616927404,
          10.18929384752268,
          11.527051906980569,
          12.836734925818252,
          14.18627455284212,
          15.623618618851967,
          17.180190046031544,
          18.878603864899222,
          20.737565656726932,
          22.77503244071155,
          25.00831827182126,
          27.453965909104195,
          30.12736222128024,
          33.04236131013184,
          36.210897365562225,
          39.64285026018691,
          43.34587768981185,
          47.3256731469612,
          51.585522750751736,
          56.125177709837686,
          60.94045620286401,
          66.02315813294726,
          71.36100126201367,
          76.93702856078343,
          82.72900298979923,
          88.70981762132364,
          94.73449430092529,
          100.81833570759768,
          106.94545032549489,
          113.09071196052003,
          119.22028346692156,
          125.29212947899501,
          131.2582575197499,
          137.06792287739574,
          142.67084688150587,
          148.01945714668082,
          153.07053563587536,
          157.78609348934933,
          162.1337041702836,
          166.08655377276824,
          169.62358112261464,
          172.72962557908494,
          175.3953518447826,
          177.61705133801024,
          179.39597651734155,
          180.73791386351215,
          181.6526471894206,
          182.15361716521468,
          182.2570457635298,
          181.98156118990508,
          181.34761951031237,
          180.3769285680795,
          179.09213580952812,
          177.5165351787617,
          175.67388045360224,
          173.58808876160276,
          171.28514126756178,
          168.78848626134663,
          166.12120767977572,
          163.30596698975216,
          160.3650081220332,
          157.32008619329392,
          154.19235674443362,
          151.00227819608796,
          147.76953285068493,
          144.51289651290583,
          141.25012689157168,
          137.9978452349807,
          134.77145273035177,
          131.58511224973213,
          128.4517047655288,
          125.38279418049376,
          122.38862708018331,
          119.47814390159704,
          116.6590536581088,
          113.93787182014908,
          111.31997868509174,
          108.80968915602254,
          106.41034466811054,
          104.12439089640552,
          101.95347463340788,
          99.89853731459424,
          97.95991140004188,
          96.13739696480623,
          94.43033112073073,
          92.83766321324201,
          91.35801730632907,
          89.98975339386256,
          88.7310169618182,
          87.57978661149166,
          86.53391532280708,
          85.59116817890774,
          84.74925489656462,
          84.00585512819902,
          83.35863806813835,
          82.80528380556089
         ]
        },
        {
         "fill": "toself",
         "fillcolor": "red",
         "line": {
          "color": "red"
         },
         "mode": "lines",
         "name": "region France",
         "opacity": 0.15,
         "type": "scatter",
         "x": [
          1,
          2,
          3,
          4,
          5,
          6,
          7,
          8,
          9,
          10,
          11,
          12,
          13,
          14,
          15,
          16,
          17,
          18,
          19,
          20,
          21,
          22,
          23,
          24,
          25,
          26,
          27,
          28,
          29,
          30,
          31,
          32,
          33,
          34,
          35,
          36,
          37,
          38,
          39,
          40,
          41,
          42,
          43,
          44,
          45,
          46,
          47,
          48,
          49,
          50,
          51,
          52,
          53,
          54,
          55,
          56,
          57,
          58,
          59,
          60,
          61,
          62,
          63,
          64,
          65,
          66,
          67,
          68,
          69,
          70,
          71,
          72,
          73,
          74,
          75,
          76,
          77,
          78,
          79,
          80,
          81,
          82,
          83,
          84,
          85,
          86,
          87,
          88,
          89,
          90,
          91,
          92,
          93,
          94,
          95,
          96,
          97,
          98,
          99,
          100,
          100,
          99,
          98,
          97,
          96,
          95,
          94,
          93,
          92,
          91,
          90,
          89,
          88,
          87,
          86,
          85,
          84,
          83,
          82,
          81,
          80,
          79,
          78,
          77,
          76,
          75,
          74,
          73,
          72,
          71,
          70,
          69,
          68,
          67,
          66,
          65,
          64,
          63,
          62,
          61,
          60,
          59,
          58,
          57,
          56,
          55,
          54,
          53,
          52,
          51,
          50,
          49,
          48,
          47,
          46,
          45,
          44,
          43,
          42,
          41,
          40,
          39,
          38,
          37,
          36,
          35,
          34,
          33,
          32,
          31,
          30,
          29,
          28,
          27,
          26,
          25,
          24,
          23,
          22,
          21,
          20,
          19,
          18,
          17,
          16,
          15,
          14,
          13,
          12,
          11,
          10,
          9,
          8,
          7,
          6,
          5,
          4,
          3,
          2,
          1
         ],
         "y": [
          1.7775949992105453,
          3.994788149944528,
          6.289490930911799,
          8.46152945698294,
          10.42420260340332,
          12.19661936275487,
          13.85838038930532,
          15.500540987037292,
          17.197579392806972,
          19.00148276072848,
          20.946937028819367,
          23.05978088539789,
          25.362377738049545,
          27.87639477210936,
          30.622469180915143,
          33.619770603721406,
          36.88549226672897,
          40.43508515790138,
          44.28168839710795,
          48.43599133039285,
          52.90624616845783,
          57.697867483241765,
          62.81416690683049,
          68.25492096564736,
          74.01538148068734,
          80.08608058733225,
          86.45285337298394,
          93.0970917130707,
          99.99400883790824,
          107.11331190918298,
          114.2852873664473,
          121.53087887745735,
          128.83386601172276,
          136.63637292147416,
          144.4671194056895,
          152.2704539776757,
          159.98513070899483,
          167.54737232174293,
          174.89363457012345,
          181.96224052503155,
          188.69508795848355,
          195.03882814625547,
          200.94675639960178,
          206.37916935029864,
          211.30341087077088,
          215.69381730664472,
          219.53112474382277,
          222.80509884185514,
          225.51233172065633,
          227.6551809265966,
          229.2412823777434,
          230.2832398662718,
          230.79805767984917,
          230.8066716234336,
          230.3334979307426,
          229.40475480728483,
          228.04795993135127,
          226.29170101172258,
          224.16563076486727,
          221.7001348050394,
          218.92821127724397,
          215.88020742491676,
          212.58609023185565,
          209.07526210730177,
          205.3768805899542,
          201.51978623560052,
          197.53213859940394,
          193.4411334426889,
          189.27300358943137,
          185.05296580670156,
          180.8050963625737,
          176.55219965077396,
          172.31560556829243,
          168.11505946083957,
          163.96875803607264,
          159.89308596064464,
          155.90285292436153,
          152.01113151509614,
          148.2293681361465,
          144.5674641723167,
          141.0338281139509,
          137.63541661056405,
          134.3778642988999,
          131.26547129552395,
          128.30135473840997,
          125.48767050562145,
          122.82573512933989,
          120.31611135284638,
          117.958671930691,
          115.75267733447386,
          113.69687530527105,
          111.789598062962,
          110.02883657681934,
          108.4123336989941,
          106.93763270208633,
          105.60211682673304,
          104.4030569870279,
          103.33765589569148,
          102.40307132333236,
          101.59645423543385,
          58.93702675078653,
          59.12804335442162,
          59.381184443000805,
          59.6987269136762,
          60.08301988583762,
          60.5364787644103,
          61.06158216829765,
          61.66086097061114,
          62.3368836375107,
          63.092240322477544,
          63.92951091992193,
          64.85124185325293,
          65.85992407143961,
          66.95795665997221,
          68.1475929119888,
          69.43089979357545,
          70.80970055980129,
          72.28547361318986,
          73.8592977024856,
          75.53172077980301,
          77.3026764133686,
          79.17141726375259,
          81.1364508464646,
          83.06931203529318,
          84.95801837905653,
          86.90841764428586,
          88.91509454702401,
          90.9717699054849,
          93.07124725087677,
          95.20540962469728,
          97.3652075260856,
          99.54073253923367,
          101.72126938595783,
          103.89525666475804,
          106.05027192552232,
          108.17324413941704,
          110.25060027171767,
          112.26828385913396,
          114.21178822250174,
          116.06608739168884,
          117.81560020653349,
          119.44430156706343,
          120.93385920917048,
          122.26761570475597,
          123.42877547107481,
          124.40042224085583,
          125.16559669750777,
          125.70757509264854,
          126.01032377953436,
          126.05871695556453,
          125.83884122474663,
          125.33810823281972,
          124.545459777302,
          123.45184390811968,
          122.05184589535372,
          120.34299960175308,
          118.32644327253391,
          116.00704180130839,
          113.39353713742373,
          110.49885321472276,
          107.34082936210021,
          103.94176490118811,
          100.32794034328637,
          96.52980220810059,
          92.58128741486458,
          88.51790398969106,
          84.37242397344791,
          80.17251366063157,
          75.9389312114829,
          71.68725974893154,
          67.4280400555985,
          62.86532876228685,
          58.11788898933955,
          53.56173581934608,
          49.21887005130461,
          45.10593323106557,
          41.234249722522335,
          37.610340424461135,
          34.23695194559053,
          31.113199622757488,
          28.234626875484487,
          25.593547994290574,
          23.180561417164682,
          20.984971983052056,
          18.994320051561278,
          17.194802222771738,
          15.571625515604824,
          14.109795890663303,
          12.79429508869207,
          11.610073172898845,
          10.541663834224677,
          9.570417530811792,
          8.67083519989127,
          7.804835034766303,
          6.919920101584257,
          5.954794345983261,
          4.858780846747622,
          3.622528347384219,
          2.303415149803528,
          1.0250886848916376
         ]
        }
       ],
       "layout": {
        "boxmode": "group",
        "legend": {
         "orientation": "h",
         "x": 1,
         "xanchor": "right",
         "y": 1.02,
         "yanchor": "bottom"
        },
        "plot_bgcolor": "white",
        "template": {
         "data": {
          "bar": [
           {
            "error_x": {
             "color": "#2a3f5f"
            },
            "error_y": {
             "color": "#2a3f5f"
            },
            "marker": {
             "line": {
              "color": "#E5ECF6",
              "width": 0.5
             },
             "pattern": {
              "fillmode": "overlay",
              "size": 10,
              "solidity": 0.2
             }
            },
            "type": "bar"
           }
          ],
          "barpolar": [
           {
            "marker": {
             "line": {
              "color": "#E5ECF6",
              "width": 0.5
             },
             "pattern": {
              "fillmode": "overlay",
              "size": 10,
              "solidity": 0.2
             }
            },
            "type": "barpolar"
           }
          ],
          "carpet": [
           {
            "aaxis": {
             "endlinecolor": "#2a3f5f",
             "gridcolor": "white",
             "linecolor": "white",
             "minorgridcolor": "white",
             "startlinecolor": "#2a3f5f"
            },
            "baxis": {
             "endlinecolor": "#2a3f5f",
             "gridcolor": "white",
             "linecolor": "white",
             "minorgridcolor": "white",
             "startlinecolor": "#2a3f5f"
            },
            "type": "carpet"
           }
          ],
          "choropleth": [
           {
            "colorbar": {
             "outlinewidth": 0,
             "ticks": ""
            },
            "type": "choropleth"
           }
          ],
          "contour": [
           {
            "colorbar": {
             "outlinewidth": 0,
             "ticks": ""
            },
            "colorscale": [
             [
              0,
              "#0d0887"
             ],
             [
              0.1111111111111111,
              "#46039f"
             ],
             [
              0.2222222222222222,
              "#7201a8"
             ],
             [
              0.3333333333333333,
              "#9c179e"
             ],
             [
              0.4444444444444444,
              "#bd3786"
             ],
             [
              0.5555555555555556,
              "#d8576b"
             ],
             [
              0.6666666666666666,
              "#ed7953"
             ],
             [
              0.7777777777777778,
              "#fb9f3a"
             ],
             [
              0.8888888888888888,
              "#fdca26"
             ],
             [
              1,
              "#f0f921"
             ]
            ],
            "type": "contour"
           }
          ],
          "contourcarpet": [
           {
            "colorbar": {
             "outlinewidth": 0,
             "ticks": ""
            },
            "type": "contourcarpet"
           }
          ],
          "heatmap": [
           {
            "colorbar": {
             "outlinewidth": 0,
             "ticks": ""
            },
            "colorscale": [
             [
              0,
              "#0d0887"
             ],
             [
              0.1111111111111111,
              "#46039f"
             ],
             [
              0.2222222222222222,
              "#7201a8"
             ],
             [
              0.3333333333333333,
              "#9c179e"
             ],
             [
              0.4444444444444444,
              "#bd3786"
             ],
             [
              0.5555555555555556,
              "#d8576b"
             ],
             [
              0.6666666666666666,
              "#ed7953"
             ],
             [
              0.7777777777777778,
              "#fb9f3a"
             ],
             [
              0.8888888888888888,
              "#fdca26"
             ],
             [
              1,
              "#f0f921"
             ]
            ],
            "type": "heatmap"
           }
          ],
          "heatmapgl": [
           {
            "colorbar": {
             "outlinewidth": 0,
             "ticks": ""
            },
            "colorscale": [
             [
              0,
              "#0d0887"
             ],
             [
              0.1111111111111111,
              "#46039f"
             ],
             [
              0.2222222222222222,
              "#7201a8"
             ],
             [
              0.3333333333333333,
              "#9c179e"
             ],
             [
              0.4444444444444444,
              "#bd3786"
             ],
             [
              0.5555555555555556,
              "#d8576b"
             ],
             [
              0.6666666666666666,
              "#ed7953"
             ],
             [
              0.7777777777777778,
              "#fb9f3a"
             ],
             [
              0.8888888888888888,
              "#fdca26"
             ],
             [
              1,
              "#f0f921"
             ]
            ],
            "type": "heatmapgl"
           }
          ],
          "histogram": [
           {
            "marker": {
             "pattern": {
              "fillmode": "overlay",
              "size": 10,
              "solidity": 0.2
             }
            },
            "type": "histogram"
           }
          ],
          "histogram2d": [
           {
            "colorbar": {
             "outlinewidth": 0,
             "ticks": ""
            },
            "colorscale": [
             [
              0,
              "#0d0887"
             ],
             [
              0.1111111111111111,
              "#46039f"
             ],
             [
              0.2222222222222222,
              "#7201a8"
             ],
             [
              0.3333333333333333,
              "#9c179e"
             ],
             [
              0.4444444444444444,
              "#bd3786"
             ],
             [
              0.5555555555555556,
              "#d8576b"
             ],
             [
              0.6666666666666666,
              "#ed7953"
             ],
             [
              0.7777777777777778,
              "#fb9f3a"
             ],
             [
              0.8888888888888888,
              "#fdca26"
             ],
             [
              1,
              "#f0f921"
             ]
            ],
            "type": "histogram2d"
           }
          ],
          "histogram2dcontour": [
           {
            "colorbar": {
             "outlinewidth": 0,
             "ticks": ""
            },
            "colorscale": [
             [
              0,
              "#0d0887"
             ],
             [
              0.1111111111111111,
              "#46039f"
             ],
             [
              0.2222222222222222,
              "#7201a8"
             ],
             [
              0.3333333333333333,
              "#9c179e"
             ],
             [
              0.4444444444444444,
              "#bd3786"
             ],
             [
              0.5555555555555556,
              "#d8576b"
             ],
             [
              0.6666666666666666,
              "#ed7953"
             ],
             [
              0.7777777777777778,
              "#fb9f3a"
             ],
             [
              0.8888888888888888,
              "#fdca26"
             ],
             [
              1,
              "#f0f921"
             ]
            ],
            "type": "histogram2dcontour"
           }
          ],
          "mesh3d": [
           {
            "colorbar": {
             "outlinewidth": 0,
             "ticks": ""
            },
            "type": "mesh3d"
           }
          ],
          "parcoords": [
           {
            "line": {
             "colorbar": {
              "outlinewidth": 0,
              "ticks": ""
             }
            },
            "type": "parcoords"
           }
          ],
          "pie": [
           {
            "automargin": true,
            "type": "pie"
           }
          ],
          "scatter": [
           {
            "fillpattern": {
             "fillmode": "overlay",
             "size": 10,
             "solidity": 0.2
            },
            "type": "scatter"
           }
          ],
          "scatter3d": [
           {
            "line": {
             "colorbar": {
              "outlinewidth": 0,
              "ticks": ""
             }
            },
            "marker": {
             "colorbar": {
              "outlinewidth": 0,
              "ticks": ""
             }
            },
            "type": "scatter3d"
           }
          ],
          "scattercarpet": [
           {
            "marker": {
             "colorbar": {
              "outlinewidth": 0,
              "ticks": ""
             }
            },
            "type": "scattercarpet"
           }
          ],
          "scattergeo": [
           {
            "marker": {
             "colorbar": {
              "outlinewidth": 0,
              "ticks": ""
             }
            },
            "type": "scattergeo"
           }
          ],
          "scattergl": [
           {
            "marker": {
             "colorbar": {
              "outlinewidth": 0,
              "ticks": ""
             }
            },
            "type": "scattergl"
           }
          ],
          "scattermapbox": [
           {
            "marker": {
             "colorbar": {
              "outlinewidth": 0,
              "ticks": ""
             }
            },
            "type": "scattermapbox"
           }
          ],
          "scatterpolar": [
           {
            "marker": {
             "colorbar": {
              "outlinewidth": 0,
              "ticks": ""
             }
            },
            "type": "scatterpolar"
           }
          ],
          "scatterpolargl": [
           {
            "marker": {
             "colorbar": {
              "outlinewidth": 0,
              "ticks": ""
             }
            },
            "type": "scatterpolargl"
           }
          ],
          "scatterternary": [
           {
            "marker": {
             "colorbar": {
              "outlinewidth": 0,
              "ticks": ""
             }
            },
            "type": "scatterternary"
           }
          ],
          "surface": [
           {
            "colorbar": {
             "outlinewidth": 0,
             "ticks": ""
            },
            "colorscale": [
             [
              0,
              "#0d0887"
             ],
             [
              0.1111111111111111,
              "#46039f"
             ],
             [
              0.2222222222222222,
              "#7201a8"
             ],
             [
              0.3333333333333333,
              "#9c179e"
             ],
             [
              0.4444444444444444,
              "#bd3786"
             ],
             [
              0.5555555555555556,
              "#d8576b"
             ],
             [
              0.6666666666666666,
              "#ed7953"
             ],
             [
              0.7777777777777778,
              "#fb9f3a"
             ],
             [
              0.8888888888888888,
              "#fdca26"
             ],
             [
              1,
              "#f0f921"
             ]
            ],
            "type": "surface"
           }
          ],
          "table": [
           {
            "cells": {
             "fill": {
              "color": "#EBF0F8"
             },
             "line": {
              "color": "white"
             }
            },
            "header": {
             "fill": {
              "color": "#C8D4E3"
             },
             "line": {
              "color": "white"
             }
            },
            "type": "table"
           }
          ]
         },
         "layout": {
          "annotationdefaults": {
           "arrowcolor": "#2a3f5f",
           "arrowhead": 0,
           "arrowwidth": 1
          },
          "autotypenumbers": "strict",
          "coloraxis": {
           "colorbar": {
            "outlinewidth": 0,
            "ticks": ""
           }
          },
          "colorscale": {
           "diverging": [
            [
             0,
             "#8e0152"
            ],
            [
             0.1,
             "#c51b7d"
            ],
            [
             0.2,
             "#de77ae"
            ],
            [
             0.3,
             "#f1b6da"
            ],
            [
             0.4,
             "#fde0ef"
            ],
            [
             0.5,
             "#f7f7f7"
            ],
            [
             0.6,
             "#e6f5d0"
            ],
            [
             0.7,
             "#b8e186"
            ],
            [
             0.8,
             "#7fbc41"
            ],
            [
             0.9,
             "#4d9221"
            ],
            [
             1,
             "#276419"
            ]
           ],
           "sequential": [
            [
             0,
             "#0d0887"
            ],
            [
             0.1111111111111111,
             "#46039f"
            ],
            [
             0.2222222222222222,
             "#7201a8"
            ],
            [
             0.3333333333333333,
             "#9c179e"
            ],
            [
             0.4444444444444444,
             "#bd3786"
            ],
            [
             0.5555555555555556,
             "#d8576b"
            ],
            [
             0.6666666666666666,
             "#ed7953"
            ],
            [
             0.7777777777777778,
             "#fb9f3a"
            ],
            [
             0.8888888888888888,
             "#fdca26"
            ],
            [
             1,
             "#f0f921"
            ]
           ],
           "sequentialminus": [
            [
             0,
             "#0d0887"
            ],
            [
             0.1111111111111111,
             "#46039f"
            ],
            [
             0.2222222222222222,
             "#7201a8"
            ],
            [
             0.3333333333333333,
             "#9c179e"
            ],
            [
             0.4444444444444444,
             "#bd3786"
            ],
            [
             0.5555555555555556,
             "#d8576b"
            ],
            [
             0.6666666666666666,
             "#ed7953"
            ],
            [
             0.7777777777777778,
             "#fb9f3a"
            ],
            [
             0.8888888888888888,
             "#fdca26"
            ],
            [
             1,
             "#f0f921"
            ]
           ]
          },
          "colorway": [
           "#636efa",
           "#EF553B",
           "#00cc96",
           "#ab63fa",
           "#FFA15A",
           "#19d3f3",
           "#FF6692",
           "#B6E880",
           "#FF97FF",
           "#FECB52"
          ],
          "font": {
           "color": "#2a3f5f"
          },
          "geo": {
           "bgcolor": "white",
           "lakecolor": "white",
           "landcolor": "#E5ECF6",
           "showlakes": true,
           "showland": true,
           "subunitcolor": "white"
          },
          "hoverlabel": {
           "align": "left"
          },
          "hovermode": "closest",
          "mapbox": {
           "style": "light"
          },
          "paper_bgcolor": "white",
          "plot_bgcolor": "#E5ECF6",
          "polar": {
           "angularaxis": {
            "gridcolor": "white",
            "linecolor": "white",
            "ticks": ""
           },
           "bgcolor": "#E5ECF6",
           "radialaxis": {
            "gridcolor": "white",
            "linecolor": "white",
            "ticks": ""
           }
          },
          "scene": {
           "xaxis": {
            "backgroundcolor": "#E5ECF6",
            "gridcolor": "white",
            "gridwidth": 2,
            "linecolor": "white",
            "showbackground": true,
            "ticks": "",
            "zerolinecolor": "white"
           },
           "yaxis": {
            "backgroundcolor": "#E5ECF6",
            "gridcolor": "white",
            "gridwidth": 2,
            "linecolor": "white",
            "showbackground": true,
            "ticks": "",
            "zerolinecolor": "white"
           },
           "zaxis": {
            "backgroundcolor": "#E5ECF6",
            "gridcolor": "white",
            "gridwidth": 2,
            "linecolor": "white",
            "showbackground": true,
            "ticks": "",
            "zerolinecolor": "white"
           }
          },
          "shapedefaults": {
           "line": {
            "color": "#2a3f5f"
           }
          },
          "ternary": {
           "aaxis": {
            "gridcolor": "white",
            "linecolor": "white",
            "ticks": ""
           },
           "baxis": {
            "gridcolor": "white",
            "linecolor": "white",
            "ticks": ""
           },
           "bgcolor": "#E5ECF6",
           "caxis": {
            "gridcolor": "white",
            "linecolor": "white",
            "ticks": ""
           }
          },
          "title": {
           "x": 0.05
          },
          "xaxis": {
           "automargin": true,
           "gridcolor": "white",
           "linecolor": "white",
           "ticks": "",
           "title": {
            "standoff": 15
           },
           "zerolinecolor": "white",
           "zerolinewidth": 2
          },
          "yaxis": {
           "automargin": true,
           "gridcolor": "white",
           "linecolor": "white",
           "ticks": "",
           "title": {
            "standoff": 15
           },
           "zerolinecolor": "white",
           "zerolinewidth": 2
          }
         }
        },
        "title": {
         "text": "Deaths for Scenario: Prioritise 75+"
        },
        "width": 800,
        "xaxis": {
         "linecolor": "black"
        },
        "yaxis": {
         "linecolor": "black"
        }
       }
      }
     },
     "metadata": {},
     "output_type": "display_data"
    },
    {
     "data": {
      "application/vnd.plotly.v1+json": {
       "config": {
        "plotlyServerURL": "https://plot.ly"
       },
       "data": [
        {
         "line": {
          "color": "blue"
         },
         "mode": "lines",
         "name": "region United Kingdom",
         "type": "scatter",
         "x": [
          1,
          2,
          3,
          4,
          5,
          6,
          7,
          8,
          9,
          10,
          11,
          12,
          13,
          14,
          15,
          16,
          17,
          18,
          19,
          20,
          21,
          22,
          23,
          24,
          25,
          26,
          27,
          28,
          29,
          30,
          31,
          32,
          33,
          34,
          35,
          36,
          37,
          38,
          39,
          40,
          41,
          42,
          43,
          44,
          45,
          46,
          47,
          48,
          49,
          50,
          51,
          52,
          53,
          54,
          55,
          56,
          57,
          58,
          59,
          60,
          61,
          62,
          63,
          64,
          65,
          66,
          67,
          68,
          69,
          70,
          71,
          72,
          73,
          74,
          75,
          76,
          77,
          78,
          79,
          80,
          81,
          82,
          83,
          84,
          85,
          86,
          87,
          88,
          89,
          90,
          91,
          92,
          93,
          94,
          95,
          96,
          97,
          98,
          99,
          100
         ],
         "y": [
          1.5206630271392183,
          3.4169061310163302,
          5.372006384223713,
          7.197059271613196,
          8.797152222411686,
          10.173585039187667,
          11.388090861263386,
          12.518451828715786,
          13.630071857204905,
          14.766926285710388,
          15.954571287112756,
          17.207214851363652,
          18.5340664244359,
          19.94308597369722,
          21.44238799748014,
          23.040324781743003,
          24.745453690124126,
          26.56605748247372,
          28.510000500678032,
          30.584702807025877,
          32.79712367827478,
          35.153623021430676,
          37.66039207016658,
          40.32341895670357,
          43.14794958736509,
          46.1382583684157,
          49.297590115088795,
          52.628134739652076,
          56.131035123785836,
          59.8062424795717,
          63.537376265781695,
          67.37367821263356,
          71.33512059361486,
          75.43503061414494,
          79.6796301281088,
          84.06591024393558,
          88.58275292361728,
          93.21365387322066,
          97.9390348690523,
          102.73758180722918,
          107.58724244189105,
          112.46554445370741,
          117.349226956166,
          122.21435659141348,
          127.03639875526915,
          131.79023464977615,
          136.45060074361385,
          140.99236840655598,
          145.3912178628482,
          149.62394481428476,
          153.6686832624536,
          157.50507415605034,
          161.11441561456485,
          164.4798339421931,
          167.5865484457119,
          170.42201932585888,
          172.97599795905558,
          175.24068326319554,
          177.210530975391,
          178.88229298607675,
          180.2569616511694,
          181.33549506168833,
          182.1207525113179,
          182.61752956644233,
          182.8323755596323,
          182.77326950208678,
          182.44970392376104,
          181.87247209699478,
          181.05342628544918,
          180.00541625902596,
          178.74205743691857,
          177.27760843097195,
          175.6268552853024,
          173.8048521228215,
          171.82685718595224,
          169.70822127765064,
          167.46421685643233,
          165.10993633437099,
          162.66023292696138,
          160.1296087123667,
          157.53214104258487,
          154.88141568295993,
          152.19047022098593,
          149.47175930361504,
          146.73709489809946,
          143.9976065893855,
          141.2637215031723,
          138.54514096568468,
          135.85084117528183,
          133.1890585751729,
          130.56730311666817,
          127.9923577902772,
          125.47030269376779,
          123.00652962180402,
          120.60577987735086,
          118.27219564168234,
          116.00933670893984,
          113.82021160106368,
          111.70732032139769,
          109.67268027602015
         ]
        },
        {
         "fill": "toself",
         "fillcolor": "blue",
         "line": {
          "color": "blue"
         },
         "mode": "lines",
         "name": "region United Kingdom",
         "opacity": 0.15,
         "type": "scatter",
         "x": [
          1,
          2,
          3,
          4,
          5,
          6,
          7,
          8,
          9,
          10,
          11,
          12,
          13,
          14,
          15,
          16,
          17,
          18,
          19,
          20,
          21,
          22,
          23,
          24,
          25,
          26,
          27,
          28,
          29,
          30,
          31,
          32,
          33,
          34,
          35,
          36,
          37,
          38,
          39,
          40,
          41,
          42,
          43,
          44,
          45,
          46,
          47,
          48,
          49,
          50,
          51,
          52,
          53,
          54,
          55,
          56,
          57,
          58,
          59,
          60,
          61,
          62,
          63,
          64,
          65,
          66,
          67,
          68,
          69,
          70,
          71,
          72,
          73,
          74,
          75,
          76,
          77,
          78,
          79,
          80,
          81,
          82,
          83,
          84,
          85,
          86,
          87,
          88,
          89,
          90,
          91,
          92,
          93,
          94,
          95,
          96,
          97,
          98,
          99,
          100,
          100,
          99,
          98,
          97,
          96,
          95,
          94,
          93,
          92,
          91,
          90,
          89,
          88,
          87,
          86,
          85,
          84,
          83,
          82,
          81,
          80,
          79,
          78,
          77,
          76,
          75,
          74,
          73,
          72,
          71,
          70,
          69,
          68,
          67,
          66,
          65,
          64,
          63,
          62,
          61,
          60,
          59,
          58,
          57,
          56,
          55,
          54,
          53,
          52,
          51,
          50,
          49,
          48,
          47,
          46,
          45,
          44,
          43,
          42,
          41,
          40,
          39,
          38,
          37,
          36,
          35,
          34,
          33,
          32,
          31,
          30,
          29,
          28,
          27,
          26,
          25,
          24,
          23,
          22,
          21,
          20,
          19,
          18,
          17,
          16,
          15,
          14,
          13,
          12,
          11,
          10,
          9,
          8,
          7,
          6,
          5,
          4,
          3,
          2,
          1
         ],
         "y": [
          1.80411727491581,
          4.054025361315878,
          6.376764449990349,
          8.554703957938516,
          10.48151414687404,
          12.161085288235599,
          13.664273110494198,
          15.077736379549746,
          16.472522728536113,
          17.89500840289341,
          19.371685187796903,
          20.917211395692895,
          22.541793881138847,
          24.254738836129295,
          26.06575843839122,
          27.9845725955626,
          30.020885783095416,
          32.1838368617345,
          34.48192653920472,
          36.92308207133742,
          39.51468921862002,
          42.26360207145931,
          45.17571386865192,
          48.25740066703523,
          51.51424536219635,
          54.950758474372186,
          58.5703004285156,
          62.37507197198585,
          66.36613331258957,
          70.54343665127777,
          74.76903630776022,
          79.34828821581522,
          84.15928859671676,
          89.13941056151079,
          94.29243864030701,
          99.6120324307689,
          105.08304888599788,
          110.68506876369356,
          116.39298001569188,
          122.18002170131336,
          128.01863836785373,
          133.88055692164343,
          139.73658798081757,
          145.55648168482335,
          151.3096423430376,
          156.96407552741897,
          162.48752778069817,
          167.84885474792205,
          173.0184135530903,
          178.3705273816069,
          183.677586034874,
          188.76968343353735,
          193.6216958211408,
          198.21013415366065,
          202.51317748716338,
          206.51126778244014,
          210.18745940368478,
          213.5276167604446,
          216.5204248115417,
          219.1573392097563,
          221.43481337058844,
          223.34938885929068,
          224.9000984175364,
          226.0873031291504,
          226.9155720670978,
          227.39202553090806,
          227.52565036563664,
          227.3270080197591,
          226.80804264436546,
          225.9819444278856,
          224.86318397240623,
          223.46737672996403,
          221.81120545008733,
          219.91228476271732,
          217.78845480444178,
          215.45857161002664,
          212.94160925078805,
          210.25643210011367,
          207.42174305506276,
          204.4559181380158,
          201.37692502458904,
          198.20227699827728,
          194.94900638964532,
          191.63365057245477,
          188.27219698229442,
          184.8798512063887,
          181.47102819875676,
          178.05927946390807,
          174.65726985767003,
          171.27677183675894,
          167.92866902040237,
          164.62296480248708,
          161.3687954163962,
          158.17452711479748,
          155.04758107968945,
          151.99453106755772,
          149.0211626065484,
          146.13249532223713,
          143.332859285994,
          140.6259394513122,
          71.28647884792319,
          72.70162248597403,
          74.19761533876074,
          75.77516664875081,
          77.43468819382693,
          79.17625941325736,
          80.99958216263042,
          82.90391396197185,
          84.88801056811246,
          86.9501054280257,
          89.08783205937426,
          91.29814026586703,
          93.2100825550097,
          95.12004743308482,
          97.06043541117018,
          99.02564877436592,
          101.00952916361756,
          103.00535180709086,
          105.00582234898687,
          107.00307757748367,
          108.9886921915698,
          110.95369568459395,
          112.88860380897543,
          114.78348345299537,
          116.62796122376345,
          118.41134004353387,
          120.12263909839403,
          121.75061195150754,
          123.2837764457299,
          124.71046637671739,
          126.01893343148288,
          127.19743397061882,
          128.23421731434019,
          129.11794872015662,
          129.83781474282375,
          130.3835617079872,
          130.74578361419847,
          130.9159798096218,
          130.88658199950305,
          130.65084641478984,
          130.20286451068188,
          129.53771054785852,
          128.64962561248313,
          127.53673097077461,
          126.19941746336089,
          124.63931318047241,
          122.85981349038518,
          120.86613058790093,
          118.66534400994452,
          116.26644246253187,
          113.68033509374676,
          110.91978197882082,
          107.99919185012276,
          104.93410517569563,
          101.7410184475906,
          98.43737994369731,
          95.04157972803705,
          91.57288869630673,
          88.05136867623185,
          84.49762560534766,
          80.93180566045434,
          77.37281607724336,
          73.8402038515133,
          70.3532929890718,
          66.93048853684208,
          63.58779606954939,
          60.33636723022456,
          57.179893553305135,
          53.918446741578165,
          50.42011580141161,
          47.05056222267317,
          43.77782464860721,
          40.68205434224707,
          37.76259671570801,
          35.01729409252744,
          32.44307196671175,
          30.035651934883788,
          27.78986134327274,
          25.69963520745855,
          23.75806055212851,
          21.957535734926225,
          20.290421796316785,
          18.749176252334937,
          17.32579218911869,
          16.01208958994199,
          14.799774331095211,
          13.68067564226145,
          12.647074192172445,
          11.691699226790643,
          10.807384481933125,
          9.98579891658994,
          9.214398310087374,
          8.471798564904175,
          7.722860254723737,
          6.9172317107257175,
          5.996631379081705,
          4.915722630184818,
          3.6735440976263125,
          2.3376167011414797,
          1.040383330035845
         ]
        },
        {
         "line": {
          "color": "red"
         },
         "mode": "lines",
         "name": "region France",
         "type": "scatter",
         "x": [
          1,
          2,
          3,
          4,
          5,
          6,
          7,
          8,
          9,
          10,
          11,
          12,
          13,
          14,
          15,
          16,
          17,
          18,
          19,
          20,
          21,
          22,
          23,
          24,
          25,
          26,
          27,
          28,
          29,
          30,
          31,
          32,
          33,
          34,
          35,
          36,
          37,
          38,
          39,
          40,
          41,
          42,
          43,
          44,
          45,
          46,
          47,
          48,
          49,
          50,
          51,
          52,
          53,
          54,
          55,
          56,
          57,
          58,
          59,
          60,
          61,
          62,
          63,
          64,
          65,
          66,
          67,
          68,
          69,
          70,
          71,
          72,
          73,
          74,
          75,
          76,
          77,
          78,
          79,
          80,
          81,
          82,
          83,
          84,
          85,
          86,
          87,
          88,
          89,
          90,
          91,
          92,
          93,
          94,
          95,
          96,
          97,
          98,
          99,
          100
         ],
         "y": [
          1.4983078041050215,
          3.367271262403538,
          5.303788350654993,
          7.14566557363724,
          8.830007990468793,
          10.38382145620998,
          11.88288593223005,
          13.408465567497544,
          15.023309278083495,
          16.767594482918913,
          18.665032391791907,
          20.731890397854144,
          22.98277473868238,
          25.43386215027765,
          28.102505613844574,
          31.00656703899821,
          34.163718839925885,
          37.59084786960714,
          41.303419382173246,
          45.31517588444785,
          49.63789942380591,
          54.281483829037654,
          59.25394751138112,
          64.56020609806762,
          70.20109539596379,
          76.1731049129671,
          82.46826697152652,
          89.07382626774329,
          95.97132921760152,
          103.13625706963748,
          110.42484149535579,
          117.8522896433828,
          125.40063357061304,
          133.0407618166055,
          140.73197964280195,
          148.42233729870028,
          156.05254014862643,
          163.55966546409377,
          170.88026025904313,
          177.95247427951534,
          184.71767458425077,
          191.12140582952256,
          197.1145324482651,
          202.6539533983187,
          207.70306699030934,
          212.2320899522885,
          216.2182590435741,
          219.64597721009497,
          222.50696379966251,
          224.79954775666974,
          226.52817285640538,
          227.7026294902431,
          228.3375586971715,
          228.45173964142606,
          228.06746817715876,
          227.21000964858774,
          225.9067601192313,
          224.18654572006912,
          222.07928220974966,
          219.61566106891837,
          216.82888069924266,
          213.74993649463326,
          210.40966922588896,
          206.83852670191564,
          203.06657630745664,
          199.12339579794488,
          195.03788466713152,
          190.83812598651642,
          186.5512360711078,
          182.20325908378055,
          177.8190465758506,
          173.4221186693845,
          169.0345639261395,
          164.67691221450005,
          160.36806947276057,
          156.12529386667475,
          151.9641692478809,
          147.8985602294423,
          143.94062242332674,
          140.10085492202526,
          136.38816517316457,
          132.80994745303968,
          129.37215816439885,
          126.07942081444466,
          122.93513755223714,
          119.94157925857263,
          117.10001181000074,
          114.41083653776072,
          111.8736898805368,
          109.48754738088445,
          107.25081895144994,
          105.16143504030586,
          103.21692989745146,
          101.4145232312188,
          99.7511788511522,
          98.22366850088925,
          96.82862395896382,
          95.56258312187705,
          94.4220320840457,
          93.40343450021193
         ]
        },
        {
         "fill": "toself",
         "fillcolor": "red",
         "line": {
          "color": "red"
         },
         "mode": "lines",
         "name": "region France",
         "opacity": 0.15,
         "type": "scatter",
         "x": [
          1,
          2,
          3,
          4,
          5,
          6,
          7,
          8,
          9,
          10,
          11,
          12,
          13,
          14,
          15,
          16,
          17,
          18,
          19,
          20,
          21,
          22,
          23,
          24,
          25,
          26,
          27,
          28,
          29,
          30,
          31,
          32,
          33,
          34,
          35,
          36,
          37,
          38,
          39,
          40,
          41,
          42,
          43,
          44,
          45,
          46,
          47,
          48,
          49,
          50,
          51,
          52,
          53,
          54,
          55,
          56,
          57,
          58,
          59,
          60,
          61,
          62,
          63,
          64,
          65,
          66,
          67,
          68,
          69,
          70,
          71,
          72,
          73,
          74,
          75,
          76,
          77,
          78,
          79,
          80,
          81,
          82,
          83,
          84,
          85,
          86,
          87,
          88,
          89,
          90,
          91,
          92,
          93,
          94,
          95,
          96,
          97,
          98,
          99,
          100,
          100,
          99,
          98,
          97,
          96,
          95,
          94,
          93,
          92,
          91,
          90,
          89,
          88,
          87,
          86,
          85,
          84,
          83,
          82,
          81,
          80,
          79,
          78,
          77,
          76,
          75,
          74,
          73,
          72,
          71,
          70,
          69,
          68,
          67,
          66,
          65,
          64,
          63,
          62,
          61,
          60,
          59,
          58,
          57,
          56,
          55,
          54,
          53,
          52,
          51,
          50,
          49,
          48,
          47,
          46,
          45,
          44,
          43,
          42,
          41,
          40,
          39,
          38,
          37,
          36,
          35,
          34,
          33,
          32,
          31,
          30,
          29,
          28,
          27,
          26,
          25,
          24,
          23,
          22,
          21,
          20,
          19,
          18,
          17,
          16,
          15,
          14,
          13,
          12,
          11,
          10,
          9,
          8,
          7,
          6,
          5,
          4,
          3,
          2,
          1
         ],
         "y": [
          1.7775949992105453,
          3.995223348926391,
          6.297262070632853,
          8.500496988222729,
          10.539254404493168,
          12.44907499120627,
          14.316988390366042,
          16.23243779137973,
          18.262121366083985,
          20.44741622768538,
          22.81287642122747,
          25.37633803202015,
          28.155128518582824,
          31.168765097338692,
          34.438063155046244,
          37.98375859251897,
          41.82571544448417,
          45.982836875892666,
          50.47240223594505,
          55.30958568075112,
          60.507350335021094,
          66.07645035064341,
          72.02453573563567,
          78.35748381400396,
          85.07663036980668,
          92.17813133343597,
          99.65283487016427,
          107.48635152880499,
          115.65880025086642,
          124.14314737392355,
          132.77138734862848,
          141.5645838361081,
          150.50463491705258,
          159.8521115454106,
          169.56770473211148,
          179.3397058409549,
          189.0938357102001,
          198.75208556596948,
          208.23595584061277,
          217.46791112339068,
          226.37221455509348,
          234.87596311247606,
          242.91055801780954,
          250.41471971138142,
          257.33522111495625,
          263.62714589967516,
          269.2538593050615,
          274.186338838569,
          278.40669119241323,
          281.9061051654389,
          284.68345947565814,
          286.7447070506555,
          288.1025176928426,
          288.7758320766241,
          288.7883724942055,
          288.1699050408988,
          286.9530780256065,
          285.17253305414795,
          282.8645327965967,
          280.06691695021965,
          276.8211357406616,
          273.16679761404725,
          269.14366529434045,
          264.7910616605302,
          260.147638040713,
          255.2518382470787,
          250.14157156911602,
          244.85397097798185,
          239.4248491326791,
          233.88865579601548,
          228.2784675242457,
          222.62590195327928,
          216.96097682319854,
          211.31183846277008,
          205.70461814433887,
          200.16338588562655,
          194.7101097770982,
          189.36452263138915,
          184.14410376692527,
          179.06420812651862,
          174.13817162813373,
          169.37737370953747,
          164.79128439887035,
          160.3875103863502,
          156.17203253883375,
          152.14906687771943,
          148.3214316197188,
          144.69077522318472,
          141.25770928424336,
          138.0219011851469,
          134.98216095559278,
          132.1365529861714,
          129.48251097881626,
          127.01698830807095,
          124.73654228349551,
          122.63743318404516,
          120.71569071051772,
          118.96716564883369,
          117.38760166022193,
          116.01755553937015,
          64.15339327635382,
          64.63685975942403,
          65.2032103295597,
          65.85596612286014,
          66.59874098418413,
          67.43523449050414,
          68.36921509911542,
          69.40449530514506,
          70.5448974178626,
          71.79421240373226,
          73.15616647987716,
          74.63438014751105,
          76.23231927300917,
          77.95321152175273,
          79.79998235710627,
          81.77516815801354,
          83.88078682121746,
          86.1182640666786,
          88.48823261885795,
          90.99045296986782,
          93.62369794790258,
          96.38568230363744,
          99.2729538915009,
          101.98888980621604,
          104.70446952530753,
          107.49285614979127,
          110.34533053756573,
          113.25198969954656,
          116.20175471735777,
          119.18237869053925,
          122.18048023718082,
          125.18155043899493,
          128.16992508417192,
          131.12894218171715,
          134.04100204787474,
          136.88776486216977,
          139.65024642004218,
          142.30885591414793,
          144.84339906478354,
          147.2330031335908,
          149.45628483760012,
          151.4917753522583,
          153.31573426163953,
          154.90611878277562,
          156.2407709088906,
          157.29756092994174,
          158.0548567785803,
          158.49258374857544,
          158.5918903150233,
          158.33585638032787,
          157.7096430114586,
          156.70073859315517,
          155.29946808096275,
          153.50074310036544,
          151.30385657129455,
          148.71260111774276,
          145.73560168309035,
          142.38642555305066,
          138.68372443232886,
          134.65153148482028,
          130.3190810529595,
          125.71971654560723,
          120.89112546784514,
          115.87541256015803,
          110.71810026293193,
          105.46468923151859,
          100.15738202245228,
          94.83210732436613,
          89.51682057560915,
          84.23275494336477,
          78.9940635110362,
          73.35834911196176,
          67.64872077252872,
          62.20375374094324,
          57.04210313841027,
          52.17603421189564,
          47.61219725945059,
          43.35262786780808,
          39.39544517281527,
          35.73491914252233,
          32.36164886106741,
          29.263246574741718,
          26.427151105844395,
          23.83874184982157,
          21.482280020581523,
          19.34108379714403,
          17.398139441053075,
          15.637022542359407,
          14.042282293736283,
          12.599674726965285,
          11.296046655474717,
          10.116461201200137,
          9.039728824157693,
          8.031891601898423,
          7.042684074190133,
          6.009752547099215,
          4.877068074815908,
          3.6261131472669543,
          2.3036123672986397,
          1.0250886848916376
         ]
        }
       ],
       "layout": {
        "boxmode": "group",
        "legend": {
         "orientation": "h",
         "x": 1,
         "xanchor": "right",
         "y": 1.02,
         "yanchor": "bottom"
        },
        "plot_bgcolor": "white",
        "template": {
         "data": {
          "bar": [
           {
            "error_x": {
             "color": "#2a3f5f"
            },
            "error_y": {
             "color": "#2a3f5f"
            },
            "marker": {
             "line": {
              "color": "#E5ECF6",
              "width": 0.5
             },
             "pattern": {
              "fillmode": "overlay",
              "size": 10,
              "solidity": 0.2
             }
            },
            "type": "bar"
           }
          ],
          "barpolar": [
           {
            "marker": {
             "line": {
              "color": "#E5ECF6",
              "width": 0.5
             },
             "pattern": {
              "fillmode": "overlay",
              "size": 10,
              "solidity": 0.2
             }
            },
            "type": "barpolar"
           }
          ],
          "carpet": [
           {
            "aaxis": {
             "endlinecolor": "#2a3f5f",
             "gridcolor": "white",
             "linecolor": "white",
             "minorgridcolor": "white",
             "startlinecolor": "#2a3f5f"
            },
            "baxis": {
             "endlinecolor": "#2a3f5f",
             "gridcolor": "white",
             "linecolor": "white",
             "minorgridcolor": "white",
             "startlinecolor": "#2a3f5f"
            },
            "type": "carpet"
           }
          ],
          "choropleth": [
           {
            "colorbar": {
             "outlinewidth": 0,
             "ticks": ""
            },
            "type": "choropleth"
           }
          ],
          "contour": [
           {
            "colorbar": {
             "outlinewidth": 0,
             "ticks": ""
            },
            "colorscale": [
             [
              0,
              "#0d0887"
             ],
             [
              0.1111111111111111,
              "#46039f"
             ],
             [
              0.2222222222222222,
              "#7201a8"
             ],
             [
              0.3333333333333333,
              "#9c179e"
             ],
             [
              0.4444444444444444,
              "#bd3786"
             ],
             [
              0.5555555555555556,
              "#d8576b"
             ],
             [
              0.6666666666666666,
              "#ed7953"
             ],
             [
              0.7777777777777778,
              "#fb9f3a"
             ],
             [
              0.8888888888888888,
              "#fdca26"
             ],
             [
              1,
              "#f0f921"
             ]
            ],
            "type": "contour"
           }
          ],
          "contourcarpet": [
           {
            "colorbar": {
             "outlinewidth": 0,
             "ticks": ""
            },
            "type": "contourcarpet"
           }
          ],
          "heatmap": [
           {
            "colorbar": {
             "outlinewidth": 0,
             "ticks": ""
            },
            "colorscale": [
             [
              0,
              "#0d0887"
             ],
             [
              0.1111111111111111,
              "#46039f"
             ],
             [
              0.2222222222222222,
              "#7201a8"
             ],
             [
              0.3333333333333333,
              "#9c179e"
             ],
             [
              0.4444444444444444,
              "#bd3786"
             ],
             [
              0.5555555555555556,
              "#d8576b"
             ],
             [
              0.6666666666666666,
              "#ed7953"
             ],
             [
              0.7777777777777778,
              "#fb9f3a"
             ],
             [
              0.8888888888888888,
              "#fdca26"
             ],
             [
              1,
              "#f0f921"
             ]
            ],
            "type": "heatmap"
           }
          ],
          "heatmapgl": [
           {
            "colorbar": {
             "outlinewidth": 0,
             "ticks": ""
            },
            "colorscale": [
             [
              0,
              "#0d0887"
             ],
             [
              0.1111111111111111,
              "#46039f"
             ],
             [
              0.2222222222222222,
              "#7201a8"
             ],
             [
              0.3333333333333333,
              "#9c179e"
             ],
             [
              0.4444444444444444,
              "#bd3786"
             ],
             [
              0.5555555555555556,
              "#d8576b"
             ],
             [
              0.6666666666666666,
              "#ed7953"
             ],
             [
              0.7777777777777778,
              "#fb9f3a"
             ],
             [
              0.8888888888888888,
              "#fdca26"
             ],
             [
              1,
              "#f0f921"
             ]
            ],
            "type": "heatmapgl"
           }
          ],
          "histogram": [
           {
            "marker": {
             "pattern": {
              "fillmode": "overlay",
              "size": 10,
              "solidity": 0.2
             }
            },
            "type": "histogram"
           }
          ],
          "histogram2d": [
           {
            "colorbar": {
             "outlinewidth": 0,
             "ticks": ""
            },
            "colorscale": [
             [
              0,
              "#0d0887"
             ],
             [
              0.1111111111111111,
              "#46039f"
             ],
             [
              0.2222222222222222,
              "#7201a8"
             ],
             [
              0.3333333333333333,
              "#9c179e"
             ],
             [
              0.4444444444444444,
              "#bd3786"
             ],
             [
              0.5555555555555556,
              "#d8576b"
             ],
             [
              0.6666666666666666,
              "#ed7953"
             ],
             [
              0.7777777777777778,
              "#fb9f3a"
             ],
             [
              0.8888888888888888,
              "#fdca26"
             ],
             [
              1,
              "#f0f921"
             ]
            ],
            "type": "histogram2d"
           }
          ],
          "histogram2dcontour": [
           {
            "colorbar": {
             "outlinewidth": 0,
             "ticks": ""
            },
            "colorscale": [
             [
              0,
              "#0d0887"
             ],
             [
              0.1111111111111111,
              "#46039f"
             ],
             [
              0.2222222222222222,
              "#7201a8"
             ],
             [
              0.3333333333333333,
              "#9c179e"
             ],
             [
              0.4444444444444444,
              "#bd3786"
             ],
             [
              0.5555555555555556,
              "#d8576b"
             ],
             [
              0.6666666666666666,
              "#ed7953"
             ],
             [
              0.7777777777777778,
              "#fb9f3a"
             ],
             [
              0.8888888888888888,
              "#fdca26"
             ],
             [
              1,
              "#f0f921"
             ]
            ],
            "type": "histogram2dcontour"
           }
          ],
          "mesh3d": [
           {
            "colorbar": {
             "outlinewidth": 0,
             "ticks": ""
            },
            "type": "mesh3d"
           }
          ],
          "parcoords": [
           {
            "line": {
             "colorbar": {
              "outlinewidth": 0,
              "ticks": ""
             }
            },
            "type": "parcoords"
           }
          ],
          "pie": [
           {
            "automargin": true,
            "type": "pie"
           }
          ],
          "scatter": [
           {
            "fillpattern": {
             "fillmode": "overlay",
             "size": 10,
             "solidity": 0.2
            },
            "type": "scatter"
           }
          ],
          "scatter3d": [
           {
            "line": {
             "colorbar": {
              "outlinewidth": 0,
              "ticks": ""
             }
            },
            "marker": {
             "colorbar": {
              "outlinewidth": 0,
              "ticks": ""
             }
            },
            "type": "scatter3d"
           }
          ],
          "scattercarpet": [
           {
            "marker": {
             "colorbar": {
              "outlinewidth": 0,
              "ticks": ""
             }
            },
            "type": "scattercarpet"
           }
          ],
          "scattergeo": [
           {
            "marker": {
             "colorbar": {
              "outlinewidth": 0,
              "ticks": ""
             }
            },
            "type": "scattergeo"
           }
          ],
          "scattergl": [
           {
            "marker": {
             "colorbar": {
              "outlinewidth": 0,
              "ticks": ""
             }
            },
            "type": "scattergl"
           }
          ],
          "scattermapbox": [
           {
            "marker": {
             "colorbar": {
              "outlinewidth": 0,
              "ticks": ""
             }
            },
            "type": "scattermapbox"
           }
          ],
          "scatterpolar": [
           {
            "marker": {
             "colorbar": {
              "outlinewidth": 0,
              "ticks": ""
             }
            },
            "type": "scatterpolar"
           }
          ],
          "scatterpolargl": [
           {
            "marker": {
             "colorbar": {
              "outlinewidth": 0,
              "ticks": ""
             }
            },
            "type": "scatterpolargl"
           }
          ],
          "scatterternary": [
           {
            "marker": {
             "colorbar": {
              "outlinewidth": 0,
              "ticks": ""
             }
            },
            "type": "scatterternary"
           }
          ],
          "surface": [
           {
            "colorbar": {
             "outlinewidth": 0,
             "ticks": ""
            },
            "colorscale": [
             [
              0,
              "#0d0887"
             ],
             [
              0.1111111111111111,
              "#46039f"
             ],
             [
              0.2222222222222222,
              "#7201a8"
             ],
             [
              0.3333333333333333,
              "#9c179e"
             ],
             [
              0.4444444444444444,
              "#bd3786"
             ],
             [
              0.5555555555555556,
              "#d8576b"
             ],
             [
              0.6666666666666666,
              "#ed7953"
             ],
             [
              0.7777777777777778,
              "#fb9f3a"
             ],
             [
              0.8888888888888888,
              "#fdca26"
             ],
             [
              1,
              "#f0f921"
             ]
            ],
            "type": "surface"
           }
          ],
          "table": [
           {
            "cells": {
             "fill": {
              "color": "#EBF0F8"
             },
             "line": {
              "color": "white"
             }
            },
            "header": {
             "fill": {
              "color": "#C8D4E3"
             },
             "line": {
              "color": "white"
             }
            },
            "type": "table"
           }
          ]
         },
         "layout": {
          "annotationdefaults": {
           "arrowcolor": "#2a3f5f",
           "arrowhead": 0,
           "arrowwidth": 1
          },
          "autotypenumbers": "strict",
          "coloraxis": {
           "colorbar": {
            "outlinewidth": 0,
            "ticks": ""
           }
          },
          "colorscale": {
           "diverging": [
            [
             0,
             "#8e0152"
            ],
            [
             0.1,
             "#c51b7d"
            ],
            [
             0.2,
             "#de77ae"
            ],
            [
             0.3,
             "#f1b6da"
            ],
            [
             0.4,
             "#fde0ef"
            ],
            [
             0.5,
             "#f7f7f7"
            ],
            [
             0.6,
             "#e6f5d0"
            ],
            [
             0.7,
             "#b8e186"
            ],
            [
             0.8,
             "#7fbc41"
            ],
            [
             0.9,
             "#4d9221"
            ],
            [
             1,
             "#276419"
            ]
           ],
           "sequential": [
            [
             0,
             "#0d0887"
            ],
            [
             0.1111111111111111,
             "#46039f"
            ],
            [
             0.2222222222222222,
             "#7201a8"
            ],
            [
             0.3333333333333333,
             "#9c179e"
            ],
            [
             0.4444444444444444,
             "#bd3786"
            ],
            [
             0.5555555555555556,
             "#d8576b"
            ],
            [
             0.6666666666666666,
             "#ed7953"
            ],
            [
             0.7777777777777778,
             "#fb9f3a"
            ],
            [
             0.8888888888888888,
             "#fdca26"
            ],
            [
             1,
             "#f0f921"
            ]
           ],
           "sequentialminus": [
            [
             0,
             "#0d0887"
            ],
            [
             0.1111111111111111,
             "#46039f"
            ],
            [
             0.2222222222222222,
             "#7201a8"
            ],
            [
             0.3333333333333333,
             "#9c179e"
            ],
            [
             0.4444444444444444,
             "#bd3786"
            ],
            [
             0.5555555555555556,
             "#d8576b"
            ],
            [
             0.6666666666666666,
             "#ed7953"
            ],
            [
             0.7777777777777778,
             "#fb9f3a"
            ],
            [
             0.8888888888888888,
             "#fdca26"
            ],
            [
             1,
             "#f0f921"
            ]
           ]
          },
          "colorway": [
           "#636efa",
           "#EF553B",
           "#00cc96",
           "#ab63fa",
           "#FFA15A",
           "#19d3f3",
           "#FF6692",
           "#B6E880",
           "#FF97FF",
           "#FECB52"
          ],
          "font": {
           "color": "#2a3f5f"
          },
          "geo": {
           "bgcolor": "white",
           "lakecolor": "white",
           "landcolor": "#E5ECF6",
           "showlakes": true,
           "showland": true,
           "subunitcolor": "white"
          },
          "hoverlabel": {
           "align": "left"
          },
          "hovermode": "closest",
          "mapbox": {
           "style": "light"
          },
          "paper_bgcolor": "white",
          "plot_bgcolor": "#E5ECF6",
          "polar": {
           "angularaxis": {
            "gridcolor": "white",
            "linecolor": "white",
            "ticks": ""
           },
           "bgcolor": "#E5ECF6",
           "radialaxis": {
            "gridcolor": "white",
            "linecolor": "white",
            "ticks": ""
           }
          },
          "scene": {
           "xaxis": {
            "backgroundcolor": "#E5ECF6",
            "gridcolor": "white",
            "gridwidth": 2,
            "linecolor": "white",
            "showbackground": true,
            "ticks": "",
            "zerolinecolor": "white"
           },
           "yaxis": {
            "backgroundcolor": "#E5ECF6",
            "gridcolor": "white",
            "gridwidth": 2,
            "linecolor": "white",
            "showbackground": true,
            "ticks": "",
            "zerolinecolor": "white"
           },
           "zaxis": {
            "backgroundcolor": "#E5ECF6",
            "gridcolor": "white",
            "gridwidth": 2,
            "linecolor": "white",
            "showbackground": true,
            "ticks": "",
            "zerolinecolor": "white"
           }
          },
          "shapedefaults": {
           "line": {
            "color": "#2a3f5f"
           }
          },
          "ternary": {
           "aaxis": {
            "gridcolor": "white",
            "linecolor": "white",
            "ticks": ""
           },
           "baxis": {
            "gridcolor": "white",
            "linecolor": "white",
            "ticks": ""
           },
           "bgcolor": "#E5ECF6",
           "caxis": {
            "gridcolor": "white",
            "linecolor": "white",
            "ticks": ""
           }
          },
          "title": {
           "x": 0.05
          },
          "xaxis": {
           "automargin": true,
           "gridcolor": "white",
           "linecolor": "white",
           "ticks": "",
           "title": {
            "standoff": 15
           },
           "zerolinecolor": "white",
           "zerolinewidth": 2
          },
          "yaxis": {
           "automargin": true,
           "gridcolor": "white",
           "linecolor": "white",
           "ticks": "",
           "title": {
            "standoff": 15
           },
           "zerolinecolor": "white",
           "zerolinewidth": 2
          }
         }
        },
        "title": {
         "text": "Deaths for Scenario: Prioritise 60-70 then 75+"
        },
        "width": 800,
        "xaxis": {
         "linecolor": "black"
        },
        "yaxis": {
         "linecolor": "black"
        }
       }
      }
     },
     "metadata": {},
     "output_type": "display_data"
    },
    {
     "data": {
      "application/vnd.plotly.v1+json": {
       "config": {
        "plotlyServerURL": "https://plot.ly"
       },
       "data": [
        {
         "line": {
          "color": "blue"
         },
         "mode": "lines",
         "name": "region United Kingdom",
         "type": "scatter",
         "x": [
          1,
          2,
          3,
          4,
          5,
          6,
          7,
          8,
          9,
          10,
          11,
          12,
          13,
          14,
          15,
          16,
          17,
          18,
          19,
          20,
          21,
          22,
          23,
          24,
          25,
          26,
          27,
          28,
          29,
          30,
          31,
          32,
          33,
          34,
          35,
          36,
          37,
          38,
          39,
          40,
          41,
          42,
          43,
          44,
          45,
          46,
          47,
          48,
          49,
          50,
          51,
          52,
          53,
          54,
          55,
          56,
          57,
          58,
          59,
          60,
          61,
          62,
          63,
          64,
          65,
          66,
          67,
          68,
          69,
          70,
          71,
          72,
          73,
          74,
          75,
          76,
          77,
          78,
          79,
          80,
          81,
          82,
          83,
          84,
          85,
          86,
          87,
          88,
          89,
          90,
          91,
          92,
          93,
          94,
          95,
          96,
          97,
          98,
          99,
          100
         ],
         "y": [
          1.5206630271392183,
          3.4170227916143796,
          5.374103551246122,
          7.207642253777908,
          8.828600330605802,
          10.243036557495873,
          11.515063805150909,
          12.722375021197275,
          13.928517653061947,
          15.174714340056164,
          16.483782557162197,
          17.867654086596925,
          19.333978621639496,
          20.889869246412992,
          22.543122346639716,
          24.302094583719892,
          26.175562138358146,
          28.17211284361611,
          30.299937357728027,
          32.566794089988065,
          34.97997320700661,
          37.54613653852389,
          40.27174449084318,
          43.163101110454676,
          46.225684745581695,
          49.46400817167904,
          52.8815021859197,
          56.480463609888304,
          60.26207101505059,
          64.22625276448122,
          68.25651550161452,
          72.40193992486235,
          76.68210599304025,
          81.10959599174572,
          85.68958277695293,
          90.41787644937864,
          95.28216582428803,
          100.26488111577709,
          105.34544333237992,
          110.50153864124638,
          115.71007077901453,
          120.9473552553076,
          126.18886408735183,
          131.4092753205921,
          136.58255875582563,
          141.68211445402363,
          146.68107999393965,
          151.5525767403049,
          156.27060974908096,
          160.81029922713148,
          165.14808671147046,
          169.26201095028372,
          173.13185006181536,
          176.7393327042623,
          180.06841556112326,
          183.1054520613816,
          185.83923812240383,
          188.26110724120173,
          190.36493203514797,
          192.1469452476154,
          193.60791033064078,
          194.74859530804224,
          195.57193476295578,
          196.0829866518916,
          196.28869663532492,
          196.19768244546358,
          195.82007740638997,
          195.16744571684717,
          194.25256846242036,
          193.08923424372898,
          191.69213432626842,
          190.07661460486815,
          188.2586100358711,
          186.2544105129884,
          184.08052436211108,
          181.7535703576927,
          179.29007169969645,
          176.70642004925463,
          174.01871525048472,
          171.24267758093683,
          168.39357564354904,
          165.48615356134766,
          162.5345688582215,
          159.5523447951255,
          156.55231776925035,
          153.5465843218494,
          150.54648729716965,
          147.56258241051103,
          144.60463155148045,
          141.68160406031296,
          138.80167385922195,
          135.97222632698376,
          133.199884054963,
          130.49051582330554,
          127.84927766424613,
          125.28066106152926,
          122.78853007289185,
          120.37614658112133,
          118.04620995330916,
          115.80089635059932
         ]
        },
        {
         "fill": "toself",
         "fillcolor": "blue",
         "line": {
          "color": "blue"
         },
         "mode": "lines",
         "name": "region United Kingdom",
         "opacity": 0.15,
         "type": "scatter",
         "x": [
          1,
          2,
          3,
          4,
          5,
          6,
          7,
          8,
          9,
          10,
          11,
          12,
          13,
          14,
          15,
          16,
          17,
          18,
          19,
          20,
          21,
          22,
          23,
          24,
          25,
          26,
          27,
          28,
          29,
          30,
          31,
          32,
          33,
          34,
          35,
          36,
          37,
          38,
          39,
          40,
          41,
          42,
          43,
          44,
          45,
          46,
          47,
          48,
          49,
          50,
          51,
          52,
          53,
          54,
          55,
          56,
          57,
          58,
          59,
          60,
          61,
          62,
          63,
          64,
          65,
          66,
          67,
          68,
          69,
          70,
          71,
          72,
          73,
          74,
          75,
          76,
          77,
          78,
          79,
          80,
          81,
          82,
          83,
          84,
          85,
          86,
          87,
          88,
          89,
          90,
          91,
          92,
          93,
          94,
          95,
          96,
          97,
          98,
          99,
          100,
          100,
          99,
          98,
          97,
          96,
          95,
          94,
          93,
          92,
          91,
          90,
          89,
          88,
          87,
          86,
          85,
          84,
          83,
          82,
          81,
          80,
          79,
          78,
          77,
          76,
          75,
          74,
          73,
          72,
          71,
          70,
          69,
          68,
          67,
          66,
          65,
          64,
          63,
          62,
          61,
          60,
          59,
          58,
          57,
          56,
          55,
          54,
          53,
          52,
          51,
          50,
          49,
          48,
          47,
          46,
          45,
          44,
          43,
          42,
          41,
          40,
          39,
          38,
          37,
          36,
          35,
          34,
          33,
          32,
          31,
          30,
          29,
          28,
          27,
          26,
          25,
          24,
          23,
          22,
          21,
          20,
          19,
          18,
          17,
          16,
          15,
          14,
          13,
          12,
          11,
          10,
          9,
          8,
          7,
          6,
          5,
          4,
          3,
          2,
          1
         ],
         "y": [
          1.80411727491581,
          4.0541796355254265,
          6.37951827894577,
          8.568506109396685,
          10.522243836081932,
          12.250405995508858,
          13.826442415715553,
          15.336425944367985,
          16.84867653825549,
          18.405857404983628,
          20.030917886470426,
          21.735675076885375,
          23.52843415587022,
          25.417454657821352,
          27.412078115681048,
          29.5219759895294,
          31.757024934179455,
          34.12663272067868,
          36.63958064524817,
          39.30408079962461,
          42.12779869681273,
          45.11787484344991,
          48.28039845754138,
          51.62197102461343,
          55.148451740482336,
          58.86458346264337,
          62.773891587679834,
          66.8786667209518,
          71.17998166872219,
          75.67772431267214,
          80.2338774596997,
          85.19212099701966,
          90.37836707078006,
          95.74442870579811,
          101.29282793254755,
          107.01579741330927,
          112.89676802604377,
          118.91402533095928,
          125.04138679934997,
          131.25073901396422,
          137.51310242907678,
          143.7987195614279,
          150.0768416718077,
          156.3155801607209,
          162.48228408353927,
          168.54358516211505,
          174.46499663881738,
          180.2130539570197,
          185.75588065255218,
          191.1254438063068,
          196.80489593538672,
          202.2549487974513,
          207.448064661861,
          212.3590477359656,
          216.96511734386718,
          221.24578901099756,
          225.1828935256073,
          228.76042327561638,
          231.96555817904854,
          234.78892294441397,
          237.226407623673,
          239.2741286459133,
          240.93084041930373,
          242.19779995805297,
          243.07879620609003,
          243.58016608723375,
          243.71041689337193,
          243.48040128448292,
          242.90354090903392,
          241.994643282793,
          240.7696042127361,
          239.24537430877498,
          237.43976442070536,
          235.3713409592822,
          233.05935654274174,
          230.52358963723876,
          227.78402889206816,
          224.86103784914877,
          221.77480824727488,
          218.54523422341464,
          215.19187293612114,
          211.73378556424038,
          208.18945868219436,
          204.57675964706866,
          200.91289860752724,
          197.2142625264865,
          193.49643803262978,
          189.77414962694934,
          186.06117004499868,
          182.3702795075657,
          178.71328695156026,
          175.1010468240893,
          171.5434765411533,
          168.0495756686882,
          164.6274454311553,
          161.28430913062903,
          158.02655287695876,
          154.85970153884233,
          151.78844365161333,
          148.81673657512866,
          74.55743236290232,
          76.12686416899345,
          77.78442192029337,
          79.5309396100958,
          81.36692608251455,
          83.29252364924935,
          85.3074527270194,
          87.41092336623193,
          89.60162134918923,
          91.8776374826377,
          94.236373289499,
          96.67453213449038,
          99.14317401777096,
          101.26280466887334,
          103.41596876430184,
          105.59653895157135,
          107.79777065439275,
          110.01229611306844,
          112.23212108831561,
          114.44862619573814,
          116.65257533123781,
          118.83413628562371,
          120.98292289425252,
          123.08804003939981,
          125.13815507338667,
          127.12158900439073,
          129.02632879872968,
          130.84004971731588,
          132.55015277545272,
          134.14383129745622,
          135.6082106254462,
          136.93036414733984,
          138.0974392644278,
          139.09729306683528,
          139.91800982440463,
          140.54848002966438,
          140.97847435950962,
          141.19871295527568,
          141.20088559811944,
          140.97755971101435,
          140.52221287750083,
          139.8294204067345,
          138.8931578483306,
          137.71209276379219,
          136.28641636272968,
          134.61799623535566,
          132.71063531225568,
          130.57011032352432,
          128.20423013066548,
          125.6228768331317,
          122.83800944460205,
          119.86356911663974,
          116.71517483541363,
          113.40955057298888,
          109.9644907804848,
          106.39885227128204,
          102.73253195301419,
          98.98637725394997,
          95.18204656188895,
          91.34162121940096,
          87.48595237955705,
          83.63536207744872,
          79.81051517693776,
          76.03187443030927,
          72.31903780333406,
          68.68927606699961,
          65.15503693664374,
          61.721146365617,
          57.99541694400913,
          54.21324290433279,
          50.5716053847414,
          47.03870851717661,
          43.69469968085447,
          40.538803473944995,
          37.56884211579045,
          34.78149624494931,
          32.172240489615504,
          29.73557173386388,
          27.46501523711542,
          25.353181786723535,
          23.39196566737926,
          21.573368336152374,
          19.889352538126182,
          18.33143709718994,
          16.890972090065624,
          15.559221028504748,
          14.327662362896978,
          13.188396175819436,
          12.134219412784661,
          11.158385160200176,
          10.25344854871428,
          9.408192654131856,
          8.602779116561416,
          7.803520337968211,
          6.960866555180324,
          6.016174973608975,
          4.922229832613942,
          3.674820195141025,
          2.337686926660395,
          1.040383330035845
         ]
        },
        {
         "line": {
          "color": "red"
         },
         "mode": "lines",
         "name": "region France",
         "type": "scatter",
         "x": [
          1,
          2,
          3,
          4,
          5,
          6,
          7,
          8,
          9,
          10,
          11,
          12,
          13,
          14,
          15,
          16,
          17,
          18,
          19,
          20,
          21,
          22,
          23,
          24,
          25,
          26,
          27,
          28,
          29,
          30,
          31,
          32,
          33,
          34,
          35,
          36,
          37,
          38,
          39,
          40,
          41,
          42,
          43,
          44,
          45,
          46,
          47,
          48,
          49,
          50,
          51,
          52,
          53,
          54,
          55,
          56,
          57,
          58,
          59,
          60,
          61,
          62,
          63,
          64,
          65,
          66,
          67,
          68,
          69,
          70,
          71,
          72,
          73,
          74,
          75,
          76,
          77,
          78,
          79,
          80,
          81,
          82,
          83,
          84,
          85,
          86,
          87,
          88,
          89,
          90,
          91,
          92,
          93,
          94,
          95,
          96,
          97,
          98,
          99,
          100
         ],
         "y": [
          1.4983078041050215,
          3.367337938835646,
          5.3049868075349,
          7.151712500185889,
          8.847975003270784,
          10.423506705901923,
          11.955480873483097,
          13.525194489866085,
          15.194487935547079,
          17.002198260236607,
          18.970738877138764,
          21.115377768728134,
          23.450120585563376,
          25.990933338406666,
          28.755220632138442,
          31.761045387782502,
          35.02637162192956,
          38.56841326095844,
          42.40296522525472,
          46.544075218277,
          51.00380952591406,
          55.79228109790008,
          60.91770816892916,
          66.3851878556283,
          72.19566179188476,
          78.3456247404347,
          84.82701065661806,
          91.62687952764523,
          98.7264826105998,
          106.1008669988116,
          113.6056771060323,
          121.25537550017431,
          129.03100831389804,
          136.90228681563391,
          144.82693843840502,
          152.75128165475908,
          160.61425098680286,
          168.35119571364234,
          175.89695815974218,
          183.1879866264393,
          190.16394297137538,
          196.7686475881338,
          202.9512974331535,
          208.6672481442721,
          213.87849641369186,
          218.55399918427364,
          222.66991222291955,
          226.20968554059723,
          229.16438752995657,
          231.5319345406298,
          233.31656676397947,
          234.52808886510874,
          235.18131333816748,
          235.29542214733112,
          234.89326736057967,
          234.00082126701338,
          232.64631758455306,
          230.85949906737585,
          228.67127262162975,
          226.1133691917125,
          223.22008167367576,
          220.02351579143132,
          216.55562477268788,
          212.84796389810035,
          208.9316880101118,
          204.83744741439932,
          200.5951846293949,
          196.23399894388547,
          191.78199050529926,
          187.26614296440198,
          182.7121966240332,
          178.1445190297626,
          173.58600106417668,
          169.05793118069872,
          164.57991522952267,
          160.1698507279712,
          155.84391200136258,
          151.6164949179955,
          147.50022672908065,
          143.50600355383756,
          139.6430779427508,
          135.9191390099666,
          132.34038948741212,
          128.91164116141306,
          125.63643061548223,
          122.51712476859856,
          119.55503335983386,
          116.7505666545311,
          114.10333101380897,
          111.61224379835099,
          109.2756336322257,
          107.09132616121069,
          105.05673227473022,
          103.16893169060931,
          101.42473668410986,
          99.8207569061763,
          98.3534550932935,
          97.01919494940796,
          95.81428451028742,
          94.73500836787393
         ]
        },
        {
         "fill": "toself",
         "fillcolor": "red",
         "line": {
          "color": "red"
         },
         "mode": "lines",
         "name": "region France",
         "opacity": 0.15,
         "type": "scatter",
         "x": [
          1,
          2,
          3,
          4,
          5,
          6,
          7,
          8,
          9,
          10,
          11,
          12,
          13,
          14,
          15,
          16,
          17,
          18,
          19,
          20,
          21,
          22,
          23,
          24,
          25,
          26,
          27,
          28,
          29,
          30,
          31,
          32,
          33,
          34,
          35,
          36,
          37,
          38,
          39,
          40,
          41,
          42,
          43,
          44,
          45,
          46,
          47,
          48,
          49,
          50,
          51,
          52,
          53,
          54,
          55,
          56,
          57,
          58,
          59,
          60,
          61,
          62,
          63,
          64,
          65,
          66,
          67,
          68,
          69,
          70,
          71,
          72,
          73,
          74,
          75,
          76,
          77,
          78,
          79,
          80,
          81,
          82,
          83,
          84,
          85,
          86,
          87,
          88,
          89,
          90,
          91,
          92,
          93,
          94,
          95,
          96,
          97,
          98,
          99,
          100,
          100,
          99,
          98,
          97,
          96,
          95,
          94,
          93,
          92,
          91,
          90,
          89,
          88,
          87,
          86,
          85,
          84,
          83,
          82,
          81,
          80,
          79,
          78,
          77,
          76,
          75,
          74,
          73,
          72,
          71,
          70,
          69,
          68,
          67,
          66,
          65,
          64,
          63,
          62,
          61,
          60,
          59,
          58,
          57,
          56,
          55,
          54,
          53,
          52,
          51,
          50,
          49,
          48,
          47,
          46,
          45,
          44,
          43,
          42,
          41,
          40,
          39,
          38,
          37,
          36,
          35,
          34,
          33,
          32,
          31,
          30,
          29,
          28,
          27,
          26,
          25,
          24,
          23,
          22,
          21,
          20,
          19,
          18,
          17,
          16,
          15,
          14,
          13,
          12,
          11,
          10,
          9,
          8,
          7,
          6,
          5,
          4,
          3,
          2,
          1
         ],
         "y": [
          1.7775949992105453,
          3.995310850836067,
          6.298823716098046,
          8.508322392863136,
          10.56234414022305,
          12.499720141453892,
          14.408998088694936,
          16.37941139779225,
          18.476321798977956,
          20.739314862830298,
          23.19129089796085,
          25.848865230106373,
          28.72864993452043,
          31.84990554371145,
          35.23351148146599,
          38.900411248115795,
          42.870764021821245,
          47.163791886396425,
          51.79711254368947,
          56.78621272761815,
          62.144328318709086,
          67.8824406700856,
          74.00838518872835,
          80.52819809755128,
          87.44335123505094,
          94.75002938254316,
          102.43898212424828,
          110.49557153730818,
          118.89966264893101,
          127.62378730751112,
          136.49933223280743,
          145.5465922957065,
          154.74645670260304,
          164.22039860562964,
          174.20987511676503,
          184.2584805780737,
          194.28987562985506,
          204.2239956715018,
          213.98037598411958,
          223.47961108053948,
          232.6439550826711,
          241.39875127311194,
          249.67322627952376,
          257.40398849910935,
          264.5358748702537,
          271.0222555430427,
          276.82502060562837,
          281.9138474854055,
          286.26952661962133,
          289.88250707921446,
          292.75121474516203,
          294.8813694957474,
          296.2855977874715,
          296.9830133232815,
          296.99771763514184,
          296.36008426499774,
          295.10370795935034,
          293.2642826569507,
          290.8791635994916,
          287.98729694177814,
          284.6313460503457,
          280.8521314502547,
          276.6907696769996,
          272.187941963705,
          267.3836295962385,
          262.317555858163,
          257.0288881640566,
          251.55599783176046,
          245.93594401369666,
          240.20433151314114,
          234.39534347352043,
          228.5416341098245,
          222.6742343019507,
          216.82225584122972,
          211.01273761731912,
          205.27055296533092,
          199.6185083098093,
          194.07703242405645,
          188.66423592385237,
          183.3960198404635,
          178.28619901468042,
          173.34657174920366,
          168.58697087571247,
          164.01530949494116,
          159.63779074200298,
          155.45883151623917,
          151.48134749358925,
          147.70703053065944,
          144.13649707016094,
          140.76938887788054,
          137.604457641704,
          134.63968589700096,
          131.87238321859934,
          129.29936219572213,
          126.9170129412065,
          124.72141484321307,
          122.70840801091094,
          120.87364640732564,
          119.26511016984419,
          117.83719908645281,
          64.77580211528222,
          65.29577626321607,
          65.90126413450427,
          66.59595737571387,
          67.38364545708654,
          68.2682094763355,
          69.25360035149437,
          70.34381595114816,
          71.54285919901643,
          72.85470053485683,
          74.28324275183716,
          75.83227804511839,
          77.50543380072725,
          79.30608645167327,
          81.23729514180859,
          83.30170166151332,
          85.50141352953351,
          87.8379050026706,
          90.31182442648522,
          92.92290765693171,
          95.66986705822876,
          98.55031489786256,
          101.5606377669896,
          104.650284895908,
          107.49144404562138,
          110.40819424088322,
          113.39143721916979,
          116.43084784961387,
          119.51488163807757,
          122.63078065388332,
          125.76461271765207,
          128.9012391623689,
          132.024356027742,
          135.11661005376527,
          138.15967489643023,
          141.134464178037,
          144.02119884730322,
          146.79946403082084,
          149.44820738492942,
          151.945661109788,
          154.2695924494589,
          156.3976684313399,
          158.30526193655263,
          159.9694270213151,
          161.36709657061004,
          162.47525506970123,
          163.27152833420922,
          163.73510839906115,
          163.84654908570494,
          163.58839938015362,
          162.94536540337685,
          161.90458160389534,
          160.456185753301,
          158.5953766738037,
          156.3215721579122,
          153.63896607360854,
          150.5567474680653,
          147.08920994752816,
          143.25589919638026,
          139.0819400035789,
          134.59765989932558,
          129.8375873830397,
          124.84072863895292,
          119.65064329121415,
          114.3143970124647,
          108.87883373154465,
          103.3877267154238,
          97.87849994073811,
          92.3805452705139,
          86.91636684226657,
          81.50107671872429,
          75.48121640463569,
          69.60126428553933,
          63.99372188408446,
          58.677537342896024,
          53.6651111853882,
          48.963152370570185,
          44.57365534281046,
          40.494608628027315,
          36.7200461124748,
          33.24024512776624,
          30.042489882002872,
          27.113895301401993,
          24.439476361869218,
          22.003110164673437,
          19.78772664093059,
          17.775967709393406,
          15.951142369462172,
          14.297657841714237,
          12.80131178563873,
          11.449255042969476,
          10.227108412656891,
          9.114386095305342,
          8.077822325275545,
          7.067521253463934,
          6.020876406946224,
          4.880772049369435,
          3.626839637428072,
          2.303652354521945,
          1.0250886848916376
         ]
        }
       ],
       "layout": {
        "boxmode": "group",
        "legend": {
         "orientation": "h",
         "x": 1,
         "xanchor": "right",
         "y": 1.02,
         "yanchor": "bottom"
        },
        "plot_bgcolor": "white",
        "template": {
         "data": {
          "bar": [
           {
            "error_x": {
             "color": "#2a3f5f"
            },
            "error_y": {
             "color": "#2a3f5f"
            },
            "marker": {
             "line": {
              "color": "#E5ECF6",
              "width": 0.5
             },
             "pattern": {
              "fillmode": "overlay",
              "size": 10,
              "solidity": 0.2
             }
            },
            "type": "bar"
           }
          ],
          "barpolar": [
           {
            "marker": {
             "line": {
              "color": "#E5ECF6",
              "width": 0.5
             },
             "pattern": {
              "fillmode": "overlay",
              "size": 10,
              "solidity": 0.2
             }
            },
            "type": "barpolar"
           }
          ],
          "carpet": [
           {
            "aaxis": {
             "endlinecolor": "#2a3f5f",
             "gridcolor": "white",
             "linecolor": "white",
             "minorgridcolor": "white",
             "startlinecolor": "#2a3f5f"
            },
            "baxis": {
             "endlinecolor": "#2a3f5f",
             "gridcolor": "white",
             "linecolor": "white",
             "minorgridcolor": "white",
             "startlinecolor": "#2a3f5f"
            },
            "type": "carpet"
           }
          ],
          "choropleth": [
           {
            "colorbar": {
             "outlinewidth": 0,
             "ticks": ""
            },
            "type": "choropleth"
           }
          ],
          "contour": [
           {
            "colorbar": {
             "outlinewidth": 0,
             "ticks": ""
            },
            "colorscale": [
             [
              0,
              "#0d0887"
             ],
             [
              0.1111111111111111,
              "#46039f"
             ],
             [
              0.2222222222222222,
              "#7201a8"
             ],
             [
              0.3333333333333333,
              "#9c179e"
             ],
             [
              0.4444444444444444,
              "#bd3786"
             ],
             [
              0.5555555555555556,
              "#d8576b"
             ],
             [
              0.6666666666666666,
              "#ed7953"
             ],
             [
              0.7777777777777778,
              "#fb9f3a"
             ],
             [
              0.8888888888888888,
              "#fdca26"
             ],
             [
              1,
              "#f0f921"
             ]
            ],
            "type": "contour"
           }
          ],
          "contourcarpet": [
           {
            "colorbar": {
             "outlinewidth": 0,
             "ticks": ""
            },
            "type": "contourcarpet"
           }
          ],
          "heatmap": [
           {
            "colorbar": {
             "outlinewidth": 0,
             "ticks": ""
            },
            "colorscale": [
             [
              0,
              "#0d0887"
             ],
             [
              0.1111111111111111,
              "#46039f"
             ],
             [
              0.2222222222222222,
              "#7201a8"
             ],
             [
              0.3333333333333333,
              "#9c179e"
             ],
             [
              0.4444444444444444,
              "#bd3786"
             ],
             [
              0.5555555555555556,
              "#d8576b"
             ],
             [
              0.6666666666666666,
              "#ed7953"
             ],
             [
              0.7777777777777778,
              "#fb9f3a"
             ],
             [
              0.8888888888888888,
              "#fdca26"
             ],
             [
              1,
              "#f0f921"
             ]
            ],
            "type": "heatmap"
           }
          ],
          "heatmapgl": [
           {
            "colorbar": {
             "outlinewidth": 0,
             "ticks": ""
            },
            "colorscale": [
             [
              0,
              "#0d0887"
             ],
             [
              0.1111111111111111,
              "#46039f"
             ],
             [
              0.2222222222222222,
              "#7201a8"
             ],
             [
              0.3333333333333333,
              "#9c179e"
             ],
             [
              0.4444444444444444,
              "#bd3786"
             ],
             [
              0.5555555555555556,
              "#d8576b"
             ],
             [
              0.6666666666666666,
              "#ed7953"
             ],
             [
              0.7777777777777778,
              "#fb9f3a"
             ],
             [
              0.8888888888888888,
              "#fdca26"
             ],
             [
              1,
              "#f0f921"
             ]
            ],
            "type": "heatmapgl"
           }
          ],
          "histogram": [
           {
            "marker": {
             "pattern": {
              "fillmode": "overlay",
              "size": 10,
              "solidity": 0.2
             }
            },
            "type": "histogram"
           }
          ],
          "histogram2d": [
           {
            "colorbar": {
             "outlinewidth": 0,
             "ticks": ""
            },
            "colorscale": [
             [
              0,
              "#0d0887"
             ],
             [
              0.1111111111111111,
              "#46039f"
             ],
             [
              0.2222222222222222,
              "#7201a8"
             ],
             [
              0.3333333333333333,
              "#9c179e"
             ],
             [
              0.4444444444444444,
              "#bd3786"
             ],
             [
              0.5555555555555556,
              "#d8576b"
             ],
             [
              0.6666666666666666,
              "#ed7953"
             ],
             [
              0.7777777777777778,
              "#fb9f3a"
             ],
             [
              0.8888888888888888,
              "#fdca26"
             ],
             [
              1,
              "#f0f921"
             ]
            ],
            "type": "histogram2d"
           }
          ],
          "histogram2dcontour": [
           {
            "colorbar": {
             "outlinewidth": 0,
             "ticks": ""
            },
            "colorscale": [
             [
              0,
              "#0d0887"
             ],
             [
              0.1111111111111111,
              "#46039f"
             ],
             [
              0.2222222222222222,
              "#7201a8"
             ],
             [
              0.3333333333333333,
              "#9c179e"
             ],
             [
              0.4444444444444444,
              "#bd3786"
             ],
             [
              0.5555555555555556,
              "#d8576b"
             ],
             [
              0.6666666666666666,
              "#ed7953"
             ],
             [
              0.7777777777777778,
              "#fb9f3a"
             ],
             [
              0.8888888888888888,
              "#fdca26"
             ],
             [
              1,
              "#f0f921"
             ]
            ],
            "type": "histogram2dcontour"
           }
          ],
          "mesh3d": [
           {
            "colorbar": {
             "outlinewidth": 0,
             "ticks": ""
            },
            "type": "mesh3d"
           }
          ],
          "parcoords": [
           {
            "line": {
             "colorbar": {
              "outlinewidth": 0,
              "ticks": ""
             }
            },
            "type": "parcoords"
           }
          ],
          "pie": [
           {
            "automargin": true,
            "type": "pie"
           }
          ],
          "scatter": [
           {
            "fillpattern": {
             "fillmode": "overlay",
             "size": 10,
             "solidity": 0.2
            },
            "type": "scatter"
           }
          ],
          "scatter3d": [
           {
            "line": {
             "colorbar": {
              "outlinewidth": 0,
              "ticks": ""
             }
            },
            "marker": {
             "colorbar": {
              "outlinewidth": 0,
              "ticks": ""
             }
            },
            "type": "scatter3d"
           }
          ],
          "scattercarpet": [
           {
            "marker": {
             "colorbar": {
              "outlinewidth": 0,
              "ticks": ""
             }
            },
            "type": "scattercarpet"
           }
          ],
          "scattergeo": [
           {
            "marker": {
             "colorbar": {
              "outlinewidth": 0,
              "ticks": ""
             }
            },
            "type": "scattergeo"
           }
          ],
          "scattergl": [
           {
            "marker": {
             "colorbar": {
              "outlinewidth": 0,
              "ticks": ""
             }
            },
            "type": "scattergl"
           }
          ],
          "scattermapbox": [
           {
            "marker": {
             "colorbar": {
              "outlinewidth": 0,
              "ticks": ""
             }
            },
            "type": "scattermapbox"
           }
          ],
          "scatterpolar": [
           {
            "marker": {
             "colorbar": {
              "outlinewidth": 0,
              "ticks": ""
             }
            },
            "type": "scatterpolar"
           }
          ],
          "scatterpolargl": [
           {
            "marker": {
             "colorbar": {
              "outlinewidth": 0,
              "ticks": ""
             }
            },
            "type": "scatterpolargl"
           }
          ],
          "scatterternary": [
           {
            "marker": {
             "colorbar": {
              "outlinewidth": 0,
              "ticks": ""
             }
            },
            "type": "scatterternary"
           }
          ],
          "surface": [
           {
            "colorbar": {
             "outlinewidth": 0,
             "ticks": ""
            },
            "colorscale": [
             [
              0,
              "#0d0887"
             ],
             [
              0.1111111111111111,
              "#46039f"
             ],
             [
              0.2222222222222222,
              "#7201a8"
             ],
             [
              0.3333333333333333,
              "#9c179e"
             ],
             [
              0.4444444444444444,
              "#bd3786"
             ],
             [
              0.5555555555555556,
              "#d8576b"
             ],
             [
              0.6666666666666666,
              "#ed7953"
             ],
             [
              0.7777777777777778,
              "#fb9f3a"
             ],
             [
              0.8888888888888888,
              "#fdca26"
             ],
             [
              1,
              "#f0f921"
             ]
            ],
            "type": "surface"
           }
          ],
          "table": [
           {
            "cells": {
             "fill": {
              "color": "#EBF0F8"
             },
             "line": {
              "color": "white"
             }
            },
            "header": {
             "fill": {
              "color": "#C8D4E3"
             },
             "line": {
              "color": "white"
             }
            },
            "type": "table"
           }
          ]
         },
         "layout": {
          "annotationdefaults": {
           "arrowcolor": "#2a3f5f",
           "arrowhead": 0,
           "arrowwidth": 1
          },
          "autotypenumbers": "strict",
          "coloraxis": {
           "colorbar": {
            "outlinewidth": 0,
            "ticks": ""
           }
          },
          "colorscale": {
           "diverging": [
            [
             0,
             "#8e0152"
            ],
            [
             0.1,
             "#c51b7d"
            ],
            [
             0.2,
             "#de77ae"
            ],
            [
             0.3,
             "#f1b6da"
            ],
            [
             0.4,
             "#fde0ef"
            ],
            [
             0.5,
             "#f7f7f7"
            ],
            [
             0.6,
             "#e6f5d0"
            ],
            [
             0.7,
             "#b8e186"
            ],
            [
             0.8,
             "#7fbc41"
            ],
            [
             0.9,
             "#4d9221"
            ],
            [
             1,
             "#276419"
            ]
           ],
           "sequential": [
            [
             0,
             "#0d0887"
            ],
            [
             0.1111111111111111,
             "#46039f"
            ],
            [
             0.2222222222222222,
             "#7201a8"
            ],
            [
             0.3333333333333333,
             "#9c179e"
            ],
            [
             0.4444444444444444,
             "#bd3786"
            ],
            [
             0.5555555555555556,
             "#d8576b"
            ],
            [
             0.6666666666666666,
             "#ed7953"
            ],
            [
             0.7777777777777778,
             "#fb9f3a"
            ],
            [
             0.8888888888888888,
             "#fdca26"
            ],
            [
             1,
             "#f0f921"
            ]
           ],
           "sequentialminus": [
            [
             0,
             "#0d0887"
            ],
            [
             0.1111111111111111,
             "#46039f"
            ],
            [
             0.2222222222222222,
             "#7201a8"
            ],
            [
             0.3333333333333333,
             "#9c179e"
            ],
            [
             0.4444444444444444,
             "#bd3786"
            ],
            [
             0.5555555555555556,
             "#d8576b"
            ],
            [
             0.6666666666666666,
             "#ed7953"
            ],
            [
             0.7777777777777778,
             "#fb9f3a"
            ],
            [
             0.8888888888888888,
             "#fdca26"
            ],
            [
             1,
             "#f0f921"
            ]
           ]
          },
          "colorway": [
           "#636efa",
           "#EF553B",
           "#00cc96",
           "#ab63fa",
           "#FFA15A",
           "#19d3f3",
           "#FF6692",
           "#B6E880",
           "#FF97FF",
           "#FECB52"
          ],
          "font": {
           "color": "#2a3f5f"
          },
          "geo": {
           "bgcolor": "white",
           "lakecolor": "white",
           "landcolor": "#E5ECF6",
           "showlakes": true,
           "showland": true,
           "subunitcolor": "white"
          },
          "hoverlabel": {
           "align": "left"
          },
          "hovermode": "closest",
          "mapbox": {
           "style": "light"
          },
          "paper_bgcolor": "white",
          "plot_bgcolor": "#E5ECF6",
          "polar": {
           "angularaxis": {
            "gridcolor": "white",
            "linecolor": "white",
            "ticks": ""
           },
           "bgcolor": "#E5ECF6",
           "radialaxis": {
            "gridcolor": "white",
            "linecolor": "white",
            "ticks": ""
           }
          },
          "scene": {
           "xaxis": {
            "backgroundcolor": "#E5ECF6",
            "gridcolor": "white",
            "gridwidth": 2,
            "linecolor": "white",
            "showbackground": true,
            "ticks": "",
            "zerolinecolor": "white"
           },
           "yaxis": {
            "backgroundcolor": "#E5ECF6",
            "gridcolor": "white",
            "gridwidth": 2,
            "linecolor": "white",
            "showbackground": true,
            "ticks": "",
            "zerolinecolor": "white"
           },
           "zaxis": {
            "backgroundcolor": "#E5ECF6",
            "gridcolor": "white",
            "gridwidth": 2,
            "linecolor": "white",
            "showbackground": true,
            "ticks": "",
            "zerolinecolor": "white"
           }
          },
          "shapedefaults": {
           "line": {
            "color": "#2a3f5f"
           }
          },
          "ternary": {
           "aaxis": {
            "gridcolor": "white",
            "linecolor": "white",
            "ticks": ""
           },
           "baxis": {
            "gridcolor": "white",
            "linecolor": "white",
            "ticks": ""
           },
           "bgcolor": "#E5ECF6",
           "caxis": {
            "gridcolor": "white",
            "linecolor": "white",
            "ticks": ""
           }
          },
          "title": {
           "x": 0.05
          },
          "xaxis": {
           "automargin": true,
           "gridcolor": "white",
           "linecolor": "white",
           "ticks": "",
           "title": {
            "standoff": 15
           },
           "zerolinecolor": "white",
           "zerolinewidth": 2
          },
          "yaxis": {
           "automargin": true,
           "gridcolor": "white",
           "linecolor": "white",
           "ticks": "",
           "title": {
            "standoff": 15
           },
           "zerolinecolor": "white",
           "zerolinewidth": 2
          }
         }
        },
        "title": {
         "text": "Deaths for Scenario: Prioritise those 60-70 then 50-60, then 75+"
        },
        "width": 800,
        "xaxis": {
         "linecolor": "black"
        },
        "yaxis": {
         "linecolor": "black"
        }
       }
      }
     },
     "metadata": {},
     "output_type": "display_data"
    },
    {
     "data": {
      "application/vnd.plotly.v1+json": {
       "config": {
        "plotlyServerURL": "https://plot.ly"
       },
       "data": [
        {
         "line": {
          "color": "blue"
         },
         "mode": "lines",
         "name": "region United Kingdom",
         "type": "scatter",
         "x": [
          1,
          2,
          3,
          4,
          5,
          6,
          7,
          8,
          9,
          10,
          11,
          12,
          13,
          14,
          15,
          16,
          17,
          18,
          19,
          20,
          21,
          22,
          23,
          24,
          25,
          26,
          27,
          28,
          29,
          30,
          31,
          32,
          33,
          34,
          35,
          36,
          37,
          38,
          39,
          40,
          41,
          42,
          43,
          44,
          45,
          46,
          47,
          48,
          49,
          50,
          51,
          52,
          53,
          54,
          55,
          56,
          57,
          58,
          59,
          60,
          61,
          62,
          63,
          64,
          65,
          66,
          67,
          68,
          69,
          70,
          71,
          72,
          73,
          74,
          75,
          76,
          77,
          78,
          79,
          80,
          81,
          82,
          83,
          84,
          85,
          86,
          87,
          88,
          89,
          90,
          91,
          92,
          93,
          94,
          95,
          96,
          97,
          98,
          99,
          100
         ],
         "y": [
          1.5206630271392183,
          3.4172821699633458,
          5.378764349334773,
          7.231149950444392,
          8.898410599504237,
          10.397124727089654,
          11.796647528459323,
          13.174527418289214,
          14.590370866613306,
          16.07969690462723,
          17.65964580636263,
          19.337588638706702,
          21.1180785508984,
          23.00657714122669,
          25.010195249155068,
          27.13708573548495,
          29.39610888090832,
          31.795960751613578,
          34.34484054210149,
          37.050406404871495,
          39.91972917008255,
          42.95912170549352,
          46.17437301860963,
          49.57117247681159,
          53.15431211842586,
          56.9273918194128,
          60.892730674041495,
          65.05130252615642,
          69.40271897733082,
          73.94521850265382,
          78.56042435697883,
          83.29533296689071,
          88.16706652312719,
          93.1850491623847,
          98.35075412107045,
          103.65623858653868,
          109.08553981231815,
          114.61782038088572,
          120.22993433373138,
          125.89731506063065,
          131.59436019499216,
          137.29498215195534,
          142.97263151026124,
          148.5999882751301,
          154.14928418284757,
          159.5925373241849,
          164.90173071710404,
          170.04895851548855,
          175.00727944145652,
          179.7511111365386,
          184.25636835473918,
          188.5007921634466,
          192.4642446629453,
          196.1288123994192,
          199.4790615653171,
          202.50219559639103,
          205.1880809392083,
          207.52913742439085,
          209.52045247720366,
          211.15970149795052,
          212.44918463551485,
          213.39140001895316,
          213.9908027801443,
          214.2541697429094,
          214.19025179138222,
          213.8096115720845,
          213.1243143028377,
          212.14781243007417,
          210.89469137354038,
          209.38062712132592,
          207.62210878649483,
          205.63628356296238,
          203.44071804167547,
          201.05324848112275,
          198.491929869652,
          195.77477502654037,
          192.91970294447077,
          189.944407255481,
          186.86621700353987,
          183.70199415472894,
          180.4680713758014,
          177.18015359272013,
          173.85326312418846,
          170.50168789680382,
          167.13891542434408,
          163.77761928158935,
          160.42963209719525,
          157.1059384236328,
          153.81665702338248,
          150.57104397536295,
          147.37750554945652,
          144.24358610577275,
          141.176026758398,
          138.18076307313152,
          135.2629731154475,
          132.42711050428392,
          129.67696088400783,
          127.0156803940919,
          124.4458372184413,
          121.96943953057873
         ]
        },
        {
         "fill": "toself",
         "fillcolor": "blue",
         "line": {
          "color": "blue"
         },
         "mode": "lines",
         "name": "region United Kingdom",
         "opacity": 0.15,
         "type": "scatter",
         "x": [
          1,
          2,
          3,
          4,
          5,
          6,
          7,
          8,
          9,
          10,
          11,
          12,
          13,
          14,
          15,
          16,
          17,
          18,
          19,
          20,
          21,
          22,
          23,
          24,
          25,
          26,
          27,
          28,
          29,
          30,
          31,
          32,
          33,
          34,
          35,
          36,
          37,
          38,
          39,
          40,
          41,
          42,
          43,
          44,
          45,
          46,
          47,
          48,
          49,
          50,
          51,
          52,
          53,
          54,
          55,
          56,
          57,
          58,
          59,
          60,
          61,
          62,
          63,
          64,
          65,
          66,
          67,
          68,
          69,
          70,
          71,
          72,
          73,
          74,
          75,
          76,
          77,
          78,
          79,
          80,
          81,
          82,
          83,
          84,
          85,
          86,
          87,
          88,
          89,
          90,
          91,
          92,
          93,
          94,
          95,
          96,
          97,
          98,
          99,
          100,
          100,
          99,
          98,
          97,
          96,
          95,
          94,
          93,
          92,
          91,
          90,
          89,
          88,
          87,
          86,
          85,
          84,
          83,
          82,
          81,
          80,
          79,
          78,
          77,
          76,
          75,
          74,
          73,
          72,
          71,
          70,
          69,
          68,
          67,
          66,
          65,
          64,
          63,
          62,
          61,
          60,
          59,
          58,
          57,
          56,
          55,
          54,
          53,
          52,
          51,
          50,
          49,
          48,
          47,
          46,
          45,
          44,
          43,
          42,
          41,
          40,
          39,
          38,
          37,
          36,
          35,
          34,
          33,
          32,
          31,
          30,
          29,
          28,
          27,
          26,
          25,
          24,
          23,
          22,
          21,
          20,
          19,
          18,
          17,
          16,
          15,
          14,
          13,
          12,
          11,
          10,
          9,
          8,
          7,
          6,
          5,
          4,
          3,
          2,
          1
         ],
         "y": [
          1.80411727491581,
          4.054525479632848,
          6.385689324534682,
          8.599419881766309,
          10.613416943820877,
          12.450257157941886,
          14.18916815052733,
          15.915033903981204,
          17.69036761034056,
          19.550101381267588,
          21.50982678154668,
          23.575654450237575,
          25.75209009149281,
          28.045304401858743,
          30.463768097779653,
          33.01673417440131,
          35.713899984525995,
          38.564526102278926,
          41.577110470815995,
          44.75946723369584,
          48.11874435695717,
          51.66144142257432,
          55.39293937040103,
          59.31873068926673,
          63.44377790712285,
          67.77180738317597,
          72.30513844178654,
          77.04464547535642,
          81.9897702641877,
          87.13855673816911,
          92.35118905420791,
          98.01735998782075,
          103.90303421592681,
          109.96678214834022,
          116.20673439547812,
          122.6106049355379,
          129.15754633448296,
          135.8213898707909,
          142.5741562150399,
          149.38450647478837,
          156.22031988799523,
          163.0490266055233,
          169.83744140952192,
          176.55162486818202,
          183.15685357229447,
          189.61824106070145,
          195.90066628740803,
          201.9688774848614,
          207.78942950141712,
          213.7573751529895,
          219.71766875534695,
          225.41067685610847,
          230.807820870265,
          235.8832093309268,
          240.6138070844523,
          244.97941110615548,
          248.96260952924268,
          252.54877623549928,
          255.72601821381892,
          258.4847994549476,
          260.82225769373525,
          262.736165430091,
          264.227004571985,
          265.29776319907006,
          265.9539073424828,
          266.2033703345122,
          266.0564844905495,
          265.5258690074636,
          264.6258340817331,
          263.3727930877556,
          261.78499135080324,
          259.8816713611175,
          257.68286245918074,
          255.20912341435692,
          252.48141162038922,
          249.52100207137016,
          246.34943283084436,
          242.98846718612998,
          239.45958335963977,
          235.78433100781416,
          231.98378237069613,
          228.07847705684202,
          224.08823676261397,
          220.03207972638103,
          215.92817537629983,
          211.7938222481817,
          207.64543919742158,
          203.49854082824254,
          199.3676095541293,
          195.26613449020368,
          191.20648387183172,
          187.19996580356198,
          183.25687122733513,
          179.38650713415987,
          175.59722630351982,
          171.89645544356563,
          168.29072240732827,
          164.78568267251592,
          161.38618111696982,
          158.0962485082067,
          77.03704814784602,
          78.74689463607318,
          80.5533020000411,
          82.45753858646547,
          84.46054804579478,
          86.56289306523647,
          88.76466577715266,
          91.06547516903757,
          93.46434994621767,
          95.95967574792968,
          98.54915246808888,
          101.22973643216342,
          103.99759340518068,
          106.57485546994363,
          108.9738054554506,
          111.40916859457603,
          113.87407013728323,
          116.3609510699091,
          118.86155996130297,
          121.36694703395104,
          123.86745829128144,
          126.35273676144712,
          128.81178261104154,
          131.2330740191559,
          133.60458066515943,
          135.91377176945895,
          138.14763345938698,
          140.29270123286017,
          142.3351174852642,
          144.26074587953963,
          146.0553144842511,
          147.7044731930676,
          149.19419939981614,
          150.5106147132847,
          151.64040604193602,
          152.57089399353507,
          153.2901220549749,
          153.78696597392263,
          154.05109341528714,
          154.07296413902924,
          153.84393070638873,
          153.356647279585,
          152.6044586577607,
          151.58408887357993,
          150.29397463755788,
          148.7345144591209,
          146.9081412726806,
          144.81938322795526,
          142.4749385307617,
          139.88375354660806,
          137.05715981247175,
          134.00881644190048,
          130.75382815346734,
          127.30876384885757,
          123.69168380976144,
          119.92212901995109,
          116.02107408270074,
          112.01077007169535,
          107.91443777763298,
          103.75521934698595,
          99.55475534519906,
          95.33560577757898,
          91.12033196685854,
          86.93165342646235,
          82.79185571945169,
          78.7213491056321,
          74.73601379538458,
          70.84362468227029,
          66.74600773117132,
          62.430640153979645,
          58.26370380296695,
          54.215647739015374,
          50.3685490798635,
          46.723417403118255,
          43.27985141021034,
          40.035670359956434,
          36.98739149548588,
          34.130211608323556,
          31.458022809035544,
          28.963507393728012,
          26.638460229345938,
          24.475201484282852,
          22.465282671214503,
          20.59982848915054,
          18.86966798236947,
          17.265466076674144,
          15.778173862283674,
          14.3995953376975,
          13.12263228632342,
          11.941296602844742,
          10.849885815027827,
          9.839825683395484,
          8.894485241260675,
          7.983198022047011,
          7.058109004110579,
          6.059750233126273,
          4.936746000048408,
          3.677668057721989,
          2.3378437081197383,
          1.040383330035845
         ]
        },
        {
         "line": {
          "color": "red"
         },
         "mode": "lines",
         "name": "region France",
         "type": "scatter",
         "x": [
          1,
          2,
          3,
          4,
          5,
          6,
          7,
          8,
          9,
          10,
          11,
          12,
          13,
          14,
          15,
          16,
          17,
          18,
          19,
          20,
          21,
          22,
          23,
          24,
          25,
          26,
          27,
          28,
          29,
          30,
          31,
          32,
          33,
          34,
          35,
          36,
          37,
          38,
          39,
          40,
          41,
          42,
          43,
          44,
          45,
          46,
          47,
          48,
          49,
          50,
          51,
          52,
          53,
          54,
          55,
          56,
          57,
          58,
          59,
          60,
          61,
          62,
          63,
          64,
          65,
          66,
          67,
          68,
          69,
          70,
          71,
          72,
          73,
          74,
          75,
          76,
          77,
          78,
          79,
          80,
          81,
          82,
          83,
          84,
          85,
          86,
          87,
          88,
          89,
          90,
          91,
          92,
          93,
          94,
          95,
          96,
          97,
          98,
          99,
          100
         ],
         "y": [
          1.4983078041050215,
          3.367728974432519,
          5.312009678409267,
          7.187112375066774,
          8.953054482532911,
          10.65548556223646,
          12.379948438869992,
          14.208845353955544,
          16.200377627122116,
          18.388259935777885,
          20.790365862868796,
          23.41939136345097,
          26.288583026583282,
          29.414711732024838,
          32.816379575992684,
          36.51279959217862,
          40.52261540275167,
          44.86293113463471,
          49.5484979638384,
          54.59135125249643,
          60.000534644977286,
          65.78222359334984,
          71.93956120957415,
          78.4712673587282,
          85.37075777666352,
          92.62594901036074,
          100.21918863029812,
          108.12707468256991,
          116.31919760927461,
          124.75842325687493,
          133.28821920597903,
          141.9110590404508,
          150.59588495888806,
          159.3001635947101,
          167.96965044699027,
          176.5402102178503,
          184.9425215803356,
          193.10612692211424,
          200.9625348747865,
          208.44710923990283,
          215.50053547029324,
          222.06973369207026,
          228.1086430876144,
          233.57857598964577,
          238.44850029707945,
          242.6952543253139,
          246.30347641461765,
          249.26555265183765,
          251.58152369319606,
          253.258098184983,
          254.30796236897848,
          254.74894153708158,
          254.60355155083377,
          253.89805937944075,
          252.66187370877265,
          250.92690874004398,
          248.72668332781993,
          246.09583413175216,
          243.06972625587213,
          239.6841613157748,
          235.97710458908477,
          231.98396494591842,
          227.73967464495317,
          223.27848016986934,
          218.63393906921232,
          213.83879741771736,
          208.92477689679995,
          203.9224369688799,
          198.86099667063388,
          193.76822717913743,
          188.6703315012866,
          183.59181830607864,
          178.5553942832994,
          173.58188506532883,
          168.6901920100129,
          163.89728924636466,
          159.2182324513223,
          154.66614384949114,
          150.25225445903993,
          145.98598306006045,
          141.87505597079792,
          137.92561375424305,
          134.1422957542899,
          130.52838257981458,
          127.0859168483395,
          123.81581986076634,
          120.71803980164921,
          117.79166974702802,
          115.03507601566876,
          112.44600607734688,
          110.02169132068676,
          107.7589385386201,
          105.6542124622283,
          103.70371173527096,
          101.90343293490272,
          100.2492311713866,
          98.73687444839787,
          97.36208839081752,
          96.12059803214562,
          95.00815672792812
         ]
        },
        {
         "fill": "toself",
         "fillcolor": "red",
         "line": {
          "color": "red"
         },
         "mode": "lines",
         "name": "region France",
         "opacity": 0.15,
         "type": "scatter",
         "x": [
          1,
          2,
          3,
          4,
          5,
          6,
          7,
          8,
          9,
          10,
          11,
          12,
          13,
          14,
          15,
          16,
          17,
          18,
          19,
          20,
          21,
          22,
          23,
          24,
          25,
          26,
          27,
          28,
          29,
          30,
          31,
          32,
          33,
          34,
          35,
          36,
          37,
          38,
          39,
          40,
          41,
          42,
          43,
          44,
          45,
          46,
          47,
          48,
          49,
          50,
          51,
          52,
          53,
          54,
          55,
          56,
          57,
          58,
          59,
          60,
          61,
          62,
          63,
          64,
          65,
          66,
          67,
          68,
          69,
          70,
          71,
          72,
          73,
          74,
          75,
          76,
          77,
          78,
          79,
          80,
          81,
          82,
          83,
          84,
          85,
          86,
          87,
          88,
          89,
          90,
          91,
          92,
          93,
          94,
          95,
          96,
          97,
          98,
          99,
          100,
          100,
          99,
          98,
          97,
          96,
          95,
          94,
          93,
          92,
          91,
          90,
          89,
          88,
          87,
          86,
          85,
          84,
          83,
          82,
          81,
          80,
          79,
          78,
          77,
          76,
          75,
          74,
          73,
          72,
          71,
          70,
          69,
          68,
          67,
          66,
          65,
          64,
          63,
          62,
          61,
          60,
          59,
          58,
          57,
          56,
          55,
          54,
          53,
          52,
          51,
          50,
          49,
          48,
          47,
          46,
          45,
          44,
          43,
          42,
          41,
          40,
          39,
          38,
          37,
          36,
          35,
          34,
          33,
          32,
          31,
          30,
          29,
          28,
          27,
          26,
          25,
          24,
          23,
          22,
          21,
          20,
          19,
          18,
          17,
          16,
          15,
          14,
          13,
          12,
          11,
          10,
          9,
          8,
          7,
          6,
          5,
          4,
          3,
          2,
          1
         ],
         "y": [
          1.7775949992105453,
          3.9958322341402535,
          6.3081218991358226,
          8.55487297422349,
          10.699582123099256,
          12.800646466843792,
          14.956049573109963,
          17.255164280892796,
          19.757892270417933,
          22.496980465698638,
          25.489635337425682,
          28.749462231781866,
          32.292238030607436,
          36.13817999383271,
          40.30937938435015,
          44.827661929191976,
          49.71337449723204,
          54.98502185376095,
          60.65838878152876,
          66.74602873558088,
          73.25716036701618,
          80.1975843909927,
          87.56917078274316,
          95.37032644565106,
          103.59357935364424,
          112.22508114449039,
          121.24455454955982,
          130.62549998556204,
          140.33508476402207,
          150.33191318964177,
          160.43356266776019,
          170.64693748674065,
          180.93956696007538,
          191.7527630851425,
          202.74115882369148,
          213.675150427013,
          224.46694552440678,
          235.0280291961284,
          245.2724342520823,
          255.11793326593948,
          264.4862200339154,
          273.304394234428,
          281.50625765386695,
          289.0345543283667,
          295.8415058990959,
          301.88899842774595,
          307.14849804546475,
          311.600008306443,
          315.23524791902406,
          318.05561435181994,
          320.07009915279497,
          321.29448401677416,
          321.7509180756591,
          321.4675108482365,
          320.47686252753925,
          318.81698564065033,
          316.5284682288832,
          313.65340490579763,
          310.23497194506183,
          306.31746574433816,
          301.94841510657244,
          297.17302000927225,
          292.03629313551323,
          286.58248691970687,
          280.85484576122724,
          274.8960333872443,
          268.7477574522892,
          262.4505109066804,
          256.04305119086104,
          249.56224697845693,
          243.04318181139226,
          236.51903992210615,
          230.02096226915626,
          223.57782062236888,
          217.21609622225606,
          210.9598069810422,
          204.830641129858,
          198.84767816591057,
          193.0274783499829,
          187.38425767671393,
          181.93006614651665,
          176.67489256210075,
          171.62674082254017,
          166.7916944270722,
          162.1741340699873,
          157.77672580202247,
          153.60068399333852,
          149.64606912099413,
          145.91194563649438,
          142.39648733272873,
          139.0970647883335,
          136.01036775059112,
          133.13250335132932,
          130.45915359162302,
          127.98565910511394,
          125.70712040119845,
          123.61847113978598,
          121.74255900546491,
          120.09379509499288,
          118.60838106267805,
          64.57621153853866,
          65.10072115156844,
          65.7120994963589,
          66.41435839502152,
          67.21164931720872,
          68.10826269876897,
          69.10859913865073,
          70.21715026311084,
          71.43845802458091,
          72.77708843285828,
          74.23760083294792,
          75.82451387653103,
          77.54224531298367,
          79.39503982243623,
          81.38690156285107,
          83.52146562219639,
          85.80195005291307,
          88.23099178835663,
          90.81050581013042,
          93.54156589441382,
          96.42430590762959,
          99.45781566528896,
          102.63995154540572,
          105.96714562485789,
          109.17445900549623,
          112.32609765476607,
          115.56610726842045,
          118.88508614598754,
          122.27229384624805,
          125.71561219077448,
          129.2015460755102,
          132.71517143198918,
          136.24020720643435,
          139.759071987057,
          143.25296010196902,
          146.70203922014184,
          150.08557246655258,
          153.3819841646004,
          156.56884933411865,
          159.6227437406408,
          162.51957697108048,
          165.2349162178381,
          167.74178750052292,
          170.01464729028828,
          172.02756972370136,
          173.7543955294617,
          175.16926429669005,
          176.24738434059037,
          176.96498576185306,
          177.29985281540044,
          177.23147204518915,
          176.7413018860518,
          175.81337766601607,
          174.4364738135997,
          172.60338292679242,
          170.31168055090853,
          167.56395650390152,
          164.3679699480615,
          160.73690734248692,
          156.69019024763196,
          152.2535709790653,
          147.45793607908365,
          142.33989582377674,
          136.94205535702173,
          131.3122616188895,
          125.50047462618228,
          119.55531663788204,
          113.52059021655168,
          107.43321211225695,
          101.32394211423498,
          95.21668544845097,
          88.74290914185653,
          81.984241701665,
          75.48634663971798,
          69.27927454652576,
          63.38580241584952,
          57.82142910383535,
          52.59562919318376,
          47.71274182064358,
          43.17193047750986,
          38.96734442830192,
          35.088818946228905,
          31.525012720558028,
          28.26161322547897,
          25.28230892504201,
          22.569054847072113,
          20.102882533330376,
          17.865280226596585,
          15.838933594467077,
          14.008328023426975,
          12.36049249425676,
          10.882143918876578,
          9.55512574096063,
          8.34861716184643,
          7.2139248574659,
          6.086473157833512,
          4.902635035040787,
          3.631131161956624,
          2.3038887338348273,
          1.0250886848916376
         ]
        }
       ],
       "layout": {
        "boxmode": "group",
        "legend": {
         "orientation": "h",
         "x": 1,
         "xanchor": "right",
         "y": 1.02,
         "yanchor": "bottom"
        },
        "plot_bgcolor": "white",
        "template": {
         "data": {
          "bar": [
           {
            "error_x": {
             "color": "#2a3f5f"
            },
            "error_y": {
             "color": "#2a3f5f"
            },
            "marker": {
             "line": {
              "color": "#E5ECF6",
              "width": 0.5
             },
             "pattern": {
              "fillmode": "overlay",
              "size": 10,
              "solidity": 0.2
             }
            },
            "type": "bar"
           }
          ],
          "barpolar": [
           {
            "marker": {
             "line": {
              "color": "#E5ECF6",
              "width": 0.5
             },
             "pattern": {
              "fillmode": "overlay",
              "size": 10,
              "solidity": 0.2
             }
            },
            "type": "barpolar"
           }
          ],
          "carpet": [
           {
            "aaxis": {
             "endlinecolor": "#2a3f5f",
             "gridcolor": "white",
             "linecolor": "white",
             "minorgridcolor": "white",
             "startlinecolor": "#2a3f5f"
            },
            "baxis": {
             "endlinecolor": "#2a3f5f",
             "gridcolor": "white",
             "linecolor": "white",
             "minorgridcolor": "white",
             "startlinecolor": "#2a3f5f"
            },
            "type": "carpet"
           }
          ],
          "choropleth": [
           {
            "colorbar": {
             "outlinewidth": 0,
             "ticks": ""
            },
            "type": "choropleth"
           }
          ],
          "contour": [
           {
            "colorbar": {
             "outlinewidth": 0,
             "ticks": ""
            },
            "colorscale": [
             [
              0,
              "#0d0887"
             ],
             [
              0.1111111111111111,
              "#46039f"
             ],
             [
              0.2222222222222222,
              "#7201a8"
             ],
             [
              0.3333333333333333,
              "#9c179e"
             ],
             [
              0.4444444444444444,
              "#bd3786"
             ],
             [
              0.5555555555555556,
              "#d8576b"
             ],
             [
              0.6666666666666666,
              "#ed7953"
             ],
             [
              0.7777777777777778,
              "#fb9f3a"
             ],
             [
              0.8888888888888888,
              "#fdca26"
             ],
             [
              1,
              "#f0f921"
             ]
            ],
            "type": "contour"
           }
          ],
          "contourcarpet": [
           {
            "colorbar": {
             "outlinewidth": 0,
             "ticks": ""
            },
            "type": "contourcarpet"
           }
          ],
          "heatmap": [
           {
            "colorbar": {
             "outlinewidth": 0,
             "ticks": ""
            },
            "colorscale": [
             [
              0,
              "#0d0887"
             ],
             [
              0.1111111111111111,
              "#46039f"
             ],
             [
              0.2222222222222222,
              "#7201a8"
             ],
             [
              0.3333333333333333,
              "#9c179e"
             ],
             [
              0.4444444444444444,
              "#bd3786"
             ],
             [
              0.5555555555555556,
              "#d8576b"
             ],
             [
              0.6666666666666666,
              "#ed7953"
             ],
             [
              0.7777777777777778,
              "#fb9f3a"
             ],
             [
              0.8888888888888888,
              "#fdca26"
             ],
             [
              1,
              "#f0f921"
             ]
            ],
            "type": "heatmap"
           }
          ],
          "heatmapgl": [
           {
            "colorbar": {
             "outlinewidth": 0,
             "ticks": ""
            },
            "colorscale": [
             [
              0,
              "#0d0887"
             ],
             [
              0.1111111111111111,
              "#46039f"
             ],
             [
              0.2222222222222222,
              "#7201a8"
             ],
             [
              0.3333333333333333,
              "#9c179e"
             ],
             [
              0.4444444444444444,
              "#bd3786"
             ],
             [
              0.5555555555555556,
              "#d8576b"
             ],
             [
              0.6666666666666666,
              "#ed7953"
             ],
             [
              0.7777777777777778,
              "#fb9f3a"
             ],
             [
              0.8888888888888888,
              "#fdca26"
             ],
             [
              1,
              "#f0f921"
             ]
            ],
            "type": "heatmapgl"
           }
          ],
          "histogram": [
           {
            "marker": {
             "pattern": {
              "fillmode": "overlay",
              "size": 10,
              "solidity": 0.2
             }
            },
            "type": "histogram"
           }
          ],
          "histogram2d": [
           {
            "colorbar": {
             "outlinewidth": 0,
             "ticks": ""
            },
            "colorscale": [
             [
              0,
              "#0d0887"
             ],
             [
              0.1111111111111111,
              "#46039f"
             ],
             [
              0.2222222222222222,
              "#7201a8"
             ],
             [
              0.3333333333333333,
              "#9c179e"
             ],
             [
              0.4444444444444444,
              "#bd3786"
             ],
             [
              0.5555555555555556,
              "#d8576b"
             ],
             [
              0.6666666666666666,
              "#ed7953"
             ],
             [
              0.7777777777777778,
              "#fb9f3a"
             ],
             [
              0.8888888888888888,
              "#fdca26"
             ],
             [
              1,
              "#f0f921"
             ]
            ],
            "type": "histogram2d"
           }
          ],
          "histogram2dcontour": [
           {
            "colorbar": {
             "outlinewidth": 0,
             "ticks": ""
            },
            "colorscale": [
             [
              0,
              "#0d0887"
             ],
             [
              0.1111111111111111,
              "#46039f"
             ],
             [
              0.2222222222222222,
              "#7201a8"
             ],
             [
              0.3333333333333333,
              "#9c179e"
             ],
             [
              0.4444444444444444,
              "#bd3786"
             ],
             [
              0.5555555555555556,
              "#d8576b"
             ],
             [
              0.6666666666666666,
              "#ed7953"
             ],
             [
              0.7777777777777778,
              "#fb9f3a"
             ],
             [
              0.8888888888888888,
              "#fdca26"
             ],
             [
              1,
              "#f0f921"
             ]
            ],
            "type": "histogram2dcontour"
           }
          ],
          "mesh3d": [
           {
            "colorbar": {
             "outlinewidth": 0,
             "ticks": ""
            },
            "type": "mesh3d"
           }
          ],
          "parcoords": [
           {
            "line": {
             "colorbar": {
              "outlinewidth": 0,
              "ticks": ""
             }
            },
            "type": "parcoords"
           }
          ],
          "pie": [
           {
            "automargin": true,
            "type": "pie"
           }
          ],
          "scatter": [
           {
            "fillpattern": {
             "fillmode": "overlay",
             "size": 10,
             "solidity": 0.2
            },
            "type": "scatter"
           }
          ],
          "scatter3d": [
           {
            "line": {
             "colorbar": {
              "outlinewidth": 0,
              "ticks": ""
             }
            },
            "marker": {
             "colorbar": {
              "outlinewidth": 0,
              "ticks": ""
             }
            },
            "type": "scatter3d"
           }
          ],
          "scattercarpet": [
           {
            "marker": {
             "colorbar": {
              "outlinewidth": 0,
              "ticks": ""
             }
            },
            "type": "scattercarpet"
           }
          ],
          "scattergeo": [
           {
            "marker": {
             "colorbar": {
              "outlinewidth": 0,
              "ticks": ""
             }
            },
            "type": "scattergeo"
           }
          ],
          "scattergl": [
           {
            "marker": {
             "colorbar": {
              "outlinewidth": 0,
              "ticks": ""
             }
            },
            "type": "scattergl"
           }
          ],
          "scattermapbox": [
           {
            "marker": {
             "colorbar": {
              "outlinewidth": 0,
              "ticks": ""
             }
            },
            "type": "scattermapbox"
           }
          ],
          "scatterpolar": [
           {
            "marker": {
             "colorbar": {
              "outlinewidth": 0,
              "ticks": ""
             }
            },
            "type": "scatterpolar"
           }
          ],
          "scatterpolargl": [
           {
            "marker": {
             "colorbar": {
              "outlinewidth": 0,
              "ticks": ""
             }
            },
            "type": "scatterpolargl"
           }
          ],
          "scatterternary": [
           {
            "marker": {
             "colorbar": {
              "outlinewidth": 0,
              "ticks": ""
             }
            },
            "type": "scatterternary"
           }
          ],
          "surface": [
           {
            "colorbar": {
             "outlinewidth": 0,
             "ticks": ""
            },
            "colorscale": [
             [
              0,
              "#0d0887"
             ],
             [
              0.1111111111111111,
              "#46039f"
             ],
             [
              0.2222222222222222,
              "#7201a8"
             ],
             [
              0.3333333333333333,
              "#9c179e"
             ],
             [
              0.4444444444444444,
              "#bd3786"
             ],
             [
              0.5555555555555556,
              "#d8576b"
             ],
             [
              0.6666666666666666,
              "#ed7953"
             ],
             [
              0.7777777777777778,
              "#fb9f3a"
             ],
             [
              0.8888888888888888,
              "#fdca26"
             ],
             [
              1,
              "#f0f921"
             ]
            ],
            "type": "surface"
           }
          ],
          "table": [
           {
            "cells": {
             "fill": {
              "color": "#EBF0F8"
             },
             "line": {
              "color": "white"
             }
            },
            "header": {
             "fill": {
              "color": "#C8D4E3"
             },
             "line": {
              "color": "white"
             }
            },
            "type": "table"
           }
          ]
         },
         "layout": {
          "annotationdefaults": {
           "arrowcolor": "#2a3f5f",
           "arrowhead": 0,
           "arrowwidth": 1
          },
          "autotypenumbers": "strict",
          "coloraxis": {
           "colorbar": {
            "outlinewidth": 0,
            "ticks": ""
           }
          },
          "colorscale": {
           "diverging": [
            [
             0,
             "#8e0152"
            ],
            [
             0.1,
             "#c51b7d"
            ],
            [
             0.2,
             "#de77ae"
            ],
            [
             0.3,
             "#f1b6da"
            ],
            [
             0.4,
             "#fde0ef"
            ],
            [
             0.5,
             "#f7f7f7"
            ],
            [
             0.6,
             "#e6f5d0"
            ],
            [
             0.7,
             "#b8e186"
            ],
            [
             0.8,
             "#7fbc41"
            ],
            [
             0.9,
             "#4d9221"
            ],
            [
             1,
             "#276419"
            ]
           ],
           "sequential": [
            [
             0,
             "#0d0887"
            ],
            [
             0.1111111111111111,
             "#46039f"
            ],
            [
             0.2222222222222222,
             "#7201a8"
            ],
            [
             0.3333333333333333,
             "#9c179e"
            ],
            [
             0.4444444444444444,
             "#bd3786"
            ],
            [
             0.5555555555555556,
             "#d8576b"
            ],
            [
             0.6666666666666666,
             "#ed7953"
            ],
            [
             0.7777777777777778,
             "#fb9f3a"
            ],
            [
             0.8888888888888888,
             "#fdca26"
            ],
            [
             1,
             "#f0f921"
            ]
           ],
           "sequentialminus": [
            [
             0,
             "#0d0887"
            ],
            [
             0.1111111111111111,
             "#46039f"
            ],
            [
             0.2222222222222222,
             "#7201a8"
            ],
            [
             0.3333333333333333,
             "#9c179e"
            ],
            [
             0.4444444444444444,
             "#bd3786"
            ],
            [
             0.5555555555555556,
             "#d8576b"
            ],
            [
             0.6666666666666666,
             "#ed7953"
            ],
            [
             0.7777777777777778,
             "#fb9f3a"
            ],
            [
             0.8888888888888888,
             "#fdca26"
            ],
            [
             1,
             "#f0f921"
            ]
           ]
          },
          "colorway": [
           "#636efa",
           "#EF553B",
           "#00cc96",
           "#ab63fa",
           "#FFA15A",
           "#19d3f3",
           "#FF6692",
           "#B6E880",
           "#FF97FF",
           "#FECB52"
          ],
          "font": {
           "color": "#2a3f5f"
          },
          "geo": {
           "bgcolor": "white",
           "lakecolor": "white",
           "landcolor": "#E5ECF6",
           "showlakes": true,
           "showland": true,
           "subunitcolor": "white"
          },
          "hoverlabel": {
           "align": "left"
          },
          "hovermode": "closest",
          "mapbox": {
           "style": "light"
          },
          "paper_bgcolor": "white",
          "plot_bgcolor": "#E5ECF6",
          "polar": {
           "angularaxis": {
            "gridcolor": "white",
            "linecolor": "white",
            "ticks": ""
           },
           "bgcolor": "#E5ECF6",
           "radialaxis": {
            "gridcolor": "white",
            "linecolor": "white",
            "ticks": ""
           }
          },
          "scene": {
           "xaxis": {
            "backgroundcolor": "#E5ECF6",
            "gridcolor": "white",
            "gridwidth": 2,
            "linecolor": "white",
            "showbackground": true,
            "ticks": "",
            "zerolinecolor": "white"
           },
           "yaxis": {
            "backgroundcolor": "#E5ECF6",
            "gridcolor": "white",
            "gridwidth": 2,
            "linecolor": "white",
            "showbackground": true,
            "ticks": "",
            "zerolinecolor": "white"
           },
           "zaxis": {
            "backgroundcolor": "#E5ECF6",
            "gridcolor": "white",
            "gridwidth": 2,
            "linecolor": "white",
            "showbackground": true,
            "ticks": "",
            "zerolinecolor": "white"
           }
          },
          "shapedefaults": {
           "line": {
            "color": "#2a3f5f"
           }
          },
          "ternary": {
           "aaxis": {
            "gridcolor": "white",
            "linecolor": "white",
            "ticks": ""
           },
           "baxis": {
            "gridcolor": "white",
            "linecolor": "white",
            "ticks": ""
           },
           "bgcolor": "#E5ECF6",
           "caxis": {
            "gridcolor": "white",
            "linecolor": "white",
            "ticks": ""
           }
          },
          "title": {
           "x": 0.05
          },
          "xaxis": {
           "automargin": true,
           "gridcolor": "white",
           "linecolor": "white",
           "ticks": "",
           "title": {
            "standoff": 15
           },
           "zerolinecolor": "white",
           "zerolinewidth": 2
          },
          "yaxis": {
           "automargin": true,
           "gridcolor": "white",
           "linecolor": "white",
           "ticks": "",
           "title": {
            "standoff": 15
           },
           "zerolinecolor": "white",
           "zerolinewidth": 2
          }
         }
        },
        "title": {
         "text": "Deaths for Scenario: Prioritise those 50-60 then 60-70, then 75+"
        },
        "width": 800,
        "xaxis": {
         "linecolor": "black"
        },
        "yaxis": {
         "linecolor": "black"
        }
       }
      }
     },
     "metadata": {},
     "output_type": "display_data"
    }
   ],
   "source": [
    "# Trace names - represent the solver used for the simulation\n",
    "trace_name = ['region {}'.format(r) for r in regions]\n",
    "\n",
    "# Plot for each boosting scenario\n",
    "for s, scenario in enumerate(scenario_names):\n",
    "    fig = go.Figure()\n",
    "    # Plot (line plot for each solver method for each age)\n",
    "    for r, reg in enumerate(regions):\n",
    "        fig.add_trace(\n",
    "            go.Scatter(\n",
    "                y=total_new_deaths_mean[r][s, :],\n",
    "                x=parameters.simulation_parameters.times,\n",
    "                mode='lines',\n",
    "                name=trace_name[r],\n",
    "                line_color=colours[r],\n",
    "            )\n",
    "        )\n",
    "\n",
    "        fig.add_trace(\n",
    "            go.Scatter(\n",
    "                y=total_new_deaths_upper[r][s, :].tolist() + total_new_deaths_lower[r][s, :].tolist()[::-1],\n",
    "                x=parameters.simulation_parameters.times + parameters.simulation_parameters.times[::-1],\n",
    "                mode='lines',\n",
    "                name=trace_name[r],\n",
    "                fill='toself',\n",
    "                fillcolor=colours[r],\n",
    "                line_color=colours[r],\n",
    "                opacity=0.15,\n",
    "            )\n",
    "        )\n",
    "\n",
    "    # Add axis labels\n",
    "    fig.update_layout(\n",
    "        boxmode='group',\n",
    "        title='Deaths for Scenario: {}'.format(scenario),\n",
    "        width=800,\n",
    "        plot_bgcolor='white',\n",
    "        xaxis=dict(linecolor='black'),\n",
    "        yaxis=dict(linecolor='black'),\n",
    "        legend=dict(\n",
    "            orientation=\"h\",\n",
    "            yanchor=\"bottom\",\n",
    "            y=1.02,\n",
    "            xanchor=\"right\",\n",
    "            x=1\n",
    "        ))\n",
    "\n",
    "    fig.write_image('images/Deaths Scenario {}.pdf'.format(s+1))\n",
    "    fig.show()"
   ]
  }
 ],
 "metadata": {
  "interpreter": {
   "hash": "68071bb08c320916033ffa6702342928cea5ba8baa6ee7305e5c9ae08c2309c8"
  },
  "kernelspec": {
   "display_name": "Python 3.10.8 64-bit ('warwick': conda)",
   "name": "python3"
  },
  "language_info": {
   "codemirror_mode": {
    "name": "ipython",
    "version": 3
   },
   "file_extension": ".py",
   "mimetype": "text/x-python",
   "name": "python",
   "nbconvert_exporter": "python",
   "pygments_lexer": "ipython3",
   "version": "3.10.8"
  },
  "orig_nbformat": 4
 },
 "nbformat": 4,
 "nbformat_minor": 2
}
