{
 "cells": [
  {
   "cell_type": "markdown",
   "metadata": {},
   "source": [
    "# REPORT 1 - Testing different boosting priority strategies\n",
    "\n",
    "In this notebook we test different age-priority boosting strategies, using the `warwickmodel`, built by Universities of Warwick and Lancaster, with population data from 5 countries with very different socio-economic profiles. We assume an initial boosting campaign in the population, with no subsequent boosters being deployed during the simulation. \n",
    "\n",
    "The infection dynamics are run for:\n",
    " - Dates: **15 Feb 2020** - **25 June 2021**;\n",
    " - Countries of interest: **United Kingdom**, **France**;\n",
    " - Number of boosters deployed: **10%** of the population.\n",
    "\n",
    "*The Warwick model is built by Universities of Warwick and Lancaster.*"
   ]
  },
  {
   "cell_type": "code",
   "execution_count": 1,
   "metadata": {},
   "outputs": [],
   "source": [
    "# Load necessary libraries\n",
    "import os\n",
    "import numpy as np\n",
    "import pandas as pd\n",
    "import scipy\n",
    "import epimodels as em\n",
    "import warwickmodel as wm\n",
    "import matplotlib\n",
    "import plotly.graph_objects as go\n",
    "from matplotlib import pyplot as plt\n",
    "from iteration_utilities import deepflatten"
   ]
  },
  {
   "cell_type": "markdown",
   "metadata": {},
   "source": [
    "## Model Setup\n",
    "### Define setup matrices for the WarwickLanc Model"
   ]
  },
  {
   "cell_type": "code",
   "execution_count": 2,
   "metadata": {},
   "outputs": [],
   "source": [
    "# Populate the model\n",
    "total_days =  100\n",
    "regions = ['United Kingdom', 'France']\n",
    "age_groups = ['0-4', '5-9', '10-14', '15-19', '20-24', '25-29', '30-34', '35-39',\n",
    "              '40-44', '45-49', '50-54', '55-59', '60-64', '65-69', '70-74', '75+']\n",
    "\n",
    "regimes = np.arange(1, 101, 1).tolist()\n",
    "\n",
    "# Add folder path to data file\n",
    "path = os.path.join('../data/')"
   ]
  },
  {
   "cell_type": "markdown",
   "metadata": {},
   "source": [
    "### Read in corresponding data files for the countries considered for all 100 regimes"
   ]
  },
  {
   "cell_type": "code",
   "execution_count": 3,
   "metadata": {},
   "outputs": [],
   "source": [
    "# Matrices contact\n",
    "matrices_contact = []\n",
    "matrices_region = []\n",
    "time_changes_contact = []\n",
    "time_changes_region = []\n",
    "\n",
    "# Vaccine effects\n",
    "nu_tra = []\n",
    "nu_symp = []\n",
    "nu_inf = []\n",
    "nu_sev_h = []\n",
    "nu_sev_d = []\n",
    "\n",
    "# Parameters\n",
    "omega = []\n",
    "alpha = []\n",
    "gamma = []\n",
    "tau = []\n",
    "we = []\n",
    "\n",
    "# Initial conditions\n",
    "susceptibles_IC = []\n",
    "exposed1_IC = []\n",
    "exposed2_IC = []\n",
    "exposed3_IC = []\n",
    "exposed4_IC = []\n",
    "exposed5_IC = []\n",
    "infectives_sym_IC = []\n",
    "infectives_asym_IC = []\n",
    "recovered_IC = []\n",
    "\n",
    "# Risk factors\n",
    "d = []\n",
    "beta = []\n",
    "\n",
    "# Probabilities of proceeding to severe outcomes\n",
    "pItoH = []\n",
    "pHtoD = []\n",
    "\n",
    "# Distribution of delays before proceeding to severe outcomes\n",
    "dItoH = []\n",
    "dHtoD = []\n",
    "\n",
    "for R in regimes:\n",
    "        regimes_matrices_region = []\n",
    "\n",
    "        # Initial state of the system\n",
    "        weeks_matrices_region = []\n",
    "        for r in regions:\n",
    "                region_data_matrix = pd.read_csv(\n",
    "                        os.path.join(path, '{}/Contacts_{}.csv'.format(r, R)),\n",
    "                        header=None, dtype=np.float64)\n",
    "                regional = em.RegionMatrix(r, age_groups, region_data_matrix)\n",
    "                weeks_matrices_region.append(regional)\n",
    "\n",
    "        regimes_matrices_region.append(weeks_matrices_region)\n",
    "\n",
    "        contacts = em.ContactMatrix(age_groups, np.ones((len(age_groups), len(age_groups))))\n",
    "        regimes_matrices_contact = [contacts]\n",
    "\n",
    "        matrices_region.append(regimes_matrices_region)\n",
    "        matrices_contact.append(regimes_matrices_contact)\n",
    "\n",
    "        # Matrices contact\n",
    "        time_changes_contact.append([1])\n",
    "        time_changes_region.append([1])\n",
    "\n",
    "        # Over 75 population fractions\n",
    "        frac_pop_over75 = []\n",
    "\n",
    "        for r in regions:\n",
    "                IC_df = pd.read_csv(\n",
    "                        os.path.join(path, '{}/Start_pop_{}.csv'.format(r, R)),\n",
    "                        skiprows=15,\n",
    "                        header=None, dtype=np.float64)\n",
    "\n",
    "                frac_pop_over75.append((1/np.sum(np.asarray(IC_df))) * np.sum(np.asarray(IC_df),axis=1))\n",
    "\n",
    "        # Risk Factors\n",
    "        extended_regimes_d = []\n",
    "        regimes_d = []\n",
    "        regimes_beta = []\n",
    "\n",
    "        for r, reg in enumerate(regions):\n",
    "                RF_df = pd.read_csv(\n",
    "                        os.path.join(path, '{}/Risks_{}.csv'.format(reg, R)),\n",
    "                        dtype=np.float64)\n",
    "                extended_d = RF_df['symptom_risk'].tolist()\n",
    "                extended_beta = RF_df['susceptibility'].tolist()\n",
    "\n",
    "                extended_regimes_d.append(extended_d)\n",
    "\n",
    "                regimes_d.append(extended_d[:15] + [np.sum(np.multiply(extended_d[15:], frac_pop_over75[r]))])\n",
    "                regimes_beta.append(extended_beta[:15] + [np.sum(np.multiply(extended_beta[15:], frac_pop_over75[r]))])\n",
    "\n",
    "        d.append(regimes_d)\n",
    "        beta.append(regimes_beta)\n",
    "\n",
    "        # Vaccine effects\n",
    "        eff_df = pd.read_csv(\n",
    "                os.path.join(path, 'global_parameters/efficacies_{}.csv'.format(R)),\n",
    "                usecols=range(1,5), dtype=np.float64)\n",
    "\n",
    "        VE_i = eff_df['Infection_eff']\n",
    "        VE_s = eff_df['Symptom_eff']\n",
    "        VE_h = eff_df['Hosp_eff']\n",
    "        VE_d = eff_df['Death_eff']\n",
    "\n",
    "        VE_d = np.divide(VE_d-VE_h, 1-VE_h)\n",
    "        VE_h = np.divide(VE_h-VE_i, 1-VE_i)\n",
    "        VE_s = np.divide(VE_s-VE_i, 1-VE_i)\n",
    "\n",
    "        regimes_nu_tra = [1] * 6\n",
    "        regimes_nu_symp = np.nan_to_num(1 - VE_s).tolist()\n",
    "        regimes_nu_inf = np.nan_to_num(1 - VE_i).tolist()\n",
    "        regimes_nu_sev_h = np.nan_to_num(1 - VE_h).tolist()\n",
    "        regimes_nu_sev_d = np.nan_to_num(1 - VE_d).tolist()\n",
    "\n",
    "        nu_tra.append(regimes_nu_tra)\n",
    "        nu_symp.append(regimes_nu_symp)\n",
    "        nu_inf.append(regimes_nu_inf)\n",
    "        nu_sev_h.append(regimes_nu_sev_h)\n",
    "        nu_sev_d.append(regimes_nu_sev_d)\n",
    "\n",
    "        # Parameters\n",
    "        param_df = pd.read_csv(\n",
    "                os.path.join(path, 'global_parameters/parameters_{}.csv'.format(R)),\n",
    "                dtype=np.float64)\n",
    "\n",
    "        regimes_omega = param_df['transmission'].tolist()[0]\n",
    "        regimes_alpha = 1\n",
    "        regimes_gamma = param_df['recovery'].tolist()[0]\n",
    "        regimes_tau = param_df['asymptomatic_transmission'].tolist()[0]\n",
    "        regimes_we = [param_df['waning_rate'].tolist()[0]] * 2 + [0]\n",
    "\n",
    "        omega.append(regimes_omega)\n",
    "        alpha.append(regimes_alpha)\n",
    "        gamma.append(regimes_gamma)\n",
    "        tau.append(regimes_tau)\n",
    "        we.append(regimes_we)\n",
    "\n",
    "        # Initial conditions\n",
    "        regimes_susceptibles_IC = []\n",
    "        regimes_exposed1_IC = []\n",
    "        regimes_exposed2_IC = []\n",
    "        regimes_exposed3_IC = []\n",
    "        regimes_exposed4_IC = []\n",
    "        regimes_exposed5_IC = []\n",
    "        regimes_infectives_sym_IC = []\n",
    "        regimes_infectives_asym_IC = []\n",
    "        regimes_recovered_IC = []\n",
    "\n",
    "        # Susceptible\n",
    "        for r in regions:\n",
    "                IC_df = pd.read_csv(\n",
    "                        os.path.join(path, '{}/Start_pop_{}.csv'.format(r, R)),\n",
    "                        usecols=range(0, 5),\n",
    "                        header=None, dtype=np.float64)\n",
    "\n",
    "                extended_S = np.asarray(IC_df)\n",
    "                under_75_S = extended_S[:15, :]\n",
    "                over_75_S = extended_S[15:, :]\n",
    "                reduced_S = np.vstack((under_75_S, np.sum(over_75_S, axis=0)))\n",
    "                regimes_susceptibles_IC.append(\n",
    "                        reduced_S.flatten('F').tolist() + [0] * len(age_groups))\n",
    "\n",
    "        # Exposed 1\n",
    "        for r in regions:\n",
    "                IC_df = pd.read_csv(\n",
    "                        os.path.join(path, '{}/Start_pop_{}.csv'.format(r, R)),\n",
    "                        usecols=range(5, 10),\n",
    "                        header=None, dtype=np.float64)\n",
    "\n",
    "                extended_E1 = np.asarray(IC_df)\n",
    "                under_75_E1 = extended_E1[:15, :]\n",
    "                over_75_E1 = extended_E1[15:, :]\n",
    "                reduced_E1 = np.vstack((under_75_E1, np.sum(over_75_E1, axis=0)))\n",
    "                regimes_exposed1_IC.append(\n",
    "                        reduced_E1.flatten('F').tolist() + [0] * len(age_groups))\n",
    "\n",
    "        # Exposed 2\n",
    "        for r in regions:\n",
    "                IC_df = pd.read_csv(\n",
    "                        os.path.join(path, '{}/Start_pop_{}.csv'.format(r, R)),\n",
    "                        usecols=range(10, 15),\n",
    "                        header=None, dtype=np.float64)\n",
    "\n",
    "                extended_E2 = np.asarray(IC_df)\n",
    "                under_75_E2 = extended_E2[:15, :]\n",
    "                over_75_E2 = extended_E2[15:, :]\n",
    "                reduced_E2 = np.vstack((under_75_E2, np.sum(over_75_E2, axis=0)))\n",
    "                regimes_exposed2_IC.append(\n",
    "                        reduced_E2.flatten('F').tolist() + [0] * len(age_groups))\n",
    "\n",
    "        # Exposed 3\n",
    "        for r in regions:\n",
    "                IC_df = pd.read_csv(\n",
    "                        os.path.join(path, '{}/Start_pop_{}.csv'.format(r, R)),\n",
    "                        usecols=range(15, 20),\n",
    "                        header=None, dtype=np.float64)\n",
    "\n",
    "                extended_E3 = np.asarray(IC_df)\n",
    "                under_75_E3 = extended_E3[:15, :]\n",
    "                over_75_E3 = extended_E3[15:, :]\n",
    "                reduced_E3 = np.vstack((under_75_E3, np.sum(over_75_E3, axis=0)))\n",
    "                regimes_exposed3_IC.append(\n",
    "                        reduced_E3.flatten('F').tolist() + [0] * len(age_groups))\n",
    "\n",
    "        # Exposed 4\n",
    "        for r in regions:\n",
    "                IC_df = pd.read_csv(\n",
    "                        os.path.join(path, '{}/Start_pop_{}.csv'.format(r, R)),\n",
    "                        usecols=range(20, 25),\n",
    "                        header=None, dtype=np.float64)\n",
    "\n",
    "                extended_E4 = np.asarray(IC_df)\n",
    "                under_75_E4 = extended_E4[:15, :]\n",
    "                over_75_E4 = extended_E4[15:, :]\n",
    "                reduced_E4 = np.vstack((under_75_E4, np.sum(over_75_E4, axis=0)))\n",
    "                regimes_exposed4_IC.append(\n",
    "                        reduced_E4.flatten('F').tolist() + [0] * len(age_groups))\n",
    "\n",
    "        # Exposed 5\n",
    "        for r in regions:\n",
    "                IC_df = pd.read_csv(\n",
    "                        os.path.join(path, '{}/Start_pop_{}.csv'.format(r, R)),\n",
    "                        usecols=range(25, 30),\n",
    "                        header=None, dtype=np.float64)\n",
    "\n",
    "                extended_E5 = np.asarray(IC_df)\n",
    "                under_75_E5 = extended_E5[:15, :]\n",
    "                over_75_E5 = extended_E5[15:, :]\n",
    "                reduced_E5 = np.vstack((under_75_E5, np.sum(over_75_E5, axis=0)))\n",
    "                regimes_exposed5_IC.append(\n",
    "                        reduced_E5.flatten('F').tolist() + [0] * len(age_groups))\n",
    "\n",
    "        # Symptomatic & Asymptomatic Infectious\n",
    "        for _, r in enumerate(regions):\n",
    "                IC_df = pd.read_csv(\n",
    "                        os.path.join(path, '{}/Start_pop_{}.csv'.format(r, R)),\n",
    "                        usecols=range(30, 35),\n",
    "                        header=None, dtype=np.float64)\n",
    "\n",
    "                extended_I = np.zeros_like(np.asarray(IC_df))\n",
    "                extended_I[:, 0] = np.matmul(np.diag(regimes_nu_symp[0] * np.array(extended_regimes_d[_])), np.asarray(IC_df)[:, 0])\n",
    "                extended_I[:, 1] = np.matmul(np.diag(regimes_nu_symp[1] * np.array(extended_regimes_d[_])), np.asarray(IC_df)[:, 1])\n",
    "                extended_I[:, 2] = np.matmul(np.diag(regimes_nu_symp[2] * np.array(extended_regimes_d[_])), np.asarray(IC_df)[:, 2])\n",
    "                extended_I[:, 3] = np.matmul(np.diag(regimes_nu_symp[3] * np.array(extended_regimes_d[_])), np.asarray(IC_df)[:, 3])\n",
    "                extended_I[:, 4] = np.matmul(np.diag(regimes_nu_symp[4] * np.array(extended_regimes_d[_])), np.asarray(IC_df)[:, 4])\n",
    "                under_75_I = extended_I[:15, :]\n",
    "                over_75_I = extended_I[15:, :]\n",
    "                reduced_I = np.vstack((under_75_I, np.sum(over_75_I, axis=0)))\n",
    "                regimes_infectives_sym_IC.append(\n",
    "                        reduced_I.flatten('F').tolist() + [0] * len(age_groups))\n",
    "\n",
    "                extended_A = np.zeros_like(np.asarray(IC_df))\n",
    "                extended_A[:, 0] = np.matmul(np.diag((1 - regimes_nu_symp[0] * np.array(extended_regimes_d[_]))), np.asarray(IC_df)[:, 0])\n",
    "                extended_A[:, 1] = np.matmul(np.diag((1 - regimes_nu_symp[1] * np.array(extended_regimes_d[_]))), np.asarray(IC_df)[:, 1])\n",
    "                extended_A[:, 2] = np.matmul(np.diag((1 - regimes_nu_symp[2] * np.array(extended_regimes_d[_]))), np.asarray(IC_df)[:, 2])\n",
    "                extended_A[:, 3] = np.matmul(np.diag((1 - regimes_nu_symp[3] * np.array(extended_regimes_d[_]))), np.asarray(IC_df)[:, 3])\n",
    "                extended_A[:, 4] = np.matmul(np.diag((1 - regimes_nu_symp[4] * np.array(extended_regimes_d[_]))), np.asarray(IC_df)[:, 4])\n",
    "                under_75_A = extended_A[:15, :]\n",
    "                over_75_A = extended_A[15:, :]\n",
    "                reduced_A = np.vstack((under_75_A, np.sum(over_75_A, axis=0)))\n",
    "                regimes_infectives_asym_IC.append(\n",
    "                        reduced_A.flatten('F').tolist() + [0] * len(age_groups))\n",
    "\n",
    "        # Recovered\n",
    "        for r in regions:\n",
    "                IC_df = pd.read_csv(\n",
    "                        os.path.join(path, '{}/Start_pop_{}.csv'.format(r, R)),\n",
    "                        usecols=[35],\n",
    "                        header=None, dtype=np.float64)\n",
    "\n",
    "                extended_R = np.asarray(IC_df)\n",
    "                under_75_R = extended_R[:15, :]\n",
    "                over_75_R = extended_R[15:, :]\n",
    "                reduced_R = np.vstack((under_75_R, np.sum(over_75_R, axis=0)))\n",
    "                regimes_recovered_IC.append(\n",
    "                        reduced_R.flatten('F').tolist())\n",
    "\n",
    "        susceptibles_IC.append(regimes_susceptibles_IC)\n",
    "        exposed1_IC.append(regimes_exposed1_IC)\n",
    "        exposed2_IC.append(regimes_exposed2_IC)\n",
    "        exposed3_IC.append(regimes_exposed3_IC)\n",
    "        exposed4_IC.append(regimes_exposed4_IC)\n",
    "        exposed5_IC.append(regimes_exposed5_IC)\n",
    "        infectives_sym_IC.append(regimes_infectives_sym_IC)\n",
    "        infectives_asym_IC.append(regimes_infectives_asym_IC)\n",
    "        recovered_IC.append(regimes_recovered_IC)\n",
    "\n",
    "        # Set time-to-hospitalisation using a Gamma distribution using the mean and standard deviation \n",
    "        th_mean = param_df['hosp_lag'].tolist()[0]+0.00001\n",
    "        th_var = 12.1**2\n",
    "        theta = th_var / th_mean\n",
    "        k = th_mean / theta\n",
    "        time_to_hosp = scipy.stats.gamma(k, scale=theta).pdf(np.arange(1, 31)).tolist()\n",
    "\n",
    "        # Set time-to-death using a Gamma distribution using the mean and standard deviation\n",
    "        td_mean = param_df['death_lag'].tolist()[0]\n",
    "        td_var = 12.1**2\n",
    "        theta = td_var / td_mean\n",
    "        k = td_mean / theta\n",
    "        time_to_death = scipy.stats.gamma(k, scale=theta).pdf(np.arange(1, 31)).tolist()\n",
    "\n",
    "        # Probabilities of proceeding to severe outcomes\n",
    "        # Infected -> Hospital\n",
    "        extended_pItoH = RF_df['hospitalisation_risk'].tolist()\n",
    "\n",
    "        regimes_pItoH = []\n",
    "        for r, reg in enumerate(regions):\n",
    "                regimes_pItoH.append(extended_pItoH[:15] + [np.sum(np.multiply(extended_pItoH[15:], frac_pop_over75[r]))])\n",
    "\n",
    "        pItoH.append(regimes_pItoH)\n",
    "\n",
    "        # Hospital -> Death\n",
    "        extended_pHtoD = RF_df['death_risk'].tolist()\n",
    "\n",
    "        regimes_pHtoD = []\n",
    "        for r, reg in enumerate(regions):\n",
    "                regimes_pHtoD.append(extended_pHtoD[:15] + [np.sum(np.multiply(extended_pHtoD[15:], frac_pop_over75[r]))])\n",
    "\n",
    "        pHtoD.append(regimes_pHtoD)\n",
    "\n",
    "        # Distribution of delays before proceeding to severe outcomes\n",
    "        # Infected -> Hospital\n",
    "        dItoH.append(time_to_hosp)\n",
    "        # Hospital -> Death\n",
    "        dHtoD.append(time_to_death)\n",
    "\n",
    "# Other parameters\n",
    "vac=0\n",
    "vacb=0\n",
    "\n",
    "adult = np.ones(len(age_groups))\n",
    "adult[0] = 0\n",
    "adult[1] = 0\n",
    "adult[2] = 0"
   ]
  },
  {
   "cell_type": "markdown",
   "metadata": {},
   "source": [
    "### Calculate maximum number of booster vaccines available"
   ]
  },
  {
   "cell_type": "code",
   "execution_count": 4,
   "metadata": {},
   "outputs": [],
   "source": [
    "# Proportion of the total population for which boosters are available\n",
    "boost_pop_percent = 0.1\n",
    "\n",
    "# Compute the number of boosters for each region\n",
    "boosters = []\n",
    "\n",
    "for R in regimes:\n",
    "        regimes_boosters = []\n",
    "        for r in regions:\n",
    "                IC_df = pd.read_csv(\n",
    "                        os.path.join(path, '{}/Start_pop_{}.csv'.format(r, R)),\n",
    "                        header=None, dtype=np.float64)\n",
    "\n",
    "                regimes_boosters.append(boost_pop_percent * np.sum(np.asarray(IC_df)))\n",
    "        boosters.append(regimes_boosters)"
   ]
  },
  {
   "cell_type": "markdown",
   "metadata": {},
   "source": [
    "## Boosting campaign scenarios\n",
    "\n",
    "We only boost the partially-waned and recovered. However those in the R compartment who receive the booster do not move out of the compartment (they have higher immunity than the boosted)"
   ]
  },
  {
   "cell_type": "code",
   "execution_count": 5,
   "metadata": {},
   "outputs": [],
   "source": [
    "# Maximum percentage booster uptake of each age group\n",
    "boost_age_percent = 0.9\n",
    "\n",
    "# Compute the maximum number of boosters we can deploy for each age group in each region\n",
    "max_boosters = []\n",
    "max_boosters_for_R = []\n",
    "max_boosters_for_Sw1 = []\n",
    "\n",
    "for R, _ in enumerate(regimes):\n",
    "        regimes_max_boosters = []\n",
    "        regimes_max_boosters_for_R = []\n",
    "        regimes_max_boosters_for_Sw1 = []\n",
    "        for r, reg in enumerate(regions):\n",
    "                boosters_for_R = boost_age_percent * np.asarray(recovered_IC[R][r])\n",
    "                boosters_for_Sw1 = boost_age_percent * np.asarray(susceptibles_IC[R][r])[(3*len(age_groups)):(4*len(age_groups))]\n",
    "\n",
    "                regimes_max_boosters_for_R.append(boosters_for_R)\n",
    "                regimes_max_boosters_for_Sw1.append(boosters_for_Sw1)\n",
    "                regimes_max_boosters.append(boosters_for_R + boosters_for_Sw1)\n",
    "\n",
    "        max_boosters_for_R.append(regimes_max_boosters_for_R)\n",
    "        max_boosters_for_Sw1.append(regimes_max_boosters_for_Sw1)\n",
    "        max_boosters.append(regimes_max_boosters)\n",
    "\n",
    "# Create list of new susceptible_ICs for each vaccination scenario\n",
    "scenario_susceptibles_IC = []\n",
    "scenario_names = []\n",
    "age_boosting_scenario_order = []"
   ]
  },
  {
   "cell_type": "markdown",
   "metadata": {},
   "source": [
    "**Scenario 1**: Prioritising those 75+"
   ]
  },
  {
   "cell_type": "code",
   "execution_count": 6,
   "metadata": {},
   "outputs": [],
   "source": [
    "scenario_names.append('Prioritise 75+')\n",
    "age_boosting_scenario_order.append((np.arange(16, 0, -1) - 1).tolist())"
   ]
  },
  {
   "cell_type": "markdown",
   "metadata": {},
   "source": [
    "**Scenario 2**: Prioritising those 60-70 then 75+"
   ]
  },
  {
   "cell_type": "code",
   "execution_count": 7,
   "metadata": {},
   "outputs": [],
   "source": [
    "scenario_names.append('Prioritise 60-70 then 75+')\n",
    "age_boosting_scenario_order.append([range(13, 15), 15] + (np.arange(13, 0, -1) - 1).tolist())"
   ]
  },
  {
   "cell_type": "markdown",
   "metadata": {},
   "source": [
    "**Scenario 3**: Prioritising those 60-70 then 50-60, then 75+"
   ]
  },
  {
   "cell_type": "code",
   "execution_count": 8,
   "metadata": {},
   "outputs": [],
   "source": [
    "scenario_names.append('Prioritise those 60-70 then 50-60, then 75+')\n",
    "age_boosting_scenario_order.append([range(13, 15), range(11, 13), 15] + (np.arange(11, 0, -1) - 1).tolist())"
   ]
  },
  {
   "cell_type": "markdown",
   "metadata": {},
   "source": [
    "**Scenario 4**: Prioritising those 50-60, then 60-70 then 75+"
   ]
  },
  {
   "cell_type": "code",
   "execution_count": 9,
   "metadata": {},
   "outputs": [],
   "source": [
    "scenario_names.append('Prioritise those 50-60 then 60-70, then 75+')\n",
    "age_boosting_scenario_order.append([range(11, 13), range(13, 15), 15] + (np.arange(11, 0, -1) - 1).tolist())"
   ]
  },
  {
   "cell_type": "markdown",
   "metadata": {},
   "source": [
    "**Scenario 5**: Prioritising those 50-69, then 60-70 then 75+"
   ]
  },
  {
   "cell_type": "code",
   "execution_count": null,
   "metadata": {},
   "outputs": [],
   "source": []
  },
  {
   "cell_type": "markdown",
   "metadata": {},
   "source": [
    "### Compute new susceptible conditions based on each boosting scenario"
   ]
  },
  {
   "cell_type": "code",
   "execution_count": 10,
   "metadata": {},
   "outputs": [],
   "source": [
    "for s, _ in enumerate(scenario_names):\n",
    "    regimes_new_susceptibles_IC = []\n",
    "    scenario_boosters = boosters.copy()\n",
    "\n",
    "    for R, _ in enumerate(regimes):\n",
    "        new_susceptibles_IC = [\n",
    "            np.array(susceptibles_IC[R][r].copy()).reshape((6, 16)).transpose() for r in range(len(regions))]\n",
    "        \n",
    "        new_susceptibles_IC = np.array(new_susceptibles_IC)\n",
    "        reg_new_susceptibles_IC = []\n",
    "\n",
    "        for r, reg in enumerate(regions):\n",
    "            for ages in age_boosting_scenario_order[s]:\n",
    "                if np.sum(max_boosters[R][r][ages]) <= scenario_boosters[R][r]:\n",
    "                    # Add boosted from the Sw1 to Sb\n",
    "                    new_susceptibles_IC[r, ages, 2] += max_boosters_for_Sw1[R][r][ages]\n",
    "                    # Remove boosted from the Sw1\n",
    "                    new_susceptibles_IC[r, ages, 3] -= max_boosters_for_Sw1[R][r][ages]\n",
    "                    # Remove boosted from the Sw1 and R from total boocters for the scenario\n",
    "                    scenario_boosters[R][r] -= np.sum(max_boosters[R][r][ages])\n",
    "                else:\n",
    "                    # Compute proportion of boosters we have left to give for the age group\n",
    "                    prop = scenario_boosters[R][r] / np.sum(max_boosters[R][r][ages])\n",
    "                    # Add boosted from the Sw1 to Sb\n",
    "                    new_susceptibles_IC[r, ages, 2] += prop * max_boosters_for_Sw1[R][r][ages]\n",
    "                    # Remove boosted from the Sw1\n",
    "                    new_susceptibles_IC[r, ages, 3] -= prop * max_boosters_for_Sw1[R][r][ages]\n",
    "                    # Remove boosted from the Sw1 and R from total boocters for the scenario\n",
    "                    scenario_boosters[R][r] -= prop * np.sum(max_boosters[R][r][ages])\n",
    "\n",
    "            reg_new_susceptibles_IC.append(list(deepflatten(new_susceptibles_IC[r].transpose())))\n",
    "\n",
    "        regimes_new_susceptibles_IC.append(reg_new_susceptibles_IC)\n",
    "    scenario_susceptibles_IC.append(regimes_new_susceptibles_IC)"
   ]
  },
  {
   "cell_type": "markdown",
   "metadata": {},
   "source": [
    "### Set the parameters and initial conditions of the model and bundle everything together"
   ]
  },
  {
   "cell_type": "code",
   "execution_count": 11,
   "metadata": {},
   "outputs": [],
   "source": [
    "# Instantiate model\n",
    "model = wm.WarwickLancSEIRModel()\n",
    "\n",
    "# Set the region names, contact and regional data of the model\n",
    "model.set_regions(regions)\n",
    "model.set_age_groups(age_groups)\n",
    "\n",
    "# List of times at which we wish to evaluate the states of the compartments of the model\n",
    "times = np.arange(1, total_days+1, 1).tolist()"
   ]
  },
  {
   "cell_type": "markdown",
   "metadata": {},
   "source": [
    "### Simulate for the regions"
   ]
  },
  {
   "cell_type": "code",
   "execution_count": 12,
   "metadata": {},
   "outputs": [],
   "source": [
    "# Simulate for all the regions and regimes\n",
    "outputs = []\n",
    "\n",
    "for s, scenario in enumerate(scenario_names):\n",
    "    scenario_outputs = []\n",
    "    for R, regime in enumerate(regimes):\n",
    "        model.read_contact_data(matrices_contact[R], time_changes_contact[R])\n",
    "        model.read_regional_data(matrices_region[R], time_changes_region[R])\n",
    "\n",
    "        # Set regional and time dependent parameters\n",
    "        regional_parameters = wm.RegParameters(\n",
    "            model=model,\n",
    "            region_index=1\n",
    "        )\n",
    "\n",
    "        # Set ICs parameters\n",
    "        ICs_parameters = wm.ICs(\n",
    "            model=model,\n",
    "            susceptibles_IC=scenario_susceptibles_IC[s][R],\n",
    "            exposed1_IC=exposed1_IC[R],\n",
    "            exposed2_IC=exposed2_IC[R],\n",
    "            exposed3_IC=exposed3_IC[R],\n",
    "            exposed4_IC=exposed4_IC[R],\n",
    "            exposed5_IC=exposed5_IC[R],\n",
    "            infectives_sym_IC=infectives_sym_IC[R],\n",
    "            infectives_asym_IC=infectives_asym_IC[R],\n",
    "            recovered_IC=recovered_IC[R]\n",
    "        )\n",
    "\n",
    "        # Set disease-specific parameters\n",
    "        disease_parameters = wm.DiseaseParameters(\n",
    "            model=model,\n",
    "            d=d[R][0],\n",
    "            tau=tau[R],\n",
    "            we=we[R],\n",
    "            omega=omega[R]\n",
    "        )\n",
    "\n",
    "        # Set transmission parameters\n",
    "        transmission_parameters = wm.Transmission(\n",
    "            model=model,\n",
    "            beta=beta[R][0],\n",
    "            alpha=alpha[R],\n",
    "            gamma=gamma[R]\n",
    "        )\n",
    "\n",
    "        # Set other simulation parameters\n",
    "        simulation_parameters = wm.SimParameters(\n",
    "            model=model,\n",
    "            method='Radau',\n",
    "            times=times,\n",
    "            eps=False\n",
    "        )\n",
    "\n",
    "        # Set vaccination parameters\n",
    "        vaccine_parameters = wm.VaccineParameters(\n",
    "            model=model,\n",
    "            vac=vac,\n",
    "            vacb=vacb,\n",
    "            adult=adult,\n",
    "            nu_tra=nu_tra[R],\n",
    "            nu_symp=nu_symp[R],\n",
    "            nu_inf=nu_inf[R],\n",
    "            nu_sev_h=nu_sev_h[R],\n",
    "            nu_sev_d=nu_sev_d[R],\n",
    "        )\n",
    "\n",
    "        # Set social distancing parameters\n",
    "        soc_dist_parameters = wm.SocDistParameters(\n",
    "            model=model,\n",
    "            phi=1\n",
    "        )\n",
    "\n",
    "        # Set all parameters in the controller\n",
    "        parameters = wm.ParametersController(\n",
    "            model=model,\n",
    "            regional_parameters=regional_parameters,\n",
    "            ICs_parameters=ICs_parameters,\n",
    "            disease_parameters=disease_parameters,\n",
    "            transmission_parameters=transmission_parameters,\n",
    "            simulation_parameters=simulation_parameters,\n",
    "            vaccine_parameters=vaccine_parameters,\n",
    "            soc_dist_parameters=soc_dist_parameters\n",
    "        )\n",
    "\n",
    "        # Simulate for all the regions\n",
    "        regimes_outputs = []\n",
    "        for r, reg in enumerate(regions):\n",
    "            # List of initial conditions and parameters that characterise the model\n",
    "            parameters.regional_parameters.region_index = r + 1\n",
    "\n",
    "            parameters.disease_parameters.d = d[R][r]\n",
    "            parameters.transmission_parameters.beta = beta[R][r]\n",
    "\n",
    "            # Simulate using the ODE solver\n",
    "            regimes_outputs.append(model.simulate(parameters))\n",
    "\n",
    "        scenario_outputs.append(regimes_outputs)\n",
    "\n",
    "    outputs.append(scenario_outputs)\n",
    "\n",
    "outputs = np.array(outputs)"
   ]
  },
  {
   "cell_type": "markdown",
   "metadata": {},
   "source": [
    "## Plot the comparments of the two methods against each other\n",
    "### Setup ``plotly`` and default settings for plotting"
   ]
  },
  {
   "cell_type": "code",
   "execution_count": 13,
   "metadata": {},
   "outputs": [],
   "source": [
    "from plotly.subplots import make_subplots\n",
    "\n",
    "colours = ['blue', 'red', 'green', 'purple', 'orange', 'black', 'gray', 'pink']"
   ]
  },
  {
   "cell_type": "markdown",
   "metadata": {},
   "source": [
    "## Number of New Infections, Hospitalisations & Deaths"
   ]
  },
  {
   "cell_type": "code",
   "execution_count": 14,
   "metadata": {},
   "outputs": [],
   "source": [
    "# Simulate for all the regions\n",
    "total_new_deaths = []\n",
    "\n",
    "for s, scenario in enumerate(scenario_names):\n",
    "    scenario_total_new_deaths = []\n",
    "    for R, regime in enumerate(regimes):\n",
    "        regimes_total_new_deaths = []\n",
    "        for r, reg in enumerate(regions):\n",
    "            # Compute regional matrix of new infections for all timepoints simulated\n",
    "            reg_new_infections = model.new_infections(outputs[s, R, r, :, :])\n",
    "\n",
    "            # Compute regional matrix of new hospitalisation for all timepoints simulated\n",
    "            reg_new_hospitalisation = model.new_hospitalisations(reg_new_infections, pItoH[R][r], dItoH[R])\n",
    "\n",
    "            # Compute regional matrix of new deaths for all timepoints simulated\n",
    "            reg_new_deaths = model.new_deaths(reg_new_hospitalisation, pHtoD[R][r], dHtoD[R])\n",
    "\n",
    "            regimes_total_new_deaths.append(np.sum(\n",
    "                reg_new_deaths[0] + reg_new_deaths[1] + reg_new_deaths[2] +\n",
    "                reg_new_deaths[3] + reg_new_deaths[4] + reg_new_deaths[5],\n",
    "                axis=1))\n",
    "\n",
    "        scenario_total_new_deaths.append(regimes_total_new_deaths)\n",
    "\n",
    "    total_new_deaths.append(scenario_total_new_deaths)\n",
    "\n",
    "total_new_deaths = np.array(total_new_deaths)\n"
   ]
  },
  {
   "cell_type": "code",
   "execution_count": 15,
   "metadata": {},
   "outputs": [],
   "source": [
    "# Set up traces to plot\n",
    "total_new_deaths_mean = []\n",
    "total_new_deaths_upper = []\n",
    "total_new_deaths_lower = []\n",
    "\n",
    "for r, _ in enumerate(regions):\n",
    "    # Compute the mean \n",
    "    total_new_deaths_mean.append(np.mean(total_new_deaths[:,:,r,:], axis=1))\n",
    "\n",
    "    # Compute the upper quantiles\n",
    "    total_new_deaths_upper.append(np.quantile(total_new_deaths[:,:,r,:], 0.975, axis=1))\n",
    "\n",
    "    # Compute the lower qunatiles\n",
    "    total_new_deaths_lower.append(np.quantile(total_new_deaths[:,:,r,:], 0.025, axis=1))"
   ]
  },
  {
   "cell_type": "markdown",
   "metadata": {},
   "source": [
    "### Plot the time series of numbers of deaths of the two regions"
   ]
  },
  {
   "cell_type": "code",
   "execution_count": 16,
   "metadata": {},
   "outputs": [
    {
     "data": {
      "application/vnd.plotly.v1+json": {
       "config": {
        "plotlyServerURL": "https://plot.ly"
       },
       "data": [
        {
         "line": {
          "color": "blue"
         },
         "mode": "lines",
         "name": "region United Kingdom",
         "type": "scatter",
         "x": [
          1,
          2,
          3,
          4,
          5,
          6,
          7,
          8,
          9,
          10,
          11,
          12,
          13,
          14,
          15,
          16,
          17,
          18,
          19,
          20,
          21,
          22,
          23,
          24,
          25,
          26,
          27,
          28,
          29,
          30,
          31,
          32,
          33,
          34,
          35,
          36,
          37,
          38,
          39,
          40,
          41,
          42,
          43,
          44,
          45,
          46,
          47,
          48,
          49,
          50,
          51,
          52,
          53,
          54,
          55,
          56,
          57,
          58,
          59,
          60,
          61,
          62,
          63,
          64,
          65,
          66,
          67,
          68,
          69,
          70,
          71,
          72,
          73,
          74,
          75,
          76,
          77,
          78,
          79,
          80,
          81,
          82,
          83,
          84,
          85,
          86,
          87,
          88,
          89,
          90,
          91,
          92,
          93,
          94,
          95,
          96,
          97,
          98,
          99,
          100
         ],
         "y": [
          1.5206630271392183,
          3.416669067116449,
          5.367744214574959,
          7.175547329214884,
          8.73321925421087,
          10.032392991955026,
          11.130013899406055,
          12.10420987093744,
          13.024475694666842,
          13.940816406869988,
          14.884899412783655,
          15.87611256339774,
          16.92729941415898,
          18.048443206020668,
          19.248442750995657,
          20.53559805567786,
          21.917781292937512,
          23.402261941623046,
          24.995731575840367,
          26.7043417514902,
          28.533719987517287,
          30.488893412624442,
          32.57473706720755,
          34.79576166205102,
          37.155721425252906,
          39.65748836749059,
          42.30302100013136,
          45.09335552434157,
          48.02858455134954,
          51.10771629757076,
          54.21355322276983,
          57.39464424865654,
          60.670761882311965,
          64.05588958196522,
          67.55760114294293,
          71.17465648094719,
          74.8978145928373,
          78.71228522939029,
          82.60009475505572,
          86.54193515430975,
          90.51814137201113,
          94.50883837674266,
          98.4938255816392,
          102.45262838297432,
          106.36448523348534,
          110.20861927102443,
          113.96429816350394,
          117.61139179331957,
          121.13077766504004,
          124.50448042212312,
          127.71577241514375,
          130.7492906212953,
          133.59115015522275,
          136.22911652666173,
          138.65276396824115,
          140.85353555062488,
          142.82481122908158,
          144.5618516525426,
          146.06167310736268,
          147.32304495828103,
          148.34868232732597,
          149.14055000388225,
          149.70205033894382,
          150.03802517159815,
          150.1544291558185,
          150.0583757365458,
          149.75803352997585,
          149.2624831378451,
          148.58163835786684,
          147.72608998337577,
          146.70697716214153,
          145.5358813891598,
          144.2246508449818,
          142.78527789956283,
          141.22987854988722,
          139.57053157066625,
          137.81919138993,
          135.98764909692943,
          134.0874348630051,
          132.1297584750366,
          130.12545841778262,
          128.08496014104966,
          126.0182460687773,
          123.93480685985861,
          121.84360625429701,
          119.75306525878378,
          117.6710448441922,
          115.6048360444115,
          113.56116110337142,
          111.54617471950137,
          109.56546627405395,
          107.62407035005128,
          105.72649021787203,
          103.8767123170593,
          102.07824948130532,
          100.33415676513773,
          98.64705831523374,
          97.0191780512695,
          95.45236326325983,
          93.94811006034409
         ]
        },
        {
         "fill": "toself",
         "fillcolor": "blue",
         "line": {
          "color": "blue"
         },
         "mode": "lines",
         "name": "region United Kingdom",
         "opacity": 0.15,
         "type": "scatter",
         "x": [
          1,
          2,
          3,
          4,
          5,
          6,
          7,
          8,
          9,
          10,
          11,
          12,
          13,
          14,
          15,
          16,
          17,
          18,
          19,
          20,
          21,
          22,
          23,
          24,
          25,
          26,
          27,
          28,
          29,
          30,
          31,
          32,
          33,
          34,
          35,
          36,
          37,
          38,
          39,
          40,
          41,
          42,
          43,
          44,
          45,
          46,
          47,
          48,
          49,
          50,
          51,
          52,
          53,
          54,
          55,
          56,
          57,
          58,
          59,
          60,
          61,
          62,
          63,
          64,
          65,
          66,
          67,
          68,
          69,
          70,
          71,
          72,
          73,
          74,
          75,
          76,
          77,
          78,
          79,
          80,
          81,
          82,
          83,
          84,
          85,
          86,
          87,
          88,
          89,
          90,
          91,
          92,
          93,
          94,
          95,
          96,
          97,
          98,
          99,
          100,
          100,
          99,
          98,
          97,
          96,
          95,
          94,
          93,
          92,
          91,
          90,
          89,
          88,
          87,
          86,
          85,
          84,
          83,
          82,
          81,
          80,
          79,
          78,
          77,
          76,
          75,
          74,
          73,
          72,
          71,
          70,
          69,
          68,
          67,
          66,
          65,
          64,
          63,
          62,
          61,
          60,
          59,
          58,
          57,
          56,
          55,
          54,
          53,
          52,
          51,
          50,
          49,
          48,
          47,
          46,
          45,
          44,
          43,
          42,
          41,
          40,
          39,
          38,
          37,
          36,
          35,
          34,
          33,
          32,
          31,
          30,
          29,
          28,
          27,
          26,
          25,
          24,
          23,
          22,
          21,
          20,
          19,
          18,
          17,
          16,
          15,
          14,
          13,
          12,
          11,
          10,
          9,
          8,
          7,
          6,
          5,
          4,
          3,
          2,
          1
         ],
         "y": [
          1.80411727491581,
          4.053708893630807,
          6.37111435676232,
          8.526379384464589,
          10.397914695760011,
          11.97774563977794,
          13.331482901684156,
          14.547222213979582,
          15.70206063616654,
          16.850615798086586,
          18.027377755327834,
          19.253557665334682,
          20.543850406524975,
          21.91001446143956,
          23.3626311221415,
          24.911371732955335,
          26.565193752267266,
          28.332114711380612,
          30.219364684247132,
          32.23350790009909,
          34.38051060075602,
          36.66560314232456,
          39.09365261654763,
          41.669424619175246,
          44.39687332902807,
          47.27898537242302,
          50.317743950072995,
          53.51413497722303,
          56.86817102962078,
          60.378804219673064,
          63.90739779223366,
          67.57242771411764,
          71.55881126309373,
          75.67785809525672,
          79.93509329782454,
          84.32638848880163,
          88.83931575163834,
          93.45485121413206,
          98.15034886831926,
          102.90187295662997,
          107.6850143679714,
          112.47501624532295,
          117.24662913707759,
          121.97418096957274,
          126.63186344062223,
          131.19301103222844,
          135.63179425359476,
          140.12341192115363,
          144.6889729139009,
          149.10904441188447,
          153.3615096732733,
          157.42565168512172,
          161.28217826263594,
          164.91317232987328,
          168.30247571130786,
          171.43602373197447,
          174.30201650327677,
          176.89093287953662,
          179.19549329407016,
          181.21060017577503,
          182.93558401055458,
          184.36927809516865,
          185.51174906941947,
          186.36594388160276,
          186.93698209232508,
          187.23152352655947,
          187.25756168265542,
          187.0242838283337,
          186.54192187159308,
          185.8217638436994,
          184.87606076555863,
          183.71793904775933,
          182.36128144895113,
          180.82018318871647,
          179.10955221842772,
          177.24443901228983,
          175.2397948060605,
          173.11049768722464,
          170.87121339653416,
          168.53631812569614,
          166.1198550600692,
          163.63550867584087,
          161.0965895073099,
          158.51595891268528,
          155.9058868337278,
          153.27803599555025,
          150.64339854811828,
          148.0122752957462,
          145.39426960682619,
          142.79828907285267,
          140.23255168673325,
          137.70459515096167,
          135.22134267883408,
          132.78900085795956,
          130.41310332664685,
          128.0985351912492,
          125.84958094538193,
          123.66998232302218,
          121.56297315199855,
          119.53130443732556,
          62.30336216036557,
          63.312410764427824,
          64.38394055075928,
          65.51848279358784,
          66.71636043584843,
          67.97766520970903,
          69.30222919144185,
          70.68958717628865,
          72.13891795819872,
          73.64902799910291,
          75.21830828186884,
          76.844683675724,
          78.39458988571963,
          79.8095867447988,
          81.25014800095438,
          82.71216902281617,
          84.191130126576,
          85.68207911666386,
          87.17962735451931,
          88.6779478518647,
          90.17077654950835,
          91.65141834811817,
          93.11276077416727,
          94.54730451107258,
          95.94721608464361,
          97.30432166718401,
          98.6101986115989,
          99.85620730034945,
          101.03350939766379,
          102.13309799831488,
          103.14585062874886,
          104.06264298239637,
          104.8742974397409,
          105.57170952606944,
          106.14620237914303,
          106.58946112124362,
          106.89372989038124,
          107.05194736664717,
          107.05775495989603,
          106.90541726224866,
          106.5897646641941,
          106.1063034324869,
          105.44927728172492,
          104.61587342537746,
          103.60518504031127,
          102.41754118523522,
          101.05447918796916,
          99.51895451865454,
          97.81537992598398,
          95.94967020727941,
          93.9292759869292,
          91.76319458149291,
          89.46192921804989,
          87.03726362677695,
          84.50187403392798,
          81.86930521467552,
          79.15398326062828,
          76.37120347119927,
          73.53711420110203,
          70.66865255813589,
          67.7832699543144,
          64.89750013180875,
          62.02833578450907,
          59.19284092895858,
          56.407213431265326,
          53.685264007331845,
          51.0360166061282,
          48.46131009665849,
          45.72262191972624,
          42.83340614693238,
          40.03951411818392,
          37.309732066689016,
          34.72531267900734,
          32.28697154580156,
          29.993878248104323,
          27.844380910211125,
          25.835674025128625,
          23.964128237407834,
          22.22528455042442,
          20.613879977657838,
          19.123957212734265,
          17.74931809483407,
          16.483845088773247,
          15.320892985043372,
          14.25353495919526,
          13.274571493489455,
          12.376640116821642,
          11.552353665243544,
          10.794129688677213,
          10.093681956821534,
          9.440528138039891,
          8.819051738086536,
          8.204364543601967,
          7.558100120236228,
          6.82809021186554,
          5.956707537277713,
          4.902433084003847,
          3.6709384200170847,
          2.3374733302169792,
          1.040383330035845
         ]
        },
        {
         "line": {
          "color": "red"
         },
         "mode": "lines",
         "name": "region France",
         "type": "scatter",
         "x": [
          1,
          2,
          3,
          4,
          5,
          6,
          7,
          8,
          9,
          10,
          11,
          12,
          13,
          14,
          15,
          16,
          17,
          18,
          19,
          20,
          21,
          22,
          23,
          24,
          25,
          26,
          27,
          28,
          29,
          30,
          31,
          32,
          33,
          34,
          35,
          36,
          37,
          38,
          39,
          40,
          41,
          42,
          43,
          44,
          45,
          46,
          47,
          48,
          49,
          50,
          51,
          52,
          53,
          54,
          55,
          56,
          57,
          58,
          59,
          60,
          61,
          62,
          63,
          64,
          65,
          66,
          67,
          68,
          69,
          70,
          71,
          72,
          73,
          74,
          75,
          76,
          77,
          78,
          79,
          80,
          81,
          82,
          83,
          84,
          85,
          86,
          87,
          88,
          89,
          90,
          91,
          92,
          93,
          94,
          95,
          96,
          97,
          98,
          99,
          100
         ],
         "y": [
          1.4983078041050215,
          3.366945060822535,
          5.297922677225426,
          7.1160531196919745,
          8.741970616927404,
          10.18929384752268,
          11.527051906980569,
          12.836734925818252,
          14.18627455284212,
          15.623618618851967,
          17.180190046031544,
          18.878603864899222,
          20.737565656726932,
          22.77503244071155,
          25.00831827182126,
          27.453965909104195,
          30.12736222128024,
          33.04236131013184,
          36.210897365562225,
          39.64285026018691,
          43.34587768981185,
          47.3256731469612,
          51.585522750751736,
          56.125177709837686,
          60.94045620286401,
          66.02315813294726,
          71.36100126201367,
          76.93702856078343,
          82.72900298979923,
          88.70981762132364,
          94.73449430092529,
          100.81833570759768,
          106.94545032549489,
          113.09071196052003,
          119.22028346692156,
          125.29212947899501,
          131.2582575197499,
          137.06792287739574,
          142.67084688150587,
          148.01945714668082,
          153.07053563587536,
          157.78609348934933,
          162.1337041702836,
          166.08655377276824,
          169.62358112261464,
          172.72962557908494,
          175.3953518447826,
          177.61705133801024,
          179.39597651734155,
          180.73791386351215,
          181.6526471894206,
          182.15361716521468,
          182.2570457635298,
          181.98156118990508,
          181.34761951031237,
          180.3769285680795,
          179.09213580952812,
          177.5165351787617,
          175.67388045360224,
          173.58808876160276,
          171.28514126756178,
          168.78848626134663,
          166.12120767977572,
          163.30596698975216,
          160.3650081220332,
          157.32008619329392,
          154.19235674443362,
          151.00227819608796,
          147.76953285068493,
          144.51289651290583,
          141.25012689157168,
          137.9978452349807,
          134.77145273035177,
          131.58511224973213,
          128.4517047655288,
          125.38279418049376,
          122.38862708018331,
          119.47814390159704,
          116.6590536581088,
          113.93787182014908,
          111.31997868509174,
          108.80968915602254,
          106.41034466811054,
          104.12439089640552,
          101.95347463340788,
          99.89853731459424,
          97.95991140004188,
          96.13739696480623,
          94.43033112073073,
          92.83766321324201,
          91.35801730632907,
          89.98975339386256,
          88.7310169618182,
          87.57978661149166,
          86.53391532280708,
          85.59116817890774,
          84.74925489656462,
          84.00585512819902,
          83.35863806813835,
          82.80528380556089
         ]
        },
        {
         "fill": "toself",
         "fillcolor": "red",
         "line": {
          "color": "red"
         },
         "mode": "lines",
         "name": "region France",
         "opacity": 0.15,
         "type": "scatter",
         "x": [
          1,
          2,
          3,
          4,
          5,
          6,
          7,
          8,
          9,
          10,
          11,
          12,
          13,
          14,
          15,
          16,
          17,
          18,
          19,
          20,
          21,
          22,
          23,
          24,
          25,
          26,
          27,
          28,
          29,
          30,
          31,
          32,
          33,
          34,
          35,
          36,
          37,
          38,
          39,
          40,
          41,
          42,
          43,
          44,
          45,
          46,
          47,
          48,
          49,
          50,
          51,
          52,
          53,
          54,
          55,
          56,
          57,
          58,
          59,
          60,
          61,
          62,
          63,
          64,
          65,
          66,
          67,
          68,
          69,
          70,
          71,
          72,
          73,
          74,
          75,
          76,
          77,
          78,
          79,
          80,
          81,
          82,
          83,
          84,
          85,
          86,
          87,
          88,
          89,
          90,
          91,
          92,
          93,
          94,
          95,
          96,
          97,
          98,
          99,
          100,
          100,
          99,
          98,
          97,
          96,
          95,
          94,
          93,
          92,
          91,
          90,
          89,
          88,
          87,
          86,
          85,
          84,
          83,
          82,
          81,
          80,
          79,
          78,
          77,
          76,
          75,
          74,
          73,
          72,
          71,
          70,
          69,
          68,
          67,
          66,
          65,
          64,
          63,
          62,
          61,
          60,
          59,
          58,
          57,
          56,
          55,
          54,
          53,
          52,
          51,
          50,
          49,
          48,
          47,
          46,
          45,
          44,
          43,
          42,
          41,
          40,
          39,
          38,
          37,
          36,
          35,
          34,
          33,
          32,
          31,
          30,
          29,
          28,
          27,
          26,
          25,
          24,
          23,
          22,
          21,
          20,
          19,
          18,
          17,
          16,
          15,
          14,
          13,
          12,
          11,
          10,
          9,
          8,
          7,
          6,
          5,
          4,
          3,
          2,
          1
         ],
         "y": [
          1.7775949992105453,
          3.994788149944528,
          6.289490930911799,
          8.46152945698294,
          10.42420260340332,
          12.19661936275487,
          13.85838038930532,
          15.500540987037292,
          17.197579392806972,
          19.00148276072848,
          20.946937028819367,
          23.05978088539789,
          25.362377738049545,
          27.87639477210936,
          30.622469180915143,
          33.619770603721406,
          36.88549226672897,
          40.43508515790138,
          44.28168839710795,
          48.43599133039285,
          52.90624616845783,
          57.697867483241765,
          62.81416690683049,
          68.25492096564736,
          74.01538148068734,
          80.08608058733225,
          86.45285337298394,
          93.0970917130707,
          99.99400883790824,
          107.11331190918298,
          114.2852873664473,
          121.53087887745735,
          128.83386601172276,
          136.63637292147416,
          144.4671194056895,
          152.2704539776757,
          159.98513070899483,
          167.54737232174293,
          174.89363457012345,
          181.96224052503155,
          188.69508795848355,
          195.03882814625547,
          200.94675639960178,
          206.37916935029864,
          211.30341087077088,
          215.69381730664472,
          219.53112474382277,
          222.80509884185514,
          225.51233172065633,
          227.6551809265966,
          229.2412823777434,
          230.2832398662718,
          230.79805767984917,
          230.8066716234336,
          230.3334979307426,
          229.40475480728483,
          228.04795993135127,
          226.29170101172258,
          224.16563076486727,
          221.7001348050394,
          218.92821127724397,
          215.88020742491676,
          212.58609023185565,
          209.07526210730177,
          205.3768805899542,
          201.51978623560052,
          197.53213859940394,
          193.4411334426889,
          189.27300358943137,
          185.05296580670156,
          180.8050963625737,
          176.55219965077396,
          172.31560556829243,
          168.11505946083957,
          163.96875803607264,
          159.89308596064464,
          155.90285292436153,
          152.01113151509614,
          148.2293681361465,
          144.5674641723167,
          141.0338281139509,
          137.63541661056405,
          134.3778642988999,
          131.26547129552395,
          128.30135473840997,
          125.48767050562145,
          122.82573512933989,
          120.31611135284638,
          117.958671930691,
          115.75267733447386,
          113.69687530527105,
          111.789598062962,
          110.02883657681934,
          108.4123336989941,
          106.93763270208633,
          105.60211682673304,
          104.4030569870279,
          103.33765589569148,
          102.40307132333236,
          101.59645423543385,
          58.93702675078653,
          59.12804335442162,
          59.381184443000805,
          59.6987269136762,
          60.08301988583762,
          60.5364787644103,
          61.06158216829765,
          61.66086097061114,
          62.3368836375107,
          63.092240322477544,
          63.92951091992193,
          64.85124185325293,
          65.85992407143961,
          66.95795665997221,
          68.1475929119888,
          69.43089979357545,
          70.80970055980129,
          72.28547361318986,
          73.8592977024856,
          75.53172077980301,
          77.3026764133686,
          79.17141726375259,
          81.1364508464646,
          83.06931203529318,
          84.95801837905653,
          86.90841764428586,
          88.91509454702401,
          90.9717699054849,
          93.07124725087677,
          95.20540962469728,
          97.3652075260856,
          99.54073253923367,
          101.72126938595783,
          103.89525666475804,
          106.05027192552232,
          108.17324413941704,
          110.25060027171767,
          112.26828385913396,
          114.21178822250174,
          116.06608739168884,
          117.81560020653349,
          119.44430156706343,
          120.93385920917048,
          122.26761570475597,
          123.42877547107481,
          124.40042224085583,
          125.16559669750777,
          125.70757509264854,
          126.01032377953436,
          126.05871695556453,
          125.83884122474663,
          125.33810823281972,
          124.545459777302,
          123.45184390811968,
          122.05184589535372,
          120.34299960175308,
          118.32644327253391,
          116.00704180130839,
          113.39353713742373,
          110.49885321472276,
          107.34082936210021,
          103.94176490118811,
          100.32794034328637,
          96.52980220810059,
          92.58128741486458,
          88.51790398969106,
          84.37242397344791,
          80.17251366063157,
          75.9389312114829,
          71.68725974893154,
          67.4280400555985,
          62.86532876228685,
          58.11788898933955,
          53.56173581934608,
          49.21887005130461,
          45.10593323106557,
          41.234249722522335,
          37.610340424461135,
          34.23695194559053,
          31.113199622757488,
          28.234626875484487,
          25.593547994290574,
          23.180561417164682,
          20.984971983052056,
          18.994320051561278,
          17.194802222771738,
          15.571625515604824,
          14.109795890663303,
          12.79429508869207,
          11.610073172898845,
          10.541663834224677,
          9.570417530811792,
          8.67083519989127,
          7.804835034766303,
          6.919920101584257,
          5.954794345983261,
          4.858780846747622,
          3.622528347384219,
          2.303415149803528,
          1.0250886848916376
         ]
        }
       ],
       "layout": {
        "boxmode": "group",
        "legend": {
         "orientation": "h",
         "x": 1,
         "xanchor": "right",
         "y": 1.02,
         "yanchor": "bottom"
        },
        "plot_bgcolor": "white",
        "template": {
         "data": {
          "bar": [
           {
            "error_x": {
             "color": "#2a3f5f"
            },
            "error_y": {
             "color": "#2a3f5f"
            },
            "marker": {
             "line": {
              "color": "#E5ECF6",
              "width": 0.5
             },
             "pattern": {
              "fillmode": "overlay",
              "size": 10,
              "solidity": 0.2
             }
            },
            "type": "bar"
           }
          ],
          "barpolar": [
           {
            "marker": {
             "line": {
              "color": "#E5ECF6",
              "width": 0.5
             },
             "pattern": {
              "fillmode": "overlay",
              "size": 10,
              "solidity": 0.2
             }
            },
            "type": "barpolar"
           }
          ],
          "carpet": [
           {
            "aaxis": {
             "endlinecolor": "#2a3f5f",
             "gridcolor": "white",
             "linecolor": "white",
             "minorgridcolor": "white",
             "startlinecolor": "#2a3f5f"
            },
            "baxis": {
             "endlinecolor": "#2a3f5f",
             "gridcolor": "white",
             "linecolor": "white",
             "minorgridcolor": "white",
             "startlinecolor": "#2a3f5f"
            },
            "type": "carpet"
           }
          ],
          "choropleth": [
           {
            "colorbar": {
             "outlinewidth": 0,
             "ticks": ""
            },
            "type": "choropleth"
           }
          ],
          "contour": [
           {
            "colorbar": {
             "outlinewidth": 0,
             "ticks": ""
            },
            "colorscale": [
             [
              0,
              "#0d0887"
             ],
             [
              0.1111111111111111,
              "#46039f"
             ],
             [
              0.2222222222222222,
              "#7201a8"
             ],
             [
              0.3333333333333333,
              "#9c179e"
             ],
             [
              0.4444444444444444,
              "#bd3786"
             ],
             [
              0.5555555555555556,
              "#d8576b"
             ],
             [
              0.6666666666666666,
              "#ed7953"
             ],
             [
              0.7777777777777778,
              "#fb9f3a"
             ],
             [
              0.8888888888888888,
              "#fdca26"
             ],
             [
              1,
              "#f0f921"
             ]
            ],
            "type": "contour"
           }
          ],
          "contourcarpet": [
           {
            "colorbar": {
             "outlinewidth": 0,
             "ticks": ""
            },
            "type": "contourcarpet"
           }
          ],
          "heatmap": [
           {
            "colorbar": {
             "outlinewidth": 0,
             "ticks": ""
            },
            "colorscale": [
             [
              0,
              "#0d0887"
             ],
             [
              0.1111111111111111,
              "#46039f"
             ],
             [
              0.2222222222222222,
              "#7201a8"
             ],
             [
              0.3333333333333333,
              "#9c179e"
             ],
             [
              0.4444444444444444,
              "#bd3786"
             ],
             [
              0.5555555555555556,
              "#d8576b"
             ],
             [
              0.6666666666666666,
              "#ed7953"
             ],
             [
              0.7777777777777778,
              "#fb9f3a"
             ],
             [
              0.8888888888888888,
              "#fdca26"
             ],
             [
              1,
              "#f0f921"
             ]
            ],
            "type": "heatmap"
           }
          ],
          "heatmapgl": [
           {
            "colorbar": {
             "outlinewidth": 0,
             "ticks": ""
            },
            "colorscale": [
             [
              0,
              "#0d0887"
             ],
             [
              0.1111111111111111,
              "#46039f"
             ],
             [
              0.2222222222222222,
              "#7201a8"
             ],
             [
              0.3333333333333333,
              "#9c179e"
             ],
             [
              0.4444444444444444,
              "#bd3786"
             ],
             [
              0.5555555555555556,
              "#d8576b"
             ],
             [
              0.6666666666666666,
              "#ed7953"
             ],
             [
              0.7777777777777778,
              "#fb9f3a"
             ],
             [
              0.8888888888888888,
              "#fdca26"
             ],
             [
              1,
              "#f0f921"
             ]
            ],
            "type": "heatmapgl"
           }
          ],
          "histogram": [
           {
            "marker": {
             "pattern": {
              "fillmode": "overlay",
              "size": 10,
              "solidity": 0.2
             }
            },
            "type": "histogram"
           }
          ],
          "histogram2d": [
           {
            "colorbar": {
             "outlinewidth": 0,
             "ticks": ""
            },
            "colorscale": [
             [
              0,
              "#0d0887"
             ],
             [
              0.1111111111111111,
              "#46039f"
             ],
             [
              0.2222222222222222,
              "#7201a8"
             ],
             [
              0.3333333333333333,
              "#9c179e"
             ],
             [
              0.4444444444444444,
              "#bd3786"
             ],
             [
              0.5555555555555556,
              "#d8576b"
             ],
             [
              0.6666666666666666,
              "#ed7953"
             ],
             [
              0.7777777777777778,
              "#fb9f3a"
             ],
             [
              0.8888888888888888,
              "#fdca26"
             ],
             [
              1,
              "#f0f921"
             ]
            ],
            "type": "histogram2d"
           }
          ],
          "histogram2dcontour": [
           {
            "colorbar": {
             "outlinewidth": 0,
             "ticks": ""
            },
            "colorscale": [
             [
              0,
              "#0d0887"
             ],
             [
              0.1111111111111111,
              "#46039f"
             ],
             [
              0.2222222222222222,
              "#7201a8"
             ],
             [
              0.3333333333333333,
              "#9c179e"
             ],
             [
              0.4444444444444444,
              "#bd3786"
             ],
             [
              0.5555555555555556,
              "#d8576b"
             ],
             [
              0.6666666666666666,
              "#ed7953"
             ],
             [
              0.7777777777777778,
              "#fb9f3a"
             ],
             [
              0.8888888888888888,
              "#fdca26"
             ],
             [
              1,
              "#f0f921"
             ]
            ],
            "type": "histogram2dcontour"
           }
          ],
          "mesh3d": [
           {
            "colorbar": {
             "outlinewidth": 0,
             "ticks": ""
            },
            "type": "mesh3d"
           }
          ],
          "parcoords": [
           {
            "line": {
             "colorbar": {
              "outlinewidth": 0,
              "ticks": ""
             }
            },
            "type": "parcoords"
           }
          ],
          "pie": [
           {
            "automargin": true,
            "type": "pie"
           }
          ],
          "scatter": [
           {
            "fillpattern": {
             "fillmode": "overlay",
             "size": 10,
             "solidity": 0.2
            },
            "type": "scatter"
           }
          ],
          "scatter3d": [
           {
            "line": {
             "colorbar": {
              "outlinewidth": 0,
              "ticks": ""
             }
            },
            "marker": {
             "colorbar": {
              "outlinewidth": 0,
              "ticks": ""
             }
            },
            "type": "scatter3d"
           }
          ],
          "scattercarpet": [
           {
            "marker": {
             "colorbar": {
              "outlinewidth": 0,
              "ticks": ""
             }
            },
            "type": "scattercarpet"
           }
          ],
          "scattergeo": [
           {
            "marker": {
             "colorbar": {
              "outlinewidth": 0,
              "ticks": ""
             }
            },
            "type": "scattergeo"
           }
          ],
          "scattergl": [
           {
            "marker": {
             "colorbar": {
              "outlinewidth": 0,
              "ticks": ""
             }
            },
            "type": "scattergl"
           }
          ],
          "scattermapbox": [
           {
            "marker": {
             "colorbar": {
              "outlinewidth": 0,
              "ticks": ""
             }
            },
            "type": "scattermapbox"
           }
          ],
          "scatterpolar": [
           {
            "marker": {
             "colorbar": {
              "outlinewidth": 0,
              "ticks": ""
             }
            },
            "type": "scatterpolar"
           }
          ],
          "scatterpolargl": [
           {
            "marker": {
             "colorbar": {
              "outlinewidth": 0,
              "ticks": ""
             }
            },
            "type": "scatterpolargl"
           }
          ],
          "scatterternary": [
           {
            "marker": {
             "colorbar": {
              "outlinewidth": 0,
              "ticks": ""
             }
            },
            "type": "scatterternary"
           }
          ],
          "surface": [
           {
            "colorbar": {
             "outlinewidth": 0,
             "ticks": ""
            },
            "colorscale": [
             [
              0,
              "#0d0887"
             ],
             [
              0.1111111111111111,
              "#46039f"
             ],
             [
              0.2222222222222222,
              "#7201a8"
             ],
             [
              0.3333333333333333,
              "#9c179e"
             ],
             [
              0.4444444444444444,
              "#bd3786"
             ],
             [
              0.5555555555555556,
              "#d8576b"
             ],
             [
              0.6666666666666666,
              "#ed7953"
             ],
             [
              0.7777777777777778,
              "#fb9f3a"
             ],
             [
              0.8888888888888888,
              "#fdca26"
             ],
             [
              1,
              "#f0f921"
             ]
            ],
            "type": "surface"
           }
          ],
          "table": [
           {
            "cells": {
             "fill": {
              "color": "#EBF0F8"
             },
             "line": {
              "color": "white"
             }
            },
            "header": {
             "fill": {
              "color": "#C8D4E3"
             },
             "line": {
              "color": "white"
             }
            },
            "type": "table"
           }
          ]
         },
         "layout": {
          "annotationdefaults": {
           "arrowcolor": "#2a3f5f",
           "arrowhead": 0,
           "arrowwidth": 1
          },
          "autotypenumbers": "strict",
          "coloraxis": {
           "colorbar": {
            "outlinewidth": 0,
            "ticks": ""
           }
          },
          "colorscale": {
           "diverging": [
            [
             0,
             "#8e0152"
            ],
            [
             0.1,
             "#c51b7d"
            ],
            [
             0.2,
             "#de77ae"
            ],
            [
             0.3,
             "#f1b6da"
            ],
            [
             0.4,
             "#fde0ef"
            ],
            [
             0.5,
             "#f7f7f7"
            ],
            [
             0.6,
             "#e6f5d0"
            ],
            [
             0.7,
             "#b8e186"
            ],
            [
             0.8,
             "#7fbc41"
            ],
            [
             0.9,
             "#4d9221"
            ],
            [
             1,
             "#276419"
            ]
           ],
           "sequential": [
            [
             0,
             "#0d0887"
            ],
            [
             0.1111111111111111,
             "#46039f"
            ],
            [
             0.2222222222222222,
             "#7201a8"
            ],
            [
             0.3333333333333333,
             "#9c179e"
            ],
            [
             0.4444444444444444,
             "#bd3786"
            ],
            [
             0.5555555555555556,
             "#d8576b"
            ],
            [
             0.6666666666666666,
             "#ed7953"
            ],
            [
             0.7777777777777778,
             "#fb9f3a"
            ],
            [
             0.8888888888888888,
             "#fdca26"
            ],
            [
             1,
             "#f0f921"
            ]
           ],
           "sequentialminus": [
            [
             0,
             "#0d0887"
            ],
            [
             0.1111111111111111,
             "#46039f"
            ],
            [
             0.2222222222222222,
             "#7201a8"
            ],
            [
             0.3333333333333333,
             "#9c179e"
            ],
            [
             0.4444444444444444,
             "#bd3786"
            ],
            [
             0.5555555555555556,
             "#d8576b"
            ],
            [
             0.6666666666666666,
             "#ed7953"
            ],
            [
             0.7777777777777778,
             "#fb9f3a"
            ],
            [
             0.8888888888888888,
             "#fdca26"
            ],
            [
             1,
             "#f0f921"
            ]
           ]
          },
          "colorway": [
           "#636efa",
           "#EF553B",
           "#00cc96",
           "#ab63fa",
           "#FFA15A",
           "#19d3f3",
           "#FF6692",
           "#B6E880",
           "#FF97FF",
           "#FECB52"
          ],
          "font": {
           "color": "#2a3f5f"
          },
          "geo": {
           "bgcolor": "white",
           "lakecolor": "white",
           "landcolor": "#E5ECF6",
           "showlakes": true,
           "showland": true,
           "subunitcolor": "white"
          },
          "hoverlabel": {
           "align": "left"
          },
          "hovermode": "closest",
          "mapbox": {
           "style": "light"
          },
          "paper_bgcolor": "white",
          "plot_bgcolor": "#E5ECF6",
          "polar": {
           "angularaxis": {
            "gridcolor": "white",
            "linecolor": "white",
            "ticks": ""
           },
           "bgcolor": "#E5ECF6",
           "radialaxis": {
            "gridcolor": "white",
            "linecolor": "white",
            "ticks": ""
           }
          },
          "scene": {
           "xaxis": {
            "backgroundcolor": "#E5ECF6",
            "gridcolor": "white",
            "gridwidth": 2,
            "linecolor": "white",
            "showbackground": true,
            "ticks": "",
            "zerolinecolor": "white"
           },
           "yaxis": {
            "backgroundcolor": "#E5ECF6",
            "gridcolor": "white",
            "gridwidth": 2,
            "linecolor": "white",
            "showbackground": true,
            "ticks": "",
            "zerolinecolor": "white"
           },
           "zaxis": {
            "backgroundcolor": "#E5ECF6",
            "gridcolor": "white",
            "gridwidth": 2,
            "linecolor": "white",
            "showbackground": true,
            "ticks": "",
            "zerolinecolor": "white"
           }
          },
          "shapedefaults": {
           "line": {
            "color": "#2a3f5f"
           }
          },
          "ternary": {
           "aaxis": {
            "gridcolor": "white",
            "linecolor": "white",
            "ticks": ""
           },
           "baxis": {
            "gridcolor": "white",
            "linecolor": "white",
            "ticks": ""
           },
           "bgcolor": "#E5ECF6",
           "caxis": {
            "gridcolor": "white",
            "linecolor": "white",
            "ticks": ""
           }
          },
          "title": {
           "x": 0.05
          },
          "xaxis": {
           "automargin": true,
           "gridcolor": "white",
           "linecolor": "white",
           "ticks": "",
           "title": {
            "standoff": 15
           },
           "zerolinecolor": "white",
           "zerolinewidth": 2
          },
          "yaxis": {
           "automargin": true,
           "gridcolor": "white",
           "linecolor": "white",
           "ticks": "",
           "title": {
            "standoff": 15
           },
           "zerolinecolor": "white",
           "zerolinewidth": 2
          }
         }
        },
        "title": {
         "text": "Deaths for Scenario: Prioritise 75+"
        },
        "width": 800,
        "xaxis": {
         "linecolor": "black"
        },
        "yaxis": {
         "linecolor": "black"
        }
       }
      }
     },
     "metadata": {},
     "output_type": "display_data"
    },
    {
     "data": {
      "application/vnd.plotly.v1+json": {
       "config": {
        "plotlyServerURL": "https://plot.ly"
       },
       "data": [
        {
         "line": {
          "color": "blue"
         },
         "mode": "lines",
         "name": "region United Kingdom",
         "type": "scatter",
         "x": [
          1,
          2,
          3,
          4,
          5,
          6,
          7,
          8,
          9,
          10,
          11,
          12,
          13,
          14,
          15,
          16,
          17,
          18,
          19,
          20,
          21,
          22,
          23,
          24,
          25,
          26,
          27,
          28,
          29,
          30,
          31,
          32,
          33,
          34,
          35,
          36,
          37,
          38,
          39,
          40,
          41,
          42,
          43,
          44,
          45,
          46,
          47,
          48,
          49,
          50,
          51,
          52,
          53,
          54,
          55,
          56,
          57,
          58,
          59,
          60,
          61,
          62,
          63,
          64,
          65,
          66,
          67,
          68,
          69,
          70,
          71,
          72,
          73,
          74,
          75,
          76,
          77,
          78,
          79,
          80,
          81,
          82,
          83,
          84,
          85,
          86,
          87,
          88,
          89,
          90,
          91,
          92,
          93,
          94,
          95,
          96,
          97,
          98,
          99,
          100
         ],
         "y": [
          1.5206630271392183,
          3.4173593113682323,
          5.3801519215371805,
          7.238151052046039,
          8.91922952923581,
          10.443233949002538,
          11.881356294204709,
          13.31187908211148,
          14.79406058998693,
          16.363602565605042,
          18.03741923937669,
          19.823798930989113,
          21.72823119967406,
          23.757723539008744,
          25.920703137768882,
          28.226959836042983,
          30.68692542386814,
          33.31072913436076,
          36.10794599563546,
          39.08748808469037,
          42.25742961071385,
          45.625016650045126,
          49.1974499830158,
          52.9810088079465,
          56.98058226716964,
          61.19950222505593,
          65.63950248573632,
          70.30069795411667,
          75.18154541636108,
          80.27857848788338,
          85.47117421075252,
          90.80333225965596,
          96.28847722790071,
          101.93166792654628,
          107.72939472130474,
          113.66831009652704,
          119.7268844801456,
          125.87810500443669,
          132.09185343490688,
          138.33679821949372,
          144.58124020100433,
          150.7929756370546,
          156.939357790693,
          162.98729929104056,
          168.9034599686047,
          174.65440270347702,
          180.20719015595338,
          185.53045627507038,
          190.59477359796895,
          195.37288234092009,
          199.8399861775908,
          203.97391762460117,
          207.75537471816008,
          211.1682088941929,
          214.19952729341097,
          216.8396873325222,
          219.08234201997598,
          220.92434784408965,
          222.36568082922463,
          223.4090816919311,
          224.0622501860299,
          224.3331276653702,
          224.23217772414588,
          223.77170223157032,
          222.96569659326985,
          221.82991184810453,
          220.38146328553674,
          218.63856799855003,
          216.6204865063702,
          214.3471753183243,
          211.83913344740083,
          209.11722184147573,
          206.20241032593097,
          203.11566574792803,
          199.87772649235595,
          196.50900532224972,
          193.02949419076293,
          189.45857782759725,
          185.81495492678707,
          182.11657533959615,
          178.380549108522,
          174.62310538860598,
          170.85954053254193,
          167.1041688515597,
          163.37028636289165,
          159.6701630094011,
          156.01503828768165,
          152.415111980208,
          148.87955549895779,
          145.4165654662102,
          142.03337681514057,
          138.73627611613338,
          135.530648981325,
          132.42105756022625,
          129.41129259199747,
          126.50440989558795,
          123.70279590951235,
          121.00822398251168,
          118.42189244708543,
          115.94447561875273
         ]
        },
        {
         "fill": "toself",
         "fillcolor": "blue",
         "line": {
          "color": "blue"
         },
         "mode": "lines",
         "name": "region United Kingdom",
         "opacity": 0.15,
         "type": "scatter",
         "x": [
          1,
          2,
          3,
          4,
          5,
          6,
          7,
          8,
          9,
          10,
          11,
          12,
          13,
          14,
          15,
          16,
          17,
          18,
          19,
          20,
          21,
          22,
          23,
          24,
          25,
          26,
          27,
          28,
          29,
          30,
          31,
          32,
          33,
          34,
          35,
          36,
          37,
          38,
          39,
          40,
          41,
          42,
          43,
          44,
          45,
          46,
          47,
          48,
          49,
          50,
          51,
          52,
          53,
          54,
          55,
          56,
          57,
          58,
          59,
          60,
          61,
          62,
          63,
          64,
          65,
          66,
          67,
          68,
          69,
          70,
          71,
          72,
          73,
          74,
          75,
          76,
          77,
          78,
          79,
          80,
          81,
          82,
          83,
          84,
          85,
          86,
          87,
          88,
          89,
          90,
          91,
          92,
          93,
          94,
          95,
          96,
          97,
          98,
          99,
          100,
          100,
          99,
          98,
          97,
          96,
          95,
          94,
          93,
          92,
          91,
          90,
          89,
          88,
          87,
          86,
          85,
          84,
          83,
          82,
          81,
          80,
          79,
          78,
          77,
          76,
          75,
          74,
          73,
          72,
          71,
          70,
          69,
          68,
          67,
          66,
          65,
          64,
          63,
          62,
          61,
          60,
          59,
          58,
          57,
          56,
          55,
          54,
          53,
          52,
          51,
          50,
          49,
          48,
          47,
          46,
          45,
          44,
          43,
          42,
          41,
          40,
          39,
          38,
          37,
          36,
          35,
          34,
          33,
          32,
          31,
          30,
          29,
          28,
          27,
          26,
          25,
          24,
          23,
          22,
          21,
          20,
          19,
          18,
          17,
          16,
          15,
          14,
          13,
          12,
          11,
          10,
          9,
          8,
          7,
          6,
          5,
          4,
          3,
          2,
          1
         ],
         "y": [
          1.80411727491581,
          4.0546282178352016,
          6.3875242868215505,
          8.608614230940827,
          10.6405796312974,
          12.510012345903181,
          14.298244111240917,
          16.090928183787454,
          17.94992431234376,
          19.910487740430742,
          21.987960501196163,
          24.189658830419265,
          26.521203520490847,
          28.99090517687511,
          31.608674135501026,
          34.385553234053624,
          37.333104722830385,
          40.46215074098992,
          43.78272391461159,
          47.304032271927674,
          51.03445388440215,
          54.98100127103571,
          59.15067352401533,
          63.54997726743816,
          68.18393124674556,
          73.05582960629654,
          78.16718602336617,
          83.51774489632648,
          89.10552227111012,
          94.92677058888589,
          100.83920081306523,
          107.20454780522255,
          113.84548944403613,
          120.67758315671016,
          127.69243677256173,
          134.87070336332698,
          142.18482455743478,
          149.6002164504591,
          157.07864694483868,
          164.58086228191593,
          172.0672895254595,
          179.49781625598575,
          186.83156092208017,
          194.02696029486913,
          201.04238207493694,
          207.8352639033249,
          214.4074718634733,
          221.30990189870192,
          227.9526522063808,
          234.29851637292103,
          240.31298904723837,
          245.9647833342408,
          251.22602473662468,
          256.0721555187032,
          260.4819045049071,
          264.43719875535515,
          267.92365227385005,
          270.931465315864,
          273.45466146611494,
          275.4908245793763,
          277.04323503453963,
          278.11589886600586,
          278.7159714171425,
          278.85336571389655,
          278.54043700397847,
          277.7936306325746,
          276.6314576882272,
          275.07391183260256,
          273.142071431299,
          270.8581640119857,
          268.2455024627145,
          265.3282762810472,
          262.1314386375898,
          258.6803178526404,
          255.00044155269046,
          251.1174167909323,
          247.05646099121063,
          242.84224785965162,
          238.49878147593705,
          234.04940245586266,
          229.51662789905555,
          224.92207421151073,
          220.28641397537805,
          215.6292829540215,
          210.96908693455546,
          206.3230369065283,
          201.70712431304733,
          197.13605194950782,
          192.62327418817878,
          188.18102450044444,
          183.82034165978595,
          179.5510958940257,
          175.38201539544187,
          171.3207352961069,
          167.37385456692718,
          163.5468530916529,
          159.84422052018843,
          156.26959009328797,
          152.82582258918842,
          149.51506080981733,
          73.57919812524486,
          75.22359440861658,
          76.96978477745681,
          78.81990117628878,
          80.77579669752149,
          82.83900641617974,
          85.01070221836774,
          87.29163393804845,
          89.68204234721952,
          92.18159259738651,
          94.78932597374066,
          97.50357519806649,
          100.32183050273909,
          103.24073005539705,
          106.2560042731984,
          108.8792603976978,
          111.52497449105961,
          114.21284258158505,
          116.93511100338652,
          119.68314680885892,
          122.44754398992276,
          125.21809199635422,
          127.98378288958303,
          130.73282997456934,
          133.45270695915013,
          136.13019099262712,
          138.7514200030357,
          141.30193976880008,
          143.76675426531818,
          146.1304448481274,
          148.37730450880824,
          150.49140142387026,
          152.45671416481005,
          154.25714835079566,
          155.87653562742935,
          157.29882827258137,
          158.5084582080101,
          159.49098430836366,
          160.23269010315667,
          160.72105839531574,
          160.9447041626356,
          160.89343169302595,
          160.556271234693,
          159.92556962783627,
          158.99531317618772,
          157.76163977710726,
          156.2243041416306,
          154.38482353170411,
          152.24719341495071,
          149.81796811867545,
          147.10633473227406,
          144.12416557857537,
          140.8860255103619,
          137.40906947068893,
          133.7127275272489,
          129.8182822246523,
          125.74825106842664,
          121.52632241456274,
          117.17730889775096,
          112.72718268419693,
          108.20304221141271,
          103.63290689058687,
          99.04413109190966,
          94.46344180487941,
          89.91752493231603,
          85.43091212210712,
          81.02354913794952,
          76.70809051781931,
          72.44452873644437,
          67.6536808241917,
          63.02692470315988,
          58.537986069756386,
          54.27169432600753,
          50.23101450360069,
          46.41610940793503,
          42.82562049828809,
          39.456136189557576,
          36.302813337655614,
          33.35936108872326,
          30.61806680047461,
          28.069921699158485,
          25.70505752286243,
          23.514277159234826,
          21.487375449691328,
          19.613853367298333,
          17.88301960936414,
          16.28429535011583,
          14.808013606542692,
          13.445828556107625,
          12.19059318584355,
          11.035809723908784,
          9.97205631661407,
          8.982819214501182,
          8.037133217240427,
          7.087157254846539,
          6.072719247553641,
          4.941064610614036,
          3.678514519629101,
          2.3378902979288863,
          1.040383330035845
         ]
        },
        {
         "line": {
          "color": "red"
         },
         "mode": "lines",
         "name": "region France",
         "type": "scatter",
         "x": [
          1,
          2,
          3,
          4,
          5,
          6,
          7,
          8,
          9,
          10,
          11,
          12,
          13,
          14,
          15,
          16,
          17,
          18,
          19,
          20,
          21,
          22,
          23,
          24,
          25,
          26,
          27,
          28,
          29,
          30,
          31,
          32,
          33,
          34,
          35,
          36,
          37,
          38,
          39,
          40,
          41,
          42,
          43,
          44,
          45,
          46,
          47,
          48,
          49,
          50,
          51,
          52,
          53,
          54,
          55,
          56,
          57,
          58,
          59,
          60,
          61,
          62,
          63,
          64,
          65,
          66,
          67,
          68,
          69,
          70,
          71,
          72,
          73,
          74,
          75,
          76,
          77,
          78,
          79,
          80,
          81,
          82,
          83,
          84,
          85,
          86,
          87,
          88,
          89,
          90,
          91,
          92,
          93,
          94,
          95,
          96,
          97,
          98,
          99,
          100
         ],
         "y": [
          1.4983078041050215,
          3.3678188789870087,
          5.313626289451953,
          7.19526708398739,
          8.97731362255094,
          10.70923515468856,
          12.478889760266057,
          14.369905015416773,
          16.440811814825693,
          18.726099323153356,
          21.244772978744535,
          24.01143629251529,
          27.04191031267076,
          30.35549181034689,
          33.97332477840813,
          37.91745390457011,
          42.209168421496905,
          46.867606578277,
          51.90914193182551,
          57.34702457192886,
          63.19126001497382,
          69.44894339139914,
          76.12240913588911,
          83.20813584989577,
          90.6965031418851,
          98.57168979323038,
          106.81127312173406,
          115.38486806659685,
          124.2541245393141,
          133.37337511399463,
          142.57654423837485,
          151.85571293871536,
          161.16853834082244,
          170.45958402820816,
          179.6635581500226,
          188.70709032218724,
          197.5118877690678,
          205.99908346669798,
          214.093012907873,
          221.72403754838606,
          228.83057289942622,
          235.35963914381244,
          241.26686516931304,
          246.5166391051897,
          251.0825771874302,
          254.9479587661738,
          258.10497392345377,
          260.5540698880106,
          262.30333531540333,
          263.36784722376893,
          263.76904873308166,
          263.5334070554573,
          262.6915449172677,
          261.27706502257865,
          259.325809711307,
          256.87538436459096,
          253.96459524645815,
          250.63290130148832,
          246.91993970588712,
          242.86508895762415,
          238.5093277035077,
          233.89066924423506,
          229.0463196872348,
          224.01264247670665,
          218.8249421368821,
          213.51733038403688,
          208.12266809671502,
          202.67244057958317,
          197.19659990163774,
          191.7233770755781,
          186.27908048076307,
          180.88801820462905,
          175.57241912107224,
          170.35240093244565,
          165.24596019804375,
          160.26892123690516,
          155.4349701670423,
          150.7557279402025,
          146.24081572920747,
          141.89796488156972,
          137.7331177133398,
          133.75055300042112,
          129.95306934518257,
          126.34214663310314,
          122.918099009176,
          119.68021177885467,
          116.62686687910474,
          113.75568660101202,
          111.06366361950235,
          108.54727028466039,
          106.20257272123794,
          104.0253142695236,
          102.01099278190095,
          100.15493298322806,
          98.45235220982931,
          96.89841534937035,
          95.48827917332078,
          94.21713206098556,
          93.0802255947885,
          92.07289987797401
         ]
        },
        {
         "fill": "toself",
         "fillcolor": "red",
         "line": {
          "color": "red"
         },
         "mode": "lines",
         "name": "region France",
         "opacity": 0.15,
         "type": "scatter",
         "x": [
          1,
          2,
          3,
          4,
          5,
          6,
          7,
          8,
          9,
          10,
          11,
          12,
          13,
          14,
          15,
          16,
          17,
          18,
          19,
          20,
          21,
          22,
          23,
          24,
          25,
          26,
          27,
          28,
          29,
          30,
          31,
          32,
          33,
          34,
          35,
          36,
          37,
          38,
          39,
          40,
          41,
          42,
          43,
          44,
          45,
          46,
          47,
          48,
          49,
          50,
          51,
          52,
          53,
          54,
          55,
          56,
          57,
          58,
          59,
          60,
          61,
          62,
          63,
          64,
          65,
          66,
          67,
          68,
          69,
          70,
          71,
          72,
          73,
          74,
          75,
          76,
          77,
          78,
          79,
          80,
          81,
          82,
          83,
          84,
          85,
          86,
          87,
          88,
          89,
          90,
          91,
          92,
          93,
          94,
          95,
          96,
          97,
          98,
          99,
          100,
          100,
          99,
          98,
          97,
          96,
          95,
          94,
          93,
          92,
          91,
          90,
          89,
          88,
          87,
          86,
          85,
          84,
          83,
          82,
          81,
          80,
          79,
          78,
          77,
          76,
          75,
          74,
          73,
          72,
          71,
          70,
          69,
          68,
          67,
          66,
          65,
          64,
          63,
          62,
          61,
          60,
          59,
          58,
          57,
          56,
          55,
          54,
          53,
          52,
          51,
          50,
          49,
          48,
          47,
          46,
          45,
          44,
          43,
          42,
          41,
          40,
          39,
          38,
          37,
          36,
          35,
          34,
          33,
          32,
          31,
          30,
          29,
          28,
          27,
          26,
          25,
          24,
          23,
          22,
          21,
          20,
          19,
          18,
          17,
          16,
          15,
          14,
          13,
          12,
          11,
          10,
          9,
          8,
          7,
          6,
          5,
          4,
          3,
          2,
          1
         ],
         "y": [
          1.7775949992105453,
          3.9959519872210167,
          6.310259686993873,
          8.565583257039094,
          10.731233979334311,
          12.870319695466025,
          15.083532690452687,
          17.461708980651615,
          20.064929152483963,
          22.92715591820797,
          26.067120680874197,
          29.501061124765947,
          33.247855013410735,
          37.331186963800135,
          41.776035214955556,
          46.607552244574975,
          51.849411253216516,
          57.52254930487458,
          63.64451131621021,
          70.22928368532781,
          77.2864778907329,
          84.82296690857535,
          92.84090134516046,
          101.33571792517762,
          110.29571194542005,
          119.70201735887167,
          129.52900833628024,
          139.7425290319034,
          150.29911071036707,
          161.14726628857974,
          172.0935483827661,
          183.13262884408604,
          194.32017830169448,
          206.09075512835904,
          217.8239970053088,
          229.42672004585867,
          240.80066917828185,
          251.8465815974489,
          262.4677591341566,
          272.571884048619,
          282.07444407213984,
          290.9009547292066,
          298.9872589541442,
          306.2793572605851,
          312.7330181710147,
          318.31752971649917,
          323.01408133221605,
          326.8144422525299,
          329.7203916055053,
          331.7432677370362,
          332.902711358312,
          333.2271604867642,
          332.7514561356273,
          331.51449659592976,
          329.55847304331144,
          326.92850798024665,
          323.6722615800395,
          319.83893460685226,
          315.4787576612206,
          310.6417875516792,
          305.3798568293679,
          299.74170258891166,
          293.77541248654427,
          287.5282399633225,
          281.0463845815074,
          274.3746679196299,
          267.55636291167906,
          260.6330797467753,
          253.64462365998466,
          246.62887591742808,
          239.6215383757133,
          232.6558768754391,
          225.76230035208366,
          218.96867087762243,
          212.3003751988402,
          205.78004240266742,
          199.4275702714754,
          193.2601831153846,
          187.29247271802862,
          181.53660074588075,
          176.00218291086898,
          170.6965574315447,
          165.62503207997716,
          160.79115515047835,
          156.19688464376924,
          151.84271271018343,
          147.72777850874965,
          143.8501227354305,
          140.20673574821345,
          136.79385845868228,
          133.60714323740547,
          130.64176067401556,
          127.8924805626145,
          125.35375482361373,
          123.0198062193557,
          120.88471525702411,
          118.9425130474465,
          117.23280393095666,
          115.7211264535979,
          114.37439913353221,
          63.28143195796238,
          63.73963071248317,
          64.28357864640257,
          64.91743491403604,
          65.64552530883896,
          66.47233208870338,
          67.40248306717294,
          68.44074253530131,
          69.59200376568475,
          70.86125018556865,
          72.2535204872176,
          73.77386190936625,
          75.42729023648086,
          77.2187277040902,
          79.15294199488785,
          81.2344425026003,
          83.46740523705701,
          85.85557854548848,
          88.40212205165226,
          91.10946891949773,
          93.97909883730279,
          97.01140814274392,
          100.20558823857795,
          103.5595306551703,
          107.06968120878535,
          110.36853268263879,
          113.72086916586794,
          117.17108343207707,
          120.70913640104993,
          124.323458405102,
          128.00092232061317,
          131.72683855944834,
          135.48512853126402,
          139.258349700935,
          143.0276624875985,
          146.77273862584642,
          150.4721831496156,
          154.10368599887198,
          157.64400275865347,
          161.06894957368667,
          164.3533503311176,
          167.47111862435037,
          170.3934213493751,
          173.09270533678196,
          175.54108467772338,
          177.71039227846808,
          179.57221984561113,
          181.0980766400661,
          182.25995734035877,
          183.03115015641984,
          183.38665102413043,
          183.30364731940676,
          182.76172213774913,
          181.74323333602248,
          180.23435370217257,
          178.2274497145005,
          175.719922231044,
          172.71512207627998,
          169.2224715445128,
          165.2577736324322,
          160.8436978738314,
          156.01093829917937,
          150.7965641704442,
          145.24407150868893,
          139.40317824039712,
          133.32826358510317,
          127.07444603066918,
          120.6919175629063,
          114.22429882818558,
          107.70856323012143,
          101.17489234948799,
          94.49825785505185,
          87.234428994898,
          80.23884797313515,
          73.54844292224084,
          67.19188931008058,
          61.189563640102094,
          55.55393992378436,
          50.29092595282959,
          45.40099399956502,
          40.87952163163346,
          36.71692005101604,
          32.89922368986948,
          29.41064256221708,
          26.233387500189405,
          23.347686408749308,
          20.732479703868258,
          18.366625365717432,
          16.230631774775624,
          14.307132333377735,
          12.581159680301498,
          11.038008724849472,
          9.658642274185564,
          8.411607939168809,
          7.247795058459897,
          6.10159296894065,
          4.907666763711304,
          3.632117828021219,
          2.3039430226981525,
          1.0250886848916376
         ]
        }
       ],
       "layout": {
        "boxmode": "group",
        "legend": {
         "orientation": "h",
         "x": 1,
         "xanchor": "right",
         "y": 1.02,
         "yanchor": "bottom"
        },
        "plot_bgcolor": "white",
        "template": {
         "data": {
          "bar": [
           {
            "error_x": {
             "color": "#2a3f5f"
            },
            "error_y": {
             "color": "#2a3f5f"
            },
            "marker": {
             "line": {
              "color": "#E5ECF6",
              "width": 0.5
             },
             "pattern": {
              "fillmode": "overlay",
              "size": 10,
              "solidity": 0.2
             }
            },
            "type": "bar"
           }
          ],
          "barpolar": [
           {
            "marker": {
             "line": {
              "color": "#E5ECF6",
              "width": 0.5
             },
             "pattern": {
              "fillmode": "overlay",
              "size": 10,
              "solidity": 0.2
             }
            },
            "type": "barpolar"
           }
          ],
          "carpet": [
           {
            "aaxis": {
             "endlinecolor": "#2a3f5f",
             "gridcolor": "white",
             "linecolor": "white",
             "minorgridcolor": "white",
             "startlinecolor": "#2a3f5f"
            },
            "baxis": {
             "endlinecolor": "#2a3f5f",
             "gridcolor": "white",
             "linecolor": "white",
             "minorgridcolor": "white",
             "startlinecolor": "#2a3f5f"
            },
            "type": "carpet"
           }
          ],
          "choropleth": [
           {
            "colorbar": {
             "outlinewidth": 0,
             "ticks": ""
            },
            "type": "choropleth"
           }
          ],
          "contour": [
           {
            "colorbar": {
             "outlinewidth": 0,
             "ticks": ""
            },
            "colorscale": [
             [
              0,
              "#0d0887"
             ],
             [
              0.1111111111111111,
              "#46039f"
             ],
             [
              0.2222222222222222,
              "#7201a8"
             ],
             [
              0.3333333333333333,
              "#9c179e"
             ],
             [
              0.4444444444444444,
              "#bd3786"
             ],
             [
              0.5555555555555556,
              "#d8576b"
             ],
             [
              0.6666666666666666,
              "#ed7953"
             ],
             [
              0.7777777777777778,
              "#fb9f3a"
             ],
             [
              0.8888888888888888,
              "#fdca26"
             ],
             [
              1,
              "#f0f921"
             ]
            ],
            "type": "contour"
           }
          ],
          "contourcarpet": [
           {
            "colorbar": {
             "outlinewidth": 0,
             "ticks": ""
            },
            "type": "contourcarpet"
           }
          ],
          "heatmap": [
           {
            "colorbar": {
             "outlinewidth": 0,
             "ticks": ""
            },
            "colorscale": [
             [
              0,
              "#0d0887"
             ],
             [
              0.1111111111111111,
              "#46039f"
             ],
             [
              0.2222222222222222,
              "#7201a8"
             ],
             [
              0.3333333333333333,
              "#9c179e"
             ],
             [
              0.4444444444444444,
              "#bd3786"
             ],
             [
              0.5555555555555556,
              "#d8576b"
             ],
             [
              0.6666666666666666,
              "#ed7953"
             ],
             [
              0.7777777777777778,
              "#fb9f3a"
             ],
             [
              0.8888888888888888,
              "#fdca26"
             ],
             [
              1,
              "#f0f921"
             ]
            ],
            "type": "heatmap"
           }
          ],
          "heatmapgl": [
           {
            "colorbar": {
             "outlinewidth": 0,
             "ticks": ""
            },
            "colorscale": [
             [
              0,
              "#0d0887"
             ],
             [
              0.1111111111111111,
              "#46039f"
             ],
             [
              0.2222222222222222,
              "#7201a8"
             ],
             [
              0.3333333333333333,
              "#9c179e"
             ],
             [
              0.4444444444444444,
              "#bd3786"
             ],
             [
              0.5555555555555556,
              "#d8576b"
             ],
             [
              0.6666666666666666,
              "#ed7953"
             ],
             [
              0.7777777777777778,
              "#fb9f3a"
             ],
             [
              0.8888888888888888,
              "#fdca26"
             ],
             [
              1,
              "#f0f921"
             ]
            ],
            "type": "heatmapgl"
           }
          ],
          "histogram": [
           {
            "marker": {
             "pattern": {
              "fillmode": "overlay",
              "size": 10,
              "solidity": 0.2
             }
            },
            "type": "histogram"
           }
          ],
          "histogram2d": [
           {
            "colorbar": {
             "outlinewidth": 0,
             "ticks": ""
            },
            "colorscale": [
             [
              0,
              "#0d0887"
             ],
             [
              0.1111111111111111,
              "#46039f"
             ],
             [
              0.2222222222222222,
              "#7201a8"
             ],
             [
              0.3333333333333333,
              "#9c179e"
             ],
             [
              0.4444444444444444,
              "#bd3786"
             ],
             [
              0.5555555555555556,
              "#d8576b"
             ],
             [
              0.6666666666666666,
              "#ed7953"
             ],
             [
              0.7777777777777778,
              "#fb9f3a"
             ],
             [
              0.8888888888888888,
              "#fdca26"
             ],
             [
              1,
              "#f0f921"
             ]
            ],
            "type": "histogram2d"
           }
          ],
          "histogram2dcontour": [
           {
            "colorbar": {
             "outlinewidth": 0,
             "ticks": ""
            },
            "colorscale": [
             [
              0,
              "#0d0887"
             ],
             [
              0.1111111111111111,
              "#46039f"
             ],
             [
              0.2222222222222222,
              "#7201a8"
             ],
             [
              0.3333333333333333,
              "#9c179e"
             ],
             [
              0.4444444444444444,
              "#bd3786"
             ],
             [
              0.5555555555555556,
              "#d8576b"
             ],
             [
              0.6666666666666666,
              "#ed7953"
             ],
             [
              0.7777777777777778,
              "#fb9f3a"
             ],
             [
              0.8888888888888888,
              "#fdca26"
             ],
             [
              1,
              "#f0f921"
             ]
            ],
            "type": "histogram2dcontour"
           }
          ],
          "mesh3d": [
           {
            "colorbar": {
             "outlinewidth": 0,
             "ticks": ""
            },
            "type": "mesh3d"
           }
          ],
          "parcoords": [
           {
            "line": {
             "colorbar": {
              "outlinewidth": 0,
              "ticks": ""
             }
            },
            "type": "parcoords"
           }
          ],
          "pie": [
           {
            "automargin": true,
            "type": "pie"
           }
          ],
          "scatter": [
           {
            "fillpattern": {
             "fillmode": "overlay",
             "size": 10,
             "solidity": 0.2
            },
            "type": "scatter"
           }
          ],
          "scatter3d": [
           {
            "line": {
             "colorbar": {
              "outlinewidth": 0,
              "ticks": ""
             }
            },
            "marker": {
             "colorbar": {
              "outlinewidth": 0,
              "ticks": ""
             }
            },
            "type": "scatter3d"
           }
          ],
          "scattercarpet": [
           {
            "marker": {
             "colorbar": {
              "outlinewidth": 0,
              "ticks": ""
             }
            },
            "type": "scattercarpet"
           }
          ],
          "scattergeo": [
           {
            "marker": {
             "colorbar": {
              "outlinewidth": 0,
              "ticks": ""
             }
            },
            "type": "scattergeo"
           }
          ],
          "scattergl": [
           {
            "marker": {
             "colorbar": {
              "outlinewidth": 0,
              "ticks": ""
             }
            },
            "type": "scattergl"
           }
          ],
          "scattermapbox": [
           {
            "marker": {
             "colorbar": {
              "outlinewidth": 0,
              "ticks": ""
             }
            },
            "type": "scattermapbox"
           }
          ],
          "scatterpolar": [
           {
            "marker": {
             "colorbar": {
              "outlinewidth": 0,
              "ticks": ""
             }
            },
            "type": "scatterpolar"
           }
          ],
          "scatterpolargl": [
           {
            "marker": {
             "colorbar": {
              "outlinewidth": 0,
              "ticks": ""
             }
            },
            "type": "scatterpolargl"
           }
          ],
          "scatterternary": [
           {
            "marker": {
             "colorbar": {
              "outlinewidth": 0,
              "ticks": ""
             }
            },
            "type": "scatterternary"
           }
          ],
          "surface": [
           {
            "colorbar": {
             "outlinewidth": 0,
             "ticks": ""
            },
            "colorscale": [
             [
              0,
              "#0d0887"
             ],
             [
              0.1111111111111111,
              "#46039f"
             ],
             [
              0.2222222222222222,
              "#7201a8"
             ],
             [
              0.3333333333333333,
              "#9c179e"
             ],
             [
              0.4444444444444444,
              "#bd3786"
             ],
             [
              0.5555555555555556,
              "#d8576b"
             ],
             [
              0.6666666666666666,
              "#ed7953"
             ],
             [
              0.7777777777777778,
              "#fb9f3a"
             ],
             [
              0.8888888888888888,
              "#fdca26"
             ],
             [
              1,
              "#f0f921"
             ]
            ],
            "type": "surface"
           }
          ],
          "table": [
           {
            "cells": {
             "fill": {
              "color": "#EBF0F8"
             },
             "line": {
              "color": "white"
             }
            },
            "header": {
             "fill": {
              "color": "#C8D4E3"
             },
             "line": {
              "color": "white"
             }
            },
            "type": "table"
           }
          ]
         },
         "layout": {
          "annotationdefaults": {
           "arrowcolor": "#2a3f5f",
           "arrowhead": 0,
           "arrowwidth": 1
          },
          "autotypenumbers": "strict",
          "coloraxis": {
           "colorbar": {
            "outlinewidth": 0,
            "ticks": ""
           }
          },
          "colorscale": {
           "diverging": [
            [
             0,
             "#8e0152"
            ],
            [
             0.1,
             "#c51b7d"
            ],
            [
             0.2,
             "#de77ae"
            ],
            [
             0.3,
             "#f1b6da"
            ],
            [
             0.4,
             "#fde0ef"
            ],
            [
             0.5,
             "#f7f7f7"
            ],
            [
             0.6,
             "#e6f5d0"
            ],
            [
             0.7,
             "#b8e186"
            ],
            [
             0.8,
             "#7fbc41"
            ],
            [
             0.9,
             "#4d9221"
            ],
            [
             1,
             "#276419"
            ]
           ],
           "sequential": [
            [
             0,
             "#0d0887"
            ],
            [
             0.1111111111111111,
             "#46039f"
            ],
            [
             0.2222222222222222,
             "#7201a8"
            ],
            [
             0.3333333333333333,
             "#9c179e"
            ],
            [
             0.4444444444444444,
             "#bd3786"
            ],
            [
             0.5555555555555556,
             "#d8576b"
            ],
            [
             0.6666666666666666,
             "#ed7953"
            ],
            [
             0.7777777777777778,
             "#fb9f3a"
            ],
            [
             0.8888888888888888,
             "#fdca26"
            ],
            [
             1,
             "#f0f921"
            ]
           ],
           "sequentialminus": [
            [
             0,
             "#0d0887"
            ],
            [
             0.1111111111111111,
             "#46039f"
            ],
            [
             0.2222222222222222,
             "#7201a8"
            ],
            [
             0.3333333333333333,
             "#9c179e"
            ],
            [
             0.4444444444444444,
             "#bd3786"
            ],
            [
             0.5555555555555556,
             "#d8576b"
            ],
            [
             0.6666666666666666,
             "#ed7953"
            ],
            [
             0.7777777777777778,
             "#fb9f3a"
            ],
            [
             0.8888888888888888,
             "#fdca26"
            ],
            [
             1,
             "#f0f921"
            ]
           ]
          },
          "colorway": [
           "#636efa",
           "#EF553B",
           "#00cc96",
           "#ab63fa",
           "#FFA15A",
           "#19d3f3",
           "#FF6692",
           "#B6E880",
           "#FF97FF",
           "#FECB52"
          ],
          "font": {
           "color": "#2a3f5f"
          },
          "geo": {
           "bgcolor": "white",
           "lakecolor": "white",
           "landcolor": "#E5ECF6",
           "showlakes": true,
           "showland": true,
           "subunitcolor": "white"
          },
          "hoverlabel": {
           "align": "left"
          },
          "hovermode": "closest",
          "mapbox": {
           "style": "light"
          },
          "paper_bgcolor": "white",
          "plot_bgcolor": "#E5ECF6",
          "polar": {
           "angularaxis": {
            "gridcolor": "white",
            "linecolor": "white",
            "ticks": ""
           },
           "bgcolor": "#E5ECF6",
           "radialaxis": {
            "gridcolor": "white",
            "linecolor": "white",
            "ticks": ""
           }
          },
          "scene": {
           "xaxis": {
            "backgroundcolor": "#E5ECF6",
            "gridcolor": "white",
            "gridwidth": 2,
            "linecolor": "white",
            "showbackground": true,
            "ticks": "",
            "zerolinecolor": "white"
           },
           "yaxis": {
            "backgroundcolor": "#E5ECF6",
            "gridcolor": "white",
            "gridwidth": 2,
            "linecolor": "white",
            "showbackground": true,
            "ticks": "",
            "zerolinecolor": "white"
           },
           "zaxis": {
            "backgroundcolor": "#E5ECF6",
            "gridcolor": "white",
            "gridwidth": 2,
            "linecolor": "white",
            "showbackground": true,
            "ticks": "",
            "zerolinecolor": "white"
           }
          },
          "shapedefaults": {
           "line": {
            "color": "#2a3f5f"
           }
          },
          "ternary": {
           "aaxis": {
            "gridcolor": "white",
            "linecolor": "white",
            "ticks": ""
           },
           "baxis": {
            "gridcolor": "white",
            "linecolor": "white",
            "ticks": ""
           },
           "bgcolor": "#E5ECF6",
           "caxis": {
            "gridcolor": "white",
            "linecolor": "white",
            "ticks": ""
           }
          },
          "title": {
           "x": 0.05
          },
          "xaxis": {
           "automargin": true,
           "gridcolor": "white",
           "linecolor": "white",
           "ticks": "",
           "title": {
            "standoff": 15
           },
           "zerolinecolor": "white",
           "zerolinewidth": 2
          },
          "yaxis": {
           "automargin": true,
           "gridcolor": "white",
           "linecolor": "white",
           "ticks": "",
           "title": {
            "standoff": 15
           },
           "zerolinecolor": "white",
           "zerolinewidth": 2
          }
         }
        },
        "title": {
         "text": "Deaths for Scenario: Prioritise 60-70 then 75+"
        },
        "width": 800,
        "xaxis": {
         "linecolor": "black"
        },
        "yaxis": {
         "linecolor": "black"
        }
       }
      }
     },
     "metadata": {},
     "output_type": "display_data"
    },
    {
     "data": {
      "application/vnd.plotly.v1+json": {
       "config": {
        "plotlyServerURL": "https://plot.ly"
       },
       "data": [
        {
         "line": {
          "color": "blue"
         },
         "mode": "lines",
         "name": "region United Kingdom",
         "type": "scatter",
         "x": [
          1,
          2,
          3,
          4,
          5,
          6,
          7,
          8,
          9,
          10,
          11,
          12,
          13,
          14,
          15,
          16,
          17,
          18,
          19,
          20,
          21,
          22,
          23,
          24,
          25,
          26,
          27,
          28,
          29,
          30,
          31,
          32,
          33,
          34,
          35,
          36,
          37,
          38,
          39,
          40,
          41,
          42,
          43,
          44,
          45,
          46,
          47,
          48,
          49,
          50,
          51,
          52,
          53,
          54,
          55,
          56,
          57,
          58,
          59,
          60,
          61,
          62,
          63,
          64,
          65,
          66,
          67,
          68,
          69,
          70,
          71,
          72,
          73,
          74,
          75,
          76,
          77,
          78,
          79,
          80,
          81,
          82,
          83,
          84,
          85,
          86,
          87,
          88,
          89,
          90,
          91,
          92,
          93,
          94,
          95,
          96,
          97,
          98,
          99,
          100
         ],
         "y": [
          1.5206630271392183,
          3.4173593113682323,
          5.3801519215371805,
          7.238151052046039,
          8.91922952923581,
          10.443233949002538,
          11.881356294204709,
          13.31187908211148,
          14.79406058998693,
          16.363602565605042,
          18.03741923937669,
          19.823798930989113,
          21.72823119967406,
          23.757723539008744,
          25.920703137768882,
          28.226959836042983,
          30.68692542386814,
          33.31072913436076,
          36.10794599563546,
          39.08748808469037,
          42.25742961071385,
          45.625016650045126,
          49.1974499830158,
          52.9810088079465,
          56.98058226716964,
          61.19950222505593,
          65.63950248573632,
          70.30069795411667,
          75.18154541636108,
          80.27857848788338,
          85.47117421075252,
          90.80333225965596,
          96.28847722790071,
          101.93166792654628,
          107.72939472130474,
          113.66831009652704,
          119.7268844801456,
          125.87810500443669,
          132.09185343490688,
          138.33679821949372,
          144.58124020100433,
          150.7929756370546,
          156.939357790693,
          162.98729929104056,
          168.9034599686047,
          174.65440270347702,
          180.20719015595338,
          185.53045627507038,
          190.59477359796895,
          195.37288234092009,
          199.8399861775908,
          203.97391762460117,
          207.75537471816008,
          211.1682088941929,
          214.19952729341097,
          216.8396873325222,
          219.08234201997598,
          220.92434784408965,
          222.36568082922463,
          223.4090816919311,
          224.0622501860299,
          224.3331276653702,
          224.23217772414588,
          223.77170223157032,
          222.96569659326985,
          221.82991184810453,
          220.38146328553674,
          218.63856799855003,
          216.6204865063702,
          214.3471753183243,
          211.83913344740083,
          209.11722184147573,
          206.20241032593097,
          203.11566574792803,
          199.87772649235595,
          196.50900532224972,
          193.02949419076293,
          189.45857782759725,
          185.81495492678707,
          182.11657533959615,
          178.380549108522,
          174.62310538860598,
          170.85954053254193,
          167.1041688515597,
          163.37028636289165,
          159.6701630094011,
          156.01503828768165,
          152.415111980208,
          148.87955549895779,
          145.4165654662102,
          142.03337681514057,
          138.73627611613338,
          135.530648981325,
          132.42105756022625,
          129.41129259199747,
          126.50440989558795,
          123.70279590951235,
          121.00822398251168,
          118.42189244708543,
          115.94447561875273
         ]
        },
        {
         "fill": "toself",
         "fillcolor": "blue",
         "line": {
          "color": "blue"
         },
         "mode": "lines",
         "name": "region United Kingdom",
         "opacity": 0.15,
         "type": "scatter",
         "x": [
          1,
          2,
          3,
          4,
          5,
          6,
          7,
          8,
          9,
          10,
          11,
          12,
          13,
          14,
          15,
          16,
          17,
          18,
          19,
          20,
          21,
          22,
          23,
          24,
          25,
          26,
          27,
          28,
          29,
          30,
          31,
          32,
          33,
          34,
          35,
          36,
          37,
          38,
          39,
          40,
          41,
          42,
          43,
          44,
          45,
          46,
          47,
          48,
          49,
          50,
          51,
          52,
          53,
          54,
          55,
          56,
          57,
          58,
          59,
          60,
          61,
          62,
          63,
          64,
          65,
          66,
          67,
          68,
          69,
          70,
          71,
          72,
          73,
          74,
          75,
          76,
          77,
          78,
          79,
          80,
          81,
          82,
          83,
          84,
          85,
          86,
          87,
          88,
          89,
          90,
          91,
          92,
          93,
          94,
          95,
          96,
          97,
          98,
          99,
          100,
          100,
          99,
          98,
          97,
          96,
          95,
          94,
          93,
          92,
          91,
          90,
          89,
          88,
          87,
          86,
          85,
          84,
          83,
          82,
          81,
          80,
          79,
          78,
          77,
          76,
          75,
          74,
          73,
          72,
          71,
          70,
          69,
          68,
          67,
          66,
          65,
          64,
          63,
          62,
          61,
          60,
          59,
          58,
          57,
          56,
          55,
          54,
          53,
          52,
          51,
          50,
          49,
          48,
          47,
          46,
          45,
          44,
          43,
          42,
          41,
          40,
          39,
          38,
          37,
          36,
          35,
          34,
          33,
          32,
          31,
          30,
          29,
          28,
          27,
          26,
          25,
          24,
          23,
          22,
          21,
          20,
          19,
          18,
          17,
          16,
          15,
          14,
          13,
          12,
          11,
          10,
          9,
          8,
          7,
          6,
          5,
          4,
          3,
          2,
          1
         ],
         "y": [
          1.80411727491581,
          4.0546282178352016,
          6.3875242868215505,
          8.608614230940827,
          10.6405796312974,
          12.510012345903181,
          14.298244111240917,
          16.090928183787454,
          17.94992431234376,
          19.910487740430742,
          21.987960501196163,
          24.189658830419265,
          26.521203520490847,
          28.99090517687511,
          31.608674135501026,
          34.385553234053624,
          37.333104722830385,
          40.46215074098992,
          43.78272391461159,
          47.304032271927674,
          51.03445388440215,
          54.98100127103571,
          59.15067352401533,
          63.54997726743816,
          68.18393124674556,
          73.05582960629654,
          78.16718602336617,
          83.51774489632648,
          89.10552227111012,
          94.92677058888589,
          100.83920081306523,
          107.20454780522255,
          113.84548944403613,
          120.67758315671016,
          127.69243677256173,
          134.87070336332698,
          142.18482455743478,
          149.6002164504591,
          157.07864694483868,
          164.58086228191593,
          172.0672895254595,
          179.49781625598575,
          186.83156092208017,
          194.02696029486913,
          201.04238207493694,
          207.8352639033249,
          214.4074718634733,
          221.30990189870192,
          227.9526522063808,
          234.29851637292103,
          240.31298904723837,
          245.9647833342408,
          251.22602473662468,
          256.0721555187032,
          260.4819045049071,
          264.43719875535515,
          267.92365227385005,
          270.931465315864,
          273.45466146611494,
          275.4908245793763,
          277.04323503453963,
          278.11589886600586,
          278.7159714171425,
          278.85336571389655,
          278.54043700397847,
          277.7936306325746,
          276.6314576882272,
          275.07391183260256,
          273.142071431299,
          270.8581640119857,
          268.2455024627145,
          265.3282762810472,
          262.1314386375898,
          258.6803178526404,
          255.00044155269046,
          251.1174167909323,
          247.05646099121063,
          242.84224785965162,
          238.49878147593705,
          234.04940245586266,
          229.51662789905555,
          224.92207421151073,
          220.28641397537805,
          215.6292829540215,
          210.96908693455546,
          206.3230369065283,
          201.70712431304733,
          197.13605194950782,
          192.62327418817878,
          188.18102450044444,
          183.82034165978595,
          179.5510958940257,
          175.38201539544187,
          171.3207352961069,
          167.37385456692718,
          163.5468530916529,
          159.84422052018843,
          156.26959009328797,
          152.82582258918842,
          149.51506080981733,
          73.57919812524486,
          75.22359440861658,
          76.96978477745681,
          78.81990117628878,
          80.77579669752149,
          82.83900641617974,
          85.01070221836774,
          87.29163393804845,
          89.68204234721952,
          92.18159259738651,
          94.78932597374066,
          97.50357519806649,
          100.32183050273909,
          103.24073005539705,
          106.2560042731984,
          108.8792603976978,
          111.52497449105961,
          114.21284258158505,
          116.93511100338652,
          119.68314680885892,
          122.44754398992276,
          125.21809199635422,
          127.98378288958303,
          130.73282997456934,
          133.45270695915013,
          136.13019099262712,
          138.7514200030357,
          141.30193976880008,
          143.76675426531818,
          146.1304448481274,
          148.37730450880824,
          150.49140142387026,
          152.45671416481005,
          154.25714835079566,
          155.87653562742935,
          157.29882827258137,
          158.5084582080101,
          159.49098430836366,
          160.23269010315667,
          160.72105839531574,
          160.9447041626356,
          160.89343169302595,
          160.556271234693,
          159.92556962783627,
          158.99531317618772,
          157.76163977710726,
          156.2243041416306,
          154.38482353170411,
          152.24719341495071,
          149.81796811867545,
          147.10633473227406,
          144.12416557857537,
          140.8860255103619,
          137.40906947068893,
          133.7127275272489,
          129.8182822246523,
          125.74825106842664,
          121.52632241456274,
          117.17730889775096,
          112.72718268419693,
          108.20304221141271,
          103.63290689058687,
          99.04413109190966,
          94.46344180487941,
          89.91752493231603,
          85.43091212210712,
          81.02354913794952,
          76.70809051781931,
          72.44452873644437,
          67.6536808241917,
          63.02692470315988,
          58.537986069756386,
          54.27169432600753,
          50.23101450360069,
          46.41610940793503,
          42.82562049828809,
          39.456136189557576,
          36.302813337655614,
          33.35936108872326,
          30.61806680047461,
          28.069921699158485,
          25.70505752286243,
          23.514277159234826,
          21.487375449691328,
          19.613853367298333,
          17.88301960936414,
          16.28429535011583,
          14.808013606542692,
          13.445828556107625,
          12.19059318584355,
          11.035809723908784,
          9.97205631661407,
          8.982819214501182,
          8.037133217240427,
          7.087157254846539,
          6.072719247553641,
          4.941064610614036,
          3.678514519629101,
          2.3378902979288863,
          1.040383330035845
         ]
        },
        {
         "line": {
          "color": "red"
         },
         "mode": "lines",
         "name": "region France",
         "type": "scatter",
         "x": [
          1,
          2,
          3,
          4,
          5,
          6,
          7,
          8,
          9,
          10,
          11,
          12,
          13,
          14,
          15,
          16,
          17,
          18,
          19,
          20,
          21,
          22,
          23,
          24,
          25,
          26,
          27,
          28,
          29,
          30,
          31,
          32,
          33,
          34,
          35,
          36,
          37,
          38,
          39,
          40,
          41,
          42,
          43,
          44,
          45,
          46,
          47,
          48,
          49,
          50,
          51,
          52,
          53,
          54,
          55,
          56,
          57,
          58,
          59,
          60,
          61,
          62,
          63,
          64,
          65,
          66,
          67,
          68,
          69,
          70,
          71,
          72,
          73,
          74,
          75,
          76,
          77,
          78,
          79,
          80,
          81,
          82,
          83,
          84,
          85,
          86,
          87,
          88,
          89,
          90,
          91,
          92,
          93,
          94,
          95,
          96,
          97,
          98,
          99,
          100
         ],
         "y": [
          1.4983078041050215,
          3.3678188789870087,
          5.313626289451953,
          7.19526708398739,
          8.97731362255094,
          10.70923515468856,
          12.478889760266057,
          14.369905015416773,
          16.440811814825693,
          18.726099323153356,
          21.244772978744535,
          24.01143629251529,
          27.04191031267076,
          30.35549181034689,
          33.97332477840813,
          37.91745390457011,
          42.209168421496905,
          46.867606578277,
          51.90914193182551,
          57.34702457192886,
          63.19126001497382,
          69.44894339139914,
          76.12240913588911,
          83.20813584989577,
          90.6965031418851,
          98.57168979323038,
          106.81127312173406,
          115.38486806659685,
          124.2541245393141,
          133.37337511399463,
          142.57654423837485,
          151.85571293871536,
          161.16853834082244,
          170.45958402820816,
          179.6635581500226,
          188.70709032218724,
          197.5118877690678,
          205.99908346669798,
          214.093012907873,
          221.72403754838606,
          228.83057289942622,
          235.35963914381244,
          241.26686516931304,
          246.5166391051897,
          251.0825771874302,
          254.9479587661738,
          258.10497392345377,
          260.5540698880106,
          262.30333531540333,
          263.36784722376893,
          263.76904873308166,
          263.5334070554573,
          262.6915449172677,
          261.27706502257865,
          259.325809711307,
          256.87538436459096,
          253.96459524645815,
          250.63290130148832,
          246.91993970588712,
          242.86508895762415,
          238.5093277035077,
          233.89066924423506,
          229.0463196872348,
          224.01264247670665,
          218.8249421368821,
          213.51733038403688,
          208.12266809671502,
          202.67244057958317,
          197.19659990163774,
          191.7233770755781,
          186.27908048076307,
          180.88801820462905,
          175.57241912107224,
          170.35240093244565,
          165.24596019804375,
          160.26892123690516,
          155.4349701670423,
          150.7557279402025,
          146.24081572920747,
          141.89796488156972,
          137.7331177133398,
          133.75055300042112,
          129.95306934518257,
          126.34214663310314,
          122.918099009176,
          119.68021177885467,
          116.62686687910474,
          113.75568660101202,
          111.06366361950235,
          108.54727028466039,
          106.20257272123794,
          104.0253142695236,
          102.01099278190095,
          100.15493298322806,
          98.45235220982931,
          96.89841534937035,
          95.48827917332078,
          94.21713206098556,
          93.0802255947885,
          92.07289987797401
         ]
        },
        {
         "fill": "toself",
         "fillcolor": "red",
         "line": {
          "color": "red"
         },
         "mode": "lines",
         "name": "region France",
         "opacity": 0.15,
         "type": "scatter",
         "x": [
          1,
          2,
          3,
          4,
          5,
          6,
          7,
          8,
          9,
          10,
          11,
          12,
          13,
          14,
          15,
          16,
          17,
          18,
          19,
          20,
          21,
          22,
          23,
          24,
          25,
          26,
          27,
          28,
          29,
          30,
          31,
          32,
          33,
          34,
          35,
          36,
          37,
          38,
          39,
          40,
          41,
          42,
          43,
          44,
          45,
          46,
          47,
          48,
          49,
          50,
          51,
          52,
          53,
          54,
          55,
          56,
          57,
          58,
          59,
          60,
          61,
          62,
          63,
          64,
          65,
          66,
          67,
          68,
          69,
          70,
          71,
          72,
          73,
          74,
          75,
          76,
          77,
          78,
          79,
          80,
          81,
          82,
          83,
          84,
          85,
          86,
          87,
          88,
          89,
          90,
          91,
          92,
          93,
          94,
          95,
          96,
          97,
          98,
          99,
          100,
          100,
          99,
          98,
          97,
          96,
          95,
          94,
          93,
          92,
          91,
          90,
          89,
          88,
          87,
          86,
          85,
          84,
          83,
          82,
          81,
          80,
          79,
          78,
          77,
          76,
          75,
          74,
          73,
          72,
          71,
          70,
          69,
          68,
          67,
          66,
          65,
          64,
          63,
          62,
          61,
          60,
          59,
          58,
          57,
          56,
          55,
          54,
          53,
          52,
          51,
          50,
          49,
          48,
          47,
          46,
          45,
          44,
          43,
          42,
          41,
          40,
          39,
          38,
          37,
          36,
          35,
          34,
          33,
          32,
          31,
          30,
          29,
          28,
          27,
          26,
          25,
          24,
          23,
          22,
          21,
          20,
          19,
          18,
          17,
          16,
          15,
          14,
          13,
          12,
          11,
          10,
          9,
          8,
          7,
          6,
          5,
          4,
          3,
          2,
          1
         ],
         "y": [
          1.7775949992105453,
          3.9959519872210167,
          6.310259686993873,
          8.565583257039094,
          10.731233979334311,
          12.870319695466025,
          15.083532690452687,
          17.461708980651615,
          20.064929152483963,
          22.92715591820797,
          26.067120680874197,
          29.501061124765947,
          33.247855013410735,
          37.331186963800135,
          41.776035214955556,
          46.607552244574975,
          51.849411253216516,
          57.52254930487458,
          63.64451131621021,
          70.22928368532781,
          77.2864778907329,
          84.82296690857535,
          92.84090134516046,
          101.33571792517762,
          110.29571194542005,
          119.70201735887167,
          129.52900833628024,
          139.7425290319034,
          150.29911071036707,
          161.14726628857974,
          172.0935483827661,
          183.13262884408604,
          194.32017830169448,
          206.09075512835904,
          217.8239970053088,
          229.42672004585867,
          240.80066917828185,
          251.8465815974489,
          262.4677591341566,
          272.571884048619,
          282.07444407213984,
          290.9009547292066,
          298.9872589541442,
          306.2793572605851,
          312.7330181710147,
          318.31752971649917,
          323.01408133221605,
          326.8144422525299,
          329.7203916055053,
          331.7432677370362,
          332.902711358312,
          333.2271604867642,
          332.7514561356273,
          331.51449659592976,
          329.55847304331144,
          326.92850798024665,
          323.6722615800395,
          319.83893460685226,
          315.4787576612206,
          310.6417875516792,
          305.3798568293679,
          299.74170258891166,
          293.77541248654427,
          287.5282399633225,
          281.0463845815074,
          274.3746679196299,
          267.55636291167906,
          260.6330797467753,
          253.64462365998466,
          246.62887591742808,
          239.6215383757133,
          232.6558768754391,
          225.76230035208366,
          218.96867087762243,
          212.3003751988402,
          205.78004240266742,
          199.4275702714754,
          193.2601831153846,
          187.29247271802862,
          181.53660074588075,
          176.00218291086898,
          170.6965574315447,
          165.62503207997716,
          160.79115515047835,
          156.19688464376924,
          151.84271271018343,
          147.72777850874965,
          143.8501227354305,
          140.20673574821345,
          136.79385845868228,
          133.60714323740547,
          130.64176067401556,
          127.8924805626145,
          125.35375482361373,
          123.0198062193557,
          120.88471525702411,
          118.9425130474465,
          117.23280393095666,
          115.7211264535979,
          114.37439913353221,
          63.28143195796238,
          63.73963071248317,
          64.28357864640257,
          64.91743491403604,
          65.64552530883896,
          66.47233208870338,
          67.40248306717294,
          68.44074253530131,
          69.59200376568475,
          70.86125018556865,
          72.2535204872176,
          73.77386190936625,
          75.42729023648086,
          77.2187277040902,
          79.15294199488785,
          81.2344425026003,
          83.46740523705701,
          85.85557854548848,
          88.40212205165226,
          91.10946891949773,
          93.97909883730279,
          97.01140814274392,
          100.20558823857795,
          103.5595306551703,
          107.06968120878535,
          110.36853268263879,
          113.72086916586794,
          117.17108343207707,
          120.70913640104993,
          124.323458405102,
          128.00092232061317,
          131.72683855944834,
          135.48512853126402,
          139.258349700935,
          143.0276624875985,
          146.77273862584642,
          150.4721831496156,
          154.10368599887198,
          157.64400275865347,
          161.06894957368667,
          164.3533503311176,
          167.47111862435037,
          170.3934213493751,
          173.09270533678196,
          175.54108467772338,
          177.71039227846808,
          179.57221984561113,
          181.0980766400661,
          182.25995734035877,
          183.03115015641984,
          183.38665102413043,
          183.30364731940676,
          182.76172213774913,
          181.74323333602248,
          180.23435370217257,
          178.2274497145005,
          175.719922231044,
          172.71512207627998,
          169.2224715445128,
          165.2577736324322,
          160.8436978738314,
          156.01093829917937,
          150.7965641704442,
          145.24407150868893,
          139.40317824039712,
          133.32826358510317,
          127.07444603066918,
          120.6919175629063,
          114.22429882818558,
          107.70856323012143,
          101.17489234948799,
          94.49825785505185,
          87.234428994898,
          80.23884797313515,
          73.54844292224084,
          67.19188931008058,
          61.189563640102094,
          55.55393992378436,
          50.29092595282959,
          45.40099399956502,
          40.87952163163346,
          36.71692005101604,
          32.89922368986948,
          29.41064256221708,
          26.233387500189405,
          23.347686408749308,
          20.732479703868258,
          18.366625365717432,
          16.230631774775624,
          14.307132333377735,
          12.581159680301498,
          11.038008724849472,
          9.658642274185564,
          8.411607939168809,
          7.247795058459897,
          6.10159296894065,
          4.907666763711304,
          3.632117828021219,
          2.3039430226981525,
          1.0250886848916376
         ]
        }
       ],
       "layout": {
        "boxmode": "group",
        "legend": {
         "orientation": "h",
         "x": 1,
         "xanchor": "right",
         "y": 1.02,
         "yanchor": "bottom"
        },
        "plot_bgcolor": "white",
        "template": {
         "data": {
          "bar": [
           {
            "error_x": {
             "color": "#2a3f5f"
            },
            "error_y": {
             "color": "#2a3f5f"
            },
            "marker": {
             "line": {
              "color": "#E5ECF6",
              "width": 0.5
             },
             "pattern": {
              "fillmode": "overlay",
              "size": 10,
              "solidity": 0.2
             }
            },
            "type": "bar"
           }
          ],
          "barpolar": [
           {
            "marker": {
             "line": {
              "color": "#E5ECF6",
              "width": 0.5
             },
             "pattern": {
              "fillmode": "overlay",
              "size": 10,
              "solidity": 0.2
             }
            },
            "type": "barpolar"
           }
          ],
          "carpet": [
           {
            "aaxis": {
             "endlinecolor": "#2a3f5f",
             "gridcolor": "white",
             "linecolor": "white",
             "minorgridcolor": "white",
             "startlinecolor": "#2a3f5f"
            },
            "baxis": {
             "endlinecolor": "#2a3f5f",
             "gridcolor": "white",
             "linecolor": "white",
             "minorgridcolor": "white",
             "startlinecolor": "#2a3f5f"
            },
            "type": "carpet"
           }
          ],
          "choropleth": [
           {
            "colorbar": {
             "outlinewidth": 0,
             "ticks": ""
            },
            "type": "choropleth"
           }
          ],
          "contour": [
           {
            "colorbar": {
             "outlinewidth": 0,
             "ticks": ""
            },
            "colorscale": [
             [
              0,
              "#0d0887"
             ],
             [
              0.1111111111111111,
              "#46039f"
             ],
             [
              0.2222222222222222,
              "#7201a8"
             ],
             [
              0.3333333333333333,
              "#9c179e"
             ],
             [
              0.4444444444444444,
              "#bd3786"
             ],
             [
              0.5555555555555556,
              "#d8576b"
             ],
             [
              0.6666666666666666,
              "#ed7953"
             ],
             [
              0.7777777777777778,
              "#fb9f3a"
             ],
             [
              0.8888888888888888,
              "#fdca26"
             ],
             [
              1,
              "#f0f921"
             ]
            ],
            "type": "contour"
           }
          ],
          "contourcarpet": [
           {
            "colorbar": {
             "outlinewidth": 0,
             "ticks": ""
            },
            "type": "contourcarpet"
           }
          ],
          "heatmap": [
           {
            "colorbar": {
             "outlinewidth": 0,
             "ticks": ""
            },
            "colorscale": [
             [
              0,
              "#0d0887"
             ],
             [
              0.1111111111111111,
              "#46039f"
             ],
             [
              0.2222222222222222,
              "#7201a8"
             ],
             [
              0.3333333333333333,
              "#9c179e"
             ],
             [
              0.4444444444444444,
              "#bd3786"
             ],
             [
              0.5555555555555556,
              "#d8576b"
             ],
             [
              0.6666666666666666,
              "#ed7953"
             ],
             [
              0.7777777777777778,
              "#fb9f3a"
             ],
             [
              0.8888888888888888,
              "#fdca26"
             ],
             [
              1,
              "#f0f921"
             ]
            ],
            "type": "heatmap"
           }
          ],
          "heatmapgl": [
           {
            "colorbar": {
             "outlinewidth": 0,
             "ticks": ""
            },
            "colorscale": [
             [
              0,
              "#0d0887"
             ],
             [
              0.1111111111111111,
              "#46039f"
             ],
             [
              0.2222222222222222,
              "#7201a8"
             ],
             [
              0.3333333333333333,
              "#9c179e"
             ],
             [
              0.4444444444444444,
              "#bd3786"
             ],
             [
              0.5555555555555556,
              "#d8576b"
             ],
             [
              0.6666666666666666,
              "#ed7953"
             ],
             [
              0.7777777777777778,
              "#fb9f3a"
             ],
             [
              0.8888888888888888,
              "#fdca26"
             ],
             [
              1,
              "#f0f921"
             ]
            ],
            "type": "heatmapgl"
           }
          ],
          "histogram": [
           {
            "marker": {
             "pattern": {
              "fillmode": "overlay",
              "size": 10,
              "solidity": 0.2
             }
            },
            "type": "histogram"
           }
          ],
          "histogram2d": [
           {
            "colorbar": {
             "outlinewidth": 0,
             "ticks": ""
            },
            "colorscale": [
             [
              0,
              "#0d0887"
             ],
             [
              0.1111111111111111,
              "#46039f"
             ],
             [
              0.2222222222222222,
              "#7201a8"
             ],
             [
              0.3333333333333333,
              "#9c179e"
             ],
             [
              0.4444444444444444,
              "#bd3786"
             ],
             [
              0.5555555555555556,
              "#d8576b"
             ],
             [
              0.6666666666666666,
              "#ed7953"
             ],
             [
              0.7777777777777778,
              "#fb9f3a"
             ],
             [
              0.8888888888888888,
              "#fdca26"
             ],
             [
              1,
              "#f0f921"
             ]
            ],
            "type": "histogram2d"
           }
          ],
          "histogram2dcontour": [
           {
            "colorbar": {
             "outlinewidth": 0,
             "ticks": ""
            },
            "colorscale": [
             [
              0,
              "#0d0887"
             ],
             [
              0.1111111111111111,
              "#46039f"
             ],
             [
              0.2222222222222222,
              "#7201a8"
             ],
             [
              0.3333333333333333,
              "#9c179e"
             ],
             [
              0.4444444444444444,
              "#bd3786"
             ],
             [
              0.5555555555555556,
              "#d8576b"
             ],
             [
              0.6666666666666666,
              "#ed7953"
             ],
             [
              0.7777777777777778,
              "#fb9f3a"
             ],
             [
              0.8888888888888888,
              "#fdca26"
             ],
             [
              1,
              "#f0f921"
             ]
            ],
            "type": "histogram2dcontour"
           }
          ],
          "mesh3d": [
           {
            "colorbar": {
             "outlinewidth": 0,
             "ticks": ""
            },
            "type": "mesh3d"
           }
          ],
          "parcoords": [
           {
            "line": {
             "colorbar": {
              "outlinewidth": 0,
              "ticks": ""
             }
            },
            "type": "parcoords"
           }
          ],
          "pie": [
           {
            "automargin": true,
            "type": "pie"
           }
          ],
          "scatter": [
           {
            "fillpattern": {
             "fillmode": "overlay",
             "size": 10,
             "solidity": 0.2
            },
            "type": "scatter"
           }
          ],
          "scatter3d": [
           {
            "line": {
             "colorbar": {
              "outlinewidth": 0,
              "ticks": ""
             }
            },
            "marker": {
             "colorbar": {
              "outlinewidth": 0,
              "ticks": ""
             }
            },
            "type": "scatter3d"
           }
          ],
          "scattercarpet": [
           {
            "marker": {
             "colorbar": {
              "outlinewidth": 0,
              "ticks": ""
             }
            },
            "type": "scattercarpet"
           }
          ],
          "scattergeo": [
           {
            "marker": {
             "colorbar": {
              "outlinewidth": 0,
              "ticks": ""
             }
            },
            "type": "scattergeo"
           }
          ],
          "scattergl": [
           {
            "marker": {
             "colorbar": {
              "outlinewidth": 0,
              "ticks": ""
             }
            },
            "type": "scattergl"
           }
          ],
          "scattermapbox": [
           {
            "marker": {
             "colorbar": {
              "outlinewidth": 0,
              "ticks": ""
             }
            },
            "type": "scattermapbox"
           }
          ],
          "scatterpolar": [
           {
            "marker": {
             "colorbar": {
              "outlinewidth": 0,
              "ticks": ""
             }
            },
            "type": "scatterpolar"
           }
          ],
          "scatterpolargl": [
           {
            "marker": {
             "colorbar": {
              "outlinewidth": 0,
              "ticks": ""
             }
            },
            "type": "scatterpolargl"
           }
          ],
          "scatterternary": [
           {
            "marker": {
             "colorbar": {
              "outlinewidth": 0,
              "ticks": ""
             }
            },
            "type": "scatterternary"
           }
          ],
          "surface": [
           {
            "colorbar": {
             "outlinewidth": 0,
             "ticks": ""
            },
            "colorscale": [
             [
              0,
              "#0d0887"
             ],
             [
              0.1111111111111111,
              "#46039f"
             ],
             [
              0.2222222222222222,
              "#7201a8"
             ],
             [
              0.3333333333333333,
              "#9c179e"
             ],
             [
              0.4444444444444444,
              "#bd3786"
             ],
             [
              0.5555555555555556,
              "#d8576b"
             ],
             [
              0.6666666666666666,
              "#ed7953"
             ],
             [
              0.7777777777777778,
              "#fb9f3a"
             ],
             [
              0.8888888888888888,
              "#fdca26"
             ],
             [
              1,
              "#f0f921"
             ]
            ],
            "type": "surface"
           }
          ],
          "table": [
           {
            "cells": {
             "fill": {
              "color": "#EBF0F8"
             },
             "line": {
              "color": "white"
             }
            },
            "header": {
             "fill": {
              "color": "#C8D4E3"
             },
             "line": {
              "color": "white"
             }
            },
            "type": "table"
           }
          ]
         },
         "layout": {
          "annotationdefaults": {
           "arrowcolor": "#2a3f5f",
           "arrowhead": 0,
           "arrowwidth": 1
          },
          "autotypenumbers": "strict",
          "coloraxis": {
           "colorbar": {
            "outlinewidth": 0,
            "ticks": ""
           }
          },
          "colorscale": {
           "diverging": [
            [
             0,
             "#8e0152"
            ],
            [
             0.1,
             "#c51b7d"
            ],
            [
             0.2,
             "#de77ae"
            ],
            [
             0.3,
             "#f1b6da"
            ],
            [
             0.4,
             "#fde0ef"
            ],
            [
             0.5,
             "#f7f7f7"
            ],
            [
             0.6,
             "#e6f5d0"
            ],
            [
             0.7,
             "#b8e186"
            ],
            [
             0.8,
             "#7fbc41"
            ],
            [
             0.9,
             "#4d9221"
            ],
            [
             1,
             "#276419"
            ]
           ],
           "sequential": [
            [
             0,
             "#0d0887"
            ],
            [
             0.1111111111111111,
             "#46039f"
            ],
            [
             0.2222222222222222,
             "#7201a8"
            ],
            [
             0.3333333333333333,
             "#9c179e"
            ],
            [
             0.4444444444444444,
             "#bd3786"
            ],
            [
             0.5555555555555556,
             "#d8576b"
            ],
            [
             0.6666666666666666,
             "#ed7953"
            ],
            [
             0.7777777777777778,
             "#fb9f3a"
            ],
            [
             0.8888888888888888,
             "#fdca26"
            ],
            [
             1,
             "#f0f921"
            ]
           ],
           "sequentialminus": [
            [
             0,
             "#0d0887"
            ],
            [
             0.1111111111111111,
             "#46039f"
            ],
            [
             0.2222222222222222,
             "#7201a8"
            ],
            [
             0.3333333333333333,
             "#9c179e"
            ],
            [
             0.4444444444444444,
             "#bd3786"
            ],
            [
             0.5555555555555556,
             "#d8576b"
            ],
            [
             0.6666666666666666,
             "#ed7953"
            ],
            [
             0.7777777777777778,
             "#fb9f3a"
            ],
            [
             0.8888888888888888,
             "#fdca26"
            ],
            [
             1,
             "#f0f921"
            ]
           ]
          },
          "colorway": [
           "#636efa",
           "#EF553B",
           "#00cc96",
           "#ab63fa",
           "#FFA15A",
           "#19d3f3",
           "#FF6692",
           "#B6E880",
           "#FF97FF",
           "#FECB52"
          ],
          "font": {
           "color": "#2a3f5f"
          },
          "geo": {
           "bgcolor": "white",
           "lakecolor": "white",
           "landcolor": "#E5ECF6",
           "showlakes": true,
           "showland": true,
           "subunitcolor": "white"
          },
          "hoverlabel": {
           "align": "left"
          },
          "hovermode": "closest",
          "mapbox": {
           "style": "light"
          },
          "paper_bgcolor": "white",
          "plot_bgcolor": "#E5ECF6",
          "polar": {
           "angularaxis": {
            "gridcolor": "white",
            "linecolor": "white",
            "ticks": ""
           },
           "bgcolor": "#E5ECF6",
           "radialaxis": {
            "gridcolor": "white",
            "linecolor": "white",
            "ticks": ""
           }
          },
          "scene": {
           "xaxis": {
            "backgroundcolor": "#E5ECF6",
            "gridcolor": "white",
            "gridwidth": 2,
            "linecolor": "white",
            "showbackground": true,
            "ticks": "",
            "zerolinecolor": "white"
           },
           "yaxis": {
            "backgroundcolor": "#E5ECF6",
            "gridcolor": "white",
            "gridwidth": 2,
            "linecolor": "white",
            "showbackground": true,
            "ticks": "",
            "zerolinecolor": "white"
           },
           "zaxis": {
            "backgroundcolor": "#E5ECF6",
            "gridcolor": "white",
            "gridwidth": 2,
            "linecolor": "white",
            "showbackground": true,
            "ticks": "",
            "zerolinecolor": "white"
           }
          },
          "shapedefaults": {
           "line": {
            "color": "#2a3f5f"
           }
          },
          "ternary": {
           "aaxis": {
            "gridcolor": "white",
            "linecolor": "white",
            "ticks": ""
           },
           "baxis": {
            "gridcolor": "white",
            "linecolor": "white",
            "ticks": ""
           },
           "bgcolor": "#E5ECF6",
           "caxis": {
            "gridcolor": "white",
            "linecolor": "white",
            "ticks": ""
           }
          },
          "title": {
           "x": 0.05
          },
          "xaxis": {
           "automargin": true,
           "gridcolor": "white",
           "linecolor": "white",
           "ticks": "",
           "title": {
            "standoff": 15
           },
           "zerolinecolor": "white",
           "zerolinewidth": 2
          },
          "yaxis": {
           "automargin": true,
           "gridcolor": "white",
           "linecolor": "white",
           "ticks": "",
           "title": {
            "standoff": 15
           },
           "zerolinecolor": "white",
           "zerolinewidth": 2
          }
         }
        },
        "title": {
         "text": "Deaths for Scenario: Prioritise those 60-70 then 50-60, then 75+"
        },
        "width": 800,
        "xaxis": {
         "linecolor": "black"
        },
        "yaxis": {
         "linecolor": "black"
        }
       }
      }
     },
     "metadata": {},
     "output_type": "display_data"
    },
    {
     "data": {
      "application/vnd.plotly.v1+json": {
       "config": {
        "plotlyServerURL": "https://plot.ly"
       },
       "data": [
        {
         "line": {
          "color": "blue"
         },
         "mode": "lines",
         "name": "region United Kingdom",
         "type": "scatter",
         "x": [
          1,
          2,
          3,
          4,
          5,
          6,
          7,
          8,
          9,
          10,
          11,
          12,
          13,
          14,
          15,
          16,
          17,
          18,
          19,
          20,
          21,
          22,
          23,
          24,
          25,
          26,
          27,
          28,
          29,
          30,
          31,
          32,
          33,
          34,
          35,
          36,
          37,
          38,
          39,
          40,
          41,
          42,
          43,
          44,
          45,
          46,
          47,
          48,
          49,
          50,
          51,
          52,
          53,
          54,
          55,
          56,
          57,
          58,
          59,
          60,
          61,
          62,
          63,
          64,
          65,
          66,
          67,
          68,
          69,
          70,
          71,
          72,
          73,
          74,
          75,
          76,
          77,
          78,
          79,
          80,
          81,
          82,
          83,
          84,
          85,
          86,
          87,
          88,
          89,
          90,
          91,
          92,
          93,
          94,
          95,
          96,
          97,
          98,
          99,
          100
         ],
         "y": [
          1.5206630271392183,
          3.4173593113682323,
          5.3801519215371805,
          7.238151052046039,
          8.91922952923581,
          10.443233949002538,
          11.881356294204709,
          13.31187908211148,
          14.79406058998693,
          16.363602565605042,
          18.03741923937669,
          19.823798930989113,
          21.72823119967406,
          23.757723539008744,
          25.920703137768882,
          28.226959836042983,
          30.68692542386814,
          33.31072913436076,
          36.10794599563546,
          39.08748808469037,
          42.25742961071385,
          45.625016650045126,
          49.1974499830158,
          52.9810088079465,
          56.98058226716964,
          61.19950222505593,
          65.63950248573632,
          70.30069795411667,
          75.18154541636108,
          80.27857848788338,
          85.47117421075252,
          90.80333225965596,
          96.28847722790071,
          101.93166792654628,
          107.72939472130474,
          113.66831009652704,
          119.7268844801456,
          125.87810500443669,
          132.09185343490688,
          138.33679821949372,
          144.58124020100433,
          150.7929756370546,
          156.939357790693,
          162.98729929104056,
          168.9034599686047,
          174.65440270347702,
          180.20719015595338,
          185.53045627507038,
          190.59477359796895,
          195.37288234092009,
          199.8399861775908,
          203.97391762460117,
          207.75537471816008,
          211.1682088941929,
          214.19952729341097,
          216.8396873325222,
          219.08234201997598,
          220.92434784408965,
          222.36568082922463,
          223.4090816919311,
          224.0622501860299,
          224.3331276653702,
          224.23217772414588,
          223.77170223157032,
          222.96569659326985,
          221.82991184810453,
          220.38146328553674,
          218.63856799855003,
          216.6204865063702,
          214.3471753183243,
          211.83913344740083,
          209.11722184147573,
          206.20241032593097,
          203.11566574792803,
          199.87772649235595,
          196.50900532224972,
          193.02949419076293,
          189.45857782759725,
          185.81495492678707,
          182.11657533959615,
          178.380549108522,
          174.62310538860598,
          170.85954053254193,
          167.1041688515597,
          163.37028636289165,
          159.6701630094011,
          156.01503828768165,
          152.415111980208,
          148.87955549895779,
          145.4165654662102,
          142.03337681514057,
          138.73627611613338,
          135.530648981325,
          132.42105756022625,
          129.41129259199747,
          126.50440989558795,
          123.70279590951235,
          121.00822398251168,
          118.42189244708543,
          115.94447561875273
         ]
        },
        {
         "fill": "toself",
         "fillcolor": "blue",
         "line": {
          "color": "blue"
         },
         "mode": "lines",
         "name": "region United Kingdom",
         "opacity": 0.15,
         "type": "scatter",
         "x": [
          1,
          2,
          3,
          4,
          5,
          6,
          7,
          8,
          9,
          10,
          11,
          12,
          13,
          14,
          15,
          16,
          17,
          18,
          19,
          20,
          21,
          22,
          23,
          24,
          25,
          26,
          27,
          28,
          29,
          30,
          31,
          32,
          33,
          34,
          35,
          36,
          37,
          38,
          39,
          40,
          41,
          42,
          43,
          44,
          45,
          46,
          47,
          48,
          49,
          50,
          51,
          52,
          53,
          54,
          55,
          56,
          57,
          58,
          59,
          60,
          61,
          62,
          63,
          64,
          65,
          66,
          67,
          68,
          69,
          70,
          71,
          72,
          73,
          74,
          75,
          76,
          77,
          78,
          79,
          80,
          81,
          82,
          83,
          84,
          85,
          86,
          87,
          88,
          89,
          90,
          91,
          92,
          93,
          94,
          95,
          96,
          97,
          98,
          99,
          100,
          100,
          99,
          98,
          97,
          96,
          95,
          94,
          93,
          92,
          91,
          90,
          89,
          88,
          87,
          86,
          85,
          84,
          83,
          82,
          81,
          80,
          79,
          78,
          77,
          76,
          75,
          74,
          73,
          72,
          71,
          70,
          69,
          68,
          67,
          66,
          65,
          64,
          63,
          62,
          61,
          60,
          59,
          58,
          57,
          56,
          55,
          54,
          53,
          52,
          51,
          50,
          49,
          48,
          47,
          46,
          45,
          44,
          43,
          42,
          41,
          40,
          39,
          38,
          37,
          36,
          35,
          34,
          33,
          32,
          31,
          30,
          29,
          28,
          27,
          26,
          25,
          24,
          23,
          22,
          21,
          20,
          19,
          18,
          17,
          16,
          15,
          14,
          13,
          12,
          11,
          10,
          9,
          8,
          7,
          6,
          5,
          4,
          3,
          2,
          1
         ],
         "y": [
          1.80411727491581,
          4.0546282178352016,
          6.3875242868215505,
          8.608614230940827,
          10.6405796312974,
          12.510012345903181,
          14.298244111240917,
          16.090928183787454,
          17.94992431234376,
          19.910487740430742,
          21.987960501196163,
          24.189658830419265,
          26.521203520490847,
          28.99090517687511,
          31.608674135501026,
          34.385553234053624,
          37.333104722830385,
          40.46215074098992,
          43.78272391461159,
          47.304032271927674,
          51.03445388440215,
          54.98100127103571,
          59.15067352401533,
          63.54997726743816,
          68.18393124674556,
          73.05582960629654,
          78.16718602336617,
          83.51774489632648,
          89.10552227111012,
          94.92677058888589,
          100.83920081306523,
          107.20454780522255,
          113.84548944403613,
          120.67758315671016,
          127.69243677256173,
          134.87070336332698,
          142.18482455743478,
          149.6002164504591,
          157.07864694483868,
          164.58086228191593,
          172.0672895254595,
          179.49781625598575,
          186.83156092208017,
          194.02696029486913,
          201.04238207493694,
          207.8352639033249,
          214.4074718634733,
          221.30990189870192,
          227.9526522063808,
          234.29851637292103,
          240.31298904723837,
          245.9647833342408,
          251.22602473662468,
          256.0721555187032,
          260.4819045049071,
          264.43719875535515,
          267.92365227385005,
          270.931465315864,
          273.45466146611494,
          275.4908245793763,
          277.04323503453963,
          278.11589886600586,
          278.7159714171425,
          278.85336571389655,
          278.54043700397847,
          277.7936306325746,
          276.6314576882272,
          275.07391183260256,
          273.142071431299,
          270.8581640119857,
          268.2455024627145,
          265.3282762810472,
          262.1314386375898,
          258.6803178526404,
          255.00044155269046,
          251.1174167909323,
          247.05646099121063,
          242.84224785965162,
          238.49878147593705,
          234.04940245586266,
          229.51662789905555,
          224.92207421151073,
          220.28641397537805,
          215.6292829540215,
          210.96908693455546,
          206.3230369065283,
          201.70712431304733,
          197.13605194950782,
          192.62327418817878,
          188.18102450044444,
          183.82034165978595,
          179.5510958940257,
          175.38201539544187,
          171.3207352961069,
          167.37385456692718,
          163.5468530916529,
          159.84422052018843,
          156.26959009328797,
          152.82582258918842,
          149.51506080981733,
          73.57919812524486,
          75.22359440861658,
          76.96978477745681,
          78.81990117628878,
          80.77579669752149,
          82.83900641617974,
          85.01070221836774,
          87.29163393804845,
          89.68204234721952,
          92.18159259738651,
          94.78932597374066,
          97.50357519806649,
          100.32183050273909,
          103.24073005539705,
          106.2560042731984,
          108.8792603976978,
          111.52497449105961,
          114.21284258158505,
          116.93511100338652,
          119.68314680885892,
          122.44754398992276,
          125.21809199635422,
          127.98378288958303,
          130.73282997456934,
          133.45270695915013,
          136.13019099262712,
          138.7514200030357,
          141.30193976880008,
          143.76675426531818,
          146.1304448481274,
          148.37730450880824,
          150.49140142387026,
          152.45671416481005,
          154.25714835079566,
          155.87653562742935,
          157.29882827258137,
          158.5084582080101,
          159.49098430836366,
          160.23269010315667,
          160.72105839531574,
          160.9447041626356,
          160.89343169302595,
          160.556271234693,
          159.92556962783627,
          158.99531317618772,
          157.76163977710726,
          156.2243041416306,
          154.38482353170411,
          152.24719341495071,
          149.81796811867545,
          147.10633473227406,
          144.12416557857537,
          140.8860255103619,
          137.40906947068893,
          133.7127275272489,
          129.8182822246523,
          125.74825106842664,
          121.52632241456274,
          117.17730889775096,
          112.72718268419693,
          108.20304221141271,
          103.63290689058687,
          99.04413109190966,
          94.46344180487941,
          89.91752493231603,
          85.43091212210712,
          81.02354913794952,
          76.70809051781931,
          72.44452873644437,
          67.6536808241917,
          63.02692470315988,
          58.537986069756386,
          54.27169432600753,
          50.23101450360069,
          46.41610940793503,
          42.82562049828809,
          39.456136189557576,
          36.302813337655614,
          33.35936108872326,
          30.61806680047461,
          28.069921699158485,
          25.70505752286243,
          23.514277159234826,
          21.487375449691328,
          19.613853367298333,
          17.88301960936414,
          16.28429535011583,
          14.808013606542692,
          13.445828556107625,
          12.19059318584355,
          11.035809723908784,
          9.97205631661407,
          8.982819214501182,
          8.037133217240427,
          7.087157254846539,
          6.072719247553641,
          4.941064610614036,
          3.678514519629101,
          2.3378902979288863,
          1.040383330035845
         ]
        },
        {
         "line": {
          "color": "red"
         },
         "mode": "lines",
         "name": "region France",
         "type": "scatter",
         "x": [
          1,
          2,
          3,
          4,
          5,
          6,
          7,
          8,
          9,
          10,
          11,
          12,
          13,
          14,
          15,
          16,
          17,
          18,
          19,
          20,
          21,
          22,
          23,
          24,
          25,
          26,
          27,
          28,
          29,
          30,
          31,
          32,
          33,
          34,
          35,
          36,
          37,
          38,
          39,
          40,
          41,
          42,
          43,
          44,
          45,
          46,
          47,
          48,
          49,
          50,
          51,
          52,
          53,
          54,
          55,
          56,
          57,
          58,
          59,
          60,
          61,
          62,
          63,
          64,
          65,
          66,
          67,
          68,
          69,
          70,
          71,
          72,
          73,
          74,
          75,
          76,
          77,
          78,
          79,
          80,
          81,
          82,
          83,
          84,
          85,
          86,
          87,
          88,
          89,
          90,
          91,
          92,
          93,
          94,
          95,
          96,
          97,
          98,
          99,
          100
         ],
         "y": [
          1.4983078041050215,
          3.3678188789870087,
          5.313626289451953,
          7.19526708398739,
          8.97731362255094,
          10.70923515468856,
          12.478889760266057,
          14.369905015416773,
          16.440811814825693,
          18.726099323153356,
          21.244772978744535,
          24.01143629251529,
          27.04191031267076,
          30.35549181034689,
          33.97332477840813,
          37.91745390457011,
          42.209168421496905,
          46.867606578277,
          51.90914193182551,
          57.34702457192886,
          63.19126001497382,
          69.44894339139914,
          76.12240913588911,
          83.20813584989577,
          90.6965031418851,
          98.57168979323038,
          106.81127312173406,
          115.38486806659685,
          124.2541245393141,
          133.37337511399463,
          142.57654423837485,
          151.85571293871536,
          161.16853834082244,
          170.45958402820816,
          179.6635581500226,
          188.70709032218724,
          197.5118877690678,
          205.99908346669798,
          214.093012907873,
          221.72403754838606,
          228.83057289942622,
          235.35963914381244,
          241.26686516931304,
          246.5166391051897,
          251.0825771874302,
          254.9479587661738,
          258.10497392345377,
          260.5540698880106,
          262.30333531540333,
          263.36784722376893,
          263.76904873308166,
          263.5334070554573,
          262.6915449172677,
          261.27706502257865,
          259.325809711307,
          256.87538436459096,
          253.96459524645815,
          250.63290130148832,
          246.91993970588712,
          242.86508895762415,
          238.5093277035077,
          233.89066924423506,
          229.0463196872348,
          224.01264247670665,
          218.8249421368821,
          213.51733038403688,
          208.12266809671502,
          202.67244057958317,
          197.19659990163774,
          191.7233770755781,
          186.27908048076307,
          180.88801820462905,
          175.57241912107224,
          170.35240093244565,
          165.24596019804375,
          160.26892123690516,
          155.4349701670423,
          150.7557279402025,
          146.24081572920747,
          141.89796488156972,
          137.7331177133398,
          133.75055300042112,
          129.95306934518257,
          126.34214663310314,
          122.918099009176,
          119.68021177885467,
          116.62686687910474,
          113.75568660101202,
          111.06366361950235,
          108.54727028466039,
          106.20257272123794,
          104.0253142695236,
          102.01099278190095,
          100.15493298322806,
          98.45235220982931,
          96.89841534937035,
          95.48827917332078,
          94.21713206098556,
          93.0802255947885,
          92.07289987797401
         ]
        },
        {
         "fill": "toself",
         "fillcolor": "red",
         "line": {
          "color": "red"
         },
         "mode": "lines",
         "name": "region France",
         "opacity": 0.15,
         "type": "scatter",
         "x": [
          1,
          2,
          3,
          4,
          5,
          6,
          7,
          8,
          9,
          10,
          11,
          12,
          13,
          14,
          15,
          16,
          17,
          18,
          19,
          20,
          21,
          22,
          23,
          24,
          25,
          26,
          27,
          28,
          29,
          30,
          31,
          32,
          33,
          34,
          35,
          36,
          37,
          38,
          39,
          40,
          41,
          42,
          43,
          44,
          45,
          46,
          47,
          48,
          49,
          50,
          51,
          52,
          53,
          54,
          55,
          56,
          57,
          58,
          59,
          60,
          61,
          62,
          63,
          64,
          65,
          66,
          67,
          68,
          69,
          70,
          71,
          72,
          73,
          74,
          75,
          76,
          77,
          78,
          79,
          80,
          81,
          82,
          83,
          84,
          85,
          86,
          87,
          88,
          89,
          90,
          91,
          92,
          93,
          94,
          95,
          96,
          97,
          98,
          99,
          100,
          100,
          99,
          98,
          97,
          96,
          95,
          94,
          93,
          92,
          91,
          90,
          89,
          88,
          87,
          86,
          85,
          84,
          83,
          82,
          81,
          80,
          79,
          78,
          77,
          76,
          75,
          74,
          73,
          72,
          71,
          70,
          69,
          68,
          67,
          66,
          65,
          64,
          63,
          62,
          61,
          60,
          59,
          58,
          57,
          56,
          55,
          54,
          53,
          52,
          51,
          50,
          49,
          48,
          47,
          46,
          45,
          44,
          43,
          42,
          41,
          40,
          39,
          38,
          37,
          36,
          35,
          34,
          33,
          32,
          31,
          30,
          29,
          28,
          27,
          26,
          25,
          24,
          23,
          22,
          21,
          20,
          19,
          18,
          17,
          16,
          15,
          14,
          13,
          12,
          11,
          10,
          9,
          8,
          7,
          6,
          5,
          4,
          3,
          2,
          1
         ],
         "y": [
          1.7775949992105453,
          3.9959519872210167,
          6.310259686993873,
          8.565583257039094,
          10.731233979334311,
          12.870319695466025,
          15.083532690452687,
          17.461708980651615,
          20.064929152483963,
          22.92715591820797,
          26.067120680874197,
          29.501061124765947,
          33.247855013410735,
          37.331186963800135,
          41.776035214955556,
          46.607552244574975,
          51.849411253216516,
          57.52254930487458,
          63.64451131621021,
          70.22928368532781,
          77.2864778907329,
          84.82296690857535,
          92.84090134516046,
          101.33571792517762,
          110.29571194542005,
          119.70201735887167,
          129.52900833628024,
          139.7425290319034,
          150.29911071036707,
          161.14726628857974,
          172.0935483827661,
          183.13262884408604,
          194.32017830169448,
          206.09075512835904,
          217.8239970053088,
          229.42672004585867,
          240.80066917828185,
          251.8465815974489,
          262.4677591341566,
          272.571884048619,
          282.07444407213984,
          290.9009547292066,
          298.9872589541442,
          306.2793572605851,
          312.7330181710147,
          318.31752971649917,
          323.01408133221605,
          326.8144422525299,
          329.7203916055053,
          331.7432677370362,
          332.902711358312,
          333.2271604867642,
          332.7514561356273,
          331.51449659592976,
          329.55847304331144,
          326.92850798024665,
          323.6722615800395,
          319.83893460685226,
          315.4787576612206,
          310.6417875516792,
          305.3798568293679,
          299.74170258891166,
          293.77541248654427,
          287.5282399633225,
          281.0463845815074,
          274.3746679196299,
          267.55636291167906,
          260.6330797467753,
          253.64462365998466,
          246.62887591742808,
          239.6215383757133,
          232.6558768754391,
          225.76230035208366,
          218.96867087762243,
          212.3003751988402,
          205.78004240266742,
          199.4275702714754,
          193.2601831153846,
          187.29247271802862,
          181.53660074588075,
          176.00218291086898,
          170.6965574315447,
          165.62503207997716,
          160.79115515047835,
          156.19688464376924,
          151.84271271018343,
          147.72777850874965,
          143.8501227354305,
          140.20673574821345,
          136.79385845868228,
          133.60714323740547,
          130.64176067401556,
          127.8924805626145,
          125.35375482361373,
          123.0198062193557,
          120.88471525702411,
          118.9425130474465,
          117.23280393095666,
          115.7211264535979,
          114.37439913353221,
          63.28143195796238,
          63.73963071248317,
          64.28357864640257,
          64.91743491403604,
          65.64552530883896,
          66.47233208870338,
          67.40248306717294,
          68.44074253530131,
          69.59200376568475,
          70.86125018556865,
          72.2535204872176,
          73.77386190936625,
          75.42729023648086,
          77.2187277040902,
          79.15294199488785,
          81.2344425026003,
          83.46740523705701,
          85.85557854548848,
          88.40212205165226,
          91.10946891949773,
          93.97909883730279,
          97.01140814274392,
          100.20558823857795,
          103.5595306551703,
          107.06968120878535,
          110.36853268263879,
          113.72086916586794,
          117.17108343207707,
          120.70913640104993,
          124.323458405102,
          128.00092232061317,
          131.72683855944834,
          135.48512853126402,
          139.258349700935,
          143.0276624875985,
          146.77273862584642,
          150.4721831496156,
          154.10368599887198,
          157.64400275865347,
          161.06894957368667,
          164.3533503311176,
          167.47111862435037,
          170.3934213493751,
          173.09270533678196,
          175.54108467772338,
          177.71039227846808,
          179.57221984561113,
          181.0980766400661,
          182.25995734035877,
          183.03115015641984,
          183.38665102413043,
          183.30364731940676,
          182.76172213774913,
          181.74323333602248,
          180.23435370217257,
          178.2274497145005,
          175.719922231044,
          172.71512207627998,
          169.2224715445128,
          165.2577736324322,
          160.8436978738314,
          156.01093829917937,
          150.7965641704442,
          145.24407150868893,
          139.40317824039712,
          133.32826358510317,
          127.07444603066918,
          120.6919175629063,
          114.22429882818558,
          107.70856323012143,
          101.17489234948799,
          94.49825785505185,
          87.234428994898,
          80.23884797313515,
          73.54844292224084,
          67.19188931008058,
          61.189563640102094,
          55.55393992378436,
          50.29092595282959,
          45.40099399956502,
          40.87952163163346,
          36.71692005101604,
          32.89922368986948,
          29.41064256221708,
          26.233387500189405,
          23.347686408749308,
          20.732479703868258,
          18.366625365717432,
          16.230631774775624,
          14.307132333377735,
          12.581159680301498,
          11.038008724849472,
          9.658642274185564,
          8.411607939168809,
          7.247795058459897,
          6.10159296894065,
          4.907666763711304,
          3.632117828021219,
          2.3039430226981525,
          1.0250886848916376
         ]
        }
       ],
       "layout": {
        "boxmode": "group",
        "legend": {
         "orientation": "h",
         "x": 1,
         "xanchor": "right",
         "y": 1.02,
         "yanchor": "bottom"
        },
        "plot_bgcolor": "white",
        "template": {
         "data": {
          "bar": [
           {
            "error_x": {
             "color": "#2a3f5f"
            },
            "error_y": {
             "color": "#2a3f5f"
            },
            "marker": {
             "line": {
              "color": "#E5ECF6",
              "width": 0.5
             },
             "pattern": {
              "fillmode": "overlay",
              "size": 10,
              "solidity": 0.2
             }
            },
            "type": "bar"
           }
          ],
          "barpolar": [
           {
            "marker": {
             "line": {
              "color": "#E5ECF6",
              "width": 0.5
             },
             "pattern": {
              "fillmode": "overlay",
              "size": 10,
              "solidity": 0.2
             }
            },
            "type": "barpolar"
           }
          ],
          "carpet": [
           {
            "aaxis": {
             "endlinecolor": "#2a3f5f",
             "gridcolor": "white",
             "linecolor": "white",
             "minorgridcolor": "white",
             "startlinecolor": "#2a3f5f"
            },
            "baxis": {
             "endlinecolor": "#2a3f5f",
             "gridcolor": "white",
             "linecolor": "white",
             "minorgridcolor": "white",
             "startlinecolor": "#2a3f5f"
            },
            "type": "carpet"
           }
          ],
          "choropleth": [
           {
            "colorbar": {
             "outlinewidth": 0,
             "ticks": ""
            },
            "type": "choropleth"
           }
          ],
          "contour": [
           {
            "colorbar": {
             "outlinewidth": 0,
             "ticks": ""
            },
            "colorscale": [
             [
              0,
              "#0d0887"
             ],
             [
              0.1111111111111111,
              "#46039f"
             ],
             [
              0.2222222222222222,
              "#7201a8"
             ],
             [
              0.3333333333333333,
              "#9c179e"
             ],
             [
              0.4444444444444444,
              "#bd3786"
             ],
             [
              0.5555555555555556,
              "#d8576b"
             ],
             [
              0.6666666666666666,
              "#ed7953"
             ],
             [
              0.7777777777777778,
              "#fb9f3a"
             ],
             [
              0.8888888888888888,
              "#fdca26"
             ],
             [
              1,
              "#f0f921"
             ]
            ],
            "type": "contour"
           }
          ],
          "contourcarpet": [
           {
            "colorbar": {
             "outlinewidth": 0,
             "ticks": ""
            },
            "type": "contourcarpet"
           }
          ],
          "heatmap": [
           {
            "colorbar": {
             "outlinewidth": 0,
             "ticks": ""
            },
            "colorscale": [
             [
              0,
              "#0d0887"
             ],
             [
              0.1111111111111111,
              "#46039f"
             ],
             [
              0.2222222222222222,
              "#7201a8"
             ],
             [
              0.3333333333333333,
              "#9c179e"
             ],
             [
              0.4444444444444444,
              "#bd3786"
             ],
             [
              0.5555555555555556,
              "#d8576b"
             ],
             [
              0.6666666666666666,
              "#ed7953"
             ],
             [
              0.7777777777777778,
              "#fb9f3a"
             ],
             [
              0.8888888888888888,
              "#fdca26"
             ],
             [
              1,
              "#f0f921"
             ]
            ],
            "type": "heatmap"
           }
          ],
          "heatmapgl": [
           {
            "colorbar": {
             "outlinewidth": 0,
             "ticks": ""
            },
            "colorscale": [
             [
              0,
              "#0d0887"
             ],
             [
              0.1111111111111111,
              "#46039f"
             ],
             [
              0.2222222222222222,
              "#7201a8"
             ],
             [
              0.3333333333333333,
              "#9c179e"
             ],
             [
              0.4444444444444444,
              "#bd3786"
             ],
             [
              0.5555555555555556,
              "#d8576b"
             ],
             [
              0.6666666666666666,
              "#ed7953"
             ],
             [
              0.7777777777777778,
              "#fb9f3a"
             ],
             [
              0.8888888888888888,
              "#fdca26"
             ],
             [
              1,
              "#f0f921"
             ]
            ],
            "type": "heatmapgl"
           }
          ],
          "histogram": [
           {
            "marker": {
             "pattern": {
              "fillmode": "overlay",
              "size": 10,
              "solidity": 0.2
             }
            },
            "type": "histogram"
           }
          ],
          "histogram2d": [
           {
            "colorbar": {
             "outlinewidth": 0,
             "ticks": ""
            },
            "colorscale": [
             [
              0,
              "#0d0887"
             ],
             [
              0.1111111111111111,
              "#46039f"
             ],
             [
              0.2222222222222222,
              "#7201a8"
             ],
             [
              0.3333333333333333,
              "#9c179e"
             ],
             [
              0.4444444444444444,
              "#bd3786"
             ],
             [
              0.5555555555555556,
              "#d8576b"
             ],
             [
              0.6666666666666666,
              "#ed7953"
             ],
             [
              0.7777777777777778,
              "#fb9f3a"
             ],
             [
              0.8888888888888888,
              "#fdca26"
             ],
             [
              1,
              "#f0f921"
             ]
            ],
            "type": "histogram2d"
           }
          ],
          "histogram2dcontour": [
           {
            "colorbar": {
             "outlinewidth": 0,
             "ticks": ""
            },
            "colorscale": [
             [
              0,
              "#0d0887"
             ],
             [
              0.1111111111111111,
              "#46039f"
             ],
             [
              0.2222222222222222,
              "#7201a8"
             ],
             [
              0.3333333333333333,
              "#9c179e"
             ],
             [
              0.4444444444444444,
              "#bd3786"
             ],
             [
              0.5555555555555556,
              "#d8576b"
             ],
             [
              0.6666666666666666,
              "#ed7953"
             ],
             [
              0.7777777777777778,
              "#fb9f3a"
             ],
             [
              0.8888888888888888,
              "#fdca26"
             ],
             [
              1,
              "#f0f921"
             ]
            ],
            "type": "histogram2dcontour"
           }
          ],
          "mesh3d": [
           {
            "colorbar": {
             "outlinewidth": 0,
             "ticks": ""
            },
            "type": "mesh3d"
           }
          ],
          "parcoords": [
           {
            "line": {
             "colorbar": {
              "outlinewidth": 0,
              "ticks": ""
             }
            },
            "type": "parcoords"
           }
          ],
          "pie": [
           {
            "automargin": true,
            "type": "pie"
           }
          ],
          "scatter": [
           {
            "fillpattern": {
             "fillmode": "overlay",
             "size": 10,
             "solidity": 0.2
            },
            "type": "scatter"
           }
          ],
          "scatter3d": [
           {
            "line": {
             "colorbar": {
              "outlinewidth": 0,
              "ticks": ""
             }
            },
            "marker": {
             "colorbar": {
              "outlinewidth": 0,
              "ticks": ""
             }
            },
            "type": "scatter3d"
           }
          ],
          "scattercarpet": [
           {
            "marker": {
             "colorbar": {
              "outlinewidth": 0,
              "ticks": ""
             }
            },
            "type": "scattercarpet"
           }
          ],
          "scattergeo": [
           {
            "marker": {
             "colorbar": {
              "outlinewidth": 0,
              "ticks": ""
             }
            },
            "type": "scattergeo"
           }
          ],
          "scattergl": [
           {
            "marker": {
             "colorbar": {
              "outlinewidth": 0,
              "ticks": ""
             }
            },
            "type": "scattergl"
           }
          ],
          "scattermapbox": [
           {
            "marker": {
             "colorbar": {
              "outlinewidth": 0,
              "ticks": ""
             }
            },
            "type": "scattermapbox"
           }
          ],
          "scatterpolar": [
           {
            "marker": {
             "colorbar": {
              "outlinewidth": 0,
              "ticks": ""
             }
            },
            "type": "scatterpolar"
           }
          ],
          "scatterpolargl": [
           {
            "marker": {
             "colorbar": {
              "outlinewidth": 0,
              "ticks": ""
             }
            },
            "type": "scatterpolargl"
           }
          ],
          "scatterternary": [
           {
            "marker": {
             "colorbar": {
              "outlinewidth": 0,
              "ticks": ""
             }
            },
            "type": "scatterternary"
           }
          ],
          "surface": [
           {
            "colorbar": {
             "outlinewidth": 0,
             "ticks": ""
            },
            "colorscale": [
             [
              0,
              "#0d0887"
             ],
             [
              0.1111111111111111,
              "#46039f"
             ],
             [
              0.2222222222222222,
              "#7201a8"
             ],
             [
              0.3333333333333333,
              "#9c179e"
             ],
             [
              0.4444444444444444,
              "#bd3786"
             ],
             [
              0.5555555555555556,
              "#d8576b"
             ],
             [
              0.6666666666666666,
              "#ed7953"
             ],
             [
              0.7777777777777778,
              "#fb9f3a"
             ],
             [
              0.8888888888888888,
              "#fdca26"
             ],
             [
              1,
              "#f0f921"
             ]
            ],
            "type": "surface"
           }
          ],
          "table": [
           {
            "cells": {
             "fill": {
              "color": "#EBF0F8"
             },
             "line": {
              "color": "white"
             }
            },
            "header": {
             "fill": {
              "color": "#C8D4E3"
             },
             "line": {
              "color": "white"
             }
            },
            "type": "table"
           }
          ]
         },
         "layout": {
          "annotationdefaults": {
           "arrowcolor": "#2a3f5f",
           "arrowhead": 0,
           "arrowwidth": 1
          },
          "autotypenumbers": "strict",
          "coloraxis": {
           "colorbar": {
            "outlinewidth": 0,
            "ticks": ""
           }
          },
          "colorscale": {
           "diverging": [
            [
             0,
             "#8e0152"
            ],
            [
             0.1,
             "#c51b7d"
            ],
            [
             0.2,
             "#de77ae"
            ],
            [
             0.3,
             "#f1b6da"
            ],
            [
             0.4,
             "#fde0ef"
            ],
            [
             0.5,
             "#f7f7f7"
            ],
            [
             0.6,
             "#e6f5d0"
            ],
            [
             0.7,
             "#b8e186"
            ],
            [
             0.8,
             "#7fbc41"
            ],
            [
             0.9,
             "#4d9221"
            ],
            [
             1,
             "#276419"
            ]
           ],
           "sequential": [
            [
             0,
             "#0d0887"
            ],
            [
             0.1111111111111111,
             "#46039f"
            ],
            [
             0.2222222222222222,
             "#7201a8"
            ],
            [
             0.3333333333333333,
             "#9c179e"
            ],
            [
             0.4444444444444444,
             "#bd3786"
            ],
            [
             0.5555555555555556,
             "#d8576b"
            ],
            [
             0.6666666666666666,
             "#ed7953"
            ],
            [
             0.7777777777777778,
             "#fb9f3a"
            ],
            [
             0.8888888888888888,
             "#fdca26"
            ],
            [
             1,
             "#f0f921"
            ]
           ],
           "sequentialminus": [
            [
             0,
             "#0d0887"
            ],
            [
             0.1111111111111111,
             "#46039f"
            ],
            [
             0.2222222222222222,
             "#7201a8"
            ],
            [
             0.3333333333333333,
             "#9c179e"
            ],
            [
             0.4444444444444444,
             "#bd3786"
            ],
            [
             0.5555555555555556,
             "#d8576b"
            ],
            [
             0.6666666666666666,
             "#ed7953"
            ],
            [
             0.7777777777777778,
             "#fb9f3a"
            ],
            [
             0.8888888888888888,
             "#fdca26"
            ],
            [
             1,
             "#f0f921"
            ]
           ]
          },
          "colorway": [
           "#636efa",
           "#EF553B",
           "#00cc96",
           "#ab63fa",
           "#FFA15A",
           "#19d3f3",
           "#FF6692",
           "#B6E880",
           "#FF97FF",
           "#FECB52"
          ],
          "font": {
           "color": "#2a3f5f"
          },
          "geo": {
           "bgcolor": "white",
           "lakecolor": "white",
           "landcolor": "#E5ECF6",
           "showlakes": true,
           "showland": true,
           "subunitcolor": "white"
          },
          "hoverlabel": {
           "align": "left"
          },
          "hovermode": "closest",
          "mapbox": {
           "style": "light"
          },
          "paper_bgcolor": "white",
          "plot_bgcolor": "#E5ECF6",
          "polar": {
           "angularaxis": {
            "gridcolor": "white",
            "linecolor": "white",
            "ticks": ""
           },
           "bgcolor": "#E5ECF6",
           "radialaxis": {
            "gridcolor": "white",
            "linecolor": "white",
            "ticks": ""
           }
          },
          "scene": {
           "xaxis": {
            "backgroundcolor": "#E5ECF6",
            "gridcolor": "white",
            "gridwidth": 2,
            "linecolor": "white",
            "showbackground": true,
            "ticks": "",
            "zerolinecolor": "white"
           },
           "yaxis": {
            "backgroundcolor": "#E5ECF6",
            "gridcolor": "white",
            "gridwidth": 2,
            "linecolor": "white",
            "showbackground": true,
            "ticks": "",
            "zerolinecolor": "white"
           },
           "zaxis": {
            "backgroundcolor": "#E5ECF6",
            "gridcolor": "white",
            "gridwidth": 2,
            "linecolor": "white",
            "showbackground": true,
            "ticks": "",
            "zerolinecolor": "white"
           }
          },
          "shapedefaults": {
           "line": {
            "color": "#2a3f5f"
           }
          },
          "ternary": {
           "aaxis": {
            "gridcolor": "white",
            "linecolor": "white",
            "ticks": ""
           },
           "baxis": {
            "gridcolor": "white",
            "linecolor": "white",
            "ticks": ""
           },
           "bgcolor": "#E5ECF6",
           "caxis": {
            "gridcolor": "white",
            "linecolor": "white",
            "ticks": ""
           }
          },
          "title": {
           "x": 0.05
          },
          "xaxis": {
           "automargin": true,
           "gridcolor": "white",
           "linecolor": "white",
           "ticks": "",
           "title": {
            "standoff": 15
           },
           "zerolinecolor": "white",
           "zerolinewidth": 2
          },
          "yaxis": {
           "automargin": true,
           "gridcolor": "white",
           "linecolor": "white",
           "ticks": "",
           "title": {
            "standoff": 15
           },
           "zerolinecolor": "white",
           "zerolinewidth": 2
          }
         }
        },
        "title": {
         "text": "Deaths for Scenario: Prioritise those 50-60 then 60-70, then 75+"
        },
        "width": 800,
        "xaxis": {
         "linecolor": "black"
        },
        "yaxis": {
         "linecolor": "black"
        }
       }
      }
     },
     "metadata": {},
     "output_type": "display_data"
    }
   ],
   "source": [
    "# Trace names - represent the solver used for the simulation\n",
    "trace_name = ['region {}'.format(r) for r in regions]\n",
    "\n",
    "# Plot for each boosting scenario\n",
    "for s, scenario in enumerate(scenario_names):\n",
    "    fig = go.Figure()\n",
    "    # Plot (line plot for each solver method for each age)\n",
    "    for r, reg in enumerate(regions):\n",
    "        fig.add_trace(\n",
    "            go.Scatter(\n",
    "                y=total_new_deaths_mean[r][s, :],\n",
    "                x=parameters.simulation_parameters.times,\n",
    "                mode='lines',\n",
    "                name=trace_name[r],\n",
    "                line_color=colours[r],\n",
    "            )\n",
    "        )\n",
    "\n",
    "        fig.add_trace(\n",
    "            go.Scatter(\n",
    "                y=total_new_deaths_upper[r][s, :].tolist() + total_new_deaths_lower[r][s, :].tolist()[::-1],\n",
    "                x=parameters.simulation_parameters.times + parameters.simulation_parameters.times[::-1],\n",
    "                mode='lines',\n",
    "                name=trace_name[r],\n",
    "                fill='toself',\n",
    "                fillcolor=colours[r],\n",
    "                line_color=colours[r],\n",
    "                opacity=0.15,\n",
    "            )\n",
    "        )\n",
    "\n",
    "    # Add axis labels\n",
    "    fig.update_layout(\n",
    "        boxmode='group',\n",
    "        title='Deaths for Scenario: {}'.format(scenario),\n",
    "        width=800,\n",
    "        plot_bgcolor='white',\n",
    "        xaxis=dict(linecolor='black'),\n",
    "        yaxis=dict(linecolor='black'),\n",
    "        legend=dict(\n",
    "            orientation=\"h\",\n",
    "            yanchor=\"bottom\",\n",
    "            y=1.02,\n",
    "            xanchor=\"right\",\n",
    "            x=1\n",
    "        ))\n",
    "\n",
    "    fig.write_image('images/Deaths Scenario {}.pdf'.format(s+1))\n",
    "    fig.show()"
   ]
  }
 ],
 "metadata": {
  "interpreter": {
   "hash": "68071bb08c320916033ffa6702342928cea5ba8baa6ee7305e5c9ae08c2309c8"
  },
  "kernelspec": {
   "display_name": "Python 3.10.8 64-bit ('warwick': conda)",
   "name": "python3"
  },
  "language_info": {
   "codemirror_mode": {
    "name": "ipython",
    "version": 3
   },
   "file_extension": ".py",
   "mimetype": "text/x-python",
   "name": "python",
   "nbconvert_exporter": "python",
   "pygments_lexer": "ipython3",
   "version": "3.10.8"
  },
  "orig_nbformat": 4
 },
 "nbformat": 4,
 "nbformat_minor": 2
}
