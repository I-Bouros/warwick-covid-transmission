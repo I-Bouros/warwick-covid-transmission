{
 "cells": [
  {
   "cell_type": "markdown",
   "metadata": {},
   "source": [
    "# REPORT 1 - Economic considerations of different boosting priority strategies\n",
    "\n",
    "In this notebook we compute the economic burdens of different age-priority boosting strategies, using the `warwickmodel`, built by Universities of Warwick and Lancaster, with population data from 5 countries with very different socio-economic profiles.\n",
    "\n",
    "The effectiveness cost of boosters is quantified in terms of reductions in total amount of years of life lost due to boosyer vaccines deploymnet. We assume an initial boosting campaign in the population, with no subsequent boosters being deployed during the simulation. \n",
    "\n",
    "The infection dynamics are run for:\n",
    " - Dates: **15 Feb 2020** - **25 June 2021**;\n",
    " - Countries of interest: **United Kingdom**, **France**;\n",
    " - Number of boosters deployed: **10%** of the population.\n",
    "\n",
    "*The Warwick model is built by Universities of Warwick and Lancaster.*"
   ]
  },
  {
   "cell_type": "code",
   "execution_count": 1,
   "metadata": {},
   "outputs": [],
   "source": [
    "# Load necessary libraries\n",
    "import os\n",
    "import numpy as np\n",
    "import pandas as pd\n",
    "import scipy\n",
    "import epimodels as em\n",
    "import warwickmodel as wm\n",
    "import matplotlib\n",
    "import plotly.graph_objects as go\n",
    "from matplotlib import pyplot as plt\n",
    "from iteration_utilities import deepflatten"
   ]
  },
  {
   "cell_type": "markdown",
   "metadata": {},
   "source": [
    "## Model Setup\n",
    "### Define setup matrices for the WarwickLanc Model"
   ]
  },
  {
   "cell_type": "code",
   "execution_count": 2,
   "metadata": {},
   "outputs": [],
   "source": [
    "# Populate the model\n",
    "total_days =  100\n",
    "regions = ['United Kingdom', 'France']\n",
    "age_groups = ['0-4', '5-9', '10-14', '15-19', '20-24', '25-29', '30-34', '35-39',\n",
    "              '40-44', '45-49', '50-54', '55-59', '60-64', '65-69', '70-74', '75+']\n",
    "\n",
    "matrices_region = []\n",
    "\n",
    "# Initial state of the system\n",
    "weeks_matrices_region = []\n",
    "for r in regions:\n",
    "    path = os.path.join('../data/Contacts_{}.csv'.format(r))\n",
    "    region_data_matrix = pd.read_csv(path, header=None, dtype=np.float64)\n",
    "    regional = em.RegionMatrix(r, age_groups, region_data_matrix)\n",
    "    weeks_matrices_region.append(regional)\n",
    "\n",
    "matrices_region.append(weeks_matrices_region)\n",
    "\n",
    "contacts = em.ContactMatrix(age_groups, np.ones((len(age_groups), len(age_groups))))\n",
    "matrices_contact = [contacts]\n",
    "\n",
    "# Matrices contact\n",
    "time_changes_contact = [1]\n",
    "time_changes_region = [1]"
   ]
  },
  {
   "cell_type": "markdown",
   "metadata": {},
   "source": [
    "### Read in corresponding data files for the countries considered"
   ]
  },
  {
   "cell_type": "code",
   "execution_count": 3,
   "metadata": {},
   "outputs": [],
   "source": [
    "# Add folder path to data file\n",
    "path = os.path.join('../data/')\n",
    "\n",
    "# Risk Factors\n",
    "RF_df = pd.read_csv(os.path.join(path, 'Risks_France.csv'), dtype=np.float64)\n",
    "\n",
    "extended_d = RF_df['symptom_risk'].tolist()\n",
    "extended_beta = RF_df['susceptibility'].tolist()\n",
    "\n",
    "# Vaccine effects\n",
    "eff_df = pd.read_csv(os.path.join(path, 'efficacies.csv'),\n",
    "                     usecols=range(1,5), dtype=np.float64)\n",
    "\n",
    "VE_i = eff_df['Infection_eff']\n",
    "VE_s = eff_df['Symptom_eff']\n",
    "VE_h = eff_df['Hosp_eff']\n",
    "VE_d = eff_df['Death_eff']\n",
    "\n",
    "VE_d = np.divide(VE_d-VE_h, 1-VE_h)\n",
    "VE_h = np.divide(VE_h-VE_i, 1-VE_i)\n",
    "VE_s = np.divide(VE_s-VE_i, 1-VE_i)\n",
    "\n",
    "nu_tra = [1] * 6\n",
    "nu_symp = np.nan_to_num(1 - VE_s).tolist()\n",
    "nu_inf = np.nan_to_num(1 - VE_i).tolist()\n",
    "nu_sev_h = np.nan_to_num(1 - VE_h).tolist()\n",
    "nu_sev_d = np.nan_to_num(1 - VE_d).tolist()\n",
    "\n",
    "# Parameters\n",
    "param_df = pd.read_csv(os.path.join(path, 'parameters.csv'), dtype=np.float64)\n",
    "\n",
    "omega = param_df['transmission'].tolist()[0]\n",
    "# alpha = param_df['e_progression'].tolist()[0]\n",
    "alpha=1\n",
    "gamma = param_df['recovery'].tolist()[0]\n",
    "tau = param_df['asymptomatic_transmission'].tolist()[0]\n",
    "we = [param_df['waning_rate'].tolist()[0]] * 2 + [0]\n",
    "\n",
    "# Initial conditions\n",
    "susceptibles_IC = []\n",
    "exposed1_IC = []\n",
    "exposed2_IC = []\n",
    "exposed3_IC = []\n",
    "exposed4_IC = []\n",
    "exposed5_IC = []\n",
    "infectives_sym_IC = []\n",
    "infectives_asym_IC = []\n",
    "recovered_IC = []\n",
    "\n",
    "# Susceptible\n",
    "for r in regions:\n",
    "        IC_df = pd.read_csv(\n",
    "            os.path.join(path, 'Start_pop_{}.csv'.format(r)),\n",
    "            usecols=range(0, 5),\n",
    "            header=None, dtype=np.float64)\n",
    "\n",
    "        extended_S = np.asarray(IC_df)\n",
    "        under_75_S = extended_S[:15, :]\n",
    "        over_75_S = extended_S[15:, :]\n",
    "        reduced_S = np.vstack((under_75_S, np.sum(over_75_S, axis=0)))\n",
    "        susceptibles_IC.append(\n",
    "                reduced_S.flatten('F').tolist() + [0] * len(age_groups))\n",
    "\n",
    "# Exposed 1\n",
    "for r in regions:\n",
    "        IC_df = pd.read_csv(\n",
    "            os.path.join(path, 'Start_pop_{}.csv'.format(r)),\n",
    "            usecols=range(5, 10),\n",
    "            header=None, dtype=np.float64)\n",
    "\n",
    "        extended_E1 = np.asarray(IC_df)\n",
    "        under_75_E1 = extended_E1[:15, :]\n",
    "        over_75_E1 = extended_E1[15:, :]\n",
    "        reduced_E1 = np.vstack((under_75_E1, np.sum(over_75_E1, axis=0)))\n",
    "        exposed1_IC.append(\n",
    "                reduced_E1.flatten('F').tolist() + [0] * len(age_groups))\n",
    "\n",
    "# Exposed 2\n",
    "for r in regions:\n",
    "        IC_df = pd.read_csv(\n",
    "            os.path.join(path, 'Start_pop_{}.csv'.format(r)),\n",
    "            usecols=range(10, 15),\n",
    "            header=None, dtype=np.float64)\n",
    "\n",
    "        extended_E2 = np.asarray(IC_df)\n",
    "        under_75_E2 = extended_E2[:15, :]\n",
    "        over_75_E2 = extended_E1[15:, :]\n",
    "        reduced_E2 = np.vstack((under_75_E2, np.sum(over_75_E2, axis=0)))\n",
    "        exposed2_IC.append(\n",
    "                reduced_E2.flatten('F').tolist() + [0] * len(age_groups))\n",
    "\n",
    "# Exposed 3\n",
    "for r in regions:\n",
    "        IC_df = pd.read_csv(\n",
    "            os.path.join(path, 'Start_pop_{}.csv'.format(r)),\n",
    "            usecols=range(15, 20),\n",
    "            header=None, dtype=np.float64)\n",
    "\n",
    "        extended_E3 = np.asarray(IC_df)\n",
    "        under_75_E3 = extended_E3[:15, :]\n",
    "        over_75_E3 = extended_E3[15:, :]\n",
    "        reduced_E3 = np.vstack((under_75_E3, np.sum(over_75_E3, axis=0)))\n",
    "        exposed3_IC.append(\n",
    "                reduced_E3.flatten('F').tolist() + [0] * len(age_groups))\n",
    "\n",
    "# Exposed 4\n",
    "for r in regions:\n",
    "        IC_df = pd.read_csv(\n",
    "            os.path.join(path, 'Start_pop_{}.csv'.format(r)),\n",
    "            usecols=range(20, 25),\n",
    "            header=None, dtype=np.float64)\n",
    "\n",
    "        extended_E4 = np.asarray(IC_df)\n",
    "        under_75_E4 = extended_E4[:15, :]\n",
    "        over_75_E4 = extended_E4[15:, :]\n",
    "        reduced_E4 = np.vstack((under_75_E4, np.sum(over_75_E4, axis=0)))\n",
    "        exposed4_IC.append(\n",
    "                reduced_E4.flatten('F').tolist() + [0] * len(age_groups))\n",
    "\n",
    "# Exposed 5\n",
    "for r in regions:\n",
    "        IC_df = pd.read_csv(\n",
    "            os.path.join(path, 'Start_pop_{}.csv'.format(r)),\n",
    "            usecols=range(25, 30),\n",
    "            header=None, dtype=np.float64)\n",
    "\n",
    "        extended_E5 = np.asarray(IC_df)\n",
    "        under_75_E5 = extended_E5[:15, :]\n",
    "        over_75_E5 = extended_E5[15:, :]\n",
    "        reduced_E5 = np.vstack((under_75_E5, np.sum(over_75_E5, axis=0)))\n",
    "        exposed5_IC.append(\n",
    "                reduced_E5.flatten('F').tolist() + [0] * len(age_groups))\n",
    "\n",
    "# Symptomatic & Asymptomatic Infectious\n",
    "for r in regions:\n",
    "        IC_df = pd.read_csv(\n",
    "            os.path.join(path, 'Start_pop_{}.csv'.format(r)),\n",
    "            usecols=range(30, 35),\n",
    "            header=None, dtype=np.float64)\n",
    "\n",
    "        extended_I = np.zeros_like(np.asarray(IC_df))\n",
    "        extended_I[:, 0] = np.matmul(np.diag(nu_symp[0] * np.array(extended_d)), np.asarray(IC_df)[:, 0])\n",
    "        extended_I[:, 1] = np.matmul(np.diag(nu_symp[1] * np.array(extended_d)), np.asarray(IC_df)[:, 1])\n",
    "        extended_I[:, 2] = np.matmul(np.diag(nu_symp[2] * np.array(extended_d)), np.asarray(IC_df)[:, 2])\n",
    "        extended_I[:, 3] = np.matmul(np.diag(nu_symp[3] * np.array(extended_d)), np.asarray(IC_df)[:, 3])\n",
    "        extended_I[:, 4] = np.matmul(np.diag(nu_symp[4] * np.array(extended_d)), np.asarray(IC_df)[:, 4])\n",
    "        extended_I = np.matmul(np.diag(extended_d), np.asarray(IC_df))\n",
    "        under_75_I = extended_I[:15, :]\n",
    "        over_75_I = extended_I[15:, :]\n",
    "        reduced_I = np.vstack((under_75_I, np.sum(over_75_I, axis=0)))\n",
    "        infectives_sym_IC.append(\n",
    "                reduced_I.flatten('F').tolist() + [0] * len(age_groups))\n",
    "\n",
    "        extended_A = np.zeros_like(np.asarray(IC_df))\n",
    "        extended_A[:, 0] = np.matmul(np.diag((1 - nu_symp[0] * np.array(extended_d))), np.asarray(IC_df)[:, 0])\n",
    "        extended_A[:, 1] = np.matmul(np.diag((1 - nu_symp[1] * np.array(extended_d))), np.asarray(IC_df)[:, 1])\n",
    "        extended_A[:, 2] = np.matmul(np.diag((1 - nu_symp[2] * np.array(extended_d))), np.asarray(IC_df)[:, 2])\n",
    "        extended_A[:, 3] = np.matmul(np.diag((1 - nu_symp[3] * np.array(extended_d))), np.asarray(IC_df)[:, 3])\n",
    "        extended_A[:, 4] = np.matmul(np.diag((1 - nu_symp[4] * np.array(extended_d))), np.asarray(IC_df)[:, 4])\n",
    "        under_75_A = extended_A[:15, :]\n",
    "        over_75_A = extended_A[15:, :]\n",
    "        reduced_A = np.vstack((under_75_A, np.sum(over_75_A, axis=0)))\n",
    "        infectives_asym_IC.append(\n",
    "                reduced_A.flatten('F').tolist() + [0] * len(age_groups))\n",
    "\n",
    "# Recovered\n",
    "for r in regions:\n",
    "        IC_df = pd.read_csv(\n",
    "            os.path.join(path, 'Start_pop_{}.csv'.format(r)),\n",
    "            usecols=[35],\n",
    "            header=None, dtype=np.float64)\n",
    "\n",
    "        extended_R = np.asarray(IC_df)\n",
    "        under_75_R = extended_R[:15, :]\n",
    "        over_75_R = extended_R[15:, :]\n",
    "        reduced_R = np.vstack((under_75_R, np.sum(over_75_R, axis=0)))\n",
    "        recovered_IC.append(\n",
    "                reduced_R.flatten('F').tolist())\n",
    "\n",
    "# Over 75 population fractions\n",
    "frac_pop_over75 = []\n",
    "\n",
    "for r in regions:\n",
    "        IC_df = pd.read_csv(os.path.join(path, 'Start_pop_{}.csv'.format(r)),\n",
    "                skiprows=15,\n",
    "                header=None, dtype=np.float64)\n",
    "\n",
    "        frac_pop_over75.append((1/np.sum(np.asarray(IC_df))) * np.sum(np.asarray(IC_df),axis=1))\n",
    "\n",
    "\n",
    "# Compress age-dependent parameters\n",
    "d = []\n",
    "beta = []\n",
    "\n",
    "for r, reg in enumerate(regions):\n",
    "        d.append(extended_d[:15] + [np.sum(np.multiply(extended_d[15:], frac_pop_over75[r]))])\n",
    "        beta.append(extended_beta[:15] + [np.sum(np.multiply(extended_beta[15:], frac_pop_over75[r]))])\n",
    "\n",
    "# Other parameters\n",
    "vac=0\n",
    "vacb=0\n",
    "\n",
    "adult = np.ones(len(age_groups))\n",
    "adult[0] = 0\n",
    "adult[1] = 0\n",
    "adult[2] = 0"
   ]
  },
  {
   "cell_type": "markdown",
   "metadata": {},
   "source": [
    "### Calculate life expectancy for each region"
   ]
  },
  {
   "cell_type": "code",
   "execution_count": 4,
   "metadata": {},
   "outputs": [],
   "source": [
    "# 75-79, 80-84, over 85 population fractions\n",
    "frac_pop_75_80_over85 = []\n",
    "\n",
    "for r, reg in enumerate(regions):\n",
    "        frac_pop_75_80_over85.append(frac_pop_over75[r].tolist()[:2] + [np.sum(frac_pop_over75[r][2:])])\n",
    "\n",
    "# Read region-dependent vectors of years of life lost\n",
    "life_ex = []\n",
    "\n",
    "for r, reg in enumerate(regions):\n",
    "        # Read life expectancy data\n",
    "        LE_df = pd.read_csv(os.path.join(path, 'Life_expectancy_{}.csv'.format(reg)),\n",
    "                usecols=[1, 2], dtype=np.float64)\n",
    "        LE = np.array(LE_df)\n",
    "\n",
    "        # Read age & sex distribution data\n",
    "        ASD_df = pd.read_csv(os.path.join(path, 'Age_sex_distribution_{}.csv'.format(reg)),\n",
    "                usecols=[1, 2], dtype=np.float64)\n",
    "        extended_ASD = np.array(ASD_df)\n",
    "        ASD = np.zeros_like(LE)\n",
    "\n",
    "        # Group the ages of the ASD into the same age groups as the LE\n",
    "        sum_ages = [\n",
    "                0, range(1, 5), range(5, 10), range(10, 15), range(15, 20), range(20, 25), range(25, 30), range(30, 35), range(35, 40), \n",
    "                range(40, 45), range(45, 50), range(50, 55), range(55, 60), range(60, 65), range(65, 70), range(70, 75), range(75, 80), \n",
    "                range(80, 85), range(85, 101)]\n",
    "\n",
    "        ASD[0, :] = extended_ASD[sum_ages[0], :]\n",
    "\n",
    "        for _, ages in enumerate(sum_ages[1:]):\n",
    "                ASD[_ + 1, :] = np.sum(extended_ASD[ages, :], axis=0)\n",
    "\n",
    "        frac_ASD = np.matmul(np.diag(1/np.sum(ASD, axis=1)), ASD)\n",
    "\n",
    "        # Compute the life expectancy of the different age groups\n",
    "        total_LE = np.sum(np.multiply(frac_ASD, LE), axis=1)\n",
    "\n",
    "        # Read Life expectancy data\n",
    "        frac_AD = (1/np.sum(ASD[:2, :]) * np.sum(ASD[:2, :], axis=1)).tolist() + [1] * 14 + (1/np.sum(ASD[16:, :]) * np.sum(ASD[16:, :], axis=1)).tolist()\n",
    "\n",
    "        # Compute the life expectancy of the correct age groups\n",
    "        split_LE = np.multiply(frac_AD, total_LE)\n",
    "        \n",
    "        final_LE = np.zeros(len(age_groups))\n",
    "        final_LE[0] = np.sum(split_LE[:2])\n",
    "        final_LE[1:15] = split_LE[2:16]\n",
    "        final_LE[15] = np.sum(split_LE[16:]).tolist()\n",
    "\n",
    "        life_ex.append(final_LE)\n",
    "      "
   ]
  },
  {
   "cell_type": "markdown",
   "metadata": {},
   "source": [
    "### Calculate maximum number of booster vaccines available"
   ]
  },
  {
   "cell_type": "code",
   "execution_count": 5,
   "metadata": {},
   "outputs": [],
   "source": [
    "# Proportion of the total population for which boosters are available\n",
    "boost_pop_percent = 0.1\n",
    "\n",
    "# Compute the number of boosters for each region\n",
    "boosters = []\n",
    "\n",
    "for r in regions:\n",
    "        IC_df = pd.read_csv(os.path.join(path, 'Start_pop_{}.csv'.format(r)),\n",
    "                header=None, dtype=np.float64)\n",
    "\n",
    "        boosters.append(boost_pop_percent * np.sum(np.asarray(IC_df)))\n"
   ]
  },
  {
   "cell_type": "markdown",
   "metadata": {},
   "source": [
    "## Boosting campaign scenarios\n",
    "\n",
    "We only boost the partially-waned and recovered. However those in the R compartment who receive the booster do not move out of the compartment (they have higher immunity than the boosted)"
   ]
  },
  {
   "cell_type": "code",
   "execution_count": 6,
   "metadata": {},
   "outputs": [],
   "source": [
    "# Maximum percentage booster uptake of each age group\n",
    "boost_age_percent = 0.9\n",
    "\n",
    "# Compute the maximum number of boosters we can deploy for each age group in each region\n",
    "max_boosters = []\n",
    "max_boosters_for_R = []\n",
    "max_boosters_for_Sw1 = []\n",
    "\n",
    "for r, reg in enumerate(regions):\n",
    "        boosters_for_R = boost_age_percent * np.asarray(recovered_IC[r])\n",
    "        boosters_for_Sw1 = boost_age_percent * np.asarray(susceptibles_IC[r])[(3*len(age_groups)):(4*len(age_groups))]\n",
    "\n",
    "        max_boosters_for_R.append(boosters_for_R)\n",
    "        max_boosters_for_Sw1.append(boosters_for_Sw1)\n",
    "        max_boosters.append(boosters_for_R + boosters_for_Sw1)\n",
    "\n",
    "# Create list of new susceptible_ICs for each vaccination scenario\n",
    "scenario_susceptibles_IC = []\n",
    "scenario_names = []\n",
    "age_boosting_scenario_order = []"
   ]
  },
  {
   "cell_type": "markdown",
   "metadata": {},
   "source": [
    "**Scenario 1**: Prioritising those 75+"
   ]
  },
  {
   "cell_type": "code",
   "execution_count": 7,
   "metadata": {},
   "outputs": [],
   "source": [
    "scenario_names.append('Prioritise 75+')\n",
    "age_boosting_scenario_order.append((np.arange(16, 0, -1) - 1).tolist())"
   ]
  },
  {
   "cell_type": "markdown",
   "metadata": {},
   "source": [
    "**Scenario 2**: Prioritising those 60-70 then 75+"
   ]
  },
  {
   "cell_type": "code",
   "execution_count": 8,
   "metadata": {},
   "outputs": [],
   "source": [
    "scenario_names.append('Prioritise 60-70 then 75+')\n",
    "age_boosting_scenario_order.append([range(13, 15), 15] + (np.arange(13, 0, -1) - 1).tolist())"
   ]
  },
  {
   "cell_type": "markdown",
   "metadata": {},
   "source": [
    "**Scenario 3**: Prioritising those 60-70 then 50-60, then 75+"
   ]
  },
  {
   "cell_type": "code",
   "execution_count": 9,
   "metadata": {},
   "outputs": [],
   "source": [
    "scenario_names.append('Prioritise those 60-70 then 50-60, then 75+')\n",
    "age_boosting_scenario_order.append([range(13, 15), range(11, 13), 15] + (np.arange(11, 0, -1) - 1).tolist())"
   ]
  },
  {
   "cell_type": "markdown",
   "metadata": {},
   "source": [
    "**Scenario 4**: Prioritising those 50-69, then 60-70 then 75+"
   ]
  },
  {
   "cell_type": "code",
   "execution_count": 10,
   "metadata": {},
   "outputs": [],
   "source": [
    "scenario_names.append('Prioritise those 50-60 then 60-70, then 75+')\n",
    "age_boosting_scenario_order.append([range(11, 13), range(13, 15), 15] + (np.arange(11, 0, -1) - 1).tolist())"
   ]
  },
  {
   "cell_type": "markdown",
   "metadata": {},
   "source": [
    "### Compute new susceptible conditions based on each boosting scenario"
   ]
  },
  {
   "cell_type": "code",
   "execution_count": 11,
   "metadata": {},
   "outputs": [],
   "source": [
    "for s, _ in enumerate(scenario_names):\n",
    "    new_susceptibles_IC = [\n",
    "        np.array(susceptibles_IC[0].copy()).reshape((6, 16)).transpose(),\n",
    "        np.array(susceptibles_IC[1].copy()).reshape((6, 16)).transpose()]\n",
    "    \n",
    "    new_susceptibles_IC = np.array(new_susceptibles_IC)\n",
    "    scenario_boosters = boosters.copy()\n",
    "    reg_new_susceptibles_IC = []\n",
    "\n",
    "    for r, reg in enumerate(regions):\n",
    "        for ages in age_boosting_scenario_order[s]:\n",
    "            if np.sum(max_boosters[r][ages]) <= scenario_boosters[r]:\n",
    "                # Add boosted from the Sw1 to Sb\n",
    "                new_susceptibles_IC[r, ages, 2] += max_boosters_for_Sw1[r][ages]\n",
    "                # Remove boosted from the Sw1\n",
    "                new_susceptibles_IC[r, ages, 3] -= max_boosters_for_Sw1[r][ages]\n",
    "                # Remove boosted from the Sw1 and R from total boocters for the scenario\n",
    "                scenario_boosters[r] -= np.sum(max_boosters[r][ages])\n",
    "            else:\n",
    "                # Compute proportion of boosters we have left to give for the age group\n",
    "                prop = scenario_boosters[r] / np.sum(max_boosters[r][ages])\n",
    "                # Add boosted from the Sw1 to Sb\n",
    "                new_susceptibles_IC[r, ages, 2] += prop * max_boosters_for_Sw1[r][ages]\n",
    "                # Remove boosted from the Sw1\n",
    "                new_susceptibles_IC[r, ages, 3] -= prop * max_boosters_for_Sw1[r][ages]\n",
    "                # Remove boosted from the Sw1 and R from total boocters for the scenario\n",
    "                scenario_boosters[r] -= prop * np.sum(max_boosters[r][ages])\n",
    "\n",
    "        reg_new_susceptibles_IC.append(list(deepflatten(new_susceptibles_IC[r].transpose())))\n",
    "\n",
    "    scenario_susceptibles_IC.append(reg_new_susceptibles_IC)"
   ]
  },
  {
   "cell_type": "markdown",
   "metadata": {},
   "source": [
    "### Set the parameters and initial conditions of the model and bundle everything together"
   ]
  },
  {
   "cell_type": "code",
   "execution_count": 12,
   "metadata": {},
   "outputs": [],
   "source": [
    "# Instantiate model\n",
    "model = wm.WarwickLancSEIRModel()\n",
    "\n",
    "# Set the region names, contact and regional data of the model\n",
    "model.set_regions(regions)\n",
    "model.set_age_groups(age_groups)\n",
    "model.read_contact_data(matrices_contact, time_changes_contact)\n",
    "model.read_regional_data(matrices_region, time_changes_region)\n",
    "\n",
    "# List of times at which we wish to evaluate the states of the compartments of the model\n",
    "times = np.arange(1, total_days+1, 1).tolist()\n",
    "\n",
    "# Set regional and time dependent parameters\n",
    "regional_parameters = wm.RegParameters(\n",
    "    model=model,\n",
    "    region_index=1\n",
    ")\n",
    "\n",
    "# Set ICs parameters\n",
    "ICs_parameters = wm.ICs(\n",
    "    model=model,\n",
    "    susceptibles_IC=scenario_susceptibles_IC[0],\n",
    "    exposed1_IC=exposed1_IC,\n",
    "    exposed2_IC=exposed2_IC,\n",
    "    exposed3_IC=exposed3_IC,\n",
    "    exposed4_IC=exposed4_IC,\n",
    "    exposed5_IC=exposed5_IC,\n",
    "    infectives_sym_IC=infectives_sym_IC,\n",
    "    infectives_asym_IC=infectives_asym_IC,\n",
    "    recovered_IC=recovered_IC\n",
    ")\n",
    "\n",
    "# Set disease-specific parameters\n",
    "disease_parameters = wm.DiseaseParameters(\n",
    "    model=model,\n",
    "    d=d[0],\n",
    "    tau=tau,\n",
    "    we=we,\n",
    "    omega=omega\n",
    ")\n",
    "\n",
    "# Set transmission parameters\n",
    "transmission_parameters = wm.Transmission(\n",
    "    model=model,\n",
    "    beta=beta[0],\n",
    "    alpha=alpha,\n",
    "    gamma=gamma\n",
    ")\n",
    "\n",
    "# Set other simulation parameters\n",
    "simulation_parameters = wm.SimParameters(\n",
    "    model=model,\n",
    "    method='Radau',\n",
    "    times=times,\n",
    "    eps=False\n",
    ")\n",
    "\n",
    "# Set vaccination parameters\n",
    "vaccine_parameters = wm.VaccineParameters(\n",
    "    model=model,\n",
    "    vac=vac,\n",
    "    vacb=vacb,\n",
    "    adult=adult,\n",
    "    nu_tra=nu_tra,\n",
    "    nu_symp=nu_symp,\n",
    "    nu_inf=nu_inf,\n",
    "    nu_sev_h=nu_sev_h,\n",
    "    nu_sev_d=nu_sev_d,\n",
    ")\n",
    "\n",
    "# Set social distancing parameters\n",
    "soc_dist_parameters = wm.SocDistParameters(\n",
    "    model=model,\n",
    "    phi=1\n",
    ")\n",
    "\n",
    "# Set all parameters in the controller\n",
    "parameters = wm.ParametersController(\n",
    "    model=model,\n",
    "    regional_parameters=regional_parameters,\n",
    "    ICs_parameters=ICs_parameters,\n",
    "    disease_parameters=disease_parameters,\n",
    "    transmission_parameters=transmission_parameters,\n",
    "    simulation_parameters=simulation_parameters,\n",
    "    vaccine_parameters=vaccine_parameters,\n",
    "    soc_dist_parameters=soc_dist_parameters\n",
    ")"
   ]
  },
  {
   "cell_type": "markdown",
   "metadata": {},
   "source": [
    "### Simulate for the regions"
   ]
  },
  {
   "cell_type": "code",
   "execution_count": 13,
   "metadata": {},
   "outputs": [],
   "source": [
    "# Simulate for all the regions\n",
    "outputs = []\n",
    "\n",
    "for s, scenario in enumerate(scenario_names):\n",
    "    scenario_outputs = []\n",
    "    parameters.ICs.susceptibles = scenario_susceptibles_IC[s]\n",
    "    for r, reg in enumerate(regions):\n",
    "        # List of initial conditions and parameters that characterise the model\n",
    "        parameters.regional_parameters.region_index = r + 1\n",
    "\n",
    "        parameters.disease_parameters.d = d[r]\n",
    "        parameters.transmission_parameters.beta = beta[r]\n",
    "\n",
    "        # Simulate using the ODE solver\n",
    "        scenario_outputs.append(model.simulate(parameters))\n",
    "\n",
    "    outputs.append(scenario_outputs)"
   ]
  },
  {
   "cell_type": "markdown",
   "metadata": {},
   "source": [
    "## Plot the comparments of the two methods against each other\n",
    "### Setup ``plotly`` and default settings for plotting"
   ]
  },
  {
   "cell_type": "code",
   "execution_count": 14,
   "metadata": {},
   "outputs": [],
   "source": [
    "from plotly.subplots import make_subplots\n",
    "\n",
    "colours = ['blue', 'red', 'green', 'purple', 'orange', 'black', 'gray', 'pink']"
   ]
  },
  {
   "cell_type": "markdown",
   "metadata": {},
   "source": [
    "## Number of New Infections, Hospitalisations, Deaths & Total number of years of life lost"
   ]
  },
  {
   "cell_type": "code",
   "execution_count": 15,
   "metadata": {},
   "outputs": [],
   "source": [
    "# Set time-to-hospitalisation using a Gamma distribution using the mean and standard deviation \n",
    "th_mean = param_df['hosp_lag'].tolist()[0]+0.00001\n",
    "th_var = 12.1**2\n",
    "theta = th_var / th_mean\n",
    "k = th_mean / theta\n",
    "time_to_hosp = scipy.stats.gamma(k, scale=theta).pdf(np.arange(1, 31)).tolist()\n",
    "\n",
    "# Set time-to-death using a Gamma distribution using the mean and standard deviation\n",
    "td_mean = param_df['death_lag'].tolist()[0]\n",
    "td_var = 12.1**2\n",
    "theta = td_var / td_mean\n",
    "k = td_mean / theta\n",
    "time_to_death = scipy.stats.gamma(k, scale=theta).pdf(np.arange(1, 31)).tolist()\n",
    "\n",
    "# Probabilities of proceeding to severe outcomes\n",
    "# Infected -> Hospital\n",
    "extended_pItoH = RF_df['hospitalisation_risk'].tolist()\n",
    "\n",
    "pItoH = []\n",
    "for r, reg in enumerate(regions):\n",
    "    pItoH.append(extended_pItoH[:15] + [np.sum(np.multiply(extended_pItoH[15:], frac_pop_over75[r]))])\n",
    "\n",
    "# Hospital -> Death\n",
    "extended_pHtoD = RF_df['death_risk'].tolist()\n",
    "\n",
    "pHtoD = []\n",
    "for r, reg in enumerate(regions):\n",
    "    pHtoD.append(extended_pHtoD[:15] + [np.sum(np.multiply(extended_pHtoD[15:], frac_pop_over75[r]))])\n",
    "\n",
    "# Distribution of delays before proceeding to severe outcomes\n",
    "# Infected -> Hospital\n",
    "dItoH = time_to_hosp\n",
    "# Hospital -> Death\n",
    "dHtoD = time_to_death"
   ]
  },
  {
   "cell_type": "code",
   "execution_count": 16,
   "metadata": {},
   "outputs": [],
   "source": [
    "# Simulate for all the regions (sum over all age groups)\n",
    "total_years_of_life_lost = []\n",
    "\n",
    "for s, scenario in enumerate(scenario_names):\n",
    "    scenario_total_years_of_life_lost = []\n",
    "    for r, reg in enumerate(regions):\n",
    "        # Compute regional matrix of new infections for all timepoints simulated\n",
    "        reg_new_infections = model.new_infections(outputs[s][r])\n",
    "\n",
    "        # Compute regional matrix of new hospitalisation for all timepoints simulated\n",
    "        reg_new_hospitalisation = model.new_hospitalisations(reg_new_infections, pItoH[r], dItoH)\n",
    "\n",
    "        # Compute regional matrix of new deaths for all timepoints simulated\n",
    "        reg_new_deaths = model.new_deaths(reg_new_hospitalisation, pHtoD[r], dHtoD)\n",
    "\n",
    "        scenario_total_years_of_life_lost.append(np.sum(np.matmul(\n",
    "            reg_new_deaths[0] + reg_new_deaths[1] + reg_new_deaths[2] +\n",
    "            reg_new_deaths[3] + reg_new_deaths[4] + reg_new_deaths[5],\n",
    "            np.diag(life_ex[r])\n",
    "            ), axis=1))\n",
    "\n",
    "    total_years_of_life_lost.append(scenario_total_years_of_life_lost)\n"
   ]
  },
  {
   "cell_type": "markdown",
   "metadata": {},
   "source": [
    "### Plot the time series of numbers of deaths of the two regions"
   ]
  },
  {
   "cell_type": "code",
   "execution_count": 17,
   "metadata": {},
   "outputs": [
    {
     "data": {
      "application/vnd.plotly.v1+json": {
       "config": {
        "plotlyServerURL": "https://plot.ly"
       },
       "data": [
        {
         "line": {
          "color": "blue"
         },
         "mode": "lines",
         "name": "region United Kingdom",
         "type": "scatter",
         "x": [
          1,
          2,
          3,
          4,
          5,
          6,
          7,
          8,
          9,
          10,
          11,
          12,
          13,
          14,
          15,
          16,
          17,
          18,
          19,
          20,
          21,
          22,
          23,
          24,
          25,
          26,
          27,
          28,
          29,
          30,
          31,
          32,
          33,
          34,
          35,
          36,
          37,
          38,
          39,
          40,
          41,
          42,
          43,
          44,
          45,
          46,
          47,
          48,
          49,
          50,
          51,
          52,
          53,
          54,
          55,
          56,
          57,
          58,
          59,
          60,
          61,
          62,
          63,
          64,
          65,
          66,
          67,
          68,
          69,
          70,
          71,
          72,
          73,
          74,
          75,
          76,
          77,
          78,
          79,
          80,
          81,
          82,
          83,
          84,
          85,
          86,
          87,
          88,
          89,
          90,
          91,
          92,
          93,
          94,
          95,
          96,
          97,
          98,
          99,
          100
         ],
         "y": [
          16.913892041609433,
          37.980835334828406,
          59.63945516669092,
          79.78354311427861,
          97.36555638356896,
          112.42213001894467,
          125.68817201879405,
          138.10373613937605,
          150.48789780965572,
          163.41380601901983,
          177.2446483915126,
          192.19331281311813,
          208.4019373057811,
          225.98320161470423,
          245.04611143266135,
          265.6958900292831,
          288.03116391438374,
          312.1410044092111,
          338.1052765611971,
          365.9872694411471,
          395.82975415836535,
          427.654235294633,
          461.46098179604394,
          497.2263412631949,
          534.9026178669039,
          574.4106549911078,
          615.6386125522611,
          658.4422334583179,
          702.6470292905286,
          748.046903776642,
          793.1158495414844,
          838.1631886341917,
          883.1731231603871,
          928.0564188835053,
          972.6527410007617,
          1016.70592539074,
          1059.8708980301049,
          1101.773479393776,
          1142.0462909167502,
          1180.3492001811655,
          1216.3756066659282,
          1249.8529632903044,
          1280.546255226819,
          1308.2679554570989,
          1332.8733592733372,
          1354.25887406638,
          1372.3606724152671,
          1387.1534165557077,
          1398.645728184457,
          1406.8845634096313,
          1411.9515240169528,
          1413.9504097232239,
          1413.0031835154616,
          1409.2481756879233,
          1402.8389454048427,
          1393.939680401502,
          1382.727131665692,
          1369.3835387218196,
          1354.0915285082533,
          1337.0327724992983,
          1318.4119363156444,
          1298.4057994515583,
          1277.1886956347437,
          1254.9317483625032,
          1231.800516016162,
          1207.9560215394254,
          1183.555779242121,
          1158.751715499073,
          1133.6888611437782,
          1108.5044623647432,
          1083.3274743518539,
          1058.2786406719088,
          1033.469269426764,
          1009.0001072444081,
          984.9622995803751,
          961.4375514908013,
          938.4981665604939,
          916.2070736145657,
          894.6181026560635,
          873.7757106142257,
          853.7156387821624,
          834.4653694398156,
          816.0452936037638,
          798.4695592727505,
          781.7465409853661,
          765.8794970182445,
          750.8667566661036,
          736.7024696345553,
          723.3773437856657,
          710.8795977841377,
          699.1946097628914,
          688.3058411272049,
          678.1952382391997,
          668.8435253362794,
          660.2306364441638,
          652.3359583659225,
          645.138496315217,
          638.6170549784258,
          632.7503909605568,
          627.5173783872564
         ]
        },
        {
         "line": {
          "color": "red"
         },
         "mode": "lines",
         "name": "region France",
         "type": "scatter",
         "x": [
          1,
          2,
          3,
          4,
          5,
          6,
          7,
          8,
          9,
          10,
          11,
          12,
          13,
          14,
          15,
          16,
          17,
          18,
          19,
          20,
          21,
          22,
          23,
          24,
          25,
          26,
          27,
          28,
          29,
          30,
          31,
          32,
          33,
          34,
          35,
          36,
          37,
          38,
          39,
          40,
          41,
          42,
          43,
          44,
          45,
          46,
          47,
          48,
          49,
          50,
          51,
          52,
          53,
          54,
          55,
          56,
          57,
          58,
          59,
          60,
          61,
          62,
          63,
          64,
          65,
          66,
          67,
          68,
          69,
          70,
          71,
          72,
          73,
          74,
          75,
          76,
          77,
          78,
          79,
          80,
          81,
          82,
          83,
          84,
          85,
          86,
          87,
          88,
          89,
          90,
          91,
          92,
          93,
          94,
          95,
          96,
          97,
          98,
          99,
          100
         ],
         "y": [
          17.421129169098,
          39.150941232605525,
          61.64918251546551,
          82.98887854772886,
          102.40117304255224,
          120.20325577291392,
          137.33614836064245,
          154.84946468912153,
          173.59788212847621,
          194.15722794046877,
          216.89730255821868,
          242.06342594288876,
          269.8581648704525,
          300.4703593192928,
          334.0922346110105,
          370.8948183836645,
          411.0175291470689,
          454.55614418410096,
          501.55841349551304,
          552.0022730220049,
          605.791358085087,
          662.7555536854263,
          722.6461579252696,
          785.1222272305973,
          849.7597106881594,
          916.0556496686077,
          983.4383471869805,
          1051.2601510378681,
          1118.8171922314916,
          1185.3927465005315,
          1248.952570264341,
          1309.3893568969663,
          1366.3034323918891,
          1419.2945727161768,
          1467.9818738626377,
          1511.992589540533,
          1550.9767965671886,
          1584.6707211762875,
          1612.9119549898114,
          1635.6421357380277,
          1652.903348340336,
          1664.8273914439173,
          1671.626509533801,
          1673.572480433638,
          1670.9661371427467,
          1664.128945586904,
          1653.3992372977616,
          1639.1228982088483,
          1621.6440787316515,
          1601.2956502551824,
          1578.3968045010224,
          1553.2527342791843,
          1526.1554550472206,
          1497.3813012368212,
          1467.1924686548714,
          1435.8390362990478,
          1403.559888493123,
          1370.5849915355716,
          1337.1354832222478,
          1303.4224683010707,
          1269.6728396729425,
          1236.077571250197,
          1202.8172574662685,
          1170.059790990332,
          1137.9582633142552,
          1106.6524444535244,
          1076.2687796863456,
          1046.9172053782372,
          1018.6903331688353,
          991.6638316867276,
          965.8962279877652,
          941.4300896839045,
          918.2924336994563,
          896.4960590818546,
          876.042008442936,
          856.9212793537163,
          839.1157179962554,
          822.599899819082,
          807.3426871439024,
          793.3088652129805,
          780.4602522973745,
          768.7565236134905,
          758.1559580369178,
          748.6163605478505,
          740.095603345606,
          732.5519956830115,
          725.944582873419,
          720.2333405277892,
          715.3793660965971,
          711.3449879311833,
          708.0938460979305,
          705.5909488566259,
          703.8026468988223,
          702.6966381430905,
          702.2420695529447,
          702.4094530635821,
          703.1706361573202,
          704.4988417606991,
          706.3686801093722,
          708.7560846767831
         ]
        }
       ],
       "layout": {
        "boxmode": "group",
        "legend": {
         "orientation": "h",
         "x": 1,
         "xanchor": "right",
         "y": 1.02,
         "yanchor": "bottom"
        },
        "plot_bgcolor": "white",
        "template": {
         "data": {
          "bar": [
           {
            "error_x": {
             "color": "#2a3f5f"
            },
            "error_y": {
             "color": "#2a3f5f"
            },
            "marker": {
             "line": {
              "color": "#E5ECF6",
              "width": 0.5
             },
             "pattern": {
              "fillmode": "overlay",
              "size": 10,
              "solidity": 0.2
             }
            },
            "type": "bar"
           }
          ],
          "barpolar": [
           {
            "marker": {
             "line": {
              "color": "#E5ECF6",
              "width": 0.5
             },
             "pattern": {
              "fillmode": "overlay",
              "size": 10,
              "solidity": 0.2
             }
            },
            "type": "barpolar"
           }
          ],
          "carpet": [
           {
            "aaxis": {
             "endlinecolor": "#2a3f5f",
             "gridcolor": "white",
             "linecolor": "white",
             "minorgridcolor": "white",
             "startlinecolor": "#2a3f5f"
            },
            "baxis": {
             "endlinecolor": "#2a3f5f",
             "gridcolor": "white",
             "linecolor": "white",
             "minorgridcolor": "white",
             "startlinecolor": "#2a3f5f"
            },
            "type": "carpet"
           }
          ],
          "choropleth": [
           {
            "colorbar": {
             "outlinewidth": 0,
             "ticks": ""
            },
            "type": "choropleth"
           }
          ],
          "contour": [
           {
            "colorbar": {
             "outlinewidth": 0,
             "ticks": ""
            },
            "colorscale": [
             [
              0,
              "#0d0887"
             ],
             [
              0.1111111111111111,
              "#46039f"
             ],
             [
              0.2222222222222222,
              "#7201a8"
             ],
             [
              0.3333333333333333,
              "#9c179e"
             ],
             [
              0.4444444444444444,
              "#bd3786"
             ],
             [
              0.5555555555555556,
              "#d8576b"
             ],
             [
              0.6666666666666666,
              "#ed7953"
             ],
             [
              0.7777777777777778,
              "#fb9f3a"
             ],
             [
              0.8888888888888888,
              "#fdca26"
             ],
             [
              1,
              "#f0f921"
             ]
            ],
            "type": "contour"
           }
          ],
          "contourcarpet": [
           {
            "colorbar": {
             "outlinewidth": 0,
             "ticks": ""
            },
            "type": "contourcarpet"
           }
          ],
          "heatmap": [
           {
            "colorbar": {
             "outlinewidth": 0,
             "ticks": ""
            },
            "colorscale": [
             [
              0,
              "#0d0887"
             ],
             [
              0.1111111111111111,
              "#46039f"
             ],
             [
              0.2222222222222222,
              "#7201a8"
             ],
             [
              0.3333333333333333,
              "#9c179e"
             ],
             [
              0.4444444444444444,
              "#bd3786"
             ],
             [
              0.5555555555555556,
              "#d8576b"
             ],
             [
              0.6666666666666666,
              "#ed7953"
             ],
             [
              0.7777777777777778,
              "#fb9f3a"
             ],
             [
              0.8888888888888888,
              "#fdca26"
             ],
             [
              1,
              "#f0f921"
             ]
            ],
            "type": "heatmap"
           }
          ],
          "heatmapgl": [
           {
            "colorbar": {
             "outlinewidth": 0,
             "ticks": ""
            },
            "colorscale": [
             [
              0,
              "#0d0887"
             ],
             [
              0.1111111111111111,
              "#46039f"
             ],
             [
              0.2222222222222222,
              "#7201a8"
             ],
             [
              0.3333333333333333,
              "#9c179e"
             ],
             [
              0.4444444444444444,
              "#bd3786"
             ],
             [
              0.5555555555555556,
              "#d8576b"
             ],
             [
              0.6666666666666666,
              "#ed7953"
             ],
             [
              0.7777777777777778,
              "#fb9f3a"
             ],
             [
              0.8888888888888888,
              "#fdca26"
             ],
             [
              1,
              "#f0f921"
             ]
            ],
            "type": "heatmapgl"
           }
          ],
          "histogram": [
           {
            "marker": {
             "pattern": {
              "fillmode": "overlay",
              "size": 10,
              "solidity": 0.2
             }
            },
            "type": "histogram"
           }
          ],
          "histogram2d": [
           {
            "colorbar": {
             "outlinewidth": 0,
             "ticks": ""
            },
            "colorscale": [
             [
              0,
              "#0d0887"
             ],
             [
              0.1111111111111111,
              "#46039f"
             ],
             [
              0.2222222222222222,
              "#7201a8"
             ],
             [
              0.3333333333333333,
              "#9c179e"
             ],
             [
              0.4444444444444444,
              "#bd3786"
             ],
             [
              0.5555555555555556,
              "#d8576b"
             ],
             [
              0.6666666666666666,
              "#ed7953"
             ],
             [
              0.7777777777777778,
              "#fb9f3a"
             ],
             [
              0.8888888888888888,
              "#fdca26"
             ],
             [
              1,
              "#f0f921"
             ]
            ],
            "type": "histogram2d"
           }
          ],
          "histogram2dcontour": [
           {
            "colorbar": {
             "outlinewidth": 0,
             "ticks": ""
            },
            "colorscale": [
             [
              0,
              "#0d0887"
             ],
             [
              0.1111111111111111,
              "#46039f"
             ],
             [
              0.2222222222222222,
              "#7201a8"
             ],
             [
              0.3333333333333333,
              "#9c179e"
             ],
             [
              0.4444444444444444,
              "#bd3786"
             ],
             [
              0.5555555555555556,
              "#d8576b"
             ],
             [
              0.6666666666666666,
              "#ed7953"
             ],
             [
              0.7777777777777778,
              "#fb9f3a"
             ],
             [
              0.8888888888888888,
              "#fdca26"
             ],
             [
              1,
              "#f0f921"
             ]
            ],
            "type": "histogram2dcontour"
           }
          ],
          "mesh3d": [
           {
            "colorbar": {
             "outlinewidth": 0,
             "ticks": ""
            },
            "type": "mesh3d"
           }
          ],
          "parcoords": [
           {
            "line": {
             "colorbar": {
              "outlinewidth": 0,
              "ticks": ""
             }
            },
            "type": "parcoords"
           }
          ],
          "pie": [
           {
            "automargin": true,
            "type": "pie"
           }
          ],
          "scatter": [
           {
            "fillpattern": {
             "fillmode": "overlay",
             "size": 10,
             "solidity": 0.2
            },
            "type": "scatter"
           }
          ],
          "scatter3d": [
           {
            "line": {
             "colorbar": {
              "outlinewidth": 0,
              "ticks": ""
             }
            },
            "marker": {
             "colorbar": {
              "outlinewidth": 0,
              "ticks": ""
             }
            },
            "type": "scatter3d"
           }
          ],
          "scattercarpet": [
           {
            "marker": {
             "colorbar": {
              "outlinewidth": 0,
              "ticks": ""
             }
            },
            "type": "scattercarpet"
           }
          ],
          "scattergeo": [
           {
            "marker": {
             "colorbar": {
              "outlinewidth": 0,
              "ticks": ""
             }
            },
            "type": "scattergeo"
           }
          ],
          "scattergl": [
           {
            "marker": {
             "colorbar": {
              "outlinewidth": 0,
              "ticks": ""
             }
            },
            "type": "scattergl"
           }
          ],
          "scattermapbox": [
           {
            "marker": {
             "colorbar": {
              "outlinewidth": 0,
              "ticks": ""
             }
            },
            "type": "scattermapbox"
           }
          ],
          "scatterpolar": [
           {
            "marker": {
             "colorbar": {
              "outlinewidth": 0,
              "ticks": ""
             }
            },
            "type": "scatterpolar"
           }
          ],
          "scatterpolargl": [
           {
            "marker": {
             "colorbar": {
              "outlinewidth": 0,
              "ticks": ""
             }
            },
            "type": "scatterpolargl"
           }
          ],
          "scatterternary": [
           {
            "marker": {
             "colorbar": {
              "outlinewidth": 0,
              "ticks": ""
             }
            },
            "type": "scatterternary"
           }
          ],
          "surface": [
           {
            "colorbar": {
             "outlinewidth": 0,
             "ticks": ""
            },
            "colorscale": [
             [
              0,
              "#0d0887"
             ],
             [
              0.1111111111111111,
              "#46039f"
             ],
             [
              0.2222222222222222,
              "#7201a8"
             ],
             [
              0.3333333333333333,
              "#9c179e"
             ],
             [
              0.4444444444444444,
              "#bd3786"
             ],
             [
              0.5555555555555556,
              "#d8576b"
             ],
             [
              0.6666666666666666,
              "#ed7953"
             ],
             [
              0.7777777777777778,
              "#fb9f3a"
             ],
             [
              0.8888888888888888,
              "#fdca26"
             ],
             [
              1,
              "#f0f921"
             ]
            ],
            "type": "surface"
           }
          ],
          "table": [
           {
            "cells": {
             "fill": {
              "color": "#EBF0F8"
             },
             "line": {
              "color": "white"
             }
            },
            "header": {
             "fill": {
              "color": "#C8D4E3"
             },
             "line": {
              "color": "white"
             }
            },
            "type": "table"
           }
          ]
         },
         "layout": {
          "annotationdefaults": {
           "arrowcolor": "#2a3f5f",
           "arrowhead": 0,
           "arrowwidth": 1
          },
          "autotypenumbers": "strict",
          "coloraxis": {
           "colorbar": {
            "outlinewidth": 0,
            "ticks": ""
           }
          },
          "colorscale": {
           "diverging": [
            [
             0,
             "#8e0152"
            ],
            [
             0.1,
             "#c51b7d"
            ],
            [
             0.2,
             "#de77ae"
            ],
            [
             0.3,
             "#f1b6da"
            ],
            [
             0.4,
             "#fde0ef"
            ],
            [
             0.5,
             "#f7f7f7"
            ],
            [
             0.6,
             "#e6f5d0"
            ],
            [
             0.7,
             "#b8e186"
            ],
            [
             0.8,
             "#7fbc41"
            ],
            [
             0.9,
             "#4d9221"
            ],
            [
             1,
             "#276419"
            ]
           ],
           "sequential": [
            [
             0,
             "#0d0887"
            ],
            [
             0.1111111111111111,
             "#46039f"
            ],
            [
             0.2222222222222222,
             "#7201a8"
            ],
            [
             0.3333333333333333,
             "#9c179e"
            ],
            [
             0.4444444444444444,
             "#bd3786"
            ],
            [
             0.5555555555555556,
             "#d8576b"
            ],
            [
             0.6666666666666666,
             "#ed7953"
            ],
            [
             0.7777777777777778,
             "#fb9f3a"
            ],
            [
             0.8888888888888888,
             "#fdca26"
            ],
            [
             1,
             "#f0f921"
            ]
           ],
           "sequentialminus": [
            [
             0,
             "#0d0887"
            ],
            [
             0.1111111111111111,
             "#46039f"
            ],
            [
             0.2222222222222222,
             "#7201a8"
            ],
            [
             0.3333333333333333,
             "#9c179e"
            ],
            [
             0.4444444444444444,
             "#bd3786"
            ],
            [
             0.5555555555555556,
             "#d8576b"
            ],
            [
             0.6666666666666666,
             "#ed7953"
            ],
            [
             0.7777777777777778,
             "#fb9f3a"
            ],
            [
             0.8888888888888888,
             "#fdca26"
            ],
            [
             1,
             "#f0f921"
            ]
           ]
          },
          "colorway": [
           "#636efa",
           "#EF553B",
           "#00cc96",
           "#ab63fa",
           "#FFA15A",
           "#19d3f3",
           "#FF6692",
           "#B6E880",
           "#FF97FF",
           "#FECB52"
          ],
          "font": {
           "color": "#2a3f5f"
          },
          "geo": {
           "bgcolor": "white",
           "lakecolor": "white",
           "landcolor": "#E5ECF6",
           "showlakes": true,
           "showland": true,
           "subunitcolor": "white"
          },
          "hoverlabel": {
           "align": "left"
          },
          "hovermode": "closest",
          "mapbox": {
           "style": "light"
          },
          "paper_bgcolor": "white",
          "plot_bgcolor": "#E5ECF6",
          "polar": {
           "angularaxis": {
            "gridcolor": "white",
            "linecolor": "white",
            "ticks": ""
           },
           "bgcolor": "#E5ECF6",
           "radialaxis": {
            "gridcolor": "white",
            "linecolor": "white",
            "ticks": ""
           }
          },
          "scene": {
           "xaxis": {
            "backgroundcolor": "#E5ECF6",
            "gridcolor": "white",
            "gridwidth": 2,
            "linecolor": "white",
            "showbackground": true,
            "ticks": "",
            "zerolinecolor": "white"
           },
           "yaxis": {
            "backgroundcolor": "#E5ECF6",
            "gridcolor": "white",
            "gridwidth": 2,
            "linecolor": "white",
            "showbackground": true,
            "ticks": "",
            "zerolinecolor": "white"
           },
           "zaxis": {
            "backgroundcolor": "#E5ECF6",
            "gridcolor": "white",
            "gridwidth": 2,
            "linecolor": "white",
            "showbackground": true,
            "ticks": "",
            "zerolinecolor": "white"
           }
          },
          "shapedefaults": {
           "line": {
            "color": "#2a3f5f"
           }
          },
          "ternary": {
           "aaxis": {
            "gridcolor": "white",
            "linecolor": "white",
            "ticks": ""
           },
           "baxis": {
            "gridcolor": "white",
            "linecolor": "white",
            "ticks": ""
           },
           "bgcolor": "#E5ECF6",
           "caxis": {
            "gridcolor": "white",
            "linecolor": "white",
            "ticks": ""
           }
          },
          "title": {
           "x": 0.05
          },
          "xaxis": {
           "automargin": true,
           "gridcolor": "white",
           "linecolor": "white",
           "ticks": "",
           "title": {
            "standoff": 15
           },
           "zerolinecolor": "white",
           "zerolinewidth": 2
          },
          "yaxis": {
           "automargin": true,
           "gridcolor": "white",
           "linecolor": "white",
           "ticks": "",
           "title": {
            "standoff": 15
           },
           "zerolinecolor": "white",
           "zerolinewidth": 2
          }
         }
        },
        "title": {
         "text": "Years of Life Lost for Scenario: Prioritise 75+"
        },
        "width": 800,
        "xaxis": {
         "linecolor": "black"
        },
        "yaxis": {
         "linecolor": "black"
        }
       }
      }
     },
     "metadata": {},
     "output_type": "display_data"
    },
    {
     "data": {
      "application/vnd.plotly.v1+json": {
       "config": {
        "plotlyServerURL": "https://plot.ly"
       },
       "data": [
        {
         "line": {
          "color": "blue"
         },
         "mode": "lines",
         "name": "region United Kingdom",
         "type": "scatter",
         "x": [
          1,
          2,
          3,
          4,
          5,
          6,
          7,
          8,
          9,
          10,
          11,
          12,
          13,
          14,
          15,
          16,
          17,
          18,
          19,
          20,
          21,
          22,
          23,
          24,
          25,
          26,
          27,
          28,
          29,
          30,
          31,
          32,
          33,
          34,
          35,
          36,
          37,
          38,
          39,
          40,
          41,
          42,
          43,
          44,
          45,
          46,
          47,
          48,
          49,
          50,
          51,
          52,
          53,
          54,
          55,
          56,
          57,
          58,
          59,
          60,
          61,
          62,
          63,
          64,
          65,
          66,
          67,
          68,
          69,
          70,
          71,
          72,
          73,
          74,
          75,
          76,
          77,
          78,
          79,
          80,
          81,
          82,
          83,
          84,
          85,
          86,
          87,
          88,
          89,
          90,
          91,
          92,
          93,
          94,
          95,
          96,
          97,
          98,
          99,
          100
         ],
         "y": [
          16.913892041609433,
          37.98160355581787,
          59.65300014054482,
          79.85107572076751,
          97.56466920267667,
          112.86003106030094,
          126.48742112393363,
          139.38724730700366,
          152.36717250115217,
          165.98245464130096,
          180.57585712119027,
          196.34263794610408,
          213.41096393866297,
          231.88536629996776,
          251.87203581087334,
          273.4784854955391,
          296.8091485578799,
          321.9620514272928,
          349.02867624639896,
          378.08687062988145,
          409.19577625407646,
          442.3947127668349,
          477.7031537766827,
          515.1175324055122,
          554.6131698808955,
          596.134819654471,
          639.5938996163709,
          684.8682910555187,
          731.8029775345592,
          780.2137248787589,
          828.5920046830998,
          877.2586115251703,
          926.2030135267026,
          975.3344032232471,
          1024.479063667716,
          1073.3763382519892,
          1121.6554965769537,
          1168.9083549308411,
          1214.7290072520416,
          1258.7353854610349,
          1300.5759497428464,
          1339.930278235464,
          1376.5091250380506,
          1410.0653500845476,
          1440.3955352862047,
          1467.3399291022802,
          1490.7817975707555,
          1510.6463912383,
          1526.8995386528597,
          1539.541719638117,
          1548.6219517493703,
          1554.2190138306976,
          1556.4358916482227,
          1555.3973703898025,
          1551.248345027035,
          1544.1508708266665,
          1534.282068212544,
          1521.833700406216,
          1507.0015837746585,
          1489.9824599168614,
          1470.9977701761213,
          1450.2426761992783,
          1427.911389513426,
          1404.1966994702489,
          1379.288164979433,
          1353.3703223360394,
          1326.6251006378136,
          1299.2290732149604,
          1271.351851186221,
          1243.1550681930007,
          1214.7918212762975,
          1186.406400144857,
          1158.1344704283617,
          1130.1001459365127,
          1102.4169086801194,
          1075.187880008768,
          1048.5058235817771,
          1022.4531302967492,
          997.1018316013638,
          972.5140102714673,
          948.7409107588053,
          925.824650597871,
          903.7980371835488,
          882.6861227547128,
          862.506846888341,
          843.2716249295846,
          824.9858275408989,
          807.6491004626284,
          791.2564015012691,
          775.7988570892763,
          761.2642677435798,
          747.6372391934509,
          734.9000317234114,
          723.0329606082001,
          712.014870664888,
          701.8235477813117,
          692.4359585179748,
          683.8285039992077,
          675.9772292923335,
          668.8579975299197
         ]
        },
        {
         "line": {
          "color": "red"
         },
         "mode": "lines",
         "name": "region France",
         "type": "scatter",
         "x": [
          1,
          2,
          3,
          4,
          5,
          6,
          7,
          8,
          9,
          10,
          11,
          12,
          13,
          14,
          15,
          16,
          17,
          18,
          19,
          20,
          21,
          22,
          23,
          24,
          25,
          26,
          27,
          28,
          29,
          30,
          31,
          32,
          33,
          34,
          35,
          36,
          37,
          38,
          39,
          40,
          41,
          42,
          43,
          44,
          45,
          46,
          47,
          48,
          49,
          50,
          51,
          52,
          53,
          54,
          55,
          56,
          57,
          58,
          59,
          60,
          61,
          62,
          63,
          64,
          65,
          66,
          67,
          68,
          69,
          70,
          71,
          72,
          73,
          74,
          75,
          76,
          77,
          78,
          79,
          80,
          81,
          82,
          83,
          84,
          85,
          86,
          87,
          88,
          89,
          90,
          91,
          92,
          93,
          94,
          95,
          96,
          97,
          98,
          99,
          100
         ],
         "y": [
          17.421129169098,
          39.15142365303533,
          61.65792160778305,
          83.03356159547673,
          102.5361068373326,
          120.50665113982433,
          137.9005308396949,
          155.76912996176634,
          174.95723763622755,
          196.02133716315572,
          219.30919496633533,
          245.04528088605434,
          273.41748850162674,
          304.61001752681165,
          338.82206854587076,
          376.24358775490225,
          417.0445171232731,
          461.36160433579914,
          509.29718601871224,
          560.8935831351451,
          616.1269421464026,
          674.9062499235501,
          737.0695532423142,
          802.3697103088296,
          870.4722381611942,
          940.9564757137941,
          1013.3215151013865,
          1086.9846986680443,
          1161.2789923101525,
          1235.4964712037781,
          1307.583606915088,
          1377.385709483086,
          1444.421090777539,
          1508.1700045525445,
          1568.108163609702,
          1623.7004111006909,
          1674.4207973707569,
          1719.813946037469,
          1759.5313465969552,
          1793.342021337788,
          1821.1312608607798,
          1842.8926076599241,
          1858.7168069119261,
          1868.7880973394465,
          1873.344983594297,
          1872.6692645589442,
          1867.0807576281736,
          1856.9275485048126,
          1842.5764356123034,
          1824.3957750677155,
          1802.748404711409,
          1777.9894899335532,
          1750.4659082744317,
          1720.5120578488227,
          1688.4477396917591,
          1654.5786989997957,
          1619.197353769308,
          1582.5842355270697,
          1545.0101347591321,
          1506.7329020147358,
          1468.0243714397368,
          1429.119228573544,
          1390.2415101251406,
          1351.6028491890977,
          1313.3997631382365,
          1275.8150187649198,
          1239.018068671351,
          1203.1623113854562,
          1168.3829379162737,
          1134.7963195573227,
          1102.4994075977497,
          1071.570543754172,
          1042.070076646886,
          1014.0402751729875,
          987.5078564644026,
          962.4857308096589,
          938.9737564482413,
          916.9605951726273,
          896.425421110996,
          877.340083967686,
          859.670650760331,
          843.3784953040796,
          828.4211935035208,
          814.7538147778895,
          802.3298367544674,
          791.1019865236767,
          781.0227986837207,
          772.0450270460638,
          764.1219258387862,
          757.2076615584626,
          751.2573897152298,
          746.2275054594922,
          742.0757176900458,
          738.7611116994834,
          736.2443217344819,
          734.487497468946,
          733.4542696680181,
          733.1097915978577,
          733.4207909090442,
          734.3555710563587
         ]
        }
       ],
       "layout": {
        "boxmode": "group",
        "legend": {
         "orientation": "h",
         "x": 1,
         "xanchor": "right",
         "y": 1.02,
         "yanchor": "bottom"
        },
        "plot_bgcolor": "white",
        "template": {
         "data": {
          "bar": [
           {
            "error_x": {
             "color": "#2a3f5f"
            },
            "error_y": {
             "color": "#2a3f5f"
            },
            "marker": {
             "line": {
              "color": "#E5ECF6",
              "width": 0.5
             },
             "pattern": {
              "fillmode": "overlay",
              "size": 10,
              "solidity": 0.2
             }
            },
            "type": "bar"
           }
          ],
          "barpolar": [
           {
            "marker": {
             "line": {
              "color": "#E5ECF6",
              "width": 0.5
             },
             "pattern": {
              "fillmode": "overlay",
              "size": 10,
              "solidity": 0.2
             }
            },
            "type": "barpolar"
           }
          ],
          "carpet": [
           {
            "aaxis": {
             "endlinecolor": "#2a3f5f",
             "gridcolor": "white",
             "linecolor": "white",
             "minorgridcolor": "white",
             "startlinecolor": "#2a3f5f"
            },
            "baxis": {
             "endlinecolor": "#2a3f5f",
             "gridcolor": "white",
             "linecolor": "white",
             "minorgridcolor": "white",
             "startlinecolor": "#2a3f5f"
            },
            "type": "carpet"
           }
          ],
          "choropleth": [
           {
            "colorbar": {
             "outlinewidth": 0,
             "ticks": ""
            },
            "type": "choropleth"
           }
          ],
          "contour": [
           {
            "colorbar": {
             "outlinewidth": 0,
             "ticks": ""
            },
            "colorscale": [
             [
              0,
              "#0d0887"
             ],
             [
              0.1111111111111111,
              "#46039f"
             ],
             [
              0.2222222222222222,
              "#7201a8"
             ],
             [
              0.3333333333333333,
              "#9c179e"
             ],
             [
              0.4444444444444444,
              "#bd3786"
             ],
             [
              0.5555555555555556,
              "#d8576b"
             ],
             [
              0.6666666666666666,
              "#ed7953"
             ],
             [
              0.7777777777777778,
              "#fb9f3a"
             ],
             [
              0.8888888888888888,
              "#fdca26"
             ],
             [
              1,
              "#f0f921"
             ]
            ],
            "type": "contour"
           }
          ],
          "contourcarpet": [
           {
            "colorbar": {
             "outlinewidth": 0,
             "ticks": ""
            },
            "type": "contourcarpet"
           }
          ],
          "heatmap": [
           {
            "colorbar": {
             "outlinewidth": 0,
             "ticks": ""
            },
            "colorscale": [
             [
              0,
              "#0d0887"
             ],
             [
              0.1111111111111111,
              "#46039f"
             ],
             [
              0.2222222222222222,
              "#7201a8"
             ],
             [
              0.3333333333333333,
              "#9c179e"
             ],
             [
              0.4444444444444444,
              "#bd3786"
             ],
             [
              0.5555555555555556,
              "#d8576b"
             ],
             [
              0.6666666666666666,
              "#ed7953"
             ],
             [
              0.7777777777777778,
              "#fb9f3a"
             ],
             [
              0.8888888888888888,
              "#fdca26"
             ],
             [
              1,
              "#f0f921"
             ]
            ],
            "type": "heatmap"
           }
          ],
          "heatmapgl": [
           {
            "colorbar": {
             "outlinewidth": 0,
             "ticks": ""
            },
            "colorscale": [
             [
              0,
              "#0d0887"
             ],
             [
              0.1111111111111111,
              "#46039f"
             ],
             [
              0.2222222222222222,
              "#7201a8"
             ],
             [
              0.3333333333333333,
              "#9c179e"
             ],
             [
              0.4444444444444444,
              "#bd3786"
             ],
             [
              0.5555555555555556,
              "#d8576b"
             ],
             [
              0.6666666666666666,
              "#ed7953"
             ],
             [
              0.7777777777777778,
              "#fb9f3a"
             ],
             [
              0.8888888888888888,
              "#fdca26"
             ],
             [
              1,
              "#f0f921"
             ]
            ],
            "type": "heatmapgl"
           }
          ],
          "histogram": [
           {
            "marker": {
             "pattern": {
              "fillmode": "overlay",
              "size": 10,
              "solidity": 0.2
             }
            },
            "type": "histogram"
           }
          ],
          "histogram2d": [
           {
            "colorbar": {
             "outlinewidth": 0,
             "ticks": ""
            },
            "colorscale": [
             [
              0,
              "#0d0887"
             ],
             [
              0.1111111111111111,
              "#46039f"
             ],
             [
              0.2222222222222222,
              "#7201a8"
             ],
             [
              0.3333333333333333,
              "#9c179e"
             ],
             [
              0.4444444444444444,
              "#bd3786"
             ],
             [
              0.5555555555555556,
              "#d8576b"
             ],
             [
              0.6666666666666666,
              "#ed7953"
             ],
             [
              0.7777777777777778,
              "#fb9f3a"
             ],
             [
              0.8888888888888888,
              "#fdca26"
             ],
             [
              1,
              "#f0f921"
             ]
            ],
            "type": "histogram2d"
           }
          ],
          "histogram2dcontour": [
           {
            "colorbar": {
             "outlinewidth": 0,
             "ticks": ""
            },
            "colorscale": [
             [
              0,
              "#0d0887"
             ],
             [
              0.1111111111111111,
              "#46039f"
             ],
             [
              0.2222222222222222,
              "#7201a8"
             ],
             [
              0.3333333333333333,
              "#9c179e"
             ],
             [
              0.4444444444444444,
              "#bd3786"
             ],
             [
              0.5555555555555556,
              "#d8576b"
             ],
             [
              0.6666666666666666,
              "#ed7953"
             ],
             [
              0.7777777777777778,
              "#fb9f3a"
             ],
             [
              0.8888888888888888,
              "#fdca26"
             ],
             [
              1,
              "#f0f921"
             ]
            ],
            "type": "histogram2dcontour"
           }
          ],
          "mesh3d": [
           {
            "colorbar": {
             "outlinewidth": 0,
             "ticks": ""
            },
            "type": "mesh3d"
           }
          ],
          "parcoords": [
           {
            "line": {
             "colorbar": {
              "outlinewidth": 0,
              "ticks": ""
             }
            },
            "type": "parcoords"
           }
          ],
          "pie": [
           {
            "automargin": true,
            "type": "pie"
           }
          ],
          "scatter": [
           {
            "fillpattern": {
             "fillmode": "overlay",
             "size": 10,
             "solidity": 0.2
            },
            "type": "scatter"
           }
          ],
          "scatter3d": [
           {
            "line": {
             "colorbar": {
              "outlinewidth": 0,
              "ticks": ""
             }
            },
            "marker": {
             "colorbar": {
              "outlinewidth": 0,
              "ticks": ""
             }
            },
            "type": "scatter3d"
           }
          ],
          "scattercarpet": [
           {
            "marker": {
             "colorbar": {
              "outlinewidth": 0,
              "ticks": ""
             }
            },
            "type": "scattercarpet"
           }
          ],
          "scattergeo": [
           {
            "marker": {
             "colorbar": {
              "outlinewidth": 0,
              "ticks": ""
             }
            },
            "type": "scattergeo"
           }
          ],
          "scattergl": [
           {
            "marker": {
             "colorbar": {
              "outlinewidth": 0,
              "ticks": ""
             }
            },
            "type": "scattergl"
           }
          ],
          "scattermapbox": [
           {
            "marker": {
             "colorbar": {
              "outlinewidth": 0,
              "ticks": ""
             }
            },
            "type": "scattermapbox"
           }
          ],
          "scatterpolar": [
           {
            "marker": {
             "colorbar": {
              "outlinewidth": 0,
              "ticks": ""
             }
            },
            "type": "scatterpolar"
           }
          ],
          "scatterpolargl": [
           {
            "marker": {
             "colorbar": {
              "outlinewidth": 0,
              "ticks": ""
             }
            },
            "type": "scatterpolargl"
           }
          ],
          "scatterternary": [
           {
            "marker": {
             "colorbar": {
              "outlinewidth": 0,
              "ticks": ""
             }
            },
            "type": "scatterternary"
           }
          ],
          "surface": [
           {
            "colorbar": {
             "outlinewidth": 0,
             "ticks": ""
            },
            "colorscale": [
             [
              0,
              "#0d0887"
             ],
             [
              0.1111111111111111,
              "#46039f"
             ],
             [
              0.2222222222222222,
              "#7201a8"
             ],
             [
              0.3333333333333333,
              "#9c179e"
             ],
             [
              0.4444444444444444,
              "#bd3786"
             ],
             [
              0.5555555555555556,
              "#d8576b"
             ],
             [
              0.6666666666666666,
              "#ed7953"
             ],
             [
              0.7777777777777778,
              "#fb9f3a"
             ],
             [
              0.8888888888888888,
              "#fdca26"
             ],
             [
              1,
              "#f0f921"
             ]
            ],
            "type": "surface"
           }
          ],
          "table": [
           {
            "cells": {
             "fill": {
              "color": "#EBF0F8"
             },
             "line": {
              "color": "white"
             }
            },
            "header": {
             "fill": {
              "color": "#C8D4E3"
             },
             "line": {
              "color": "white"
             }
            },
            "type": "table"
           }
          ]
         },
         "layout": {
          "annotationdefaults": {
           "arrowcolor": "#2a3f5f",
           "arrowhead": 0,
           "arrowwidth": 1
          },
          "autotypenumbers": "strict",
          "coloraxis": {
           "colorbar": {
            "outlinewidth": 0,
            "ticks": ""
           }
          },
          "colorscale": {
           "diverging": [
            [
             0,
             "#8e0152"
            ],
            [
             0.1,
             "#c51b7d"
            ],
            [
             0.2,
             "#de77ae"
            ],
            [
             0.3,
             "#f1b6da"
            ],
            [
             0.4,
             "#fde0ef"
            ],
            [
             0.5,
             "#f7f7f7"
            ],
            [
             0.6,
             "#e6f5d0"
            ],
            [
             0.7,
             "#b8e186"
            ],
            [
             0.8,
             "#7fbc41"
            ],
            [
             0.9,
             "#4d9221"
            ],
            [
             1,
             "#276419"
            ]
           ],
           "sequential": [
            [
             0,
             "#0d0887"
            ],
            [
             0.1111111111111111,
             "#46039f"
            ],
            [
             0.2222222222222222,
             "#7201a8"
            ],
            [
             0.3333333333333333,
             "#9c179e"
            ],
            [
             0.4444444444444444,
             "#bd3786"
            ],
            [
             0.5555555555555556,
             "#d8576b"
            ],
            [
             0.6666666666666666,
             "#ed7953"
            ],
            [
             0.7777777777777778,
             "#fb9f3a"
            ],
            [
             0.8888888888888888,
             "#fdca26"
            ],
            [
             1,
             "#f0f921"
            ]
           ],
           "sequentialminus": [
            [
             0,
             "#0d0887"
            ],
            [
             0.1111111111111111,
             "#46039f"
            ],
            [
             0.2222222222222222,
             "#7201a8"
            ],
            [
             0.3333333333333333,
             "#9c179e"
            ],
            [
             0.4444444444444444,
             "#bd3786"
            ],
            [
             0.5555555555555556,
             "#d8576b"
            ],
            [
             0.6666666666666666,
             "#ed7953"
            ],
            [
             0.7777777777777778,
             "#fb9f3a"
            ],
            [
             0.8888888888888888,
             "#fdca26"
            ],
            [
             1,
             "#f0f921"
            ]
           ]
          },
          "colorway": [
           "#636efa",
           "#EF553B",
           "#00cc96",
           "#ab63fa",
           "#FFA15A",
           "#19d3f3",
           "#FF6692",
           "#B6E880",
           "#FF97FF",
           "#FECB52"
          ],
          "font": {
           "color": "#2a3f5f"
          },
          "geo": {
           "bgcolor": "white",
           "lakecolor": "white",
           "landcolor": "#E5ECF6",
           "showlakes": true,
           "showland": true,
           "subunitcolor": "white"
          },
          "hoverlabel": {
           "align": "left"
          },
          "hovermode": "closest",
          "mapbox": {
           "style": "light"
          },
          "paper_bgcolor": "white",
          "plot_bgcolor": "#E5ECF6",
          "polar": {
           "angularaxis": {
            "gridcolor": "white",
            "linecolor": "white",
            "ticks": ""
           },
           "bgcolor": "#E5ECF6",
           "radialaxis": {
            "gridcolor": "white",
            "linecolor": "white",
            "ticks": ""
           }
          },
          "scene": {
           "xaxis": {
            "backgroundcolor": "#E5ECF6",
            "gridcolor": "white",
            "gridwidth": 2,
            "linecolor": "white",
            "showbackground": true,
            "ticks": "",
            "zerolinecolor": "white"
           },
           "yaxis": {
            "backgroundcolor": "#E5ECF6",
            "gridcolor": "white",
            "gridwidth": 2,
            "linecolor": "white",
            "showbackground": true,
            "ticks": "",
            "zerolinecolor": "white"
           },
           "zaxis": {
            "backgroundcolor": "#E5ECF6",
            "gridcolor": "white",
            "gridwidth": 2,
            "linecolor": "white",
            "showbackground": true,
            "ticks": "",
            "zerolinecolor": "white"
           }
          },
          "shapedefaults": {
           "line": {
            "color": "#2a3f5f"
           }
          },
          "ternary": {
           "aaxis": {
            "gridcolor": "white",
            "linecolor": "white",
            "ticks": ""
           },
           "baxis": {
            "gridcolor": "white",
            "linecolor": "white",
            "ticks": ""
           },
           "bgcolor": "#E5ECF6",
           "caxis": {
            "gridcolor": "white",
            "linecolor": "white",
            "ticks": ""
           }
          },
          "title": {
           "x": 0.05
          },
          "xaxis": {
           "automargin": true,
           "gridcolor": "white",
           "linecolor": "white",
           "ticks": "",
           "title": {
            "standoff": 15
           },
           "zerolinecolor": "white",
           "zerolinewidth": 2
          },
          "yaxis": {
           "automargin": true,
           "gridcolor": "white",
           "linecolor": "white",
           "ticks": "",
           "title": {
            "standoff": 15
           },
           "zerolinecolor": "white",
           "zerolinewidth": 2
          }
         }
        },
        "title": {
         "text": "Years of Life Lost for Scenario: Prioritise 60-70 then 75+"
        },
        "width": 800,
        "xaxis": {
         "linecolor": "black"
        },
        "yaxis": {
         "linecolor": "black"
        }
       }
      }
     },
     "metadata": {},
     "output_type": "display_data"
    },
    {
     "data": {
      "application/vnd.plotly.v1+json": {
       "config": {
        "plotlyServerURL": "https://plot.ly"
       },
       "data": [
        {
         "line": {
          "color": "blue"
         },
         "mode": "lines",
         "name": "region United Kingdom",
         "type": "scatter",
         "x": [
          1,
          2,
          3,
          4,
          5,
          6,
          7,
          8,
          9,
          10,
          11,
          12,
          13,
          14,
          15,
          16,
          17,
          18,
          19,
          20,
          21,
          22,
          23,
          24,
          25,
          26,
          27,
          28,
          29,
          30,
          31,
          32,
          33,
          34,
          35,
          36,
          37,
          38,
          39,
          40,
          41,
          42,
          43,
          44,
          45,
          46,
          47,
          48,
          49,
          50,
          51,
          52,
          53,
          54,
          55,
          56,
          57,
          58,
          59,
          60,
          61,
          62,
          63,
          64,
          65,
          66,
          67,
          68,
          69,
          70,
          71,
          72,
          73,
          74,
          75,
          76,
          77,
          78,
          79,
          80,
          81,
          82,
          83,
          84,
          85,
          86,
          87,
          88,
          89,
          90,
          91,
          92,
          93,
          94,
          95,
          96,
          97,
          98,
          99,
          100
         ],
         "y": [
          16.913892041609433,
          37.982423842176324,
          59.6675998368825,
          79.92436264447853,
          97.78198637607987,
          113.34029615407911,
          127.36798278350761,
          140.8080835947444,
          154.45895451702077,
          168.86037533795223,
          184.33818949079833,
          201.07360353723078,
          219.18460854133986,
          238.77018008519366,
          259.9347740867255,
          282.7871194662464,
          307.43412097692334,
          333.97717679119614,
          362.51131672092185,
          393.1185510520566,
          425.8618885245158,
          460.7839725744258,
          497.90696331188747,
          537.2296390035871,
          578.7291923540754,
          622.352047882479,
          668.0101248462495,
          715.580408135429,
          764.9055271270278,
          815.7979366848828,
          866.7449894443553,
          918.0600192603488,
          969.7223623990515,
          1021.6278820851161,
          1073.5869776885884,
          1125.3207016040524,
          1176.4410461337898,
          1226.5174148158644,
          1275.1217035924149,
          1321.8508650842164,
          1366.3337313520553,
          1408.2314085756132,
          1447.2352856973512,
          1483.0776664400478,
          1515.5359990041995,
          1544.4333193584116,
          1569.6378633005243,
          1591.0620971081078,
          1608.6613403037136,
          1622.4277749326425,
          1632.4036336702222,
          1638.6664418196822,
          1641.3203570189767,
          1640.4929640310875,
          1636.3332649838835,
          1629.011068427131,
          1618.7078500896387,
          1605.6257626514787,
          1589.9728196259337,
          1571.9584187512064,
          1551.8166599484011,
          1529.7553617697629,
          1505.9812625011457,
          1480.6995486267258,
          1454.1133943555283,
          1426.4206577407851,
          1397.816166156735,
          1368.4893102703863,
          1338.6221298504283,
          1308.388176669626,
          1277.9518975154333,
          1247.4683384830782,
          1217.0833660125666,
          1186.9314927349494,
          1157.135313463432,
          1127.8063309415465,
          1099.0450537931167,
          1070.9410059599118,
          1043.5727470235722,
          1017.008286039385,
          991.3041855472827,
          966.5069242013656,
          942.6531685630102,
          919.7708400118154,
          897.8801536452171,
          876.9941296980331,
          857.1196000896196,
          838.2569620508747,
          820.4014230524557,
          803.543778486367,
          787.671380171286,
          772.7680620405331,
          758.8149366308752,
          745.7909564943166,
          733.6733410650696,
          722.4381059176075,
          712.060335639681,
          702.5144611103336,
          693.7744941426547,
          685.8142214384931
         ]
        },
        {
         "line": {
          "color": "red"
         },
         "mode": "lines",
         "name": "region France",
         "type": "scatter",
         "x": [
          1,
          2,
          3,
          4,
          5,
          6,
          7,
          8,
          9,
          10,
          11,
          12,
          13,
          14,
          15,
          16,
          17,
          18,
          19,
          20,
          21,
          22,
          23,
          24,
          25,
          26,
          27,
          28,
          29,
          30,
          31,
          32,
          33,
          34,
          35,
          36,
          37,
          38,
          39,
          40,
          41,
          42,
          43,
          44,
          45,
          46,
          47,
          48,
          49,
          50,
          51,
          52,
          53,
          54,
          55,
          56,
          57,
          58,
          59,
          60,
          61,
          62,
          63,
          64,
          65,
          66,
          67,
          68,
          69,
          70,
          71,
          72,
          73,
          74,
          75,
          76,
          77,
          78,
          79,
          80,
          81,
          82,
          83,
          84,
          85,
          86,
          87,
          88,
          89,
          90,
          91,
          92,
          93,
          94,
          95,
          96,
          97,
          98,
          99,
          100
         ],
         "y": [
          17.421129169098,
          39.151935685936685,
          61.667093496972264,
          83.07984255526758,
          102.67395523030585,
          120.81248868300386,
          138.46331598583757,
          156.68043595025446,
          176.3038887197438,
          197.88151054183106,
          221.75202333402373,
          248.1326164274634,
          277.20661607181523,
          309.15637517442417,
          344.1817225651222,
          382.47469203838006,
          424.20777733319215,
          469.5205968692055,
          518.5185283083619,
          571.246718498776,
          627.6833663165082,
          687.738580605164,
          751.2510284965715,
          817.9733585176207,
          887.5694476652384,
          959.6154650014355,
          1033.604686480633,
          1108.9504524645185,
          1184.9762618255506,
          1260.9627345159768,
          1334.8436879283358,
          1406.4498420886086,
          1475.2841887584668,
          1540.8063049428122,
          1602.4701140883715,
          1659.7192358955851,
          1712.0076482740196,
          1758.859677410457,
          1799.909783969299,
          1834.9128788694684,
          1863.7428098617524,
          1886.3856744158531,
          1902.9230163260597,
          1913.5371147880398,
          1918.4672507657092,
          1917.9977357827402,
          1912.4522830018998,
          1902.1851506256025,
          1887.571159908522,
          1868.988520118254,
          1846.8104080681815,
          1821.402436484439,
          1793.1220492036778,
          1762.314706766264,
          1729.3110182271678,
          1694.427121184141,
          1657.9654473650482,
          1620.2158353248992,
          1581.4582309705206,
          1541.9591380167767,
          1501.998421946715,
          1461.8184352483415,
          1421.6504849106734,
          1381.7132780805555,
          1342.2102085087802,
          1303.330245427814,
          1265.2486644762946,
          1228.1244940918662,
          1192.0981569026214,
          1157.2907131988095,
          1123.803360688117,
          1091.7179442280153,
          1061.098124551235,
          1031.9887368834052,
          1004.4185264002524,
          978.4018861478451,
          953.9398114272351,
          931.0215025540745,
          909.6262268925508,
          889.7255151280265,
          871.284816354229,
          854.2646500829279,
          838.6214919852914,
          824.3091199913114,
          811.2795196807053,
          799.4838177316266,
          788.8728817961758,
          779.3977649960946,
          771.0099939230369,
          763.6620110106213,
          757.3072597505106,
          751.9004311250566,
          747.3975755948723,
          743.7561680513437,
          740.935273949565,
          738.8955476308543,
          737.5991844601398,
          737.0099549709332,
          737.0932575682351,
          737.8161305650935
         ]
        }
       ],
       "layout": {
        "boxmode": "group",
        "legend": {
         "orientation": "h",
         "x": 1,
         "xanchor": "right",
         "y": 1.02,
         "yanchor": "bottom"
        },
        "plot_bgcolor": "white",
        "template": {
         "data": {
          "bar": [
           {
            "error_x": {
             "color": "#2a3f5f"
            },
            "error_y": {
             "color": "#2a3f5f"
            },
            "marker": {
             "line": {
              "color": "#E5ECF6",
              "width": 0.5
             },
             "pattern": {
              "fillmode": "overlay",
              "size": 10,
              "solidity": 0.2
             }
            },
            "type": "bar"
           }
          ],
          "barpolar": [
           {
            "marker": {
             "line": {
              "color": "#E5ECF6",
              "width": 0.5
             },
             "pattern": {
              "fillmode": "overlay",
              "size": 10,
              "solidity": 0.2
             }
            },
            "type": "barpolar"
           }
          ],
          "carpet": [
           {
            "aaxis": {
             "endlinecolor": "#2a3f5f",
             "gridcolor": "white",
             "linecolor": "white",
             "minorgridcolor": "white",
             "startlinecolor": "#2a3f5f"
            },
            "baxis": {
             "endlinecolor": "#2a3f5f",
             "gridcolor": "white",
             "linecolor": "white",
             "minorgridcolor": "white",
             "startlinecolor": "#2a3f5f"
            },
            "type": "carpet"
           }
          ],
          "choropleth": [
           {
            "colorbar": {
             "outlinewidth": 0,
             "ticks": ""
            },
            "type": "choropleth"
           }
          ],
          "contour": [
           {
            "colorbar": {
             "outlinewidth": 0,
             "ticks": ""
            },
            "colorscale": [
             [
              0,
              "#0d0887"
             ],
             [
              0.1111111111111111,
              "#46039f"
             ],
             [
              0.2222222222222222,
              "#7201a8"
             ],
             [
              0.3333333333333333,
              "#9c179e"
             ],
             [
              0.4444444444444444,
              "#bd3786"
             ],
             [
              0.5555555555555556,
              "#d8576b"
             ],
             [
              0.6666666666666666,
              "#ed7953"
             ],
             [
              0.7777777777777778,
              "#fb9f3a"
             ],
             [
              0.8888888888888888,
              "#fdca26"
             ],
             [
              1,
              "#f0f921"
             ]
            ],
            "type": "contour"
           }
          ],
          "contourcarpet": [
           {
            "colorbar": {
             "outlinewidth": 0,
             "ticks": ""
            },
            "type": "contourcarpet"
           }
          ],
          "heatmap": [
           {
            "colorbar": {
             "outlinewidth": 0,
             "ticks": ""
            },
            "colorscale": [
             [
              0,
              "#0d0887"
             ],
             [
              0.1111111111111111,
              "#46039f"
             ],
             [
              0.2222222222222222,
              "#7201a8"
             ],
             [
              0.3333333333333333,
              "#9c179e"
             ],
             [
              0.4444444444444444,
              "#bd3786"
             ],
             [
              0.5555555555555556,
              "#d8576b"
             ],
             [
              0.6666666666666666,
              "#ed7953"
             ],
             [
              0.7777777777777778,
              "#fb9f3a"
             ],
             [
              0.8888888888888888,
              "#fdca26"
             ],
             [
              1,
              "#f0f921"
             ]
            ],
            "type": "heatmap"
           }
          ],
          "heatmapgl": [
           {
            "colorbar": {
             "outlinewidth": 0,
             "ticks": ""
            },
            "colorscale": [
             [
              0,
              "#0d0887"
             ],
             [
              0.1111111111111111,
              "#46039f"
             ],
             [
              0.2222222222222222,
              "#7201a8"
             ],
             [
              0.3333333333333333,
              "#9c179e"
             ],
             [
              0.4444444444444444,
              "#bd3786"
             ],
             [
              0.5555555555555556,
              "#d8576b"
             ],
             [
              0.6666666666666666,
              "#ed7953"
             ],
             [
              0.7777777777777778,
              "#fb9f3a"
             ],
             [
              0.8888888888888888,
              "#fdca26"
             ],
             [
              1,
              "#f0f921"
             ]
            ],
            "type": "heatmapgl"
           }
          ],
          "histogram": [
           {
            "marker": {
             "pattern": {
              "fillmode": "overlay",
              "size": 10,
              "solidity": 0.2
             }
            },
            "type": "histogram"
           }
          ],
          "histogram2d": [
           {
            "colorbar": {
             "outlinewidth": 0,
             "ticks": ""
            },
            "colorscale": [
             [
              0,
              "#0d0887"
             ],
             [
              0.1111111111111111,
              "#46039f"
             ],
             [
              0.2222222222222222,
              "#7201a8"
             ],
             [
              0.3333333333333333,
              "#9c179e"
             ],
             [
              0.4444444444444444,
              "#bd3786"
             ],
             [
              0.5555555555555556,
              "#d8576b"
             ],
             [
              0.6666666666666666,
              "#ed7953"
             ],
             [
              0.7777777777777778,
              "#fb9f3a"
             ],
             [
              0.8888888888888888,
              "#fdca26"
             ],
             [
              1,
              "#f0f921"
             ]
            ],
            "type": "histogram2d"
           }
          ],
          "histogram2dcontour": [
           {
            "colorbar": {
             "outlinewidth": 0,
             "ticks": ""
            },
            "colorscale": [
             [
              0,
              "#0d0887"
             ],
             [
              0.1111111111111111,
              "#46039f"
             ],
             [
              0.2222222222222222,
              "#7201a8"
             ],
             [
              0.3333333333333333,
              "#9c179e"
             ],
             [
              0.4444444444444444,
              "#bd3786"
             ],
             [
              0.5555555555555556,
              "#d8576b"
             ],
             [
              0.6666666666666666,
              "#ed7953"
             ],
             [
              0.7777777777777778,
              "#fb9f3a"
             ],
             [
              0.8888888888888888,
              "#fdca26"
             ],
             [
              1,
              "#f0f921"
             ]
            ],
            "type": "histogram2dcontour"
           }
          ],
          "mesh3d": [
           {
            "colorbar": {
             "outlinewidth": 0,
             "ticks": ""
            },
            "type": "mesh3d"
           }
          ],
          "parcoords": [
           {
            "line": {
             "colorbar": {
              "outlinewidth": 0,
              "ticks": ""
             }
            },
            "type": "parcoords"
           }
          ],
          "pie": [
           {
            "automargin": true,
            "type": "pie"
           }
          ],
          "scatter": [
           {
            "fillpattern": {
             "fillmode": "overlay",
             "size": 10,
             "solidity": 0.2
            },
            "type": "scatter"
           }
          ],
          "scatter3d": [
           {
            "line": {
             "colorbar": {
              "outlinewidth": 0,
              "ticks": ""
             }
            },
            "marker": {
             "colorbar": {
              "outlinewidth": 0,
              "ticks": ""
             }
            },
            "type": "scatter3d"
           }
          ],
          "scattercarpet": [
           {
            "marker": {
             "colorbar": {
              "outlinewidth": 0,
              "ticks": ""
             }
            },
            "type": "scattercarpet"
           }
          ],
          "scattergeo": [
           {
            "marker": {
             "colorbar": {
              "outlinewidth": 0,
              "ticks": ""
             }
            },
            "type": "scattergeo"
           }
          ],
          "scattergl": [
           {
            "marker": {
             "colorbar": {
              "outlinewidth": 0,
              "ticks": ""
             }
            },
            "type": "scattergl"
           }
          ],
          "scattermapbox": [
           {
            "marker": {
             "colorbar": {
              "outlinewidth": 0,
              "ticks": ""
             }
            },
            "type": "scattermapbox"
           }
          ],
          "scatterpolar": [
           {
            "marker": {
             "colorbar": {
              "outlinewidth": 0,
              "ticks": ""
             }
            },
            "type": "scatterpolar"
           }
          ],
          "scatterpolargl": [
           {
            "marker": {
             "colorbar": {
              "outlinewidth": 0,
              "ticks": ""
             }
            },
            "type": "scatterpolargl"
           }
          ],
          "scatterternary": [
           {
            "marker": {
             "colorbar": {
              "outlinewidth": 0,
              "ticks": ""
             }
            },
            "type": "scatterternary"
           }
          ],
          "surface": [
           {
            "colorbar": {
             "outlinewidth": 0,
             "ticks": ""
            },
            "colorscale": [
             [
              0,
              "#0d0887"
             ],
             [
              0.1111111111111111,
              "#46039f"
             ],
             [
              0.2222222222222222,
              "#7201a8"
             ],
             [
              0.3333333333333333,
              "#9c179e"
             ],
             [
              0.4444444444444444,
              "#bd3786"
             ],
             [
              0.5555555555555556,
              "#d8576b"
             ],
             [
              0.6666666666666666,
              "#ed7953"
             ],
             [
              0.7777777777777778,
              "#fb9f3a"
             ],
             [
              0.8888888888888888,
              "#fdca26"
             ],
             [
              1,
              "#f0f921"
             ]
            ],
            "type": "surface"
           }
          ],
          "table": [
           {
            "cells": {
             "fill": {
              "color": "#EBF0F8"
             },
             "line": {
              "color": "white"
             }
            },
            "header": {
             "fill": {
              "color": "#C8D4E3"
             },
             "line": {
              "color": "white"
             }
            },
            "type": "table"
           }
          ]
         },
         "layout": {
          "annotationdefaults": {
           "arrowcolor": "#2a3f5f",
           "arrowhead": 0,
           "arrowwidth": 1
          },
          "autotypenumbers": "strict",
          "coloraxis": {
           "colorbar": {
            "outlinewidth": 0,
            "ticks": ""
           }
          },
          "colorscale": {
           "diverging": [
            [
             0,
             "#8e0152"
            ],
            [
             0.1,
             "#c51b7d"
            ],
            [
             0.2,
             "#de77ae"
            ],
            [
             0.3,
             "#f1b6da"
            ],
            [
             0.4,
             "#fde0ef"
            ],
            [
             0.5,
             "#f7f7f7"
            ],
            [
             0.6,
             "#e6f5d0"
            ],
            [
             0.7,
             "#b8e186"
            ],
            [
             0.8,
             "#7fbc41"
            ],
            [
             0.9,
             "#4d9221"
            ],
            [
             1,
             "#276419"
            ]
           ],
           "sequential": [
            [
             0,
             "#0d0887"
            ],
            [
             0.1111111111111111,
             "#46039f"
            ],
            [
             0.2222222222222222,
             "#7201a8"
            ],
            [
             0.3333333333333333,
             "#9c179e"
            ],
            [
             0.4444444444444444,
             "#bd3786"
            ],
            [
             0.5555555555555556,
             "#d8576b"
            ],
            [
             0.6666666666666666,
             "#ed7953"
            ],
            [
             0.7777777777777778,
             "#fb9f3a"
            ],
            [
             0.8888888888888888,
             "#fdca26"
            ],
            [
             1,
             "#f0f921"
            ]
           ],
           "sequentialminus": [
            [
             0,
             "#0d0887"
            ],
            [
             0.1111111111111111,
             "#46039f"
            ],
            [
             0.2222222222222222,
             "#7201a8"
            ],
            [
             0.3333333333333333,
             "#9c179e"
            ],
            [
             0.4444444444444444,
             "#bd3786"
            ],
            [
             0.5555555555555556,
             "#d8576b"
            ],
            [
             0.6666666666666666,
             "#ed7953"
            ],
            [
             0.7777777777777778,
             "#fb9f3a"
            ],
            [
             0.8888888888888888,
             "#fdca26"
            ],
            [
             1,
             "#f0f921"
            ]
           ]
          },
          "colorway": [
           "#636efa",
           "#EF553B",
           "#00cc96",
           "#ab63fa",
           "#FFA15A",
           "#19d3f3",
           "#FF6692",
           "#B6E880",
           "#FF97FF",
           "#FECB52"
          ],
          "font": {
           "color": "#2a3f5f"
          },
          "geo": {
           "bgcolor": "white",
           "lakecolor": "white",
           "landcolor": "#E5ECF6",
           "showlakes": true,
           "showland": true,
           "subunitcolor": "white"
          },
          "hoverlabel": {
           "align": "left"
          },
          "hovermode": "closest",
          "mapbox": {
           "style": "light"
          },
          "paper_bgcolor": "white",
          "plot_bgcolor": "#E5ECF6",
          "polar": {
           "angularaxis": {
            "gridcolor": "white",
            "linecolor": "white",
            "ticks": ""
           },
           "bgcolor": "#E5ECF6",
           "radialaxis": {
            "gridcolor": "white",
            "linecolor": "white",
            "ticks": ""
           }
          },
          "scene": {
           "xaxis": {
            "backgroundcolor": "#E5ECF6",
            "gridcolor": "white",
            "gridwidth": 2,
            "linecolor": "white",
            "showbackground": true,
            "ticks": "",
            "zerolinecolor": "white"
           },
           "yaxis": {
            "backgroundcolor": "#E5ECF6",
            "gridcolor": "white",
            "gridwidth": 2,
            "linecolor": "white",
            "showbackground": true,
            "ticks": "",
            "zerolinecolor": "white"
           },
           "zaxis": {
            "backgroundcolor": "#E5ECF6",
            "gridcolor": "white",
            "gridwidth": 2,
            "linecolor": "white",
            "showbackground": true,
            "ticks": "",
            "zerolinecolor": "white"
           }
          },
          "shapedefaults": {
           "line": {
            "color": "#2a3f5f"
           }
          },
          "ternary": {
           "aaxis": {
            "gridcolor": "white",
            "linecolor": "white",
            "ticks": ""
           },
           "baxis": {
            "gridcolor": "white",
            "linecolor": "white",
            "ticks": ""
           },
           "bgcolor": "#E5ECF6",
           "caxis": {
            "gridcolor": "white",
            "linecolor": "white",
            "ticks": ""
           }
          },
          "title": {
           "x": 0.05
          },
          "xaxis": {
           "automargin": true,
           "gridcolor": "white",
           "linecolor": "white",
           "ticks": "",
           "title": {
            "standoff": 15
           },
           "zerolinecolor": "white",
           "zerolinewidth": 2
          },
          "yaxis": {
           "automargin": true,
           "gridcolor": "white",
           "linecolor": "white",
           "ticks": "",
           "title": {
            "standoff": 15
           },
           "zerolinecolor": "white",
           "zerolinewidth": 2
          }
         }
        },
        "title": {
         "text": "Years of Life Lost for Scenario: Prioritise those 60-70 then 50-60, then 75+"
        },
        "width": 800,
        "xaxis": {
         "linecolor": "black"
        },
        "yaxis": {
         "linecolor": "black"
        }
       }
      }
     },
     "metadata": {},
     "output_type": "display_data"
    },
    {
     "data": {
      "application/vnd.plotly.v1+json": {
       "config": {
        "plotlyServerURL": "https://plot.ly"
       },
       "data": [
        {
         "line": {
          "color": "blue"
         },
         "mode": "lines",
         "name": "region United Kingdom",
         "type": "scatter",
         "x": [
          1,
          2,
          3,
          4,
          5,
          6,
          7,
          8,
          9,
          10,
          11,
          12,
          13,
          14,
          15,
          16,
          17,
          18,
          19,
          20,
          21,
          22,
          23,
          24,
          25,
          26,
          27,
          28,
          29,
          30,
          31,
          32,
          33,
          34,
          35,
          36,
          37,
          38,
          39,
          40,
          41,
          42,
          43,
          44,
          45,
          46,
          47,
          48,
          49,
          50,
          51,
          52,
          53,
          54,
          55,
          56,
          57,
          58,
          59,
          60,
          61,
          62,
          63,
          64,
          65,
          66,
          67,
          68,
          69,
          70,
          71,
          72,
          73,
          74,
          75,
          76,
          77,
          78,
          79,
          80,
          81,
          82,
          83,
          84,
          85,
          86,
          87,
          88,
          89,
          90,
          91,
          92,
          93,
          94,
          95,
          96,
          97,
          98,
          99,
          100
         ],
         "y": [
          16.913892041609433,
          37.985640549734526,
          59.72508375129525,
          80.21377882484516,
          98.64217907007037,
          115.24460317981271,
          130.8643044582184,
          146.45619103724817,
          162.78393943420747,
          180.32767129433498,
          199.35053379684513,
          219.98046515343876,
          242.2984834752728,
          266.3816831519887,
          292.3261110644846,
          320.23910007301265,
          350.2279655179035,
          382.39462217957964,
          416.8322041307938,
          453.61819521694355,
          492.80649374066184,
          534.4255469559514,
          578.4781130380773,
          624.9395501749495,
          673.7572535803913,
          724.8435499992065,
          778.0714102088303,
          833.27405023179,
          890.2456456603414,
          948.7470109721489,
          1007.2119619602622,
          1065.8937063697292,
          1124.7084131358997,
          1183.483874950785,
          1241.9599833132652,
          1299.7853697983521,
          1356.5173632836281,
          1411.6680668735582,
          1464.762812311395,
          1515.364598427478,
          1563.080183993892,
          1607.559366909373,
          1648.490078539559,
          1685.6019463366179,
          1718.6808867377515,
          1747.56444892983,
          1772.140392336258,
          1792.3452496638013,
          1808.1627890292414,
          1819.6207327289624,
          1826.7893329964436,
          1829.7873066883874,
          1828.7616999393692,
          1823.8820254309019,
          1815.3375260514458,
          1803.3361176796402,
          1788.1011348215802,
          1769.8682658222642,
          1748.8844155832571,
          1725.3970399723828,
          1699.6761057808715,
          1671.9630508260714,
          1642.4955314339775,
          1611.5068458836852,
          1579.2267433090287,
          1545.8799631856034,
          1511.6845108048285,
          1476.8515242299281,
          1441.5828578477935,
          1406.0697189849336,
          1370.491932637754,
          1335.0175823244456,
          1299.8029230351272,
          1264.9924565428605,
          1230.7162785707826,
          1197.0905322500328,
          1164.2186425301034,
          1132.1916510873755,
          1101.0883842095802,
          1070.9757323116655,
          1041.9088452581118,
          1013.9307586200584,
          987.0743160210194,
          961.3626001307442,
          936.8099610659436,
          913.4232060237617,
          891.2023917607653,
          870.1414864658755,
          850.228843452542,
          831.4483179608052,
          813.7799638351514,
          797.2008187381566,
          781.6852216361403,
          767.2053680189545,
          753.7318738339252,
          741.2342301119755,
          729.6812963431063,
          719.0415384924036,
          709.2832675839828,
          700.3748398641909
         ]
        },
        {
         "line": {
          "color": "red"
         },
         "mode": "lines",
         "name": "region France",
         "type": "scatter",
         "x": [
          1,
          2,
          3,
          4,
          5,
          6,
          7,
          8,
          9,
          10,
          11,
          12,
          13,
          14,
          15,
          16,
          17,
          18,
          19,
          20,
          21,
          22,
          23,
          24,
          25,
          26,
          27,
          28,
          29,
          30,
          31,
          32,
          33,
          34,
          35,
          36,
          37,
          38,
          39,
          40,
          41,
          42,
          43,
          44,
          45,
          46,
          47,
          48,
          49,
          50,
          51,
          52,
          53,
          54,
          55,
          56,
          57,
          58,
          59,
          60,
          61,
          62,
          63,
          64,
          65,
          66,
          67,
          68,
          69,
          70,
          71,
          72,
          73,
          74,
          75,
          76,
          77,
          78,
          79,
          80,
          81,
          82,
          83,
          84,
          85,
          86,
          87,
          88,
          89,
          90,
          91,
          92,
          93,
          94,
          95,
          96,
          97,
          98,
          99,
          100
         ],
         "y": [
          17.421129169098,
          39.157280199820434,
          61.76264638229333,
          83.56091858366776,
          104.10356901011401,
          123.97736989309763,
          144.2773942765483,
          166.08769804484632,
          190.21133928267622,
          217.12874591416073,
          247.11287749282155,
          280.3342642358674,
          316.95097135367297,
          357.13630147592653,
          401.08975146687305,
          448.99590043043236,
          501.0084439443045,
          557.2344989725301,
          617.7223270858029,
          682.4370540328982,
          751.2554057418541,
          823.9663223146172,
          900.2645694331821,
          979.7357743788143,
          1061.8662729468815,
          1146.047857519812,
          1231.5892099476255,
          1317.708689638839,
          1403.5532364731607,
          1488.2498682038693,
          1569.6034481466854,
          1647.3424619172583,
          1720.8940541624413,
          1789.6740266491493,
          1853.118845606969,
          1910.685535684701,
          1961.8741633701995,
          2006.2964544271545,
          2043.6991180956575,
          2073.9633199660166,
          2097.0973738609096,
          2113.224461083699,
          2122.565957233771,
          2125.431803249243,
          2122.1767915002024,
          2113.189281359782,
          2098.88607609024,
          2079.7032837486113,
          2056.0854689762473,
          2028.470602607208,
          1997.28407191239,
          1962.9371948692788,
          1925.82780609301,
          1886.3371638813574,
          1844.828282034991,
          1801.6476844106144,
          1757.1262757635675,
          1711.5814335462562,
          1665.3183637070272,
          1618.6261552340943,
          1571.8049190730262,
          1525.114539602189,
          1478.8005827954516,
          1433.0917516918832,
          1388.1973042227796,
          1344.3081000232507,
          1301.5972835507973,
          1260.2170260907087,
          1220.2970256523417,
          1181.9445642067653,
          1145.2445096824306,
          1110.2604390370166,
          1077.035936185886,
          1045.595198778037,
          1015.9462203889344,
          988.0828949564612,
          961.9861947528542,
          937.6261118466666,
          914.9638191167063,
          893.9539322055844,
          874.5461322951035,
          856.6863250293469,
          840.3175296500019,
          825.3812225225286,
          811.8181612605209,
          799.5691856619219,
          788.575744881693,
          778.7802753620304,
          770.1264445168958,
          762.5595490758092,
          756.0265209364708,
          750.4761321670036,
          745.8590728364751,
          742.1280066059026,
          739.2377133011128,
          737.1450429219325,
          735.8088408108138,
          735.1899712716504,
          735.2513390426132,
          735.9578639727795
         ]
        }
       ],
       "layout": {
        "boxmode": "group",
        "legend": {
         "orientation": "h",
         "x": 1,
         "xanchor": "right",
         "y": 1.02,
         "yanchor": "bottom"
        },
        "plot_bgcolor": "white",
        "template": {
         "data": {
          "bar": [
           {
            "error_x": {
             "color": "#2a3f5f"
            },
            "error_y": {
             "color": "#2a3f5f"
            },
            "marker": {
             "line": {
              "color": "#E5ECF6",
              "width": 0.5
             },
             "pattern": {
              "fillmode": "overlay",
              "size": 10,
              "solidity": 0.2
             }
            },
            "type": "bar"
           }
          ],
          "barpolar": [
           {
            "marker": {
             "line": {
              "color": "#E5ECF6",
              "width": 0.5
             },
             "pattern": {
              "fillmode": "overlay",
              "size": 10,
              "solidity": 0.2
             }
            },
            "type": "barpolar"
           }
          ],
          "carpet": [
           {
            "aaxis": {
             "endlinecolor": "#2a3f5f",
             "gridcolor": "white",
             "linecolor": "white",
             "minorgridcolor": "white",
             "startlinecolor": "#2a3f5f"
            },
            "baxis": {
             "endlinecolor": "#2a3f5f",
             "gridcolor": "white",
             "linecolor": "white",
             "minorgridcolor": "white",
             "startlinecolor": "#2a3f5f"
            },
            "type": "carpet"
           }
          ],
          "choropleth": [
           {
            "colorbar": {
             "outlinewidth": 0,
             "ticks": ""
            },
            "type": "choropleth"
           }
          ],
          "contour": [
           {
            "colorbar": {
             "outlinewidth": 0,
             "ticks": ""
            },
            "colorscale": [
             [
              0,
              "#0d0887"
             ],
             [
              0.1111111111111111,
              "#46039f"
             ],
             [
              0.2222222222222222,
              "#7201a8"
             ],
             [
              0.3333333333333333,
              "#9c179e"
             ],
             [
              0.4444444444444444,
              "#bd3786"
             ],
             [
              0.5555555555555556,
              "#d8576b"
             ],
             [
              0.6666666666666666,
              "#ed7953"
             ],
             [
              0.7777777777777778,
              "#fb9f3a"
             ],
             [
              0.8888888888888888,
              "#fdca26"
             ],
             [
              1,
              "#f0f921"
             ]
            ],
            "type": "contour"
           }
          ],
          "contourcarpet": [
           {
            "colorbar": {
             "outlinewidth": 0,
             "ticks": ""
            },
            "type": "contourcarpet"
           }
          ],
          "heatmap": [
           {
            "colorbar": {
             "outlinewidth": 0,
             "ticks": ""
            },
            "colorscale": [
             [
              0,
              "#0d0887"
             ],
             [
              0.1111111111111111,
              "#46039f"
             ],
             [
              0.2222222222222222,
              "#7201a8"
             ],
             [
              0.3333333333333333,
              "#9c179e"
             ],
             [
              0.4444444444444444,
              "#bd3786"
             ],
             [
              0.5555555555555556,
              "#d8576b"
             ],
             [
              0.6666666666666666,
              "#ed7953"
             ],
             [
              0.7777777777777778,
              "#fb9f3a"
             ],
             [
              0.8888888888888888,
              "#fdca26"
             ],
             [
              1,
              "#f0f921"
             ]
            ],
            "type": "heatmap"
           }
          ],
          "heatmapgl": [
           {
            "colorbar": {
             "outlinewidth": 0,
             "ticks": ""
            },
            "colorscale": [
             [
              0,
              "#0d0887"
             ],
             [
              0.1111111111111111,
              "#46039f"
             ],
             [
              0.2222222222222222,
              "#7201a8"
             ],
             [
              0.3333333333333333,
              "#9c179e"
             ],
             [
              0.4444444444444444,
              "#bd3786"
             ],
             [
              0.5555555555555556,
              "#d8576b"
             ],
             [
              0.6666666666666666,
              "#ed7953"
             ],
             [
              0.7777777777777778,
              "#fb9f3a"
             ],
             [
              0.8888888888888888,
              "#fdca26"
             ],
             [
              1,
              "#f0f921"
             ]
            ],
            "type": "heatmapgl"
           }
          ],
          "histogram": [
           {
            "marker": {
             "pattern": {
              "fillmode": "overlay",
              "size": 10,
              "solidity": 0.2
             }
            },
            "type": "histogram"
           }
          ],
          "histogram2d": [
           {
            "colorbar": {
             "outlinewidth": 0,
             "ticks": ""
            },
            "colorscale": [
             [
              0,
              "#0d0887"
             ],
             [
              0.1111111111111111,
              "#46039f"
             ],
             [
              0.2222222222222222,
              "#7201a8"
             ],
             [
              0.3333333333333333,
              "#9c179e"
             ],
             [
              0.4444444444444444,
              "#bd3786"
             ],
             [
              0.5555555555555556,
              "#d8576b"
             ],
             [
              0.6666666666666666,
              "#ed7953"
             ],
             [
              0.7777777777777778,
              "#fb9f3a"
             ],
             [
              0.8888888888888888,
              "#fdca26"
             ],
             [
              1,
              "#f0f921"
             ]
            ],
            "type": "histogram2d"
           }
          ],
          "histogram2dcontour": [
           {
            "colorbar": {
             "outlinewidth": 0,
             "ticks": ""
            },
            "colorscale": [
             [
              0,
              "#0d0887"
             ],
             [
              0.1111111111111111,
              "#46039f"
             ],
             [
              0.2222222222222222,
              "#7201a8"
             ],
             [
              0.3333333333333333,
              "#9c179e"
             ],
             [
              0.4444444444444444,
              "#bd3786"
             ],
             [
              0.5555555555555556,
              "#d8576b"
             ],
             [
              0.6666666666666666,
              "#ed7953"
             ],
             [
              0.7777777777777778,
              "#fb9f3a"
             ],
             [
              0.8888888888888888,
              "#fdca26"
             ],
             [
              1,
              "#f0f921"
             ]
            ],
            "type": "histogram2dcontour"
           }
          ],
          "mesh3d": [
           {
            "colorbar": {
             "outlinewidth": 0,
             "ticks": ""
            },
            "type": "mesh3d"
           }
          ],
          "parcoords": [
           {
            "line": {
             "colorbar": {
              "outlinewidth": 0,
              "ticks": ""
             }
            },
            "type": "parcoords"
           }
          ],
          "pie": [
           {
            "automargin": true,
            "type": "pie"
           }
          ],
          "scatter": [
           {
            "fillpattern": {
             "fillmode": "overlay",
             "size": 10,
             "solidity": 0.2
            },
            "type": "scatter"
           }
          ],
          "scatter3d": [
           {
            "line": {
             "colorbar": {
              "outlinewidth": 0,
              "ticks": ""
             }
            },
            "marker": {
             "colorbar": {
              "outlinewidth": 0,
              "ticks": ""
             }
            },
            "type": "scatter3d"
           }
          ],
          "scattercarpet": [
           {
            "marker": {
             "colorbar": {
              "outlinewidth": 0,
              "ticks": ""
             }
            },
            "type": "scattercarpet"
           }
          ],
          "scattergeo": [
           {
            "marker": {
             "colorbar": {
              "outlinewidth": 0,
              "ticks": ""
             }
            },
            "type": "scattergeo"
           }
          ],
          "scattergl": [
           {
            "marker": {
             "colorbar": {
              "outlinewidth": 0,
              "ticks": ""
             }
            },
            "type": "scattergl"
           }
          ],
          "scattermapbox": [
           {
            "marker": {
             "colorbar": {
              "outlinewidth": 0,
              "ticks": ""
             }
            },
            "type": "scattermapbox"
           }
          ],
          "scatterpolar": [
           {
            "marker": {
             "colorbar": {
              "outlinewidth": 0,
              "ticks": ""
             }
            },
            "type": "scatterpolar"
           }
          ],
          "scatterpolargl": [
           {
            "marker": {
             "colorbar": {
              "outlinewidth": 0,
              "ticks": ""
             }
            },
            "type": "scatterpolargl"
           }
          ],
          "scatterternary": [
           {
            "marker": {
             "colorbar": {
              "outlinewidth": 0,
              "ticks": ""
             }
            },
            "type": "scatterternary"
           }
          ],
          "surface": [
           {
            "colorbar": {
             "outlinewidth": 0,
             "ticks": ""
            },
            "colorscale": [
             [
              0,
              "#0d0887"
             ],
             [
              0.1111111111111111,
              "#46039f"
             ],
             [
              0.2222222222222222,
              "#7201a8"
             ],
             [
              0.3333333333333333,
              "#9c179e"
             ],
             [
              0.4444444444444444,
              "#bd3786"
             ],
             [
              0.5555555555555556,
              "#d8576b"
             ],
             [
              0.6666666666666666,
              "#ed7953"
             ],
             [
              0.7777777777777778,
              "#fb9f3a"
             ],
             [
              0.8888888888888888,
              "#fdca26"
             ],
             [
              1,
              "#f0f921"
             ]
            ],
            "type": "surface"
           }
          ],
          "table": [
           {
            "cells": {
             "fill": {
              "color": "#EBF0F8"
             },
             "line": {
              "color": "white"
             }
            },
            "header": {
             "fill": {
              "color": "#C8D4E3"
             },
             "line": {
              "color": "white"
             }
            },
            "type": "table"
           }
          ]
         },
         "layout": {
          "annotationdefaults": {
           "arrowcolor": "#2a3f5f",
           "arrowhead": 0,
           "arrowwidth": 1
          },
          "autotypenumbers": "strict",
          "coloraxis": {
           "colorbar": {
            "outlinewidth": 0,
            "ticks": ""
           }
          },
          "colorscale": {
           "diverging": [
            [
             0,
             "#8e0152"
            ],
            [
             0.1,
             "#c51b7d"
            ],
            [
             0.2,
             "#de77ae"
            ],
            [
             0.3,
             "#f1b6da"
            ],
            [
             0.4,
             "#fde0ef"
            ],
            [
             0.5,
             "#f7f7f7"
            ],
            [
             0.6,
             "#e6f5d0"
            ],
            [
             0.7,
             "#b8e186"
            ],
            [
             0.8,
             "#7fbc41"
            ],
            [
             0.9,
             "#4d9221"
            ],
            [
             1,
             "#276419"
            ]
           ],
           "sequential": [
            [
             0,
             "#0d0887"
            ],
            [
             0.1111111111111111,
             "#46039f"
            ],
            [
             0.2222222222222222,
             "#7201a8"
            ],
            [
             0.3333333333333333,
             "#9c179e"
            ],
            [
             0.4444444444444444,
             "#bd3786"
            ],
            [
             0.5555555555555556,
             "#d8576b"
            ],
            [
             0.6666666666666666,
             "#ed7953"
            ],
            [
             0.7777777777777778,
             "#fb9f3a"
            ],
            [
             0.8888888888888888,
             "#fdca26"
            ],
            [
             1,
             "#f0f921"
            ]
           ],
           "sequentialminus": [
            [
             0,
             "#0d0887"
            ],
            [
             0.1111111111111111,
             "#46039f"
            ],
            [
             0.2222222222222222,
             "#7201a8"
            ],
            [
             0.3333333333333333,
             "#9c179e"
            ],
            [
             0.4444444444444444,
             "#bd3786"
            ],
            [
             0.5555555555555556,
             "#d8576b"
            ],
            [
             0.6666666666666666,
             "#ed7953"
            ],
            [
             0.7777777777777778,
             "#fb9f3a"
            ],
            [
             0.8888888888888888,
             "#fdca26"
            ],
            [
             1,
             "#f0f921"
            ]
           ]
          },
          "colorway": [
           "#636efa",
           "#EF553B",
           "#00cc96",
           "#ab63fa",
           "#FFA15A",
           "#19d3f3",
           "#FF6692",
           "#B6E880",
           "#FF97FF",
           "#FECB52"
          ],
          "font": {
           "color": "#2a3f5f"
          },
          "geo": {
           "bgcolor": "white",
           "lakecolor": "white",
           "landcolor": "#E5ECF6",
           "showlakes": true,
           "showland": true,
           "subunitcolor": "white"
          },
          "hoverlabel": {
           "align": "left"
          },
          "hovermode": "closest",
          "mapbox": {
           "style": "light"
          },
          "paper_bgcolor": "white",
          "plot_bgcolor": "#E5ECF6",
          "polar": {
           "angularaxis": {
            "gridcolor": "white",
            "linecolor": "white",
            "ticks": ""
           },
           "bgcolor": "#E5ECF6",
           "radialaxis": {
            "gridcolor": "white",
            "linecolor": "white",
            "ticks": ""
           }
          },
          "scene": {
           "xaxis": {
            "backgroundcolor": "#E5ECF6",
            "gridcolor": "white",
            "gridwidth": 2,
            "linecolor": "white",
            "showbackground": true,
            "ticks": "",
            "zerolinecolor": "white"
           },
           "yaxis": {
            "backgroundcolor": "#E5ECF6",
            "gridcolor": "white",
            "gridwidth": 2,
            "linecolor": "white",
            "showbackground": true,
            "ticks": "",
            "zerolinecolor": "white"
           },
           "zaxis": {
            "backgroundcolor": "#E5ECF6",
            "gridcolor": "white",
            "gridwidth": 2,
            "linecolor": "white",
            "showbackground": true,
            "ticks": "",
            "zerolinecolor": "white"
           }
          },
          "shapedefaults": {
           "line": {
            "color": "#2a3f5f"
           }
          },
          "ternary": {
           "aaxis": {
            "gridcolor": "white",
            "linecolor": "white",
            "ticks": ""
           },
           "baxis": {
            "gridcolor": "white",
            "linecolor": "white",
            "ticks": ""
           },
           "bgcolor": "#E5ECF6",
           "caxis": {
            "gridcolor": "white",
            "linecolor": "white",
            "ticks": ""
           }
          },
          "title": {
           "x": 0.05
          },
          "xaxis": {
           "automargin": true,
           "gridcolor": "white",
           "linecolor": "white",
           "ticks": "",
           "title": {
            "standoff": 15
           },
           "zerolinecolor": "white",
           "zerolinewidth": 2
          },
          "yaxis": {
           "automargin": true,
           "gridcolor": "white",
           "linecolor": "white",
           "ticks": "",
           "title": {
            "standoff": 15
           },
           "zerolinecolor": "white",
           "zerolinewidth": 2
          }
         }
        },
        "title": {
         "text": "Years of Life Lost for Scenario: Prioritise those 50-60 then 60-70, then 75+"
        },
        "width": 800,
        "xaxis": {
         "linecolor": "black"
        },
        "yaxis": {
         "linecolor": "black"
        }
       }
      }
     },
     "metadata": {},
     "output_type": "display_data"
    }
   ],
   "source": [
    "# Trace names - represent the solver used for the simulation\n",
    "trace_name = ['region {}'.format(r) for r in regions]\n",
    "\n",
    "# Plot for each boosting scenario\n",
    "for s, scenario in enumerate(scenario_names):\n",
    "    fig = go.Figure()\n",
    "    # Plot (line plot for each solver method for each age)\n",
    "    for o, out in enumerate(outputs[s]):\n",
    "        fig.add_trace(\n",
    "            go.Scatter(\n",
    "                y=total_years_of_life_lost[s][o],\n",
    "                x=parameters.simulation_parameters.times,\n",
    "                mode='lines',\n",
    "                name=trace_name[o],\n",
    "                line_color=colours[o],\n",
    "            )\n",
    "        )\n",
    "\n",
    "    # Add axis labels\n",
    "    fig.update_layout(\n",
    "        boxmode='group',\n",
    "        title='Years of Life Lost for Scenario: {}'.format(scenario),\n",
    "        width=800,\n",
    "        plot_bgcolor='white',\n",
    "        xaxis=dict(linecolor='black'),\n",
    "        yaxis=dict(linecolor='black'),\n",
    "        legend=dict(\n",
    "            orientation=\"h\",\n",
    "            yanchor=\"bottom\",\n",
    "            y=1.02,\n",
    "            xanchor=\"right\",\n",
    "            x=1\n",
    "        ))\n",
    "\n",
    "    fig.write_image('images/Years of Life Lost Scenario {}.pdf'.format(s+1))\n",
    "    fig.show()"
   ]
  }
 ],
 "metadata": {
  "interpreter": {
   "hash": "68071bb08c320916033ffa6702342928cea5ba8baa6ee7305e5c9ae08c2309c8"
  },
  "kernelspec": {
   "display_name": "Python 3.10.8 64-bit ('warwick': conda)",
   "name": "python3"
  },
  "language_info": {
   "codemirror_mode": {
    "name": "ipython",
    "version": 3
   },
   "file_extension": ".py",
   "mimetype": "text/x-python",
   "name": "python",
   "nbconvert_exporter": "python",
   "pygments_lexer": "ipython3",
   "version": "3.10.8"
  },
  "orig_nbformat": 4
 },
 "nbformat": 4,
 "nbformat_minor": 2
}
