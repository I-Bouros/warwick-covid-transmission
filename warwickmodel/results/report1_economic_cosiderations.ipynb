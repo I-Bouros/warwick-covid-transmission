{
 "cells": [
  {
   "cell_type": "markdown",
   "metadata": {},
   "source": [
    "# REPORT 1 - Economic considerations of different boosting priority strategies\n",
    "\n",
    "In this notebook we compute the economic burdens of different age-priority boosting strategies, using the `warwickmodel`, built by Universities of Warwick and Lancaster, with population data from 5 countries with very different socio-economic profiles.\n",
    "\n",
    "The effectiveness cost of boosters is quantified in terms of reductions in total amount of years of life lost due to boosyer vaccines deploymnet. We assume an initial boosting campaign in the population, with no subsequent boosters being deployed during the simulation. \n",
    "\n",
    "The infection dynamics are run for:\n",
    " - Dates: **15 Feb 2020** - **25 June 2021**;\n",
    " - Countries of interest: **United Kingdom**, **France**;\n",
    " - Number of boosters deployed: **10%** of the population.\n",
    "\n",
    "*The Warwick model is built by Universities of Warwick and Lancaster.*"
   ]
  },
  {
   "cell_type": "code",
   "execution_count": 1,
   "metadata": {},
   "outputs": [],
   "source": [
    "# Load necessary libraries\n",
    "import os\n",
    "import copy\n",
    "import numpy as np\n",
    "import pandas as pd\n",
    "import scipy\n",
    "import epimodels as em\n",
    "import warwickmodel as wm\n",
    "import matplotlib\n",
    "import plotly.graph_objects as go\n",
    "from matplotlib import pyplot as plt\n",
    "from iteration_utilities import deepflatten"
   ]
  },
  {
   "cell_type": "markdown",
   "metadata": {},
   "source": [
    "## Model Setup\n",
    "### Define setup matrices for the WarwickLanc Model"
   ]
  },
  {
   "cell_type": "code",
   "execution_count": 2,
   "metadata": {},
   "outputs": [],
   "source": [
    "# Populate the model\n",
    "total_days =  100\n",
    "regions = ['United Kingdom', 'France']\n",
    "age_groups = ['0-4', '5-9', '10-14', '15-19', '20-24', '25-29', '30-34', '35-39',\n",
    "              '40-44', '45-49', '50-54', '55-59', '60-64', '65-69', '70-74', '75+']\n",
    "\n",
    "regimes = np.arange(1, 101, 1).tolist()\n",
    "\n",
    "# Add folder path to data file\n",
    "path = os.path.join('../data/')"
   ]
  },
  {
   "cell_type": "markdown",
   "metadata": {},
   "source": [
    "### Read in corresponding data files for the countries considered for all 100 regimes"
   ]
  },
  {
   "cell_type": "code",
   "execution_count": 3,
   "metadata": {},
   "outputs": [],
   "source": [
    "# Matrices contact\n",
    "matrices_contact = []\n",
    "matrices_region = []\n",
    "time_changes_contact = []\n",
    "time_changes_region = []\n",
    "\n",
    "# Vaccine effects\n",
    "nu_tra = []\n",
    "nu_symp = []\n",
    "nu_inf = []\n",
    "nu_sev_h = []\n",
    "nu_sev_d = []\n",
    "\n",
    "# Parameters\n",
    "omega = []\n",
    "alpha = []\n",
    "gamma = []\n",
    "tau = []\n",
    "we = []\n",
    "\n",
    "# Initial conditions\n",
    "susceptibles_IC = []\n",
    "exposed1_IC = []\n",
    "exposed2_IC = []\n",
    "exposed3_IC = []\n",
    "exposed4_IC = []\n",
    "exposed5_IC = []\n",
    "infectives_sym_IC = []\n",
    "infectives_asym_IC = []\n",
    "recovered_IC = []\n",
    "\n",
    "# Risk factors\n",
    "d = []\n",
    "beta = []\n",
    "\n",
    "# Probabilities of proceeding to severe outcomes\n",
    "pItoH = []\n",
    "pHtoD = []\n",
    "\n",
    "# Distribution of delays before proceeding to severe outcomes\n",
    "dItoH = []\n",
    "dHtoD = []\n",
    "\n",
    "for R in regimes:\n",
    "        regimes_matrices_region = []\n",
    "\n",
    "        # Initial state of the system\n",
    "        weeks_matrices_region = []\n",
    "        for r in regions:\n",
    "                region_data_matrix = pd.read_csv(\n",
    "                        os.path.join(path, '{}/Contacts_{}.csv'.format(r, R)),\n",
    "                        header=None, dtype=np.float64)\n",
    "                regional = em.RegionMatrix(r, age_groups, region_data_matrix)\n",
    "                weeks_matrices_region.append(regional)\n",
    "\n",
    "        regimes_matrices_region.append(weeks_matrices_region)\n",
    "\n",
    "        contacts = em.ContactMatrix(age_groups, np.ones((len(age_groups), len(age_groups))))\n",
    "        regimes_matrices_contact = [contacts]\n",
    "\n",
    "        matrices_region.append(regimes_matrices_region)\n",
    "        matrices_contact.append(regimes_matrices_contact)\n",
    "\n",
    "        # Matrices contact\n",
    "        time_changes_contact.append([1])\n",
    "        time_changes_region.append([1])\n",
    "\n",
    "        # Over 75 population fractions\n",
    "        frac_pop_over75 = []\n",
    "\n",
    "        for r in regions:\n",
    "                IC_df = pd.read_csv(\n",
    "                        os.path.join(path, '{}/Start_pop_{}.csv'.format(r, R)),\n",
    "                        skiprows=15,\n",
    "                        header=None, dtype=np.float64)\n",
    "\n",
    "                frac_pop_over75.append((1/np.sum(np.asarray(IC_df))) * np.sum(np.asarray(IC_df),axis=1))\n",
    "\n",
    "        # Risk Factors\n",
    "        extended_regimes_d = []\n",
    "        regimes_d = []\n",
    "        regimes_beta = []\n",
    "\n",
    "        for r, reg in enumerate(regions):\n",
    "                RF_df = pd.read_csv(\n",
    "                        os.path.join(path, '{}/Risks_{}.csv'.format(reg, R)),\n",
    "                        dtype=np.float64)\n",
    "                extended_d = RF_df['symptom_risk'].tolist()\n",
    "                extended_beta = RF_df['susceptibility'].tolist()\n",
    "\n",
    "                extended_regimes_d.append(extended_d)\n",
    "\n",
    "                regimes_d.append(extended_d[:15] + [np.sum(np.multiply(extended_d[15:], frac_pop_over75[r]))])\n",
    "                regimes_beta.append(extended_beta[:15] + [np.sum(np.multiply(extended_beta[15:], frac_pop_over75[r]))])\n",
    "\n",
    "        d.append(regimes_d)\n",
    "        beta.append(regimes_beta)\n",
    "\n",
    "        # Vaccine effects\n",
    "        eff_df = pd.read_csv(\n",
    "                os.path.join(path, 'global_parameters/efficacies_{}.csv'.format(R)),\n",
    "                usecols=range(1,5), dtype=np.float64)\n",
    "\n",
    "        VE_i = eff_df['Infection_eff']\n",
    "        VE_s = eff_df['Symptom_eff']\n",
    "        VE_h = eff_df['Hosp_eff']\n",
    "        VE_d = eff_df['Death_eff']\n",
    "\n",
    "        VE_d = np.divide(VE_d-VE_h, 1-VE_h)\n",
    "        VE_h = np.divide(VE_h-VE_i, 1-VE_i)\n",
    "        VE_s = np.divide(VE_s-VE_i, 1-VE_i)\n",
    "\n",
    "        regimes_nu_tra = [1] * 6\n",
    "        regimes_nu_symp = np.nan_to_num(1 - VE_s).tolist()\n",
    "        regimes_nu_inf = np.nan_to_num(1 - VE_i).tolist()\n",
    "        regimes_nu_sev_h = np.nan_to_num(1 - VE_h).tolist()\n",
    "        regimes_nu_sev_d = np.nan_to_num(1 - VE_d).tolist()\n",
    "\n",
    "        nu_tra.append(regimes_nu_tra)\n",
    "        nu_symp.append(regimes_nu_symp)\n",
    "        nu_inf.append(regimes_nu_inf)\n",
    "        nu_sev_h.append(regimes_nu_sev_h)\n",
    "        nu_sev_d.append(regimes_nu_sev_d)\n",
    "\n",
    "        # Parameters\n",
    "        param_df = pd.read_csv(\n",
    "                os.path.join(path, 'global_parameters/parameters_{}.csv'.format(R)),\n",
    "                dtype=np.float64)\n",
    "\n",
    "        regimes_omega = param_df['transmission'].tolist()[0]\n",
    "        regimes_alpha = 1\n",
    "        regimes_gamma = param_df['recovery'].tolist()[0]\n",
    "        regimes_tau = param_df['asymptomatic_transmission'].tolist()[0]\n",
    "        regimes_we = [param_df['waning_rate'].tolist()[0]] * 2 + [0]\n",
    "\n",
    "        omega.append(regimes_omega)\n",
    "        alpha.append(regimes_alpha)\n",
    "        gamma.append(regimes_gamma)\n",
    "        tau.append(regimes_tau)\n",
    "        we.append(regimes_we)\n",
    "\n",
    "        # Initial conditions\n",
    "        regimes_susceptibles_IC = []\n",
    "        regimes_exposed1_IC = []\n",
    "        regimes_exposed2_IC = []\n",
    "        regimes_exposed3_IC = []\n",
    "        regimes_exposed4_IC = []\n",
    "        regimes_exposed5_IC = []\n",
    "        regimes_infectives_sym_IC = []\n",
    "        regimes_infectives_asym_IC = []\n",
    "        regimes_recovered_IC = []\n",
    "\n",
    "        # Susceptible\n",
    "        for r in regions:\n",
    "                IC_df = pd.read_csv(\n",
    "                        os.path.join(path, '{}/Start_pop_{}.csv'.format(r, R)),\n",
    "                        usecols=range(0, 5),\n",
    "                        header=None, dtype=np.float64)\n",
    "\n",
    "                extended_S = np.asarray(IC_df)\n",
    "                under_75_S = extended_S[:15, :]\n",
    "                over_75_S = extended_S[15:, :]\n",
    "                reduced_S = np.vstack((under_75_S, np.sum(over_75_S, axis=0)))\n",
    "                regimes_susceptibles_IC.append(\n",
    "                        reduced_S.flatten('F').tolist() + [0] * len(age_groups))\n",
    "\n",
    "        # Exposed 1\n",
    "        for r in regions:\n",
    "                IC_df = pd.read_csv(\n",
    "                        os.path.join(path, '{}/Start_pop_{}.csv'.format(r, R)),\n",
    "                        usecols=range(5, 10),\n",
    "                        header=None, dtype=np.float64)\n",
    "\n",
    "                extended_E1 = np.asarray(IC_df)\n",
    "                under_75_E1 = extended_E1[:15, :]\n",
    "                over_75_E1 = extended_E1[15:, :]\n",
    "                reduced_E1 = np.vstack((under_75_E1, np.sum(over_75_E1, axis=0)))\n",
    "                regimes_exposed1_IC.append(\n",
    "                        reduced_E1.flatten('F').tolist() + [0] * len(age_groups))\n",
    "\n",
    "        # Exposed 2\n",
    "        for r in regions:\n",
    "                IC_df = pd.read_csv(\n",
    "                        os.path.join(path, '{}/Start_pop_{}.csv'.format(r, R)),\n",
    "                        usecols=range(10, 15),\n",
    "                        header=None, dtype=np.float64)\n",
    "\n",
    "                extended_E2 = np.asarray(IC_df)\n",
    "                under_75_E2 = extended_E2[:15, :]\n",
    "                over_75_E2 = extended_E2[15:, :]\n",
    "                reduced_E2 = np.vstack((under_75_E2, np.sum(over_75_E2, axis=0)))\n",
    "                regimes_exposed2_IC.append(\n",
    "                        reduced_E2.flatten('F').tolist() + [0] * len(age_groups))\n",
    "\n",
    "        # Exposed 3\n",
    "        for r in regions:\n",
    "                IC_df = pd.read_csv(\n",
    "                        os.path.join(path, '{}/Start_pop_{}.csv'.format(r, R)),\n",
    "                        usecols=range(15, 20),\n",
    "                        header=None, dtype=np.float64)\n",
    "\n",
    "                extended_E3 = np.asarray(IC_df)\n",
    "                under_75_E3 = extended_E3[:15, :]\n",
    "                over_75_E3 = extended_E3[15:, :]\n",
    "                reduced_E3 = np.vstack((under_75_E3, np.sum(over_75_E3, axis=0)))\n",
    "                regimes_exposed3_IC.append(\n",
    "                        reduced_E3.flatten('F').tolist() + [0] * len(age_groups))\n",
    "\n",
    "        # Exposed 4\n",
    "        for r in regions:\n",
    "                IC_df = pd.read_csv(\n",
    "                        os.path.join(path, '{}/Start_pop_{}.csv'.format(r, R)),\n",
    "                        usecols=range(20, 25),\n",
    "                        header=None, dtype=np.float64)\n",
    "\n",
    "                extended_E4 = np.asarray(IC_df)\n",
    "                under_75_E4 = extended_E4[:15, :]\n",
    "                over_75_E4 = extended_E4[15:, :]\n",
    "                reduced_E4 = np.vstack((under_75_E4, np.sum(over_75_E4, axis=0)))\n",
    "                regimes_exposed4_IC.append(\n",
    "                        reduced_E4.flatten('F').tolist() + [0] * len(age_groups))\n",
    "\n",
    "        # Exposed 5\n",
    "        for r in regions:\n",
    "                IC_df = pd.read_csv(\n",
    "                        os.path.join(path, '{}/Start_pop_{}.csv'.format(r, R)),\n",
    "                        usecols=range(25, 30),\n",
    "                        header=None, dtype=np.float64)\n",
    "\n",
    "                extended_E5 = np.asarray(IC_df)\n",
    "                under_75_E5 = extended_E5[:15, :]\n",
    "                over_75_E5 = extended_E5[15:, :]\n",
    "                reduced_E5 = np.vstack((under_75_E5, np.sum(over_75_E5, axis=0)))\n",
    "                regimes_exposed5_IC.append(\n",
    "                        reduced_E5.flatten('F').tolist() + [0] * len(age_groups))\n",
    "\n",
    "        # Symptomatic & Asymptomatic Infectious\n",
    "        for _, r in enumerate(regions):\n",
    "                IC_df = pd.read_csv(\n",
    "                        os.path.join(path, '{}/Start_pop_{}.csv'.format(r, R)),\n",
    "                        usecols=range(30, 35),\n",
    "                        header=None, dtype=np.float64)\n",
    "\n",
    "                extended_I = np.zeros_like(np.asarray(IC_df))\n",
    "                extended_I[:, 0] = np.matmul(np.diag(regimes_nu_symp[0] * np.array(extended_regimes_d[_])), np.asarray(IC_df)[:, 0])\n",
    "                extended_I[:, 1] = np.matmul(np.diag(regimes_nu_symp[1] * np.array(extended_regimes_d[_])), np.asarray(IC_df)[:, 1])\n",
    "                extended_I[:, 2] = np.matmul(np.diag(regimes_nu_symp[2] * np.array(extended_regimes_d[_])), np.asarray(IC_df)[:, 2])\n",
    "                extended_I[:, 3] = np.matmul(np.diag(regimes_nu_symp[3] * np.array(extended_regimes_d[_])), np.asarray(IC_df)[:, 3])\n",
    "                extended_I[:, 4] = np.matmul(np.diag(regimes_nu_symp[4] * np.array(extended_regimes_d[_])), np.asarray(IC_df)[:, 4])\n",
    "                under_75_I = extended_I[:15, :]\n",
    "                over_75_I = extended_I[15:, :]\n",
    "                reduced_I = np.vstack((under_75_I, np.sum(over_75_I, axis=0)))\n",
    "                regimes_infectives_sym_IC.append(\n",
    "                        reduced_I.flatten('F').tolist() + [0] * len(age_groups))\n",
    "\n",
    "                extended_A = np.zeros_like(np.asarray(IC_df))\n",
    "                extended_A[:, 0] = np.matmul(np.diag((1 - regimes_nu_symp[0] * np.array(extended_regimes_d[_]))), np.asarray(IC_df)[:, 0])\n",
    "                extended_A[:, 1] = np.matmul(np.diag((1 - regimes_nu_symp[1] * np.array(extended_regimes_d[_]))), np.asarray(IC_df)[:, 1])\n",
    "                extended_A[:, 2] = np.matmul(np.diag((1 - regimes_nu_symp[2] * np.array(extended_regimes_d[_]))), np.asarray(IC_df)[:, 2])\n",
    "                extended_A[:, 3] = np.matmul(np.diag((1 - regimes_nu_symp[3] * np.array(extended_regimes_d[_]))), np.asarray(IC_df)[:, 3])\n",
    "                extended_A[:, 4] = np.matmul(np.diag((1 - regimes_nu_symp[4] * np.array(extended_regimes_d[_]))), np.asarray(IC_df)[:, 4])\n",
    "                under_75_A = extended_A[:15, :]\n",
    "                over_75_A = extended_A[15:, :]\n",
    "                reduced_A = np.vstack((under_75_A, np.sum(over_75_A, axis=0)))\n",
    "                regimes_infectives_asym_IC.append(\n",
    "                        reduced_A.flatten('F').tolist() + [0] * len(age_groups))\n",
    "\n",
    "        # Recovered\n",
    "        for r in regions:\n",
    "                IC_df = pd.read_csv(\n",
    "                        os.path.join(path, '{}/Start_pop_{}.csv'.format(r, R)),\n",
    "                        usecols=[35],\n",
    "                        header=None, dtype=np.float64)\n",
    "\n",
    "                extended_R = np.asarray(IC_df)\n",
    "                under_75_R = extended_R[:15, :]\n",
    "                over_75_R = extended_R[15:, :]\n",
    "                reduced_R = np.vstack((under_75_R, np.sum(over_75_R, axis=0)))\n",
    "                regimes_recovered_IC.append(\n",
    "                        reduced_R.flatten('F').tolist())\n",
    "\n",
    "        susceptibles_IC.append(regimes_susceptibles_IC)\n",
    "        exposed1_IC.append(regimes_exposed1_IC)\n",
    "        exposed2_IC.append(regimes_exposed2_IC)\n",
    "        exposed3_IC.append(regimes_exposed3_IC)\n",
    "        exposed4_IC.append(regimes_exposed4_IC)\n",
    "        exposed5_IC.append(regimes_exposed5_IC)\n",
    "        infectives_sym_IC.append(regimes_infectives_sym_IC)\n",
    "        infectives_asym_IC.append(regimes_infectives_asym_IC)\n",
    "        recovered_IC.append(regimes_recovered_IC)\n",
    "\n",
    "        # Set time-to-hospitalisation using a Gamma distribution using the mean and standard deviation \n",
    "        th_mean = param_df['hosp_lag'].tolist()[0]+0.00001\n",
    "        th_var = 12.1**2\n",
    "        theta = th_var / th_mean\n",
    "        k = th_mean / theta\n",
    "        time_to_hosp = scipy.stats.gamma(k, scale=theta).pdf(np.arange(1, 31)).tolist()\n",
    "\n",
    "        # Set time-to-death using a Gamma distribution using the mean and standard deviation\n",
    "        td_mean = param_df['death_lag'].tolist()[0]\n",
    "        td_var = 12.1**2\n",
    "        theta = td_var / td_mean\n",
    "        k = td_mean / theta\n",
    "        time_to_death = scipy.stats.gamma(k, scale=theta).pdf(np.arange(1, 31)).tolist()\n",
    "\n",
    "        # Probabilities of proceeding to severe outcomes\n",
    "        # Infected -> Hospital\n",
    "        extended_pItoH = RF_df['hospitalisation_risk'].tolist()\n",
    "\n",
    "        regimes_pItoH = []\n",
    "        for r, reg in enumerate(regions):\n",
    "                regimes_pItoH.append(extended_pItoH[:15] + [np.sum(np.multiply(extended_pItoH[15:], frac_pop_over75[r]))])\n",
    "\n",
    "        pItoH.append(regimes_pItoH)\n",
    "\n",
    "        # Hospital -> Death\n",
    "        extended_pHtoD = RF_df['death_risk'].tolist()\n",
    "\n",
    "        regimes_pHtoD = []\n",
    "        for r, reg in enumerate(regions):\n",
    "                regimes_pHtoD.append(extended_pHtoD[:15] + [np.sum(np.multiply(extended_pHtoD[15:], frac_pop_over75[r]))])\n",
    "\n",
    "        pHtoD.append(regimes_pHtoD)\n",
    "\n",
    "        # Distribution of delays before proceeding to severe outcomes\n",
    "        # Infected -> Hospital\n",
    "        dItoH.append(time_to_hosp)\n",
    "        # Hospital -> Death\n",
    "        dHtoD.append(time_to_death)\n",
    "\n",
    "# Other parameters\n",
    "vac=0\n",
    "vacb=0\n",
    "\n",
    "adult = np.ones(len(age_groups))\n",
    "adult[0] = 0\n",
    "adult[1] = 0\n",
    "adult[2] = 0"
   ]
  },
  {
   "cell_type": "markdown",
   "metadata": {},
   "source": [
    "### Calculate life expectancy for each region"
   ]
  },
  {
   "cell_type": "code",
   "execution_count": 4,
   "metadata": {},
   "outputs": [],
   "source": [
    "# Read region-dependent vectors of years of life lost\n",
    "life_ex = []\n",
    "\n",
    "for r, reg in enumerate(regions):\n",
    "        # Read life expectancy data\n",
    "        LE_df = pd.read_csv(os.path.join(path, 'Life_expectancy_{}.csv'.format(reg)),\n",
    "                usecols=[1, 2], dtype=np.float64)\n",
    "        LE = np.array(LE_df)\n",
    "\n",
    "        # Read age & sex distribution data\n",
    "        ASD_df = pd.read_csv(os.path.join(path, 'Age_sex_distribution_{}.csv'.format(reg)),\n",
    "                usecols=[1, 2], dtype=np.float64)\n",
    "        extended_ASD = np.array(ASD_df)\n",
    "        ASD = np.zeros_like(LE)\n",
    "\n",
    "        # Group the ages of the ASD into the same age groups as the LE\n",
    "        sum_ages = [\n",
    "                0, range(1, 5), range(5, 10), range(10, 15), range(15, 20), range(20, 25), range(25, 30), range(30, 35), range(35, 40), \n",
    "                range(40, 45), range(45, 50), range(50, 55), range(55, 60), range(60, 65), range(65, 70), range(70, 75), range(75, 80), \n",
    "                range(80, 85), range(85, 101)]\n",
    "\n",
    "        ASD[0, :] = extended_ASD[sum_ages[0], :]\n",
    "\n",
    "        for _, ages in enumerate(sum_ages[1:]):\n",
    "                ASD[_ + 1, :] = np.sum(extended_ASD[ages, :], axis=0)\n",
    "\n",
    "        frac_ASD = np.matmul(np.diag(1/np.sum(ASD, axis=1)), ASD)\n",
    "\n",
    "        # Compute the life expectancy of the different age groups\n",
    "        total_LE = np.sum(np.multiply(frac_ASD, LE), axis=1)\n",
    "\n",
    "        # Read Life expectancy data\n",
    "        frac_AD = (1/np.sum(ASD[:2, :]) * np.sum(ASD[:2, :], axis=1)).tolist() + [1] * 14 + (1/np.sum(ASD[16:, :]) * np.sum(ASD[16:, :], axis=1)).tolist()\n",
    "\n",
    "        # Compute the life expectancy of the correct age groups\n",
    "        split_LE = np.multiply(frac_AD, total_LE)\n",
    "        \n",
    "        final_LE = np.zeros(len(age_groups))\n",
    "        final_LE[0] = np.sum(split_LE[:2])\n",
    "        final_LE[1:15] = split_LE[2:16]\n",
    "        final_LE[15] = np.sum(split_LE[16:]).tolist()\n",
    "\n",
    "        life_ex.append(final_LE)\n",
    "      "
   ]
  },
  {
   "cell_type": "markdown",
   "metadata": {},
   "source": [
    "### Calculate maximum number of booster vaccines available"
   ]
  },
  {
   "cell_type": "code",
   "execution_count": 5,
   "metadata": {},
   "outputs": [],
   "source": [
    "# Proportion of the total population for which boosters are available\n",
    "boost_pop_percent = 0.1\n",
    "\n",
    "# Compute the number of boosters for each region\n",
    "boosters = []\n",
    "\n",
    "for R in regimes:\n",
    "        regimes_boosters = []\n",
    "        for r in regions:\n",
    "                IC_df = pd.read_csv(\n",
    "                        os.path.join(path, '{}/Start_pop_{}.csv'.format(r, R)),\n",
    "                        header=None, dtype=np.float64)\n",
    "\n",
    "                regimes_boosters.append(boost_pop_percent * np.sum(np.asarray(IC_df)))\n",
    "        boosters.append(regimes_boosters)"
   ]
  },
  {
   "cell_type": "markdown",
   "metadata": {},
   "source": [
    "## Boosting campaign scenarios\n",
    "\n",
    "We only boost the partially-waned and recovered. However those in the R compartment who receive the booster do not move out of the compartment (they have higher immunity than the boosted)"
   ]
  },
  {
   "cell_type": "code",
   "execution_count": 6,
   "metadata": {},
   "outputs": [],
   "source": [
    "# Maximum percentage booster uptake of each age group\n",
    "boost_age_percent = 0.9\n",
    "\n",
    "# Compute the maximum number of boosters we can deploy for each age group in each region\n",
    "max_boosters = []\n",
    "max_boosters_for_R = []\n",
    "max_boosters_for_Sw1 = []\n",
    "\n",
    "for R, _ in enumerate(regimes):\n",
    "        regimes_max_boosters = []\n",
    "        regimes_max_boosters_for_R = []\n",
    "        regimes_max_boosters_for_Sw1 = []\n",
    "        for r, reg in enumerate(regions):\n",
    "                boosters_for_R = boost_age_percent * np.asarray(recovered_IC[R][r])\n",
    "                boosters_for_Sw1 = boost_age_percent * np.asarray(susceptibles_IC[R][r])[(3*len(age_groups)):(4*len(age_groups))]\n",
    "\n",
    "                regimes_max_boosters_for_R.append(boosters_for_R)\n",
    "                regimes_max_boosters_for_Sw1.append(boosters_for_Sw1)\n",
    "                regimes_max_boosters.append(boosters_for_R + boosters_for_Sw1)\n",
    "\n",
    "        max_boosters_for_R.append(regimes_max_boosters_for_R)\n",
    "        max_boosters_for_Sw1.append(regimes_max_boosters_for_Sw1)\n",
    "        max_boosters.append(regimes_max_boosters)\n",
    "\n",
    "# Create list of new susceptible_ICs for each vaccination scenario\n",
    "scenario_susceptibles_IC = []\n",
    "scenario_names = []\n",
    "age_boosting_scenario_order = []"
   ]
  },
  {
   "cell_type": "markdown",
   "metadata": {},
   "source": [
    "**Scenario 1**: Prioritising those 75+"
   ]
  },
  {
   "cell_type": "code",
   "execution_count": 7,
   "metadata": {},
   "outputs": [],
   "source": [
    "scenario_names.append('Prioritise 75+')\n",
    "age_boosting_scenario_order.append((np.arange(16, 0, -1) - 1).tolist())"
   ]
  },
  {
   "cell_type": "markdown",
   "metadata": {},
   "source": [
    "**Scenario 2**: Prioritising those 60-70 then 75+"
   ]
  },
  {
   "cell_type": "code",
   "execution_count": 8,
   "metadata": {},
   "outputs": [],
   "source": [
    "scenario_names.append('Prioritise 60-70 then 75+')\n",
    "age_boosting_scenario_order.append([range(13, 15), 15] + (np.arange(13, 0, -1) - 1).tolist())"
   ]
  },
  {
   "cell_type": "markdown",
   "metadata": {},
   "source": [
    "**Scenario 3**: Prioritising those 60-70 then 50-60, then 75+"
   ]
  },
  {
   "cell_type": "code",
   "execution_count": 9,
   "metadata": {},
   "outputs": [],
   "source": [
    "scenario_names.append('Prioritise those 60-70 then 50-60, then 75+')\n",
    "age_boosting_scenario_order.append([range(13, 15), range(11, 13), 15] + (np.arange(11, 0, -1) - 1).tolist())"
   ]
  },
  {
   "cell_type": "markdown",
   "metadata": {},
   "source": [
    "**Scenario 4**: Prioritising those 50-69, then 60-70 then 75+"
   ]
  },
  {
   "cell_type": "code",
   "execution_count": 10,
   "metadata": {},
   "outputs": [],
   "source": [
    "scenario_names.append('Prioritise those 50-60 then 60-70, then 75+')\n",
    "age_boosting_scenario_order.append([range(11, 13), range(13, 15), 15] + (np.arange(11, 0, -1) - 1).tolist())"
   ]
  },
  {
   "cell_type": "markdown",
   "metadata": {},
   "source": [
    "### Compute new susceptible conditions based on each boosting scenario"
   ]
  },
  {
   "cell_type": "code",
   "execution_count": 11,
   "metadata": {},
   "outputs": [],
   "source": [
    "for s, _ in enumerate(scenario_names):\n",
    "    regimes_new_susceptibles_IC = []\n",
    "    scenario_boosters = copy.deepcopy(boosters)\n",
    "\n",
    "    for R, _ in enumerate(regimes):\n",
    "        new_susceptibles_IC = [\n",
    "            np.array(susceptibles_IC[R][r].copy()).reshape((6, 16)).transpose() for r in range(len(regions))]\n",
    "        \n",
    "        new_susceptibles_IC = np.array(new_susceptibles_IC)\n",
    "        regimes_scenario_boosters = scenario_boosters[R]\n",
    "        reg_new_susceptibles_IC = []\n",
    "\n",
    "        for r, reg in enumerate(regions):\n",
    "            for ages in age_boosting_scenario_order[s]:\n",
    "                if np.sum(max_boosters[R][r][ages]) <= scenario_boosters[R][r]:\n",
    "                    # Add boosted from the Sw1 to Sb\n",
    "                    new_susceptibles_IC[r, ages, 2] += max_boosters_for_Sw1[R][r][ages]\n",
    "                    # Remove boosted from the Sw1\n",
    "                    new_susceptibles_IC[r, ages, 3] -= max_boosters_for_Sw1[R][r][ages]\n",
    "                    # Remove boosted from the Sw1 and R from total boocters for the scenario\n",
    "                    scenario_boosters[R][r] -= np.sum(max_boosters[R][r][ages])\n",
    "                else:\n",
    "                    # Compute proportion of boosters we have left to give for the age group\n",
    "                    prop = scenario_boosters[R][r] / np.sum(max_boosters[R][r][ages])\n",
    "                    # Add boosted from the Sw1 to Sb\n",
    "                    new_susceptibles_IC[r, ages, 2] += prop * max_boosters_for_Sw1[R][r][ages]\n",
    "                    # Remove boosted from the Sw1\n",
    "                    new_susceptibles_IC[r, ages, 3] -= prop * max_boosters_for_Sw1[R][r][ages]\n",
    "                    # Remove boosted from the Sw1 and R from total boocters for the scenario\n",
    "                    scenario_boosters[R][r] -= prop * np.sum(max_boosters[R][r][ages])\n",
    "\n",
    "            reg_new_susceptibles_IC.append(list(deepflatten(new_susceptibles_IC[r].transpose())))\n",
    "\n",
    "        regimes_new_susceptibles_IC.append(reg_new_susceptibles_IC)\n",
    "    scenario_susceptibles_IC.append(regimes_new_susceptibles_IC)"
   ]
  },
  {
   "cell_type": "markdown",
   "metadata": {},
   "source": [
    "### Set the parameters and initial conditions of the model and bundle everything together"
   ]
  },
  {
   "cell_type": "code",
   "execution_count": 12,
   "metadata": {},
   "outputs": [],
   "source": [
    "# Instantiate model\n",
    "model = wm.WarwickLancSEIRModel()\n",
    "\n",
    "# Set the region names, contact and regional data of the model\n",
    "model.set_regions(regions)\n",
    "model.set_age_groups(age_groups)\n",
    "\n",
    "# List of times at which we wish to evaluate the states of the compartments of the model\n",
    "times = np.arange(1, total_days+1, 1).tolist()"
   ]
  },
  {
   "cell_type": "markdown",
   "metadata": {},
   "source": [
    "### Simulate for the regions"
   ]
  },
  {
   "cell_type": "code",
   "execution_count": 13,
   "metadata": {},
   "outputs": [],
   "source": [
    "# Simulate for all the regions and regimes\n",
    "outputs = []\n",
    "\n",
    "for s, scenario in enumerate(scenario_names):\n",
    "    scenario_outputs = []\n",
    "    for R, regime in enumerate(regimes):\n",
    "        model.read_contact_data(matrices_contact[R], time_changes_contact[R])\n",
    "        model.read_regional_data(matrices_region[R], time_changes_region[R])\n",
    "\n",
    "        # Set regional and time dependent parameters\n",
    "        regional_parameters = wm.RegParameters(\n",
    "            model=model,\n",
    "            region_index=1\n",
    "        )\n",
    "\n",
    "        # Set ICs parameters\n",
    "        ICs_parameters = wm.ICs(\n",
    "            model=model,\n",
    "            susceptibles_IC=scenario_susceptibles_IC[s][R],\n",
    "            exposed1_IC=exposed1_IC[R],\n",
    "            exposed2_IC=exposed2_IC[R],\n",
    "            exposed3_IC=exposed3_IC[R],\n",
    "            exposed4_IC=exposed4_IC[R],\n",
    "            exposed5_IC=exposed5_IC[R],\n",
    "            infectives_sym_IC=infectives_sym_IC[R],\n",
    "            infectives_asym_IC=infectives_asym_IC[R],\n",
    "            recovered_IC=recovered_IC[R]\n",
    "        )\n",
    "\n",
    "        # Set disease-specific parameters\n",
    "        disease_parameters = wm.DiseaseParameters(\n",
    "            model=model,\n",
    "            d=d[R][0],\n",
    "            tau=tau[R],\n",
    "            we=we[R],\n",
    "            omega=omega[R]\n",
    "        )\n",
    "\n",
    "        # Set transmission parameters\n",
    "        transmission_parameters = wm.Transmission(\n",
    "            model=model,\n",
    "            beta=beta[R][0],\n",
    "            alpha=alpha[R],\n",
    "            gamma=gamma[R]\n",
    "        )\n",
    "\n",
    "        # Set other simulation parameters\n",
    "        simulation_parameters = wm.SimParameters(\n",
    "            model=model,\n",
    "            method='Radau',\n",
    "            times=times,\n",
    "            eps=False\n",
    "        )\n",
    "\n",
    "        # Set vaccination parameters\n",
    "        vaccine_parameters = wm.VaccineParameters(\n",
    "            model=model,\n",
    "            vac=vac,\n",
    "            vacb=vacb,\n",
    "            adult=adult,\n",
    "            nu_tra=nu_tra[R],\n",
    "            nu_symp=nu_symp[R],\n",
    "            nu_inf=nu_inf[R],\n",
    "            nu_sev_h=nu_sev_h[R],\n",
    "            nu_sev_d=nu_sev_d[R],\n",
    "        )\n",
    "\n",
    "        # Set social distancing parameters\n",
    "        soc_dist_parameters = wm.SocDistParameters(\n",
    "            model=model,\n",
    "            phi=1\n",
    "        )\n",
    "\n",
    "        # Set all parameters in the controller\n",
    "        parameters = wm.ParametersController(\n",
    "            model=model,\n",
    "            regional_parameters=regional_parameters,\n",
    "            ICs_parameters=ICs_parameters,\n",
    "            disease_parameters=disease_parameters,\n",
    "            transmission_parameters=transmission_parameters,\n",
    "            simulation_parameters=simulation_parameters,\n",
    "            vaccine_parameters=vaccine_parameters,\n",
    "            soc_dist_parameters=soc_dist_parameters\n",
    "        )\n",
    "\n",
    "        # Simulate for all the regions\n",
    "        regimes_outputs = []\n",
    "        for r, reg in enumerate(regions):\n",
    "            # List of initial conditions and parameters that characterise the model\n",
    "            parameters.regional_parameters.region_index = r + 1\n",
    "\n",
    "            parameters.disease_parameters.d = d[R][r]\n",
    "            parameters.transmission_parameters.beta = beta[R][r]\n",
    "\n",
    "            # Simulate using the ODE solver\n",
    "            regimes_outputs.append(model.simulate(parameters))\n",
    "\n",
    "        scenario_outputs.append(regimes_outputs)\n",
    "\n",
    "    outputs.append(scenario_outputs)\n",
    "\n",
    "outputs = np.array(outputs)"
   ]
  },
  {
   "cell_type": "markdown",
   "metadata": {},
   "source": [
    "## Plot the comparments of the two methods against each other\n",
    "### Setup ``plotly`` and default settings for plotting"
   ]
  },
  {
   "cell_type": "code",
   "execution_count": 14,
   "metadata": {},
   "outputs": [],
   "source": [
    "from plotly.subplots import make_subplots\n",
    "\n",
    "colours = ['blue', 'red', 'green', 'purple', 'orange', 'black', 'gray', 'pink']"
   ]
  },
  {
   "cell_type": "markdown",
   "metadata": {},
   "source": [
    "## Number of New Infections, Hospitalisations, Deaths & Total number of years of life lost"
   ]
  },
  {
   "cell_type": "code",
   "execution_count": 15,
   "metadata": {},
   "outputs": [],
   "source": [
    "# Simulate for all the regions (sum over all age groups)\n",
    "total_years_of_life_lost = []\n",
    "\n",
    "for s, scenario in enumerate(scenario_names):\n",
    "    scenario_total_years_of_life_lost = []\n",
    "    for R, regime in enumerate(regimes):\n",
    "        regimes_total_years_of_life_lost = []\n",
    "        for r, reg in enumerate(regions):\n",
    "            # Compute regional matrix of new infections for all timepoints simulated\n",
    "            reg_new_infections = model.new_infections(outputs[s, R, r, :, :])\n",
    "\n",
    "            # Compute regional matrix of new hospitalisation for all timepoints simulated\n",
    "            reg_new_hospitalisation = model.new_hospitalisations(reg_new_infections, pItoH[R][r], dItoH[R])\n",
    "\n",
    "            # Compute regional matrix of new deaths for all timepoints simulated\n",
    "            reg_new_deaths = model.new_deaths(reg_new_hospitalisation, pHtoD[R][r], dHtoD[R])\n",
    "\n",
    "            regimes_total_years_of_life_lost.append(np.sum(np.matmul(\n",
    "                reg_new_deaths[0] + reg_new_deaths[1] + reg_new_deaths[2] +\n",
    "                reg_new_deaths[3] + reg_new_deaths[4] + reg_new_deaths[5],\n",
    "                np.diag(life_ex[r])\n",
    "                ), axis=1))\n",
    "\n",
    "        scenario_total_years_of_life_lost.append(regimes_total_years_of_life_lost)\n",
    "\n",
    "    total_years_of_life_lost.append(scenario_total_years_of_life_lost)\n",
    "\n",
    "total_years_of_life_lost = np.array(total_years_of_life_lost)"
   ]
  },
  {
   "cell_type": "code",
   "execution_count": 16,
   "metadata": {},
   "outputs": [],
   "source": [
    "# Set up traces to plot\n",
    "total_years_of_life_lost_mean = []\n",
    "total_years_of_life_lost_upper = []\n",
    "total_years_of_life_lost_lower = []\n",
    "\n",
    "for r, _ in enumerate(regions):\n",
    "    # Compute the mean \n",
    "    total_years_of_life_lost_mean.append(np.mean(total_years_of_life_lost[:,:,r,:], axis=1))\n",
    "\n",
    "    # Compute the upper quantiles\n",
    "    total_years_of_life_lost_upper.append(np.quantile(total_years_of_life_lost[:,:,r,:], 0.975, axis=1))\n",
    "\n",
    "    # Compute the lower qunatiles\n",
    "    total_years_of_life_lost_lower.append(np.quantile(total_years_of_life_lost[:,:,r,:], 0.025, axis=1))"
   ]
  },
  {
   "cell_type": "markdown",
   "metadata": {},
   "source": [
    "### Plot the time series of numbers of years lost of the two regions"
   ]
  },
  {
   "cell_type": "code",
   "execution_count": 17,
   "metadata": {},
   "outputs": [
    {
     "data": {
      "application/vnd.plotly.v1+json": {
       "config": {
        "plotlyServerURL": "https://plot.ly"
       },
       "data": [
        {
         "line": {
          "color": "blue"
         },
         "mode": "lines",
         "name": "region United Kingdom",
         "type": "scatter",
         "x": [
          1,
          2,
          3,
          4,
          5,
          6,
          7,
          8,
          9,
          10,
          11,
          12,
          13,
          14,
          15,
          16,
          17,
          18,
          19,
          20,
          21,
          22,
          23,
          24,
          25,
          26,
          27,
          28,
          29,
          30,
          31,
          32,
          33,
          34,
          35,
          36,
          37,
          38,
          39,
          40,
          41,
          42,
          43,
          44,
          45,
          46,
          47,
          48,
          49,
          50,
          51,
          52,
          53,
          54,
          55,
          56,
          57,
          58,
          59,
          60,
          61,
          62,
          63,
          64,
          65,
          66,
          67,
          68,
          69,
          70,
          71,
          72,
          73,
          74,
          75,
          76,
          77,
          78,
          79,
          80,
          81,
          82,
          83,
          84,
          85,
          86,
          87,
          88,
          89,
          90,
          91,
          92,
          93,
          94,
          95,
          96,
          97,
          98,
          99,
          100
         ],
         "y": [
          19.91968251924815,
          44.75927906241564,
          70.37087123120914,
          94.28242325176039,
          115.25375880261365,
          133.30498768603044,
          149.24783276735062,
          164.1062035759218,
          178.74484083573537,
          193.75240792363556,
          209.4776455759621,
          226.1226890096315,
          243.82180904078848,
          262.69006848981985,
          282.8395494355919,
          304.38126073946046,
          327.424325438071,
          352.0702050964259,
          378.4118775788068,
          406.5338341819978,
          436.51197745313306,
          468.41226433057585,
          502.29749943948644,
          538.2238188663465,
          576.2345086460613,
          616.3580296478298,
          658.6075609195094,
          702.980863923859,
          749.4600374858991,
          798.0094760648477,
          847.0669063177371,
          897.2367737406388,
          948.7394491821541,
          1001.7091087566151,
          1056.1876659888167,
          1112.0980552669132,
          1169.2593934844654,
          1227.4206593206936,
          1286.2915890507916,
          1345.5674176872503,
          1404.9416763666136,
          1464.1072582834195,
          1522.75440403102,
          1580.571450113485,
          1637.2453520702456,
          1692.46633788074,
          1745.9296172357028,
          1797.3438591247466,
          1846.4370144545317,
          1892.9585470329582,
          1936.680475036132,
          1977.398889270654,
          2014.935833765101,
          2049.1407668049364,
          2079.892934284865,
          2107.1009867662624,
          2130.703512694017,
          2150.667611231335,
          2166.9865578916947,
          2179.6794881029073,
          2188.819936897938,
          2194.473436120566,
          2196.725486700978,
          2195.6814629327982,
          2191.4612167419664,
          2184.1993480558854,
          2174.043502721044,
          2161.152282144797,
          2145.694003689956,
          2127.844429189545,
          2107.784774406188,
          2085.70019549694,
          2061.777467634169,
          2036.2031572339808,
          2009.1633143279064,
          1980.8413941139795,
          1951.4170628964816,
          1921.0655945150793,
          1889.956556785907,
          1858.253069758586,
          1826.1112054739847,
          1793.6794451015858,
          1761.0983760338072,
          1728.5002473443324,
          1696.008468103265,
          1663.7375540694338,
          1631.7930623633874,
          1600.2716143715493,
          1569.2609930416622,
          1538.840259971196,
          1509.0799247337866,
          1480.0422110440015,
          1451.7815175962162,
          1424.3447231095913,
          1397.7719166219758,
          1372.096721357716,
          1347.3467482796304,
          1323.5440829232275,
          1300.705664243673,
          1278.8436807695168
         ]
        },
        {
         "fill": "toself",
         "fillcolor": "blue",
         "line": {
          "color": "blue"
         },
         "mode": "lines",
         "name": "region United Kingdom",
         "opacity": 0.15,
         "type": "scatter",
         "x": [
          1,
          2,
          3,
          4,
          5,
          6,
          7,
          8,
          9,
          10,
          11,
          12,
          13,
          14,
          15,
          16,
          17,
          18,
          19,
          20,
          21,
          22,
          23,
          24,
          25,
          26,
          27,
          28,
          29,
          30,
          31,
          32,
          33,
          34,
          35,
          36,
          37,
          38,
          39,
          40,
          41,
          42,
          43,
          44,
          45,
          46,
          47,
          48,
          49,
          50,
          51,
          52,
          53,
          54,
          55,
          56,
          57,
          58,
          59,
          60,
          61,
          62,
          63,
          64,
          65,
          66,
          67,
          68,
          69,
          70,
          71,
          72,
          73,
          74,
          75,
          76,
          77,
          78,
          79,
          80,
          81,
          82,
          83,
          84,
          85,
          86,
          87,
          88,
          89,
          90,
          91,
          92,
          93,
          94,
          95,
          96,
          97,
          98,
          99,
          100,
          100,
          99,
          98,
          97,
          96,
          95,
          94,
          93,
          92,
          91,
          90,
          89,
          88,
          87,
          86,
          85,
          84,
          83,
          82,
          81,
          80,
          79,
          78,
          77,
          76,
          75,
          74,
          73,
          72,
          71,
          70,
          69,
          68,
          67,
          66,
          65,
          64,
          63,
          62,
          61,
          60,
          59,
          58,
          57,
          56,
          55,
          54,
          53,
          52,
          51,
          50,
          49,
          48,
          47,
          46,
          45,
          44,
          43,
          42,
          41,
          40,
          39,
          38,
          37,
          36,
          35,
          34,
          33,
          32,
          31,
          30,
          29,
          28,
          27,
          26,
          25,
          24,
          23,
          22,
          21,
          20,
          19,
          18,
          17,
          16,
          15,
          14,
          13,
          12,
          11,
          10,
          9,
          8,
          7,
          6,
          5,
          4,
          3,
          2,
          1
         ],
         "y": [
          23.632746178765355,
          53.105139650527995,
          83.53286836852399,
          112.06826375153797,
          137.32236948080333,
          159.34998027543682,
          179.08340508347857,
          197.66505967073877,
          216.03717327746244,
          234.8251067911331,
          254.39501180288715,
          274.959898593666,
          296.6706125347705,
          319.6619778865588,
          344.0667489067475,
          370.0123508148829,
          397.6207046451755,
          427.00120524971885,
          458.25184089390564,
          491.46050316461543,
          526.7056900489688,
          564.0541807109432,
          603.5666924330941,
          645.301629179436,
          689.3039828523108,
          735.6028760683882,
          784.2109969940869,
          835.1247009691692,
          888.3243973413848,
          943.7738797376862,
          999.6304690248724,
          1057.6752700799261,
          1120.1885195006917,
          1184.4826290081503,
          1250.5591180414517,
          1318.289048004423,
          1387.437304031534,
          1457.6829655738466,
          1528.6603914357156,
          1599.9918829982996,
          1671.2975104511274,
          1742.1954966272951,
          1812.2996089970313,
          1881.2198663719278,
          1948.5680229958407,
          2014.1920703374424,
          2083.260227235431,
          2150.3720723234223,
          2215.167611846488,
          2277.3091408795094,
          2336.483758366044,
          2392.4040248580523,
          2444.808187537994,
          2493.4588708064975,
          2538.1479622372594,
          2578.704662850876,
          2614.99388477188,
          2646.9153734721667,
          2674.4027169169935,
          2697.4222500430974,
          2716.002212721169,
          2730.168192478326,
          2739.9636341337978,
          2745.474479878383,
          2746.817298485218,
          2744.128907761221,
          2737.562949474843,
          2727.2877414922687,
          2713.4840282837063,
          2696.345462594599,
          2676.0772063164736,
          2652.8946130288664,
          2627.0216163337795,
          2598.6829480723654,
          2568.1112422331985,
          2535.53859674021,
          2501.193376375559,
          2465.3006132680066,
          2428.080035711381,
          2389.7449906747383,
          2350.501854692162,
          2310.5497032895164,
          2270.0801332559868,
          2229.2765823274076,
          2188.3121272711655,
          2147.3491242663563,
          2106.5390141531684,
          2066.0222900109825,
          2025.9285566186668,
          1986.3766503208935,
          1947.4747975816083,
          1909.3207990355081,
          1872.0031071991236,
          1835.5993498774203,
          1800.1771207399597,
          1765.7946213788175,
          1732.5014897412043,
          1700.3397218258197,
          1669.344231763956,
          1639.5432482941987,
          830.8777514178191,
          844.9004720008485,
          859.8436605869913,
          875.7226904444711,
          892.5505193106814,
          910.3373618654687,
          929.0902814689115,
          948.8126520680901,
          969.5033350717284,
          991.1563463388493,
          1013.7601491222052,
          1037.2968868106536,
          1061.7412606293221,
          1087.0610005187016,
          1110.8075048323306,
          1132.9830749867915,
          1155.5578380077918,
          1178.4680675262591,
          1201.6432012636612,
          1225.0057580933228,
          1248.4712793685292,
          1271.9482977520952,
          1295.3383097647215,
          1318.5361565274748,
          1341.4303909027324,
          1363.9032613490579,
          1385.8319914526742,
          1407.089040452834,
          1427.542345448818,
          1447.0557369964831,
          1465.4896911490598,
          1482.7029722680238,
          1498.5518172857041,
          1512.891546678722,
          1525.5808446559242,
          1536.4813316248765,
          1545.4608780324263,
          1552.3954344388274,
          1557.1693649632007,
          1559.6744022500175,
          1559.808815377794,
          1557.478940126746,
          1552.5739882515668,
          1545.0218094829843,
          1534.7778637726667,
          1521.8153850845174,
          1506.125668972759,
          1487.7213322498133,
          1466.6369993496462,
          1442.9301122816041,
          1416.681731087091,
          1387.9974187383555,
          1357.009274666056,
          1323.871977886517,
          1288.7562135476328,
          1251.849006137829,
          1213.3539312156404,
          1173.4908614079036,
          1132.4955843124771,
          1090.6187846897822,
          1048.121794920496,
          1005.255195282294,
          962.2786605593093,
          919.4558964696381,
          877.0430938430939,
          835.2697097698236,
          794.3065406100668,
          754.2320333965046,
          714.3295420703313,
          669.0993019571993,
          625.2485826951615,
          582.405622911423,
          541.6663753207382,
          503.06630592963785,
          466.6150986679678,
          432.30648733501243,
          400.11512741142764,
          370.00106919653916,
          341.90963657488214,
          315.7718276502377,
          291.50609638854655,
          269.02572629052594,
          248.2442494955048,
          229.06595199986896,
          211.39009000517504,
          195.1115160300876,
          180.1234845239085,
          166.32211990024888,
          153.60655222185966,
          141.87452073027987,
          131.00729565640702,
          120.8299035176878,
          111.05337212310738,
          101.20986484320073,
          90.63504008518551,
          78.56245059783188,
          64.39623687555171,
          48.121690912647125,
          30.62127438118202,
          13.628335313458567
         ]
        },
        {
         "line": {
          "color": "red"
         },
         "mode": "lines",
         "name": "region France",
         "type": "scatter",
         "x": [
          1,
          2,
          3,
          4,
          5,
          6,
          7,
          8,
          9,
          10,
          11,
          12,
          13,
          14,
          15,
          16,
          17,
          18,
          19,
          20,
          21,
          22,
          23,
          24,
          25,
          26,
          27,
          28,
          29,
          30,
          31,
          32,
          33,
          34,
          35,
          36,
          37,
          38,
          39,
          40,
          41,
          42,
          43,
          44,
          45,
          46,
          47,
          48,
          49,
          50,
          51,
          52,
          53,
          54,
          55,
          56,
          57,
          58,
          59,
          60,
          61,
          62,
          63,
          64,
          65,
          66,
          67,
          68,
          69,
          70,
          71,
          72,
          73,
          74,
          75,
          76,
          77,
          78,
          79,
          80,
          81,
          82,
          83,
          84,
          85,
          86,
          87,
          88,
          89,
          90,
          91,
          92,
          93,
          94,
          95,
          96,
          97,
          98,
          99,
          100
         ],
         "y": [
          20.51706143810914,
          46.10992736413405,
          72.63158024173113,
          97.8701502897729,
          120.97546831120194,
          142.32651225928862,
          162.96755983422332,
          184.0198761693958,
          206.3544936214634,
          230.54247510655,
          256.9319185471549,
          285.77220769397184,
          317.28505423124386,
          351.70667749708895,
          389.2776533817358,
          430.23544298527645,
          474.8038629316328,
          523.1832415634054,
          575.5421184031152,
          632.0141985200362,
          692.6952654344925,
          757.6464203770298,
          826.8863422666019,
          900.3738506130335,
          978.0019199248687,
          1059.5965511132308,
          1144.916289565528,
          1233.6425521785889,
          1325.3705668191035,
          1419.6196478261036,
          1514.288127048887,
          1609.462862303883,
          1704.7950218305734,
          1799.7967796112343,
          1893.855888467748,
          1986.256738717195,
          2076.21937199439,
          2162.9472426621087,
          2245.6727212592727,
          2323.6883980268626,
          2396.370222819088,
          2463.1871315827307,
          2523.7035170414065,
          2577.578568730822,
          2624.5671029131177,
          2664.5201278180825,
          2697.380862023168,
          2723.179508113521,
          2742.0204267259396,
          2754.0742192370963,
          2759.5683787221624,
          2758.780850009265,
          2752.025840789717,
          2739.6471824507717,
          2722.0092256465473,
          2699.4882790663232,
          2672.4681359901747,
          2641.336016953295,
          2606.4802937403133,
          2568.286537625765,
          2527.163436692912,
          2483.480517718634,
          2437.598084515945,
          2389.8671606009866,
          2340.6294173374,
          2290.216260108591,
          2238.947115677826,
          2187.1279454375185,
          2135.050415761365,
          2082.990034612901,
          2031.20448016348,
          1979.932048775973,
          1929.3905676919396,
          1879.7773399600637,
          1831.2686760251245,
          1784.0196131113123,
          1738.1642280839778,
          1693.8161321107677,
          1651.0699369983245,
          1610.0021103430508,
          1570.6720914329549,
          1533.1235759312694,
          1497.3861222896562,
          1463.4765388140825,
          1431.4005151446308,
          1401.1541378609704,
          1372.7254089249193,
          1346.0954540112546,
          1321.2395863669985,
          1298.1284192333783,
          1276.7288068439652,
          1257.0047066582886,
          1238.9178930257374,
          1222.4285989259388,
          1207.4960912450808,
          1194.0791621280366,
          1182.1365586744664,
          1171.6273147947506,
          1162.5109778664537,
          1154.7478743630143
         ]
        },
        {
         "fill": "toself",
         "fillcolor": "red",
         "line": {
          "color": "red"
         },
         "mode": "lines",
         "name": "region France",
         "opacity": 0.15,
         "type": "scatter",
         "x": [
          1,
          2,
          3,
          4,
          5,
          6,
          7,
          8,
          9,
          10,
          11,
          12,
          13,
          14,
          15,
          16,
          17,
          18,
          19,
          20,
          21,
          22,
          23,
          24,
          25,
          26,
          27,
          28,
          29,
          30,
          31,
          32,
          33,
          34,
          35,
          36,
          37,
          38,
          39,
          40,
          41,
          42,
          43,
          44,
          45,
          46,
          47,
          48,
          49,
          50,
          51,
          52,
          53,
          54,
          55,
          56,
          57,
          58,
          59,
          60,
          61,
          62,
          63,
          64,
          65,
          66,
          67,
          68,
          69,
          70,
          71,
          72,
          73,
          74,
          75,
          76,
          77,
          78,
          79,
          80,
          81,
          82,
          83,
          84,
          85,
          86,
          87,
          88,
          89,
          90,
          91,
          92,
          93,
          94,
          95,
          96,
          97,
          98,
          99,
          100,
          100,
          99,
          98,
          97,
          96,
          95,
          94,
          93,
          92,
          91,
          90,
          89,
          88,
          87,
          86,
          85,
          84,
          83,
          82,
          81,
          80,
          79,
          78,
          77,
          76,
          75,
          74,
          73,
          72,
          71,
          70,
          69,
          68,
          67,
          66,
          65,
          64,
          63,
          62,
          61,
          60,
          59,
          58,
          57,
          56,
          55,
          54,
          53,
          52,
          51,
          50,
          49,
          48,
          47,
          46,
          45,
          44,
          43,
          42,
          41,
          40,
          39,
          38,
          37,
          36,
          35,
          34,
          33,
          32,
          31,
          30,
          29,
          28,
          27,
          26,
          25,
          24,
          23,
          22,
          21,
          20,
          19,
          18,
          17,
          16,
          15,
          14,
          13,
          12,
          11,
          10,
          9,
          8,
          7,
          6,
          5,
          4,
          3,
          2,
          1
         ],
         "y": [
          24.341477572869888,
          54.70886184625168,
          86.23707839808242,
          116.42917653295436,
          144.40003424147122,
          170.64781528333214,
          196.37300044348828,
          222.81230058984573,
          250.89763063866133,
          281.2256681360583,
          314.16602882062455,
          349.9987034790605,
          388.9890828792464,
          431.4235606220805,
          477.5893816473406,
          527.7604809647622,
          582.1850421907632,
          641.0851259701487,
          704.6447899770127,
          773.0067521708164,
          846.2720796694412,
          924.494031586445,
          1007.6877056306273,
          1095.8077400221555,
          1188.7334957151686,
          1286.2662694597186,
          1388.1298384496124,
          1493.9765990374901,
          1603.3558734083613,
          1715.7303639490042,
          1828.6465665623618,
          1942.2557532145986,
          2058.498078124576,
          2179.733003054103,
          2300.5830288562806,
          2420.1115457196015,
          2537.3148885251967,
          2651.180593916566,
          2760.724980736948,
          2865.0122798753605,
          2963.180289902601,
          3054.461121889375,
          3138.2020018705534,
          3213.8681790122114,
          3281.042837668743,
          3339.4259410047316,
          3388.821385448062,
          3429.179703750291,
          3460.5556763333207,
          3483.08854726655,
          3496.9934242041527,
          3502.5561292352986,
          3500.1245397944367,
          3490.0988832985063,
          3472.9230528071207,
          3449.0596191355517,
          3418.9825236186543,
          3383.173827621903,
          3342.124255048545,
          3296.329233457329,
          3246.312452244495,
          3192.5553195015473,
          3135.52906510145,
          3075.6924532931102,
          3013.4968964146137,
          2949.385053414838,
          2883.785251915315,
          2817.1067305222596,
          2749.7411048206914,
          2682.062021912542,
          2614.4231907457656,
          2547.1559880293503,
          2480.566745979814,
          2414.9352373125066,
          2350.5157450619286,
          2287.5331345485033,
          2226.187044849254,
          2166.6493673420146,
          2109.0666093733516,
          2053.5615889171436,
          2000.2345161638273,
          1949.1638182944007,
          1900.408262035925,
          1854.0072093459194,
          1809.9831887930259,
          1768.345372098902,
          1729.0915197472164,
          1692.2093531197424,
          1657.6775704447057,
          1625.467003727578,
          1595.5422367812353,
          1567.8629908395205,
          1542.3851540559272,
          1519.0620824479606,
          1497.8452739258073,
          1478.6849120027607,
          1461.530522893487,
          1446.331625883221,
          1433.0379451847064,
          1421.9155409429295,
          817.222733328523,
          819.6914100390466,
          823.0312909270814,
          827.2783161515849,
          832.4698970111398,
          838.6448694924417,
          845.8435097579379,
          854.1074238227726,
          863.4794042596261,
          874.0032483154557,
          885.7233471767199,
          898.6844169686573,
          912.9312954238651,
          928.5084934586804,
          945.4594344142814,
          963.8258947308873,
          983.6471823187492,
          1004.9587290465101,
          1027.7912691730085,
          1052.1689005234937,
          1078.107600773012,
          1105.6141626257147,
          1134.6850917030304,
          1165.3049487018843,
          1196.2733977230455,
          1226.0330772602206,
          1256.8296867336148,
          1288.584177948178,
          1321.2030463384376,
          1354.5780634809025,
          1388.585677076752,
          1423.088133725562,
          1457.9342318882268,
          1492.9584710672116,
          1527.9805708966546,
          1562.8084485598974,
          1597.2402417241171,
          1631.0649558127302,
          1664.0631117324795,
          1696.0058209339459,
          1726.654112685485,
          1755.7595011210708,
          1783.0386214788837,
          1808.2276587322785,
          1831.0571636412205,
          1851.2520910810215,
          1868.5326491518533,
          1882.617774724807,
          1893.2307888005962,
          1900.1038960679666,
          1902.982352130237,
          1901.6260426533358,
          1895.8126193078506,
          1885.345155871201,
          1870.0786307090968,
          1849.9110337057186,
          1824.7948329578721,
          1794.7389385604808,
          1759.8113800698684,
          1720.145539782332,
          1675.9571996187842,
          1627.5378298773717,
          1575.2480330337285,
          1519.5230218502302,
          1460.8652351863984,
          1399.8190798300786,
          1336.9101659606292,
          1272.6069492346408,
          1207.2902190499144,
          1141.271577569457,
          1074.7921292930246,
          1006.5057154248692,
          931.5682550427116,
          859.2743108724119,
          790.0249131335734,
          724.1360747599116,
          661.8370486270006,
          603.2743786421265,
          548.5316898088247,
          497.6305919760892,
          450.5315424061467,
          407.13928423947505,
          367.32701366432934,
          330.9440240575912,
          297.8090897454824,
          267.71771565692967,
          240.44924863660378,
          215.78271582132203,
          193.50296330233977,
          173.4040497893002,
          155.29112022050765,
          138.94201120198133,
          124.05277289204652,
          110.14585615497737,
          96.52578770108786,
          82.33352027646364,
          66.79721458535373,
          49.65673058837763,
          31.544633507922686,
          14.03704063331303
         ]
        }
       ],
       "layout": {
        "boxmode": "group",
        "legend": {
         "orientation": "h",
         "x": 1,
         "xanchor": "right",
         "y": 1.02,
         "yanchor": "bottom"
        },
        "plot_bgcolor": "white",
        "template": {
         "data": {
          "bar": [
           {
            "error_x": {
             "color": "#2a3f5f"
            },
            "error_y": {
             "color": "#2a3f5f"
            },
            "marker": {
             "line": {
              "color": "#E5ECF6",
              "width": 0.5
             },
             "pattern": {
              "fillmode": "overlay",
              "size": 10,
              "solidity": 0.2
             }
            },
            "type": "bar"
           }
          ],
          "barpolar": [
           {
            "marker": {
             "line": {
              "color": "#E5ECF6",
              "width": 0.5
             },
             "pattern": {
              "fillmode": "overlay",
              "size": 10,
              "solidity": 0.2
             }
            },
            "type": "barpolar"
           }
          ],
          "carpet": [
           {
            "aaxis": {
             "endlinecolor": "#2a3f5f",
             "gridcolor": "white",
             "linecolor": "white",
             "minorgridcolor": "white",
             "startlinecolor": "#2a3f5f"
            },
            "baxis": {
             "endlinecolor": "#2a3f5f",
             "gridcolor": "white",
             "linecolor": "white",
             "minorgridcolor": "white",
             "startlinecolor": "#2a3f5f"
            },
            "type": "carpet"
           }
          ],
          "choropleth": [
           {
            "colorbar": {
             "outlinewidth": 0,
             "ticks": ""
            },
            "type": "choropleth"
           }
          ],
          "contour": [
           {
            "colorbar": {
             "outlinewidth": 0,
             "ticks": ""
            },
            "colorscale": [
             [
              0,
              "#0d0887"
             ],
             [
              0.1111111111111111,
              "#46039f"
             ],
             [
              0.2222222222222222,
              "#7201a8"
             ],
             [
              0.3333333333333333,
              "#9c179e"
             ],
             [
              0.4444444444444444,
              "#bd3786"
             ],
             [
              0.5555555555555556,
              "#d8576b"
             ],
             [
              0.6666666666666666,
              "#ed7953"
             ],
             [
              0.7777777777777778,
              "#fb9f3a"
             ],
             [
              0.8888888888888888,
              "#fdca26"
             ],
             [
              1,
              "#f0f921"
             ]
            ],
            "type": "contour"
           }
          ],
          "contourcarpet": [
           {
            "colorbar": {
             "outlinewidth": 0,
             "ticks": ""
            },
            "type": "contourcarpet"
           }
          ],
          "heatmap": [
           {
            "colorbar": {
             "outlinewidth": 0,
             "ticks": ""
            },
            "colorscale": [
             [
              0,
              "#0d0887"
             ],
             [
              0.1111111111111111,
              "#46039f"
             ],
             [
              0.2222222222222222,
              "#7201a8"
             ],
             [
              0.3333333333333333,
              "#9c179e"
             ],
             [
              0.4444444444444444,
              "#bd3786"
             ],
             [
              0.5555555555555556,
              "#d8576b"
             ],
             [
              0.6666666666666666,
              "#ed7953"
             ],
             [
              0.7777777777777778,
              "#fb9f3a"
             ],
             [
              0.8888888888888888,
              "#fdca26"
             ],
             [
              1,
              "#f0f921"
             ]
            ],
            "type": "heatmap"
           }
          ],
          "heatmapgl": [
           {
            "colorbar": {
             "outlinewidth": 0,
             "ticks": ""
            },
            "colorscale": [
             [
              0,
              "#0d0887"
             ],
             [
              0.1111111111111111,
              "#46039f"
             ],
             [
              0.2222222222222222,
              "#7201a8"
             ],
             [
              0.3333333333333333,
              "#9c179e"
             ],
             [
              0.4444444444444444,
              "#bd3786"
             ],
             [
              0.5555555555555556,
              "#d8576b"
             ],
             [
              0.6666666666666666,
              "#ed7953"
             ],
             [
              0.7777777777777778,
              "#fb9f3a"
             ],
             [
              0.8888888888888888,
              "#fdca26"
             ],
             [
              1,
              "#f0f921"
             ]
            ],
            "type": "heatmapgl"
           }
          ],
          "histogram": [
           {
            "marker": {
             "pattern": {
              "fillmode": "overlay",
              "size": 10,
              "solidity": 0.2
             }
            },
            "type": "histogram"
           }
          ],
          "histogram2d": [
           {
            "colorbar": {
             "outlinewidth": 0,
             "ticks": ""
            },
            "colorscale": [
             [
              0,
              "#0d0887"
             ],
             [
              0.1111111111111111,
              "#46039f"
             ],
             [
              0.2222222222222222,
              "#7201a8"
             ],
             [
              0.3333333333333333,
              "#9c179e"
             ],
             [
              0.4444444444444444,
              "#bd3786"
             ],
             [
              0.5555555555555556,
              "#d8576b"
             ],
             [
              0.6666666666666666,
              "#ed7953"
             ],
             [
              0.7777777777777778,
              "#fb9f3a"
             ],
             [
              0.8888888888888888,
              "#fdca26"
             ],
             [
              1,
              "#f0f921"
             ]
            ],
            "type": "histogram2d"
           }
          ],
          "histogram2dcontour": [
           {
            "colorbar": {
             "outlinewidth": 0,
             "ticks": ""
            },
            "colorscale": [
             [
              0,
              "#0d0887"
             ],
             [
              0.1111111111111111,
              "#46039f"
             ],
             [
              0.2222222222222222,
              "#7201a8"
             ],
             [
              0.3333333333333333,
              "#9c179e"
             ],
             [
              0.4444444444444444,
              "#bd3786"
             ],
             [
              0.5555555555555556,
              "#d8576b"
             ],
             [
              0.6666666666666666,
              "#ed7953"
             ],
             [
              0.7777777777777778,
              "#fb9f3a"
             ],
             [
              0.8888888888888888,
              "#fdca26"
             ],
             [
              1,
              "#f0f921"
             ]
            ],
            "type": "histogram2dcontour"
           }
          ],
          "mesh3d": [
           {
            "colorbar": {
             "outlinewidth": 0,
             "ticks": ""
            },
            "type": "mesh3d"
           }
          ],
          "parcoords": [
           {
            "line": {
             "colorbar": {
              "outlinewidth": 0,
              "ticks": ""
             }
            },
            "type": "parcoords"
           }
          ],
          "pie": [
           {
            "automargin": true,
            "type": "pie"
           }
          ],
          "scatter": [
           {
            "fillpattern": {
             "fillmode": "overlay",
             "size": 10,
             "solidity": 0.2
            },
            "type": "scatter"
           }
          ],
          "scatter3d": [
           {
            "line": {
             "colorbar": {
              "outlinewidth": 0,
              "ticks": ""
             }
            },
            "marker": {
             "colorbar": {
              "outlinewidth": 0,
              "ticks": ""
             }
            },
            "type": "scatter3d"
           }
          ],
          "scattercarpet": [
           {
            "marker": {
             "colorbar": {
              "outlinewidth": 0,
              "ticks": ""
             }
            },
            "type": "scattercarpet"
           }
          ],
          "scattergeo": [
           {
            "marker": {
             "colorbar": {
              "outlinewidth": 0,
              "ticks": ""
             }
            },
            "type": "scattergeo"
           }
          ],
          "scattergl": [
           {
            "marker": {
             "colorbar": {
              "outlinewidth": 0,
              "ticks": ""
             }
            },
            "type": "scattergl"
           }
          ],
          "scattermapbox": [
           {
            "marker": {
             "colorbar": {
              "outlinewidth": 0,
              "ticks": ""
             }
            },
            "type": "scattermapbox"
           }
          ],
          "scatterpolar": [
           {
            "marker": {
             "colorbar": {
              "outlinewidth": 0,
              "ticks": ""
             }
            },
            "type": "scatterpolar"
           }
          ],
          "scatterpolargl": [
           {
            "marker": {
             "colorbar": {
              "outlinewidth": 0,
              "ticks": ""
             }
            },
            "type": "scatterpolargl"
           }
          ],
          "scatterternary": [
           {
            "marker": {
             "colorbar": {
              "outlinewidth": 0,
              "ticks": ""
             }
            },
            "type": "scatterternary"
           }
          ],
          "surface": [
           {
            "colorbar": {
             "outlinewidth": 0,
             "ticks": ""
            },
            "colorscale": [
             [
              0,
              "#0d0887"
             ],
             [
              0.1111111111111111,
              "#46039f"
             ],
             [
              0.2222222222222222,
              "#7201a8"
             ],
             [
              0.3333333333333333,
              "#9c179e"
             ],
             [
              0.4444444444444444,
              "#bd3786"
             ],
             [
              0.5555555555555556,
              "#d8576b"
             ],
             [
              0.6666666666666666,
              "#ed7953"
             ],
             [
              0.7777777777777778,
              "#fb9f3a"
             ],
             [
              0.8888888888888888,
              "#fdca26"
             ],
             [
              1,
              "#f0f921"
             ]
            ],
            "type": "surface"
           }
          ],
          "table": [
           {
            "cells": {
             "fill": {
              "color": "#EBF0F8"
             },
             "line": {
              "color": "white"
             }
            },
            "header": {
             "fill": {
              "color": "#C8D4E3"
             },
             "line": {
              "color": "white"
             }
            },
            "type": "table"
           }
          ]
         },
         "layout": {
          "annotationdefaults": {
           "arrowcolor": "#2a3f5f",
           "arrowhead": 0,
           "arrowwidth": 1
          },
          "autotypenumbers": "strict",
          "coloraxis": {
           "colorbar": {
            "outlinewidth": 0,
            "ticks": ""
           }
          },
          "colorscale": {
           "diverging": [
            [
             0,
             "#8e0152"
            ],
            [
             0.1,
             "#c51b7d"
            ],
            [
             0.2,
             "#de77ae"
            ],
            [
             0.3,
             "#f1b6da"
            ],
            [
             0.4,
             "#fde0ef"
            ],
            [
             0.5,
             "#f7f7f7"
            ],
            [
             0.6,
             "#e6f5d0"
            ],
            [
             0.7,
             "#b8e186"
            ],
            [
             0.8,
             "#7fbc41"
            ],
            [
             0.9,
             "#4d9221"
            ],
            [
             1,
             "#276419"
            ]
           ],
           "sequential": [
            [
             0,
             "#0d0887"
            ],
            [
             0.1111111111111111,
             "#46039f"
            ],
            [
             0.2222222222222222,
             "#7201a8"
            ],
            [
             0.3333333333333333,
             "#9c179e"
            ],
            [
             0.4444444444444444,
             "#bd3786"
            ],
            [
             0.5555555555555556,
             "#d8576b"
            ],
            [
             0.6666666666666666,
             "#ed7953"
            ],
            [
             0.7777777777777778,
             "#fb9f3a"
            ],
            [
             0.8888888888888888,
             "#fdca26"
            ],
            [
             1,
             "#f0f921"
            ]
           ],
           "sequentialminus": [
            [
             0,
             "#0d0887"
            ],
            [
             0.1111111111111111,
             "#46039f"
            ],
            [
             0.2222222222222222,
             "#7201a8"
            ],
            [
             0.3333333333333333,
             "#9c179e"
            ],
            [
             0.4444444444444444,
             "#bd3786"
            ],
            [
             0.5555555555555556,
             "#d8576b"
            ],
            [
             0.6666666666666666,
             "#ed7953"
            ],
            [
             0.7777777777777778,
             "#fb9f3a"
            ],
            [
             0.8888888888888888,
             "#fdca26"
            ],
            [
             1,
             "#f0f921"
            ]
           ]
          },
          "colorway": [
           "#636efa",
           "#EF553B",
           "#00cc96",
           "#ab63fa",
           "#FFA15A",
           "#19d3f3",
           "#FF6692",
           "#B6E880",
           "#FF97FF",
           "#FECB52"
          ],
          "font": {
           "color": "#2a3f5f"
          },
          "geo": {
           "bgcolor": "white",
           "lakecolor": "white",
           "landcolor": "#E5ECF6",
           "showlakes": true,
           "showland": true,
           "subunitcolor": "white"
          },
          "hoverlabel": {
           "align": "left"
          },
          "hovermode": "closest",
          "mapbox": {
           "style": "light"
          },
          "paper_bgcolor": "white",
          "plot_bgcolor": "#E5ECF6",
          "polar": {
           "angularaxis": {
            "gridcolor": "white",
            "linecolor": "white",
            "ticks": ""
           },
           "bgcolor": "#E5ECF6",
           "radialaxis": {
            "gridcolor": "white",
            "linecolor": "white",
            "ticks": ""
           }
          },
          "scene": {
           "xaxis": {
            "backgroundcolor": "#E5ECF6",
            "gridcolor": "white",
            "gridwidth": 2,
            "linecolor": "white",
            "showbackground": true,
            "ticks": "",
            "zerolinecolor": "white"
           },
           "yaxis": {
            "backgroundcolor": "#E5ECF6",
            "gridcolor": "white",
            "gridwidth": 2,
            "linecolor": "white",
            "showbackground": true,
            "ticks": "",
            "zerolinecolor": "white"
           },
           "zaxis": {
            "backgroundcolor": "#E5ECF6",
            "gridcolor": "white",
            "gridwidth": 2,
            "linecolor": "white",
            "showbackground": true,
            "ticks": "",
            "zerolinecolor": "white"
           }
          },
          "shapedefaults": {
           "line": {
            "color": "#2a3f5f"
           }
          },
          "ternary": {
           "aaxis": {
            "gridcolor": "white",
            "linecolor": "white",
            "ticks": ""
           },
           "baxis": {
            "gridcolor": "white",
            "linecolor": "white",
            "ticks": ""
           },
           "bgcolor": "#E5ECF6",
           "caxis": {
            "gridcolor": "white",
            "linecolor": "white",
            "ticks": ""
           }
          },
          "title": {
           "x": 0.05
          },
          "xaxis": {
           "automargin": true,
           "gridcolor": "white",
           "linecolor": "white",
           "ticks": "",
           "title": {
            "standoff": 15
           },
           "zerolinecolor": "white",
           "zerolinewidth": 2
          },
          "yaxis": {
           "automargin": true,
           "gridcolor": "white",
           "linecolor": "white",
           "ticks": "",
           "title": {
            "standoff": 15
           },
           "zerolinecolor": "white",
           "zerolinewidth": 2
          }
         }
        },
        "title": {
         "text": "Years of Life Lost for Scenario: Prioritise 75+"
        },
        "width": 800,
        "xaxis": {
         "linecolor": "black"
        },
        "yaxis": {
         "linecolor": "black"
        }
       }
      }
     },
     "metadata": {},
     "output_type": "display_data"
    },
    {
     "data": {
      "application/vnd.plotly.v1+json": {
       "config": {
        "plotlyServerURL": "https://plot.ly"
       },
       "data": [
        {
         "line": {
          "color": "blue"
         },
         "mode": "lines",
         "name": "region United Kingdom",
         "type": "scatter",
         "x": [
          1,
          2,
          3,
          4,
          5,
          6,
          7,
          8,
          9,
          10,
          11,
          12,
          13,
          14,
          15,
          16,
          17,
          18,
          19,
          20,
          21,
          22,
          23,
          24,
          25,
          26,
          27,
          28,
          29,
          30,
          31,
          32,
          33,
          34,
          35,
          36,
          37,
          38,
          39,
          40,
          41,
          42,
          43,
          44,
          45,
          46,
          47,
          48,
          49,
          50,
          51,
          52,
          53,
          54,
          55,
          56,
          57,
          58,
          59,
          60,
          61,
          62,
          63,
          64,
          65,
          66,
          67,
          68,
          69,
          70,
          71,
          72,
          73,
          74,
          75,
          76,
          77,
          78,
          79,
          80,
          81,
          82,
          83,
          84,
          85,
          86,
          87,
          88,
          89,
          90,
          91,
          92,
          93,
          94,
          95,
          96,
          97,
          98,
          99,
          100
         ],
         "y": [
          19.91968251924815,
          44.76009286358075,
          70.38551515454138,
          94.35641322461775,
          115.47390715732742,
          133.79138449345538,
          150.13655987160774,
          165.52994282671185,
          180.8180092183258,
          196.56157613999648,
          213.08079306548464,
          230.55111866151253,
          249.0868815848133,
          268.79005460927726,
          289.76645779523585,
          312.12551204145433,
          335.979059964555,
          361.4342360495581,
          388.59156550017974,
          417.54463384764864,
          448.37986558403645,
          481.1747097047483,
          516.0035107284136,
          552.9369219388112,
          592.0345773237846,
          633.3420047415586,
          676.8898757018463,
          722.6937124256228,
          770.7539731643266,
          821.0543687337423,
          872.0531556158622,
          924.3764049886628,
          978.2648795314452,
          1033.8698286707397,
          1091.2477571768352,
          1150.3337416370375,
          1210.957578199301,
          1272.8801776527655,
          1335.8239292486232,
          1399.490273390134,
          1463.5734139535205,
          1527.7646029390567,
          1591.7473891076113,
          1655.1991237000825,
          1717.7920894503636,
          1779.1941696920644,
          1839.074871632923,
          1897.109276020813,
          1952.986610829688,
          2006.4142715799328,
          2057.12041291517,
          2104.855870427661,
          2149.39582586667,
          2190.541979710938,
          2228.125463594185,
          2262.0081893169818,
          2292.082675692227,
          2318.2739215554834,
          2340.536436444633,
          2358.8544439734183,
          2373.2670455317666,
          2383.8119961764164,
          2390.5507043261973,
          2393.5684275555345,
          2392.9717174219722,
          2388.8840279029687,
          2381.4466962736647,
          2370.816183503774,
          2357.161014110984,
          2340.660844983737,
          2321.503515369536,
          2299.883373935728,
          2275.9998383082334,
          2250.0542555745055,
          2222.249008954296,
          2192.786214929156,
          2161.865655261494,
          2129.6835162897505,
          2096.431623152161,
          2062.2960823449766,
          2027.4564417556521,
          1992.084934479188,
          1956.3458143808457,
          1920.3950020543684,
          1884.3794749128203,
          1848.4368029189473,
          1812.6950487532938,
          1777.272540120046,
          1742.277986337888,
          1707.8103716112753,
          1673.9591901091924,
          1640.8045225733263,
          1608.4174255215798,
          1576.8601866081829,
          1546.1868680347297,
          1516.4440195098027,
          1487.670943689729,
          1459.9001262767085,
          1433.1577996987432,
          1407.464301249212
         ]
        },
        {
         "fill": "toself",
         "fillcolor": "blue",
         "line": {
          "color": "blue"
         },
         "mode": "lines",
         "name": "region United Kingdom",
         "opacity": 0.15,
         "type": "scatter",
         "x": [
          1,
          2,
          3,
          4,
          5,
          6,
          7,
          8,
          9,
          10,
          11,
          12,
          13,
          14,
          15,
          16,
          17,
          18,
          19,
          20,
          21,
          22,
          23,
          24,
          25,
          26,
          27,
          28,
          29,
          30,
          31,
          32,
          33,
          34,
          35,
          36,
          37,
          38,
          39,
          40,
          41,
          42,
          43,
          44,
          45,
          46,
          47,
          48,
          49,
          50,
          51,
          52,
          53,
          54,
          55,
          56,
          57,
          58,
          59,
          60,
          61,
          62,
          63,
          64,
          65,
          66,
          67,
          68,
          69,
          70,
          71,
          72,
          73,
          74,
          75,
          76,
          77,
          78,
          79,
          80,
          81,
          82,
          83,
          84,
          85,
          86,
          87,
          88,
          89,
          90,
          91,
          92,
          93,
          94,
          95,
          96,
          97,
          98,
          99,
          100,
          100,
          99,
          98,
          97,
          96,
          95,
          94,
          93,
          92,
          91,
          90,
          89,
          88,
          87,
          86,
          85,
          84,
          83,
          82,
          81,
          80,
          79,
          78,
          77,
          76,
          75,
          74,
          73,
          72,
          71,
          70,
          69,
          68,
          67,
          66,
          65,
          64,
          63,
          62,
          61,
          60,
          59,
          58,
          57,
          56,
          55,
          54,
          53,
          52,
          51,
          50,
          49,
          48,
          47,
          46,
          45,
          44,
          43,
          42,
          41,
          40,
          39,
          38,
          37,
          36,
          35,
          34,
          33,
          32,
          31,
          30,
          29,
          28,
          27,
          26,
          25,
          24,
          23,
          22,
          21,
          20,
          19,
          18,
          17,
          16,
          15,
          14,
          13,
          12,
          11,
          10,
          9,
          8,
          7,
          6,
          5,
          4,
          3,
          2,
          1
         ],
         "y": [
          23.632746178765355,
          53.106221626112905,
          83.55220210896996,
          112.16529410876943,
          137.6090504919488,
          159.97887800360706,
          180.22416562152276,
          199.47900215694528,
          218.65876798962327,
          238.35055218953025,
          258.8828063042399,
          280.4345774435073,
          303.1319992894955,
          327.09398446893414,
          352.446688214832,
          379.31642012153344,
          407.82871688525603,
          438.10029781880604,
          470.23828667164446,
          504.3412601623545,
          540.4997313506799,
          578.7963147751905,
          619.3000926492768,
          662.0858889658084,
          707.2170452516538,
          754.74166554323,
          804.6915889749496,
          857.0822855186993,
          911.913140718731,
          969.1679214817771,
          1027.0236798016394,
          1088.7203026099835,
          1154.0880598471506,
          1221.5493739598746,
          1291.123492684281,
          1362.6967640364967,
          1436.0412018897787,
          1510.8626980360837,
          1586.805949162811,
          1663.4972392308416,
          1740.555964703082,
          1817.5954873264288,
          1894.220417614542,
          1970.0246125676506,
          2044.6003756229259,
          2117.526490404974,
          2188.383282448766,
          2256.9722979478192,
          2329.645277532751,
          2399.895184572186,
          2467.3608064819637,
          2531.705042805681,
          2592.6155991428222,
          2649.8047821968794,
          2703.0089195952987,
          2751.997402290145,
          2796.576964515722,
          2836.591984552472,
          2871.923973138897,
          2902.4906539111757,
          2928.275013676488,
          2949.2608732070257,
          2965.464548143511,
          2976.918997206971,
          2983.711019370664,
          2985.958975672036,
          2983.8036107355074,
          2977.404180047733,
          2966.9359417695523,
          2952.588359920005,
          2934.565737995285,
          2913.0853366752067,
          2888.376342202259,
          2860.6782047422807,
          2830.2317349961772,
          2797.2881055693233,
          2762.0983598081016,
          2724.910691308893,
          2685.969807303198,
          2645.5148587489293,
          2603.778428366662,
          2560.985967347454,
          2517.3554799238227,
          2473.09736867191,
          2428.4139435052866,
          2383.496462868265,
          2338.524904236904,
          2293.667531559218,
          2249.0807787587464,
          2204.909273495062,
          2161.2859445242366,
          2118.3321755847264,
          2076.1580007560087,
          2034.8634383422655,
          1994.5362599694529,
          1955.253339817259,
          1917.0815388584724,
          1880.0780931046052,
          1844.291629034715,
          1809.762762254893,
          907.7427831481527,
          924.9762082269187,
          943.2509909588271,
          962.5807176131419,
          982.9756581342554,
          1004.442331754822,
          1026.9829447325055,
          1050.5945697960092,
          1075.2684096120695,
          1100.9894297372196,
          1127.7353720653655,
          1155.4756760034709,
          1184.1717198473686,
          1210.654010287952,
          1235.6171897047727,
          1260.9933995134222,
          1286.7098842487828,
          1312.6864169173261,
          1338.8352223463583,
          1365.0609355635215,
          1391.2606105596467,
          1417.3237974537687,
          1443.1327695236832,
          1468.5632165259867,
          1493.484297272524,
          1517.7601003669056,
          1541.2500064149035,
          1563.8089063755988,
          1585.2875716109218,
          1605.5333021466397,
          1624.391216880017,
          1641.7053430137946,
          1657.3183541520307,
          1671.0764107656619,
          1682.8304446423326,
          1692.4373412823688,
          1699.7633883377844,
          1704.6850664898784,
          1707.0895033496993,
          1706.8728883124106,
          1703.9406453461056,
          1698.2093368817334,
          1689.5829239061395,
          1678.0147911580775,
          1663.4871299363272,
          1645.9979948124774,
          1625.5684286252567,
          1602.2431416354689,
          1576.0912702314622,
          1547.207106394384,
          1515.710665238813,
          1481.7480816188995,
          1445.4908110106765,
          1407.1268102875802,
          1366.8593284716517,
          1324.9069334638139,
          1281.5034598801853,
          1236.8972613524884,
          1191.3500740983163,
          1145.1338760291667,
          1098.517932714956,
          1051.7583854664877,
          1005.1216791073203,
          958.8737592453103,
          913.2712722997499,
          868.5423560862309,
          824.8542234231838,
          782.2778618765159,
          738.4178537641573,
          690.9474471604971,
          645.0978946441825,
          600.4735113345373,
          558.1455787969716,
          518.1250407737253,
          480.4006101471679,
          444.9462485644311,
          411.7185986436341,
          380.6606621296631,
          351.70178624775747,
          324.75824849756776,
          299.7354610637911,
          276.5370831765476,
          255.06702970807206,
          235.22166252698943,
          216.8938596657008,
          199.97389850397158,
          184.35291850413344,
          169.92789944537165,
          156.60229516302033,
          144.28230313442904,
          132.86174360204743,
          122.18204494724984,
          111.97101679714916,
          101.77605015788488,
          90.94142871614027,
          78.69961607951132,
          64.4418418817946,
          48.130624956670154,
          30.621765506117605,
          13.628335313458567
         ]
        },
        {
         "line": {
          "color": "red"
         },
         "mode": "lines",
         "name": "region France",
         "type": "scatter",
         "x": [
          1,
          2,
          3,
          4,
          5,
          6,
          7,
          8,
          9,
          10,
          11,
          12,
          13,
          14,
          15,
          16,
          17,
          18,
          19,
          20,
          21,
          22,
          23,
          24,
          25,
          26,
          27,
          28,
          29,
          30,
          31,
          32,
          33,
          34,
          35,
          36,
          37,
          38,
          39,
          40,
          41,
          42,
          43,
          44,
          45,
          46,
          47,
          48,
          49,
          50,
          51,
          52,
          53,
          54,
          55,
          56,
          57,
          58,
          59,
          60,
          61,
          62,
          63,
          64,
          65,
          66,
          67,
          68,
          69,
          70,
          71,
          72,
          73,
          74,
          75,
          76,
          77,
          78,
          79,
          80,
          81,
          82,
          83,
          84,
          85,
          86,
          87,
          88,
          89,
          90,
          91,
          92,
          93,
          94,
          95,
          96,
          97,
          98,
          99,
          100
         ],
         "y": [
          20.51706143810914,
          46.1104923972944,
          72.64179465907925,
          97.92206482815827,
          121.13089520425962,
          142.67157306822378,
          163.59924518436014,
          185.02790450142848,
          207.80677312118453,
          232.47118279471542,
          259.33121932908443,
          288.59827522570015,
          320.46452707188695,
          355.1468489247689,
          392.8791675351305,
          433.90205105551905,
          478.4522553728478,
          526.7538601022897,
          579.0087614326769,
          635.3922493095741,
          696.0496848453098,
          761.0973816057099,
          830.6221806033404,
          904.6645588085001,
          983.2055685984093,
          1066.163450483353,
          1153.3923338338911,
          1244.6782112218664,
          1339.7255556268847,
          1438.154787648245,
          1537.95473974182,
          1639.293445097419,
          1741.8867020399255,
          1845.300140057465,
          1948.9454219318632,
          2052.0885061556187,
          2153.9055656504624,
          2253.5349138208894,
          2350.119584072422,
          2442.8363405219807,
          2530.9172214262194,
          2613.6626473152946,
          2690.454478189713,
          2760.763610736945,
          2824.155030474437,
          2880.290476366194,
          2928.9291334469135,
          2969.9276615720523,
          3003.2404489349137,
          3028.907907374147,
          3047.0483309602714,
          3057.846743881305,
          3061.5475662304552,
          3058.444771193664,
          3048.873234901579,
          3033.2011800720607,
          3011.8192136428324,
          2985.1317428012844,
          2953.553002261819,
          2917.503238332737,
          2877.433188776242,
          2833.760024664117,
          2786.8961005534347,
          2737.246308217079,
          2685.2086450138872,
          2631.172933991864,
          2575.518393317934,
          2518.6120124146814,
          2460.8065721637104,
          2402.439357795227,
          2343.8306197103198,
          2285.281711272494,
          2227.0738630935275,
          2169.4666549548674,
          2112.6972645701717,
          2056.9802762089466,
          2002.5075332547794,
          1949.4477382564653,
          1897.9467932602056,
          1848.1287433421362,
          1800.096852359444,
          1753.934813079122,
          1709.7079021159288,
          1667.4644845614314,
          1627.237599955597,
          1589.0462647747117,
          1552.8971980428441,
          1518.7866728657252,
          1486.7018299021145,
          1456.6220312727448,
          1428.5200764185608,
          1402.3633042625356,
          1378.1146319503348,
          1355.733565704343,
          1335.1769226025406,
          1316.3995981535359,
          1299.3551956527203,
          1283.9965691654133,
          1270.276328393869,
          1258.1471760747127
         ]
        },
        {
         "fill": "toself",
         "fillcolor": "red",
         "line": {
          "color": "red"
         },
         "mode": "lines",
         "name": "region France",
         "opacity": 0.15,
         "type": "scatter",
         "x": [
          1,
          2,
          3,
          4,
          5,
          6,
          7,
          8,
          9,
          10,
          11,
          12,
          13,
          14,
          15,
          16,
          17,
          18,
          19,
          20,
          21,
          22,
          23,
          24,
          25,
          26,
          27,
          28,
          29,
          30,
          31,
          32,
          33,
          34,
          35,
          36,
          37,
          38,
          39,
          40,
          41,
          42,
          43,
          44,
          45,
          46,
          47,
          48,
          49,
          50,
          51,
          52,
          53,
          54,
          55,
          56,
          57,
          58,
          59,
          60,
          61,
          62,
          63,
          64,
          65,
          66,
          67,
          68,
          69,
          70,
          71,
          72,
          73,
          74,
          75,
          76,
          77,
          78,
          79,
          80,
          81,
          82,
          83,
          84,
          85,
          86,
          87,
          88,
          89,
          90,
          91,
          92,
          93,
          94,
          95,
          96,
          97,
          98,
          99,
          100,
          100,
          99,
          98,
          97,
          96,
          95,
          94,
          93,
          92,
          91,
          90,
          89,
          88,
          87,
          86,
          85,
          84,
          83,
          82,
          81,
          80,
          79,
          78,
          77,
          76,
          75,
          74,
          73,
          72,
          71,
          70,
          69,
          68,
          67,
          66,
          65,
          64,
          63,
          62,
          61,
          60,
          59,
          58,
          57,
          56,
          55,
          54,
          53,
          52,
          51,
          50,
          49,
          48,
          47,
          46,
          45,
          44,
          43,
          42,
          41,
          40,
          39,
          38,
          37,
          36,
          35,
          34,
          33,
          32,
          31,
          30,
          29,
          28,
          27,
          26,
          25,
          24,
          23,
          22,
          21,
          20,
          19,
          18,
          17,
          16,
          15,
          14,
          13,
          12,
          11,
          10,
          9,
          8,
          7,
          6,
          5,
          4,
          3,
          2,
          1
         ],
         "y": [
          24.341477572869888,
          54.70960854412863,
          86.25048591977597,
          116.49687677789247,
          144.60126768768308,
          171.09119072289002,
          197.17779748596226,
          224.08458849095763,
          252.71024461914533,
          283.6018050689235,
          317.0772751923127,
          353.3674178014006,
          392.70050335668407,
          435.33859171421756,
          481.562622277545,
          531.6517309749045,
          585.871490328893,
          644.472342903508,
          707.679650809485,
          775.6866291666009,
          848.6528013859078,
          926.7040524439719,
          1009.9207300768364,
          1098.353927809545,
          1191.9888020148767,
          1290.7362239592394,
          1394.4312505761873,
          1502.8343851465977,
          1615.629791847054,
          1732.3987395060467,
          1850.7935580279636,
          1971.0585881572779,
          2092.9043641209137,
          2220.768488879819,
          2352.333844933785,
          2484.0965321952963,
          2615.01439775027,
          2744.0084627858064,
          2870.0073993332476,
          2991.966875525153,
          3108.878645999829,
          3219.7878170036643,
          3323.81446466952,
          3420.187068984987,
          3508.2503286329697,
          3587.467773643571,
          3657.4208309546484,
          3717.79697722691,
          3768.4373812006106,
          3809.3033468814438,
          3840.454623459964,
          3862.0402150706623,
          3874.2932933430347,
          3877.5253302180936,
          3872.1056629029677,
          3858.475147952211,
          3837.10600541508,
          3808.4906229152734,
          3773.1368773537442,
          3731.5682783445495,
          3684.3523364101457,
          3632.0259813985226,
          3575.1237430615593,
          3514.1717133445845,
          3449.684880565378,
          3382.1736734502365,
          3312.1391983170483,
          3240.070274414608,
          3166.4358460123885,
          3091.6850478499546,
          3016.2476560735595,
          2940.532750548394,
          2864.926557834105,
          2789.789153687161,
          2715.4526723984527,
          2642.2207556930503,
          2570.3682876482076,
          2500.1399171261182,
          2431.749760452492,
          2365.3835856270357,
          2301.200576317916,
          2239.334389304934,
          2179.8939360171726,
          2122.9641030516373,
          2068.6090094509805,
          2016.8705979627716,
          1967.7734247880774,
          1921.3276641579623,
          1877.5308851893328,
          1836.3692879875753,
          1797.8188377501226,
          1761.846765812717,
          1728.4130483315284,
          1697.4722571022548,
          1668.9746049217354,
          1642.8671346624476,
          1619.0945482437646,
          1597.5998180638635,
          1578.4249176867645,
          1562.0439942837268,
          868.9097372147103,
          874.1992732631157,
          880.5457635329727,
          887.9947098580465,
          896.5930301977103,
          906.3890128504299,
          917.4321479152139,
          929.772879637643,
          943.4622070680165,
          958.5512161132763,
          975.0907059278472,
          993.1307500171667,
          1012.7201835292195,
          1033.9055504036978,
          1056.7303427518234,
          1081.2339337866467,
          1107.4500114321738,
          1135.4055969926962,
          1165.118591558596,
          1196.5965068414553,
          1229.8349269291855,
          1264.8164997173853,
          1301.509414154305,
          1339.3271959302997,
          1374.4000869748897,
          1410.5405507146897,
          1447.6454352904766,
          1485.5958439296433,
          1524.2570890650761,
          1563.4785197188978,
          1603.0937474827442,
          1642.9208613023652,
          1682.7618972419423,
          1722.4047223202406,
          1761.6237970960653,
          1800.1828080512819,
          1837.8361304404043,
          1874.3294385562467,
          1909.399527883203,
          1942.7723892670447,
          1974.1656705412788,
          2003.2939864254072,
          2029.8387503536612,
          2053.502483737957,
          2073.983753330008,
          2090.9787008162684,
          2104.1863324088795,
          2113.3205992982976,
          2118.108003435626,
          2118.2961220573015,
          2113.6554542304216,
          2103.982632255268,
          2089.107324695267,
          2068.9162490699227,
          2043.3520301471772,
          2012.4163315471035,
          1976.1745251951925,
          1934.7575302668954,
          1888.3647382955164,
          1837.2714693046807,
          1781.830369329563,
          1722.4548595868446,
          1659.6243300769884,
          1593.8858738631,
          1525.8416678028034,
          1456.1044219750981,
          1385.2513188800797,
          1313.7812140439723,
          1242.0910393541628,
          1170.4918576109205,
          1099.2027069121402,
          1022.3622754314365,
          943.9838968468302,
          868.980752365789,
          797.6537892236403,
          730.2153208780021,
          666.7954986777112,
          607.4571911519097,
          552.2058803200571,
          500.9900594443393,
          453.70360018218577,
          410.19516770538064,
          370.3072169509044,
          333.8507846317277,
          300.6185727262264,
          270.3875403041595,
          242.92803401377452,
          218.01751438891765,
          195.44638980791618,
          175.0220719867134,
          156.56899027939582,
          139.88923219331318,
          124.70088143464136,
          110.54665168868148,
          96.74216693176704,
          82.42996141283987,
          66.82907086978143,
          49.66293885527523,
          31.544973311668283,
          14.03704063331303
         ]
        }
       ],
       "layout": {
        "boxmode": "group",
        "legend": {
         "orientation": "h",
         "x": 1,
         "xanchor": "right",
         "y": 1.02,
         "yanchor": "bottom"
        },
        "plot_bgcolor": "white",
        "template": {
         "data": {
          "bar": [
           {
            "error_x": {
             "color": "#2a3f5f"
            },
            "error_y": {
             "color": "#2a3f5f"
            },
            "marker": {
             "line": {
              "color": "#E5ECF6",
              "width": 0.5
             },
             "pattern": {
              "fillmode": "overlay",
              "size": 10,
              "solidity": 0.2
             }
            },
            "type": "bar"
           }
          ],
          "barpolar": [
           {
            "marker": {
             "line": {
              "color": "#E5ECF6",
              "width": 0.5
             },
             "pattern": {
              "fillmode": "overlay",
              "size": 10,
              "solidity": 0.2
             }
            },
            "type": "barpolar"
           }
          ],
          "carpet": [
           {
            "aaxis": {
             "endlinecolor": "#2a3f5f",
             "gridcolor": "white",
             "linecolor": "white",
             "minorgridcolor": "white",
             "startlinecolor": "#2a3f5f"
            },
            "baxis": {
             "endlinecolor": "#2a3f5f",
             "gridcolor": "white",
             "linecolor": "white",
             "minorgridcolor": "white",
             "startlinecolor": "#2a3f5f"
            },
            "type": "carpet"
           }
          ],
          "choropleth": [
           {
            "colorbar": {
             "outlinewidth": 0,
             "ticks": ""
            },
            "type": "choropleth"
           }
          ],
          "contour": [
           {
            "colorbar": {
             "outlinewidth": 0,
             "ticks": ""
            },
            "colorscale": [
             [
              0,
              "#0d0887"
             ],
             [
              0.1111111111111111,
              "#46039f"
             ],
             [
              0.2222222222222222,
              "#7201a8"
             ],
             [
              0.3333333333333333,
              "#9c179e"
             ],
             [
              0.4444444444444444,
              "#bd3786"
             ],
             [
              0.5555555555555556,
              "#d8576b"
             ],
             [
              0.6666666666666666,
              "#ed7953"
             ],
             [
              0.7777777777777778,
              "#fb9f3a"
             ],
             [
              0.8888888888888888,
              "#fdca26"
             ],
             [
              1,
              "#f0f921"
             ]
            ],
            "type": "contour"
           }
          ],
          "contourcarpet": [
           {
            "colorbar": {
             "outlinewidth": 0,
             "ticks": ""
            },
            "type": "contourcarpet"
           }
          ],
          "heatmap": [
           {
            "colorbar": {
             "outlinewidth": 0,
             "ticks": ""
            },
            "colorscale": [
             [
              0,
              "#0d0887"
             ],
             [
              0.1111111111111111,
              "#46039f"
             ],
             [
              0.2222222222222222,
              "#7201a8"
             ],
             [
              0.3333333333333333,
              "#9c179e"
             ],
             [
              0.4444444444444444,
              "#bd3786"
             ],
             [
              0.5555555555555556,
              "#d8576b"
             ],
             [
              0.6666666666666666,
              "#ed7953"
             ],
             [
              0.7777777777777778,
              "#fb9f3a"
             ],
             [
              0.8888888888888888,
              "#fdca26"
             ],
             [
              1,
              "#f0f921"
             ]
            ],
            "type": "heatmap"
           }
          ],
          "heatmapgl": [
           {
            "colorbar": {
             "outlinewidth": 0,
             "ticks": ""
            },
            "colorscale": [
             [
              0,
              "#0d0887"
             ],
             [
              0.1111111111111111,
              "#46039f"
             ],
             [
              0.2222222222222222,
              "#7201a8"
             ],
             [
              0.3333333333333333,
              "#9c179e"
             ],
             [
              0.4444444444444444,
              "#bd3786"
             ],
             [
              0.5555555555555556,
              "#d8576b"
             ],
             [
              0.6666666666666666,
              "#ed7953"
             ],
             [
              0.7777777777777778,
              "#fb9f3a"
             ],
             [
              0.8888888888888888,
              "#fdca26"
             ],
             [
              1,
              "#f0f921"
             ]
            ],
            "type": "heatmapgl"
           }
          ],
          "histogram": [
           {
            "marker": {
             "pattern": {
              "fillmode": "overlay",
              "size": 10,
              "solidity": 0.2
             }
            },
            "type": "histogram"
           }
          ],
          "histogram2d": [
           {
            "colorbar": {
             "outlinewidth": 0,
             "ticks": ""
            },
            "colorscale": [
             [
              0,
              "#0d0887"
             ],
             [
              0.1111111111111111,
              "#46039f"
             ],
             [
              0.2222222222222222,
              "#7201a8"
             ],
             [
              0.3333333333333333,
              "#9c179e"
             ],
             [
              0.4444444444444444,
              "#bd3786"
             ],
             [
              0.5555555555555556,
              "#d8576b"
             ],
             [
              0.6666666666666666,
              "#ed7953"
             ],
             [
              0.7777777777777778,
              "#fb9f3a"
             ],
             [
              0.8888888888888888,
              "#fdca26"
             ],
             [
              1,
              "#f0f921"
             ]
            ],
            "type": "histogram2d"
           }
          ],
          "histogram2dcontour": [
           {
            "colorbar": {
             "outlinewidth": 0,
             "ticks": ""
            },
            "colorscale": [
             [
              0,
              "#0d0887"
             ],
             [
              0.1111111111111111,
              "#46039f"
             ],
             [
              0.2222222222222222,
              "#7201a8"
             ],
             [
              0.3333333333333333,
              "#9c179e"
             ],
             [
              0.4444444444444444,
              "#bd3786"
             ],
             [
              0.5555555555555556,
              "#d8576b"
             ],
             [
              0.6666666666666666,
              "#ed7953"
             ],
             [
              0.7777777777777778,
              "#fb9f3a"
             ],
             [
              0.8888888888888888,
              "#fdca26"
             ],
             [
              1,
              "#f0f921"
             ]
            ],
            "type": "histogram2dcontour"
           }
          ],
          "mesh3d": [
           {
            "colorbar": {
             "outlinewidth": 0,
             "ticks": ""
            },
            "type": "mesh3d"
           }
          ],
          "parcoords": [
           {
            "line": {
             "colorbar": {
              "outlinewidth": 0,
              "ticks": ""
             }
            },
            "type": "parcoords"
           }
          ],
          "pie": [
           {
            "automargin": true,
            "type": "pie"
           }
          ],
          "scatter": [
           {
            "fillpattern": {
             "fillmode": "overlay",
             "size": 10,
             "solidity": 0.2
            },
            "type": "scatter"
           }
          ],
          "scatter3d": [
           {
            "line": {
             "colorbar": {
              "outlinewidth": 0,
              "ticks": ""
             }
            },
            "marker": {
             "colorbar": {
              "outlinewidth": 0,
              "ticks": ""
             }
            },
            "type": "scatter3d"
           }
          ],
          "scattercarpet": [
           {
            "marker": {
             "colorbar": {
              "outlinewidth": 0,
              "ticks": ""
             }
            },
            "type": "scattercarpet"
           }
          ],
          "scattergeo": [
           {
            "marker": {
             "colorbar": {
              "outlinewidth": 0,
              "ticks": ""
             }
            },
            "type": "scattergeo"
           }
          ],
          "scattergl": [
           {
            "marker": {
             "colorbar": {
              "outlinewidth": 0,
              "ticks": ""
             }
            },
            "type": "scattergl"
           }
          ],
          "scattermapbox": [
           {
            "marker": {
             "colorbar": {
              "outlinewidth": 0,
              "ticks": ""
             }
            },
            "type": "scattermapbox"
           }
          ],
          "scatterpolar": [
           {
            "marker": {
             "colorbar": {
              "outlinewidth": 0,
              "ticks": ""
             }
            },
            "type": "scatterpolar"
           }
          ],
          "scatterpolargl": [
           {
            "marker": {
             "colorbar": {
              "outlinewidth": 0,
              "ticks": ""
             }
            },
            "type": "scatterpolargl"
           }
          ],
          "scatterternary": [
           {
            "marker": {
             "colorbar": {
              "outlinewidth": 0,
              "ticks": ""
             }
            },
            "type": "scatterternary"
           }
          ],
          "surface": [
           {
            "colorbar": {
             "outlinewidth": 0,
             "ticks": ""
            },
            "colorscale": [
             [
              0,
              "#0d0887"
             ],
             [
              0.1111111111111111,
              "#46039f"
             ],
             [
              0.2222222222222222,
              "#7201a8"
             ],
             [
              0.3333333333333333,
              "#9c179e"
             ],
             [
              0.4444444444444444,
              "#bd3786"
             ],
             [
              0.5555555555555556,
              "#d8576b"
             ],
             [
              0.6666666666666666,
              "#ed7953"
             ],
             [
              0.7777777777777778,
              "#fb9f3a"
             ],
             [
              0.8888888888888888,
              "#fdca26"
             ],
             [
              1,
              "#f0f921"
             ]
            ],
            "type": "surface"
           }
          ],
          "table": [
           {
            "cells": {
             "fill": {
              "color": "#EBF0F8"
             },
             "line": {
              "color": "white"
             }
            },
            "header": {
             "fill": {
              "color": "#C8D4E3"
             },
             "line": {
              "color": "white"
             }
            },
            "type": "table"
           }
          ]
         },
         "layout": {
          "annotationdefaults": {
           "arrowcolor": "#2a3f5f",
           "arrowhead": 0,
           "arrowwidth": 1
          },
          "autotypenumbers": "strict",
          "coloraxis": {
           "colorbar": {
            "outlinewidth": 0,
            "ticks": ""
           }
          },
          "colorscale": {
           "diverging": [
            [
             0,
             "#8e0152"
            ],
            [
             0.1,
             "#c51b7d"
            ],
            [
             0.2,
             "#de77ae"
            ],
            [
             0.3,
             "#f1b6da"
            ],
            [
             0.4,
             "#fde0ef"
            ],
            [
             0.5,
             "#f7f7f7"
            ],
            [
             0.6,
             "#e6f5d0"
            ],
            [
             0.7,
             "#b8e186"
            ],
            [
             0.8,
             "#7fbc41"
            ],
            [
             0.9,
             "#4d9221"
            ],
            [
             1,
             "#276419"
            ]
           ],
           "sequential": [
            [
             0,
             "#0d0887"
            ],
            [
             0.1111111111111111,
             "#46039f"
            ],
            [
             0.2222222222222222,
             "#7201a8"
            ],
            [
             0.3333333333333333,
             "#9c179e"
            ],
            [
             0.4444444444444444,
             "#bd3786"
            ],
            [
             0.5555555555555556,
             "#d8576b"
            ],
            [
             0.6666666666666666,
             "#ed7953"
            ],
            [
             0.7777777777777778,
             "#fb9f3a"
            ],
            [
             0.8888888888888888,
             "#fdca26"
            ],
            [
             1,
             "#f0f921"
            ]
           ],
           "sequentialminus": [
            [
             0,
             "#0d0887"
            ],
            [
             0.1111111111111111,
             "#46039f"
            ],
            [
             0.2222222222222222,
             "#7201a8"
            ],
            [
             0.3333333333333333,
             "#9c179e"
            ],
            [
             0.4444444444444444,
             "#bd3786"
            ],
            [
             0.5555555555555556,
             "#d8576b"
            ],
            [
             0.6666666666666666,
             "#ed7953"
            ],
            [
             0.7777777777777778,
             "#fb9f3a"
            ],
            [
             0.8888888888888888,
             "#fdca26"
            ],
            [
             1,
             "#f0f921"
            ]
           ]
          },
          "colorway": [
           "#636efa",
           "#EF553B",
           "#00cc96",
           "#ab63fa",
           "#FFA15A",
           "#19d3f3",
           "#FF6692",
           "#B6E880",
           "#FF97FF",
           "#FECB52"
          ],
          "font": {
           "color": "#2a3f5f"
          },
          "geo": {
           "bgcolor": "white",
           "lakecolor": "white",
           "landcolor": "#E5ECF6",
           "showlakes": true,
           "showland": true,
           "subunitcolor": "white"
          },
          "hoverlabel": {
           "align": "left"
          },
          "hovermode": "closest",
          "mapbox": {
           "style": "light"
          },
          "paper_bgcolor": "white",
          "plot_bgcolor": "#E5ECF6",
          "polar": {
           "angularaxis": {
            "gridcolor": "white",
            "linecolor": "white",
            "ticks": ""
           },
           "bgcolor": "#E5ECF6",
           "radialaxis": {
            "gridcolor": "white",
            "linecolor": "white",
            "ticks": ""
           }
          },
          "scene": {
           "xaxis": {
            "backgroundcolor": "#E5ECF6",
            "gridcolor": "white",
            "gridwidth": 2,
            "linecolor": "white",
            "showbackground": true,
            "ticks": "",
            "zerolinecolor": "white"
           },
           "yaxis": {
            "backgroundcolor": "#E5ECF6",
            "gridcolor": "white",
            "gridwidth": 2,
            "linecolor": "white",
            "showbackground": true,
            "ticks": "",
            "zerolinecolor": "white"
           },
           "zaxis": {
            "backgroundcolor": "#E5ECF6",
            "gridcolor": "white",
            "gridwidth": 2,
            "linecolor": "white",
            "showbackground": true,
            "ticks": "",
            "zerolinecolor": "white"
           }
          },
          "shapedefaults": {
           "line": {
            "color": "#2a3f5f"
           }
          },
          "ternary": {
           "aaxis": {
            "gridcolor": "white",
            "linecolor": "white",
            "ticks": ""
           },
           "baxis": {
            "gridcolor": "white",
            "linecolor": "white",
            "ticks": ""
           },
           "bgcolor": "#E5ECF6",
           "caxis": {
            "gridcolor": "white",
            "linecolor": "white",
            "ticks": ""
           }
          },
          "title": {
           "x": 0.05
          },
          "xaxis": {
           "automargin": true,
           "gridcolor": "white",
           "linecolor": "white",
           "ticks": "",
           "title": {
            "standoff": 15
           },
           "zerolinecolor": "white",
           "zerolinewidth": 2
          },
          "yaxis": {
           "automargin": true,
           "gridcolor": "white",
           "linecolor": "white",
           "ticks": "",
           "title": {
            "standoff": 15
           },
           "zerolinecolor": "white",
           "zerolinewidth": 2
          }
         }
        },
        "title": {
         "text": "Years of Life Lost for Scenario: Prioritise 60-70 then 75+"
        },
        "width": 800,
        "xaxis": {
         "linecolor": "black"
        },
        "yaxis": {
         "linecolor": "black"
        }
       }
      }
     },
     "metadata": {},
     "output_type": "display_data"
    },
    {
     "data": {
      "application/vnd.plotly.v1+json": {
       "config": {
        "plotlyServerURL": "https://plot.ly"
       },
       "data": [
        {
         "line": {
          "color": "blue"
         },
         "mode": "lines",
         "name": "region United Kingdom",
         "type": "scatter",
         "x": [
          1,
          2,
          3,
          4,
          5,
          6,
          7,
          8,
          9,
          10,
          11,
          12,
          13,
          14,
          15,
          16,
          17,
          18,
          19,
          20,
          21,
          22,
          23,
          24,
          25,
          26,
          27,
          28,
          29,
          30,
          31,
          32,
          33,
          34,
          35,
          36,
          37,
          38,
          39,
          40,
          41,
          42,
          43,
          44,
          45,
          46,
          47,
          48,
          49,
          50,
          51,
          52,
          53,
          54,
          55,
          56,
          57,
          58,
          59,
          60,
          61,
          62,
          63,
          64,
          65,
          66,
          67,
          68,
          69,
          70,
          71,
          72,
          73,
          74,
          75,
          76,
          77,
          78,
          79,
          80,
          81,
          82,
          83,
          84,
          85,
          86,
          87,
          88,
          89,
          90,
          91,
          92,
          93,
          94,
          95,
          96,
          97,
          98,
          99,
          100
         ],
         "y": [
          19.91968251924815,
          44.76099121806072,
          70.40166558182716,
          94.43791977682129,
          115.71613144281237,
          134.32630136193887,
          151.114330200636,
          167.09962193936394,
          183.11364204237717,
          199.69471883269648,
          217.1406918298374,
          235.6079287838122,
          255.19741022810874,
          276.0032981073574,
          298.1280381028896,
          321.68034323609584,
          346.77318277737135,
          373.5156770876579,
          402.0106117103753,
          432.3541197895622,
          464.63527173636413,
          498.9340676797331,
          535.3271026372486,
          573.8880705027478,
          614.6790018614365,
          657.7484273680493,
          703.1298900497507,
          750.8413410014207,
          800.8852938501611,
          853.2473496827109,
          906.3872723306386,
          960.9327279743104,
          1017.124568634109,
          1075.1116078122704,
          1134.9456786025662,
          1196.5563669372298,
          1259.7678034179996,
          1324.3365625850993,
          1389.9812181550424,
          1456.399304162296,
          1523.2804539376998,
          1590.3091123463046,
          1657.1614984565153,
          1723.506252686665,
          1789.0056297282752,
          1853.3175302871089,
          1916.099697432018,
          1977.013091620692,
          2035.7329792060714,
          2091.9519075529874,
          2145.3823034751335,
          2195.759469402197,
          2242.843167881069,
          2286.4202838045817,
          2326.307752946316,
          2362.354434500843,
          2394.4408720953415,
          2422.4801119436024,
          2446.417560190963,
          2466.228355809297,
          2481.9455454260506,
          2493.6005217088677,
          2501.251114462184,
          2504.980792773551,
          2504.8955191688133,
          2501.1209903461063,
          2493.8005409280954,
          2483.094052455618,
          2469.175282434738,
          2452.2292412761662,
          2432.450733933749,
          2410.04132007038,
          2385.2084228315243,
          2358.16254547386,
          2329.115582238415,
          2298.2795545977706,
          2265.864165545677,
          2232.0763242304047,
          2197.1182390364356,
          2161.186370868185,
          2124.470565703598,
          2087.1532718888607,
          2049.4088106935615,
          2011.402839657662,
          1973.291827353574,
          1935.2224762908322,
          1897.3316256311093,
          1859.7459668123856,
          1822.5820053490886,
          1785.9461605429399,
          1749.9347944368349,
          1714.6343595456021,
          1680.1217898223238,
          1646.464667749928,
          1613.7217902903874,
          1581.9438133128008,
          1551.1737565445035,
          1521.4473524787543,
          1492.7935575315964,
          1465.2350543375221
         ]
        },
        {
         "fill": "toself",
         "fillcolor": "blue",
         "line": {
          "color": "blue"
         },
         "mode": "lines",
         "name": "region United Kingdom",
         "opacity": 0.15,
         "type": "scatter",
         "x": [
          1,
          2,
          3,
          4,
          5,
          6,
          7,
          8,
          9,
          10,
          11,
          12,
          13,
          14,
          15,
          16,
          17,
          18,
          19,
          20,
          21,
          22,
          23,
          24,
          25,
          26,
          27,
          28,
          29,
          30,
          31,
          32,
          33,
          34,
          35,
          36,
          37,
          38,
          39,
          40,
          41,
          42,
          43,
          44,
          45,
          46,
          47,
          48,
          49,
          50,
          51,
          52,
          53,
          54,
          55,
          56,
          57,
          58,
          59,
          60,
          61,
          62,
          63,
          64,
          65,
          66,
          67,
          68,
          69,
          70,
          71,
          72,
          73,
          74,
          75,
          76,
          77,
          78,
          79,
          80,
          81,
          82,
          83,
          84,
          85,
          86,
          87,
          88,
          89,
          90,
          91,
          92,
          93,
          94,
          95,
          96,
          97,
          98,
          99,
          100,
          100,
          99,
          98,
          97,
          96,
          95,
          94,
          93,
          92,
          91,
          90,
          89,
          88,
          87,
          86,
          85,
          84,
          83,
          82,
          81,
          80,
          79,
          78,
          77,
          76,
          75,
          74,
          73,
          72,
          71,
          70,
          69,
          68,
          67,
          66,
          65,
          64,
          63,
          62,
          61,
          60,
          59,
          58,
          57,
          56,
          55,
          54,
          53,
          52,
          51,
          50,
          49,
          48,
          47,
          46,
          45,
          44,
          43,
          42,
          41,
          40,
          39,
          38,
          37,
          36,
          35,
          34,
          33,
          32,
          31,
          30,
          29,
          28,
          27,
          26,
          25,
          24,
          23,
          22,
          21,
          20,
          19,
          18,
          17,
          16,
          15,
          14,
          13,
          12,
          11,
          10,
          9,
          8,
          7,
          6,
          5,
          4,
          3,
          2,
          1
         ],
         "y": [
          23.632746178765355,
          53.107409624651424,
          83.57340943623046,
          112.2715943280027,
          137.92276143069796,
          160.66680240770492,
          181.47287763481222,
          201.46993415826694,
          221.55132863970277,
          242.27381234781225,
          263.936899213579,
          286.6957631104315,
          310.6602361843741,
          335.93951617053347,
          362.65588449138994,
          390.9344503018223,
          420.90142864543236,
          452.67525885984594,
          486.364972330878,
          522.0712391176795,
          559.8867838663575,
          599.8967392020735,
          642.1719432150369,
          686.7892236396615,
          733.8150065845765,
          783.3004569594078,
          835.2801839108586,
          889.7720411441852,
          946.7773751833275,
          1006.2814802886892,
          1066.4633637632808,
          1130.9873875361868,
          1199.0543543429558,
          1269.3108025446836,
          1341.77064941662,
          1416.3137721453938,
          1492.705836457109,
          1570.6471717874517,
          1649.780503039849,
          1729.7258146378097,
          1810.0950479071503,
          1890.493392409911,
          1970.5165279392365,
          2049.748653278228,
          2127.7671066237385,
          2204.1438175319327,
          2278.441240464467,
          2350.238868382443,
          2421.92617399266,
          2495.571741525202,
          2566.4040791611064,
          2634.056204052855,
          2698.19161828222,
          2758.505982911796,
          2814.7278884672937,
          2866.6172184080756,
          2913.9653122854647,
          2956.5922070910133,
          2994.3602229909197,
          3027.1768254468425,
          3055.0169427555647,
          3077.856546443487,
          3095.704083901738,
          3108.5988317387782,
          3116.611191330872,
          3119.842891818137,
          3118.422242199866,
          3112.5056575914323,
          3102.280130118745,
          3087.948425996903,
          3069.7254075121673,
          3047.8377269735197,
          3022.5212609596892,
          2994.0197602781664,
          2962.5839758269185,
          2928.46975684427,
          2891.934083211815,
          2853.236872936445,
          2812.6347132594115,
          2770.3793339429253,
          2726.7170803866675,
          2681.887020844235,
          2636.1200149947217,
          2589.6381934059045,
          2542.654555212789,
          2495.3711242243367,
          2447.978915873639,
          2400.6576225418485,
          2353.57455470633,
          2306.884191551365,
          2260.7286040473264,
          2215.2377529592063,
          2170.5297662620524,
          2126.7112186443856,
          2083.8774076776613,
          2042.1126337918295,
          2001.4907592379398,
          1962.0750436980397,
          1923.9185010795406,
          1887.0652391049446,
          938.7733583574895,
          957.4194646352523,
          977.1683158170085,
          998.0340247042527,
          1020.0271010616484,
          1043.153951074681,
          1067.416210472394,
          1092.8096937297053,
          1119.324140999735,
          1146.9423132846068,
          1175.638822781306,
          1205.380003694943,
          1236.123172976054,
          1266.9218486978352,
          1293.6747634549617,
          1320.8492441622795,
          1348.3666444714595,
          1376.1404085988963,
          1404.07599494725,
          1432.0708405815953,
          1460.0143820665419,
          1487.7881461056108,
          1515.2661595303462,
          1542.3153094557185,
          1568.7963970941287,
          1594.5650253911447,
          1619.4717400556078,
          1643.362296253973,
          1666.0781129926586,
          1687.457086913238,
          1707.3353088325948,
          1725.5472303264796,
          1741.9270346950555,
          1756.3156844256596,
          1768.556016696845,
          1778.4996268020554,
          1786.0078174740843,
          1790.9525209629246,
          1793.2165801038184,
          1792.6924102083449,
          1789.2824042940492,
          1782.9013175517,
          1773.4539507252364,
          1760.9042221011816,
          1745.2346274983545,
          1726.4487376226552,
          1704.574431362139,
          1679.664455851075,
          1651.7972635130936,
          1621.0777437001793,
          1587.6377829681924,
          1551.6368908234424,
          1513.2583520564544,
          1472.7013053667577,
          1430.1809511683016,
          1385.9285330100524,
          1340.191141415881,
          1293.2306513484082,
          1245.3220328979096,
          1196.748565965645,
          1147.7812364838571,
          1098.6868953226826,
          1049.7386412192516,
          1001.2092010030942,
          953.3623562224507,
          906.4338159924122,
          860.5983126442538,
          815.9320098356727,
          768.3943543998762,
          718.829242050482,
          670.9838826965861,
          624.4606947531489,
          580.3279500626472,
          538.5930459286877,
          499.24302969346013,
          462.2482587465352,
          427.5622972153018,
          395.1245286125889,
          364.8601984215235,
          336.68114687685386,
          310.48844575444616,
          286.18347991840767,
          263.6661041111548,
          242.82916546598622,
          223.56216133465793,
          205.75232172724793,
          189.28864294360886,
          174.06737309402334,
          159.99322483195175,
          146.97654990677955,
          134.91890572074746,
          123.67300208983687,
          112.97932492757786,
          102.39719716622858,
          91.27749750017621,
          78.85014180181918,
          64.49195773369179,
          48.1404523806967,
          30.622306269475924,
          13.628335313458567
         ]
        },
        {
         "line": {
          "color": "red"
         },
         "mode": "lines",
         "name": "region France",
         "type": "scatter",
         "x": [
          1,
          2,
          3,
          4,
          5,
          6,
          7,
          8,
          9,
          10,
          11,
          12,
          13,
          14,
          15,
          16,
          17,
          18,
          19,
          20,
          21,
          22,
          23,
          24,
          25,
          26,
          27,
          28,
          29,
          30,
          31,
          32,
          33,
          34,
          35,
          36,
          37,
          38,
          39,
          40,
          41,
          42,
          43,
          44,
          45,
          46,
          47,
          48,
          49,
          50,
          51,
          52,
          53,
          54,
          55,
          56,
          57,
          58,
          59,
          60,
          61,
          62,
          63,
          64,
          65,
          66,
          67,
          68,
          69,
          70,
          71,
          72,
          73,
          74,
          75,
          76,
          77,
          78,
          79,
          80,
          81,
          82,
          83,
          84,
          85,
          86,
          87,
          88,
          89,
          90,
          91,
          92,
          93,
          94,
          95,
          96,
          97,
          98,
          99,
          100
         ],
         "y": [
          20.51706143810914,
          46.111047161321004,
          72.6517668553114,
          97.97238514423738,
          121.28042204921114,
          143.00183522491582,
          164.20327396733765,
          185.99871849863533,
          209.2293635292641,
          234.41860995201893,
          261.86491112371937,
          291.7703734392652,
          324.3212943384256,
          359.7319877656937,
          398.23622878890893,
          440.0757682686764,
          485.4894374655549,
          534.7038568423925,
          587.9236971135286,
          645.3269809657556,
          707.0618703568053,
          773.2469755540903,
          843.9715909239089,
          919.2789894157045,
          999.1527365543407,
          1083.51300211355,
          1172.2152435157063,
          1265.0464793079723,
          1361.7116760785764,
          1461.8307887108394,
          1563.3909859500768,
          1666.5573579004306,
          1771.0406216226456,
          1876.4001926470414,
          1982.037212078663,
          2087.205393824617,
          2191.067738870705,
          2292.7492444596473,
          2391.3791490399117,
          2486.119586504826,
          2576.1869391809437,
          2660.8650139987863,
          2739.518871784649,
          2811.603128070407,
          2876.6672850260697,
          2934.3583662321353,
          2984.4222428721737,
          3026.702832998908,
          3061.144896083485,
          3087.7814778450706,
          3106.7254595399445,
          3118.1586686699675,
          3122.323866174322,
          3119.5159438825276,
          3110.0724208964716,
          3094.3658747599998,
          3072.792837107426,
          3045.764612163378,
          3013.703265672165,
          2977.037532459472,
          2936.2273792373203,
          2891.6995435254335,
          2843.876043182087,
          2793.171494893437,
          2739.9935140456614,
          2684.741549825304,
          2627.8042467181135,
          2569.5578628161725,
          2510.364259210776,
          2450.5694759882804,
          2390.502099157265,
          2330.4715549043563,
          2270.7668475951814,
          2211.6550549279154,
          2153.3803768807993,
          2096.1639118286857,
          2040.2036388298284,
          1985.6739008020054,
          1932.7257148989324,
          1881.487519843945,
          1832.0665268662635,
          1784.5499324493576,
          1739.0060771559865,
          1695.4858110512534,
          1654.024108669497,
          1614.6415531932885,
          1577.3458711497308,
          1542.1339832547662,
          1508.993256562114,
          1477.902977228037,
          1448.8356197378746,
          1421.7579327464014,
          1396.6320343824168,
          1373.4164316899082,
          1352.0668043192468,
          1332.5367759021735,
          1314.778584426399,
          1298.7436450209598,
          1284.3830645622083,
          1271.6480119202224
         ]
        },
        {
         "fill": "toself",
         "fillcolor": "red",
         "line": {
          "color": "red"
         },
         "mode": "lines",
         "name": "region France",
         "opacity": 0.15,
         "type": "scatter",
         "x": [
          1,
          2,
          3,
          4,
          5,
          6,
          7,
          8,
          9,
          10,
          11,
          12,
          13,
          14,
          15,
          16,
          17,
          18,
          19,
          20,
          21,
          22,
          23,
          24,
          25,
          26,
          27,
          28,
          29,
          30,
          31,
          32,
          33,
          34,
          35,
          36,
          37,
          38,
          39,
          40,
          41,
          42,
          43,
          44,
          45,
          46,
          47,
          48,
          49,
          50,
          51,
          52,
          53,
          54,
          55,
          56,
          57,
          58,
          59,
          60,
          61,
          62,
          63,
          64,
          65,
          66,
          67,
          68,
          69,
          70,
          71,
          72,
          73,
          74,
          75,
          76,
          77,
          78,
          79,
          80,
          81,
          82,
          83,
          84,
          85,
          86,
          87,
          88,
          89,
          90,
          91,
          92,
          93,
          94,
          95,
          96,
          97,
          98,
          99,
          100,
          100,
          99,
          98,
          97,
          96,
          95,
          94,
          93,
          92,
          91,
          90,
          89,
          88,
          87,
          86,
          85,
          84,
          83,
          82,
          81,
          80,
          79,
          78,
          77,
          76,
          75,
          74,
          73,
          72,
          71,
          70,
          69,
          68,
          67,
          66,
          65,
          64,
          63,
          62,
          61,
          60,
          59,
          58,
          57,
          56,
          55,
          54,
          53,
          52,
          51,
          50,
          49,
          48,
          47,
          46,
          45,
          44,
          43,
          42,
          41,
          40,
          39,
          38,
          37,
          36,
          35,
          34,
          33,
          32,
          31,
          30,
          29,
          28,
          27,
          26,
          25,
          24,
          23,
          22,
          21,
          20,
          19,
          18,
          17,
          16,
          15,
          14,
          13,
          12,
          11,
          10,
          9,
          8,
          7,
          6,
          5,
          4,
          3,
          2,
          1
         ],
         "y": [
          24.341477572869888,
          54.71033658108373,
          86.26348017967354,
          116.56199727717035,
          144.7934259055484,
          171.51264951886552,
          197.94330960969882,
          225.30675410596228,
          254.4898731621166,
          286.0237335593795,
          320.21146497195673,
          357.2724337368387,
          397.4278612554854,
          440.9366242032914,
          488.0795089188088,
          539.1368121684482,
          594.3761750292242,
          654.0503924155062,
          718.3876670220255,
          787.5840544653657,
          861.8017728927042,
          941.1691939518968,
          1025.7691645870877,
          1115.6553564924918,
          1210.8159726844997,
          1311.1643843907298,
          1416.5373514050073,
          1526.6958360974163,
          1641.3256136564662,
          1760.0080930685049,
          1880.3942170507455,
          2002.7256607545005,
          2126.708381021956,
          2255.543670365952,
          2389.4090723769723,
          2523.529829838583,
          2656.8487656661405,
          2788.271075769994,
          2916.70994295319,
          3041.1060868004092,
          3160.4342459023337,
          3273.723729338001,
          3380.0732685190874,
          3478.6897310255763,
          3568.897193349262,
          3650.140075229686,
          3721.982401897256,
          3784.095679471275,
          3836.3029743680195,
          3878.5544272967945,
          3910.9015253661773,
          3933.487024569159,
          3946.5394812127583,
          3950.36775110985,
          3945.3411151096457,
          3931.902749569338,
          3910.531318023735,
          3881.7269514521904,
          3846.0057846470468,
          3803.8997326554013,
          3755.9859565548395,
          3702.811503313498,
          3644.9225986866677,
          3582.857188930982,
          3517.1419686116797,
          3448.298592210106,
          3376.8394007203556,
          3303.2643332044195,
          3228.0540398940766,
          3151.6683000894745,
          3074.5471263023396,
          2997.109307788196,
          2919.7507527590274,
          2842.8409358147046,
          2766.7210009304126,
          2691.702599305938,
          2618.0693843059958,
          2546.0732666636695,
          2475.9351452604215,
          2407.846728112665,
          2341.972530248575,
          2278.4510180818875,
          2217.395437458602,
          2158.894525297399,
          2103.0153381247464,
          2049.8026636732766,
          1999.282741822865,
          1951.4668546338514,
          1906.3532797345017,
          1863.9286164100404,
          1824.1688899653414,
          1787.0411192556126,
          1752.5045973683918,
          1720.513009761082,
          1691.0153842581194,
          1663.9574139003153,
          1639.282335822877,
          1616.9315657378695,
          1597.651336942612,
          1580.5100035777823,
          875.2141567602262,
          880.8709239889013,
          887.6098479065738,
          895.4779813672013,
          904.5238323020559,
          914.7973301695864,
          926.349594340273,
          939.2327126566137,
          953.4992510938462,
          969.2018324358546,
          986.3927457248253,
          1005.1234923130628,
          1025.4441979559053,
          1047.4025457093708,
          1071.0429893777489,
          1096.405544835349,
          1123.5243738208471,
          1152.4265178109374,
          1183.1295470519835,
          1215.6402173306342,
          1249.9530096873948,
          1286.049055741872,
          1323.8944276143982,
          1363.4372349623184,
          1401.43095389725,
          1438.7398551179626,
          1477.027905939744,
          1516.1718204557396,
          1556.0321611466268,
          1596.4531273463697,
          1637.262914983833,
          1678.2733767041736,
          1719.2804164469467,
          1760.0653065773954,
          1800.3956878791685,
          1840.0283706491489,
          1878.7104373858983,
          1916.1800508679885,
          1952.1661754527236,
          1986.3865234218977,
          2018.5513318884343,
          2048.367630618622,
          2075.5091033375893,
          2099.6704560622047,
          2120.5424773065592,
          2137.813895015107,
          2151.1779873331902,
          2160.3431962199015,
          2165.0321966145525,
          2164.989375944084,
          2159.982824317218,
          2149.807843224043,
          2134.294640983044,
          2113.336131735847,
          2086.878494411773,
          2054.9298629614614,
          2017.563406895375,
          1974.9191761082393,
          1927.2071608111228,
          1874.7154486847205,
          1817.8081057406835,
          1756.9105779110776,
          1692.5151347539897,
          1625.1825475157905,
          1555.5288324441792,
          1484.1773156047936,
          1411.7178443361456,
          1338.660716246719,
          1265.413631361384,
          1192.2967296858044,
          1119.5346463779942,
          1039.4483632327547,
          959.682641933912,
          883.3652975177293,
          810.7970369716321,
          742.1888172601052,
          677.6690868094965,
          617.2988650599021,
          561.0811722511302,
          508.96132964897527,
          460.82956626231714,
          416.53139729278956,
          375.90629825687796,
          338.76217142435837,
          304.8885149735874,
          274.05916879636527,
          246.0419436844698,
          220.61247294251436,
          197.56043782997688,
          176.6941661914298,
          157.84121647605596,
          140.80897545998783,
          125.3218635811744,
          110.92883372711624,
          96.94886458588532,
          82.52253872847687,
          66.8598934045035,
          49.668983861487874,
          31.545306009338272,
          14.03704063331303
         ]
        }
       ],
       "layout": {
        "boxmode": "group",
        "legend": {
         "orientation": "h",
         "x": 1,
         "xanchor": "right",
         "y": 1.02,
         "yanchor": "bottom"
        },
        "plot_bgcolor": "white",
        "template": {
         "data": {
          "bar": [
           {
            "error_x": {
             "color": "#2a3f5f"
            },
            "error_y": {
             "color": "#2a3f5f"
            },
            "marker": {
             "line": {
              "color": "#E5ECF6",
              "width": 0.5
             },
             "pattern": {
              "fillmode": "overlay",
              "size": 10,
              "solidity": 0.2
             }
            },
            "type": "bar"
           }
          ],
          "barpolar": [
           {
            "marker": {
             "line": {
              "color": "#E5ECF6",
              "width": 0.5
             },
             "pattern": {
              "fillmode": "overlay",
              "size": 10,
              "solidity": 0.2
             }
            },
            "type": "barpolar"
           }
          ],
          "carpet": [
           {
            "aaxis": {
             "endlinecolor": "#2a3f5f",
             "gridcolor": "white",
             "linecolor": "white",
             "minorgridcolor": "white",
             "startlinecolor": "#2a3f5f"
            },
            "baxis": {
             "endlinecolor": "#2a3f5f",
             "gridcolor": "white",
             "linecolor": "white",
             "minorgridcolor": "white",
             "startlinecolor": "#2a3f5f"
            },
            "type": "carpet"
           }
          ],
          "choropleth": [
           {
            "colorbar": {
             "outlinewidth": 0,
             "ticks": ""
            },
            "type": "choropleth"
           }
          ],
          "contour": [
           {
            "colorbar": {
             "outlinewidth": 0,
             "ticks": ""
            },
            "colorscale": [
             [
              0,
              "#0d0887"
             ],
             [
              0.1111111111111111,
              "#46039f"
             ],
             [
              0.2222222222222222,
              "#7201a8"
             ],
             [
              0.3333333333333333,
              "#9c179e"
             ],
             [
              0.4444444444444444,
              "#bd3786"
             ],
             [
              0.5555555555555556,
              "#d8576b"
             ],
             [
              0.6666666666666666,
              "#ed7953"
             ],
             [
              0.7777777777777778,
              "#fb9f3a"
             ],
             [
              0.8888888888888888,
              "#fdca26"
             ],
             [
              1,
              "#f0f921"
             ]
            ],
            "type": "contour"
           }
          ],
          "contourcarpet": [
           {
            "colorbar": {
             "outlinewidth": 0,
             "ticks": ""
            },
            "type": "contourcarpet"
           }
          ],
          "heatmap": [
           {
            "colorbar": {
             "outlinewidth": 0,
             "ticks": ""
            },
            "colorscale": [
             [
              0,
              "#0d0887"
             ],
             [
              0.1111111111111111,
              "#46039f"
             ],
             [
              0.2222222222222222,
              "#7201a8"
             ],
             [
              0.3333333333333333,
              "#9c179e"
             ],
             [
              0.4444444444444444,
              "#bd3786"
             ],
             [
              0.5555555555555556,
              "#d8576b"
             ],
             [
              0.6666666666666666,
              "#ed7953"
             ],
             [
              0.7777777777777778,
              "#fb9f3a"
             ],
             [
              0.8888888888888888,
              "#fdca26"
             ],
             [
              1,
              "#f0f921"
             ]
            ],
            "type": "heatmap"
           }
          ],
          "heatmapgl": [
           {
            "colorbar": {
             "outlinewidth": 0,
             "ticks": ""
            },
            "colorscale": [
             [
              0,
              "#0d0887"
             ],
             [
              0.1111111111111111,
              "#46039f"
             ],
             [
              0.2222222222222222,
              "#7201a8"
             ],
             [
              0.3333333333333333,
              "#9c179e"
             ],
             [
              0.4444444444444444,
              "#bd3786"
             ],
             [
              0.5555555555555556,
              "#d8576b"
             ],
             [
              0.6666666666666666,
              "#ed7953"
             ],
             [
              0.7777777777777778,
              "#fb9f3a"
             ],
             [
              0.8888888888888888,
              "#fdca26"
             ],
             [
              1,
              "#f0f921"
             ]
            ],
            "type": "heatmapgl"
           }
          ],
          "histogram": [
           {
            "marker": {
             "pattern": {
              "fillmode": "overlay",
              "size": 10,
              "solidity": 0.2
             }
            },
            "type": "histogram"
           }
          ],
          "histogram2d": [
           {
            "colorbar": {
             "outlinewidth": 0,
             "ticks": ""
            },
            "colorscale": [
             [
              0,
              "#0d0887"
             ],
             [
              0.1111111111111111,
              "#46039f"
             ],
             [
              0.2222222222222222,
              "#7201a8"
             ],
             [
              0.3333333333333333,
              "#9c179e"
             ],
             [
              0.4444444444444444,
              "#bd3786"
             ],
             [
              0.5555555555555556,
              "#d8576b"
             ],
             [
              0.6666666666666666,
              "#ed7953"
             ],
             [
              0.7777777777777778,
              "#fb9f3a"
             ],
             [
              0.8888888888888888,
              "#fdca26"
             ],
             [
              1,
              "#f0f921"
             ]
            ],
            "type": "histogram2d"
           }
          ],
          "histogram2dcontour": [
           {
            "colorbar": {
             "outlinewidth": 0,
             "ticks": ""
            },
            "colorscale": [
             [
              0,
              "#0d0887"
             ],
             [
              0.1111111111111111,
              "#46039f"
             ],
             [
              0.2222222222222222,
              "#7201a8"
             ],
             [
              0.3333333333333333,
              "#9c179e"
             ],
             [
              0.4444444444444444,
              "#bd3786"
             ],
             [
              0.5555555555555556,
              "#d8576b"
             ],
             [
              0.6666666666666666,
              "#ed7953"
             ],
             [
              0.7777777777777778,
              "#fb9f3a"
             ],
             [
              0.8888888888888888,
              "#fdca26"
             ],
             [
              1,
              "#f0f921"
             ]
            ],
            "type": "histogram2dcontour"
           }
          ],
          "mesh3d": [
           {
            "colorbar": {
             "outlinewidth": 0,
             "ticks": ""
            },
            "type": "mesh3d"
           }
          ],
          "parcoords": [
           {
            "line": {
             "colorbar": {
              "outlinewidth": 0,
              "ticks": ""
             }
            },
            "type": "parcoords"
           }
          ],
          "pie": [
           {
            "automargin": true,
            "type": "pie"
           }
          ],
          "scatter": [
           {
            "fillpattern": {
             "fillmode": "overlay",
             "size": 10,
             "solidity": 0.2
            },
            "type": "scatter"
           }
          ],
          "scatter3d": [
           {
            "line": {
             "colorbar": {
              "outlinewidth": 0,
              "ticks": ""
             }
            },
            "marker": {
             "colorbar": {
              "outlinewidth": 0,
              "ticks": ""
             }
            },
            "type": "scatter3d"
           }
          ],
          "scattercarpet": [
           {
            "marker": {
             "colorbar": {
              "outlinewidth": 0,
              "ticks": ""
             }
            },
            "type": "scattercarpet"
           }
          ],
          "scattergeo": [
           {
            "marker": {
             "colorbar": {
              "outlinewidth": 0,
              "ticks": ""
             }
            },
            "type": "scattergeo"
           }
          ],
          "scattergl": [
           {
            "marker": {
             "colorbar": {
              "outlinewidth": 0,
              "ticks": ""
             }
            },
            "type": "scattergl"
           }
          ],
          "scattermapbox": [
           {
            "marker": {
             "colorbar": {
              "outlinewidth": 0,
              "ticks": ""
             }
            },
            "type": "scattermapbox"
           }
          ],
          "scatterpolar": [
           {
            "marker": {
             "colorbar": {
              "outlinewidth": 0,
              "ticks": ""
             }
            },
            "type": "scatterpolar"
           }
          ],
          "scatterpolargl": [
           {
            "marker": {
             "colorbar": {
              "outlinewidth": 0,
              "ticks": ""
             }
            },
            "type": "scatterpolargl"
           }
          ],
          "scatterternary": [
           {
            "marker": {
             "colorbar": {
              "outlinewidth": 0,
              "ticks": ""
             }
            },
            "type": "scatterternary"
           }
          ],
          "surface": [
           {
            "colorbar": {
             "outlinewidth": 0,
             "ticks": ""
            },
            "colorscale": [
             [
              0,
              "#0d0887"
             ],
             [
              0.1111111111111111,
              "#46039f"
             ],
             [
              0.2222222222222222,
              "#7201a8"
             ],
             [
              0.3333333333333333,
              "#9c179e"
             ],
             [
              0.4444444444444444,
              "#bd3786"
             ],
             [
              0.5555555555555556,
              "#d8576b"
             ],
             [
              0.6666666666666666,
              "#ed7953"
             ],
             [
              0.7777777777777778,
              "#fb9f3a"
             ],
             [
              0.8888888888888888,
              "#fdca26"
             ],
             [
              1,
              "#f0f921"
             ]
            ],
            "type": "surface"
           }
          ],
          "table": [
           {
            "cells": {
             "fill": {
              "color": "#EBF0F8"
             },
             "line": {
              "color": "white"
             }
            },
            "header": {
             "fill": {
              "color": "#C8D4E3"
             },
             "line": {
              "color": "white"
             }
            },
            "type": "table"
           }
          ]
         },
         "layout": {
          "annotationdefaults": {
           "arrowcolor": "#2a3f5f",
           "arrowhead": 0,
           "arrowwidth": 1
          },
          "autotypenumbers": "strict",
          "coloraxis": {
           "colorbar": {
            "outlinewidth": 0,
            "ticks": ""
           }
          },
          "colorscale": {
           "diverging": [
            [
             0,
             "#8e0152"
            ],
            [
             0.1,
             "#c51b7d"
            ],
            [
             0.2,
             "#de77ae"
            ],
            [
             0.3,
             "#f1b6da"
            ],
            [
             0.4,
             "#fde0ef"
            ],
            [
             0.5,
             "#f7f7f7"
            ],
            [
             0.6,
             "#e6f5d0"
            ],
            [
             0.7,
             "#b8e186"
            ],
            [
             0.8,
             "#7fbc41"
            ],
            [
             0.9,
             "#4d9221"
            ],
            [
             1,
             "#276419"
            ]
           ],
           "sequential": [
            [
             0,
             "#0d0887"
            ],
            [
             0.1111111111111111,
             "#46039f"
            ],
            [
             0.2222222222222222,
             "#7201a8"
            ],
            [
             0.3333333333333333,
             "#9c179e"
            ],
            [
             0.4444444444444444,
             "#bd3786"
            ],
            [
             0.5555555555555556,
             "#d8576b"
            ],
            [
             0.6666666666666666,
             "#ed7953"
            ],
            [
             0.7777777777777778,
             "#fb9f3a"
            ],
            [
             0.8888888888888888,
             "#fdca26"
            ],
            [
             1,
             "#f0f921"
            ]
           ],
           "sequentialminus": [
            [
             0,
             "#0d0887"
            ],
            [
             0.1111111111111111,
             "#46039f"
            ],
            [
             0.2222222222222222,
             "#7201a8"
            ],
            [
             0.3333333333333333,
             "#9c179e"
            ],
            [
             0.4444444444444444,
             "#bd3786"
            ],
            [
             0.5555555555555556,
             "#d8576b"
            ],
            [
             0.6666666666666666,
             "#ed7953"
            ],
            [
             0.7777777777777778,
             "#fb9f3a"
            ],
            [
             0.8888888888888888,
             "#fdca26"
            ],
            [
             1,
             "#f0f921"
            ]
           ]
          },
          "colorway": [
           "#636efa",
           "#EF553B",
           "#00cc96",
           "#ab63fa",
           "#FFA15A",
           "#19d3f3",
           "#FF6692",
           "#B6E880",
           "#FF97FF",
           "#FECB52"
          ],
          "font": {
           "color": "#2a3f5f"
          },
          "geo": {
           "bgcolor": "white",
           "lakecolor": "white",
           "landcolor": "#E5ECF6",
           "showlakes": true,
           "showland": true,
           "subunitcolor": "white"
          },
          "hoverlabel": {
           "align": "left"
          },
          "hovermode": "closest",
          "mapbox": {
           "style": "light"
          },
          "paper_bgcolor": "white",
          "plot_bgcolor": "#E5ECF6",
          "polar": {
           "angularaxis": {
            "gridcolor": "white",
            "linecolor": "white",
            "ticks": ""
           },
           "bgcolor": "#E5ECF6",
           "radialaxis": {
            "gridcolor": "white",
            "linecolor": "white",
            "ticks": ""
           }
          },
          "scene": {
           "xaxis": {
            "backgroundcolor": "#E5ECF6",
            "gridcolor": "white",
            "gridwidth": 2,
            "linecolor": "white",
            "showbackground": true,
            "ticks": "",
            "zerolinecolor": "white"
           },
           "yaxis": {
            "backgroundcolor": "#E5ECF6",
            "gridcolor": "white",
            "gridwidth": 2,
            "linecolor": "white",
            "showbackground": true,
            "ticks": "",
            "zerolinecolor": "white"
           },
           "zaxis": {
            "backgroundcolor": "#E5ECF6",
            "gridcolor": "white",
            "gridwidth": 2,
            "linecolor": "white",
            "showbackground": true,
            "ticks": "",
            "zerolinecolor": "white"
           }
          },
          "shapedefaults": {
           "line": {
            "color": "#2a3f5f"
           }
          },
          "ternary": {
           "aaxis": {
            "gridcolor": "white",
            "linecolor": "white",
            "ticks": ""
           },
           "baxis": {
            "gridcolor": "white",
            "linecolor": "white",
            "ticks": ""
           },
           "bgcolor": "#E5ECF6",
           "caxis": {
            "gridcolor": "white",
            "linecolor": "white",
            "ticks": ""
           }
          },
          "title": {
           "x": 0.05
          },
          "xaxis": {
           "automargin": true,
           "gridcolor": "white",
           "linecolor": "white",
           "ticks": "",
           "title": {
            "standoff": 15
           },
           "zerolinecolor": "white",
           "zerolinewidth": 2
          },
          "yaxis": {
           "automargin": true,
           "gridcolor": "white",
           "linecolor": "white",
           "ticks": "",
           "title": {
            "standoff": 15
           },
           "zerolinecolor": "white",
           "zerolinewidth": 2
          }
         }
        },
        "title": {
         "text": "Years of Life Lost for Scenario: Prioritise those 60-70 then 50-60, then 75+"
        },
        "width": 800,
        "xaxis": {
         "linecolor": "black"
        },
        "yaxis": {
         "linecolor": "black"
        }
       }
      }
     },
     "metadata": {},
     "output_type": "display_data"
    },
    {
     "data": {
      "application/vnd.plotly.v1+json": {
       "config": {
        "plotlyServerURL": "https://plot.ly"
       },
       "data": [
        {
         "line": {
          "color": "blue"
         },
         "mode": "lines",
         "name": "region United Kingdom",
         "type": "scatter",
         "x": [
          1,
          2,
          3,
          4,
          5,
          6,
          7,
          8,
          9,
          10,
          11,
          12,
          13,
          14,
          15,
          16,
          17,
          18,
          19,
          20,
          21,
          22,
          23,
          24,
          25,
          26,
          27,
          28,
          29,
          30,
          31,
          32,
          33,
          34,
          35,
          36,
          37,
          38,
          39,
          40,
          41,
          42,
          43,
          44,
          45,
          46,
          47,
          48,
          49,
          50,
          51,
          52,
          53,
          54,
          55,
          56,
          57,
          58,
          59,
          60,
          61,
          62,
          63,
          64,
          65,
          66,
          67,
          68,
          69,
          70,
          71,
          72,
          73,
          74,
          75,
          76,
          77,
          78,
          79,
          80,
          81,
          82,
          83,
          84,
          85,
          86,
          87,
          88,
          89,
          90,
          91,
          92,
          93,
          94,
          95,
          96,
          97,
          98,
          99,
          100
         ],
         "y": [
          19.91968251924815,
          44.76488476217213,
          70.47162934659035,
          94.79079450389219,
          116.76402187108391,
          136.63904360510213,
          155.33990855659272,
          173.8826869065924,
          193.0377481853303,
          213.25515988999484,
          234.74439538465091,
          257.5901559752353,
          281.84399306688687,
          307.5729562742748,
          334.86760221798085,
          363.8327828383568,
          394.58265878584353,
          427.22850672089595,
          461.87422274646735,
          498.6157605525187,
          537.5405112565813,
          578.7250624435169,
          622.2383664377797,
          668.1472633493796,
          716.5058975783058,
          767.3518160861603,
          820.7048085151956,
          876.5661117818694,
          934.918193396508,
          995.7246461003601,
          1057.4208630000312,
          1120.6070472232627,
          1185.4905387233025,
          1252.1760367173426,
          1320.662940986698,
          1390.827484731139,
          1462.4418452069588,
          1535.216123922994,
          1608.8321904672807,
          1682.954988373923,
          1757.2378044430777,
          1831.3298906170319,
          1904.8767947537572,
          1977.516566748507,
          2048.8839526786546,
          2118.6135269870606,
          2186.3423430771836,
          2251.7121647813733,
          2314.3801638417954,
          2374.0239924621806,
          2430.3438240803985,
          2483.06631599063,
          2531.947950165704,
          2576.776097997364,
          2617.372036316466,
          2653.592774568222,
          2685.3307759043505,
          2712.5119114362255,
          2735.096755870942,
          2753.079315705583,
          2766.5134274252036,
          2775.454442167603,
          2779.982036991941,
          2780.2046806734998,
          2776.2549705613014,
          2768.287418194722,
          2756.474415249197,
          2741.0045883725966,
          2722.079550715347,
          2699.9133479522734,
          2674.728901099066,
          2646.7558688396994,
          2616.227778660192,
          2583.380083559923,
          2548.4494719731397,
          2511.670756957761,
          2473.276196687762,
          2433.4939410386532,
          2392.5463351815783,
          2350.648675761942,
          2308.008427983219,
          2264.824066240027,
          2221.2844629528613,
          2177.568381689802,
          2133.843637522875,
          2090.2670218711073,
          2046.984119243713,
          2004.1292751717383,
          1961.8254664363026,
          1920.1844090657987,
          1879.306821400951,
          1839.2823316789736,
          1800.1903113235542,
          1762.0999004243617,
          1725.0706811940033,
          1689.1531486041101,
          1654.3894684094598,
          1620.8140010110337,
          1588.4538555829865,
          1557.3292731141669
         ]
        },
        {
         "fill": "toself",
         "fillcolor": "blue",
         "line": {
          "color": "blue"
         },
         "mode": "lines",
         "name": "region United Kingdom",
         "opacity": 0.15,
         "type": "scatter",
         "x": [
          1,
          2,
          3,
          4,
          5,
          6,
          7,
          8,
          9,
          10,
          11,
          12,
          13,
          14,
          15,
          16,
          17,
          18,
          19,
          20,
          21,
          22,
          23,
          24,
          25,
          26,
          27,
          28,
          29,
          30,
          31,
          32,
          33,
          34,
          35,
          36,
          37,
          38,
          39,
          40,
          41,
          42,
          43,
          44,
          45,
          46,
          47,
          48,
          49,
          50,
          51,
          52,
          53,
          54,
          55,
          56,
          57,
          58,
          59,
          60,
          61,
          62,
          63,
          64,
          65,
          66,
          67,
          68,
          69,
          70,
          71,
          72,
          73,
          74,
          75,
          76,
          77,
          78,
          79,
          80,
          81,
          82,
          83,
          84,
          85,
          86,
          87,
          88,
          89,
          90,
          91,
          92,
          93,
          94,
          95,
          96,
          97,
          98,
          99,
          100,
          100,
          99,
          98,
          97,
          96,
          95,
          94,
          93,
          92,
          91,
          90,
          89,
          88,
          87,
          86,
          85,
          84,
          83,
          82,
          81,
          80,
          79,
          78,
          77,
          76,
          75,
          74,
          73,
          72,
          71,
          70,
          69,
          68,
          67,
          66,
          65,
          64,
          63,
          62,
          61,
          60,
          59,
          58,
          57,
          56,
          55,
          54,
          53,
          52,
          51,
          50,
          49,
          48,
          47,
          46,
          45,
          44,
          43,
          42,
          41,
          40,
          39,
          38,
          37,
          36,
          35,
          34,
          33,
          32,
          31,
          30,
          29,
          28,
          27,
          26,
          25,
          24,
          23,
          22,
          21,
          20,
          19,
          18,
          17,
          16,
          15,
          14,
          13,
          12,
          11,
          10,
          9,
          8,
          7,
          6,
          5,
          4,
          3,
          2,
          1
         ],
         "y": [
          23.632746178765355,
          53.11260111239469,
          83.66604372039431,
          112.73564140565273,
          139.29131197512854,
          163.66635908109433,
          186.91589229043038,
          210.14936931813932,
          234.17029630881103,
          259.415793909558,
          286.070786862248,
          314.2006950490978,
          343.8547297601363,
          375.10816684894826,
          408.0686525931993,
          442.8545079134444,
          479.5897404775094,
          518.3917825053608,
          559.3671321841898,
          602.6125745944788,
          648.2154591991816,
          696.2539595786154,
          746.790955141149,
          799.8902347293608,
          855.607921149685,
          913.9831648007614,
          975.0359055848004,
          1038.7663933941578,
          1105.1553730435132,
          1174.1645659217863,
          1243.9493285133308,
          1318.8974046872845,
          1397.2589739459688,
          1477.8145705714235,
          1560.5157276554162,
          1645.1779075986778,
          1731.505900889293,
          1819.1367146264472,
          1907.6866474759045,
          1996.7288851885567,
          2085.8293091797937,
          2174.5510831621746,
          2262.4524711900476,
          2349.0849447698884,
          2433.992796304771,
          2516.72096273339,
          2596.8151947846636,
          2673.8242620512474,
          2753.9006151038157,
          2832.7663077018588,
          2908.280395072257,
          2980.0553613026755,
          3047.7350863848537,
          3111.000594340078,
          3169.5719423448136,
          3223.207735756643,
          3271.704491921059,
          3314.8964868736048,
          3352.655000473845,
          3384.8820182476475,
          3411.5683072687816,
          3432.7122733428005,
          3448.346424498965,
          3458.5345913994934,
          3463.371513216625,
          3462.9825877007056,
          3457.52293933923,
          3447.1759550530346,
          3432.145684068547,
          3412.6613428761157,
          3388.9736478723844,
          3361.344421289561,
          3330.043989309963,
          3295.34780169617,
          3257.5347377996236,
          3216.8860734532195,
          3173.684800916075,
          3128.2151715538002,
          3080.7565541708072,
          3031.587343907273,
          2980.9786114810713,
          2929.1933760374363,
          2876.484416489539,
          2823.093266338457,
          2769.2496909122783,
          2715.171447268312,
          2661.0642054764107,
          2607.121443085856,
          2553.522682062193,
          2500.4341952080104,
          2448.007462813007,
          2396.3801690048194,
          2345.676876205282,
          2296.009523923276,
          2247.477859056441,
          2200.169833039883,
          2154.1619772823483,
          2109.519762187715,
          2066.2984005055337,
          2024.5428927121088,
          976.3961051138151,
          997.2043586291002,
          1019.2465657340869,
          1042.5433729247964,
          1067.1117899985363,
          1092.9645041528377,
          1120.1088054328754,
          1148.546318939827,
          1178.271782214124,
          1209.2722535955054,
          1241.5265197254712,
          1275.0043177556627,
          1309.665693885443,
          1345.4601531976791,
          1378.8281229870472,
          1409.9167773628308,
          1441.4793133368137,
          1473.425516127914,
          1505.656171898956,
          1538.0629021299776,
          1570.5279117564567,
          1602.9237134747013,
          1635.1140146562036,
          1666.9551347649597,
          1698.2960476165392,
          1728.9784671091877,
          1758.8370501536704,
          1787.6997883568997,
          1815.388709349662,
          1841.721278093396,
          1866.5121275824329,
          1889.5735191223143,
          1910.7198555898892,
          1929.7663106831158,
          1946.5338030545538,
          1960.8498712094236,
          1972.54984759221,
          1981.478360721677,
          1987.488712813361,
          1990.4428563694385,
          1990.2126743784288,
          1986.685269656974,
          1979.7548069028235,
          1969.358528645409,
          1955.4554004609265,
          1938.0293612486246,
          1917.090208801577,
          1892.6744902924277,
          1864.8466410151775,
          1833.7004137109577,
          1799.3620524354815,
          1761.9906761362922,
          1721.765488286297,
          1678.8869246883066,
          1633.5770886177656,
          1586.07969209885,
          1536.659524452354,
          1485.6004838137171,
          1433.2017300875666,
          1379.7645262503029,
          1325.57402557189,
          1270.9289250488418,
          1216.1301862328962,
          1161.483380047097,
          1107.291171451816,
          1053.8345168595126,
          1001.3374310745182,
          949.9180527705399,
          896.7789198157913,
          839.3910368725095,
          783.8529655800223,
          729.7976570683167,
          678.319364727159,
          629.4489001464474,
          583.1957682257893,
          539.5452074924484,
          498.46386824581015,
          459.899524885327,
          423.781252995063,
          390.02068131662156,
          358.51633226439776,
          329.17273390901823,
          301.883104512843,
          276.53394949205597,
          253.0068457135502,
          231.18028426435478,
          210.9359666651975,
          192.16678594841198,
          174.7805765656421,
          158.70099897365805,
          143.85794265827465,
          130.14597182765337,
          117.35576521920356,
          105.09363316834248,
          92.73705436840712,
          79.50423337218714,
          64.70986041369721,
          48.18320193116901,
          30.624659728594064,
          13.628335313458567
         ]
        },
        {
         "line": {
          "color": "red"
         },
         "mode": "lines",
         "name": "region France",
         "type": "scatter",
         "x": [
          1,
          2,
          3,
          4,
          5,
          6,
          7,
          8,
          9,
          10,
          11,
          12,
          13,
          14,
          15,
          16,
          17,
          18,
          19,
          20,
          21,
          22,
          23,
          24,
          25,
          26,
          27,
          28,
          29,
          30,
          31,
          32,
          33,
          34,
          35,
          36,
          37,
          38,
          39,
          40,
          41,
          42,
          43,
          44,
          45,
          46,
          47,
          48,
          49,
          50,
          51,
          52,
          53,
          54,
          55,
          56,
          57,
          58,
          59,
          60,
          61,
          62,
          63,
          64,
          65,
          66,
          67,
          68,
          69,
          70,
          71,
          72,
          73,
          74,
          75,
          76,
          77,
          78,
          79,
          80,
          81,
          82,
          83,
          84,
          85,
          86,
          87,
          88,
          89,
          90,
          91,
          92,
          93,
          94,
          95,
          96,
          97,
          98,
          99,
          100
         ],
         "y": [
          20.51706143810914,
          46.11757273464966,
          72.76896108515776,
          98.56309308142357,
          123.03366354155118,
          146.87144141193232,
          171.28064041256906,
          197.3893090713257,
          225.97099318472684,
          257.4538907140496,
          292.04951455856184,
          329.90510496735277,
          371.1831776685578,
          416.10189622070203,
          464.9076941409551,
          517.8562786577135,
          575.1947313167262,
          637.14656150778,
          703.8993651477722,
          775.5994261580263,
          852.3478518889393,
          934.2020213165748,
          1021.172485214812,
          1113.2042037344945,
          1210.1651132767422,
          1311.8438837556603,
          1417.9492218227397,
          1528.1083907581403,
          1641.8486640588362,
          1758.6050041893086,
          1876.180143366551,
          1994.557982763343,
          2113.2661288919912,
          2231.6777562001025,
          2349.0115126502487,
          2464.361669207166,
          2576.7656579350123,
          2685.2608899847664,
          2788.9270464517044,
          2886.911305820353,
          2978.447023753499,
          3062.865599940864,
          3139.6034727490064,
          3208.2042668071285,
          3268.321175681283,
          3319.718123969775,
          3362.2665713960464,
          3395.942497765146,
          3420.823216595384,
          3437.0718044498285,
          3444.9264843870983,
          3444.688649293355,
          3436.7160882596845,
          3421.410290731659,
          3399.2078920751014,
          3370.57200750866,
          3335.980815804987,
          3295.9214615845717,
          3250.8857659267674,
          3201.366607981594,
          3147.8823824915908,
          3090.9128068644272,
          3030.928024535057,
          2968.3864854463873,
          2903.7352628689137,
          2837.408462448125,
          2769.824466689807,
          2701.3842831749307,
          2632.469183074965,
          2563.4394146680156,
          2494.632665066027,
          2426.362442128384,
          2358.9168534013183,
          2292.5577767898644,
          2227.520443159948,
          2164.013568438136,
          2102.2197181095808,
          2042.2953749456256,
          1984.371760177885,
          1928.5561881991898,
          1874.9338876823053,
          1823.5696089996493,
          1774.508922153851,
          1727.7802230261977,
          1683.39646041453,
          1641.3567945402351,
          1601.6485954953514,
          1564.2490379543387,
          1529.1267720655003,
          1496.2433329836804,
          1465.5544461114164,
          1437.0111949982115,
          1410.5610561619892,
          1386.148824342766,
          1363.717399207598,
          1343.2085213901553,
          1324.5634239808292,
          1307.723353372389,
          1292.6300663961335,
          1279.2261571800996
         ]
        },
        {
         "fill": "toself",
         "fillcolor": "red",
         "line": {
          "color": "red"
         },
         "mode": "lines",
         "name": "region France",
         "opacity": 0.15,
         "type": "scatter",
         "x": [
          1,
          2,
          3,
          4,
          5,
          6,
          7,
          8,
          9,
          10,
          11,
          12,
          13,
          14,
          15,
          16,
          17,
          18,
          19,
          20,
          21,
          22,
          23,
          24,
          25,
          26,
          27,
          28,
          29,
          30,
          31,
          32,
          33,
          34,
          35,
          36,
          37,
          38,
          39,
          40,
          41,
          42,
          43,
          44,
          45,
          46,
          47,
          48,
          49,
          50,
          51,
          52,
          53,
          54,
          55,
          56,
          57,
          58,
          59,
          60,
          61,
          62,
          63,
          64,
          65,
          66,
          67,
          68,
          69,
          70,
          71,
          72,
          73,
          74,
          75,
          76,
          77,
          78,
          79,
          80,
          81,
          82,
          83,
          84,
          85,
          86,
          87,
          88,
          89,
          90,
          91,
          92,
          93,
          94,
          95,
          96,
          97,
          98,
          99,
          100,
          100,
          99,
          98,
          97,
          96,
          95,
          94,
          93,
          92,
          91,
          90,
          89,
          88,
          87,
          86,
          85,
          84,
          83,
          82,
          81,
          80,
          79,
          78,
          77,
          76,
          75,
          74,
          73,
          72,
          71,
          70,
          69,
          68,
          67,
          66,
          65,
          64,
          63,
          62,
          61,
          60,
          59,
          58,
          57,
          56,
          55,
          54,
          53,
          52,
          51,
          50,
          49,
          48,
          47,
          46,
          45,
          44,
          43,
          42,
          41,
          40,
          39,
          38,
          37,
          36,
          35,
          34,
          33,
          32,
          31,
          30,
          29,
          28,
          27,
          26,
          25,
          24,
          23,
          22,
          21,
          20,
          19,
          18,
          17,
          16,
          15,
          14,
          13,
          12,
          11,
          10,
          9,
          8,
          7,
          6,
          5,
          4,
          3,
          2,
          1
         ],
         "y": [
          24.341477572869888,
          54.719037370353426,
          86.41864314974644,
          117.33876951474063,
          147.08318782258186,
          176.53215332126555,
          207.06379722485602,
          239.89571946251948,
          275.81411790032524,
          315.22283002364327,
          358.3152607052252,
          405.2453284419712,
          456.20669716883896,
          511.4629908280616,
          571.3073633326363,
          636.0298129224833,
          705.8989257869275,
          781.1554610342307,
          861.9989963350883,
          948.5803437763883,
          1040.9999932866488,
          1139.3071196407145,
          1243.4927413720927,
          1353.4937147912087,
          1469.161844077825,
          1590.2577061332156,
          1716.4502642348884,
          1847.3202737652634,
          1982.360415224291,
          2120.9411948288475,
          2260.504876752641,
          2401.090996731652,
          2542.203177069873,
          2692.0320675443154,
          2841.6401212757114,
          2989.7649411716,
          3135.1741415476235,
          3276.644019666008,
          3413.004163475554,
          3543.1526117205194,
          3666.0556481898407,
          3780.7685855192262,
          3886.4574222087,
          3982.419093377383,
          4068.0859756064447,
          4143.0273881081675,
          4206.94784801259,
          4259.670519645855,
          4301.179225107769,
          4331.585635956066,
          4351.097748658586,
          4360.008066506915,
          4358.68760694666,
          4347.580637607336,
          4327.185081709339,
          4298.061076242246,
          4260.795217246388,
          4215.987227348154,
          4164.244613101923,
          4106.184040406536,
          4042.460437298342,
          3973.691601479642,
          3900.487293642991,
          3823.4440283281283,
          3743.1423124315443,
          3660.152561753577,
          3575.0296661528864,
          3488.309587447807,
          3400.5023579183226,
          3312.090287890653,
          3223.5301650122087,
          3135.251733453309,
          3047.6553556214917,
          2961.1095006693376,
          2875.949340480907,
          2792.475892580397,
          2710.9580632890484,
          2631.6293214266734,
          2554.688956771575,
          2480.304879907661,
          2408.616426043773,
          2339.7360167481233,
          2273.750360629848,
          2210.7214418942785,
          2150.6895018574346,
          2093.673323488762,
          2039.6737258157661,
          1988.677465216711,
          1940.6593391201332,
          1895.5835879558244,
          1853.4050544906645,
          1814.070778997134,
          1777.521333011074,
          1743.6927109333587,
          1712.5173950401904,
          1683.9255661176421,
          1657.8460119327576,
          1634.8970592963149,
          1614.5250337247337,
          1596.3100420221588,
          874.4543039373116,
          880.2930527147212,
          887.2428370144255,
          895.3559965867678,
          904.6869602162716,
          915.2922911314432,
          927.2303642850965,
          940.5611802223724,
          955.3458956756526,
          971.6465379438434,
          989.525679749557,
          1009.046123175215,
          1030.2701856040271,
          1053.258844772501,
          1078.0709259515024,
          1104.7615686714425,
          1133.3815823617642,
          1163.9754679405962,
          1196.579613807983,
          1231.2205650743829,
          1267.9137069907213,
          1306.6618178757897,
          1347.4525370829665,
          1390.2556794186726,
          1434.505649947947,
          1475.6736288424047,
          1518.1547497164731,
          1561.8388365737571,
          1606.5977260856514,
          1652.2843937624718,
          1698.7327197419497,
          1745.7568366108026,
          1793.1518933874397,
          1840.694557838001,
          1888.1439941174203,
          1935.2444194198242,
          1981.726944760304,
          2027.3105851417172,
          2071.701831652551,
          2114.5916900891034,
          2155.6605586593046,
          2194.5820496259926,
          2230.992808704236,
          2264.5468637910444,
          2294.890542935969,
          2321.663991221607,
          2344.5069073030977,
          2363.067324603716,
          2377.0026096888037,
          2385.985593074216,
          2389.7063445193644,
          2387.875632106524,
          2380.232994054317,
          2366.575901916445,
          2346.752099477462,
          2320.6711714513485,
          2288.307766662181,
          2249.704035947559,
          2204.9742177911603,
          2154.319658858371,
          2098.0338560751215,
          2036.4853409560333,
          1970.1279756105016,
          1899.5058218429883,
          1825.2445275266186,
          1748.0124504159419,
          1668.472176718604,
          1587.2302689492155,
          1504.8081844369842,
          1421.6504317194917,
          1338.1135382490813,
          1250.7846299710045,
          1157.2812079045648,
          1067.0298692611407,
          980.5015603254105,
          898.0671014876225,
          819.9913831029312,
          746.4514231810115,
          677.549282081128,
          613.3106384242909,
          553.6868515458798,
          498.56447418142704,
          447.8082727597207,
          401.23793815436045,
          358.64159747953676,
          319.7797639712378,
          284.39756657753213,
          252.24563434220818,
          223.09145340768885,
          196.72906128974154,
          172.9920838749415,
          151.71443670973952,
          132.666595163768,
          115.44440833252199,
          99.39114011336993,
          83.61705192626866,
          67.22471912231002,
          49.74059938914807,
          31.549250689272533,
          14.03704063331303
         ]
        }
       ],
       "layout": {
        "boxmode": "group",
        "legend": {
         "orientation": "h",
         "x": 1,
         "xanchor": "right",
         "y": 1.02,
         "yanchor": "bottom"
        },
        "plot_bgcolor": "white",
        "template": {
         "data": {
          "bar": [
           {
            "error_x": {
             "color": "#2a3f5f"
            },
            "error_y": {
             "color": "#2a3f5f"
            },
            "marker": {
             "line": {
              "color": "#E5ECF6",
              "width": 0.5
             },
             "pattern": {
              "fillmode": "overlay",
              "size": 10,
              "solidity": 0.2
             }
            },
            "type": "bar"
           }
          ],
          "barpolar": [
           {
            "marker": {
             "line": {
              "color": "#E5ECF6",
              "width": 0.5
             },
             "pattern": {
              "fillmode": "overlay",
              "size": 10,
              "solidity": 0.2
             }
            },
            "type": "barpolar"
           }
          ],
          "carpet": [
           {
            "aaxis": {
             "endlinecolor": "#2a3f5f",
             "gridcolor": "white",
             "linecolor": "white",
             "minorgridcolor": "white",
             "startlinecolor": "#2a3f5f"
            },
            "baxis": {
             "endlinecolor": "#2a3f5f",
             "gridcolor": "white",
             "linecolor": "white",
             "minorgridcolor": "white",
             "startlinecolor": "#2a3f5f"
            },
            "type": "carpet"
           }
          ],
          "choropleth": [
           {
            "colorbar": {
             "outlinewidth": 0,
             "ticks": ""
            },
            "type": "choropleth"
           }
          ],
          "contour": [
           {
            "colorbar": {
             "outlinewidth": 0,
             "ticks": ""
            },
            "colorscale": [
             [
              0,
              "#0d0887"
             ],
             [
              0.1111111111111111,
              "#46039f"
             ],
             [
              0.2222222222222222,
              "#7201a8"
             ],
             [
              0.3333333333333333,
              "#9c179e"
             ],
             [
              0.4444444444444444,
              "#bd3786"
             ],
             [
              0.5555555555555556,
              "#d8576b"
             ],
             [
              0.6666666666666666,
              "#ed7953"
             ],
             [
              0.7777777777777778,
              "#fb9f3a"
             ],
             [
              0.8888888888888888,
              "#fdca26"
             ],
             [
              1,
              "#f0f921"
             ]
            ],
            "type": "contour"
           }
          ],
          "contourcarpet": [
           {
            "colorbar": {
             "outlinewidth": 0,
             "ticks": ""
            },
            "type": "contourcarpet"
           }
          ],
          "heatmap": [
           {
            "colorbar": {
             "outlinewidth": 0,
             "ticks": ""
            },
            "colorscale": [
             [
              0,
              "#0d0887"
             ],
             [
              0.1111111111111111,
              "#46039f"
             ],
             [
              0.2222222222222222,
              "#7201a8"
             ],
             [
              0.3333333333333333,
              "#9c179e"
             ],
             [
              0.4444444444444444,
              "#bd3786"
             ],
             [
              0.5555555555555556,
              "#d8576b"
             ],
             [
              0.6666666666666666,
              "#ed7953"
             ],
             [
              0.7777777777777778,
              "#fb9f3a"
             ],
             [
              0.8888888888888888,
              "#fdca26"
             ],
             [
              1,
              "#f0f921"
             ]
            ],
            "type": "heatmap"
           }
          ],
          "heatmapgl": [
           {
            "colorbar": {
             "outlinewidth": 0,
             "ticks": ""
            },
            "colorscale": [
             [
              0,
              "#0d0887"
             ],
             [
              0.1111111111111111,
              "#46039f"
             ],
             [
              0.2222222222222222,
              "#7201a8"
             ],
             [
              0.3333333333333333,
              "#9c179e"
             ],
             [
              0.4444444444444444,
              "#bd3786"
             ],
             [
              0.5555555555555556,
              "#d8576b"
             ],
             [
              0.6666666666666666,
              "#ed7953"
             ],
             [
              0.7777777777777778,
              "#fb9f3a"
             ],
             [
              0.8888888888888888,
              "#fdca26"
             ],
             [
              1,
              "#f0f921"
             ]
            ],
            "type": "heatmapgl"
           }
          ],
          "histogram": [
           {
            "marker": {
             "pattern": {
              "fillmode": "overlay",
              "size": 10,
              "solidity": 0.2
             }
            },
            "type": "histogram"
           }
          ],
          "histogram2d": [
           {
            "colorbar": {
             "outlinewidth": 0,
             "ticks": ""
            },
            "colorscale": [
             [
              0,
              "#0d0887"
             ],
             [
              0.1111111111111111,
              "#46039f"
             ],
             [
              0.2222222222222222,
              "#7201a8"
             ],
             [
              0.3333333333333333,
              "#9c179e"
             ],
             [
              0.4444444444444444,
              "#bd3786"
             ],
             [
              0.5555555555555556,
              "#d8576b"
             ],
             [
              0.6666666666666666,
              "#ed7953"
             ],
             [
              0.7777777777777778,
              "#fb9f3a"
             ],
             [
              0.8888888888888888,
              "#fdca26"
             ],
             [
              1,
              "#f0f921"
             ]
            ],
            "type": "histogram2d"
           }
          ],
          "histogram2dcontour": [
           {
            "colorbar": {
             "outlinewidth": 0,
             "ticks": ""
            },
            "colorscale": [
             [
              0,
              "#0d0887"
             ],
             [
              0.1111111111111111,
              "#46039f"
             ],
             [
              0.2222222222222222,
              "#7201a8"
             ],
             [
              0.3333333333333333,
              "#9c179e"
             ],
             [
              0.4444444444444444,
              "#bd3786"
             ],
             [
              0.5555555555555556,
              "#d8576b"
             ],
             [
              0.6666666666666666,
              "#ed7953"
             ],
             [
              0.7777777777777778,
              "#fb9f3a"
             ],
             [
              0.8888888888888888,
              "#fdca26"
             ],
             [
              1,
              "#f0f921"
             ]
            ],
            "type": "histogram2dcontour"
           }
          ],
          "mesh3d": [
           {
            "colorbar": {
             "outlinewidth": 0,
             "ticks": ""
            },
            "type": "mesh3d"
           }
          ],
          "parcoords": [
           {
            "line": {
             "colorbar": {
              "outlinewidth": 0,
              "ticks": ""
             }
            },
            "type": "parcoords"
           }
          ],
          "pie": [
           {
            "automargin": true,
            "type": "pie"
           }
          ],
          "scatter": [
           {
            "fillpattern": {
             "fillmode": "overlay",
             "size": 10,
             "solidity": 0.2
            },
            "type": "scatter"
           }
          ],
          "scatter3d": [
           {
            "line": {
             "colorbar": {
              "outlinewidth": 0,
              "ticks": ""
             }
            },
            "marker": {
             "colorbar": {
              "outlinewidth": 0,
              "ticks": ""
             }
            },
            "type": "scatter3d"
           }
          ],
          "scattercarpet": [
           {
            "marker": {
             "colorbar": {
              "outlinewidth": 0,
              "ticks": ""
             }
            },
            "type": "scattercarpet"
           }
          ],
          "scattergeo": [
           {
            "marker": {
             "colorbar": {
              "outlinewidth": 0,
              "ticks": ""
             }
            },
            "type": "scattergeo"
           }
          ],
          "scattergl": [
           {
            "marker": {
             "colorbar": {
              "outlinewidth": 0,
              "ticks": ""
             }
            },
            "type": "scattergl"
           }
          ],
          "scattermapbox": [
           {
            "marker": {
             "colorbar": {
              "outlinewidth": 0,
              "ticks": ""
             }
            },
            "type": "scattermapbox"
           }
          ],
          "scatterpolar": [
           {
            "marker": {
             "colorbar": {
              "outlinewidth": 0,
              "ticks": ""
             }
            },
            "type": "scatterpolar"
           }
          ],
          "scatterpolargl": [
           {
            "marker": {
             "colorbar": {
              "outlinewidth": 0,
              "ticks": ""
             }
            },
            "type": "scatterpolargl"
           }
          ],
          "scatterternary": [
           {
            "marker": {
             "colorbar": {
              "outlinewidth": 0,
              "ticks": ""
             }
            },
            "type": "scatterternary"
           }
          ],
          "surface": [
           {
            "colorbar": {
             "outlinewidth": 0,
             "ticks": ""
            },
            "colorscale": [
             [
              0,
              "#0d0887"
             ],
             [
              0.1111111111111111,
              "#46039f"
             ],
             [
              0.2222222222222222,
              "#7201a8"
             ],
             [
              0.3333333333333333,
              "#9c179e"
             ],
             [
              0.4444444444444444,
              "#bd3786"
             ],
             [
              0.5555555555555556,
              "#d8576b"
             ],
             [
              0.6666666666666666,
              "#ed7953"
             ],
             [
              0.7777777777777778,
              "#fb9f3a"
             ],
             [
              0.8888888888888888,
              "#fdca26"
             ],
             [
              1,
              "#f0f921"
             ]
            ],
            "type": "surface"
           }
          ],
          "table": [
           {
            "cells": {
             "fill": {
              "color": "#EBF0F8"
             },
             "line": {
              "color": "white"
             }
            },
            "header": {
             "fill": {
              "color": "#C8D4E3"
             },
             "line": {
              "color": "white"
             }
            },
            "type": "table"
           }
          ]
         },
         "layout": {
          "annotationdefaults": {
           "arrowcolor": "#2a3f5f",
           "arrowhead": 0,
           "arrowwidth": 1
          },
          "autotypenumbers": "strict",
          "coloraxis": {
           "colorbar": {
            "outlinewidth": 0,
            "ticks": ""
           }
          },
          "colorscale": {
           "diverging": [
            [
             0,
             "#8e0152"
            ],
            [
             0.1,
             "#c51b7d"
            ],
            [
             0.2,
             "#de77ae"
            ],
            [
             0.3,
             "#f1b6da"
            ],
            [
             0.4,
             "#fde0ef"
            ],
            [
             0.5,
             "#f7f7f7"
            ],
            [
             0.6,
             "#e6f5d0"
            ],
            [
             0.7,
             "#b8e186"
            ],
            [
             0.8,
             "#7fbc41"
            ],
            [
             0.9,
             "#4d9221"
            ],
            [
             1,
             "#276419"
            ]
           ],
           "sequential": [
            [
             0,
             "#0d0887"
            ],
            [
             0.1111111111111111,
             "#46039f"
            ],
            [
             0.2222222222222222,
             "#7201a8"
            ],
            [
             0.3333333333333333,
             "#9c179e"
            ],
            [
             0.4444444444444444,
             "#bd3786"
            ],
            [
             0.5555555555555556,
             "#d8576b"
            ],
            [
             0.6666666666666666,
             "#ed7953"
            ],
            [
             0.7777777777777778,
             "#fb9f3a"
            ],
            [
             0.8888888888888888,
             "#fdca26"
            ],
            [
             1,
             "#f0f921"
            ]
           ],
           "sequentialminus": [
            [
             0,
             "#0d0887"
            ],
            [
             0.1111111111111111,
             "#46039f"
            ],
            [
             0.2222222222222222,
             "#7201a8"
            ],
            [
             0.3333333333333333,
             "#9c179e"
            ],
            [
             0.4444444444444444,
             "#bd3786"
            ],
            [
             0.5555555555555556,
             "#d8576b"
            ],
            [
             0.6666666666666666,
             "#ed7953"
            ],
            [
             0.7777777777777778,
             "#fb9f3a"
            ],
            [
             0.8888888888888888,
             "#fdca26"
            ],
            [
             1,
             "#f0f921"
            ]
           ]
          },
          "colorway": [
           "#636efa",
           "#EF553B",
           "#00cc96",
           "#ab63fa",
           "#FFA15A",
           "#19d3f3",
           "#FF6692",
           "#B6E880",
           "#FF97FF",
           "#FECB52"
          ],
          "font": {
           "color": "#2a3f5f"
          },
          "geo": {
           "bgcolor": "white",
           "lakecolor": "white",
           "landcolor": "#E5ECF6",
           "showlakes": true,
           "showland": true,
           "subunitcolor": "white"
          },
          "hoverlabel": {
           "align": "left"
          },
          "hovermode": "closest",
          "mapbox": {
           "style": "light"
          },
          "paper_bgcolor": "white",
          "plot_bgcolor": "#E5ECF6",
          "polar": {
           "angularaxis": {
            "gridcolor": "white",
            "linecolor": "white",
            "ticks": ""
           },
           "bgcolor": "#E5ECF6",
           "radialaxis": {
            "gridcolor": "white",
            "linecolor": "white",
            "ticks": ""
           }
          },
          "scene": {
           "xaxis": {
            "backgroundcolor": "#E5ECF6",
            "gridcolor": "white",
            "gridwidth": 2,
            "linecolor": "white",
            "showbackground": true,
            "ticks": "",
            "zerolinecolor": "white"
           },
           "yaxis": {
            "backgroundcolor": "#E5ECF6",
            "gridcolor": "white",
            "gridwidth": 2,
            "linecolor": "white",
            "showbackground": true,
            "ticks": "",
            "zerolinecolor": "white"
           },
           "zaxis": {
            "backgroundcolor": "#E5ECF6",
            "gridcolor": "white",
            "gridwidth": 2,
            "linecolor": "white",
            "showbackground": true,
            "ticks": "",
            "zerolinecolor": "white"
           }
          },
          "shapedefaults": {
           "line": {
            "color": "#2a3f5f"
           }
          },
          "ternary": {
           "aaxis": {
            "gridcolor": "white",
            "linecolor": "white",
            "ticks": ""
           },
           "baxis": {
            "gridcolor": "white",
            "linecolor": "white",
            "ticks": ""
           },
           "bgcolor": "#E5ECF6",
           "caxis": {
            "gridcolor": "white",
            "linecolor": "white",
            "ticks": ""
           }
          },
          "title": {
           "x": 0.05
          },
          "xaxis": {
           "automargin": true,
           "gridcolor": "white",
           "linecolor": "white",
           "ticks": "",
           "title": {
            "standoff": 15
           },
           "zerolinecolor": "white",
           "zerolinewidth": 2
          },
          "yaxis": {
           "automargin": true,
           "gridcolor": "white",
           "linecolor": "white",
           "ticks": "",
           "title": {
            "standoff": 15
           },
           "zerolinecolor": "white",
           "zerolinewidth": 2
          }
         }
        },
        "title": {
         "text": "Years of Life Lost for Scenario: Prioritise those 50-60 then 60-70, then 75+"
        },
        "width": 800,
        "xaxis": {
         "linecolor": "black"
        },
        "yaxis": {
         "linecolor": "black"
        }
       }
      }
     },
     "metadata": {},
     "output_type": "display_data"
    }
   ],
   "source": [
    "# Trace names - represent the solver used for the simulation\n",
    "trace_name = ['region {}'.format(r) for r in regions]\n",
    "\n",
    "# Plot for each boosting scenario\n",
    "for s, scenario in enumerate(scenario_names):\n",
    "    fig = go.Figure()\n",
    "    # Plot (line plot for each solver method for each age)\n",
    "    for r, reg in enumerate(regions):\n",
    "        fig.add_trace(\n",
    "            go.Scatter(\n",
    "                y=total_years_of_life_lost_mean[r][s, :],\n",
    "                x=parameters.simulation_parameters.times,\n",
    "                mode='lines',\n",
    "                name=trace_name[r],\n",
    "                line_color=colours[r],\n",
    "            )\n",
    "        )\n",
    "\n",
    "        fig.add_trace(\n",
    "            go.Scatter(\n",
    "                y=total_years_of_life_lost_upper[r][s, :].tolist() + total_years_of_life_lost_lower[r][s, :].tolist()[::-1],\n",
    "                x=parameters.simulation_parameters.times + parameters.simulation_parameters.times[::-1],\n",
    "                mode='lines',\n",
    "                name=trace_name[r],\n",
    "                fill='toself',\n",
    "                fillcolor=colours[r],\n",
    "                line_color=colours[r],\n",
    "                opacity=0.15,\n",
    "            )\n",
    "        )\n",
    "\n",
    "    # Add axis labels\n",
    "    fig.update_layout(\n",
    "        boxmode='group',\n",
    "        title='Years of Life Lost for Scenario: {}'.format(scenario),\n",
    "        width=800,\n",
    "        plot_bgcolor='white',\n",
    "        xaxis=dict(linecolor='black'),\n",
    "        yaxis=dict(linecolor='black'),\n",
    "        legend=dict(\n",
    "            orientation=\"h\",\n",
    "            yanchor=\"bottom\",\n",
    "            y=1.02,\n",
    "            xanchor=\"right\",\n",
    "            x=1\n",
    "        ))\n",
    "\n",
    "    fig.write_image('images/Years of Life Lost Scenario {}.pdf'.format(s+1))\n",
    "    fig.show()"
   ]
  }
 ],
 "metadata": {
  "interpreter": {
   "hash": "68071bb08c320916033ffa6702342928cea5ba8baa6ee7305e5c9ae08c2309c8"
  },
  "kernelspec": {
   "display_name": "Python 3.10.8 64-bit ('warwick': conda)",
   "name": "python3"
  },
  "language_info": {
   "codemirror_mode": {
    "name": "ipython",
    "version": 3
   },
   "file_extension": ".py",
   "mimetype": "text/x-python",
   "name": "python",
   "nbconvert_exporter": "python",
   "pygments_lexer": "ipython3",
   "version": "3.10.8"
  },
  "orig_nbformat": 4
 },
 "nbformat": 4,
 "nbformat_minor": 2
}
