{
 "cells": [
  {
   "cell_type": "markdown",
   "metadata": {},
   "source": [
    "# REPORT 1 - Economic considerations of different boosting priority strategies\n",
    "\n",
    "In this notebook we compute the economic burdens of different age-priority boosting strategies, using the `warwickmodel`, built by Universities of Warwick and Lancaster, with population data from 5 countries with very different socio-economic profiles.\n",
    "\n",
    "The effectiveness cost of boosters is quantified in terms of reductions in total amount of years of life lost due to boosyer vaccines deploymnet. We assume an initial boosting campaign in the population, with no subsequent boosters being deployed during the simulation. \n",
    "\n",
    "The infection dynamics are run for:\n",
    " - Dates: **15 Feb 2020** - **25 June 2021**;\n",
    " - Countries of interest: **United Kingdom**, **France**;\n",
    " - Number of boosters deployed: **10%** of the population.\n",
    "\n",
    "*The Warwick model is built by Universities of Warwick and Lancaster.*"
   ]
  },
  {
   "cell_type": "code",
   "execution_count": 1,
   "metadata": {},
   "outputs": [],
   "source": [
    "# Load necessary libraries\n",
    "import os\n",
    "import numpy as np\n",
    "import pandas as pd\n",
    "import scipy\n",
    "import epimodels as em\n",
    "import warwickmodel as wm\n",
    "import matplotlib\n",
    "import plotly.graph_objects as go\n",
    "from matplotlib import pyplot as plt\n",
    "from iteration_utilities import deepflatten"
   ]
  },
  {
   "cell_type": "markdown",
   "metadata": {},
   "source": [
    "## Model Setup\n",
    "### Define setup matrices for the WarwickLanc Model"
   ]
  },
  {
   "cell_type": "code",
   "execution_count": 2,
   "metadata": {},
   "outputs": [],
   "source": [
    "# Populate the model\n",
    "total_days =  100\n",
    "regions = ['United Kingdom', 'France']\n",
    "age_groups = ['0-4', '5-9', '10-14', '15-19', '20-24', '25-29', '30-34', '35-39',\n",
    "              '40-44', '45-49', '50-54', '55-59', '60-64', '65-69', '70-74', '75+']\n",
    "\n",
    "regimes = np.arange(1, 101, 1).tolist()\n",
    "\n",
    "# Add folder path to data file\n",
    "path = os.path.join('../data/')"
   ]
  },
  {
   "cell_type": "markdown",
   "metadata": {},
   "source": [
    "### Read in corresponding data files for the countries considered for all 100 regimes"
   ]
  },
  {
   "cell_type": "code",
   "execution_count": 3,
   "metadata": {},
   "outputs": [],
   "source": [
    "# Matrices contact\n",
    "matrices_contact = []\n",
    "matrices_region = []\n",
    "time_changes_contact = []\n",
    "time_changes_region = []\n",
    "\n",
    "# Vaccine effects\n",
    "nu_tra = []\n",
    "nu_symp = []\n",
    "nu_inf = []\n",
    "nu_sev_h = []\n",
    "nu_sev_d = []\n",
    "\n",
    "# Parameters\n",
    "omega = []\n",
    "alpha = []\n",
    "gamma = []\n",
    "tau = []\n",
    "we = []\n",
    "\n",
    "# Initial conditions\n",
    "susceptibles_IC = []\n",
    "exposed1_IC = []\n",
    "exposed2_IC = []\n",
    "exposed3_IC = []\n",
    "exposed4_IC = []\n",
    "exposed5_IC = []\n",
    "infectives_sym_IC = []\n",
    "infectives_asym_IC = []\n",
    "recovered_IC = []\n",
    "\n",
    "# Risk factors\n",
    "d = []\n",
    "beta = []\n",
    "\n",
    "# Probabilities of proceeding to severe outcomes\n",
    "pItoH = []\n",
    "pHtoD = []\n",
    "\n",
    "# Distribution of delays before proceeding to severe outcomes\n",
    "dItoH = []\n",
    "dHtoD = []\n",
    "\n",
    "for R in regimes:\n",
    "        regimes_matrices_region = []\n",
    "\n",
    "        # Initial state of the system\n",
    "        weeks_matrices_region = []\n",
    "        for r in regions:\n",
    "                region_data_matrix = pd.read_csv(\n",
    "                        os.path.join(path, '{}/Contacts_{}.csv'.format(r, R)),\n",
    "                        header=None, dtype=np.float64)\n",
    "                regional = em.RegionMatrix(r, age_groups, region_data_matrix)\n",
    "                weeks_matrices_region.append(regional)\n",
    "\n",
    "        regimes_matrices_region.append(weeks_matrices_region)\n",
    "\n",
    "        contacts = em.ContactMatrix(age_groups, np.ones((len(age_groups), len(age_groups))))\n",
    "        regimes_matrices_contact = [contacts]\n",
    "\n",
    "        matrices_region.append(regimes_matrices_region)\n",
    "        matrices_contact.append(regimes_matrices_contact)\n",
    "\n",
    "        # Matrices contact\n",
    "        time_changes_contact.append([1])\n",
    "        time_changes_region.append([1])\n",
    "\n",
    "        # Over 75 population fractions\n",
    "        frac_pop_over75 = []\n",
    "\n",
    "        for r in regions:\n",
    "                IC_df = pd.read_csv(\n",
    "                        os.path.join(path, '{}/Start_pop_{}.csv'.format(r, R)),\n",
    "                        skiprows=15,\n",
    "                        header=None, dtype=np.float64)\n",
    "\n",
    "                frac_pop_over75.append((1/np.sum(np.asarray(IC_df))) * np.sum(np.asarray(IC_df),axis=1))\n",
    "\n",
    "        # Risk Factors\n",
    "        extended_regimes_d = []\n",
    "        regimes_d = []\n",
    "        regimes_beta = []\n",
    "\n",
    "        for r, reg in enumerate(regions):\n",
    "                RF_df = pd.read_csv(\n",
    "                        os.path.join(path, '{}/Risks_{}.csv'.format(reg, R)),\n",
    "                        dtype=np.float64)\n",
    "                extended_d = RF_df['symptom_risk'].tolist()\n",
    "                extended_beta = RF_df['susceptibility'].tolist()\n",
    "\n",
    "                extended_regimes_d.append(extended_d)\n",
    "\n",
    "                regimes_d.append(extended_d[:15] + [np.sum(np.multiply(extended_d[15:], frac_pop_over75[r]))])\n",
    "                regimes_beta.append(extended_beta[:15] + [np.sum(np.multiply(extended_beta[15:], frac_pop_over75[r]))])\n",
    "\n",
    "        d.append(regimes_d)\n",
    "        beta.append(regimes_beta)\n",
    "\n",
    "        # Vaccine effects\n",
    "        eff_df = pd.read_csv(\n",
    "                os.path.join(path, 'global_parameters/efficacies_{}.csv'.format(R)),\n",
    "                usecols=range(1,5), dtype=np.float64)\n",
    "\n",
    "        VE_i = eff_df['Infection_eff']\n",
    "        VE_s = eff_df['Symptom_eff']\n",
    "        VE_h = eff_df['Hosp_eff']\n",
    "        VE_d = eff_df['Death_eff']\n",
    "\n",
    "        VE_d = np.divide(VE_d-VE_h, 1-VE_h)\n",
    "        VE_h = np.divide(VE_h-VE_i, 1-VE_i)\n",
    "        VE_s = np.divide(VE_s-VE_i, 1-VE_i)\n",
    "\n",
    "        regimes_nu_tra = [1] * 6\n",
    "        regimes_nu_symp = np.nan_to_num(1 - VE_s).tolist()\n",
    "        regimes_nu_inf = np.nan_to_num(1 - VE_i).tolist()\n",
    "        regimes_nu_sev_h = np.nan_to_num(1 - VE_h).tolist()\n",
    "        regimes_nu_sev_d = np.nan_to_num(1 - VE_d).tolist()\n",
    "\n",
    "        nu_tra.append(regimes_nu_tra)\n",
    "        nu_symp.append(regimes_nu_symp)\n",
    "        nu_inf.append(regimes_nu_inf)\n",
    "        nu_sev_h.append(regimes_nu_sev_h)\n",
    "        nu_sev_d.append(regimes_nu_sev_d)\n",
    "\n",
    "        # Parameters\n",
    "        param_df = pd.read_csv(\n",
    "                os.path.join(path, 'global_parameters/parameters_{}.csv'.format(R)),\n",
    "                dtype=np.float64)\n",
    "\n",
    "        regimes_omega = param_df['transmission'].tolist()[0]\n",
    "        regimes_alpha = 1\n",
    "        regimes_gamma = param_df['recovery'].tolist()[0]\n",
    "        regimes_tau = param_df['asymptomatic_transmission'].tolist()[0]\n",
    "        regimes_we = [param_df['waning_rate'].tolist()[0]] * 2 + [0]\n",
    "\n",
    "        omega.append(regimes_omega)\n",
    "        alpha.append(regimes_alpha)\n",
    "        gamma.append(regimes_gamma)\n",
    "        tau.append(regimes_tau)\n",
    "        we.append(regimes_we)\n",
    "\n",
    "        # Initial conditions\n",
    "        regimes_susceptibles_IC = []\n",
    "        regimes_exposed1_IC = []\n",
    "        regimes_exposed2_IC = []\n",
    "        regimes_exposed3_IC = []\n",
    "        regimes_exposed4_IC = []\n",
    "        regimes_exposed5_IC = []\n",
    "        regimes_infectives_sym_IC = []\n",
    "        regimes_infectives_asym_IC = []\n",
    "        regimes_recovered_IC = []\n",
    "\n",
    "        # Susceptible\n",
    "        for r in regions:\n",
    "                IC_df = pd.read_csv(\n",
    "                        os.path.join(path, '{}/Start_pop_{}.csv'.format(r, R)),\n",
    "                        usecols=range(0, 5),\n",
    "                        header=None, dtype=np.float64)\n",
    "\n",
    "                extended_S = np.asarray(IC_df)\n",
    "                under_75_S = extended_S[:15, :]\n",
    "                over_75_S = extended_S[15:, :]\n",
    "                reduced_S = np.vstack((under_75_S, np.sum(over_75_S, axis=0)))\n",
    "                regimes_susceptibles_IC.append(\n",
    "                        reduced_S.flatten('F').tolist() + [0] * len(age_groups))\n",
    "\n",
    "        # Exposed 1\n",
    "        for r in regions:\n",
    "                IC_df = pd.read_csv(\n",
    "                        os.path.join(path, '{}/Start_pop_{}.csv'.format(r, R)),\n",
    "                        usecols=range(5, 10),\n",
    "                        header=None, dtype=np.float64)\n",
    "\n",
    "                extended_E1 = np.asarray(IC_df)\n",
    "                under_75_E1 = extended_E1[:15, :]\n",
    "                over_75_E1 = extended_E1[15:, :]\n",
    "                reduced_E1 = np.vstack((under_75_E1, np.sum(over_75_E1, axis=0)))\n",
    "                regimes_exposed1_IC.append(\n",
    "                        reduced_E1.flatten('F').tolist() + [0] * len(age_groups))\n",
    "\n",
    "        # Exposed 2\n",
    "        for r in regions:\n",
    "                IC_df = pd.read_csv(\n",
    "                        os.path.join(path, '{}/Start_pop_{}.csv'.format(r, R)),\n",
    "                        usecols=range(10, 15),\n",
    "                        header=None, dtype=np.float64)\n",
    "\n",
    "                extended_E2 = np.asarray(IC_df)\n",
    "                under_75_E2 = extended_E2[:15, :]\n",
    "                over_75_E2 = extended_E2[15:, :]\n",
    "                reduced_E2 = np.vstack((under_75_E2, np.sum(over_75_E2, axis=0)))\n",
    "                regimes_exposed2_IC.append(\n",
    "                        reduced_E2.flatten('F').tolist() + [0] * len(age_groups))\n",
    "\n",
    "        # Exposed 3\n",
    "        for r in regions:\n",
    "                IC_df = pd.read_csv(\n",
    "                        os.path.join(path, '{}/Start_pop_{}.csv'.format(r, R)),\n",
    "                        usecols=range(15, 20),\n",
    "                        header=None, dtype=np.float64)\n",
    "\n",
    "                extended_E3 = np.asarray(IC_df)\n",
    "                under_75_E3 = extended_E3[:15, :]\n",
    "                over_75_E3 = extended_E3[15:, :]\n",
    "                reduced_E3 = np.vstack((under_75_E3, np.sum(over_75_E3, axis=0)))\n",
    "                regimes_exposed3_IC.append(\n",
    "                        reduced_E3.flatten('F').tolist() + [0] * len(age_groups))\n",
    "\n",
    "        # Exposed 4\n",
    "        for r in regions:\n",
    "                IC_df = pd.read_csv(\n",
    "                        os.path.join(path, '{}/Start_pop_{}.csv'.format(r, R)),\n",
    "                        usecols=range(20, 25),\n",
    "                        header=None, dtype=np.float64)\n",
    "\n",
    "                extended_E4 = np.asarray(IC_df)\n",
    "                under_75_E4 = extended_E4[:15, :]\n",
    "                over_75_E4 = extended_E4[15:, :]\n",
    "                reduced_E4 = np.vstack((under_75_E4, np.sum(over_75_E4, axis=0)))\n",
    "                regimes_exposed4_IC.append(\n",
    "                        reduced_E4.flatten('F').tolist() + [0] * len(age_groups))\n",
    "\n",
    "        # Exposed 5\n",
    "        for r in regions:\n",
    "                IC_df = pd.read_csv(\n",
    "                        os.path.join(path, '{}/Start_pop_{}.csv'.format(r, R)),\n",
    "                        usecols=range(25, 30),\n",
    "                        header=None, dtype=np.float64)\n",
    "\n",
    "                extended_E5 = np.asarray(IC_df)\n",
    "                under_75_E5 = extended_E5[:15, :]\n",
    "                over_75_E5 = extended_E5[15:, :]\n",
    "                reduced_E5 = np.vstack((under_75_E5, np.sum(over_75_E5, axis=0)))\n",
    "                regimes_exposed5_IC.append(\n",
    "                        reduced_E5.flatten('F').tolist() + [0] * len(age_groups))\n",
    "\n",
    "        # Symptomatic & Asymptomatic Infectious\n",
    "        for _, r in enumerate(regions):\n",
    "                IC_df = pd.read_csv(\n",
    "                        os.path.join(path, '{}/Start_pop_{}.csv'.format(r, R)),\n",
    "                        usecols=range(30, 35),\n",
    "                        header=None, dtype=np.float64)\n",
    "\n",
    "                extended_I = np.zeros_like(np.asarray(IC_df))\n",
    "                extended_I[:, 0] = np.matmul(np.diag(regimes_nu_symp[0] * np.array(extended_regimes_d[_])), np.asarray(IC_df)[:, 0])\n",
    "                extended_I[:, 1] = np.matmul(np.diag(regimes_nu_symp[1] * np.array(extended_regimes_d[_])), np.asarray(IC_df)[:, 1])\n",
    "                extended_I[:, 2] = np.matmul(np.diag(regimes_nu_symp[2] * np.array(extended_regimes_d[_])), np.asarray(IC_df)[:, 2])\n",
    "                extended_I[:, 3] = np.matmul(np.diag(regimes_nu_symp[3] * np.array(extended_regimes_d[_])), np.asarray(IC_df)[:, 3])\n",
    "                extended_I[:, 4] = np.matmul(np.diag(regimes_nu_symp[4] * np.array(extended_regimes_d[_])), np.asarray(IC_df)[:, 4])\n",
    "                under_75_I = extended_I[:15, :]\n",
    "                over_75_I = extended_I[15:, :]\n",
    "                reduced_I = np.vstack((under_75_I, np.sum(over_75_I, axis=0)))\n",
    "                regimes_infectives_sym_IC.append(\n",
    "                        reduced_I.flatten('F').tolist() + [0] * len(age_groups))\n",
    "\n",
    "                extended_A = np.zeros_like(np.asarray(IC_df))\n",
    "                extended_A[:, 0] = np.matmul(np.diag((1 - regimes_nu_symp[0] * np.array(extended_regimes_d[_]))), np.asarray(IC_df)[:, 0])\n",
    "                extended_A[:, 1] = np.matmul(np.diag((1 - regimes_nu_symp[1] * np.array(extended_regimes_d[_]))), np.asarray(IC_df)[:, 1])\n",
    "                extended_A[:, 2] = np.matmul(np.diag((1 - regimes_nu_symp[2] * np.array(extended_regimes_d[_]))), np.asarray(IC_df)[:, 2])\n",
    "                extended_A[:, 3] = np.matmul(np.diag((1 - regimes_nu_symp[3] * np.array(extended_regimes_d[_]))), np.asarray(IC_df)[:, 3])\n",
    "                extended_A[:, 4] = np.matmul(np.diag((1 - regimes_nu_symp[4] * np.array(extended_regimes_d[_]))), np.asarray(IC_df)[:, 4])\n",
    "                under_75_A = extended_A[:15, :]\n",
    "                over_75_A = extended_A[15:, :]\n",
    "                reduced_A = np.vstack((under_75_A, np.sum(over_75_A, axis=0)))\n",
    "                regimes_infectives_asym_IC.append(\n",
    "                        reduced_A.flatten('F').tolist() + [0] * len(age_groups))\n",
    "\n",
    "        # Recovered\n",
    "        for r in regions:\n",
    "                IC_df = pd.read_csv(\n",
    "                        os.path.join(path, '{}/Start_pop_{}.csv'.format(r, R)),\n",
    "                        usecols=[35],\n",
    "                        header=None, dtype=np.float64)\n",
    "\n",
    "                extended_R = np.asarray(IC_df)\n",
    "                under_75_R = extended_R[:15, :]\n",
    "                over_75_R = extended_R[15:, :]\n",
    "                reduced_R = np.vstack((under_75_R, np.sum(over_75_R, axis=0)))\n",
    "                regimes_recovered_IC.append(\n",
    "                        reduced_R.flatten('F').tolist())\n",
    "\n",
    "        susceptibles_IC.append(regimes_susceptibles_IC)\n",
    "        exposed1_IC.append(regimes_exposed1_IC)\n",
    "        exposed2_IC.append(regimes_exposed2_IC)\n",
    "        exposed3_IC.append(regimes_exposed3_IC)\n",
    "        exposed4_IC.append(regimes_exposed4_IC)\n",
    "        exposed5_IC.append(regimes_exposed5_IC)\n",
    "        infectives_sym_IC.append(regimes_infectives_sym_IC)\n",
    "        infectives_asym_IC.append(regimes_infectives_asym_IC)\n",
    "        recovered_IC.append(regimes_recovered_IC)\n",
    "\n",
    "        # Set time-to-hospitalisation using a Gamma distribution using the mean and standard deviation \n",
    "        th_mean = param_df['hosp_lag'].tolist()[0]+0.00001\n",
    "        th_var = 12.1**2\n",
    "        theta = th_var / th_mean\n",
    "        k = th_mean / theta\n",
    "        time_to_hosp = scipy.stats.gamma(k, scale=theta).pdf(np.arange(1, 31)).tolist()\n",
    "\n",
    "        # Set time-to-death using a Gamma distribution using the mean and standard deviation\n",
    "        td_mean = param_df['death_lag'].tolist()[0]\n",
    "        td_var = 12.1**2\n",
    "        theta = td_var / td_mean\n",
    "        k = td_mean / theta\n",
    "        time_to_death = scipy.stats.gamma(k, scale=theta).pdf(np.arange(1, 31)).tolist()\n",
    "\n",
    "        # Probabilities of proceeding to severe outcomes\n",
    "        # Infected -> Hospital\n",
    "        extended_pItoH = RF_df['hospitalisation_risk'].tolist()\n",
    "\n",
    "        regimes_pItoH = []\n",
    "        for r, reg in enumerate(regions):\n",
    "                regimes_pItoH.append(extended_pItoH[:15] + [np.sum(np.multiply(extended_pItoH[15:], frac_pop_over75[r]))])\n",
    "\n",
    "        pItoH.append(regimes_pItoH)\n",
    "\n",
    "        # Hospital -> Death\n",
    "        extended_pHtoD = RF_df['death_risk'].tolist()\n",
    "\n",
    "        regimes_pHtoD = []\n",
    "        for r, reg in enumerate(regions):\n",
    "                regimes_pHtoD.append(extended_pHtoD[:15] + [np.sum(np.multiply(extended_pHtoD[15:], frac_pop_over75[r]))])\n",
    "\n",
    "        pHtoD.append(regimes_pHtoD)\n",
    "\n",
    "        # Distribution of delays before proceeding to severe outcomes\n",
    "        # Infected -> Hospital\n",
    "        dItoH.append(time_to_hosp)\n",
    "        # Hospital -> Death\n",
    "        dHtoD.append(time_to_death)\n",
    "\n",
    "# Other parameters\n",
    "vac=0\n",
    "vacb=0\n",
    "\n",
    "adult = np.ones(len(age_groups))\n",
    "adult[0] = 0\n",
    "adult[1] = 0\n",
    "adult[2] = 0"
   ]
  },
  {
   "cell_type": "markdown",
   "metadata": {},
   "source": [
    "### Calculate life expectancy for each region"
   ]
  },
  {
   "cell_type": "code",
   "execution_count": 4,
   "metadata": {},
   "outputs": [],
   "source": [
    "# Read region-dependent vectors of years of life lost\n",
    "life_ex = []\n",
    "\n",
    "for r, reg in enumerate(regions):\n",
    "        # Read life expectancy data\n",
    "        LE_df = pd.read_csv(os.path.join(path, 'Life_expectancy_{}.csv'.format(reg)),\n",
    "                usecols=[1, 2], dtype=np.float64)\n",
    "        LE = np.array(LE_df)\n",
    "\n",
    "        # Read age & sex distribution data\n",
    "        ASD_df = pd.read_csv(os.path.join(path, 'Age_sex_distribution_{}.csv'.format(reg)),\n",
    "                usecols=[1, 2], dtype=np.float64)\n",
    "        extended_ASD = np.array(ASD_df)\n",
    "        ASD = np.zeros_like(LE)\n",
    "\n",
    "        # Group the ages of the ASD into the same age groups as the LE\n",
    "        sum_ages = [\n",
    "                0, range(1, 5), range(5, 10), range(10, 15), range(15, 20), range(20, 25), range(25, 30), range(30, 35), range(35, 40), \n",
    "                range(40, 45), range(45, 50), range(50, 55), range(55, 60), range(60, 65), range(65, 70), range(70, 75), range(75, 80), \n",
    "                range(80, 85), range(85, 101)]\n",
    "\n",
    "        ASD[0, :] = extended_ASD[sum_ages[0], :]\n",
    "\n",
    "        for _, ages in enumerate(sum_ages[1:]):\n",
    "                ASD[_ + 1, :] = np.sum(extended_ASD[ages, :], axis=0)\n",
    "\n",
    "        frac_ASD = np.matmul(np.diag(1/np.sum(ASD, axis=1)), ASD)\n",
    "\n",
    "        # Compute the life expectancy of the different age groups\n",
    "        total_LE = np.sum(np.multiply(frac_ASD, LE), axis=1)\n",
    "\n",
    "        # Read Life expectancy data\n",
    "        frac_AD = (1/np.sum(ASD[:2, :]) * np.sum(ASD[:2, :], axis=1)).tolist() + [1] * 14 + (1/np.sum(ASD[16:, :]) * np.sum(ASD[16:, :], axis=1)).tolist()\n",
    "\n",
    "        # Compute the life expectancy of the correct age groups\n",
    "        split_LE = np.multiply(frac_AD, total_LE)\n",
    "        \n",
    "        final_LE = np.zeros(len(age_groups))\n",
    "        final_LE[0] = np.sum(split_LE[:2])\n",
    "        final_LE[1:15] = split_LE[2:16]\n",
    "        final_LE[15] = np.sum(split_LE[16:]).tolist()\n",
    "\n",
    "        life_ex.append(final_LE)\n",
    "      "
   ]
  },
  {
   "cell_type": "markdown",
   "metadata": {},
   "source": [
    "### Calculate maximum number of booster vaccines available"
   ]
  },
  {
   "cell_type": "code",
   "execution_count": 5,
   "metadata": {},
   "outputs": [],
   "source": [
    "# Proportion of the total population for which boosters are available\n",
    "boost_pop_percent = 0.1\n",
    "\n",
    "# Compute the number of boosters for each region\n",
    "boosters = []\n",
    "\n",
    "for R in regimes:\n",
    "        regimes_boosters = []\n",
    "        for r in regions:\n",
    "                IC_df = pd.read_csv(\n",
    "                        os.path.join(path, '{}/Start_pop_{}.csv'.format(r, R)),\n",
    "                        header=None, dtype=np.float64)\n",
    "\n",
    "                regimes_boosters.append(boost_pop_percent * np.sum(np.asarray(IC_df)))\n",
    "        boosters.append(regimes_boosters)"
   ]
  },
  {
   "cell_type": "markdown",
   "metadata": {},
   "source": [
    "## Boosting campaign scenarios\n",
    "\n",
    "We only boost the partially-waned and recovered. However those in the R compartment who receive the booster do not move out of the compartment (they have higher immunity than the boosted)"
   ]
  },
  {
   "cell_type": "code",
   "execution_count": 6,
   "metadata": {},
   "outputs": [],
   "source": [
    "# Maximum percentage booster uptake of each age group\n",
    "boost_age_percent = 0.9\n",
    "\n",
    "# Compute the maximum number of boosters we can deploy for each age group in each region\n",
    "max_boosters = []\n",
    "max_boosters_for_R = []\n",
    "max_boosters_for_Sw1 = []\n",
    "\n",
    "for R, _ in enumerate(regimes):\n",
    "        regimes_max_boosters = []\n",
    "        regimes_max_boosters_for_R = []\n",
    "        regimes_max_boosters_for_Sw1 = []\n",
    "        for r, reg in enumerate(regions):\n",
    "                boosters_for_R = boost_age_percent * np.asarray(recovered_IC[R][r])\n",
    "                boosters_for_Sw1 = boost_age_percent * np.asarray(susceptibles_IC[R][r])[(3*len(age_groups)):(4*len(age_groups))]\n",
    "\n",
    "                regimes_max_boosters_for_R.append(boosters_for_R)\n",
    "                regimes_max_boosters_for_Sw1.append(boosters_for_Sw1)\n",
    "                regimes_max_boosters.append(boosters_for_R + boosters_for_Sw1)\n",
    "\n",
    "        max_boosters_for_R.append(regimes_max_boosters_for_R)\n",
    "        max_boosters_for_Sw1.append(regimes_max_boosters_for_Sw1)\n",
    "        max_boosters.append(regimes_max_boosters)\n",
    "\n",
    "# Create list of new susceptible_ICs for each vaccination scenario\n",
    "scenario_susceptibles_IC = []\n",
    "scenario_names = []\n",
    "age_boosting_scenario_order = []"
   ]
  },
  {
   "cell_type": "markdown",
   "metadata": {},
   "source": [
    "**Scenario 1**: Prioritising those 75+"
   ]
  },
  {
   "cell_type": "code",
   "execution_count": 7,
   "metadata": {},
   "outputs": [],
   "source": [
    "scenario_names.append('Prioritise 75+')\n",
    "age_boosting_scenario_order.append((np.arange(16, 0, -1) - 1).tolist())"
   ]
  },
  {
   "cell_type": "markdown",
   "metadata": {},
   "source": [
    "**Scenario 2**: Prioritising those 60-70 then 75+"
   ]
  },
  {
   "cell_type": "code",
   "execution_count": 8,
   "metadata": {},
   "outputs": [],
   "source": [
    "scenario_names.append('Prioritise 60-70 then 75+')\n",
    "age_boosting_scenario_order.append([range(13, 15), 15] + (np.arange(13, 0, -1) - 1).tolist())"
   ]
  },
  {
   "cell_type": "markdown",
   "metadata": {},
   "source": [
    "**Scenario 3**: Prioritising those 60-70 then 50-60, then 75+"
   ]
  },
  {
   "cell_type": "code",
   "execution_count": 9,
   "metadata": {},
   "outputs": [],
   "source": [
    "scenario_names.append('Prioritise those 60-70 then 50-60, then 75+')\n",
    "age_boosting_scenario_order.append([range(13, 15), range(11, 13), 15] + (np.arange(11, 0, -1) - 1).tolist())"
   ]
  },
  {
   "cell_type": "markdown",
   "metadata": {},
   "source": [
    "**Scenario 4**: Prioritising those 50-69, then 60-70 then 75+"
   ]
  },
  {
   "cell_type": "code",
   "execution_count": 10,
   "metadata": {},
   "outputs": [],
   "source": [
    "scenario_names.append('Prioritise those 50-60 then 60-70, then 75+')\n",
    "age_boosting_scenario_order.append([range(11, 13), range(13, 15), 15] + (np.arange(11, 0, -1) - 1).tolist())"
   ]
  },
  {
   "cell_type": "markdown",
   "metadata": {},
   "source": [
    "### Compute new susceptible conditions based on each boosting scenario"
   ]
  },
  {
   "cell_type": "code",
   "execution_count": 11,
   "metadata": {},
   "outputs": [],
   "source": [
    "for s, _ in enumerate(scenario_names):\n",
    "    regimes_new_susceptibles_IC = []\n",
    "    scenario_boosters = boosters.copy()\n",
    "\n",
    "    for R, _ in enumerate(regimes):\n",
    "        new_susceptibles_IC = [\n",
    "            np.array(susceptibles_IC[R][r].copy()).reshape((6, 16)).transpose() for r in range(len(regions))]\n",
    "        \n",
    "        new_susceptibles_IC = np.array(new_susceptibles_IC)\n",
    "        reg_new_susceptibles_IC = []\n",
    "\n",
    "        for r, reg in enumerate(regions):\n",
    "            for ages in age_boosting_scenario_order[s]:\n",
    "                if np.sum(max_boosters[R][r][ages]) <= scenario_boosters[R][r]:\n",
    "                    # Add boosted from the Sw1 to Sb\n",
    "                    new_susceptibles_IC[r, ages, 2] += max_boosters_for_Sw1[R][r][ages]\n",
    "                    # Remove boosted from the Sw1\n",
    "                    new_susceptibles_IC[r, ages, 3] -= max_boosters_for_Sw1[R][r][ages]\n",
    "                    # Remove boosted from the Sw1 and R from total boocters for the scenario\n",
    "                    scenario_boosters[R][r] -= np.sum(max_boosters[R][r][ages])\n",
    "                else:\n",
    "                    # Compute proportion of boosters we have left to give for the age group\n",
    "                    prop = scenario_boosters[R][r] / np.sum(max_boosters[R][r][ages])\n",
    "                    # Add boosted from the Sw1 to Sb\n",
    "                    new_susceptibles_IC[r, ages, 2] += prop * max_boosters_for_Sw1[R][r][ages]\n",
    "                    # Remove boosted from the Sw1\n",
    "                    new_susceptibles_IC[r, ages, 3] -= prop * max_boosters_for_Sw1[R][r][ages]\n",
    "                    # Remove boosted from the Sw1 and R from total boocters for the scenario\n",
    "                    scenario_boosters[R][r] -= prop * np.sum(max_boosters[R][r][ages])\n",
    "\n",
    "            reg_new_susceptibles_IC.append(list(deepflatten(new_susceptibles_IC[r].transpose())))\n",
    "\n",
    "        regimes_new_susceptibles_IC.append(reg_new_susceptibles_IC)\n",
    "    scenario_susceptibles_IC.append(regimes_new_susceptibles_IC)"
   ]
  },
  {
   "cell_type": "markdown",
   "metadata": {},
   "source": [
    "### Set the parameters and initial conditions of the model and bundle everything together"
   ]
  },
  {
   "cell_type": "code",
   "execution_count": 12,
   "metadata": {},
   "outputs": [],
   "source": [
    "# Instantiate model\n",
    "model = wm.WarwickLancSEIRModel()\n",
    "\n",
    "# Set the region names, contact and regional data of the model\n",
    "model.set_regions(regions)\n",
    "model.set_age_groups(age_groups)\n",
    "\n",
    "# List of times at which we wish to evaluate the states of the compartments of the model\n",
    "times = np.arange(1, total_days+1, 1).tolist()"
   ]
  },
  {
   "cell_type": "markdown",
   "metadata": {},
   "source": [
    "### Simulate for the regions"
   ]
  },
  {
   "cell_type": "code",
   "execution_count": 13,
   "metadata": {},
   "outputs": [],
   "source": [
    "# Simulate for all the regions and regimes\n",
    "outputs = []\n",
    "\n",
    "for s, scenario in enumerate(scenario_names):\n",
    "    scenario_outputs = []\n",
    "    for R, regime in enumerate(regimes):\n",
    "        model.read_contact_data(matrices_contact[R], time_changes_contact[R])\n",
    "        model.read_regional_data(matrices_region[R], time_changes_region[R])\n",
    "\n",
    "        # Set regional and time dependent parameters\n",
    "        regional_parameters = wm.RegParameters(\n",
    "            model=model,\n",
    "            region_index=1\n",
    "        )\n",
    "\n",
    "        # Set ICs parameters\n",
    "        ICs_parameters = wm.ICs(\n",
    "            model=model,\n",
    "            susceptibles_IC=scenario_susceptibles_IC[s][R],\n",
    "            exposed1_IC=exposed1_IC[R],\n",
    "            exposed2_IC=exposed2_IC[R],\n",
    "            exposed3_IC=exposed3_IC[R],\n",
    "            exposed4_IC=exposed4_IC[R],\n",
    "            exposed5_IC=exposed5_IC[R],\n",
    "            infectives_sym_IC=infectives_sym_IC[R],\n",
    "            infectives_asym_IC=infectives_asym_IC[R],\n",
    "            recovered_IC=recovered_IC[R]\n",
    "        )\n",
    "\n",
    "        # Set disease-specific parameters\n",
    "        disease_parameters = wm.DiseaseParameters(\n",
    "            model=model,\n",
    "            d=d[R][0],\n",
    "            tau=tau[R],\n",
    "            we=we[R],\n",
    "            omega=omega[R]\n",
    "        )\n",
    "\n",
    "        # Set transmission parameters\n",
    "        transmission_parameters = wm.Transmission(\n",
    "            model=model,\n",
    "            beta=beta[R][0],\n",
    "            alpha=alpha[R],\n",
    "            gamma=gamma[R]\n",
    "        )\n",
    "\n",
    "        # Set other simulation parameters\n",
    "        simulation_parameters = wm.SimParameters(\n",
    "            model=model,\n",
    "            method='Radau',\n",
    "            times=times,\n",
    "            eps=False\n",
    "        )\n",
    "\n",
    "        # Set vaccination parameters\n",
    "        vaccine_parameters = wm.VaccineParameters(\n",
    "            model=model,\n",
    "            vac=vac,\n",
    "            vacb=vacb,\n",
    "            adult=adult,\n",
    "            nu_tra=nu_tra[R],\n",
    "            nu_symp=nu_symp[R],\n",
    "            nu_inf=nu_inf[R],\n",
    "            nu_sev_h=nu_sev_h[R],\n",
    "            nu_sev_d=nu_sev_d[R],\n",
    "        )\n",
    "\n",
    "        # Set social distancing parameters\n",
    "        soc_dist_parameters = wm.SocDistParameters(\n",
    "            model=model,\n",
    "            phi=1\n",
    "        )\n",
    "\n",
    "        # Set all parameters in the controller\n",
    "        parameters = wm.ParametersController(\n",
    "            model=model,\n",
    "            regional_parameters=regional_parameters,\n",
    "            ICs_parameters=ICs_parameters,\n",
    "            disease_parameters=disease_parameters,\n",
    "            transmission_parameters=transmission_parameters,\n",
    "            simulation_parameters=simulation_parameters,\n",
    "            vaccine_parameters=vaccine_parameters,\n",
    "            soc_dist_parameters=soc_dist_parameters\n",
    "        )\n",
    "\n",
    "        # Simulate for all the regions\n",
    "        regimes_outputs = []\n",
    "        for r, reg in enumerate(regions):\n",
    "            # List of initial conditions and parameters that characterise the model\n",
    "            parameters.regional_parameters.region_index = r + 1\n",
    "\n",
    "            parameters.disease_parameters.d = d[R][r]\n",
    "            parameters.transmission_parameters.beta = beta[R][r]\n",
    "\n",
    "            # Simulate using the ODE solver\n",
    "            regimes_outputs.append(model.simulate(parameters))\n",
    "\n",
    "        scenario_outputs.append(regimes_outputs)\n",
    "\n",
    "    outputs.append(scenario_outputs)\n",
    "\n",
    "outputs = np.array(outputs)"
   ]
  },
  {
   "cell_type": "markdown",
   "metadata": {},
   "source": [
    "## Plot the comparments of the two methods against each other\n",
    "### Setup ``plotly`` and default settings for plotting"
   ]
  },
  {
   "cell_type": "code",
   "execution_count": 14,
   "metadata": {},
   "outputs": [],
   "source": [
    "from plotly.subplots import make_subplots\n",
    "\n",
    "colours = ['blue', 'red', 'green', 'purple', 'orange', 'black', 'gray', 'pink']"
   ]
  },
  {
   "cell_type": "markdown",
   "metadata": {},
   "source": [
    "## Number of New Infections, Hospitalisations, Deaths & Total number of years of life lost"
   ]
  },
  {
   "cell_type": "code",
   "execution_count": 15,
   "metadata": {},
   "outputs": [],
   "source": [
    "# Simulate for all the regions (sum over all age groups)\n",
    "total_years_of_life_lost = []\n",
    "\n",
    "for s, scenario in enumerate(scenario_names):\n",
    "    scenario_total_years_of_life_lost = []\n",
    "    for R, regime in enumerate(regimes):\n",
    "        regimes_total_years_of_life_lost = []\n",
    "        for r, reg in enumerate(regions):\n",
    "            # Compute regional matrix of new infections for all timepoints simulated\n",
    "            reg_new_infections = model.new_infections(outputs[s, R, r, :, :])\n",
    "\n",
    "            # Compute regional matrix of new hospitalisation for all timepoints simulated\n",
    "            reg_new_hospitalisation = model.new_hospitalisations(reg_new_infections, pItoH[R][r], dItoH[R])\n",
    "\n",
    "            # Compute regional matrix of new deaths for all timepoints simulated\n",
    "            reg_new_deaths = model.new_deaths(reg_new_hospitalisation, pHtoD[R][r], dHtoD[R])\n",
    "\n",
    "            regimes_total_years_of_life_lost.append(np.sum(np.matmul(\n",
    "                reg_new_deaths[0] + reg_new_deaths[1] + reg_new_deaths[2] +\n",
    "                reg_new_deaths[3] + reg_new_deaths[4] + reg_new_deaths[5],\n",
    "                np.diag(life_ex[r])\n",
    "                ), axis=1))\n",
    "\n",
    "        scenario_total_years_of_life_lost.append(regimes_total_years_of_life_lost)\n",
    "\n",
    "    total_years_of_life_lost.append(scenario_total_years_of_life_lost)\n",
    "\n",
    "total_years_of_life_lost = np.array(total_years_of_life_lost)"
   ]
  },
  {
   "cell_type": "code",
   "execution_count": 16,
   "metadata": {},
   "outputs": [],
   "source": [
    "# Set up traces to plot\n",
    "total_years_of_life_lost_mean = []\n",
    "total_years_of_life_lost_upper = []\n",
    "total_years_of_life_lost_lower = []\n",
    "\n",
    "for r, _ in enumerate(regions):\n",
    "    # Compute the mean \n",
    "    total_years_of_life_lost_mean.append(np.mean(total_years_of_life_lost[:,:,r,:], axis=1))\n",
    "\n",
    "    # Compute the upper quantiles\n",
    "    total_years_of_life_lost_upper.append(np.quantile(total_years_of_life_lost[:,:,r,:], 0.975, axis=1))\n",
    "\n",
    "    # Compute the lower qunatiles\n",
    "    total_years_of_life_lost_lower.append(np.quantile(total_years_of_life_lost[:,:,r,:], 0.025, axis=1))"
   ]
  },
  {
   "cell_type": "markdown",
   "metadata": {},
   "source": [
    "### Plot the time series of numbers of years lost of the two regions"
   ]
  },
  {
   "cell_type": "code",
   "execution_count": 17,
   "metadata": {},
   "outputs": [
    {
     "data": {
      "application/vnd.plotly.v1+json": {
       "config": {
        "plotlyServerURL": "https://plot.ly"
       },
       "data": [
        {
         "line": {
          "color": "blue"
         },
         "mode": "lines",
         "name": "region United Kingdom",
         "type": "scatter",
         "x": [
          1,
          2,
          3,
          4,
          5,
          6,
          7,
          8,
          9,
          10,
          11,
          12,
          13,
          14,
          15,
          16,
          17,
          18,
          19,
          20,
          21,
          22,
          23,
          24,
          25,
          26,
          27,
          28,
          29,
          30,
          31,
          32,
          33,
          34,
          35,
          36,
          37,
          38,
          39,
          40,
          41,
          42,
          43,
          44,
          45,
          46,
          47,
          48,
          49,
          50,
          51,
          52,
          53,
          54,
          55,
          56,
          57,
          58,
          59,
          60,
          61,
          62,
          63,
          64,
          65,
          66,
          67,
          68,
          69,
          70,
          71,
          72,
          73,
          74,
          75,
          76,
          77,
          78,
          79,
          80,
          81,
          82,
          83,
          84,
          85,
          86,
          87,
          88,
          89,
          90,
          91,
          92,
          93,
          94,
          95,
          96,
          97,
          98,
          99,
          100
         ],
         "y": [
          19.91968251924815,
          44.75927906241564,
          70.37087123120914,
          94.28242325176039,
          115.25375880261365,
          133.30498768603044,
          149.24783276735062,
          164.1062035759218,
          178.74484083573537,
          193.75240792363556,
          209.4776455759621,
          226.1226890096315,
          243.82180904078848,
          262.69006848981985,
          282.8395494355919,
          304.38126073946046,
          327.424325438071,
          352.0702050964259,
          378.4118775788068,
          406.5338341819978,
          436.51197745313306,
          468.41226433057585,
          502.29749943948644,
          538.2238188663465,
          576.2345086460613,
          616.3580296478298,
          658.6075609195094,
          702.980863923859,
          749.4600374858991,
          798.0094760648477,
          847.0669063177371,
          897.2367737406388,
          948.7394491821541,
          1001.7091087566151,
          1056.1876659888167,
          1112.0980552669132,
          1169.2593934844654,
          1227.4206593206936,
          1286.2915890507916,
          1345.5674176872503,
          1404.9416763666136,
          1464.1072582834195,
          1522.75440403102,
          1580.571450113485,
          1637.2453520702456,
          1692.46633788074,
          1745.9296172357028,
          1797.3438591247466,
          1846.4370144545317,
          1892.9585470329582,
          1936.680475036132,
          1977.398889270654,
          2014.935833765101,
          2049.1407668049364,
          2079.892934284865,
          2107.1009867662624,
          2130.703512694017,
          2150.667611231335,
          2166.9865578916947,
          2179.6794881029073,
          2188.819936897938,
          2194.473436120566,
          2196.725486700978,
          2195.6814629327982,
          2191.4612167419664,
          2184.1993480558854,
          2174.043502721044,
          2161.152282144797,
          2145.694003689956,
          2127.844429189545,
          2107.784774406188,
          2085.70019549694,
          2061.777467634169,
          2036.2031572339808,
          2009.1633143279064,
          1980.8413941139795,
          1951.4170628964816,
          1921.0655945150793,
          1889.956556785907,
          1858.253069758586,
          1826.1112054739847,
          1793.6794451015858,
          1761.0983760338072,
          1728.5002473443324,
          1696.008468103265,
          1663.7375540694338,
          1631.7930623633874,
          1600.2716143715493,
          1569.2609930416622,
          1538.840259971196,
          1509.0799247337866,
          1480.0422110440015,
          1451.7815175962162,
          1424.3447231095913,
          1397.7719166219758,
          1372.096721357716,
          1347.3467482796304,
          1323.5440829232275,
          1300.705664243673,
          1278.8436807695168
         ]
        },
        {
         "fill": "toself",
         "fillcolor": "blue",
         "line": {
          "color": "blue"
         },
         "mode": "lines",
         "name": "region United Kingdom",
         "opacity": 0.15,
         "type": "scatter",
         "x": [
          1,
          2,
          3,
          4,
          5,
          6,
          7,
          8,
          9,
          10,
          11,
          12,
          13,
          14,
          15,
          16,
          17,
          18,
          19,
          20,
          21,
          22,
          23,
          24,
          25,
          26,
          27,
          28,
          29,
          30,
          31,
          32,
          33,
          34,
          35,
          36,
          37,
          38,
          39,
          40,
          41,
          42,
          43,
          44,
          45,
          46,
          47,
          48,
          49,
          50,
          51,
          52,
          53,
          54,
          55,
          56,
          57,
          58,
          59,
          60,
          61,
          62,
          63,
          64,
          65,
          66,
          67,
          68,
          69,
          70,
          71,
          72,
          73,
          74,
          75,
          76,
          77,
          78,
          79,
          80,
          81,
          82,
          83,
          84,
          85,
          86,
          87,
          88,
          89,
          90,
          91,
          92,
          93,
          94,
          95,
          96,
          97,
          98,
          99,
          100,
          100,
          99,
          98,
          97,
          96,
          95,
          94,
          93,
          92,
          91,
          90,
          89,
          88,
          87,
          86,
          85,
          84,
          83,
          82,
          81,
          80,
          79,
          78,
          77,
          76,
          75,
          74,
          73,
          72,
          71,
          70,
          69,
          68,
          67,
          66,
          65,
          64,
          63,
          62,
          61,
          60,
          59,
          58,
          57,
          56,
          55,
          54,
          53,
          52,
          51,
          50,
          49,
          48,
          47,
          46,
          45,
          44,
          43,
          42,
          41,
          40,
          39,
          38,
          37,
          36,
          35,
          34,
          33,
          32,
          31,
          30,
          29,
          28,
          27,
          26,
          25,
          24,
          23,
          22,
          21,
          20,
          19,
          18,
          17,
          16,
          15,
          14,
          13,
          12,
          11,
          10,
          9,
          8,
          7,
          6,
          5,
          4,
          3,
          2,
          1
         ],
         "y": [
          23.632746178765355,
          53.105139650527995,
          83.53286836852399,
          112.06826375153797,
          137.32236948080333,
          159.34998027543682,
          179.08340508347857,
          197.66505967073877,
          216.03717327746244,
          234.8251067911331,
          254.39501180288715,
          274.959898593666,
          296.6706125347705,
          319.6619778865588,
          344.0667489067475,
          370.0123508148829,
          397.6207046451755,
          427.00120524971885,
          458.25184089390564,
          491.46050316461543,
          526.7056900489688,
          564.0541807109432,
          603.5666924330941,
          645.301629179436,
          689.3039828523108,
          735.6028760683882,
          784.2109969940869,
          835.1247009691692,
          888.3243973413848,
          943.7738797376862,
          999.6304690248724,
          1057.6752700799261,
          1120.1885195006917,
          1184.4826290081503,
          1250.5591180414517,
          1318.289048004423,
          1387.437304031534,
          1457.6829655738466,
          1528.6603914357156,
          1599.9918829982996,
          1671.2975104511274,
          1742.1954966272951,
          1812.2996089970313,
          1881.2198663719278,
          1948.5680229958407,
          2014.1920703374424,
          2083.260227235431,
          2150.3720723234223,
          2215.167611846488,
          2277.3091408795094,
          2336.483758366044,
          2392.4040248580523,
          2444.808187537994,
          2493.4588708064975,
          2538.1479622372594,
          2578.704662850876,
          2614.99388477188,
          2646.9153734721667,
          2674.4027169169935,
          2697.4222500430974,
          2716.002212721169,
          2730.168192478326,
          2739.9636341337978,
          2745.474479878383,
          2746.817298485218,
          2744.128907761221,
          2737.562949474843,
          2727.2877414922687,
          2713.4840282837063,
          2696.345462594599,
          2676.0772063164736,
          2652.8946130288664,
          2627.0216163337795,
          2598.6829480723654,
          2568.1112422331985,
          2535.53859674021,
          2501.193376375559,
          2465.3006132680066,
          2428.080035711381,
          2389.7449906747383,
          2350.501854692162,
          2310.5497032895164,
          2270.0801332559868,
          2229.2765823274076,
          2188.3121272711655,
          2147.3491242663563,
          2106.5390141531684,
          2066.0222900109825,
          2025.9285566186668,
          1986.3766503208935,
          1947.4747975816083,
          1909.3207990355081,
          1872.0031071991236,
          1835.5993498774203,
          1800.1771207399597,
          1765.7946213788175,
          1732.5014897412043,
          1700.3397218258197,
          1669.344231763956,
          1639.5432482941987,
          830.8777514178191,
          844.9004720008485,
          859.8436605869913,
          875.7226904444711,
          892.5505193106814,
          910.3373618654687,
          929.0902814689115,
          948.8126520680901,
          969.5033350717284,
          991.1563463388493,
          1013.7601491222052,
          1037.2968868106536,
          1061.7412606293221,
          1087.0610005187016,
          1110.8075048323306,
          1132.9830749867915,
          1155.5578380077918,
          1178.4680675262591,
          1201.6432012636612,
          1225.0057580933228,
          1248.4712793685292,
          1271.9482977520952,
          1295.3383097647215,
          1318.5361565274748,
          1341.4303909027324,
          1363.9032613490579,
          1385.8319914526742,
          1407.089040452834,
          1427.542345448818,
          1447.0557369964831,
          1465.4896911490598,
          1482.7029722680238,
          1498.5518172857041,
          1512.891546678722,
          1525.5808446559242,
          1536.4813316248765,
          1545.4608780324263,
          1552.3954344388274,
          1557.1693649632007,
          1559.6744022500175,
          1559.808815377794,
          1557.478940126746,
          1552.5739882515668,
          1545.0218094829843,
          1534.7778637726667,
          1521.8153850845174,
          1506.125668972759,
          1487.7213322498133,
          1466.6369993496462,
          1442.9301122816041,
          1416.681731087091,
          1387.9974187383555,
          1357.009274666056,
          1323.871977886517,
          1288.7562135476328,
          1251.849006137829,
          1213.3539312156404,
          1173.4908614079036,
          1132.4955843124771,
          1090.6187846897822,
          1048.121794920496,
          1005.255195282294,
          962.2786605593093,
          919.4558964696381,
          877.0430938430939,
          835.2697097698236,
          794.3065406100668,
          754.2320333965046,
          714.3295420703313,
          669.0993019571993,
          625.2485826951615,
          582.405622911423,
          541.6663753207382,
          503.06630592963785,
          466.6150986679678,
          432.30648733501243,
          400.11512741142764,
          370.00106919653916,
          341.90963657488214,
          315.7718276502377,
          291.50609638854655,
          269.02572629052594,
          248.2442494955048,
          229.06595199986896,
          211.39009000517504,
          195.1115160300876,
          180.1234845239085,
          166.32211990024888,
          153.60655222185966,
          141.87452073027987,
          131.00729565640702,
          120.8299035176878,
          111.05337212310738,
          101.20986484320073,
          90.63504008518551,
          78.56245059783188,
          64.39623687555171,
          48.121690912647125,
          30.62127438118202,
          13.628335313458567
         ]
        },
        {
         "line": {
          "color": "red"
         },
         "mode": "lines",
         "name": "region France",
         "type": "scatter",
         "x": [
          1,
          2,
          3,
          4,
          5,
          6,
          7,
          8,
          9,
          10,
          11,
          12,
          13,
          14,
          15,
          16,
          17,
          18,
          19,
          20,
          21,
          22,
          23,
          24,
          25,
          26,
          27,
          28,
          29,
          30,
          31,
          32,
          33,
          34,
          35,
          36,
          37,
          38,
          39,
          40,
          41,
          42,
          43,
          44,
          45,
          46,
          47,
          48,
          49,
          50,
          51,
          52,
          53,
          54,
          55,
          56,
          57,
          58,
          59,
          60,
          61,
          62,
          63,
          64,
          65,
          66,
          67,
          68,
          69,
          70,
          71,
          72,
          73,
          74,
          75,
          76,
          77,
          78,
          79,
          80,
          81,
          82,
          83,
          84,
          85,
          86,
          87,
          88,
          89,
          90,
          91,
          92,
          93,
          94,
          95,
          96,
          97,
          98,
          99,
          100
         ],
         "y": [
          20.51706143810914,
          46.10992736413405,
          72.63158024173113,
          97.8701502897729,
          120.97546831120194,
          142.32651225928862,
          162.96755983422332,
          184.0198761693958,
          206.3544936214634,
          230.54247510655,
          256.9319185471549,
          285.77220769397184,
          317.28505423124386,
          351.70667749708895,
          389.2776533817358,
          430.23544298527645,
          474.8038629316328,
          523.1832415634054,
          575.5421184031152,
          632.0141985200362,
          692.6952654344925,
          757.6464203770298,
          826.8863422666019,
          900.3738506130335,
          978.0019199248687,
          1059.5965511132308,
          1144.916289565528,
          1233.6425521785889,
          1325.3705668191035,
          1419.6196478261036,
          1514.288127048887,
          1609.462862303883,
          1704.7950218305734,
          1799.7967796112343,
          1893.855888467748,
          1986.256738717195,
          2076.21937199439,
          2162.9472426621087,
          2245.6727212592727,
          2323.6883980268626,
          2396.370222819088,
          2463.1871315827307,
          2523.7035170414065,
          2577.578568730822,
          2624.5671029131177,
          2664.5201278180825,
          2697.380862023168,
          2723.179508113521,
          2742.0204267259396,
          2754.0742192370963,
          2759.5683787221624,
          2758.780850009265,
          2752.025840789717,
          2739.6471824507717,
          2722.0092256465473,
          2699.4882790663232,
          2672.4681359901747,
          2641.336016953295,
          2606.4802937403133,
          2568.286537625765,
          2527.163436692912,
          2483.480517718634,
          2437.598084515945,
          2389.8671606009866,
          2340.6294173374,
          2290.216260108591,
          2238.947115677826,
          2187.1279454375185,
          2135.050415761365,
          2082.990034612901,
          2031.20448016348,
          1979.932048775973,
          1929.3905676919396,
          1879.7773399600637,
          1831.2686760251245,
          1784.0196131113123,
          1738.1642280839778,
          1693.8161321107677,
          1651.0699369983245,
          1610.0021103430508,
          1570.6720914329549,
          1533.1235759312694,
          1497.3861222896562,
          1463.4765388140825,
          1431.4005151446308,
          1401.1541378609704,
          1372.7254089249193,
          1346.0954540112546,
          1321.2395863669985,
          1298.1284192333783,
          1276.7288068439652,
          1257.0047066582886,
          1238.9178930257374,
          1222.4285989259388,
          1207.4960912450808,
          1194.0791621280366,
          1182.1365586744664,
          1171.6273147947506,
          1162.5109778664537,
          1154.7478743630143
         ]
        },
        {
         "fill": "toself",
         "fillcolor": "red",
         "line": {
          "color": "red"
         },
         "mode": "lines",
         "name": "region France",
         "opacity": 0.15,
         "type": "scatter",
         "x": [
          1,
          2,
          3,
          4,
          5,
          6,
          7,
          8,
          9,
          10,
          11,
          12,
          13,
          14,
          15,
          16,
          17,
          18,
          19,
          20,
          21,
          22,
          23,
          24,
          25,
          26,
          27,
          28,
          29,
          30,
          31,
          32,
          33,
          34,
          35,
          36,
          37,
          38,
          39,
          40,
          41,
          42,
          43,
          44,
          45,
          46,
          47,
          48,
          49,
          50,
          51,
          52,
          53,
          54,
          55,
          56,
          57,
          58,
          59,
          60,
          61,
          62,
          63,
          64,
          65,
          66,
          67,
          68,
          69,
          70,
          71,
          72,
          73,
          74,
          75,
          76,
          77,
          78,
          79,
          80,
          81,
          82,
          83,
          84,
          85,
          86,
          87,
          88,
          89,
          90,
          91,
          92,
          93,
          94,
          95,
          96,
          97,
          98,
          99,
          100,
          100,
          99,
          98,
          97,
          96,
          95,
          94,
          93,
          92,
          91,
          90,
          89,
          88,
          87,
          86,
          85,
          84,
          83,
          82,
          81,
          80,
          79,
          78,
          77,
          76,
          75,
          74,
          73,
          72,
          71,
          70,
          69,
          68,
          67,
          66,
          65,
          64,
          63,
          62,
          61,
          60,
          59,
          58,
          57,
          56,
          55,
          54,
          53,
          52,
          51,
          50,
          49,
          48,
          47,
          46,
          45,
          44,
          43,
          42,
          41,
          40,
          39,
          38,
          37,
          36,
          35,
          34,
          33,
          32,
          31,
          30,
          29,
          28,
          27,
          26,
          25,
          24,
          23,
          22,
          21,
          20,
          19,
          18,
          17,
          16,
          15,
          14,
          13,
          12,
          11,
          10,
          9,
          8,
          7,
          6,
          5,
          4,
          3,
          2,
          1
         ],
         "y": [
          24.341477572869888,
          54.70886184625168,
          86.23707839808242,
          116.42917653295436,
          144.40003424147122,
          170.64781528333214,
          196.37300044348828,
          222.81230058984573,
          250.89763063866133,
          281.2256681360583,
          314.16602882062455,
          349.9987034790605,
          388.9890828792464,
          431.4235606220805,
          477.5893816473406,
          527.7604809647622,
          582.1850421907632,
          641.0851259701487,
          704.6447899770127,
          773.0067521708164,
          846.2720796694412,
          924.494031586445,
          1007.6877056306273,
          1095.8077400221555,
          1188.7334957151686,
          1286.2662694597186,
          1388.1298384496124,
          1493.9765990374901,
          1603.3558734083613,
          1715.7303639490042,
          1828.6465665623618,
          1942.2557532145986,
          2058.498078124576,
          2179.733003054103,
          2300.5830288562806,
          2420.1115457196015,
          2537.3148885251967,
          2651.180593916566,
          2760.724980736948,
          2865.0122798753605,
          2963.180289902601,
          3054.461121889375,
          3138.2020018705534,
          3213.8681790122114,
          3281.042837668743,
          3339.4259410047316,
          3388.821385448062,
          3429.179703750291,
          3460.5556763333207,
          3483.08854726655,
          3496.9934242041527,
          3502.5561292352986,
          3500.1245397944367,
          3490.0988832985063,
          3472.9230528071207,
          3449.0596191355517,
          3418.9825236186543,
          3383.173827621903,
          3342.124255048545,
          3296.329233457329,
          3246.312452244495,
          3192.5553195015473,
          3135.52906510145,
          3075.6924532931102,
          3013.4968964146137,
          2949.385053414838,
          2883.785251915315,
          2817.1067305222596,
          2749.7411048206914,
          2682.062021912542,
          2614.4231907457656,
          2547.1559880293503,
          2480.566745979814,
          2414.9352373125066,
          2350.5157450619286,
          2287.5331345485033,
          2226.187044849254,
          2166.6493673420146,
          2109.0666093733516,
          2053.5615889171436,
          2000.2345161638273,
          1949.1638182944007,
          1900.408262035925,
          1854.0072093459194,
          1809.9831887930259,
          1768.345372098902,
          1729.0915197472164,
          1692.2093531197424,
          1657.6775704447057,
          1625.467003727578,
          1595.5422367812353,
          1567.8629908395205,
          1542.3851540559272,
          1519.0620824479606,
          1497.8452739258073,
          1478.6849120027607,
          1461.530522893487,
          1446.331625883221,
          1433.0379451847064,
          1421.9155409429295,
          817.222733328523,
          819.6914100390466,
          823.0312909270814,
          827.2783161515849,
          832.4698970111398,
          838.6448694924417,
          845.8435097579379,
          854.1074238227726,
          863.4794042596261,
          874.0032483154557,
          885.7233471767199,
          898.6844169686573,
          912.9312954238651,
          928.5084934586804,
          945.4594344142814,
          963.8258947308873,
          983.6471823187492,
          1004.9587290465101,
          1027.7912691730085,
          1052.1689005234937,
          1078.107600773012,
          1105.6141626257147,
          1134.6850917030304,
          1165.3049487018843,
          1196.2733977230455,
          1226.0330772602206,
          1256.8296867336148,
          1288.584177948178,
          1321.2030463384376,
          1354.5780634809025,
          1388.585677076752,
          1423.088133725562,
          1457.9342318882268,
          1492.9584710672116,
          1527.9805708966546,
          1562.8084485598974,
          1597.2402417241171,
          1631.0649558127302,
          1664.0631117324795,
          1696.0058209339459,
          1726.654112685485,
          1755.7595011210708,
          1783.0386214788837,
          1808.2276587322785,
          1831.0571636412205,
          1851.2520910810215,
          1868.5326491518533,
          1882.617774724807,
          1893.2307888005962,
          1900.1038960679666,
          1902.982352130237,
          1901.6260426533358,
          1895.8126193078506,
          1885.345155871201,
          1870.0786307090968,
          1849.9110337057186,
          1824.7948329578721,
          1794.7389385604808,
          1759.8113800698684,
          1720.145539782332,
          1675.9571996187842,
          1627.5378298773717,
          1575.2480330337285,
          1519.5230218502302,
          1460.8652351863984,
          1399.8190798300786,
          1336.9101659606292,
          1272.6069492346408,
          1207.2902190499144,
          1141.271577569457,
          1074.7921292930246,
          1006.5057154248692,
          931.5682550427116,
          859.2743108724119,
          790.0249131335734,
          724.1360747599116,
          661.8370486270006,
          603.2743786421265,
          548.5316898088247,
          497.6305919760892,
          450.5315424061467,
          407.13928423947505,
          367.32701366432934,
          330.9440240575912,
          297.8090897454824,
          267.71771565692967,
          240.44924863660378,
          215.78271582132203,
          193.50296330233977,
          173.4040497893002,
          155.29112022050765,
          138.94201120198133,
          124.05277289204652,
          110.14585615497737,
          96.52578770108786,
          82.33352027646364,
          66.79721458535373,
          49.65673058837763,
          31.544633507922686,
          14.03704063331303
         ]
        }
       ],
       "layout": {
        "boxmode": "group",
        "legend": {
         "orientation": "h",
         "x": 1,
         "xanchor": "right",
         "y": 1.02,
         "yanchor": "bottom"
        },
        "plot_bgcolor": "white",
        "template": {
         "data": {
          "bar": [
           {
            "error_x": {
             "color": "#2a3f5f"
            },
            "error_y": {
             "color": "#2a3f5f"
            },
            "marker": {
             "line": {
              "color": "#E5ECF6",
              "width": 0.5
             },
             "pattern": {
              "fillmode": "overlay",
              "size": 10,
              "solidity": 0.2
             }
            },
            "type": "bar"
           }
          ],
          "barpolar": [
           {
            "marker": {
             "line": {
              "color": "#E5ECF6",
              "width": 0.5
             },
             "pattern": {
              "fillmode": "overlay",
              "size": 10,
              "solidity": 0.2
             }
            },
            "type": "barpolar"
           }
          ],
          "carpet": [
           {
            "aaxis": {
             "endlinecolor": "#2a3f5f",
             "gridcolor": "white",
             "linecolor": "white",
             "minorgridcolor": "white",
             "startlinecolor": "#2a3f5f"
            },
            "baxis": {
             "endlinecolor": "#2a3f5f",
             "gridcolor": "white",
             "linecolor": "white",
             "minorgridcolor": "white",
             "startlinecolor": "#2a3f5f"
            },
            "type": "carpet"
           }
          ],
          "choropleth": [
           {
            "colorbar": {
             "outlinewidth": 0,
             "ticks": ""
            },
            "type": "choropleth"
           }
          ],
          "contour": [
           {
            "colorbar": {
             "outlinewidth": 0,
             "ticks": ""
            },
            "colorscale": [
             [
              0,
              "#0d0887"
             ],
             [
              0.1111111111111111,
              "#46039f"
             ],
             [
              0.2222222222222222,
              "#7201a8"
             ],
             [
              0.3333333333333333,
              "#9c179e"
             ],
             [
              0.4444444444444444,
              "#bd3786"
             ],
             [
              0.5555555555555556,
              "#d8576b"
             ],
             [
              0.6666666666666666,
              "#ed7953"
             ],
             [
              0.7777777777777778,
              "#fb9f3a"
             ],
             [
              0.8888888888888888,
              "#fdca26"
             ],
             [
              1,
              "#f0f921"
             ]
            ],
            "type": "contour"
           }
          ],
          "contourcarpet": [
           {
            "colorbar": {
             "outlinewidth": 0,
             "ticks": ""
            },
            "type": "contourcarpet"
           }
          ],
          "heatmap": [
           {
            "colorbar": {
             "outlinewidth": 0,
             "ticks": ""
            },
            "colorscale": [
             [
              0,
              "#0d0887"
             ],
             [
              0.1111111111111111,
              "#46039f"
             ],
             [
              0.2222222222222222,
              "#7201a8"
             ],
             [
              0.3333333333333333,
              "#9c179e"
             ],
             [
              0.4444444444444444,
              "#bd3786"
             ],
             [
              0.5555555555555556,
              "#d8576b"
             ],
             [
              0.6666666666666666,
              "#ed7953"
             ],
             [
              0.7777777777777778,
              "#fb9f3a"
             ],
             [
              0.8888888888888888,
              "#fdca26"
             ],
             [
              1,
              "#f0f921"
             ]
            ],
            "type": "heatmap"
           }
          ],
          "heatmapgl": [
           {
            "colorbar": {
             "outlinewidth": 0,
             "ticks": ""
            },
            "colorscale": [
             [
              0,
              "#0d0887"
             ],
             [
              0.1111111111111111,
              "#46039f"
             ],
             [
              0.2222222222222222,
              "#7201a8"
             ],
             [
              0.3333333333333333,
              "#9c179e"
             ],
             [
              0.4444444444444444,
              "#bd3786"
             ],
             [
              0.5555555555555556,
              "#d8576b"
             ],
             [
              0.6666666666666666,
              "#ed7953"
             ],
             [
              0.7777777777777778,
              "#fb9f3a"
             ],
             [
              0.8888888888888888,
              "#fdca26"
             ],
             [
              1,
              "#f0f921"
             ]
            ],
            "type": "heatmapgl"
           }
          ],
          "histogram": [
           {
            "marker": {
             "pattern": {
              "fillmode": "overlay",
              "size": 10,
              "solidity": 0.2
             }
            },
            "type": "histogram"
           }
          ],
          "histogram2d": [
           {
            "colorbar": {
             "outlinewidth": 0,
             "ticks": ""
            },
            "colorscale": [
             [
              0,
              "#0d0887"
             ],
             [
              0.1111111111111111,
              "#46039f"
             ],
             [
              0.2222222222222222,
              "#7201a8"
             ],
             [
              0.3333333333333333,
              "#9c179e"
             ],
             [
              0.4444444444444444,
              "#bd3786"
             ],
             [
              0.5555555555555556,
              "#d8576b"
             ],
             [
              0.6666666666666666,
              "#ed7953"
             ],
             [
              0.7777777777777778,
              "#fb9f3a"
             ],
             [
              0.8888888888888888,
              "#fdca26"
             ],
             [
              1,
              "#f0f921"
             ]
            ],
            "type": "histogram2d"
           }
          ],
          "histogram2dcontour": [
           {
            "colorbar": {
             "outlinewidth": 0,
             "ticks": ""
            },
            "colorscale": [
             [
              0,
              "#0d0887"
             ],
             [
              0.1111111111111111,
              "#46039f"
             ],
             [
              0.2222222222222222,
              "#7201a8"
             ],
             [
              0.3333333333333333,
              "#9c179e"
             ],
             [
              0.4444444444444444,
              "#bd3786"
             ],
             [
              0.5555555555555556,
              "#d8576b"
             ],
             [
              0.6666666666666666,
              "#ed7953"
             ],
             [
              0.7777777777777778,
              "#fb9f3a"
             ],
             [
              0.8888888888888888,
              "#fdca26"
             ],
             [
              1,
              "#f0f921"
             ]
            ],
            "type": "histogram2dcontour"
           }
          ],
          "mesh3d": [
           {
            "colorbar": {
             "outlinewidth": 0,
             "ticks": ""
            },
            "type": "mesh3d"
           }
          ],
          "parcoords": [
           {
            "line": {
             "colorbar": {
              "outlinewidth": 0,
              "ticks": ""
             }
            },
            "type": "parcoords"
           }
          ],
          "pie": [
           {
            "automargin": true,
            "type": "pie"
           }
          ],
          "scatter": [
           {
            "fillpattern": {
             "fillmode": "overlay",
             "size": 10,
             "solidity": 0.2
            },
            "type": "scatter"
           }
          ],
          "scatter3d": [
           {
            "line": {
             "colorbar": {
              "outlinewidth": 0,
              "ticks": ""
             }
            },
            "marker": {
             "colorbar": {
              "outlinewidth": 0,
              "ticks": ""
             }
            },
            "type": "scatter3d"
           }
          ],
          "scattercarpet": [
           {
            "marker": {
             "colorbar": {
              "outlinewidth": 0,
              "ticks": ""
             }
            },
            "type": "scattercarpet"
           }
          ],
          "scattergeo": [
           {
            "marker": {
             "colorbar": {
              "outlinewidth": 0,
              "ticks": ""
             }
            },
            "type": "scattergeo"
           }
          ],
          "scattergl": [
           {
            "marker": {
             "colorbar": {
              "outlinewidth": 0,
              "ticks": ""
             }
            },
            "type": "scattergl"
           }
          ],
          "scattermapbox": [
           {
            "marker": {
             "colorbar": {
              "outlinewidth": 0,
              "ticks": ""
             }
            },
            "type": "scattermapbox"
           }
          ],
          "scatterpolar": [
           {
            "marker": {
             "colorbar": {
              "outlinewidth": 0,
              "ticks": ""
             }
            },
            "type": "scatterpolar"
           }
          ],
          "scatterpolargl": [
           {
            "marker": {
             "colorbar": {
              "outlinewidth": 0,
              "ticks": ""
             }
            },
            "type": "scatterpolargl"
           }
          ],
          "scatterternary": [
           {
            "marker": {
             "colorbar": {
              "outlinewidth": 0,
              "ticks": ""
             }
            },
            "type": "scatterternary"
           }
          ],
          "surface": [
           {
            "colorbar": {
             "outlinewidth": 0,
             "ticks": ""
            },
            "colorscale": [
             [
              0,
              "#0d0887"
             ],
             [
              0.1111111111111111,
              "#46039f"
             ],
             [
              0.2222222222222222,
              "#7201a8"
             ],
             [
              0.3333333333333333,
              "#9c179e"
             ],
             [
              0.4444444444444444,
              "#bd3786"
             ],
             [
              0.5555555555555556,
              "#d8576b"
             ],
             [
              0.6666666666666666,
              "#ed7953"
             ],
             [
              0.7777777777777778,
              "#fb9f3a"
             ],
             [
              0.8888888888888888,
              "#fdca26"
             ],
             [
              1,
              "#f0f921"
             ]
            ],
            "type": "surface"
           }
          ],
          "table": [
           {
            "cells": {
             "fill": {
              "color": "#EBF0F8"
             },
             "line": {
              "color": "white"
             }
            },
            "header": {
             "fill": {
              "color": "#C8D4E3"
             },
             "line": {
              "color": "white"
             }
            },
            "type": "table"
           }
          ]
         },
         "layout": {
          "annotationdefaults": {
           "arrowcolor": "#2a3f5f",
           "arrowhead": 0,
           "arrowwidth": 1
          },
          "autotypenumbers": "strict",
          "coloraxis": {
           "colorbar": {
            "outlinewidth": 0,
            "ticks": ""
           }
          },
          "colorscale": {
           "diverging": [
            [
             0,
             "#8e0152"
            ],
            [
             0.1,
             "#c51b7d"
            ],
            [
             0.2,
             "#de77ae"
            ],
            [
             0.3,
             "#f1b6da"
            ],
            [
             0.4,
             "#fde0ef"
            ],
            [
             0.5,
             "#f7f7f7"
            ],
            [
             0.6,
             "#e6f5d0"
            ],
            [
             0.7,
             "#b8e186"
            ],
            [
             0.8,
             "#7fbc41"
            ],
            [
             0.9,
             "#4d9221"
            ],
            [
             1,
             "#276419"
            ]
           ],
           "sequential": [
            [
             0,
             "#0d0887"
            ],
            [
             0.1111111111111111,
             "#46039f"
            ],
            [
             0.2222222222222222,
             "#7201a8"
            ],
            [
             0.3333333333333333,
             "#9c179e"
            ],
            [
             0.4444444444444444,
             "#bd3786"
            ],
            [
             0.5555555555555556,
             "#d8576b"
            ],
            [
             0.6666666666666666,
             "#ed7953"
            ],
            [
             0.7777777777777778,
             "#fb9f3a"
            ],
            [
             0.8888888888888888,
             "#fdca26"
            ],
            [
             1,
             "#f0f921"
            ]
           ],
           "sequentialminus": [
            [
             0,
             "#0d0887"
            ],
            [
             0.1111111111111111,
             "#46039f"
            ],
            [
             0.2222222222222222,
             "#7201a8"
            ],
            [
             0.3333333333333333,
             "#9c179e"
            ],
            [
             0.4444444444444444,
             "#bd3786"
            ],
            [
             0.5555555555555556,
             "#d8576b"
            ],
            [
             0.6666666666666666,
             "#ed7953"
            ],
            [
             0.7777777777777778,
             "#fb9f3a"
            ],
            [
             0.8888888888888888,
             "#fdca26"
            ],
            [
             1,
             "#f0f921"
            ]
           ]
          },
          "colorway": [
           "#636efa",
           "#EF553B",
           "#00cc96",
           "#ab63fa",
           "#FFA15A",
           "#19d3f3",
           "#FF6692",
           "#B6E880",
           "#FF97FF",
           "#FECB52"
          ],
          "font": {
           "color": "#2a3f5f"
          },
          "geo": {
           "bgcolor": "white",
           "lakecolor": "white",
           "landcolor": "#E5ECF6",
           "showlakes": true,
           "showland": true,
           "subunitcolor": "white"
          },
          "hoverlabel": {
           "align": "left"
          },
          "hovermode": "closest",
          "mapbox": {
           "style": "light"
          },
          "paper_bgcolor": "white",
          "plot_bgcolor": "#E5ECF6",
          "polar": {
           "angularaxis": {
            "gridcolor": "white",
            "linecolor": "white",
            "ticks": ""
           },
           "bgcolor": "#E5ECF6",
           "radialaxis": {
            "gridcolor": "white",
            "linecolor": "white",
            "ticks": ""
           }
          },
          "scene": {
           "xaxis": {
            "backgroundcolor": "#E5ECF6",
            "gridcolor": "white",
            "gridwidth": 2,
            "linecolor": "white",
            "showbackground": true,
            "ticks": "",
            "zerolinecolor": "white"
           },
           "yaxis": {
            "backgroundcolor": "#E5ECF6",
            "gridcolor": "white",
            "gridwidth": 2,
            "linecolor": "white",
            "showbackground": true,
            "ticks": "",
            "zerolinecolor": "white"
           },
           "zaxis": {
            "backgroundcolor": "#E5ECF6",
            "gridcolor": "white",
            "gridwidth": 2,
            "linecolor": "white",
            "showbackground": true,
            "ticks": "",
            "zerolinecolor": "white"
           }
          },
          "shapedefaults": {
           "line": {
            "color": "#2a3f5f"
           }
          },
          "ternary": {
           "aaxis": {
            "gridcolor": "white",
            "linecolor": "white",
            "ticks": ""
           },
           "baxis": {
            "gridcolor": "white",
            "linecolor": "white",
            "ticks": ""
           },
           "bgcolor": "#E5ECF6",
           "caxis": {
            "gridcolor": "white",
            "linecolor": "white",
            "ticks": ""
           }
          },
          "title": {
           "x": 0.05
          },
          "xaxis": {
           "automargin": true,
           "gridcolor": "white",
           "linecolor": "white",
           "ticks": "",
           "title": {
            "standoff": 15
           },
           "zerolinecolor": "white",
           "zerolinewidth": 2
          },
          "yaxis": {
           "automargin": true,
           "gridcolor": "white",
           "linecolor": "white",
           "ticks": "",
           "title": {
            "standoff": 15
           },
           "zerolinecolor": "white",
           "zerolinewidth": 2
          }
         }
        },
        "title": {
         "text": "Years of Life Lost for Scenario: Prioritise 75+"
        },
        "width": 800,
        "xaxis": {
         "linecolor": "black"
        },
        "yaxis": {
         "linecolor": "black"
        }
       }
      }
     },
     "metadata": {},
     "output_type": "display_data"
    },
    {
     "data": {
      "application/vnd.plotly.v1+json": {
       "config": {
        "plotlyServerURL": "https://plot.ly"
       },
       "data": [
        {
         "line": {
          "color": "blue"
         },
         "mode": "lines",
         "name": "region United Kingdom",
         "type": "scatter",
         "x": [
          1,
          2,
          3,
          4,
          5,
          6,
          7,
          8,
          9,
          10,
          11,
          12,
          13,
          14,
          15,
          16,
          17,
          18,
          19,
          20,
          21,
          22,
          23,
          24,
          25,
          26,
          27,
          28,
          29,
          30,
          31,
          32,
          33,
          34,
          35,
          36,
          37,
          38,
          39,
          40,
          41,
          42,
          43,
          44,
          45,
          46,
          47,
          48,
          49,
          50,
          51,
          52,
          53,
          54,
          55,
          56,
          57,
          58,
          59,
          60,
          61,
          62,
          63,
          64,
          65,
          66,
          67,
          68,
          69,
          70,
          71,
          72,
          73,
          74,
          75,
          76,
          77,
          78,
          79,
          80,
          81,
          82,
          83,
          84,
          85,
          86,
          87,
          88,
          89,
          90,
          91,
          92,
          93,
          94,
          95,
          96,
          97,
          98,
          99,
          100
         ],
         "y": [
          19.91968251924815,
          44.76687364127429,
          70.50738742103162,
          94.97119204745717,
          117.30016043161748,
          137.82469170850285,
          157.51311627498163,
          177.39167736529606,
          198.21252049010357,
          220.4087328931001,
          244.1677163969168,
          269.5713404881581,
          296.67418144705823,
          325.55966307555906,
          356.33443015816056,
          389.1258851435388,
          424.0705967793284,
          461.3002159332007,
          500.9378106837656,
          543.0962529375169,
          587.875753427434,
          635.3640786279784,
          685.6471719569184,
          738.797077131752,
          794.8655235120998,
          853.8816745288048,
          915.8516135994392,
          980.7581106825551,
          1048.5601909913678,
          1119.1896661183946,
          1191.040686006504,
          1264.6617007578654,
          1340.1974465241437,
          1417.6783042542693,
          1497.0188040448875,
          1578.0038956711196,
          1660.313099048243,
          1743.556901393868,
          1827.3082735060605,
          1911.1282285368718,
          1994.5769236635845,
          2077.2116105302134,
          2158.587205524054,
          2238.2562778684105,
          2315.7720227129685,
          2390.6910460252616,
          2462.5815664651345,
          2531.0372130409673,
          2595.6818708416504,
          2656.1729830858862,
          2712.204574605439,
          2763.509146315108,
          2809.8604444285074,
          2851.0769419880344,
          2887.0221707465257,
          2917.60383351575,
          2942.7737937817346,
          2962.5264597983164,
          2976.8971298430024,
          2985.956880476436,
          2989.8409719642227,
          2988.6865908918558,
          2982.662379215831,
          2971.9592286154393,
          2956.788117911721,
          2937.380805262363,
          2913.984614971597,
          2886.859060871034,
          2856.274901919504,
          2822.509815384755,
          2785.8461721220565,
          2746.568764220221,
          2704.96162319891,
          2661.3066381367053,
          2615.880864575051,
          2568.9552261656163,
          2520.7933618360025,
          2471.6493336512794,
          2421.7666608193113,
          2371.377648690651,
          2320.702280631135,
          2269.9477727573967,
          2219.30808796772,
          2168.963403953459,
          2119.0797666049593,
          2069.8091484481174,
          2021.2895869447634,
          1973.64512882409,
          1926.9861079457096,
          1881.4099534992215,
          1837.0014715039897,
          1793.8330995385963,
          1751.965617003912,
          1711.4492410619982,
          1672.3243794506316,
          1634.6221665769208,
          1598.3653641082058,
          1563.5691227054747,
          1530.241513129749,
          1498.3841961236976
         ]
        },
        {
         "fill": "toself",
         "fillcolor": "blue",
         "line": {
          "color": "blue"
         },
         "mode": "lines",
         "name": "region United Kingdom",
         "opacity": 0.15,
         "type": "scatter",
         "x": [
          1,
          2,
          3,
          4,
          5,
          6,
          7,
          8,
          9,
          10,
          11,
          12,
          13,
          14,
          15,
          16,
          17,
          18,
          19,
          20,
          21,
          22,
          23,
          24,
          25,
          26,
          27,
          28,
          29,
          30,
          31,
          32,
          33,
          34,
          35,
          36,
          37,
          38,
          39,
          40,
          41,
          42,
          43,
          44,
          45,
          46,
          47,
          48,
          49,
          50,
          51,
          52,
          53,
          54,
          55,
          56,
          57,
          58,
          59,
          60,
          61,
          62,
          63,
          64,
          65,
          66,
          67,
          68,
          69,
          70,
          71,
          72,
          73,
          74,
          75,
          76,
          77,
          78,
          79,
          80,
          81,
          82,
          83,
          84,
          85,
          86,
          87,
          88,
          89,
          90,
          91,
          92,
          93,
          94,
          95,
          96,
          97,
          98,
          99,
          100,
          100,
          99,
          98,
          97,
          96,
          95,
          94,
          93,
          92,
          91,
          90,
          89,
          88,
          87,
          86,
          85,
          84,
          83,
          82,
          81,
          80,
          79,
          78,
          77,
          76,
          75,
          74,
          73,
          72,
          71,
          70,
          69,
          68,
          67,
          66,
          65,
          64,
          63,
          62,
          61,
          60,
          59,
          58,
          57,
          56,
          55,
          54,
          53,
          52,
          51,
          50,
          49,
          48,
          47,
          46,
          45,
          44,
          43,
          42,
          41,
          40,
          39,
          38,
          37,
          36,
          35,
          34,
          33,
          32,
          31,
          30,
          29,
          28,
          27,
          26,
          25,
          24,
          23,
          22,
          21,
          20,
          19,
          18,
          17,
          16,
          15,
          14,
          13,
          12,
          11,
          10,
          9,
          8,
          7,
          6,
          5,
          4,
          3,
          2,
          1
         ],
         "y": [
          23.632746178765355,
          53.1152495792925,
          83.71332570748561,
          112.97254172975993,
          139.99066701067963,
          165.20243786097024,
          189.71289794388963,
          214.6386693236804,
          240.75441018916155,
          268.475293922982,
          297.95836989014794,
          329.26624626413627,
          362.45133666220914,
          397.61246327050304,
          434.87437832731894,
          474.37924579109256,
          516.2768945411417,
          560.7059556259572,
          607.7933442638409,
          657.6537457840667,
          710.3895127298191,
          766.0834397607941,
          824.8172307534344,
          886.664791411309,
          951.678671158517,
          1019.886858332924,
          1091.292048792156,
          1165.8718325644359,
          1243.579287604855,
          1324.3431015947597,
          1406.274898264894,
          1493.3466419048077,
          1584.718975061967,
          1678.4393416841262,
          1774.349833887701,
          1872.1482420690375,
          1971.4278515106057,
          2071.6918803122044,
          2172.399722285173,
          2273.0030187601005,
          2372.9545362173603,
          2471.7046403661325,
          2568.6978440331145,
          2663.37352935457,
          2755.175173011973,
          2846.0826869025263,
          2939.37881134257,
          3029.2727392836355,
          3115.26917378986,
          3196.887979922237,
          3273.6897332172025,
          3345.281828118341,
          3411.3206878799756,
          3471.5102202745406,
          3525.601259430717,
          3573.3898933106166,
          3614.723154465373,
          3649.512010387762,
          3677.718156906945,
          3699.349709866281,
          3714.4888095151773,
          3723.2264410967778,
          3725.694273733933,
          3722.0594204296904,
          3712.5195316441263,
          3697.3236754976933,
          3676.7455119564856,
          3651.0755727607757,
          3620.615922564359,
          3585.68126984194,
          3546.598149738836,
          3503.702039439403,
          3457.335842405838,
          3407.8451628001344,
          3355.575306746991,
          3300.8698297770848,
          3244.0651686347987,
          3185.4888831311378,
          3125.458047736912,
          3064.279176412705,
          3002.246272398328,
          2939.6398965761355,
          2876.7266609885496,
          2813.758514354943,
          2750.969688315272,
          2688.5776440677446,
          2626.7831176785216,
          2565.7692419132454,
          2505.7023430485433,
          2446.7324463070477,
          2388.9937147060677,
          2332.6048575827035,
          2277.669525087123,
          2224.276991036333,
          2172.5029840183274,
          2122.4087547487334,
          2074.0429369386234,
          2027.443337939831,
          1982.6380756925853,
          1939.6463128921987,
          941.7818156556559,
          962.2086913727867,
          983.9637766577491,
          1007.0802269853789,
          1031.5881945422768,
          1057.5143315505454,
          1084.881217950751,
          1113.7066179024832,
          1144.0023949568208,
          1175.7736303139122,
          1209.0178725247915,
          1243.7240402870445,
          1279.8706596273169,
          1317.425683187826,
          1356.3456226356911,
          1396.5741476025644,
          1432.676572876862,
          1468.171397122842,
          1504.2563805013597,
          1540.8269140068694,
          1577.7678464433686,
          1614.9529042282527,
          1652.2447100867898,
          1689.49491134051,
          1726.5444612752344,
          1763.2243393816632,
          1799.3561958895855,
          1834.75263101966,
          1869.2174693986574,
          1902.5476012012493,
          1934.534415490014,
          1964.964627057152,
          1993.6220641953123,
          2020.2878977163814,
          2044.740577456549,
          2066.7582374849053,
          2086.122998060644,
          2102.6286736916577,
          2116.0769665946773,
          2126.283506540842,
          2133.0768597422607,
          2136.2991626061594,
          2135.780386099648,
          2131.391944758087,
          2123.0248806559284,
          2110.5970930304866,
          2094.0741339688407,
          2073.4443757597924,
          2048.72956134841,
          2019.9859442890854,
          1987.3053752790258,
          1950.8161911152017,
          1910.6836998634265,
          1867.1097678450274,
          1820.3323162764927,
          1770.6171140390468,
          1718.2497329462017,
          1663.5351889906854,
          1606.797321219456,
          1548.3793389349441,
          1488.6434915734671,
          1427.9684148332817,
          1366.7281676098278,
          1305.2923503847082,
          1244.0338040900842,
          1183.3011646144591,
          1123.3868772964613,
          1064.490750457806,
          1006.7009426989842,
          941.702135085816,
          877.9008718576036,
          815.8691174554157,
          756.7488392624555,
          700.6068172816222,
          647.4697915681362,
          597.3398895839117,
          550.1899436304777,
          505.97119513725636,
          464.61301520271405,
          426.0232227125239,
          390.08981756258436,
          356.6871144698513,
          325.69734856199466,
          296.9872798675754,
          270.41826147790914,
          245.84779012902075,
          223.13409718964888,
          202.14812921098942,
          182.78048831773674,
          164.94096050324688,
          148.55383746949744,
          133.51084568013428,
          119.61482206611758,
          106.47820773790403,
          93.48433323633915,
          79.83841866176517,
          64.82115568439679,
          48.20502538440179,
          30.62586099227276,
          13.628335313458567
         ]
        },
        {
         "line": {
          "color": "red"
         },
         "mode": "lines",
         "name": "region France",
         "type": "scatter",
         "x": [
          1,
          2,
          3,
          4,
          5,
          6,
          7,
          8,
          9,
          10,
          11,
          12,
          13,
          14,
          15,
          16,
          17,
          18,
          19,
          20,
          21,
          22,
          23,
          24,
          25,
          26,
          27,
          28,
          29,
          30,
          31,
          32,
          33,
          34,
          35,
          36,
          37,
          38,
          39,
          40,
          41,
          42,
          43,
          44,
          45,
          46,
          47,
          48,
          49,
          50,
          51,
          52,
          53,
          54,
          55,
          56,
          57,
          58,
          59,
          60,
          61,
          62,
          63,
          64,
          65,
          66,
          67,
          68,
          69,
          70,
          71,
          72,
          73,
          74,
          75,
          76,
          77,
          78,
          79,
          80,
          81,
          82,
          83,
          84,
          85,
          86,
          87,
          88,
          89,
          90,
          91,
          92,
          93,
          94,
          95,
          96,
          97,
          98,
          99,
          100
         ],
         "y": [
          20.51706143810914,
          46.11997199536317,
          72.81208492143486,
          98.78059589997905,
          123.68016231103178,
          148.30153914655807,
          173.9054812142057,
          201.63944238908078,
          232.2686194801903,
          266.21349145975034,
          303.68437430671673,
          344.84306004297775,
          389.88291061555987,
          439.05693479181036,
          492.64938883701774,
          550.9597109842731,
          614.2759605816481,
          682.8525477110958,
          756.9005113328546,
          836.5820479526877,
          922.008486702057,
          1013.2437298116208,
          1110.2783074961571,
          1213.01439055178,
          1321.2627660074918,
          1434.7416333569581,
          1553.0716828728557,
          1675.7558529894025,
          1802.1832309093202,
          1931.6418577867398,
          2061.771386834676,
          2192.3790875791283,
          2322.801978033764,
          2452.198986067614,
          2579.602020956642,
          2703.947078642175,
          2824.1218492107887,
          2939.027242317237,
          3047.630437831201,
          3149.0038216609723,
          3242.348850141504,
          3327.000284575722,
          3402.4239484378522,
          3468.2165539456955,
          3524.109766139474,
          3569.9728979141555,
          3605.798168165952,
          3631.6889359856405,
          3647.8497659394843,
          3654.5760794938215,
          3652.243928112139,
          3641.290124974149,
          3622.1994282937694,
          3595.48844071582,
          3561.6958482592686,
          3521.376173271424,
          3475.092565209784,
          3423.410498290632,
          3366.8918217607015,
          3306.08960106708,
          3241.574472707411,
          3173.872745467097,
          3103.496273342499,
          3030.942672988314,
          2956.6924614113905,
          2881.2074934334337,
          2804.9303819338793,
          2728.2828148004787,
          2651.6633182932464,
          2575.4446007471065,
          2499.970977290787,
          2425.557535721995,
          2352.489296990365,
          2281.0209603831977,
          2211.377001563464,
          2143.7512701958835,
          2078.307893525205,
          2015.182646389791,
          1954.4841273980057,
          1896.2954992547823,
          1840.6761475314051,
          1787.6636751591545,
          1737.2766083082065,
          1689.5167580941927,
          1644.3713942444904,
          1601.8151783068793,
          1561.8119154892752,
          1524.31647640443,
          1489.276543253825,
          1456.6340459054006,
          1426.326614777065,
          1398.288647326483,
          1372.4522931941037,
          1348.7483325758037,
          1327.10699036657,
          1307.4585849543307,
          1289.7340409487279,
          1273.8653570062677,
          1259.785974493687,
          1247.4310691327876
         ]
        },
        {
         "fill": "toself",
         "fillcolor": "red",
         "line": {
          "color": "red"
         },
         "mode": "lines",
         "name": "region France",
         "opacity": 0.15,
         "type": "scatter",
         "x": [
          1,
          2,
          3,
          4,
          5,
          6,
          7,
          8,
          9,
          10,
          11,
          12,
          13,
          14,
          15,
          16,
          17,
          18,
          19,
          20,
          21,
          22,
          23,
          24,
          25,
          26,
          27,
          28,
          29,
          30,
          31,
          32,
          33,
          34,
          35,
          36,
          37,
          38,
          39,
          40,
          41,
          42,
          43,
          44,
          45,
          46,
          47,
          48,
          49,
          50,
          51,
          52,
          53,
          54,
          55,
          56,
          57,
          58,
          59,
          60,
          61,
          62,
          63,
          64,
          65,
          66,
          67,
          68,
          69,
          70,
          71,
          72,
          73,
          74,
          75,
          76,
          77,
          78,
          79,
          80,
          81,
          82,
          83,
          84,
          85,
          86,
          87,
          88,
          89,
          90,
          91,
          92,
          93,
          94,
          95,
          96,
          97,
          98,
          99,
          100,
          100,
          99,
          98,
          97,
          96,
          95,
          94,
          93,
          92,
          91,
          90,
          89,
          88,
          87,
          86,
          85,
          84,
          83,
          82,
          81,
          80,
          79,
          78,
          77,
          76,
          75,
          74,
          73,
          72,
          71,
          70,
          69,
          68,
          67,
          66,
          65,
          64,
          63,
          62,
          61,
          60,
          59,
          58,
          57,
          56,
          55,
          54,
          53,
          52,
          51,
          50,
          49,
          48,
          47,
          46,
          45,
          44,
          43,
          42,
          41,
          40,
          39,
          38,
          37,
          36,
          35,
          34,
          33,
          32,
          31,
          30,
          29,
          28,
          27,
          26,
          25,
          24,
          23,
          22,
          21,
          20,
          19,
          18,
          17,
          16,
          15,
          14,
          13,
          12,
          11,
          10,
          9,
          8,
          7,
          6,
          5,
          4,
          3,
          2,
          1
         ],
         "y": [
          24.341477572869888,
          54.72223276669154,
          86.47566742628929,
          117.6244271724218,
          147.92657335561265,
          178.38537087816763,
          210.44382277686668,
          245.33900078452322,
          283.84011733463484,
          326.3430843016865,
          373.0410985950643,
          424.1101148806063,
          479.78089136272206,
          540.3655903922222,
          606.1999468603598,
          677.6246159818583,
          754.95855903043,
          838.4785469895163,
          928.4085908712019,
          1024.9171667322123,
          1128.1060965156933,
          1238.0317188119234,
          1354.6767904972096,
          1477.9234102152216,
          1607.5473898100795,
          1743.218256777978,
          1884.5067893776593,
          2030.8574436827073,
          2181.579121321482,
          2335.8703909703077,
          2490.9874735121075,
          2646.764748444723,
          2806.1333350472196,
          2970.9624269512356,
          3134.3648249654043,
          3294.976348216375,
          3451.386363144278,
          3602.195293890108,
          3746.061540339948,
          3881.7317522627754,
          4008.0849994360033,
          4124.157045817155,
          4229.142009077363,
          4322.388606245053,
          4403.390704482876,
          4471.842472936634,
          4527.605557490769,
          4570.685321601659,
          4601.221302830196,
          4619.4803511837545,
          4625.838774354957,
          4620.784864273065,
          4604.884130507872,
          4578.747029964762,
          4543.018684317141,
          4498.374278909181,
          4445.514495066695,
          4385.151536710109,
          4318.00286643328,
          4244.777243033043,
          4166.202180277588,
          4082.957657587087,
          3995.7098931663013,
          3905.1105504901234,
          3811.792071146021,
          3716.3652937218253,
          3619.4174290317796,
          3521.5104828366134,
          3423.1793302152832,
          3324.929473796992,
          3227.2334116135,
          3130.5278831174605,
          3035.2083372561183,
          2941.633504439304,
          2850.126722075879,
          2760.9718302743,
          2674.4142484651948,
          2590.6623428639873,
          2509.8883307189676,
          2432.231322508638,
          2357.796099938981,
          2286.65712397834,
          2218.86224798033,
          2154.4366373515813,
          2093.3852395180356,
          2035.694600420592,
          1981.3344618281385,
          1930.2612768806905,
          1882.419046671044,
          1837.7431528145617,
          1796.1624413616441,
          1757.600616088454,
          1721.97729984608,
          1689.209014360731,
          1659.210449247681,
          1631.8954172700205,
          1607.2860402872884,
          1585.9619558922975,
          1566.925993329379,
          1550.1040790344955,
          860.6423080522412,
          865.8012799455216,
          872.0744077266742,
          879.5174976905222,
          888.1889032436625,
          898.1494220035001,
          909.4621940329507,
          922.1926441759861,
          936.408457983085,
          952.1791470440428,
          969.5756902148913,
          988.6700163495698,
          1009.5345123878376,
          1032.2413693161636,
          1056.8619377427176,
          1083.4653740509407,
          1112.117713157273,
          1142.8806447259108,
          1175.8094738940943,
          1210.9513420865758,
          1248.342242703961,
          1288.0049390082906,
          1329.9472429035393,
          1374.1605599990412,
          1420.6176895982412,
          1468.007596113445,
          1513.1413516064963,
          1559.7884779343044,
          1607.8299191349267,
          1657.1252819694641,
          1707.5121691284724,
          1758.8055213560103,
          1810.800326411389,
          1863.2717313753863,
          1915.9744957953355,
          1968.641521700094,
          2020.9893777560205,
          2072.72023639446,
          2123.522074730621,
          2173.0686451909583,
          2221.018712820132,
          2267.0169075150334,
          2310.6674604185305,
          2351.5889132603825,
          2389.3918754484175,
          2423.6791343433556,
          2454.0459169056185,
          2480.0816186178145,
          2501.3763789885343,
          2517.530314185002,
          2528.160733697939,
          2532.9080435256333,
          2531.438368436852,
          2523.4487549816004,
          2508.6819433058245,
          2486.9607219532463,
          2458.1747590440436,
          2422.294409114671,
          2379.372601582868,
          2329.550095854339,
          2273.064968699818,
          2210.2781615051767,
          2141.6469589402905,
          2067.730010898829,
          1989.1861389279238,
          1906.754395664109,
          1821.2017469228886,
          1733.2448946741042,
          1643.520462408442,
          1552.5814082040192,
          1460.8936411238672,
          1368.5635289338534,
          1265.4926498369462,
          1165.6864803786991,
          1069.8383314382145,
          978.4220687782004,
          891.7921870487037,
          810.1863518530263,
          733.7398928920561,
          662.5061809152476,
          596.4598760661911,
          535.4986524266064,
          479.4516494294802,
          428.1163680590432,
          381.2572747698779,
          338.6067000682217,
          299.87536177419446,
          264.7714110084728,
          233.0280576807447,
          204.4121808714497,
          178.7311014231696,
          155.80512344218096,
          135.40152932773935,
          117.11660201146991,
          100.29264592077041,
          84.02016001936681,
          67.3589370542956,
          49.766926404174306,
          31.550699753260098,
          14.03704063331303
         ]
        }
       ],
       "layout": {
        "boxmode": "group",
        "legend": {
         "orientation": "h",
         "x": 1,
         "xanchor": "right",
         "y": 1.02,
         "yanchor": "bottom"
        },
        "plot_bgcolor": "white",
        "template": {
         "data": {
          "bar": [
           {
            "error_x": {
             "color": "#2a3f5f"
            },
            "error_y": {
             "color": "#2a3f5f"
            },
            "marker": {
             "line": {
              "color": "#E5ECF6",
              "width": 0.5
             },
             "pattern": {
              "fillmode": "overlay",
              "size": 10,
              "solidity": 0.2
             }
            },
            "type": "bar"
           }
          ],
          "barpolar": [
           {
            "marker": {
             "line": {
              "color": "#E5ECF6",
              "width": 0.5
             },
             "pattern": {
              "fillmode": "overlay",
              "size": 10,
              "solidity": 0.2
             }
            },
            "type": "barpolar"
           }
          ],
          "carpet": [
           {
            "aaxis": {
             "endlinecolor": "#2a3f5f",
             "gridcolor": "white",
             "linecolor": "white",
             "minorgridcolor": "white",
             "startlinecolor": "#2a3f5f"
            },
            "baxis": {
             "endlinecolor": "#2a3f5f",
             "gridcolor": "white",
             "linecolor": "white",
             "minorgridcolor": "white",
             "startlinecolor": "#2a3f5f"
            },
            "type": "carpet"
           }
          ],
          "choropleth": [
           {
            "colorbar": {
             "outlinewidth": 0,
             "ticks": ""
            },
            "type": "choropleth"
           }
          ],
          "contour": [
           {
            "colorbar": {
             "outlinewidth": 0,
             "ticks": ""
            },
            "colorscale": [
             [
              0,
              "#0d0887"
             ],
             [
              0.1111111111111111,
              "#46039f"
             ],
             [
              0.2222222222222222,
              "#7201a8"
             ],
             [
              0.3333333333333333,
              "#9c179e"
             ],
             [
              0.4444444444444444,
              "#bd3786"
             ],
             [
              0.5555555555555556,
              "#d8576b"
             ],
             [
              0.6666666666666666,
              "#ed7953"
             ],
             [
              0.7777777777777778,
              "#fb9f3a"
             ],
             [
              0.8888888888888888,
              "#fdca26"
             ],
             [
              1,
              "#f0f921"
             ]
            ],
            "type": "contour"
           }
          ],
          "contourcarpet": [
           {
            "colorbar": {
             "outlinewidth": 0,
             "ticks": ""
            },
            "type": "contourcarpet"
           }
          ],
          "heatmap": [
           {
            "colorbar": {
             "outlinewidth": 0,
             "ticks": ""
            },
            "colorscale": [
             [
              0,
              "#0d0887"
             ],
             [
              0.1111111111111111,
              "#46039f"
             ],
             [
              0.2222222222222222,
              "#7201a8"
             ],
             [
              0.3333333333333333,
              "#9c179e"
             ],
             [
              0.4444444444444444,
              "#bd3786"
             ],
             [
              0.5555555555555556,
              "#d8576b"
             ],
             [
              0.6666666666666666,
              "#ed7953"
             ],
             [
              0.7777777777777778,
              "#fb9f3a"
             ],
             [
              0.8888888888888888,
              "#fdca26"
             ],
             [
              1,
              "#f0f921"
             ]
            ],
            "type": "heatmap"
           }
          ],
          "heatmapgl": [
           {
            "colorbar": {
             "outlinewidth": 0,
             "ticks": ""
            },
            "colorscale": [
             [
              0,
              "#0d0887"
             ],
             [
              0.1111111111111111,
              "#46039f"
             ],
             [
              0.2222222222222222,
              "#7201a8"
             ],
             [
              0.3333333333333333,
              "#9c179e"
             ],
             [
              0.4444444444444444,
              "#bd3786"
             ],
             [
              0.5555555555555556,
              "#d8576b"
             ],
             [
              0.6666666666666666,
              "#ed7953"
             ],
             [
              0.7777777777777778,
              "#fb9f3a"
             ],
             [
              0.8888888888888888,
              "#fdca26"
             ],
             [
              1,
              "#f0f921"
             ]
            ],
            "type": "heatmapgl"
           }
          ],
          "histogram": [
           {
            "marker": {
             "pattern": {
              "fillmode": "overlay",
              "size": 10,
              "solidity": 0.2
             }
            },
            "type": "histogram"
           }
          ],
          "histogram2d": [
           {
            "colorbar": {
             "outlinewidth": 0,
             "ticks": ""
            },
            "colorscale": [
             [
              0,
              "#0d0887"
             ],
             [
              0.1111111111111111,
              "#46039f"
             ],
             [
              0.2222222222222222,
              "#7201a8"
             ],
             [
              0.3333333333333333,
              "#9c179e"
             ],
             [
              0.4444444444444444,
              "#bd3786"
             ],
             [
              0.5555555555555556,
              "#d8576b"
             ],
             [
              0.6666666666666666,
              "#ed7953"
             ],
             [
              0.7777777777777778,
              "#fb9f3a"
             ],
             [
              0.8888888888888888,
              "#fdca26"
             ],
             [
              1,
              "#f0f921"
             ]
            ],
            "type": "histogram2d"
           }
          ],
          "histogram2dcontour": [
           {
            "colorbar": {
             "outlinewidth": 0,
             "ticks": ""
            },
            "colorscale": [
             [
              0,
              "#0d0887"
             ],
             [
              0.1111111111111111,
              "#46039f"
             ],
             [
              0.2222222222222222,
              "#7201a8"
             ],
             [
              0.3333333333333333,
              "#9c179e"
             ],
             [
              0.4444444444444444,
              "#bd3786"
             ],
             [
              0.5555555555555556,
              "#d8576b"
             ],
             [
              0.6666666666666666,
              "#ed7953"
             ],
             [
              0.7777777777777778,
              "#fb9f3a"
             ],
             [
              0.8888888888888888,
              "#fdca26"
             ],
             [
              1,
              "#f0f921"
             ]
            ],
            "type": "histogram2dcontour"
           }
          ],
          "mesh3d": [
           {
            "colorbar": {
             "outlinewidth": 0,
             "ticks": ""
            },
            "type": "mesh3d"
           }
          ],
          "parcoords": [
           {
            "line": {
             "colorbar": {
              "outlinewidth": 0,
              "ticks": ""
             }
            },
            "type": "parcoords"
           }
          ],
          "pie": [
           {
            "automargin": true,
            "type": "pie"
           }
          ],
          "scatter": [
           {
            "fillpattern": {
             "fillmode": "overlay",
             "size": 10,
             "solidity": 0.2
            },
            "type": "scatter"
           }
          ],
          "scatter3d": [
           {
            "line": {
             "colorbar": {
              "outlinewidth": 0,
              "ticks": ""
             }
            },
            "marker": {
             "colorbar": {
              "outlinewidth": 0,
              "ticks": ""
             }
            },
            "type": "scatter3d"
           }
          ],
          "scattercarpet": [
           {
            "marker": {
             "colorbar": {
              "outlinewidth": 0,
              "ticks": ""
             }
            },
            "type": "scattercarpet"
           }
          ],
          "scattergeo": [
           {
            "marker": {
             "colorbar": {
              "outlinewidth": 0,
              "ticks": ""
             }
            },
            "type": "scattergeo"
           }
          ],
          "scattergl": [
           {
            "marker": {
             "colorbar": {
              "outlinewidth": 0,
              "ticks": ""
             }
            },
            "type": "scattergl"
           }
          ],
          "scattermapbox": [
           {
            "marker": {
             "colorbar": {
              "outlinewidth": 0,
              "ticks": ""
             }
            },
            "type": "scattermapbox"
           }
          ],
          "scatterpolar": [
           {
            "marker": {
             "colorbar": {
              "outlinewidth": 0,
              "ticks": ""
             }
            },
            "type": "scatterpolar"
           }
          ],
          "scatterpolargl": [
           {
            "marker": {
             "colorbar": {
              "outlinewidth": 0,
              "ticks": ""
             }
            },
            "type": "scatterpolargl"
           }
          ],
          "scatterternary": [
           {
            "marker": {
             "colorbar": {
              "outlinewidth": 0,
              "ticks": ""
             }
            },
            "type": "scatterternary"
           }
          ],
          "surface": [
           {
            "colorbar": {
             "outlinewidth": 0,
             "ticks": ""
            },
            "colorscale": [
             [
              0,
              "#0d0887"
             ],
             [
              0.1111111111111111,
              "#46039f"
             ],
             [
              0.2222222222222222,
              "#7201a8"
             ],
             [
              0.3333333333333333,
              "#9c179e"
             ],
             [
              0.4444444444444444,
              "#bd3786"
             ],
             [
              0.5555555555555556,
              "#d8576b"
             ],
             [
              0.6666666666666666,
              "#ed7953"
             ],
             [
              0.7777777777777778,
              "#fb9f3a"
             ],
             [
              0.8888888888888888,
              "#fdca26"
             ],
             [
              1,
              "#f0f921"
             ]
            ],
            "type": "surface"
           }
          ],
          "table": [
           {
            "cells": {
             "fill": {
              "color": "#EBF0F8"
             },
             "line": {
              "color": "white"
             }
            },
            "header": {
             "fill": {
              "color": "#C8D4E3"
             },
             "line": {
              "color": "white"
             }
            },
            "type": "table"
           }
          ]
         },
         "layout": {
          "annotationdefaults": {
           "arrowcolor": "#2a3f5f",
           "arrowhead": 0,
           "arrowwidth": 1
          },
          "autotypenumbers": "strict",
          "coloraxis": {
           "colorbar": {
            "outlinewidth": 0,
            "ticks": ""
           }
          },
          "colorscale": {
           "diverging": [
            [
             0,
             "#8e0152"
            ],
            [
             0.1,
             "#c51b7d"
            ],
            [
             0.2,
             "#de77ae"
            ],
            [
             0.3,
             "#f1b6da"
            ],
            [
             0.4,
             "#fde0ef"
            ],
            [
             0.5,
             "#f7f7f7"
            ],
            [
             0.6,
             "#e6f5d0"
            ],
            [
             0.7,
             "#b8e186"
            ],
            [
             0.8,
             "#7fbc41"
            ],
            [
             0.9,
             "#4d9221"
            ],
            [
             1,
             "#276419"
            ]
           ],
           "sequential": [
            [
             0,
             "#0d0887"
            ],
            [
             0.1111111111111111,
             "#46039f"
            ],
            [
             0.2222222222222222,
             "#7201a8"
            ],
            [
             0.3333333333333333,
             "#9c179e"
            ],
            [
             0.4444444444444444,
             "#bd3786"
            ],
            [
             0.5555555555555556,
             "#d8576b"
            ],
            [
             0.6666666666666666,
             "#ed7953"
            ],
            [
             0.7777777777777778,
             "#fb9f3a"
            ],
            [
             0.8888888888888888,
             "#fdca26"
            ],
            [
             1,
             "#f0f921"
            ]
           ],
           "sequentialminus": [
            [
             0,
             "#0d0887"
            ],
            [
             0.1111111111111111,
             "#46039f"
            ],
            [
             0.2222222222222222,
             "#7201a8"
            ],
            [
             0.3333333333333333,
             "#9c179e"
            ],
            [
             0.4444444444444444,
             "#bd3786"
            ],
            [
             0.5555555555555556,
             "#d8576b"
            ],
            [
             0.6666666666666666,
             "#ed7953"
            ],
            [
             0.7777777777777778,
             "#fb9f3a"
            ],
            [
             0.8888888888888888,
             "#fdca26"
            ],
            [
             1,
             "#f0f921"
            ]
           ]
          },
          "colorway": [
           "#636efa",
           "#EF553B",
           "#00cc96",
           "#ab63fa",
           "#FFA15A",
           "#19d3f3",
           "#FF6692",
           "#B6E880",
           "#FF97FF",
           "#FECB52"
          ],
          "font": {
           "color": "#2a3f5f"
          },
          "geo": {
           "bgcolor": "white",
           "lakecolor": "white",
           "landcolor": "#E5ECF6",
           "showlakes": true,
           "showland": true,
           "subunitcolor": "white"
          },
          "hoverlabel": {
           "align": "left"
          },
          "hovermode": "closest",
          "mapbox": {
           "style": "light"
          },
          "paper_bgcolor": "white",
          "plot_bgcolor": "#E5ECF6",
          "polar": {
           "angularaxis": {
            "gridcolor": "white",
            "linecolor": "white",
            "ticks": ""
           },
           "bgcolor": "#E5ECF6",
           "radialaxis": {
            "gridcolor": "white",
            "linecolor": "white",
            "ticks": ""
           }
          },
          "scene": {
           "xaxis": {
            "backgroundcolor": "#E5ECF6",
            "gridcolor": "white",
            "gridwidth": 2,
            "linecolor": "white",
            "showbackground": true,
            "ticks": "",
            "zerolinecolor": "white"
           },
           "yaxis": {
            "backgroundcolor": "#E5ECF6",
            "gridcolor": "white",
            "gridwidth": 2,
            "linecolor": "white",
            "showbackground": true,
            "ticks": "",
            "zerolinecolor": "white"
           },
           "zaxis": {
            "backgroundcolor": "#E5ECF6",
            "gridcolor": "white",
            "gridwidth": 2,
            "linecolor": "white",
            "showbackground": true,
            "ticks": "",
            "zerolinecolor": "white"
           }
          },
          "shapedefaults": {
           "line": {
            "color": "#2a3f5f"
           }
          },
          "ternary": {
           "aaxis": {
            "gridcolor": "white",
            "linecolor": "white",
            "ticks": ""
           },
           "baxis": {
            "gridcolor": "white",
            "linecolor": "white",
            "ticks": ""
           },
           "bgcolor": "#E5ECF6",
           "caxis": {
            "gridcolor": "white",
            "linecolor": "white",
            "ticks": ""
           }
          },
          "title": {
           "x": 0.05
          },
          "xaxis": {
           "automargin": true,
           "gridcolor": "white",
           "linecolor": "white",
           "ticks": "",
           "title": {
            "standoff": 15
           },
           "zerolinecolor": "white",
           "zerolinewidth": 2
          },
          "yaxis": {
           "automargin": true,
           "gridcolor": "white",
           "linecolor": "white",
           "ticks": "",
           "title": {
            "standoff": 15
           },
           "zerolinecolor": "white",
           "zerolinewidth": 2
          }
         }
        },
        "title": {
         "text": "Years of Life Lost for Scenario: Prioritise 60-70 then 75+"
        },
        "width": 800,
        "xaxis": {
         "linecolor": "black"
        },
        "yaxis": {
         "linecolor": "black"
        }
       }
      }
     },
     "metadata": {},
     "output_type": "display_data"
    },
    {
     "data": {
      "application/vnd.plotly.v1+json": {
       "config": {
        "plotlyServerURL": "https://plot.ly"
       },
       "data": [
        {
         "line": {
          "color": "blue"
         },
         "mode": "lines",
         "name": "region United Kingdom",
         "type": "scatter",
         "x": [
          1,
          2,
          3,
          4,
          5,
          6,
          7,
          8,
          9,
          10,
          11,
          12,
          13,
          14,
          15,
          16,
          17,
          18,
          19,
          20,
          21,
          22,
          23,
          24,
          25,
          26,
          27,
          28,
          29,
          30,
          31,
          32,
          33,
          34,
          35,
          36,
          37,
          38,
          39,
          40,
          41,
          42,
          43,
          44,
          45,
          46,
          47,
          48,
          49,
          50,
          51,
          52,
          53,
          54,
          55,
          56,
          57,
          58,
          59,
          60,
          61,
          62,
          63,
          64,
          65,
          66,
          67,
          68,
          69,
          70,
          71,
          72,
          73,
          74,
          75,
          76,
          77,
          78,
          79,
          80,
          81,
          82,
          83,
          84,
          85,
          86,
          87,
          88,
          89,
          90,
          91,
          92,
          93,
          94,
          95,
          96,
          97,
          98,
          99,
          100
         ],
         "y": [
          19.91968251924815,
          44.76687364127429,
          70.50738742103162,
          94.97119204745717,
          117.30016043161748,
          137.82469170850285,
          157.51311627498163,
          177.39167736529606,
          198.21252049010357,
          220.4087328931001,
          244.1677163969168,
          269.5713404881581,
          296.67418144705823,
          325.55966307555906,
          356.33443015816056,
          389.1258851435388,
          424.0705967793284,
          461.3002159332007,
          500.9378106837656,
          543.0962529375169,
          587.875753427434,
          635.3640786279784,
          685.6471719569184,
          738.797077131752,
          794.8655235120998,
          853.8816745288048,
          915.8516135994392,
          980.7581106825551,
          1048.5601909913678,
          1119.1896661183946,
          1191.040686006504,
          1264.6617007578654,
          1340.1974465241437,
          1417.6783042542693,
          1497.0188040448875,
          1578.0038956711196,
          1660.313099048243,
          1743.556901393868,
          1827.3082735060605,
          1911.1282285368718,
          1994.5769236635845,
          2077.2116105302134,
          2158.587205524054,
          2238.2562778684105,
          2315.7720227129685,
          2390.6910460252616,
          2462.5815664651345,
          2531.0372130409673,
          2595.6818708416504,
          2656.1729830858862,
          2712.204574605439,
          2763.509146315108,
          2809.8604444285074,
          2851.0769419880344,
          2887.0221707465257,
          2917.60383351575,
          2942.7737937817346,
          2962.5264597983164,
          2976.8971298430024,
          2985.956880476436,
          2989.8409719642227,
          2988.6865908918558,
          2982.662379215831,
          2971.9592286154393,
          2956.788117911721,
          2937.380805262363,
          2913.984614971597,
          2886.859060871034,
          2856.274901919504,
          2822.509815384755,
          2785.8461721220565,
          2746.568764220221,
          2704.96162319891,
          2661.3066381367053,
          2615.880864575051,
          2568.9552261656163,
          2520.7933618360025,
          2471.6493336512794,
          2421.7666608193113,
          2371.377648690651,
          2320.702280631135,
          2269.9477727573967,
          2219.30808796772,
          2168.963403953459,
          2119.0797666049593,
          2069.8091484481174,
          2021.2895869447634,
          1973.64512882409,
          1926.9861079457096,
          1881.4099534992215,
          1837.0014715039897,
          1793.8330995385963,
          1751.965617003912,
          1711.4492410619982,
          1672.3243794506316,
          1634.6221665769208,
          1598.3653641082058,
          1563.5691227054747,
          1530.241513129749,
          1498.3841961236976
         ]
        },
        {
         "fill": "toself",
         "fillcolor": "blue",
         "line": {
          "color": "blue"
         },
         "mode": "lines",
         "name": "region United Kingdom",
         "opacity": 0.15,
         "type": "scatter",
         "x": [
          1,
          2,
          3,
          4,
          5,
          6,
          7,
          8,
          9,
          10,
          11,
          12,
          13,
          14,
          15,
          16,
          17,
          18,
          19,
          20,
          21,
          22,
          23,
          24,
          25,
          26,
          27,
          28,
          29,
          30,
          31,
          32,
          33,
          34,
          35,
          36,
          37,
          38,
          39,
          40,
          41,
          42,
          43,
          44,
          45,
          46,
          47,
          48,
          49,
          50,
          51,
          52,
          53,
          54,
          55,
          56,
          57,
          58,
          59,
          60,
          61,
          62,
          63,
          64,
          65,
          66,
          67,
          68,
          69,
          70,
          71,
          72,
          73,
          74,
          75,
          76,
          77,
          78,
          79,
          80,
          81,
          82,
          83,
          84,
          85,
          86,
          87,
          88,
          89,
          90,
          91,
          92,
          93,
          94,
          95,
          96,
          97,
          98,
          99,
          100,
          100,
          99,
          98,
          97,
          96,
          95,
          94,
          93,
          92,
          91,
          90,
          89,
          88,
          87,
          86,
          85,
          84,
          83,
          82,
          81,
          80,
          79,
          78,
          77,
          76,
          75,
          74,
          73,
          72,
          71,
          70,
          69,
          68,
          67,
          66,
          65,
          64,
          63,
          62,
          61,
          60,
          59,
          58,
          57,
          56,
          55,
          54,
          53,
          52,
          51,
          50,
          49,
          48,
          47,
          46,
          45,
          44,
          43,
          42,
          41,
          40,
          39,
          38,
          37,
          36,
          35,
          34,
          33,
          32,
          31,
          30,
          29,
          28,
          27,
          26,
          25,
          24,
          23,
          22,
          21,
          20,
          19,
          18,
          17,
          16,
          15,
          14,
          13,
          12,
          11,
          10,
          9,
          8,
          7,
          6,
          5,
          4,
          3,
          2,
          1
         ],
         "y": [
          23.632746178765355,
          53.1152495792925,
          83.71332570748561,
          112.97254172975993,
          139.99066701067963,
          165.20243786097024,
          189.71289794388963,
          214.6386693236804,
          240.75441018916155,
          268.475293922982,
          297.95836989014794,
          329.26624626413627,
          362.45133666220914,
          397.61246327050304,
          434.87437832731894,
          474.37924579109256,
          516.2768945411417,
          560.7059556259572,
          607.7933442638409,
          657.6537457840667,
          710.3895127298191,
          766.0834397607941,
          824.8172307534344,
          886.664791411309,
          951.678671158517,
          1019.886858332924,
          1091.292048792156,
          1165.8718325644359,
          1243.579287604855,
          1324.3431015947597,
          1406.274898264894,
          1493.3466419048077,
          1584.718975061967,
          1678.4393416841262,
          1774.349833887701,
          1872.1482420690375,
          1971.4278515106057,
          2071.6918803122044,
          2172.399722285173,
          2273.0030187601005,
          2372.9545362173603,
          2471.7046403661325,
          2568.6978440331145,
          2663.37352935457,
          2755.175173011973,
          2846.0826869025263,
          2939.37881134257,
          3029.2727392836355,
          3115.26917378986,
          3196.887979922237,
          3273.6897332172025,
          3345.281828118341,
          3411.3206878799756,
          3471.5102202745406,
          3525.601259430717,
          3573.3898933106166,
          3614.723154465373,
          3649.512010387762,
          3677.718156906945,
          3699.349709866281,
          3714.4888095151773,
          3723.2264410967778,
          3725.694273733933,
          3722.0594204296904,
          3712.5195316441263,
          3697.3236754976933,
          3676.7455119564856,
          3651.0755727607757,
          3620.615922564359,
          3585.68126984194,
          3546.598149738836,
          3503.702039439403,
          3457.335842405838,
          3407.8451628001344,
          3355.575306746991,
          3300.8698297770848,
          3244.0651686347987,
          3185.4888831311378,
          3125.458047736912,
          3064.279176412705,
          3002.246272398328,
          2939.6398965761355,
          2876.7266609885496,
          2813.758514354943,
          2750.969688315272,
          2688.5776440677446,
          2626.7831176785216,
          2565.7692419132454,
          2505.7023430485433,
          2446.7324463070477,
          2388.9937147060677,
          2332.6048575827035,
          2277.669525087123,
          2224.276991036333,
          2172.5029840183274,
          2122.4087547487334,
          2074.0429369386234,
          2027.443337939831,
          1982.6380756925853,
          1939.6463128921987,
          941.7818156556559,
          962.2086913727867,
          983.9637766577491,
          1007.0802269853789,
          1031.5881945422768,
          1057.5143315505454,
          1084.881217950751,
          1113.7066179024832,
          1144.0023949568208,
          1175.7736303139122,
          1209.0178725247915,
          1243.7240402870445,
          1279.8706596273169,
          1317.425683187826,
          1356.3456226356911,
          1396.5741476025644,
          1432.676572876862,
          1468.171397122842,
          1504.2563805013597,
          1540.8269140068694,
          1577.7678464433686,
          1614.9529042282527,
          1652.2447100867898,
          1689.49491134051,
          1726.5444612752344,
          1763.2243393816632,
          1799.3561958895855,
          1834.75263101966,
          1869.2174693986574,
          1902.5476012012493,
          1934.534415490014,
          1964.964627057152,
          1993.6220641953123,
          2020.2878977163814,
          2044.740577456549,
          2066.7582374849053,
          2086.122998060644,
          2102.6286736916577,
          2116.0769665946773,
          2126.283506540842,
          2133.0768597422607,
          2136.2991626061594,
          2135.780386099648,
          2131.391944758087,
          2123.0248806559284,
          2110.5970930304866,
          2094.0741339688407,
          2073.4443757597924,
          2048.72956134841,
          2019.9859442890854,
          1987.3053752790258,
          1950.8161911152017,
          1910.6836998634265,
          1867.1097678450274,
          1820.3323162764927,
          1770.6171140390468,
          1718.2497329462017,
          1663.5351889906854,
          1606.797321219456,
          1548.3793389349441,
          1488.6434915734671,
          1427.9684148332817,
          1366.7281676098278,
          1305.2923503847082,
          1244.0338040900842,
          1183.3011646144591,
          1123.3868772964613,
          1064.490750457806,
          1006.7009426989842,
          941.702135085816,
          877.9008718576036,
          815.8691174554157,
          756.7488392624555,
          700.6068172816222,
          647.4697915681362,
          597.3398895839117,
          550.1899436304777,
          505.97119513725636,
          464.61301520271405,
          426.0232227125239,
          390.08981756258436,
          356.6871144698513,
          325.69734856199466,
          296.9872798675754,
          270.41826147790914,
          245.84779012902075,
          223.13409718964888,
          202.14812921098942,
          182.78048831773674,
          164.94096050324688,
          148.55383746949744,
          133.51084568013428,
          119.61482206611758,
          106.47820773790403,
          93.48433323633915,
          79.83841866176517,
          64.82115568439679,
          48.20502538440179,
          30.62586099227276,
          13.628335313458567
         ]
        },
        {
         "line": {
          "color": "red"
         },
         "mode": "lines",
         "name": "region France",
         "type": "scatter",
         "x": [
          1,
          2,
          3,
          4,
          5,
          6,
          7,
          8,
          9,
          10,
          11,
          12,
          13,
          14,
          15,
          16,
          17,
          18,
          19,
          20,
          21,
          22,
          23,
          24,
          25,
          26,
          27,
          28,
          29,
          30,
          31,
          32,
          33,
          34,
          35,
          36,
          37,
          38,
          39,
          40,
          41,
          42,
          43,
          44,
          45,
          46,
          47,
          48,
          49,
          50,
          51,
          52,
          53,
          54,
          55,
          56,
          57,
          58,
          59,
          60,
          61,
          62,
          63,
          64,
          65,
          66,
          67,
          68,
          69,
          70,
          71,
          72,
          73,
          74,
          75,
          76,
          77,
          78,
          79,
          80,
          81,
          82,
          83,
          84,
          85,
          86,
          87,
          88,
          89,
          90,
          91,
          92,
          93,
          94,
          95,
          96,
          97,
          98,
          99,
          100
         ],
         "y": [
          20.51706143810914,
          46.11997199536317,
          72.81208492143486,
          98.78059589997905,
          123.68016231103178,
          148.30153914655807,
          173.9054812142057,
          201.63944238908078,
          232.2686194801903,
          266.21349145975034,
          303.68437430671673,
          344.84306004297775,
          389.88291061555987,
          439.05693479181036,
          492.64938883701774,
          550.9597109842731,
          614.2759605816481,
          682.8525477110958,
          756.9005113328546,
          836.5820479526877,
          922.008486702057,
          1013.2437298116208,
          1110.2783074961571,
          1213.01439055178,
          1321.2627660074918,
          1434.7416333569581,
          1553.0716828728557,
          1675.7558529894025,
          1802.1832309093202,
          1931.6418577867398,
          2061.771386834676,
          2192.3790875791283,
          2322.801978033764,
          2452.198986067614,
          2579.602020956642,
          2703.947078642175,
          2824.1218492107887,
          2939.027242317237,
          3047.630437831201,
          3149.0038216609723,
          3242.348850141504,
          3327.000284575722,
          3402.4239484378522,
          3468.2165539456955,
          3524.109766139474,
          3569.9728979141555,
          3605.798168165952,
          3631.6889359856405,
          3647.8497659394843,
          3654.5760794938215,
          3652.243928112139,
          3641.290124974149,
          3622.1994282937694,
          3595.48844071582,
          3561.6958482592686,
          3521.376173271424,
          3475.092565209784,
          3423.410498290632,
          3366.8918217607015,
          3306.08960106708,
          3241.574472707411,
          3173.872745467097,
          3103.496273342499,
          3030.942672988314,
          2956.6924614113905,
          2881.2074934334337,
          2804.9303819338793,
          2728.2828148004787,
          2651.6633182932464,
          2575.4446007471065,
          2499.970977290787,
          2425.557535721995,
          2352.489296990365,
          2281.0209603831977,
          2211.377001563464,
          2143.7512701958835,
          2078.307893525205,
          2015.182646389791,
          1954.4841273980057,
          1896.2954992547823,
          1840.6761475314051,
          1787.6636751591545,
          1737.2766083082065,
          1689.5167580941927,
          1644.3713942444904,
          1601.8151783068793,
          1561.8119154892752,
          1524.31647640443,
          1489.276543253825,
          1456.6340459054006,
          1426.326614777065,
          1398.288647326483,
          1372.4522931941037,
          1348.7483325758037,
          1327.10699036657,
          1307.4585849543307,
          1289.7340409487279,
          1273.8653570062677,
          1259.785974493687,
          1247.4310691327876
         ]
        },
        {
         "fill": "toself",
         "fillcolor": "red",
         "line": {
          "color": "red"
         },
         "mode": "lines",
         "name": "region France",
         "opacity": 0.15,
         "type": "scatter",
         "x": [
          1,
          2,
          3,
          4,
          5,
          6,
          7,
          8,
          9,
          10,
          11,
          12,
          13,
          14,
          15,
          16,
          17,
          18,
          19,
          20,
          21,
          22,
          23,
          24,
          25,
          26,
          27,
          28,
          29,
          30,
          31,
          32,
          33,
          34,
          35,
          36,
          37,
          38,
          39,
          40,
          41,
          42,
          43,
          44,
          45,
          46,
          47,
          48,
          49,
          50,
          51,
          52,
          53,
          54,
          55,
          56,
          57,
          58,
          59,
          60,
          61,
          62,
          63,
          64,
          65,
          66,
          67,
          68,
          69,
          70,
          71,
          72,
          73,
          74,
          75,
          76,
          77,
          78,
          79,
          80,
          81,
          82,
          83,
          84,
          85,
          86,
          87,
          88,
          89,
          90,
          91,
          92,
          93,
          94,
          95,
          96,
          97,
          98,
          99,
          100,
          100,
          99,
          98,
          97,
          96,
          95,
          94,
          93,
          92,
          91,
          90,
          89,
          88,
          87,
          86,
          85,
          84,
          83,
          82,
          81,
          80,
          79,
          78,
          77,
          76,
          75,
          74,
          73,
          72,
          71,
          70,
          69,
          68,
          67,
          66,
          65,
          64,
          63,
          62,
          61,
          60,
          59,
          58,
          57,
          56,
          55,
          54,
          53,
          52,
          51,
          50,
          49,
          48,
          47,
          46,
          45,
          44,
          43,
          42,
          41,
          40,
          39,
          38,
          37,
          36,
          35,
          34,
          33,
          32,
          31,
          30,
          29,
          28,
          27,
          26,
          25,
          24,
          23,
          22,
          21,
          20,
          19,
          18,
          17,
          16,
          15,
          14,
          13,
          12,
          11,
          10,
          9,
          8,
          7,
          6,
          5,
          4,
          3,
          2,
          1
         ],
         "y": [
          24.341477572869888,
          54.72223276669154,
          86.47566742628929,
          117.6244271724218,
          147.92657335561265,
          178.38537087816763,
          210.44382277686668,
          245.33900078452322,
          283.84011733463484,
          326.3430843016865,
          373.0410985950643,
          424.1101148806063,
          479.78089136272206,
          540.3655903922222,
          606.1999468603598,
          677.6246159818583,
          754.95855903043,
          838.4785469895163,
          928.4085908712019,
          1024.9171667322123,
          1128.1060965156933,
          1238.0317188119234,
          1354.6767904972096,
          1477.9234102152216,
          1607.5473898100795,
          1743.218256777978,
          1884.5067893776593,
          2030.8574436827073,
          2181.579121321482,
          2335.8703909703077,
          2490.9874735121075,
          2646.764748444723,
          2806.1333350472196,
          2970.9624269512356,
          3134.3648249654043,
          3294.976348216375,
          3451.386363144278,
          3602.195293890108,
          3746.061540339948,
          3881.7317522627754,
          4008.0849994360033,
          4124.157045817155,
          4229.142009077363,
          4322.388606245053,
          4403.390704482876,
          4471.842472936634,
          4527.605557490769,
          4570.685321601659,
          4601.221302830196,
          4619.4803511837545,
          4625.838774354957,
          4620.784864273065,
          4604.884130507872,
          4578.747029964762,
          4543.018684317141,
          4498.374278909181,
          4445.514495066695,
          4385.151536710109,
          4318.00286643328,
          4244.777243033043,
          4166.202180277588,
          4082.957657587087,
          3995.7098931663013,
          3905.1105504901234,
          3811.792071146021,
          3716.3652937218253,
          3619.4174290317796,
          3521.5104828366134,
          3423.1793302152832,
          3324.929473796992,
          3227.2334116135,
          3130.5278831174605,
          3035.2083372561183,
          2941.633504439304,
          2850.126722075879,
          2760.9718302743,
          2674.4142484651948,
          2590.6623428639873,
          2509.8883307189676,
          2432.231322508638,
          2357.796099938981,
          2286.65712397834,
          2218.86224798033,
          2154.4366373515813,
          2093.3852395180356,
          2035.694600420592,
          1981.3344618281385,
          1930.2612768806905,
          1882.419046671044,
          1837.7431528145617,
          1796.1624413616441,
          1757.600616088454,
          1721.97729984608,
          1689.209014360731,
          1659.210449247681,
          1631.8954172700205,
          1607.2860402872884,
          1585.9619558922975,
          1566.925993329379,
          1550.1040790344955,
          860.6423080522412,
          865.8012799455216,
          872.0744077266742,
          879.5174976905222,
          888.1889032436625,
          898.1494220035001,
          909.4621940329507,
          922.1926441759861,
          936.408457983085,
          952.1791470440428,
          969.5756902148913,
          988.6700163495698,
          1009.5345123878376,
          1032.2413693161636,
          1056.8619377427176,
          1083.4653740509407,
          1112.117713157273,
          1142.8806447259108,
          1175.8094738940943,
          1210.9513420865758,
          1248.342242703961,
          1288.0049390082906,
          1329.9472429035393,
          1374.1605599990412,
          1420.6176895982412,
          1468.007596113445,
          1513.1413516064963,
          1559.7884779343044,
          1607.8299191349267,
          1657.1252819694641,
          1707.5121691284724,
          1758.8055213560103,
          1810.800326411389,
          1863.2717313753863,
          1915.9744957953355,
          1968.641521700094,
          2020.9893777560205,
          2072.72023639446,
          2123.522074730621,
          2173.0686451909583,
          2221.018712820132,
          2267.0169075150334,
          2310.6674604185305,
          2351.5889132603825,
          2389.3918754484175,
          2423.6791343433556,
          2454.0459169056185,
          2480.0816186178145,
          2501.3763789885343,
          2517.530314185002,
          2528.160733697939,
          2532.9080435256333,
          2531.438368436852,
          2523.4487549816004,
          2508.6819433058245,
          2486.9607219532463,
          2458.1747590440436,
          2422.294409114671,
          2379.372601582868,
          2329.550095854339,
          2273.064968699818,
          2210.2781615051767,
          2141.6469589402905,
          2067.730010898829,
          1989.1861389279238,
          1906.754395664109,
          1821.2017469228886,
          1733.2448946741042,
          1643.520462408442,
          1552.5814082040192,
          1460.8936411238672,
          1368.5635289338534,
          1265.4926498369462,
          1165.6864803786991,
          1069.8383314382145,
          978.4220687782004,
          891.7921870487037,
          810.1863518530263,
          733.7398928920561,
          662.5061809152476,
          596.4598760661911,
          535.4986524266064,
          479.4516494294802,
          428.1163680590432,
          381.2572747698779,
          338.6067000682217,
          299.87536177419446,
          264.7714110084728,
          233.0280576807447,
          204.4121808714497,
          178.7311014231696,
          155.80512344218096,
          135.40152932773935,
          117.11660201146991,
          100.29264592077041,
          84.02016001936681,
          67.3589370542956,
          49.766926404174306,
          31.550699753260098,
          14.03704063331303
         ]
        }
       ],
       "layout": {
        "boxmode": "group",
        "legend": {
         "orientation": "h",
         "x": 1,
         "xanchor": "right",
         "y": 1.02,
         "yanchor": "bottom"
        },
        "plot_bgcolor": "white",
        "template": {
         "data": {
          "bar": [
           {
            "error_x": {
             "color": "#2a3f5f"
            },
            "error_y": {
             "color": "#2a3f5f"
            },
            "marker": {
             "line": {
              "color": "#E5ECF6",
              "width": 0.5
             },
             "pattern": {
              "fillmode": "overlay",
              "size": 10,
              "solidity": 0.2
             }
            },
            "type": "bar"
           }
          ],
          "barpolar": [
           {
            "marker": {
             "line": {
              "color": "#E5ECF6",
              "width": 0.5
             },
             "pattern": {
              "fillmode": "overlay",
              "size": 10,
              "solidity": 0.2
             }
            },
            "type": "barpolar"
           }
          ],
          "carpet": [
           {
            "aaxis": {
             "endlinecolor": "#2a3f5f",
             "gridcolor": "white",
             "linecolor": "white",
             "minorgridcolor": "white",
             "startlinecolor": "#2a3f5f"
            },
            "baxis": {
             "endlinecolor": "#2a3f5f",
             "gridcolor": "white",
             "linecolor": "white",
             "minorgridcolor": "white",
             "startlinecolor": "#2a3f5f"
            },
            "type": "carpet"
           }
          ],
          "choropleth": [
           {
            "colorbar": {
             "outlinewidth": 0,
             "ticks": ""
            },
            "type": "choropleth"
           }
          ],
          "contour": [
           {
            "colorbar": {
             "outlinewidth": 0,
             "ticks": ""
            },
            "colorscale": [
             [
              0,
              "#0d0887"
             ],
             [
              0.1111111111111111,
              "#46039f"
             ],
             [
              0.2222222222222222,
              "#7201a8"
             ],
             [
              0.3333333333333333,
              "#9c179e"
             ],
             [
              0.4444444444444444,
              "#bd3786"
             ],
             [
              0.5555555555555556,
              "#d8576b"
             ],
             [
              0.6666666666666666,
              "#ed7953"
             ],
             [
              0.7777777777777778,
              "#fb9f3a"
             ],
             [
              0.8888888888888888,
              "#fdca26"
             ],
             [
              1,
              "#f0f921"
             ]
            ],
            "type": "contour"
           }
          ],
          "contourcarpet": [
           {
            "colorbar": {
             "outlinewidth": 0,
             "ticks": ""
            },
            "type": "contourcarpet"
           }
          ],
          "heatmap": [
           {
            "colorbar": {
             "outlinewidth": 0,
             "ticks": ""
            },
            "colorscale": [
             [
              0,
              "#0d0887"
             ],
             [
              0.1111111111111111,
              "#46039f"
             ],
             [
              0.2222222222222222,
              "#7201a8"
             ],
             [
              0.3333333333333333,
              "#9c179e"
             ],
             [
              0.4444444444444444,
              "#bd3786"
             ],
             [
              0.5555555555555556,
              "#d8576b"
             ],
             [
              0.6666666666666666,
              "#ed7953"
             ],
             [
              0.7777777777777778,
              "#fb9f3a"
             ],
             [
              0.8888888888888888,
              "#fdca26"
             ],
             [
              1,
              "#f0f921"
             ]
            ],
            "type": "heatmap"
           }
          ],
          "heatmapgl": [
           {
            "colorbar": {
             "outlinewidth": 0,
             "ticks": ""
            },
            "colorscale": [
             [
              0,
              "#0d0887"
             ],
             [
              0.1111111111111111,
              "#46039f"
             ],
             [
              0.2222222222222222,
              "#7201a8"
             ],
             [
              0.3333333333333333,
              "#9c179e"
             ],
             [
              0.4444444444444444,
              "#bd3786"
             ],
             [
              0.5555555555555556,
              "#d8576b"
             ],
             [
              0.6666666666666666,
              "#ed7953"
             ],
             [
              0.7777777777777778,
              "#fb9f3a"
             ],
             [
              0.8888888888888888,
              "#fdca26"
             ],
             [
              1,
              "#f0f921"
             ]
            ],
            "type": "heatmapgl"
           }
          ],
          "histogram": [
           {
            "marker": {
             "pattern": {
              "fillmode": "overlay",
              "size": 10,
              "solidity": 0.2
             }
            },
            "type": "histogram"
           }
          ],
          "histogram2d": [
           {
            "colorbar": {
             "outlinewidth": 0,
             "ticks": ""
            },
            "colorscale": [
             [
              0,
              "#0d0887"
             ],
             [
              0.1111111111111111,
              "#46039f"
             ],
             [
              0.2222222222222222,
              "#7201a8"
             ],
             [
              0.3333333333333333,
              "#9c179e"
             ],
             [
              0.4444444444444444,
              "#bd3786"
             ],
             [
              0.5555555555555556,
              "#d8576b"
             ],
             [
              0.6666666666666666,
              "#ed7953"
             ],
             [
              0.7777777777777778,
              "#fb9f3a"
             ],
             [
              0.8888888888888888,
              "#fdca26"
             ],
             [
              1,
              "#f0f921"
             ]
            ],
            "type": "histogram2d"
           }
          ],
          "histogram2dcontour": [
           {
            "colorbar": {
             "outlinewidth": 0,
             "ticks": ""
            },
            "colorscale": [
             [
              0,
              "#0d0887"
             ],
             [
              0.1111111111111111,
              "#46039f"
             ],
             [
              0.2222222222222222,
              "#7201a8"
             ],
             [
              0.3333333333333333,
              "#9c179e"
             ],
             [
              0.4444444444444444,
              "#bd3786"
             ],
             [
              0.5555555555555556,
              "#d8576b"
             ],
             [
              0.6666666666666666,
              "#ed7953"
             ],
             [
              0.7777777777777778,
              "#fb9f3a"
             ],
             [
              0.8888888888888888,
              "#fdca26"
             ],
             [
              1,
              "#f0f921"
             ]
            ],
            "type": "histogram2dcontour"
           }
          ],
          "mesh3d": [
           {
            "colorbar": {
             "outlinewidth": 0,
             "ticks": ""
            },
            "type": "mesh3d"
           }
          ],
          "parcoords": [
           {
            "line": {
             "colorbar": {
              "outlinewidth": 0,
              "ticks": ""
             }
            },
            "type": "parcoords"
           }
          ],
          "pie": [
           {
            "automargin": true,
            "type": "pie"
           }
          ],
          "scatter": [
           {
            "fillpattern": {
             "fillmode": "overlay",
             "size": 10,
             "solidity": 0.2
            },
            "type": "scatter"
           }
          ],
          "scatter3d": [
           {
            "line": {
             "colorbar": {
              "outlinewidth": 0,
              "ticks": ""
             }
            },
            "marker": {
             "colorbar": {
              "outlinewidth": 0,
              "ticks": ""
             }
            },
            "type": "scatter3d"
           }
          ],
          "scattercarpet": [
           {
            "marker": {
             "colorbar": {
              "outlinewidth": 0,
              "ticks": ""
             }
            },
            "type": "scattercarpet"
           }
          ],
          "scattergeo": [
           {
            "marker": {
             "colorbar": {
              "outlinewidth": 0,
              "ticks": ""
             }
            },
            "type": "scattergeo"
           }
          ],
          "scattergl": [
           {
            "marker": {
             "colorbar": {
              "outlinewidth": 0,
              "ticks": ""
             }
            },
            "type": "scattergl"
           }
          ],
          "scattermapbox": [
           {
            "marker": {
             "colorbar": {
              "outlinewidth": 0,
              "ticks": ""
             }
            },
            "type": "scattermapbox"
           }
          ],
          "scatterpolar": [
           {
            "marker": {
             "colorbar": {
              "outlinewidth": 0,
              "ticks": ""
             }
            },
            "type": "scatterpolar"
           }
          ],
          "scatterpolargl": [
           {
            "marker": {
             "colorbar": {
              "outlinewidth": 0,
              "ticks": ""
             }
            },
            "type": "scatterpolargl"
           }
          ],
          "scatterternary": [
           {
            "marker": {
             "colorbar": {
              "outlinewidth": 0,
              "ticks": ""
             }
            },
            "type": "scatterternary"
           }
          ],
          "surface": [
           {
            "colorbar": {
             "outlinewidth": 0,
             "ticks": ""
            },
            "colorscale": [
             [
              0,
              "#0d0887"
             ],
             [
              0.1111111111111111,
              "#46039f"
             ],
             [
              0.2222222222222222,
              "#7201a8"
             ],
             [
              0.3333333333333333,
              "#9c179e"
             ],
             [
              0.4444444444444444,
              "#bd3786"
             ],
             [
              0.5555555555555556,
              "#d8576b"
             ],
             [
              0.6666666666666666,
              "#ed7953"
             ],
             [
              0.7777777777777778,
              "#fb9f3a"
             ],
             [
              0.8888888888888888,
              "#fdca26"
             ],
             [
              1,
              "#f0f921"
             ]
            ],
            "type": "surface"
           }
          ],
          "table": [
           {
            "cells": {
             "fill": {
              "color": "#EBF0F8"
             },
             "line": {
              "color": "white"
             }
            },
            "header": {
             "fill": {
              "color": "#C8D4E3"
             },
             "line": {
              "color": "white"
             }
            },
            "type": "table"
           }
          ]
         },
         "layout": {
          "annotationdefaults": {
           "arrowcolor": "#2a3f5f",
           "arrowhead": 0,
           "arrowwidth": 1
          },
          "autotypenumbers": "strict",
          "coloraxis": {
           "colorbar": {
            "outlinewidth": 0,
            "ticks": ""
           }
          },
          "colorscale": {
           "diverging": [
            [
             0,
             "#8e0152"
            ],
            [
             0.1,
             "#c51b7d"
            ],
            [
             0.2,
             "#de77ae"
            ],
            [
             0.3,
             "#f1b6da"
            ],
            [
             0.4,
             "#fde0ef"
            ],
            [
             0.5,
             "#f7f7f7"
            ],
            [
             0.6,
             "#e6f5d0"
            ],
            [
             0.7,
             "#b8e186"
            ],
            [
             0.8,
             "#7fbc41"
            ],
            [
             0.9,
             "#4d9221"
            ],
            [
             1,
             "#276419"
            ]
           ],
           "sequential": [
            [
             0,
             "#0d0887"
            ],
            [
             0.1111111111111111,
             "#46039f"
            ],
            [
             0.2222222222222222,
             "#7201a8"
            ],
            [
             0.3333333333333333,
             "#9c179e"
            ],
            [
             0.4444444444444444,
             "#bd3786"
            ],
            [
             0.5555555555555556,
             "#d8576b"
            ],
            [
             0.6666666666666666,
             "#ed7953"
            ],
            [
             0.7777777777777778,
             "#fb9f3a"
            ],
            [
             0.8888888888888888,
             "#fdca26"
            ],
            [
             1,
             "#f0f921"
            ]
           ],
           "sequentialminus": [
            [
             0,
             "#0d0887"
            ],
            [
             0.1111111111111111,
             "#46039f"
            ],
            [
             0.2222222222222222,
             "#7201a8"
            ],
            [
             0.3333333333333333,
             "#9c179e"
            ],
            [
             0.4444444444444444,
             "#bd3786"
            ],
            [
             0.5555555555555556,
             "#d8576b"
            ],
            [
             0.6666666666666666,
             "#ed7953"
            ],
            [
             0.7777777777777778,
             "#fb9f3a"
            ],
            [
             0.8888888888888888,
             "#fdca26"
            ],
            [
             1,
             "#f0f921"
            ]
           ]
          },
          "colorway": [
           "#636efa",
           "#EF553B",
           "#00cc96",
           "#ab63fa",
           "#FFA15A",
           "#19d3f3",
           "#FF6692",
           "#B6E880",
           "#FF97FF",
           "#FECB52"
          ],
          "font": {
           "color": "#2a3f5f"
          },
          "geo": {
           "bgcolor": "white",
           "lakecolor": "white",
           "landcolor": "#E5ECF6",
           "showlakes": true,
           "showland": true,
           "subunitcolor": "white"
          },
          "hoverlabel": {
           "align": "left"
          },
          "hovermode": "closest",
          "mapbox": {
           "style": "light"
          },
          "paper_bgcolor": "white",
          "plot_bgcolor": "#E5ECF6",
          "polar": {
           "angularaxis": {
            "gridcolor": "white",
            "linecolor": "white",
            "ticks": ""
           },
           "bgcolor": "#E5ECF6",
           "radialaxis": {
            "gridcolor": "white",
            "linecolor": "white",
            "ticks": ""
           }
          },
          "scene": {
           "xaxis": {
            "backgroundcolor": "#E5ECF6",
            "gridcolor": "white",
            "gridwidth": 2,
            "linecolor": "white",
            "showbackground": true,
            "ticks": "",
            "zerolinecolor": "white"
           },
           "yaxis": {
            "backgroundcolor": "#E5ECF6",
            "gridcolor": "white",
            "gridwidth": 2,
            "linecolor": "white",
            "showbackground": true,
            "ticks": "",
            "zerolinecolor": "white"
           },
           "zaxis": {
            "backgroundcolor": "#E5ECF6",
            "gridcolor": "white",
            "gridwidth": 2,
            "linecolor": "white",
            "showbackground": true,
            "ticks": "",
            "zerolinecolor": "white"
           }
          },
          "shapedefaults": {
           "line": {
            "color": "#2a3f5f"
           }
          },
          "ternary": {
           "aaxis": {
            "gridcolor": "white",
            "linecolor": "white",
            "ticks": ""
           },
           "baxis": {
            "gridcolor": "white",
            "linecolor": "white",
            "ticks": ""
           },
           "bgcolor": "#E5ECF6",
           "caxis": {
            "gridcolor": "white",
            "linecolor": "white",
            "ticks": ""
           }
          },
          "title": {
           "x": 0.05
          },
          "xaxis": {
           "automargin": true,
           "gridcolor": "white",
           "linecolor": "white",
           "ticks": "",
           "title": {
            "standoff": 15
           },
           "zerolinecolor": "white",
           "zerolinewidth": 2
          },
          "yaxis": {
           "automargin": true,
           "gridcolor": "white",
           "linecolor": "white",
           "ticks": "",
           "title": {
            "standoff": 15
           },
           "zerolinecolor": "white",
           "zerolinewidth": 2
          }
         }
        },
        "title": {
         "text": "Years of Life Lost for Scenario: Prioritise those 60-70 then 50-60, then 75+"
        },
        "width": 800,
        "xaxis": {
         "linecolor": "black"
        },
        "yaxis": {
         "linecolor": "black"
        }
       }
      }
     },
     "metadata": {},
     "output_type": "display_data"
    },
    {
     "data": {
      "application/vnd.plotly.v1+json": {
       "config": {
        "plotlyServerURL": "https://plot.ly"
       },
       "data": [
        {
         "line": {
          "color": "blue"
         },
         "mode": "lines",
         "name": "region United Kingdom",
         "type": "scatter",
         "x": [
          1,
          2,
          3,
          4,
          5,
          6,
          7,
          8,
          9,
          10,
          11,
          12,
          13,
          14,
          15,
          16,
          17,
          18,
          19,
          20,
          21,
          22,
          23,
          24,
          25,
          26,
          27,
          28,
          29,
          30,
          31,
          32,
          33,
          34,
          35,
          36,
          37,
          38,
          39,
          40,
          41,
          42,
          43,
          44,
          45,
          46,
          47,
          48,
          49,
          50,
          51,
          52,
          53,
          54,
          55,
          56,
          57,
          58,
          59,
          60,
          61,
          62,
          63,
          64,
          65,
          66,
          67,
          68,
          69,
          70,
          71,
          72,
          73,
          74,
          75,
          76,
          77,
          78,
          79,
          80,
          81,
          82,
          83,
          84,
          85,
          86,
          87,
          88,
          89,
          90,
          91,
          92,
          93,
          94,
          95,
          96,
          97,
          98,
          99,
          100
         ],
         "y": [
          19.91968251924815,
          44.76687364127429,
          70.50738742103162,
          94.97119204745717,
          117.30016043161748,
          137.82469170850285,
          157.51311627498163,
          177.39167736529606,
          198.21252049010357,
          220.4087328931001,
          244.1677163969168,
          269.5713404881581,
          296.67418144705823,
          325.55966307555906,
          356.33443015816056,
          389.1258851435388,
          424.0705967793284,
          461.3002159332007,
          500.9378106837656,
          543.0962529375169,
          587.875753427434,
          635.3640786279784,
          685.6471719569184,
          738.797077131752,
          794.8655235120998,
          853.8816745288048,
          915.8516135994392,
          980.7581106825551,
          1048.5601909913678,
          1119.1896661183946,
          1191.040686006504,
          1264.6617007578654,
          1340.1974465241437,
          1417.6783042542693,
          1497.0188040448875,
          1578.0038956711196,
          1660.313099048243,
          1743.556901393868,
          1827.3082735060605,
          1911.1282285368718,
          1994.5769236635845,
          2077.2116105302134,
          2158.587205524054,
          2238.2562778684105,
          2315.7720227129685,
          2390.6910460252616,
          2462.5815664651345,
          2531.0372130409673,
          2595.6818708416504,
          2656.1729830858862,
          2712.204574605439,
          2763.509146315108,
          2809.8604444285074,
          2851.0769419880344,
          2887.0221707465257,
          2917.60383351575,
          2942.7737937817346,
          2962.5264597983164,
          2976.8971298430024,
          2985.956880476436,
          2989.8409719642227,
          2988.6865908918558,
          2982.662379215831,
          2971.9592286154393,
          2956.788117911721,
          2937.380805262363,
          2913.984614971597,
          2886.859060871034,
          2856.274901919504,
          2822.509815384755,
          2785.8461721220565,
          2746.568764220221,
          2704.96162319891,
          2661.3066381367053,
          2615.880864575051,
          2568.9552261656163,
          2520.7933618360025,
          2471.6493336512794,
          2421.7666608193113,
          2371.377648690651,
          2320.702280631135,
          2269.9477727573967,
          2219.30808796772,
          2168.963403953459,
          2119.0797666049593,
          2069.8091484481174,
          2021.2895869447634,
          1973.64512882409,
          1926.9861079457096,
          1881.4099534992215,
          1837.0014715039897,
          1793.8330995385963,
          1751.965617003912,
          1711.4492410619982,
          1672.3243794506316,
          1634.6221665769208,
          1598.3653641082058,
          1563.5691227054747,
          1530.241513129749,
          1498.3841961236976
         ]
        },
        {
         "fill": "toself",
         "fillcolor": "blue",
         "line": {
          "color": "blue"
         },
         "mode": "lines",
         "name": "region United Kingdom",
         "opacity": 0.15,
         "type": "scatter",
         "x": [
          1,
          2,
          3,
          4,
          5,
          6,
          7,
          8,
          9,
          10,
          11,
          12,
          13,
          14,
          15,
          16,
          17,
          18,
          19,
          20,
          21,
          22,
          23,
          24,
          25,
          26,
          27,
          28,
          29,
          30,
          31,
          32,
          33,
          34,
          35,
          36,
          37,
          38,
          39,
          40,
          41,
          42,
          43,
          44,
          45,
          46,
          47,
          48,
          49,
          50,
          51,
          52,
          53,
          54,
          55,
          56,
          57,
          58,
          59,
          60,
          61,
          62,
          63,
          64,
          65,
          66,
          67,
          68,
          69,
          70,
          71,
          72,
          73,
          74,
          75,
          76,
          77,
          78,
          79,
          80,
          81,
          82,
          83,
          84,
          85,
          86,
          87,
          88,
          89,
          90,
          91,
          92,
          93,
          94,
          95,
          96,
          97,
          98,
          99,
          100,
          100,
          99,
          98,
          97,
          96,
          95,
          94,
          93,
          92,
          91,
          90,
          89,
          88,
          87,
          86,
          85,
          84,
          83,
          82,
          81,
          80,
          79,
          78,
          77,
          76,
          75,
          74,
          73,
          72,
          71,
          70,
          69,
          68,
          67,
          66,
          65,
          64,
          63,
          62,
          61,
          60,
          59,
          58,
          57,
          56,
          55,
          54,
          53,
          52,
          51,
          50,
          49,
          48,
          47,
          46,
          45,
          44,
          43,
          42,
          41,
          40,
          39,
          38,
          37,
          36,
          35,
          34,
          33,
          32,
          31,
          30,
          29,
          28,
          27,
          26,
          25,
          24,
          23,
          22,
          21,
          20,
          19,
          18,
          17,
          16,
          15,
          14,
          13,
          12,
          11,
          10,
          9,
          8,
          7,
          6,
          5,
          4,
          3,
          2,
          1
         ],
         "y": [
          23.632746178765355,
          53.1152495792925,
          83.71332570748561,
          112.97254172975993,
          139.99066701067963,
          165.20243786097024,
          189.71289794388963,
          214.6386693236804,
          240.75441018916155,
          268.475293922982,
          297.95836989014794,
          329.26624626413627,
          362.45133666220914,
          397.61246327050304,
          434.87437832731894,
          474.37924579109256,
          516.2768945411417,
          560.7059556259572,
          607.7933442638409,
          657.6537457840667,
          710.3895127298191,
          766.0834397607941,
          824.8172307534344,
          886.664791411309,
          951.678671158517,
          1019.886858332924,
          1091.292048792156,
          1165.8718325644359,
          1243.579287604855,
          1324.3431015947597,
          1406.274898264894,
          1493.3466419048077,
          1584.718975061967,
          1678.4393416841262,
          1774.349833887701,
          1872.1482420690375,
          1971.4278515106057,
          2071.6918803122044,
          2172.399722285173,
          2273.0030187601005,
          2372.9545362173603,
          2471.7046403661325,
          2568.6978440331145,
          2663.37352935457,
          2755.175173011973,
          2846.0826869025263,
          2939.37881134257,
          3029.2727392836355,
          3115.26917378986,
          3196.887979922237,
          3273.6897332172025,
          3345.281828118341,
          3411.3206878799756,
          3471.5102202745406,
          3525.601259430717,
          3573.3898933106166,
          3614.723154465373,
          3649.512010387762,
          3677.718156906945,
          3699.349709866281,
          3714.4888095151773,
          3723.2264410967778,
          3725.694273733933,
          3722.0594204296904,
          3712.5195316441263,
          3697.3236754976933,
          3676.7455119564856,
          3651.0755727607757,
          3620.615922564359,
          3585.68126984194,
          3546.598149738836,
          3503.702039439403,
          3457.335842405838,
          3407.8451628001344,
          3355.575306746991,
          3300.8698297770848,
          3244.0651686347987,
          3185.4888831311378,
          3125.458047736912,
          3064.279176412705,
          3002.246272398328,
          2939.6398965761355,
          2876.7266609885496,
          2813.758514354943,
          2750.969688315272,
          2688.5776440677446,
          2626.7831176785216,
          2565.7692419132454,
          2505.7023430485433,
          2446.7324463070477,
          2388.9937147060677,
          2332.6048575827035,
          2277.669525087123,
          2224.276991036333,
          2172.5029840183274,
          2122.4087547487334,
          2074.0429369386234,
          2027.443337939831,
          1982.6380756925853,
          1939.6463128921987,
          941.7818156556559,
          962.2086913727867,
          983.9637766577491,
          1007.0802269853789,
          1031.5881945422768,
          1057.5143315505454,
          1084.881217950751,
          1113.7066179024832,
          1144.0023949568208,
          1175.7736303139122,
          1209.0178725247915,
          1243.7240402870445,
          1279.8706596273169,
          1317.425683187826,
          1356.3456226356911,
          1396.5741476025644,
          1432.676572876862,
          1468.171397122842,
          1504.2563805013597,
          1540.8269140068694,
          1577.7678464433686,
          1614.9529042282527,
          1652.2447100867898,
          1689.49491134051,
          1726.5444612752344,
          1763.2243393816632,
          1799.3561958895855,
          1834.75263101966,
          1869.2174693986574,
          1902.5476012012493,
          1934.534415490014,
          1964.964627057152,
          1993.6220641953123,
          2020.2878977163814,
          2044.740577456549,
          2066.7582374849053,
          2086.122998060644,
          2102.6286736916577,
          2116.0769665946773,
          2126.283506540842,
          2133.0768597422607,
          2136.2991626061594,
          2135.780386099648,
          2131.391944758087,
          2123.0248806559284,
          2110.5970930304866,
          2094.0741339688407,
          2073.4443757597924,
          2048.72956134841,
          2019.9859442890854,
          1987.3053752790258,
          1950.8161911152017,
          1910.6836998634265,
          1867.1097678450274,
          1820.3323162764927,
          1770.6171140390468,
          1718.2497329462017,
          1663.5351889906854,
          1606.797321219456,
          1548.3793389349441,
          1488.6434915734671,
          1427.9684148332817,
          1366.7281676098278,
          1305.2923503847082,
          1244.0338040900842,
          1183.3011646144591,
          1123.3868772964613,
          1064.490750457806,
          1006.7009426989842,
          941.702135085816,
          877.9008718576036,
          815.8691174554157,
          756.7488392624555,
          700.6068172816222,
          647.4697915681362,
          597.3398895839117,
          550.1899436304777,
          505.97119513725636,
          464.61301520271405,
          426.0232227125239,
          390.08981756258436,
          356.6871144698513,
          325.69734856199466,
          296.9872798675754,
          270.41826147790914,
          245.84779012902075,
          223.13409718964888,
          202.14812921098942,
          182.78048831773674,
          164.94096050324688,
          148.55383746949744,
          133.51084568013428,
          119.61482206611758,
          106.47820773790403,
          93.48433323633915,
          79.83841866176517,
          64.82115568439679,
          48.20502538440179,
          30.62586099227276,
          13.628335313458567
         ]
        },
        {
         "line": {
          "color": "red"
         },
         "mode": "lines",
         "name": "region France",
         "type": "scatter",
         "x": [
          1,
          2,
          3,
          4,
          5,
          6,
          7,
          8,
          9,
          10,
          11,
          12,
          13,
          14,
          15,
          16,
          17,
          18,
          19,
          20,
          21,
          22,
          23,
          24,
          25,
          26,
          27,
          28,
          29,
          30,
          31,
          32,
          33,
          34,
          35,
          36,
          37,
          38,
          39,
          40,
          41,
          42,
          43,
          44,
          45,
          46,
          47,
          48,
          49,
          50,
          51,
          52,
          53,
          54,
          55,
          56,
          57,
          58,
          59,
          60,
          61,
          62,
          63,
          64,
          65,
          66,
          67,
          68,
          69,
          70,
          71,
          72,
          73,
          74,
          75,
          76,
          77,
          78,
          79,
          80,
          81,
          82,
          83,
          84,
          85,
          86,
          87,
          88,
          89,
          90,
          91,
          92,
          93,
          94,
          95,
          96,
          97,
          98,
          99,
          100
         ],
         "y": [
          20.51706143810914,
          46.11997199536317,
          72.81208492143486,
          98.78059589997905,
          123.68016231103178,
          148.30153914655807,
          173.9054812142057,
          201.63944238908078,
          232.2686194801903,
          266.21349145975034,
          303.68437430671673,
          344.84306004297775,
          389.88291061555987,
          439.05693479181036,
          492.64938883701774,
          550.9597109842731,
          614.2759605816481,
          682.8525477110958,
          756.9005113328546,
          836.5820479526877,
          922.008486702057,
          1013.2437298116208,
          1110.2783074961571,
          1213.01439055178,
          1321.2627660074918,
          1434.7416333569581,
          1553.0716828728557,
          1675.7558529894025,
          1802.1832309093202,
          1931.6418577867398,
          2061.771386834676,
          2192.3790875791283,
          2322.801978033764,
          2452.198986067614,
          2579.602020956642,
          2703.947078642175,
          2824.1218492107887,
          2939.027242317237,
          3047.630437831201,
          3149.0038216609723,
          3242.348850141504,
          3327.000284575722,
          3402.4239484378522,
          3468.2165539456955,
          3524.109766139474,
          3569.9728979141555,
          3605.798168165952,
          3631.6889359856405,
          3647.8497659394843,
          3654.5760794938215,
          3652.243928112139,
          3641.290124974149,
          3622.1994282937694,
          3595.48844071582,
          3561.6958482592686,
          3521.376173271424,
          3475.092565209784,
          3423.410498290632,
          3366.8918217607015,
          3306.08960106708,
          3241.574472707411,
          3173.872745467097,
          3103.496273342499,
          3030.942672988314,
          2956.6924614113905,
          2881.2074934334337,
          2804.9303819338793,
          2728.2828148004787,
          2651.6633182932464,
          2575.4446007471065,
          2499.970977290787,
          2425.557535721995,
          2352.489296990365,
          2281.0209603831977,
          2211.377001563464,
          2143.7512701958835,
          2078.307893525205,
          2015.182646389791,
          1954.4841273980057,
          1896.2954992547823,
          1840.6761475314051,
          1787.6636751591545,
          1737.2766083082065,
          1689.5167580941927,
          1644.3713942444904,
          1601.8151783068793,
          1561.8119154892752,
          1524.31647640443,
          1489.276543253825,
          1456.6340459054006,
          1426.326614777065,
          1398.288647326483,
          1372.4522931941037,
          1348.7483325758037,
          1327.10699036657,
          1307.4585849543307,
          1289.7340409487279,
          1273.8653570062677,
          1259.785974493687,
          1247.4310691327876
         ]
        },
        {
         "fill": "toself",
         "fillcolor": "red",
         "line": {
          "color": "red"
         },
         "mode": "lines",
         "name": "region France",
         "opacity": 0.15,
         "type": "scatter",
         "x": [
          1,
          2,
          3,
          4,
          5,
          6,
          7,
          8,
          9,
          10,
          11,
          12,
          13,
          14,
          15,
          16,
          17,
          18,
          19,
          20,
          21,
          22,
          23,
          24,
          25,
          26,
          27,
          28,
          29,
          30,
          31,
          32,
          33,
          34,
          35,
          36,
          37,
          38,
          39,
          40,
          41,
          42,
          43,
          44,
          45,
          46,
          47,
          48,
          49,
          50,
          51,
          52,
          53,
          54,
          55,
          56,
          57,
          58,
          59,
          60,
          61,
          62,
          63,
          64,
          65,
          66,
          67,
          68,
          69,
          70,
          71,
          72,
          73,
          74,
          75,
          76,
          77,
          78,
          79,
          80,
          81,
          82,
          83,
          84,
          85,
          86,
          87,
          88,
          89,
          90,
          91,
          92,
          93,
          94,
          95,
          96,
          97,
          98,
          99,
          100,
          100,
          99,
          98,
          97,
          96,
          95,
          94,
          93,
          92,
          91,
          90,
          89,
          88,
          87,
          86,
          85,
          84,
          83,
          82,
          81,
          80,
          79,
          78,
          77,
          76,
          75,
          74,
          73,
          72,
          71,
          70,
          69,
          68,
          67,
          66,
          65,
          64,
          63,
          62,
          61,
          60,
          59,
          58,
          57,
          56,
          55,
          54,
          53,
          52,
          51,
          50,
          49,
          48,
          47,
          46,
          45,
          44,
          43,
          42,
          41,
          40,
          39,
          38,
          37,
          36,
          35,
          34,
          33,
          32,
          31,
          30,
          29,
          28,
          27,
          26,
          25,
          24,
          23,
          22,
          21,
          20,
          19,
          18,
          17,
          16,
          15,
          14,
          13,
          12,
          11,
          10,
          9,
          8,
          7,
          6,
          5,
          4,
          3,
          2,
          1
         ],
         "y": [
          24.341477572869888,
          54.72223276669154,
          86.47566742628929,
          117.6244271724218,
          147.92657335561265,
          178.38537087816763,
          210.44382277686668,
          245.33900078452322,
          283.84011733463484,
          326.3430843016865,
          373.0410985950643,
          424.1101148806063,
          479.78089136272206,
          540.3655903922222,
          606.1999468603598,
          677.6246159818583,
          754.95855903043,
          838.4785469895163,
          928.4085908712019,
          1024.9171667322123,
          1128.1060965156933,
          1238.0317188119234,
          1354.6767904972096,
          1477.9234102152216,
          1607.5473898100795,
          1743.218256777978,
          1884.5067893776593,
          2030.8574436827073,
          2181.579121321482,
          2335.8703909703077,
          2490.9874735121075,
          2646.764748444723,
          2806.1333350472196,
          2970.9624269512356,
          3134.3648249654043,
          3294.976348216375,
          3451.386363144278,
          3602.195293890108,
          3746.061540339948,
          3881.7317522627754,
          4008.0849994360033,
          4124.157045817155,
          4229.142009077363,
          4322.388606245053,
          4403.390704482876,
          4471.842472936634,
          4527.605557490769,
          4570.685321601659,
          4601.221302830196,
          4619.4803511837545,
          4625.838774354957,
          4620.784864273065,
          4604.884130507872,
          4578.747029964762,
          4543.018684317141,
          4498.374278909181,
          4445.514495066695,
          4385.151536710109,
          4318.00286643328,
          4244.777243033043,
          4166.202180277588,
          4082.957657587087,
          3995.7098931663013,
          3905.1105504901234,
          3811.792071146021,
          3716.3652937218253,
          3619.4174290317796,
          3521.5104828366134,
          3423.1793302152832,
          3324.929473796992,
          3227.2334116135,
          3130.5278831174605,
          3035.2083372561183,
          2941.633504439304,
          2850.126722075879,
          2760.9718302743,
          2674.4142484651948,
          2590.6623428639873,
          2509.8883307189676,
          2432.231322508638,
          2357.796099938981,
          2286.65712397834,
          2218.86224798033,
          2154.4366373515813,
          2093.3852395180356,
          2035.694600420592,
          1981.3344618281385,
          1930.2612768806905,
          1882.419046671044,
          1837.7431528145617,
          1796.1624413616441,
          1757.600616088454,
          1721.97729984608,
          1689.209014360731,
          1659.210449247681,
          1631.8954172700205,
          1607.2860402872884,
          1585.9619558922975,
          1566.925993329379,
          1550.1040790344955,
          860.6423080522412,
          865.8012799455216,
          872.0744077266742,
          879.5174976905222,
          888.1889032436625,
          898.1494220035001,
          909.4621940329507,
          922.1926441759861,
          936.408457983085,
          952.1791470440428,
          969.5756902148913,
          988.6700163495698,
          1009.5345123878376,
          1032.2413693161636,
          1056.8619377427176,
          1083.4653740509407,
          1112.117713157273,
          1142.8806447259108,
          1175.8094738940943,
          1210.9513420865758,
          1248.342242703961,
          1288.0049390082906,
          1329.9472429035393,
          1374.1605599990412,
          1420.6176895982412,
          1468.007596113445,
          1513.1413516064963,
          1559.7884779343044,
          1607.8299191349267,
          1657.1252819694641,
          1707.5121691284724,
          1758.8055213560103,
          1810.800326411389,
          1863.2717313753863,
          1915.9744957953355,
          1968.641521700094,
          2020.9893777560205,
          2072.72023639446,
          2123.522074730621,
          2173.0686451909583,
          2221.018712820132,
          2267.0169075150334,
          2310.6674604185305,
          2351.5889132603825,
          2389.3918754484175,
          2423.6791343433556,
          2454.0459169056185,
          2480.0816186178145,
          2501.3763789885343,
          2517.530314185002,
          2528.160733697939,
          2532.9080435256333,
          2531.438368436852,
          2523.4487549816004,
          2508.6819433058245,
          2486.9607219532463,
          2458.1747590440436,
          2422.294409114671,
          2379.372601582868,
          2329.550095854339,
          2273.064968699818,
          2210.2781615051767,
          2141.6469589402905,
          2067.730010898829,
          1989.1861389279238,
          1906.754395664109,
          1821.2017469228886,
          1733.2448946741042,
          1643.520462408442,
          1552.5814082040192,
          1460.8936411238672,
          1368.5635289338534,
          1265.4926498369462,
          1165.6864803786991,
          1069.8383314382145,
          978.4220687782004,
          891.7921870487037,
          810.1863518530263,
          733.7398928920561,
          662.5061809152476,
          596.4598760661911,
          535.4986524266064,
          479.4516494294802,
          428.1163680590432,
          381.2572747698779,
          338.6067000682217,
          299.87536177419446,
          264.7714110084728,
          233.0280576807447,
          204.4121808714497,
          178.7311014231696,
          155.80512344218096,
          135.40152932773935,
          117.11660201146991,
          100.29264592077041,
          84.02016001936681,
          67.3589370542956,
          49.766926404174306,
          31.550699753260098,
          14.03704063331303
         ]
        }
       ],
       "layout": {
        "boxmode": "group",
        "legend": {
         "orientation": "h",
         "x": 1,
         "xanchor": "right",
         "y": 1.02,
         "yanchor": "bottom"
        },
        "plot_bgcolor": "white",
        "template": {
         "data": {
          "bar": [
           {
            "error_x": {
             "color": "#2a3f5f"
            },
            "error_y": {
             "color": "#2a3f5f"
            },
            "marker": {
             "line": {
              "color": "#E5ECF6",
              "width": 0.5
             },
             "pattern": {
              "fillmode": "overlay",
              "size": 10,
              "solidity": 0.2
             }
            },
            "type": "bar"
           }
          ],
          "barpolar": [
           {
            "marker": {
             "line": {
              "color": "#E5ECF6",
              "width": 0.5
             },
             "pattern": {
              "fillmode": "overlay",
              "size": 10,
              "solidity": 0.2
             }
            },
            "type": "barpolar"
           }
          ],
          "carpet": [
           {
            "aaxis": {
             "endlinecolor": "#2a3f5f",
             "gridcolor": "white",
             "linecolor": "white",
             "minorgridcolor": "white",
             "startlinecolor": "#2a3f5f"
            },
            "baxis": {
             "endlinecolor": "#2a3f5f",
             "gridcolor": "white",
             "linecolor": "white",
             "minorgridcolor": "white",
             "startlinecolor": "#2a3f5f"
            },
            "type": "carpet"
           }
          ],
          "choropleth": [
           {
            "colorbar": {
             "outlinewidth": 0,
             "ticks": ""
            },
            "type": "choropleth"
           }
          ],
          "contour": [
           {
            "colorbar": {
             "outlinewidth": 0,
             "ticks": ""
            },
            "colorscale": [
             [
              0,
              "#0d0887"
             ],
             [
              0.1111111111111111,
              "#46039f"
             ],
             [
              0.2222222222222222,
              "#7201a8"
             ],
             [
              0.3333333333333333,
              "#9c179e"
             ],
             [
              0.4444444444444444,
              "#bd3786"
             ],
             [
              0.5555555555555556,
              "#d8576b"
             ],
             [
              0.6666666666666666,
              "#ed7953"
             ],
             [
              0.7777777777777778,
              "#fb9f3a"
             ],
             [
              0.8888888888888888,
              "#fdca26"
             ],
             [
              1,
              "#f0f921"
             ]
            ],
            "type": "contour"
           }
          ],
          "contourcarpet": [
           {
            "colorbar": {
             "outlinewidth": 0,
             "ticks": ""
            },
            "type": "contourcarpet"
           }
          ],
          "heatmap": [
           {
            "colorbar": {
             "outlinewidth": 0,
             "ticks": ""
            },
            "colorscale": [
             [
              0,
              "#0d0887"
             ],
             [
              0.1111111111111111,
              "#46039f"
             ],
             [
              0.2222222222222222,
              "#7201a8"
             ],
             [
              0.3333333333333333,
              "#9c179e"
             ],
             [
              0.4444444444444444,
              "#bd3786"
             ],
             [
              0.5555555555555556,
              "#d8576b"
             ],
             [
              0.6666666666666666,
              "#ed7953"
             ],
             [
              0.7777777777777778,
              "#fb9f3a"
             ],
             [
              0.8888888888888888,
              "#fdca26"
             ],
             [
              1,
              "#f0f921"
             ]
            ],
            "type": "heatmap"
           }
          ],
          "heatmapgl": [
           {
            "colorbar": {
             "outlinewidth": 0,
             "ticks": ""
            },
            "colorscale": [
             [
              0,
              "#0d0887"
             ],
             [
              0.1111111111111111,
              "#46039f"
             ],
             [
              0.2222222222222222,
              "#7201a8"
             ],
             [
              0.3333333333333333,
              "#9c179e"
             ],
             [
              0.4444444444444444,
              "#bd3786"
             ],
             [
              0.5555555555555556,
              "#d8576b"
             ],
             [
              0.6666666666666666,
              "#ed7953"
             ],
             [
              0.7777777777777778,
              "#fb9f3a"
             ],
             [
              0.8888888888888888,
              "#fdca26"
             ],
             [
              1,
              "#f0f921"
             ]
            ],
            "type": "heatmapgl"
           }
          ],
          "histogram": [
           {
            "marker": {
             "pattern": {
              "fillmode": "overlay",
              "size": 10,
              "solidity": 0.2
             }
            },
            "type": "histogram"
           }
          ],
          "histogram2d": [
           {
            "colorbar": {
             "outlinewidth": 0,
             "ticks": ""
            },
            "colorscale": [
             [
              0,
              "#0d0887"
             ],
             [
              0.1111111111111111,
              "#46039f"
             ],
             [
              0.2222222222222222,
              "#7201a8"
             ],
             [
              0.3333333333333333,
              "#9c179e"
             ],
             [
              0.4444444444444444,
              "#bd3786"
             ],
             [
              0.5555555555555556,
              "#d8576b"
             ],
             [
              0.6666666666666666,
              "#ed7953"
             ],
             [
              0.7777777777777778,
              "#fb9f3a"
             ],
             [
              0.8888888888888888,
              "#fdca26"
             ],
             [
              1,
              "#f0f921"
             ]
            ],
            "type": "histogram2d"
           }
          ],
          "histogram2dcontour": [
           {
            "colorbar": {
             "outlinewidth": 0,
             "ticks": ""
            },
            "colorscale": [
             [
              0,
              "#0d0887"
             ],
             [
              0.1111111111111111,
              "#46039f"
             ],
             [
              0.2222222222222222,
              "#7201a8"
             ],
             [
              0.3333333333333333,
              "#9c179e"
             ],
             [
              0.4444444444444444,
              "#bd3786"
             ],
             [
              0.5555555555555556,
              "#d8576b"
             ],
             [
              0.6666666666666666,
              "#ed7953"
             ],
             [
              0.7777777777777778,
              "#fb9f3a"
             ],
             [
              0.8888888888888888,
              "#fdca26"
             ],
             [
              1,
              "#f0f921"
             ]
            ],
            "type": "histogram2dcontour"
           }
          ],
          "mesh3d": [
           {
            "colorbar": {
             "outlinewidth": 0,
             "ticks": ""
            },
            "type": "mesh3d"
           }
          ],
          "parcoords": [
           {
            "line": {
             "colorbar": {
              "outlinewidth": 0,
              "ticks": ""
             }
            },
            "type": "parcoords"
           }
          ],
          "pie": [
           {
            "automargin": true,
            "type": "pie"
           }
          ],
          "scatter": [
           {
            "fillpattern": {
             "fillmode": "overlay",
             "size": 10,
             "solidity": 0.2
            },
            "type": "scatter"
           }
          ],
          "scatter3d": [
           {
            "line": {
             "colorbar": {
              "outlinewidth": 0,
              "ticks": ""
             }
            },
            "marker": {
             "colorbar": {
              "outlinewidth": 0,
              "ticks": ""
             }
            },
            "type": "scatter3d"
           }
          ],
          "scattercarpet": [
           {
            "marker": {
             "colorbar": {
              "outlinewidth": 0,
              "ticks": ""
             }
            },
            "type": "scattercarpet"
           }
          ],
          "scattergeo": [
           {
            "marker": {
             "colorbar": {
              "outlinewidth": 0,
              "ticks": ""
             }
            },
            "type": "scattergeo"
           }
          ],
          "scattergl": [
           {
            "marker": {
             "colorbar": {
              "outlinewidth": 0,
              "ticks": ""
             }
            },
            "type": "scattergl"
           }
          ],
          "scattermapbox": [
           {
            "marker": {
             "colorbar": {
              "outlinewidth": 0,
              "ticks": ""
             }
            },
            "type": "scattermapbox"
           }
          ],
          "scatterpolar": [
           {
            "marker": {
             "colorbar": {
              "outlinewidth": 0,
              "ticks": ""
             }
            },
            "type": "scatterpolar"
           }
          ],
          "scatterpolargl": [
           {
            "marker": {
             "colorbar": {
              "outlinewidth": 0,
              "ticks": ""
             }
            },
            "type": "scatterpolargl"
           }
          ],
          "scatterternary": [
           {
            "marker": {
             "colorbar": {
              "outlinewidth": 0,
              "ticks": ""
             }
            },
            "type": "scatterternary"
           }
          ],
          "surface": [
           {
            "colorbar": {
             "outlinewidth": 0,
             "ticks": ""
            },
            "colorscale": [
             [
              0,
              "#0d0887"
             ],
             [
              0.1111111111111111,
              "#46039f"
             ],
             [
              0.2222222222222222,
              "#7201a8"
             ],
             [
              0.3333333333333333,
              "#9c179e"
             ],
             [
              0.4444444444444444,
              "#bd3786"
             ],
             [
              0.5555555555555556,
              "#d8576b"
             ],
             [
              0.6666666666666666,
              "#ed7953"
             ],
             [
              0.7777777777777778,
              "#fb9f3a"
             ],
             [
              0.8888888888888888,
              "#fdca26"
             ],
             [
              1,
              "#f0f921"
             ]
            ],
            "type": "surface"
           }
          ],
          "table": [
           {
            "cells": {
             "fill": {
              "color": "#EBF0F8"
             },
             "line": {
              "color": "white"
             }
            },
            "header": {
             "fill": {
              "color": "#C8D4E3"
             },
             "line": {
              "color": "white"
             }
            },
            "type": "table"
           }
          ]
         },
         "layout": {
          "annotationdefaults": {
           "arrowcolor": "#2a3f5f",
           "arrowhead": 0,
           "arrowwidth": 1
          },
          "autotypenumbers": "strict",
          "coloraxis": {
           "colorbar": {
            "outlinewidth": 0,
            "ticks": ""
           }
          },
          "colorscale": {
           "diverging": [
            [
             0,
             "#8e0152"
            ],
            [
             0.1,
             "#c51b7d"
            ],
            [
             0.2,
             "#de77ae"
            ],
            [
             0.3,
             "#f1b6da"
            ],
            [
             0.4,
             "#fde0ef"
            ],
            [
             0.5,
             "#f7f7f7"
            ],
            [
             0.6,
             "#e6f5d0"
            ],
            [
             0.7,
             "#b8e186"
            ],
            [
             0.8,
             "#7fbc41"
            ],
            [
             0.9,
             "#4d9221"
            ],
            [
             1,
             "#276419"
            ]
           ],
           "sequential": [
            [
             0,
             "#0d0887"
            ],
            [
             0.1111111111111111,
             "#46039f"
            ],
            [
             0.2222222222222222,
             "#7201a8"
            ],
            [
             0.3333333333333333,
             "#9c179e"
            ],
            [
             0.4444444444444444,
             "#bd3786"
            ],
            [
             0.5555555555555556,
             "#d8576b"
            ],
            [
             0.6666666666666666,
             "#ed7953"
            ],
            [
             0.7777777777777778,
             "#fb9f3a"
            ],
            [
             0.8888888888888888,
             "#fdca26"
            ],
            [
             1,
             "#f0f921"
            ]
           ],
           "sequentialminus": [
            [
             0,
             "#0d0887"
            ],
            [
             0.1111111111111111,
             "#46039f"
            ],
            [
             0.2222222222222222,
             "#7201a8"
            ],
            [
             0.3333333333333333,
             "#9c179e"
            ],
            [
             0.4444444444444444,
             "#bd3786"
            ],
            [
             0.5555555555555556,
             "#d8576b"
            ],
            [
             0.6666666666666666,
             "#ed7953"
            ],
            [
             0.7777777777777778,
             "#fb9f3a"
            ],
            [
             0.8888888888888888,
             "#fdca26"
            ],
            [
             1,
             "#f0f921"
            ]
           ]
          },
          "colorway": [
           "#636efa",
           "#EF553B",
           "#00cc96",
           "#ab63fa",
           "#FFA15A",
           "#19d3f3",
           "#FF6692",
           "#B6E880",
           "#FF97FF",
           "#FECB52"
          ],
          "font": {
           "color": "#2a3f5f"
          },
          "geo": {
           "bgcolor": "white",
           "lakecolor": "white",
           "landcolor": "#E5ECF6",
           "showlakes": true,
           "showland": true,
           "subunitcolor": "white"
          },
          "hoverlabel": {
           "align": "left"
          },
          "hovermode": "closest",
          "mapbox": {
           "style": "light"
          },
          "paper_bgcolor": "white",
          "plot_bgcolor": "#E5ECF6",
          "polar": {
           "angularaxis": {
            "gridcolor": "white",
            "linecolor": "white",
            "ticks": ""
           },
           "bgcolor": "#E5ECF6",
           "radialaxis": {
            "gridcolor": "white",
            "linecolor": "white",
            "ticks": ""
           }
          },
          "scene": {
           "xaxis": {
            "backgroundcolor": "#E5ECF6",
            "gridcolor": "white",
            "gridwidth": 2,
            "linecolor": "white",
            "showbackground": true,
            "ticks": "",
            "zerolinecolor": "white"
           },
           "yaxis": {
            "backgroundcolor": "#E5ECF6",
            "gridcolor": "white",
            "gridwidth": 2,
            "linecolor": "white",
            "showbackground": true,
            "ticks": "",
            "zerolinecolor": "white"
           },
           "zaxis": {
            "backgroundcolor": "#E5ECF6",
            "gridcolor": "white",
            "gridwidth": 2,
            "linecolor": "white",
            "showbackground": true,
            "ticks": "",
            "zerolinecolor": "white"
           }
          },
          "shapedefaults": {
           "line": {
            "color": "#2a3f5f"
           }
          },
          "ternary": {
           "aaxis": {
            "gridcolor": "white",
            "linecolor": "white",
            "ticks": ""
           },
           "baxis": {
            "gridcolor": "white",
            "linecolor": "white",
            "ticks": ""
           },
           "bgcolor": "#E5ECF6",
           "caxis": {
            "gridcolor": "white",
            "linecolor": "white",
            "ticks": ""
           }
          },
          "title": {
           "x": 0.05
          },
          "xaxis": {
           "automargin": true,
           "gridcolor": "white",
           "linecolor": "white",
           "ticks": "",
           "title": {
            "standoff": 15
           },
           "zerolinecolor": "white",
           "zerolinewidth": 2
          },
          "yaxis": {
           "automargin": true,
           "gridcolor": "white",
           "linecolor": "white",
           "ticks": "",
           "title": {
            "standoff": 15
           },
           "zerolinecolor": "white",
           "zerolinewidth": 2
          }
         }
        },
        "title": {
         "text": "Years of Life Lost for Scenario: Prioritise those 50-60 then 60-70, then 75+"
        },
        "width": 800,
        "xaxis": {
         "linecolor": "black"
        },
        "yaxis": {
         "linecolor": "black"
        }
       }
      }
     },
     "metadata": {},
     "output_type": "display_data"
    }
   ],
   "source": [
    "# Trace names - represent the solver used for the simulation\n",
    "trace_name = ['region {}'.format(r) for r in regions]\n",
    "\n",
    "# Plot for each boosting scenario\n",
    "for s, scenario in enumerate(scenario_names):\n",
    "    fig = go.Figure()\n",
    "    # Plot (line plot for each solver method for each age)\n",
    "    for r, reg in enumerate(regions):\n",
    "        fig.add_trace(\n",
    "            go.Scatter(\n",
    "                y=total_years_of_life_lost_mean[r][s, :],\n",
    "                x=parameters.simulation_parameters.times,\n",
    "                mode='lines',\n",
    "                name=trace_name[r],\n",
    "                line_color=colours[r],\n",
    "            )\n",
    "        )\n",
    "\n",
    "        fig.add_trace(\n",
    "            go.Scatter(\n",
    "                y=total_years_of_life_lost_upper[r][s, :].tolist() + total_years_of_life_lost_lower[r][s, :].tolist()[::-1],\n",
    "                x=parameters.simulation_parameters.times + parameters.simulation_parameters.times[::-1],\n",
    "                mode='lines',\n",
    "                name=trace_name[r],\n",
    "                fill='toself',\n",
    "                fillcolor=colours[r],\n",
    "                line_color=colours[r],\n",
    "                opacity=0.15,\n",
    "            )\n",
    "        )\n",
    "\n",
    "    # Add axis labels\n",
    "    fig.update_layout(\n",
    "        boxmode='group',\n",
    "        title='Years of Life Lost for Scenario: {}'.format(scenario),\n",
    "        width=800,\n",
    "        plot_bgcolor='white',\n",
    "        xaxis=dict(linecolor='black'),\n",
    "        yaxis=dict(linecolor='black'),\n",
    "        legend=dict(\n",
    "            orientation=\"h\",\n",
    "            yanchor=\"bottom\",\n",
    "            y=1.02,\n",
    "            xanchor=\"right\",\n",
    "            x=1\n",
    "        ))\n",
    "\n",
    "    fig.write_image('images/Years of Life Lost Scenario {}.pdf'.format(s+1))\n",
    "    fig.show()"
   ]
  }
 ],
 "metadata": {
  "interpreter": {
   "hash": "68071bb08c320916033ffa6702342928cea5ba8baa6ee7305e5c9ae08c2309c8"
  },
  "kernelspec": {
   "display_name": "Python 3.10.8 64-bit ('warwick': conda)",
   "name": "python3"
  },
  "language_info": {
   "codemirror_mode": {
    "name": "ipython",
    "version": 3
   },
   "file_extension": ".py",
   "mimetype": "text/x-python",
   "name": "python",
   "nbconvert_exporter": "python",
   "pygments_lexer": "ipython3",
   "version": "3.10.8"
  },
  "orig_nbformat": 4
 },
 "nbformat": 4,
 "nbformat_minor": 2
}
